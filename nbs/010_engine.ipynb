{
 "cells": [
  {
   "cell_type": "markdown",
   "metadata": {},
   "source": [
    "# Engine\n",
    "> Execution spannerlog commands"
   ]
  },
  {
   "cell_type": "code",
   "execution_count": null,
   "metadata": {},
   "outputs": [],
   "source": [
    "#| default_exp engine"
   ]
  },
  {
   "cell_type": "code",
   "execution_count": null,
   "metadata": {},
   "outputs": [],
   "source": [
    "#| hide\n",
    "from nbdev.showdoc import show_doc\n",
    "from IPython.display import display, HTML\n",
    "%load_ext autoreload\n",
    "%autoreload 2"
   ]
  },
  {
   "cell_type": "code",
   "execution_count": null,
   "metadata": {},
   "outputs": [
    {
     "ename": "SyntaxError",
     "evalue": "invalid syntax (1609778314.py, line 19)",
     "output_type": "error",
     "traceback": [
      "\u001b[0;36m  Cell \u001b[0;32mIn[3], line 19\u001b[0;36m\u001b[0m\n\u001b[0;31m    from spannerlib.term_graph import 'graph_compose', 'merge_term_graphs_pair'\u001b[0m\n\u001b[0m                                      ^\u001b[0m\n\u001b[0;31mSyntaxError\u001b[0m\u001b[0;31m:\u001b[0m invalid syntax\n"
     ]
    }
   ],
   "source": [
    "#| export\n",
    "from abc import ABC, abstractmethod\n",
    "import pytest\n",
    "from collections import defaultdict\n",
    "\n",
    "import pandas as pd\n",
    "from pathlib import Path\n",
    "from typing import no_type_check, Set, Sequence, Any,Optional,List,Callable,Dict,Union\n",
    "from pydantic import BaseModel\n",
    "import networkx as nx\n",
    "import itertools\n",
    "from graph_rewrite import draw, draw_match, rewrite, rewrite_iter\n",
    "from spannerlib.utils import serialize_graph,serialize_df_values,checkLogs,get_new_node_name\n",
    "from spannerlib.span import Span,SpanParser\n",
    "from spannerlib.data_types import (\n",
    "    Var, FreeVar, RelationDefinition, Relation, IEFunction,\n",
    "           IERelation, Rule, pretty\n",
    ")\n",
    "from spannerlib.term_graph import graph_compose, merge_term_graphs_pair\n",
    "\n",
    "import logging\n",
    "logger = logging.getLogger(__name__)"
   ]
  },
  {
   "cell_type": "markdown",
   "metadata": {},
   "source": [
    "## Helper functions"
   ]
  },
  {
   "cell_type": "code",
   "execution_count": null,
   "metadata": {},
   "outputs": [],
   "source": [
    "#| export\n",
    "def _pd_drop_row(df,row_vals):\n",
    "    new_df = df[(df!=row_vals).all(axis=1)]\n",
    "    return new_df\n",
    "\n",
    "def _pd_append_row(df,row_vals):\n",
    "    return pd.concat([df,pd.DataFrame([row_vals],columns=df.columns)])"
   ]
  },
  {
   "cell_type": "code",
   "execution_count": null,
   "metadata": {},
   "outputs": [],
   "source": [
    "df = pd.DataFrame([\n",
    "    [1,'2fs'],[3,4]\n",
    "])\n",
    "assert list(_pd_drop_row(df,[3,4]).itertuples(index=False,name=None))==[(1,'2fs')]\n",
    "assert list(_pd_append_row(df,[5,6]).itertuples(index=False,name=None)) == [(1, '2fs'), (3, 4), (5, 6)]"
   ]
  },
  {
   "cell_type": "code",
   "execution_count": null,
   "metadata": {},
   "outputs": [],
   "source": [
    "#| export\n",
    "class DB(dict):\n",
    "    def __repr__(self):\n",
    "        key_str=', '.join(self.keys())\n",
    "        return f'DB({key_str})'"
   ]
  },
  {
   "cell_type": "markdown",
   "metadata": {},
   "source": [
    "## Engine Class"
   ]
  },
  {
   "cell_type": "code",
   "execution_count": null,
   "metadata": {},
   "outputs": [],
   "source": [
    "#| export\n",
    "from copy import deepcopy\n",
    "class Engine():\n",
    "    def __init__(self,rewrites=None):\n",
    "        if rewrites is None:\n",
    "            self.rewrites = []\n",
    "        self.symbol_table={\n",
    "            # key : type,val\n",
    "        }\n",
    "        self.Relation_defs={\n",
    "            # key : RelationDefinition for both real and derived relations\n",
    "        }\n",
    "        self.ie_functions={\n",
    "            # name : IEFunction class\n",
    "        }\n",
    "\n",
    "        self.term_graph = nx.DiGraph()\n",
    "        \n",
    "        self.node_counter = itertools.count()\n",
    "        self.rule_counter = itertools.count()\n",
    "\n",
    "        self.db = DB(\n",
    "            # relation_name: dataframe\n",
    "        )\n",
    "\n",
    "        # lets skip this for now and keep it a an attribute in the node graph\n",
    "        self.rules_to_ids = {\n",
    "            # rule pretty string, to node id in term_graph\n",
    "        }\n",
    "\n",
    "        # self.rels_to_nodes() = {\n",
    "        #     # relation name to node that represents it\n",
    "        # }\n",
    "    \n",
    "\n",
    "    def set_var(self,var_name,value,read_from_file=False):\n",
    "        symbol_table = self.symbol_table\n",
    "        if var_name in symbol_table:\n",
    "            existing_type,existing_value = symbol_table[var_name]\n",
    "            if type(value) != existing_type:\n",
    "                raise ValueError(f\"Variable {var_name} was previously defined with {existing_value}({pretty(existing_type)})\"\n",
    "                                f\" but is trying to be redefined to {value}({pretty(type(value))}) of a different type which might interfere with previous rule definitions\")    \n",
    "        symbol_table[var_name] = type(value),value\n",
    "        return\n",
    "    def get_var(self,var_name):\n",
    "        return self.symbol_table.get(var_name,None)\n",
    "    \n",
    "    def del_var(self,var_name):\n",
    "        del self.symbol_table[var_name]\n",
    "\n",
    "    def get_relation(self,rel_name:str):\n",
    "        return self.Relation_defs.get(rel_name,None)\n",
    "\n",
    "    def set_relation(self,rel_def:RelationDefinition):\n",
    "        if rel_def.name in self.Relation_defs:\n",
    "            existing_def = self.Relation_defs[rel_def.name]\n",
    "            if existing_def != rel_def:\n",
    "                raise ValueError(f\"Relation {rel_def.name} was previously defined with {existing_def}\"\n",
    "                                f\"but is trying to be redefined to {rel_def} which might interfere with previous rule definitions\")\n",
    "        else:\n",
    "            self.Relation_defs[rel_def.name] = rel_def\n",
    "            #TODO fix make sure that the empty df has the correct types based on the rel_def\n",
    "            empty_df = pd.DataFrame(columns=self._col_names(len(rel_def.scheme)))\n",
    "            self.db[rel_def.name] = empty_df\n",
    "            self.term_graph.add_node(rel_def.name,rel=rel_def.name)\n",
    "\n",
    "    def del_relation(self,rel_name:str):\n",
    "        # TODO we need to think about what to do with all relations that used this rule\n",
    "        raise NotImplementedError(\"deleting relations is not supported yet\")\n",
    "        return\n",
    "\n",
    "    def add_fact(self,fact:Relation):\n",
    "        self.db[fact.name] = _pd_append_row(self.db[fact.name],fact.terms)\n",
    "\n",
    "    def add_facts(self,rel_name,facts:pd.DataFrame):\n",
    "        facts= facts.copy()\n",
    "        facts.columns = self._col_names(len(facts.columns))\n",
    "        self.db[rel_name] = pd.concat([self.db[rel_name],facts])\n",
    "\n",
    "    def del_fact(self,fact:Relation):\n",
    "        self.db[fact.name] = _pd_drop_row(df = self.db[fact.name],row_vals=fact.terms)\n",
    "\n",
    "    def get_ie_function(self,name:str):\n",
    "        return self.ie_functions.get(name,None)\n",
    "\n",
    "    def set_ie_function(self,ie_func:IEFunction):\n",
    "        self.ie_functions[ie_func.name]=ie_func\n",
    "\n",
    "    def del_ie_function(self,name:str):\n",
    "        del self.ie_functions[name]\n",
    "\n",
    "    def add_rule(self,rule:Rule,schema:RelationDefinition=None):\n",
    "        if not self.get_relation(rule.head.name) and schema is None:\n",
    "            raise ValueError(f\"Relation {rule.head.name} not defined before adding the rule with it's head\\n\"\n",
    "                             f\"And an relation schema was not supplied.\"\n",
    "                             f\"existing relations are {self.Relation_defs.keys()}\")\n",
    "\n",
    "        if not schema is None:\n",
    "            self.set_relation(schema)\n",
    "\n",
    "        rule_id = next(self.rule_counter)\n",
    "\n",
    "        self.rules_to_ids[pretty(rule)] = rule_id\n",
    "\n",
    "        g2 = _rule_to_term_graph(rule,rule_id)\n",
    "\n",
    "        merge_term_graph = merge_term_graphs_pair(self.term_graph,g2)\n",
    "        self.term_graph = merge_term_graph\n",
    "        \n",
    "\n",
    "    def del_rule(self,rule_str:str):\n",
    "        if not rule_str in self.rules_to_ids:\n",
    "            raise ValueError(f\"Rule {rule_str} does not exist\\n\"\n",
    "                             f\"existing rules are {self.rules_to_ids.keys()}\")\n",
    "        rule_id = self.rules_to_ids[rule_str]\n",
    "        g = self.term_graph\n",
    "        nodes_to_delete=[]\n",
    "        for u in g.nodes:\n",
    "            node_rule_ids = g.nodes[u].get('rule_id',set())\n",
    "            if rule_id in node_rule_ids:\n",
    "                node_rule_ids.remove(rule_id)\n",
    "                if len(node_rule_ids) == 0:\n",
    "                    nodes_to_delete.append(u)\n",
    "        g.remove_nodes_from(nodes_to_delete)\n",
    "            \n",
    "        return\n",
    "\n",
    "    def _inline_db_and_ies_in_graph(self,g:nx.DiGraph):\n",
    "        g=deepcopy(g)\n",
    "        for u in g.nodes:\n",
    "            if g.out_degree(u)==0:\n",
    "                g.nodes[u]['op'] = 'get_rel'\n",
    "                g.nodes[u]['db'] = self.db\n",
    "            elif g.nodes[u]['op'] == 'calc':\n",
    "                ie_func_name = g.nodes[u]['func']\n",
    "                g.nodes[u]['func'] = self.ie_functions[ie_func_name].func\n",
    "                g.nodes[u]['out_schema'] = self.ie_functions[ie_func_name].out_schema\n",
    "        return g\n",
    "\n",
    "\n",
    "    def plan_query(self,q_rel:Relation,rewrites=None):\n",
    "        if rewrites is None:\n",
    "            rewrites = self.rewrites\n",
    "        query_graph = self._inline_db_and_ies_in_graph(self.term_graph)\n",
    "\n",
    "        # get the sub term graph induced by the relation head\n",
    "        root_node = q_rel.name\n",
    "        connected_nodes = list(nx.shortest_path(query_graph,root_node).keys())\n",
    "        query_graph = nx.DiGraph(nx.subgraph(query_graph,connected_nodes))\n",
    "        \n",
    "        # based on the asked relation, add:\n",
    "        # select node if there are constants\n",
    "        # project node to project to the remaining free variables\n",
    "        # rename node to rename the cols to the Free vars the query is asking for\n",
    "        select_node = _select_if_needed(query_graph,get_new_node_name(query_graph),root_node,q_rel.terms)\n",
    "        rename_node = get_new_node_name(query_graph)\n",
    "        query_graph.add_node(rename_node, op='rename',names=[(i,term.name) for i,term in enumerate(q_rel.terms) if isinstance(term,FreeVar)])\n",
    "        query_graph.add_edge(rename_node,select_node)\n",
    "        project_node = get_new_node_name(query_graph)\n",
    "        query_graph.add_node(project_node, op='project', on=[term.name for term in q_rel.terms if isinstance(term,FreeVar)])\n",
    "        query_graph.add_edge(project_node,rename_node)\n",
    "\n",
    "        # TODO for all rewrites, run them\n",
    "        return query_graph,project_node\n",
    "\n",
    "    def execute_plan(self,query_graph,root_node,return_intermediate=False):\n",
    "        results_dict = defaultdict(list)\n",
    "        results = compute_node(query_graph,root_node,results_dict)\n",
    "        if return_intermediate:\n",
    "            return results,results_dict\n",
    "        else:\n",
    "            return results\n",
    "\n",
    "    def run_query(self,q:Relation,rewrites=None,return_intermediate=False):\n",
    "        query_graph,root_node = self.plan_query(q,rewrites)\n",
    "        return self.execute_plan(query_graph,root_node,return_intermediate=return_intermediate)\n"
   ]
  },
  {
   "cell_type": "markdown",
   "metadata": {},
   "source": [
    "### Test"
   ]
  },
  {
   "cell_type": "code",
   "execution_count": null,
   "metadata": {},
   "outputs": [],
   "source": [
    "s = pd.DataFrame([\n",
    "    [1,1],\n",
    "    [2,2],\n",
    "    [3,3],\n",
    "    [4,4]\n",
    "])\n",
    "\n",
    "s2 = pd.DataFrame([\n",
    "    [1,2,3],\n",
    "    [2,3,4],\n",
    "    [3,4,5],\n",
    "    [4,5,6]\n",
    "])"
   ]
  },
  {
   "cell_type": "code",
   "execution_count": null,
   "metadata": {},
   "outputs": [],
   "source": [
    "r1 = Rule(\n",
    "    head=Relation(name='R', terms=[FreeVar(name='X'), FreeVar(name='Y')]),\n",
    "    body=[\n",
    "        Relation(name='S', terms=[FreeVar(name='X'),FreeVar(name='Y')]),\n",
    "        Relation(name='S2', terms=[FreeVar(name='X'), FreeVar(name='A'),3]),\n",
    "    ])\n",
    "\n",
    "r2 = Rule(\n",
    "    head=Relation(name='R', terms=[FreeVar(name='X'), FreeVar(name='Y')]),\n",
    "    body=[\n",
    "        Relation(name='S', terms=[FreeVar(name='X'),FreeVar(name='Y')]),\n",
    "        IERelation(name='T', in_terms=[FreeVar(name='X'),FreeVar(name='Y')], out_terms=[FreeVar(name='X'),FreeVar(name='Y')]),\n",
    "    ])\n",
    "\n",
    "r3 = Rule(\n",
    "    head=Relation(name='R2', terms=[FreeVar(name='X'), FreeVar(name='Y')]),\n",
    "    body=[\n",
    "        Relation(name='S3', terms=[FreeVar(name='X'),FreeVar(name='Y')]),\n",
    "        Relation(name='S2', terms=[FreeVar(name='X'), FreeVar(name='A'),1]),\n",
    "    ])\n",
    "\n",
    "\n",
    "rec_r1 = Rule(\n",
    "    head=Relation(name='A', terms=[FreeVar(name='X'), FreeVar(name='Y')]),\n",
    "    body=[\n",
    "        Relation(name='B', terms=[FreeVar(name='X'),FreeVar(name='Y')]),\n",
    "    ])\n",
    "\n",
    "rec_r2 = Rule(\n",
    "    head=Relation(name='A', terms=[FreeVar(name='X'), FreeVar(name='Y')]),\n",
    "    body=[\n",
    "        Relation(name='C', terms=[FreeVar(name='X'),FreeVar(name='Y')]),\n",
    "    ])\n",
    "\n",
    "rec_r3 = Rule(\n",
    "    head=Relation(name='B', terms=[FreeVar(name='X'), FreeVar(name='Y')]),\n",
    "    body=[\n",
    "        Relation(name='D', terms=[FreeVar(name='X'),FreeVar(name='Y')]),\n",
    "    ])\n",
    "\n",
    "rec_r4 = Rule(\n",
    "    head=Relation(name='B', terms=[FreeVar(name='X'), FreeVar(name='Y')]),\n",
    "    body=[\n",
    "        Relation(name='A', terms=[FreeVar(name='X'),FreeVar(name='Y')]),\n",
    "    ])\n"
   ]
  },
  {
   "cell_type": "code",
   "execution_count": null,
   "metadata": {},
   "outputs": [],
   "source": [
    "e = Engine()\n",
    "e.set_relation(RelationDefinition(name='S', scheme=[int,int]))\n",
    "e.set_relation(RelationDefinition(name='S2', scheme=[int,int,int]))\n",
    "e.set_relation(RelationDefinition(name='S3', scheme=[int,int]))\n",
    "\n",
    "e.add_rule(r1,RelationDefinition(name='R', scheme=[int,int]))\n",
    "e.add_rule(r2,RelationDefinition(name='R', scheme=[int,int]))\n",
    "e.add_rule(r3,RelationDefinition(name='R2', scheme=[int,int]))"
   ]
  },
  {
   "cell_type": "code",
   "execution_count": null,
   "metadata": {},
   "outputs": [],
   "source": [
    "e.add_facts('S',s)\n",
    "e.add_facts('S2',s2)"
   ]
  },
  {
   "cell_type": "code",
   "execution_count": null,
   "metadata": {},
   "outputs": [
    {
     "data": {
      "text/html": [
       "<div>\n",
       "<style scoped>\n",
       "    .dataframe tbody tr th:only-of-type {\n",
       "        vertical-align: middle;\n",
       "    }\n",
       "\n",
       "    .dataframe tbody tr th {\n",
       "        vertical-align: top;\n",
       "    }\n",
       "\n",
       "    .dataframe thead th {\n",
       "        text-align: right;\n",
       "    }\n",
       "</style>\n",
       "<table border=\"1\" class=\"dataframe\">\n",
       "  <thead>\n",
       "    <tr style=\"text-align: right;\">\n",
       "      <th></th>\n",
       "      <th>col0</th>\n",
       "      <th>col1</th>\n",
       "    </tr>\n",
       "  </thead>\n",
       "  <tbody>\n",
       "    <tr>\n",
       "      <th>0</th>\n",
       "      <td>1</td>\n",
       "      <td>1</td>\n",
       "    </tr>\n",
       "    <tr>\n",
       "      <th>1</th>\n",
       "      <td>2</td>\n",
       "      <td>2</td>\n",
       "    </tr>\n",
       "    <tr>\n",
       "      <th>2</th>\n",
       "      <td>3</td>\n",
       "      <td>3</td>\n",
       "    </tr>\n",
       "    <tr>\n",
       "      <th>3</th>\n",
       "      <td>4</td>\n",
       "      <td>4</td>\n",
       "    </tr>\n",
       "  </tbody>\n",
       "</table>\n",
       "</div>"
      ],
      "text/plain": [
       "  col0 col1\n",
       "0    1    1\n",
       "1    2    2\n",
       "2    3    3\n",
       "3    4    4"
      ]
     },
     "execution_count": null,
     "metadata": {},
     "output_type": "execute_result"
    }
   ],
   "source": [
    "e.db['S']"
   ]
  },
  {
   "cell_type": "code",
   "execution_count": null,
   "metadata": {},
   "outputs": [
    {
     "data": {
      "text/html": [
       "<div>\n",
       "<style scoped>\n",
       "    .dataframe tbody tr th:only-of-type {\n",
       "        vertical-align: middle;\n",
       "    }\n",
       "\n",
       "    .dataframe tbody tr th {\n",
       "        vertical-align: top;\n",
       "    }\n",
       "\n",
       "    .dataframe thead th {\n",
       "        text-align: right;\n",
       "    }\n",
       "</style>\n",
       "<table border=\"1\" class=\"dataframe\">\n",
       "  <thead>\n",
       "    <tr style=\"text-align: right;\">\n",
       "      <th></th>\n",
       "      <th>col0</th>\n",
       "      <th>col1</th>\n",
       "      <th>col2</th>\n",
       "    </tr>\n",
       "  </thead>\n",
       "  <tbody>\n",
       "    <tr>\n",
       "      <th>0</th>\n",
       "      <td>1</td>\n",
       "      <td>2</td>\n",
       "      <td>3</td>\n",
       "    </tr>\n",
       "    <tr>\n",
       "      <th>1</th>\n",
       "      <td>2</td>\n",
       "      <td>3</td>\n",
       "      <td>4</td>\n",
       "    </tr>\n",
       "    <tr>\n",
       "      <th>2</th>\n",
       "      <td>3</td>\n",
       "      <td>4</td>\n",
       "      <td>5</td>\n",
       "    </tr>\n",
       "    <tr>\n",
       "      <th>3</th>\n",
       "      <td>4</td>\n",
       "      <td>5</td>\n",
       "      <td>6</td>\n",
       "    </tr>\n",
       "  </tbody>\n",
       "</table>\n",
       "</div>"
      ],
      "text/plain": [
       "  col0 col1 col2\n",
       "0    1    2    3\n",
       "1    2    3    4\n",
       "2    3    4    5\n",
       "3    4    5    6"
      ]
     },
     "execution_count": null,
     "metadata": {},
     "output_type": "execute_result"
    }
   ],
   "source": [
    "e.db['S2']"
   ]
  },
  {
   "cell_type": "code",
   "execution_count": null,
   "metadata": {},
   "outputs": [
    {
     "data": {
      "text/html": [
       "<img src=\"https://mermaid.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\"/>"
      ],
      "text/plain": [
       "<IPython.core.display.Image object>"
      ]
     },
     "metadata": {},
     "output_type": "display_data"
    }
   ],
   "source": [
    "draw(e.term_graph)"
   ]
  },
  {
   "cell_type": "code",
   "execution_count": null,
   "metadata": {},
   "outputs": [
    {
     "data": {
      "text/plain": [
       "{'R(X,Y) <- S(X,Y),S2(X,A,3)': 0,\n",
       " 'R(X,Y) <- S(X,Y),T(X,Y) -> (X,Y)': 1,\n",
       " 'R2(X,Y) <- S3(X,Y),S2(X,A,1)': 2}"
      ]
     },
     "execution_count": null,
     "metadata": {},
     "output_type": "execute_result"
    }
   ],
   "source": [
    "e.rules_to_ids"
   ]
  },
  {
   "cell_type": "code",
   "execution_count": null,
   "metadata": {},
   "outputs": [],
   "source": [
    "e.del_rule(pretty(r3))"
   ]
  },
  {
   "cell_type": "code",
   "execution_count": null,
   "metadata": {},
   "outputs": [
    {
     "data": {
      "text/html": [
       "<img src=\"https://mermaid.ink/img/CmZsb3djaGFydCBUQgpTWyJTCnJlbD0jcXVvdDtTI3F1b3Q7LCBydWxlX2lkPXswLCAxfSJdClMyWyJTMgpyZWw9I3F1b3Q7UzIjcXVvdDssIHJ1bGVfaWQ9ezB9Il0KUlsiUgpyZWw9I3F1b3Q7UiNxdW90Oywgb3A9I3F1b3Q7dW5pb24jcXVvdDssIHJ1bGVfaWQ9ezAsIDF9Il0KMFsiMApvcD0jcXVvdDtyZW5hbWUjcXVvdDssIG5hbWVzPVsoMCwgI3F1b3Q7WCNxdW90OyksICgxLCAjcXVvdDtZI3F1b3Q7KV0sIHJ1bGVfaWQ9ezB9Il0KMVsiMQpvcD0jcXVvdDtyZW5hbWUjcXVvdDssIG5hbWVzPVsoMCwgI3F1b3Q7WCNxdW90OyksICgxLCAjcXVvdDtBI3F1b3Q7KV0sIHJ1bGVfaWQ9ezB9Il0KMlsiMgpvcD0jcXVvdDtzZWxlY3QjcXVvdDssIHRoZXRhPVsoMiwgMyldLCBydWxlX2lkPXswfSJdCjNbIjMKb3A9I3F1b3Q7am9pbiNxdW90OywgcnVsZV9pZD17MH0iXQo0WyI0Cm9wPSNxdW90O3Byb2plY3QjcXVvdDssIG9uPVsjcXVvdDtYI3F1b3Q7LCAjcXVvdDtZI3F1b3Q7XSwgcmVsPSNxdW90O19SXzAjcXVvdDssIHJ1bGVfaWQ9ezB9Il0KOFsiOApvcD0jcXVvdDtyZW5hbWUjcXVvdDssIG5hbWVzPVsoMCwgI3F1b3Q7WCNxdW90OyksICgxLCAjcXVvdDtZI3F1b3Q7KV0sIHJ1bGVfaWQ9ezF9Il0KOVsiOQpvcD0jcXVvdDtwcm9qZWN0I3F1b3Q7LCBvbj1bI3F1b3Q7WCNxdW90OywgI3F1b3Q7WSNxdW90O10sIHJ1bGVfaWQ9ezF9Il0KMTBbIjEwCm9wPSNxdW90O2NhbGMjcXVvdDssIGZ1bmM9I3F1b3Q7VCNxdW90OywgcnVsZV9pZD17MX0iXQoxMVsiMTEKb3A9I3F1b3Q7cmVuYW1lI3F1b3Q7LCBuYW1lcz1bKDAsICNxdW90O1gjcXVvdDspLCAoMSwgI3F1b3Q7WSNxdW90OyldLCBydWxlX2lkPXsxfSJdCjZbIjYKb3A9I3F1b3Q7am9pbiNxdW90OywgcnVsZV9pZD17MX0iXQo3WyI3Cm9wPSNxdW90O3Byb2plY3QjcXVvdDssIG9uPVsjcXVvdDtYI3F1b3Q7LCAjcXVvdDtZI3F1b3Q7XSwgcmVsPSNxdW90O19SXzEjcXVvdDssIHJ1bGVfaWQ9ezF9Il0KUiAtLT4gNApSIC0tPiA3CjAgLS0+IFMKMSAtLT4gUzIKMiAtLT4gMQozIC0tPiAwCjMgLS0+IDIKNCAtLT4gMwo4IC0tPiBTCjkgLS0+IDgKMTAgLS0+IDkKMTEgLS0+IDEwCjYgLS0+IDgKNiAtLT4gMTEKNyAtLT4gNgo=\"/>"
      ],
      "text/plain": [
       "<IPython.core.display.Image object>"
      ]
     },
     "metadata": {},
     "output_type": "display_data"
    }
   ],
   "source": [
    "draw(e.term_graph)"
   ]
  },
  {
   "cell_type": "code",
   "execution_count": null,
   "metadata": {},
   "outputs": [],
   "source": [
    "assert serialize_graph(e.term_graph) ==([('S', {'rel': 'S', 'rule_id': {0, 1}}),\n",
    "  ('S2', {'rel': 'S2', 'rule_id': {0}}),\n",
    "  ('R', {'rel': 'R', 'op': 'union', 'rule_id': {0, 1}}),\n",
    "  (0, {'op': 'rename', 'names': [(0, 'X'), (1, 'Y')], 'rule_id': {0}}),\n",
    "  (1, {'op': 'rename', 'names': [(0, 'X'), (1, 'A')], 'rule_id': {0}}),\n",
    "  (2, {'op': 'select', 'theta': [(2, 3)], 'rule_id': {0}}),\n",
    "  (3, {'op': 'join', 'rule_id': {0}}),\n",
    "  (4, {'op': 'project', 'on': ['X', 'Y'], 'rel': '_R_0', 'rule_id': {0}}),\n",
    "  (8, {'op': 'rename', 'names': [(0, 'X'), (1, 'Y')], 'rule_id': {1}}),\n",
    "  (9, {'op': 'project', 'on': ['X', 'Y'], 'rule_id': {1}}),\n",
    "  (10, {'op': 'calc', 'func': 'T', 'rule_id': {1}}),\n",
    "  (11, {'op': 'rename', 'names': [(0, 'X'), (1, 'Y')], 'rule_id': {1}}),\n",
    "  (6, {'op': 'join', 'rule_id': {1}}),\n",
    "  (7, {'op': 'project', 'on': ['X', 'Y'], 'rel': '_R_1', 'rule_id': {1}})],\n",
    " [('R', 4, {}),\n",
    "  ('R', 7, {}),\n",
    "  (0, 'S', {}),\n",
    "  (1, 'S2', {}),\n",
    "  (2, 1, {}),\n",
    "  (3, 0, {}),\n",
    "  (3, 2, {}),\n",
    "  (4, 3, {}),\n",
    "  (8, 'S', {}),\n",
    "  (9, 8, {}),\n",
    "  (10, 9, {}),\n",
    "  (11, 10, {}),\n",
    "  (6, 8, {}),\n",
    "  (6, 11, {}),\n",
    "  (7, 6, {})])"
   ]
  },
  {
   "cell_type": "code",
   "execution_count": null,
   "metadata": {},
   "outputs": [],
   "source": [
    "e.add_rule(rec_r1,RelationDefinition(name='A', scheme=[int,int]))\n",
    "e.add_rule(rec_r2,RelationDefinition(name='A', scheme=[int,int]))\n",
    "e.add_rule(rec_r3,RelationDefinition(name='B', scheme=[int,int]))\n",
    "e.add_rule(rec_r4,RelationDefinition(name='B', scheme=[int,int]))\n"
   ]
  },
  {
   "cell_type": "code",
   "execution_count": null,
   "metadata": {},
   "outputs": [
    {
     "data": {
      "text/html": [
       "<img src=\"https://mermaid.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\"/>"
      ],
      "text/plain": [
       "<IPython.core.display.Image object>"
      ]
     },
     "metadata": {},
     "output_type": "display_data"
    }
   ],
   "source": [
    "draw(e.term_graph)"
   ]
  },
  {
   "cell_type": "markdown",
   "metadata": {},
   "source": [
    "## Naive execution"
   ]
  },
  {
   "cell_type": "markdown",
   "metadata": {},
   "source": [
    "A recursive least fixed point logic algorithm mimicing the bottom up evalutation."
   ]
  },
  {
   "cell_type": "code",
   "execution_count": null,
   "metadata": {},
   "outputs": [],
   "source": [
    "#| export\n",
    "\n",
    "def get_rel(rel,db,**kwargs):\n",
    "    # helper function to get the relation from the db for external relations\n",
    "    return db[rel]\n",
    "\n",
    "op_to_func = {\n",
    "    'union':union,\n",
    "    'intersection':intersection,\n",
    "    'difference':difference,\n",
    "    'select':select,\n",
    "    'project':project,\n",
    "    'rename':rename,\n",
    "    'join':join,\n",
    "    'calc':calc,\n",
    "    'get_rel':get_rel\n",
    "}"
   ]
  },
  {
   "cell_type": "code",
   "execution_count": null,
   "metadata": {},
   "outputs": [],
   "source": [
    "#| export\n",
    "def compute_node(G,u,results_dict):\n",
    "    \"\"\"\n",
    "    \"\"\"\n",
    "    global op_to_func\n",
    "    u_data = G.nodes[u]\n",
    "    if u_data.get('final',False):\n",
    "        return results_dict[u][-1]\n",
    "    \n",
    "\n",
    "    children_ids = list(G.successors(u))\n",
    "    children_data = [G.nodes[child_id] for child_id in children_ids]\n",
    "\n",
    "    if len(children_ids)==0:\n",
    "        all_children_final=True\n",
    "        children_results=[]\n",
    "        \n",
    "    else:\n",
    "        # this block helps avoid infinite recursion when we need to initialize the 0th iteration of a node in a cycle as the empty relation\n",
    "        if u_data.get('visited',False):\n",
    "            u_data['visited'] = True\n",
    "            results_dict[u].append(pd.DataFrame())\n",
    "            return pd.DataFrame()\n",
    "        u_data['visited'] =True\n",
    "        \n",
    "        children_results = [compute_node(G,child_id,results_dict) for child_id in children_ids]\n",
    "        all_children_final = all(child_data.get('final',False) for child_data in children_data)\n",
    "\n",
    "\n",
    "\n",
    "\n",
    "    op_code = u_data['op']\n",
    "    op_func = op_to_func[op_code]\n",
    "    logger.debug(f'computing node {u} with op {op_code} and children results {children_results} and data {u_data}')\n",
    "    current_results = op_func(*children_results,**u_data)\n",
    "    results_iter = len(results_dict[u])\n",
    "    logger.debug(f'node {u} results after iteration {results_iter} are {current_results}')\n",
    "    results_dict[u].append(current_results)\n",
    "\n",
    "    # if all children are final then we can mark this node as final\n",
    "    if all_children_final:\n",
    "        logger.debug(f'setting node {u} as final since all children are final')\n",
    "        u_data['final'] = True\n",
    "    # else check for fixed point\n",
    "    elif len(results_dict[u])>1:\n",
    "        this_res = results_dict[u][-1]\n",
    "        last_res = results_dict[u][-2]\n",
    "        if pd.DataFrame.equals(this_res,last_res):\n",
    "            logger.debug(f'setting node {u} as final since we reached a fixed point')\n",
    "            u_data['final'] = True\n",
    "        else:\n",
    "            u_data['final'] = False\n",
    "    # if this is the first iteration we need to wait for the second one to check for fixed point so final is still false\n",
    "    else:\n",
    "        u_data['final']=False\n",
    "\n",
    "    return current_results\n",
    "\n",
    "\n",
    "\n"
   ]
  },
  {
   "cell_type": "markdown",
   "metadata": {},
   "source": [
    "#### Case1"
   ]
  },
  {
   "cell_type": "code",
   "execution_count": null,
   "metadata": {},
   "outputs": [
    {
     "name": "stdout",
     "output_type": "stream",
     "text": [
      "{'R(X,Y) <- S(X,Y),S2(X,A,3)': 0, 'R(X,Y) <- S(X,Y),T(X,Y) -> (X,Y)': 1}\n"
     ]
    },
    {
     "data": {
      "text/html": [
       "<div>\n",
       "<style scoped>\n",
       "    .dataframe tbody tr th:only-of-type {\n",
       "        vertical-align: middle;\n",
       "    }\n",
       "\n",
       "    .dataframe tbody tr th {\n",
       "        vertical-align: top;\n",
       "    }\n",
       "\n",
       "    .dataframe thead th {\n",
       "        text-align: right;\n",
       "    }\n",
       "</style>\n",
       "<table border=\"1\" class=\"dataframe\">\n",
       "  <thead>\n",
       "    <tr style=\"text-align: right;\">\n",
       "      <th></th>\n",
       "      <th>0</th>\n",
       "      <th>1</th>\n",
       "    </tr>\n",
       "  </thead>\n",
       "  <tbody>\n",
       "    <tr>\n",
       "      <th>0</th>\n",
       "      <td>1</td>\n",
       "      <td>1</td>\n",
       "    </tr>\n",
       "    <tr>\n",
       "      <th>1</th>\n",
       "      <td>2</td>\n",
       "      <td>2</td>\n",
       "    </tr>\n",
       "    <tr>\n",
       "      <th>2</th>\n",
       "      <td>3</td>\n",
       "      <td>3</td>\n",
       "    </tr>\n",
       "    <tr>\n",
       "      <th>3</th>\n",
       "      <td>4</td>\n",
       "      <td>5</td>\n",
       "    </tr>\n",
       "  </tbody>\n",
       "</table>\n",
       "</div>"
      ],
      "text/plain": [
       "   0  1\n",
       "0  1  1\n",
       "1  2  2\n",
       "2  3  3\n",
       "3  4  5"
      ]
     },
     "metadata": {},
     "output_type": "display_data"
    },
    {
     "data": {
      "text/html": [
       "<div>\n",
       "<style scoped>\n",
       "    .dataframe tbody tr th:only-of-type {\n",
       "        vertical-align: middle;\n",
       "    }\n",
       "\n",
       "    .dataframe tbody tr th {\n",
       "        vertical-align: top;\n",
       "    }\n",
       "\n",
       "    .dataframe thead th {\n",
       "        text-align: right;\n",
       "    }\n",
       "</style>\n",
       "<table border=\"1\" class=\"dataframe\">\n",
       "  <thead>\n",
       "    <tr style=\"text-align: right;\">\n",
       "      <th></th>\n",
       "      <th>0</th>\n",
       "      <th>1</th>\n",
       "      <th>2</th>\n",
       "    </tr>\n",
       "  </thead>\n",
       "  <tbody>\n",
       "    <tr>\n",
       "      <th>0</th>\n",
       "      <td>1</td>\n",
       "      <td>2</td>\n",
       "      <td>3</td>\n",
       "    </tr>\n",
       "    <tr>\n",
       "      <th>1</th>\n",
       "      <td>2</td>\n",
       "      <td>3</td>\n",
       "      <td>4</td>\n",
       "    </tr>\n",
       "    <tr>\n",
       "      <th>2</th>\n",
       "      <td>2</td>\n",
       "      <td>3</td>\n",
       "      <td>5</td>\n",
       "    </tr>\n",
       "    <tr>\n",
       "      <th>3</th>\n",
       "      <td>4</td>\n",
       "      <td>5</td>\n",
       "      <td>6</td>\n",
       "    </tr>\n",
       "  </tbody>\n",
       "</table>\n",
       "</div>"
      ],
      "text/plain": [
       "   0  1  2\n",
       "0  1  2  3\n",
       "1  2  3  4\n",
       "2  2  3  5\n",
       "3  4  5  6"
      ]
     },
     "metadata": {},
     "output_type": "display_data"
    }
   ],
   "source": [
    "e = Engine()\n",
    "e.set_relation(RelationDefinition(name='S', scheme=[int,int]))\n",
    "e.set_relation(RelationDefinition(name='S2', scheme=[int,int,int]))\n",
    "\n",
    "e.add_rule(r1,RelationDefinition(name='R', scheme=[int,int]))\n",
    "e.add_rule(r2,RelationDefinition(name='R', scheme=[int,int]))\n",
    "\n",
    "e.add_facts('S',s)\n",
    "e.add_facts('S2',s2)\n",
    "\n",
    "def func(x,y):\n",
    "    return [(y,x)]\n",
    "\n",
    "ie_def = IEFunction(name='T',func=func,in_schema=[int,int],out_schema=[int,int])\n",
    "\n",
    "e.set_ie_function(ie_def)\n",
    "g = e._inline_db_and_ies_in_graph(e.term_graph)\n",
    "print(e.rules_to_ids)\n",
    "display(s)\n",
    "display(s2)"
   ]
  },
  {
   "cell_type": "code",
   "execution_count": null,
   "metadata": {},
   "outputs": [],
   "source": [
    "# with checkLogs():\n",
    "results_dict = defaultdict(list)\n",
    "query_res = compute_node(g.copy(),'R',results_dict)\n",
    "assert serialize_df_values(query_res) == {(1, 1), (2, 2), (3, 3)}"
   ]
  },
  {
   "cell_type": "code",
   "execution_count": null,
   "metadata": {},
   "outputs": [
    {
     "data": {
      "text/html": [
       "<img src=\"https://mermaid.ink/img/CmZsb3djaGFydCBUQgpTWyJTCnJlbD0jcXVvdDtTI3F1b3Q7LCBydWxlX2lkPXswLCAxfSwgb3A9I3F1b3Q7Z2V0X3JlbCNxdW90OywgZGI9REIoUywgUzIsIFIpIl0KUzJbIlMyCnJlbD0jcXVvdDtTMiNxdW90OywgcnVsZV9pZD17MH0sIG9wPSNxdW90O2dldF9yZWwjcXVvdDssIGRiPURCKFMsIFMyLCBSKSJdClJbIlIKcmVsPSNxdW90O1IjcXVvdDssIG9wPSNxdW90O3VuaW9uI3F1b3Q7LCBydWxlX2lkPXswLCAxfSJdCjBbIjAKb3A9I3F1b3Q7cmVuYW1lI3F1b3Q7LCBuYW1lcz1bKDAsICNxdW90O1gjcXVvdDspLCAoMSwgI3F1b3Q7WSNxdW90OyldLCBydWxlX2lkPXswfSJdCjFbIjEKb3A9I3F1b3Q7cmVuYW1lI3F1b3Q7LCBuYW1lcz1bKDAsICNxdW90O1gjcXVvdDspLCAoMSwgI3F1b3Q7QSNxdW90OyldLCBydWxlX2lkPXswfSJdCjJbIjIKb3A9I3F1b3Q7c2VsZWN0I3F1b3Q7LCB0aGV0YT1bKDIsIDMpXSwgcnVsZV9pZD17MH0iXQozWyIzCm9wPSNxdW90O2pvaW4jcXVvdDssIHJ1bGVfaWQ9ezB9Il0KNFsiNApvcD0jcXVvdDtwcm9qZWN0I3F1b3Q7LCBvbj1bI3F1b3Q7WCNxdW90OywgI3F1b3Q7WSNxdW90O10sIHJlbD0jcXVvdDtfUl8wI3F1b3Q7LCBydWxlX2lkPXswfSJdCjhbIjgKb3A9I3F1b3Q7cmVuYW1lI3F1b3Q7LCBuYW1lcz1bKDAsICNxdW90O1gjcXVvdDspLCAoMSwgI3F1b3Q7WSNxdW90OyldLCBydWxlX2lkPXsxfSJdCjlbIjkKb3A9I3F1b3Q7cHJvamVjdCNxdW90Oywgb249WyNxdW90O1gjcXVvdDssICNxdW90O1kjcXVvdDtdLCBydWxlX2lkPXsxfSJdCjEwWyIxMApvcD0jcXVvdDtjYWxjI3F1b3Q7LCBmdW5jPSNsdDtmdW5jdGlvbiBmdW5jIGF0IDB4MTFhYzY2MjAwI2d0OywgcnVsZV9pZD17MX0sIG91dF9zY2hlbWE9WyNsdDtjbGFzcyAjcXVvdDtpbnQjcXVvdDsjZ3Q7LCAjbHQ7Y2xhc3MgI3F1b3Q7aW50I3F1b3Q7I2d0O10iXQoxMVsiMTEKb3A9I3F1b3Q7cmVuYW1lI3F1b3Q7LCBuYW1lcz1bKDAsICNxdW90O1gjcXVvdDspLCAoMSwgI3F1b3Q7WSNxdW90OyldLCBydWxlX2lkPXsxfSJdCjZbIjYKb3A9I3F1b3Q7am9pbiNxdW90OywgcnVsZV9pZD17MX0iXQo3WyI3Cm9wPSNxdW90O3Byb2plY3QjcXVvdDssIG9uPVsjcXVvdDtYI3F1b3Q7LCAjcXVvdDtZI3F1b3Q7XSwgcmVsPSNxdW90O19SXzEjcXVvdDssIHJ1bGVfaWQ9ezF9Il0KUiAtLT4gNApSIC0tPiA3CjAgLS0+IFMKMSAtLT4gUzIKMiAtLT4gMQozIC0tPiAwCjMgLS0+IDIKNCAtLT4gMwo4IC0tPiBTCjkgLS0+IDgKMTAgLS0+IDkKMTEgLS0+IDEwCjYgLS0+IDgKNiAtLT4gMTEKNyAtLT4gNgo=\"/>"
      ],
      "text/plain": [
       "<IPython.core.display.Image object>"
      ]
     },
     "metadata": {},
     "output_type": "display_data"
    }
   ],
   "source": [
    "draw(g)"
   ]
  },
  {
   "cell_type": "code",
   "execution_count": null,
   "metadata": {},
   "outputs": [],
   "source": [
    "res = e.run_query(Relation(name='R',terms=[FreeVar(name='X'),FreeVar(name='Y')]))\n",
    "assert serialize_df_values(res) == {(1, 1), (2, 2), (3, 3)}"
   ]
  },
  {
   "cell_type": "code",
   "execution_count": null,
   "metadata": {},
   "outputs": [
    {
     "data": {
      "text/html": [
       "<img src=\"https://mermaid.ink/img/CmZsb3djaGFydCBUQgpTWyJTCnJlbD0jcXVvdDtTI3F1b3Q7LCBydWxlX2lkPXswLCAxfSwgb3A9I3F1b3Q7Z2V0X3JlbCNxdW90OywgZGI9REIoUywgUzIsIFIpIl0KUzJbIlMyCnJlbD0jcXVvdDtTMiNxdW90OywgcnVsZV9pZD17MH0sIG9wPSNxdW90O2dldF9yZWwjcXVvdDssIGRiPURCKFMsIFMyLCBSKSJdClJbIlIKcmVsPSNxdW90O1IjcXVvdDssIG9wPSNxdW90O3VuaW9uI3F1b3Q7LCBydWxlX2lkPXswLCAxfSJdCjBbIjAKb3A9I3F1b3Q7cmVuYW1lI3F1b3Q7LCBuYW1lcz1bKDAsICNxdW90O1gjcXVvdDspLCAoMSwgI3F1b3Q7WSNxdW90OyldLCBydWxlX2lkPXswfSJdCjFbIjEKb3A9I3F1b3Q7cmVuYW1lI3F1b3Q7LCBuYW1lcz1bKDAsICNxdW90O1gjcXVvdDspLCAoMSwgI3F1b3Q7QSNxdW90OyldLCBydWxlX2lkPXswfSJdCjJbIjIKb3A9I3F1b3Q7c2VsZWN0I3F1b3Q7LCB0aGV0YT1bKDIsIDMpXSwgcnVsZV9pZD17MH0iXQozWyIzCm9wPSNxdW90O2pvaW4jcXVvdDssIHJ1bGVfaWQ9ezB9Il0KNFsiNApvcD0jcXVvdDtwcm9qZWN0I3F1b3Q7LCBvbj1bI3F1b3Q7WCNxdW90OywgI3F1b3Q7WSNxdW90O10sIHJlbD0jcXVvdDtfUl8wI3F1b3Q7LCBydWxlX2lkPXswfSJdCjhbIjgKb3A9I3F1b3Q7cmVuYW1lI3F1b3Q7LCBuYW1lcz1bKDAsICNxdW90O1gjcXVvdDspLCAoMSwgI3F1b3Q7WSNxdW90OyldLCBydWxlX2lkPXsxfSJdCjlbIjkKb3A9I3F1b3Q7cHJvamVjdCNxdW90Oywgb249WyNxdW90O1gjcXVvdDssICNxdW90O1kjcXVvdDtdLCBydWxlX2lkPXsxfSJdCjEwWyIxMApvcD0jcXVvdDtjYWxjI3F1b3Q7LCBmdW5jPSNsdDtmdW5jdGlvbiBmdW5jIGF0IDB4MTFhYzY2MjAwI2d0OywgcnVsZV9pZD17MX0sIG91dF9zY2hlbWE9WyNsdDtjbGFzcyAjcXVvdDtpbnQjcXVvdDsjZ3Q7LCAjbHQ7Y2xhc3MgI3F1b3Q7aW50I3F1b3Q7I2d0O10iXQoxMVsiMTEKb3A9I3F1b3Q7cmVuYW1lI3F1b3Q7LCBuYW1lcz1bKDAsICNxdW90O1gjcXVvdDspLCAoMSwgI3F1b3Q7WSNxdW90OyldLCBydWxlX2lkPXsxfSJdCjZbIjYKb3A9I3F1b3Q7am9pbiNxdW90OywgcnVsZV9pZD17MX0iXQo3WyI3Cm9wPSNxdW90O3Byb2plY3QjcXVvdDssIG9uPVsjcXVvdDtYI3F1b3Q7LCAjcXVvdDtZI3F1b3Q7XSwgcmVsPSNxdW90O19SXzEjcXVvdDssIHJ1bGVfaWQ9ezF9Il0KMTJbIjEyCm9wPSNxdW90O3NlbGVjdCNxdW90OywgdGhldGE9WygxLCAzKV0iXQoxM1siMTMKb3A9I3F1b3Q7cmVuYW1lI3F1b3Q7LCBuYW1lcz1bKDAsICNxdW90O1gjcXVvdDspXSJdCjE0WyIxNApvcD0jcXVvdDtwcm9qZWN0I3F1b3Q7LCBvbj1bI3F1b3Q7WCNxdW90O10iXQpSIC0tPiA0ClIgLS0+IDcKMCAtLT4gUwoxIC0tPiBTMgoyIC0tPiAxCjMgLS0+IDAKMyAtLT4gMgo0IC0tPiAzCjggLS0+IFMKOSAtLT4gOAoxMCAtLT4gOQoxMSAtLT4gMTAKNiAtLT4gOAo2IC0tPiAxMQo3IC0tPiA2CjEyIC0tPiBSCjEzIC0tPiAxMgoxNCAtLT4gMTMK\"/>"
      ],
      "text/plain": [
       "<IPython.core.display.Image object>"
      ]
     },
     "metadata": {},
     "output_type": "display_data"
    }
   ],
   "source": [
    "q,root = e.plan_query(Relation(name='R',terms=[FreeVar(name='X'),3]))\n",
    "draw(q)"
   ]
  },
  {
   "cell_type": "code",
   "execution_count": null,
   "metadata": {},
   "outputs": [],
   "source": [
    "# TODO from here, debug the select node and add a rename node to rename the columns to the correct names given by the query\n",
    "# with checkLogs():\n",
    "\"?R(S,3)\"\n",
    "res = e.run_query(Relation(name='R',terms=[FreeVar(name='S'),3]))\n",
    "assert serialize_df_values(res)=={(3,)}\n",
    "assert list(res.columns) == ['S']"
   ]
  },
  {
   "cell_type": "markdown",
   "metadata": {},
   "source": [
    "#### case 2"
   ]
  },
  {
   "cell_type": "code",
   "execution_count": null,
   "metadata": {},
   "outputs": [
    {
     "data": {
      "text/plain": [
       "{'A(X,Y) <- B(X,Y)': 0,\n",
       " 'A(X,Y) <- C(X,Y)': 1,\n",
       " 'B(X,Y) <- D(X,Y)': 2,\n",
       " 'B(X,Y) <- A(X,Y)': 3}"
      ]
     },
     "execution_count": null,
     "metadata": {},
     "output_type": "execute_result"
    }
   ],
   "source": [
    "e2 = Engine()\n",
    "e2.set_relation(RelationDefinition(name='C', scheme=[int,int]))\n",
    "e2.set_relation(RelationDefinition(name='D', scheme=[int,int]))\n",
    "\n",
    "for rule in [rec_r1,rec_r2,rec_r3,rec_r4]:\n",
    "    e2.add_rule(rule,RelationDefinition(name=rule.head.name, scheme=[int,int]))\n",
    "\n",
    "e2.add_fact(Relation(name='C',terms=[1,2]))\n",
    "e2.add_fact(Relation(name='D',terms=[3,4]))\n",
    "\n",
    "g2 = e2._inline_db_and_ies_in_graph(e2.term_graph)\n",
    "e2.rules_to_ids"
   ]
  },
  {
   "cell_type": "code",
   "execution_count": null,
   "metadata": {},
   "outputs": [],
   "source": [
    "# with checkLogs():\n",
    "query_res = e2.run_query(Relation(name='A',terms=[FreeVar(name='X'),FreeVar(name='Y')]))\n",
    "assert serialize_df_values(query_res) == {(3, 4), (1, 2)}\n",
    "query_res = e2.run_query(Relation(name='B',terms=[FreeVar(name='X'),FreeVar(name='Y')]))\n",
    "assert serialize_df_values(query_res) == {(3, 4), (1, 2)}"
   ]
  },
  {
   "cell_type": "code",
   "execution_count": null,
   "metadata": {},
   "outputs": [
    {
     "data": {
      "text/html": [
       "<img src=\"https://mermaid.ink/img/CmZsb3djaGFydCBUQgpDWyJDCnJlbD0jcXVvdDtDI3F1b3Q7LCBydWxlX2lkPXsxfSwgb3A9I3F1b3Q7Z2V0X3JlbCNxdW90OywgZGI9REIoQywgRCwgQSwgQikiXQpEWyJECnJlbD0jcXVvdDtEI3F1b3Q7LCBydWxlX2lkPXsyfSwgb3A9I3F1b3Q7Z2V0X3JlbCNxdW90OywgZGI9REIoQywgRCwgQSwgQikiXQpBWyJBCnJlbD0jcXVvdDtBI3F1b3Q7LCBvcD0jcXVvdDt1bmlvbiNxdW90OywgcnVsZV9pZD17MCwgMSwgM30iXQpCWyJCCnJlbD0jcXVvdDtCI3F1b3Q7LCBydWxlX2lkPXswLCAyLCAzfSwgb3A9I3F1b3Q7dW5pb24jcXVvdDsiXQowWyIwCm9wPSNxdW90O3JlbmFtZSNxdW90OywgbmFtZXM9WygwLCAjcXVvdDtYI3F1b3Q7KSwgKDEsICNxdW90O1kjcXVvdDspXSwgcnVsZV9pZD17MH0iXQoxWyIxCm9wPSNxdW90O3Byb2plY3QjcXVvdDssIG9uPVsjcXVvdDtYI3F1b3Q7LCAjcXVvdDtZI3F1b3Q7XSwgcmVsPSNxdW90O19BXzAjcXVvdDssIHJ1bGVfaWQ9ezB9Il0KMlsiMgpvcD0jcXVvdDtyZW5hbWUjcXVvdDssIG5hbWVzPVsoMCwgI3F1b3Q7WCNxdW90OyksICgxLCAjcXVvdDtZI3F1b3Q7KV0sIHJ1bGVfaWQ9ezF9Il0KM1siMwpvcD0jcXVvdDtwcm9qZWN0I3F1b3Q7LCBvbj1bI3F1b3Q7WCNxdW90OywgI3F1b3Q7WSNxdW90O10sIHJlbD0jcXVvdDtfQV8xI3F1b3Q7LCBydWxlX2lkPXsxfSJdCjRbIjQKb3A9I3F1b3Q7cmVuYW1lI3F1b3Q7LCBuYW1lcz1bKDAsICNxdW90O1gjcXVvdDspLCAoMSwgI3F1b3Q7WSNxdW90OyldLCBydWxlX2lkPXsyfSJdCjVbIjUKb3A9I3F1b3Q7cHJvamVjdCNxdW90Oywgb249WyNxdW90O1gjcXVvdDssICNxdW90O1kjcXVvdDtdLCByZWw9I3F1b3Q7X0JfMiNxdW90OywgcnVsZV9pZD17Mn0iXQo2WyI2Cm9wPSNxdW90O3JlbmFtZSNxdW90OywgbmFtZXM9WygwLCAjcXVvdDtYI3F1b3Q7KSwgKDEsICNxdW90O1kjcXVvdDspXSwgcnVsZV9pZD17M30iXQo3WyI3Cm9wPSNxdW90O3Byb2plY3QjcXVvdDssIG9uPVsjcXVvdDtYI3F1b3Q7LCAjcXVvdDtZI3F1b3Q7XSwgcmVsPSNxdW90O19CXzMjcXVvdDssIHJ1bGVfaWQ9ezN9Il0KQSAtLT4gMQpBIC0tPiAzCkIgLS0+IDUKQiAtLT4gNwowIC0tPiBCCjEgLS0+IDAKMiAtLT4gQwozIC0tPiAyCjQgLS0+IEQKNSAtLT4gNAo2IC0tPiBBCjcgLS0+IDYK\"/>"
      ],
      "text/plain": [
       "<IPython.core.display.Image object>"
      ]
     },
     "metadata": {},
     "output_type": "display_data"
    }
   ],
   "source": [
    "draw(g2)"
   ]
  },
  {
   "cell_type": "markdown",
   "metadata": {},
   "source": [
    "### Case 3"
   ]
  },
  {
   "cell_type": "code",
   "execution_count": null,
   "metadata": {},
   "outputs": [
    {
     "name": "stdout",
     "output_type": "stream",
     "text": [
      "{'string_length(Str,Len) <- string(Str),Length(Str) -> (Len)': 0}\n"
     ]
    },
    {
     "data": {
      "text/html": [
       "<img src=\"https://mermaid.ink/img/CmZsb3djaGFydCBUQgpzdHJpbmdbInN0cmluZwpyZWw9I3F1b3Q7c3RyaW5nI3F1b3Q7LCBydWxlX2lkPXswfSwgb3A9I3F1b3Q7Z2V0X3JlbCNxdW90OywgZGI9REIoc3RyaW5nLCBzdHJpbmdfbGVuZ3RoKSJdCnN0cmluZ19sZW5ndGhbInN0cmluZ19sZW5ndGgKcmVsPSNxdW90O3N0cmluZ19sZW5ndGgjcXVvdDssIG9wPSNxdW90O3VuaW9uI3F1b3Q7LCBydWxlX2lkPXswfSJdCjBbIjAKb3A9I3F1b3Q7cmVuYW1lI3F1b3Q7LCBuYW1lcz1bKDAsICNxdW90O1N0ciNxdW90OyldLCBydWxlX2lkPXswfSJdCjFbIjEKb3A9I3F1b3Q7cHJvamVjdCNxdW90Oywgb249WyNxdW90O1N0ciNxdW90O10sIHJ1bGVfaWQ9ezB9Il0KMlsiMgpvcD0jcXVvdDtjYWxjI3F1b3Q7LCBmdW5jPSNsdDtmdW5jdGlvbiBmdW5jIGF0IDB4MTA1OGQ4NDAwI2d0OywgcnVsZV9pZD17MH0sIG91dF9zY2hlbWE9WyNsdDtjbGFzcyAjcXVvdDtpbnQjcXVvdDsjZ3Q7XSJdCjRbIjQKb3A9I3F1b3Q7cmVuYW1lI3F1b3Q7LCBuYW1lcz1bKDAsICNxdW90O0xlbiNxdW90OyldLCBydWxlX2lkPXswfSJdCjZbIjYKb3A9I3F1b3Q7am9pbiNxdW90OywgcnVsZV9pZD17MH0iXQo3WyI3Cm9wPSNxdW90O3Byb2plY3QjcXVvdDssIG9uPVsjcXVvdDtTdHIjcXVvdDssICNxdW90O0xlbiNxdW90O10sIHJlbD0jcXVvdDtfc3RyaW5nX2xlbmd0aF8wI3F1b3Q7LCBydWxlX2lkPXswfSJdCnN0cmluZ19sZW5ndGggLS0+IDcKMCAtLT4gc3RyaW5nCjEgLS0+IDAKMiAtLT4gMQo0IC0tPiAyCjYgLS0+IDAKNiAtLT4gNAo3IC0tPiA2Cg==\"/>"
      ],
      "text/plain": [
       "<IPython.core.display.Image object>"
      ]
     },
     "metadata": {},
     "output_type": "display_data"
    }
   ],
   "source": [
    "e = Engine()\n",
    "e.set_relation(RelationDefinition(name='string', scheme=[str]))\n",
    "e.add_fact(Relation(name='string',terms=['a']))\n",
    "e.add_fact(Relation(name='string',terms=['aa']))\n",
    "def func(str):\n",
    "    yield (len(str),)\n",
    "\n",
    "e.set_ie_function(IEFunction(name='Length',func=func,in_schema=[str],out_schema=[int]))\n",
    "\n",
    "r = Rule(\n",
    "    head=Relation(name='string_length', terms=[FreeVar(name='Str'), FreeVar(name='Len')]),\n",
    "    body=[\n",
    "        Relation(name='string', terms=[FreeVar(name='Str')]),\n",
    "        IERelation(name='Length', in_terms=[FreeVar(name='Str')], out_terms=[FreeVar(name='Len')]),\n",
    "    ])\n",
    "\n",
    "e.add_rule(r,RelationDefinition(name='string_length', scheme=[str,int]))\n",
    "\n",
    "\n",
    "\n",
    "g = e._inline_db_and_ies_in_graph(e.term_graph)\n",
    "print(e.rules_to_ids)\n",
    "draw(g)\n"
   ]
  },
  {
   "cell_type": "code",
   "execution_count": null,
   "metadata": {},
   "outputs": [
    {
     "data": {
      "text/plain": [
       "defaultdict(list,\n",
       "            {'string': [  col0\n",
       "              0    a\n",
       "              0   aa],\n",
       "             0: [  Str\n",
       "              0   a\n",
       "              0  aa],\n",
       "             1: [  Str\n",
       "              0   a\n",
       "              0  aa],\n",
       "             2: [   col0\n",
       "              0     1\n",
       "              1     2],\n",
       "             4: [   Len\n",
       "              0    1\n",
       "              1    2],\n",
       "             6: [  Str  Len\n",
       "              0   a    1\n",
       "              1   a    2\n",
       "              2  aa    1\n",
       "              3  aa    2],\n",
       "             7: [  Str  Len\n",
       "              0   a    1\n",
       "              1   a    2\n",
       "              2  aa    1\n",
       "              3  aa    2],\n",
       "             'string_length': [  Str  Len\n",
       "              0   a    1\n",
       "              1   a    2\n",
       "              2  aa    1\n",
       "              3  aa    2],\n",
       "             8: [  Str  Len\n",
       "              0   a    1\n",
       "              1   a    2\n",
       "              2  aa    1\n",
       "              3  aa    2],\n",
       "             9: [  Str  Len\n",
       "              0   a    1\n",
       "              1   a    2\n",
       "              2  aa    1\n",
       "              3  aa    2]})"
      ]
     },
     "execution_count": null,
     "metadata": {},
     "output_type": "execute_result"
    }
   ],
   "source": [
    "inter"
   ]
  },
  {
   "cell_type": "code",
   "execution_count": null,
   "metadata": {},
   "outputs": [
    {
     "name": "stderr",
     "output_type": "stream",
     "text": [
      "__main__ - DEBUG - computing node string with op get_rel and children results [] and data {'rel': 'string', 'rule_id': {0}, 'op': 'get_rel', 'db': DB(string, string_length)}\n",
      "__main__ - DEBUG - node string results after iteration 0 are   col0\n",
      "0    a\n",
      "0   aa\n",
      "__main__ - DEBUG - setting node string as final since all children are final\n",
      "__main__ - DEBUG - computing node 0 with op rename and children results [  col0\n",
      "0    a\n",
      "0   aa] and data {'op': 'rename', 'names': [(0, 'Str')], 'rule_id': {0}, 'visited': True}\n",
      "__main__ - DEBUG - node 0 results after iteration 0 are   Str\n",
      "0   a\n",
      "0  aa\n",
      "__main__ - DEBUG - setting node 0 as final since all children are final\n",
      "__main__ - DEBUG - computing node 1 with op project and children results [  Str\n",
      "0   a\n",
      "0  aa] and data {'op': 'project', 'on': ['Str'], 'rule_id': {0}, 'visited': True}\n",
      "__main__ - DEBUG - node 1 results after iteration 0 are   Str\n",
      "0   a\n",
      "0  aa\n"
     ]
    },
    {
     "name": "stderr",
     "output_type": "stream",
     "text": [
      "__main__ - DEBUG - setting node 1 as final since all children are final\n",
      "__main__ - DEBUG - computing node 2 with op calc and children results [  Str\n",
      "0   a\n",
      "0  aa] and data {'op': 'calc', 'func': <function func>, 'rule_id': {0}, 'out_schema': [<class 'int'>], 'visited': True}\n",
      "__main__ - DEBUG - node 2 results after iteration 0 are    col0\n",
      "0     1\n",
      "1     2\n",
      "__main__ - DEBUG - setting node 2 as final since all children are final\n",
      "__main__ - DEBUG - computing node 4 with op rename and children results [   col0\n",
      "0     1\n",
      "1     2] and data {'op': 'rename', 'names': [(0, 'Len')], 'rule_id': {0}, 'visited': True}\n",
      "__main__ - DEBUG - node 4 results after iteration 0 are    Len\n",
      "0    1\n",
      "1    2\n",
      "__main__ - DEBUG - setting node 4 as final since all children are final\n",
      "__main__ - DEBUG - computing node 6 with op join and children results [  Str\n",
      "0   a\n",
      "0  aa,    Len\n",
      "0    1\n",
      "1    2] and data {'op': 'join', 'rule_id': {0}, 'visited': True}\n",
      "__main__ - DEBUG - node 6 results after iteration 0 are   Str  Len\n",
      "0   a    1\n",
      "1   a    2\n",
      "2  aa    1\n",
      "3  aa    2\n",
      "__main__ - DEBUG - setting node 6 as final since all children are final\n",
      "__main__ - DEBUG - computing node 7 with op project and children results [  Str  Len\n",
      "0   a    1\n",
      "1   a    2\n",
      "2  aa    1\n",
      "3  aa    2] and data {'op': 'project', 'on': ['Str', 'Len'], 'rel': '_string_length_0', 'rule_id': {0}, 'visited': True}\n",
      "__main__ - DEBUG - node 7 results after iteration 0 are   Str  Len\n",
      "0   a    1\n",
      "1   a    2\n",
      "2  aa    1\n",
      "3  aa    2\n",
      "__main__ - DEBUG - setting node 7 as final since all children are final\n",
      "__main__ - DEBUG - computing node string_length with op union and children results [  Str  Len\n",
      "0   a    1\n",
      "1   a    2\n",
      "2  aa    1\n",
      "3  aa    2] and data {'rel': 'string_length', 'op': 'union', 'rule_id': {0}, 'visited': True}\n",
      "__main__ - DEBUG - node string_length results after iteration 0 are   Str  Len\n",
      "0   a    1\n",
      "1   a    2\n",
      "2  aa    1\n",
      "3  aa    2\n",
      "__main__ - DEBUG - setting node string_length as final since all children are final\n",
      "__main__ - DEBUG - computing node 8 with op rename and children results [  Str  Len\n",
      "0   a    1\n",
      "1   a    2\n",
      "2  aa    1\n",
      "3  aa    2] and data {'op': 'rename', 'names': [(0, 'Str'), (1, 'Len')], 'visited': True}\n",
      "__main__ - DEBUG - node 8 results after iteration 0 are   Str  Len\n",
      "0   a    1\n",
      "1   a    2\n",
      "2  aa    1\n",
      "3  aa    2\n",
      "__main__ - DEBUG - setting node 8 as final since all children are final\n",
      "__main__ - DEBUG - computing node 9 with op project and children results [  Str  Len\n",
      "0   a    1\n",
      "1   a    2\n",
      "2  aa    1\n",
      "3  aa    2] and data {'op': 'project', 'on': ['Str', 'Len'], 'visited': True}\n",
      "__main__ - DEBUG - node 9 results after iteration 0 are   Str  Len\n",
      "0   a    1\n",
      "1   a    2\n",
      "2  aa    1\n",
      "3  aa    2\n",
      "__main__ - DEBUG - setting node 9 as final since all children are final\n"
     ]
    },
    {
     "data": {
      "text/html": [
       "<div>\n",
       "<style scoped>\n",
       "    .dataframe tbody tr th:only-of-type {\n",
       "        vertical-align: middle;\n",
       "    }\n",
       "\n",
       "    .dataframe tbody tr th {\n",
       "        vertical-align: top;\n",
       "    }\n",
       "\n",
       "    .dataframe thead th {\n",
       "        text-align: right;\n",
       "    }\n",
       "</style>\n",
       "<table border=\"1\" class=\"dataframe\">\n",
       "  <thead>\n",
       "    <tr style=\"text-align: right;\">\n",
       "      <th></th>\n",
       "      <th>Str</th>\n",
       "      <th>Len</th>\n",
       "    </tr>\n",
       "  </thead>\n",
       "  <tbody>\n",
       "    <tr>\n",
       "      <th>0</th>\n",
       "      <td>a</td>\n",
       "      <td>1</td>\n",
       "    </tr>\n",
       "    <tr>\n",
       "      <th>1</th>\n",
       "      <td>a</td>\n",
       "      <td>2</td>\n",
       "    </tr>\n",
       "    <tr>\n",
       "      <th>2</th>\n",
       "      <td>aa</td>\n",
       "      <td>1</td>\n",
       "    </tr>\n",
       "    <tr>\n",
       "      <th>3</th>\n",
       "      <td>aa</td>\n",
       "      <td>2</td>\n",
       "    </tr>\n",
       "  </tbody>\n",
       "</table>\n",
       "</div>"
      ],
      "text/plain": [
       "  Str  Len\n",
       "0   a    1\n",
       "1   a    2\n",
       "2  aa    1\n",
       "3  aa    2"
      ]
     },
     "execution_count": null,
     "metadata": {},
     "output_type": "execute_result"
    }
   ],
   "source": [
    "with checkLogs():\n",
    "    #TODO from here, see why node 1 doesnt take the results of node 0\n",
    "    res,inter = e.run_query(Relation(name='string_length', terms=[FreeVar(name='Str'), FreeVar(name='Len')]),return_intermediate=True)\n",
    "res"
   ]
  },
  {
   "cell_type": "code",
   "execution_count": null,
   "metadata": {},
   "outputs": [
    {
     "data": {
      "text/plain": [
       "defaultdict(list,\n",
       "            {'string': [  col0\n",
       "              0    a\n",
       "              0   aa],\n",
       "             0: [  Str\n",
       "              0   a\n",
       "              0  aa],\n",
       "             1: [Empty DataFrame\n",
       "              Columns: []\n",
       "              Index: []],\n",
       "             2: [Empty DataFrame\n",
       "              Columns: []\n",
       "              Index: []],\n",
       "             4: [Empty DataFrame\n",
       "              Columns: []\n",
       "              Index: []],\n",
       "             6: [Empty DataFrame\n",
       "              Columns: [Str]\n",
       "              Index: []],\n",
       "             7: [Empty DataFrame\n",
       "              Columns: [Str]\n",
       "              Index: []],\n",
       "             'string_length': [Empty DataFrame\n",
       "              Columns: [Str]\n",
       "              Index: []],\n",
       "             8: [Empty DataFrame\n",
       "              Columns: [Str]\n",
       "              Index: []],\n",
       "             9: [Empty DataFrame\n",
       "              Columns: [Str]\n",
       "              Index: []]})"
      ]
     },
     "execution_count": null,
     "metadata": {},
     "output_type": "execute_result"
    }
   ],
   "source": [
    "inter"
   ]
  },
  {
   "cell_type": "code",
   "execution_count": null,
   "metadata": {},
   "outputs": [
    {
     "ename": "NameError",
     "evalue": "name 'inter' is not defined",
     "output_type": "error",
     "traceback": [
      "\u001b[0;31m---------------------------------------------------------------------------\u001b[0m\n",
      "\u001b[0;31mNameError\u001b[0m                                 Traceback (most recent call last)\n",
      "Cell \u001b[0;32mIn[81], line 1\u001b[0m\n",
      "\u001b[0;32m----> 1\u001b[0m x \u001b[38;5;241m=\u001b[39m \u001b[43minter\u001b[49m[\u001b[38;5;241m0\u001b[39m][\u001b[38;5;241m0\u001b[39m]\n",
      "\u001b[1;32m      2\u001b[0m calc(x,func,[\u001b[38;5;28mint\u001b[39m])\n",
      "\n",
      "\u001b[0;31mNameError\u001b[0m: name 'inter' is not defined"
     ]
    }
   ],
   "source": [
    "x = inter[0][0]\n",
    "calc(x,func,[int])"
   ]
  },
  {
   "cell_type": "code",
   "execution_count": null,
   "metadata": {},
   "outputs": [
    {
     "data": {
      "text/html": [
       "<div>\n",
       "<style scoped>\n",
       "    .dataframe tbody tr th:only-of-type {\n",
       "        vertical-align: middle;\n",
       "    }\n",
       "\n",
       "    .dataframe tbody tr th {\n",
       "        vertical-align: top;\n",
       "    }\n",
       "\n",
       "    .dataframe thead th {\n",
       "        text-align: right;\n",
       "    }\n",
       "</style>\n",
       "<table border=\"1\" class=\"dataframe\">\n",
       "  <thead>\n",
       "    <tr style=\"text-align: right;\">\n",
       "      <th></th>\n",
       "      <th>Str</th>\n",
       "    </tr>\n",
       "  </thead>\n",
       "  <tbody>\n",
       "    <tr>\n",
       "      <th>0</th>\n",
       "      <td>a</td>\n",
       "    </tr>\n",
       "    <tr>\n",
       "      <th>0</th>\n",
       "      <td>aa</td>\n",
       "    </tr>\n",
       "  </tbody>\n",
       "</table>\n",
       "</div>"
      ],
      "text/plain": [
       "  Str\n",
       "0   a\n",
       "0  aa"
      ]
     },
     "execution_count": null,
     "metadata": {},
     "output_type": "execute_result"
    }
   ],
   "source": [
    "x = inter[0][0]\n",
    "x"
   ]
  },
  {
   "cell_type": "code",
   "execution_count": null,
   "metadata": {},
   "outputs": [
    {
     "data": {
      "text/html": [
       "<div>\n",
       "<style scoped>\n",
       "    .dataframe tbody tr th:only-of-type {\n",
       "        vertical-align: middle;\n",
       "    }\n",
       "\n",
       "    .dataframe tbody tr th {\n",
       "        vertical-align: top;\n",
       "    }\n",
       "\n",
       "    .dataframe thead th {\n",
       "        text-align: right;\n",
       "    }\n",
       "</style>\n",
       "<table border=\"1\" class=\"dataframe\">\n",
       "  <thead>\n",
       "    <tr style=\"text-align: right;\">\n",
       "      <th></th>\n",
       "      <th>Str</th>\n",
       "    </tr>\n",
       "  </thead>\n",
       "  <tbody>\n",
       "    <tr>\n",
       "      <th>0</th>\n",
       "      <td>a</td>\n",
       "    </tr>\n",
       "    <tr>\n",
       "      <th>0</th>\n",
       "      <td>aa</td>\n",
       "    </tr>\n",
       "  </tbody>\n",
       "</table>\n",
       "</div>"
      ],
      "text/plain": [
       "  Str\n",
       "0   a\n",
       "0  aa"
      ]
     },
     "execution_count": null,
     "metadata": {},
     "output_type": "execute_result"
    }
   ],
   "source": [
    "project(x,on=['Str'])"
   ]
  },
  {
   "cell_type": "code",
   "execution_count": null,
   "metadata": {},
   "outputs": [],
   "source": [
    "#|hide\n",
    "import nbdev; nbdev.nbdev_export()\n",
    "     "
   ]
  }
 ],
 "metadata": {
  "kernelspec": {
   "display_name": "python3",
   "language": "python",
   "name": "python3"
  }
 },
 "nbformat": 4,
 "nbformat_minor": 4
}
