{
 "cells": [
  {
   "cell_type": "markdown",
   "metadata": {},
   "source": [
    "# Engine\n",
    "> Execution spannerlog commands"
   ]
  },
  {
   "cell_type": "code",
   "execution_count": null,
   "metadata": {},
   "outputs": [],
   "source": [
    "#| default_exp engine"
   ]
  },
  {
   "cell_type": "code",
   "execution_count": null,
   "metadata": {},
   "outputs": [],
   "source": [
    "#| hide\n",
    "from nbdev.showdoc import show_doc\n",
    "from IPython.display import display, HTML\n",
    "%load_ext autoreload\n",
    "%autoreload 2"
   ]
  },
  {
   "cell_type": "code",
   "execution_count": null,
   "metadata": {},
   "outputs": [],
   "source": [
    "#| export\n",
    "from abc import ABC, abstractmethod\n",
    "import pytest\n",
    "from collections import defaultdict\n",
    "\n",
    "import pandas as pd\n",
    "from pathlib import Path\n",
    "from typing import no_type_check, Set, Sequence, Any,Optional,List,Callable,Dict,Union\n",
    "from pydantic import BaseModel\n",
    "import networkx as nx\n",
    "import itertools\n",
    "from graph_rewrite import draw, draw_match, rewrite, rewrite_iter\n",
    "from spannerlib.utils import serialize_graph,serialize_df_values,checkLogs,get_new_node_name\n",
    "from spannerlib.span import Span,SpanParser\n",
    "\n",
    "import logging\n",
    "logger = logging.getLogger(__name__)"
   ]
  },
  {
   "cell_type": "markdown",
   "metadata": {},
   "source": [
    "## Basic Datatypes"
   ]
  },
  {
   "cell_type": "code",
   "execution_count": null,
   "metadata": {},
   "outputs": [],
   "source": [
    "#| export\n",
    "from enum import Enum\n",
    "from typing import Any\n",
    "from pydantic import ConfigDict\n",
    "\n",
    "\n",
    "class Var(BaseModel):\n",
    "    name: str\n",
    "    def __hash__(self):\n",
    "        return hash(self.name)\n",
    "\n",
    "class FreeVar(BaseModel):\n",
    "    name: str\n",
    "    def __hash__(self):\n",
    "        return hash(self.name)\n",
    "\n",
    "PrimitiveType=Union[str,int,Span]\n",
    "Type = Union[str,int,Span,Var,FreeVar]\n",
    "\n",
    "class RelationDefinition(BaseModel):\n",
    "    model_config = ConfigDict(arbitrary_types_allowed=True)\n",
    "    name: str\n",
    "    scheme: List[type]\n",
    "\n",
    "class Relation(BaseModel):\n",
    "    model_config = ConfigDict(arbitrary_types_allowed=True)\n",
    "    name: str\n",
    "    terms: List[Type]\n",
    "\n",
    "class IEFunction(BaseModel):\n",
    "    model_config = ConfigDict(arbitrary_types_allowed=True)\n",
    "    name: str\n",
    "    func: Callable\n",
    "    in_schema: List[type]\n",
    "    out_schema: List[type]\n",
    "\n",
    "\n",
    "class IERelation(BaseModel):\n",
    "    model_config = ConfigDict(arbitrary_types_allowed=True)\n",
    "    name: str\n",
    "    in_terms: List[Type]\n",
    "    out_terms: List[Type]\n",
    "    def __hash__(self):\n",
    "        hash_str = f'''{self.name}_in_{'_'.join([str(x) for x in self.in_terms])}_out_{'_'.join([str(x) for x in self.out_terms])}'''\n",
    "        return hash(hash_str)\n",
    "class Rule(BaseModel):\n",
    "    model_config = ConfigDict(arbitrary_types_allowed=True)\n",
    "    head: Relation\n",
    "    body: List[Union[Relation,IERelation]]"
   ]
  },
  {
   "cell_type": "code",
   "execution_count": null,
   "metadata": {},
   "outputs": [],
   "source": [
    "#| export\n",
    "def pretty(obj):\n",
    "    \"\"\"pretty printing dataclasses for user messages,\n",
    "    making them look like spannerlog code instead of python code\"\"\"\n",
    "    \n",
    "    if isinstance(obj,Span):\n",
    "        return f\"[{obj.start},{obj.end})\"\n",
    "    elif isinstance(obj,(Var,FreeVar)):\n",
    "        return obj.name\n",
    "    elif isinstance(obj,RelationDefinition):\n",
    "        return f\"{obj.name}({','.join(pretty(o) for o in obj.scheme)})\"\n",
    "    elif isinstance(obj,Relation):\n",
    "        return f\"{obj.name}({','.join(pretty(o) for o in obj.terms)})\"\n",
    "    elif isinstance(obj,IERelation):\n",
    "        return f\"{obj.name}({','.join(pretty(o) for o in obj.in_terms)}) -> ({','.join(pretty(o) for o in obj.out_terms)})\"\n",
    "    elif isinstance(obj,IEFunction):\n",
    "        return f\"{obj.name}({','.join(pretty(o) for o in obj.in_schema)}) -> ({','.join(pretty(o) for o in obj.out_schema)})\"\n",
    "    elif isinstance(obj,Rule):\n",
    "        return f\"{pretty(obj.head)} <- {','.join(pretty(o) for o in obj.body)}\"\n",
    "    elif isinstance(obj,type):\n",
    "        return obj.__name__\n",
    "    else:\n",
    "        return str(obj)"
   ]
  },
  {
   "cell_type": "code",
   "execution_count": null,
   "metadata": {},
   "outputs": [],
   "source": [
    "rule = Rule(\n",
    "    head=Relation(name='R', terms=[FreeVar(name='X'), FreeVar(name='Y'), FreeVar(name='Z')]),\n",
    "    body=[\n",
    "        Relation(name='S', terms=[FreeVar(name='X'), Span(start=1,end=4)]),\n",
    "        IERelation(name='T', in_terms=[FreeVar(name='X'), 1], out_terms=[FreeVar(name='Y'), FreeVar(name='Z')])\n",
    "    ])\n",
    "assert pretty(rule) == 'R(X,Y,Z) <- S(X,[1,4)),T(X,1) -> (Y,Z)'"
   ]
  },
  {
   "cell_type": "code",
   "execution_count": null,
   "metadata": {},
   "outputs": [],
   "source": [
    "schema = RelationDefinition(name='R', scheme=[int, str, Span])\n",
    "assert pretty(schema) == 'R(int,str,Span)'\n",
    "ie_func_schema = IEFunction(name='f', in_schema=[int, str], out_schema=[str, Span],func=lambda x,y: (y,Span(1,2)))\n",
    "assert pretty(ie_func_schema) == 'f(int,str) -> (str,Span)'"
   ]
  },
  {
   "cell_type": "markdown",
   "metadata": {},
   "source": [
    "## Term graph"
   ]
  },
  {
   "cell_type": "markdown",
   "metadata": {},
   "source": [
    "Here we have functions for manipulating rules into term graphs"
   ]
  },
  {
   "cell_type": "code",
   "execution_count": null,
   "metadata": {},
   "outputs": [],
   "source": [
    "#| export\n",
    "def _get_bounding_order(rule:Rule)->List[Union[Relation,IERelation]]:\n",
    "    \"\"\"Get an order of evaluation for the body of a rule\n",
    "    this is a very naive ordering that can be heavily optimized\"\"\"\n",
    "\n",
    "    # we start with all relations since they can be bound at once\n",
    "    order = list()\n",
    "    bounded_vars = set()\n",
    "    for rel in rule.body:\n",
    "        if isinstance(rel,Relation):\n",
    "            order.append(rel)\n",
    "            for term in rel.terms:\n",
    "                if isinstance(term,FreeVar):\n",
    "                    bounded_vars.add(term)\n",
    "\n",
    "    unordered_ierelations = {rel for rel in rule.body if isinstance(rel,IERelation)}\n",
    "    while len(unordered_ierelations) > 0:\n",
    "        for ie_rel in unordered_ierelations:\n",
    "            in_free_vars = {term for term in ie_rel.in_terms if isinstance(term,FreeVar)}\n",
    "            if in_free_vars.issubset(bounded_vars):\n",
    "                order.append(ie_rel)\n",
    "                out_free_vars = {term for term in ie_rel.out_terms if isinstance(term,FreeVar)}\n",
    "                bounded_vars = bounded_vars.union(out_free_vars)\n",
    "                unordered_ierelations.remove(ie_rel)\n",
    "                break\n",
    "\n",
    "    return order"
   ]
  },
  {
   "cell_type": "code",
   "execution_count": null,
   "metadata": {},
   "outputs": [
    {
     "data": {
      "text/plain": [
       "[Relation(name='S', terms=[FreeVar(name='X'), [1,4)]),\n",
       " Relation(name='S2', terms=[FreeVar(name='X'), FreeVar(name='A'), FreeVar(name='B')]),\n",
       " IERelation(name='T', in_terms=[FreeVar(name='X'), 1], out_terms=[FreeVar(name='Y'), FreeVar(name='Z')]),\n",
       " IERelation(name='T2', in_terms=[FreeVar(name='X'), FreeVar(name='Y')], out_terms=[FreeVar(name='W'), FreeVar(name='Z')])]"
      ]
     },
     "execution_count": null,
     "metadata": {},
     "output_type": "execute_result"
    }
   ],
   "source": [
    "r = Rule(\n",
    "    head=Relation(name='R', terms=[FreeVar(name='X'), FreeVar(name='Y'), FreeVar(name='Z')]),\n",
    "    body=[\n",
    "        IERelation(name='T2', in_terms=[FreeVar(name='X'), FreeVar(name='Y')], out_terms=[FreeVar(name='W'), FreeVar(name='Z')]),\n",
    "        IERelation(name='T', in_terms=[FreeVar(name='X'), 1], out_terms=[FreeVar(name='Y'), FreeVar(name='Z')]),\n",
    "        Relation(name='S', terms=[FreeVar(name='X'), Span(start=1,end=4)]),\n",
    "        Relation(name='S2', terms=[FreeVar(name='X'), FreeVar(name='A'),FreeVar(name='B')]),\n",
    "\n",
    "    ])\n",
    "\n",
    "order = _get_bounding_order(r)\n",
    "assert [o.name for o in order ] == ['S','S2', 'T', 'T2']\n",
    "order"
   ]
  },
  {
   "cell_type": "code",
   "execution_count": null,
   "metadata": {},
   "outputs": [
    {
     "data": {
      "text/plain": [
       "itertools.count"
      ]
     },
     "execution_count": null,
     "metadata": {},
     "output_type": "execute_result"
    }
   ],
   "source": [
    "\n",
    "x=itertools.count()\n",
    "type(x)"
   ]
  },
  {
   "cell_type": "code",
   "execution_count": null,
   "metadata": {},
   "outputs": [],
   "source": [
    "#| export\n",
    "def _name_node(counter):\n",
    "    if isinstance(counter,itertools.count):\n",
    "        return next(counter)\n",
    "    else: # if its just the name to give\n",
    "        return counter\n",
    "\n",
    "def _select_if_needed(g,node_counter,source_node,terms):\n",
    "    \"\"\"add a project node as a father of source_node if the terms are not all free variables\n",
    "    returns the source_node if no project is needed, or the project node if it is needed\n",
    "    the name of the project node should be supplied\n",
    "    \"\"\"\n",
    "\n",
    "    need_select = any(not isinstance(term,FreeVar) for term in terms)\n",
    "    if not need_select:\n",
    "        return source_node\n",
    "    \n",
    "    select_pos_val = list()\n",
    "    for i,term in enumerate(terms):\n",
    "        if not isinstance(term,FreeVar):\n",
    "            select_pos_val.append((i,term))\n",
    "    \n",
    "    select_name = _name_node(node_counter)\n",
    "    g.add_node(select_name, op='select',theta=select_pos_val)\n",
    "    g.add_edge(select_name,source_node)\n",
    "    return select_name\n",
    "\n",
    "def _product_if_needed(g,node_counter,source_node,terms):\n",
    "    \"\"\"add a product node as a father of source_node if the terms are not all free variables\n",
    "    returns the source_node if no product is needed, or the product node if it is needed\n",
    "    the name of the product node should be supplied\n",
    "    \"\"\"\n",
    "\n",
    "    need_product = any(not isinstance(term,FreeVar) for term in terms)\n",
    "    if not need_product:\n",
    "        return source_node\n",
    "    \n",
    "    product_pos_val = list()\n",
    "    for i,term in enumerate(terms):\n",
    "        if not isinstance(term,FreeVar):\n",
    "            product_pos_val.append((i,term))\n",
    "    \n",
    "    product_name = _name_node(node_counter)\n",
    "    g.add_node(product_name, op='product',theta=product_pos_val)\n",
    "    g.add_edge(product_name,source_node)\n",
    "    return product_name\n",
    "\n",
    "# TODO from here, iteratively build the joins each time using _project_if_needed on the outrel and inrel of the relations/ierelaitons\n",
    "def _rule_to_term_graph(rule:Rule,rule_id) -> nx.DiGraph:\n",
    "    \"\"\"Convert a rule to a directed RA+IE term graph\"\"\"\n",
    "    node_counter = itertools.count()\n",
    "    G = nx.DiGraph()\n",
    "    # add nodes for all relations\n",
    "    body_term_connectors = list()\n",
    "    body_rels = _get_bounding_order(rule)\n",
    "\n",
    "    # create derivation for each rel in the body\n",
    "    for rel_idx,rel in enumerate(body_rels):\n",
    "        if isinstance(rel,Relation):\n",
    "            G.add_node(rel.name,rel=rel.name)\n",
    "            rename_node = _name_node(node_counter)\n",
    "            G.add_node(rename_node, op='rename',names=[(i,term.name) for i,term in enumerate(rel.terms) if isinstance(term,FreeVar)])\n",
    "            G.add_edge(rename_node,rel.name)\n",
    "            top_rel_node = _select_if_needed(G,node_counter,rename_node,rel.terms)\n",
    "            \n",
    "            body_term_connectors.append((None,top_rel_node))\n",
    "\n",
    "        elif isinstance(rel,IERelation):\n",
    "            get_input_node_name =_name_node(node_counter)\n",
    "            calc_node_name = _name_node(node_counter)\n",
    "            G.add_node(get_input_node_name, op='project', on=[term.name for term in rel.in_terms if isinstance(term,FreeVar)])\n",
    "            G.add_node(calc_node_name, op='calc',func=rel.name)\n",
    "\n",
    "            product_name = _name_node(node_counter)\n",
    "            calc_son = _product_if_needed(G,node_counter,get_input_node_name,rel.in_terms)\n",
    "            G.add_edge(calc_node_name,calc_son)\n",
    "            rename_node = _name_node(node_counter)\n",
    "            G.add_node(rename_node, op='rename',names=[(i,term.name) for i,term in enumerate(rel.out_terms) if isinstance(term,FreeVar)])\n",
    "            G.add_edge(rename_node,calc_node_name)\n",
    "            select_name = _name_node(node_counter)\n",
    "            top_rel_node = _select_if_needed(G,node_counter,rename_node,rel.out_terms)\n",
    "            body_term_connectors.append((get_input_node_name,top_rel_node))\n",
    "\n",
    "    # connect outputs of different rels via joins\n",
    "    # and connect input of ie functons into the join\n",
    "    for i,(connectors,rel) in enumerate(zip(body_term_connectors,body_rels)):\n",
    "        if i == 0:\n",
    "            prev_top = connectors[1]\n",
    "            continue\n",
    "\n",
    "        current_top = connectors[1]\n",
    "\n",
    "        join_node_name = _name_node(node_counter)\n",
    "        G.add_node(join_node_name, op='join')\n",
    "        G.add_edge(join_node_name,prev_top)\n",
    "        G.add_edge(join_node_name,current_top)\n",
    "\n",
    "        if isinstance(rel,IERelation):\n",
    "            ie_bottom = connectors[0]\n",
    "            G.add_edge(ie_bottom,prev_top)\n",
    "\n",
    "\n",
    "        prev_top = join_node_name\n",
    "\n",
    "    # project all assignments into the head\n",
    "    head_project_name = _name_node(node_counter)\n",
    "    G.add_node(head_project_name, op='project', on=[term.name for term in rule.head.terms],rel=f'_{rule.head.name}_{rule_id}')\n",
    "    G.add_edge(head_project_name,prev_top)\n",
    "\n",
    "    # add a union for each rule for the given head\n",
    "    G.add_node(rule.head.name,op='union',rel=rule.head.name)\n",
    "    G.add_edge(rule.head.name,head_project_name)\n",
    "\n",
    "    # add rule id for each node\n",
    "    for u in G.nodes:\n",
    "        G.nodes[u]['rule_id'] = {rule_id}\n",
    "    return G"
   ]
  },
  {
   "cell_type": "code",
   "execution_count": null,
   "metadata": {},
   "outputs": [
    {
     "data": {
      "text/html": [
       "<img src=\"https://mermaid.ink/img/CmZsb3djaGFydCBUQgpTWyJTCnJlbD0jcXVvdDtTI3F1b3Q7LCBydWxlX2lkPXswfSJdCjBbIjAKb3A9I3F1b3Q7cmVuYW1lI3F1b3Q7LCBuYW1lcz1bKDAsICNxdW90O1gjcXVvdDspXSwgcnVsZV9pZD17MH0iXQoxWyIxCm9wPSNxdW90O3NlbGVjdCNxdW90OywgdGhldGE9WygxLCBbMSw0KSldLCBydWxlX2lkPXswfSJdClMyWyJTMgpyZWw9I3F1b3Q7UzIjcXVvdDssIHJ1bGVfaWQ9ezB9Il0KMlsiMgpvcD0jcXVvdDtyZW5hbWUjcXVvdDssIG5hbWVzPVsoMCwgI3F1b3Q7WCNxdW90OyksICgxLCAjcXVvdDtBI3F1b3Q7KSwgKDIsICNxdW90O0IjcXVvdDspXSwgcnVsZV9pZD17MH0iXQozWyIzCm9wPSNxdW90O3Byb2plY3QjcXVvdDssIG9uPVsjcXVvdDtYI3F1b3Q7XSwgcnVsZV9pZD17MH0iXQo0WyI0Cm9wPSNxdW90O2NhbGMjcXVvdDssIGZ1bmM9I3F1b3Q7VCNxdW90OywgcnVsZV9pZD17MH0iXQo2WyI2Cm9wPSNxdW90O3Byb2R1Y3QjcXVvdDssIHRoZXRhPVsoMSwgMSldLCBydWxlX2lkPXswfSJdCjdbIjcKb3A9I3F1b3Q7cmVuYW1lI3F1b3Q7LCBuYW1lcz1bKDAsICNxdW90O1kjcXVvdDspLCAoMSwgI3F1b3Q7WiNxdW90OyldLCBydWxlX2lkPXswfSJdCjlbIjkKb3A9I3F1b3Q7cHJvamVjdCNxdW90Oywgb249WyNxdW90O1gjcXVvdDssICNxdW90O1kjcXVvdDtdLCBydWxlX2lkPXswfSJdCjEwWyIxMApvcD0jcXVvdDtjYWxjI3F1b3Q7LCBmdW5jPSNxdW90O1QyI3F1b3Q7LCBydWxlX2lkPXswfSJdCjEyWyIxMgpvcD0jcXVvdDtyZW5hbWUjcXVvdDssIG5hbWVzPVsoMCwgI3F1b3Q7VyNxdW90OyksICgxLCAjcXVvdDtaI3F1b3Q7KV0sIHJ1bGVfaWQ9ezB9Il0KMTRbIjE0Cm9wPSNxdW90O2pvaW4jcXVvdDssIHJ1bGVfaWQ9ezB9Il0KMTVbIjE1Cm9wPSNxdW90O2pvaW4jcXVvdDssIHJ1bGVfaWQ9ezB9Il0KMTZbIjE2Cm9wPSNxdW90O2pvaW4jcXVvdDssIHJ1bGVfaWQ9ezB9Il0KMTdbIjE3Cm9wPSNxdW90O3Byb2plY3QjcXVvdDssIG9uPVsjcXVvdDtYI3F1b3Q7LCAjcXVvdDtZI3F1b3Q7LCAjcXVvdDtaI3F1b3Q7XSwgcmVsPSNxdW90O19SXzAjcXVvdDssIHJ1bGVfaWQ9ezB9Il0KUlsiUgpvcD0jcXVvdDt1bmlvbiNxdW90OywgcmVsPSNxdW90O1IjcXVvdDssIHJ1bGVfaWQ9ezB9Il0KMCAtLT4gUwoxIC0tPiAwCjIgLS0+IFMyCjMgLS0+IDE0CjQgLS0+IDYKNiAtLT4gMwo3IC0tPiA0CjkgLS0+IDE1CjEwIC0tPiA5CjEyIC0tPiAxMAoxNCAtLT4gMQoxNCAtLT4gMgoxNSAtLT4gMTQKMTUgLS0+IDcKMTYgLS0+IDE1CjE2IC0tPiAxMgoxNyAtLT4gMTYKUiAtLT4gMTcK\"/>"
      ],
      "text/plain": [
       "<IPython.core.display.Image object>"
      ]
     },
     "metadata": {},
     "output_type": "display_data"
    }
   ],
   "source": [
    "#TODO FROM HERE add labels to nodes we can labels\n",
    "# add HEAD projection node \n",
    "# maybe add free vars\n",
    "g = _rule_to_term_graph(r,0)\n",
    "draw(g)\n",
    "serialize_graph(g)\n",
    "assert serialize_graph(g) == ([('S', { 'rel': 'S', 'rule_id': {0}}),\n",
    "  (0, {'op': 'rename', 'names': [(0, 'X')], 'rule_id': {0}}),\n",
    "  (1, {'op': 'select', 'theta': [(1, Span(1,4))], 'rule_id': {0}}),\n",
    "  ('S2', { 'rel': 'S2', 'rule_id': {0}}),\n",
    "  (2,\n",
    "   {'op': 'rename', 'names': [(0, 'X'), (1, 'A'), (2, 'B')], 'rule_id': {0}}),\n",
    "  (3, {'op': 'project', 'on': ['X'], 'rule_id': {0}}),\n",
    "  (4, {'op': 'calc', 'func': 'T', 'rule_id': {0}}),\n",
    "  (6, {'op': 'product', 'theta': [(1, 1)], 'rule_id': {0}}),\n",
    "  (7, {'op': 'rename', 'names': [(0, 'Y'), (1, 'Z')], 'rule_id': {0}}),\n",
    "  (9, {'op': 'project', 'on': ['X', 'Y'], 'rule_id': {0}}),\n",
    "  (10, {'op': 'calc', 'func': 'T2', 'rule_id': {0}}),\n",
    "  (12, {'op': 'rename', 'names': [(0, 'W'), (1, 'Z')], 'rule_id': {0}}),\n",
    "  (14, {'op': 'join', 'rule_id': {0}}),\n",
    "  (15, {'op': 'join', 'rule_id': {0}}),\n",
    "  (16, {'op': 'join', 'rule_id': {0}}),\n",
    "  (17,\n",
    "   {'op': 'project', 'on': ['X', 'Y', 'Z'], 'rel': '_R_0', 'rule_id': {0}}),\n",
    "  ('R', {'op': 'union', 'rel': 'R', 'rule_id': {0}})],\n",
    " [(0, 'S', {}),\n",
    "  (1, 0, {}),\n",
    "  (2, 'S2', {}),\n",
    "  (3, 14, {}),\n",
    "  (4, 6, {}),\n",
    "  (6, 3, {}),\n",
    "  (7, 4, {}),\n",
    "  (9, 15, {}),\n",
    "  (10, 9, {}),\n",
    "  (12, 10, {}),\n",
    "  (14, 1, {}),\n",
    "  (14, 2, {}),\n",
    "  (15, 14, {}),\n",
    "  (15, 7, {}),\n",
    "  (16, 15, {}),\n",
    "  (16, 12, {}),\n",
    "  (17, 16, {}),\n",
    "  ('R', 17, {})])"
   ]
  },
  {
   "cell_type": "code",
   "execution_count": null,
   "metadata": {},
   "outputs": [
    {
     "name": "stdout",
     "output_type": "stream",
     "text": [
      "R(X,Y) <- S(X,Y),S2(X,A,1)\n",
      "R(X,Y) <- S(X,Y)\n",
      "R2(X,Y) <- S3(X,Y),S2(X,A,1)\n"
     ]
    }
   ],
   "source": [
    "r1 = Rule(\n",
    "    head=Relation(name='R', terms=[FreeVar(name='X'), FreeVar(name='Y')]),\n",
    "    body=[\n",
    "        Relation(name='S', terms=[FreeVar(name='X'),FreeVar(name='Y')]),\n",
    "        Relation(name='S2', terms=[FreeVar(name='X'), FreeVar(name='A'),1]),\n",
    "    ])\n",
    "\n",
    "r2 = Rule(\n",
    "    head=Relation(name='R', terms=[FreeVar(name='X'), FreeVar(name='Y')]),\n",
    "    body=[\n",
    "        Relation(name='S', terms=[FreeVar(name='X'),FreeVar(name='Y')]),\n",
    "    ])\n",
    "\n",
    "r3 = Rule(\n",
    "    head=Relation(name='R2', terms=[FreeVar(name='X'), FreeVar(name='Y')]),\n",
    "    body=[\n",
    "        Relation(name='S3', terms=[FreeVar(name='X'),FreeVar(name='Y')]),\n",
    "        Relation(name='S2', terms=[FreeVar(name='X'), FreeVar(name='A'),1]),\n",
    "    ])\n",
    "rules = [r1,r2,r3]\n",
    "for r in rules:\n",
    "    print(pretty(r))\n",
    "t1,t2,t3 = [_rule_to_term_graph(r,i) for i,r in enumerate(rules)]"
   ]
  },
  {
   "cell_type": "code",
   "execution_count": null,
   "metadata": {},
   "outputs": [],
   "source": [
    "#| export\n",
    "def graph_compose(g1,g2,mapping_dict,debug=False):\n",
    "    \"\"\"compose two graphs with a mapping dict\"\"\"\n",
    "    # if there is a node in g2 that is renamed but has a name collision with an existing node that is not renamed, we will rename the existing node to a uniq name\n",
    "    # making new names into a digraph is a dirty hack, TODO resolve this\n",
    "    save_new_names= nx.DiGraph()\n",
    "    original_mapping_dict = mapping_dict.copy()\n",
    "    for u2 in g2.nodes():\n",
    "        if u2 not in mapping_dict and u2 in g1.nodes():\n",
    "            mapping_dict[u2] = get_new_node_name(g2,avoid_names_from=[g1,save_new_names])\n",
    "            save_new_names.add_node(mapping_dict[u2])\n",
    "    if debug:\n",
    "        return mapping_dict\n",
    "    g2 = nx.relabel_nodes(g2,mapping_dict,copy=True)\n",
    "\n",
    "    merged_graph = nx.compose(g1,g2)\n",
    "    for old_name,new_name in original_mapping_dict.items():\n",
    "        rule_ids1 = g1.nodes[old_name].get('rule_id',set())\n",
    "        rule_ids2 = g2.nodes[new_name].get('rule_id',set())\n",
    "        merged_rule_ids = rule_ids1.union(rule_ids2)\n",
    "        merged_graph.nodes[new_name]['rule_id'] = merged_rule_ids\n",
    "\n",
    "\n",
    "\n",
    "    return merged_graph\n"
   ]
  },
  {
   "cell_type": "code",
   "execution_count": null,
   "metadata": {},
   "outputs": [
    {
     "data": {
      "text/html": [
       "<img src=\"https://mermaid.ink/img/CmZsb3djaGFydCBUQgpTWyJTCnJlbD0jcXVvdDtTI3F1b3Q7LCBydWxlX2lkPXswfSJdCjBbIjAKb3A9I3F1b3Q7cmVuYW1lI3F1b3Q7LCBuYW1lcz1bKDAsICNxdW90O1gjcXVvdDspLCAoMSwgI3F1b3Q7WSNxdW90OyldLCBydWxlX2lkPXswfSJdClMyWyJTMgpyZWw9I3F1b3Q7UzIjcXVvdDssIHJ1bGVfaWQ9ezB9Il0KMVsiMQpvcD0jcXVvdDtyZW5hbWUjcXVvdDssIG5hbWVzPVsoMCwgI3F1b3Q7WCNxdW90OyksICgxLCAjcXVvdDtBI3F1b3Q7KV0sIHJ1bGVfaWQ9ezB9Il0KMlsiMgpvcD0jcXVvdDtzZWxlY3QjcXVvdDssIHRoZXRhPVsoMiwgMSldLCBydWxlX2lkPXswfSJdCjNbIjMKb3A9I3F1b3Q7am9pbiNxdW90OywgcnVsZV9pZD17MH0iXQo0WyI0Cm9wPSNxdW90O3Byb2plY3QjcXVvdDssIG9uPVsjcXVvdDtYI3F1b3Q7LCAjcXVvdDtZI3F1b3Q7XSwgcmVsPSNxdW90O19SXzAjcXVvdDssIHJ1bGVfaWQ9ezB9Il0KUlsiUgpvcD0jcXVvdDt1bmlvbiNxdW90OywgcmVsPSNxdW90O1IjcXVvdDssIHJ1bGVfaWQ9ezB9Il0KMCAtLT4gUwoxIC0tPiBTMgoyIC0tPiAxCjMgLS0+IDAKMyAtLT4gMgo0IC0tPiAzClIgLS0+IDQK\"/>"
      ],
      "text/plain": [
       "<IPython.core.display.Image object>"
      ]
     },
     "metadata": {},
     "output_type": "display_data"
    },
    {
     "data": {
      "text/html": [
       "<img src=\"https://mermaid.ink/img/CmZsb3djaGFydCBUQgpTWyJTCnJlbD0jcXVvdDtTI3F1b3Q7LCBydWxlX2lkPXsxfSJdCjBbIjAKb3A9I3F1b3Q7cmVuYW1lI3F1b3Q7LCBuYW1lcz1bKDAsICNxdW90O1gjcXVvdDspLCAoMSwgI3F1b3Q7WSNxdW90OyldLCBydWxlX2lkPXsxfSJdCjFbIjEKb3A9I3F1b3Q7cHJvamVjdCNxdW90Oywgb249WyNxdW90O1gjcXVvdDssICNxdW90O1kjcXVvdDtdLCByZWw9I3F1b3Q7X1JfMSNxdW90OywgcnVsZV9pZD17MX0iXQpSWyJSCm9wPSNxdW90O3VuaW9uI3F1b3Q7LCByZWw9I3F1b3Q7UiNxdW90OywgcnVsZV9pZD17MX0iXQowIC0tPiBTCjEgLS0+IDAKUiAtLT4gMQo=\"/>"
      ],
      "text/plain": [
       "<IPython.core.display.Image object>"
      ]
     },
     "metadata": {},
     "output_type": "display_data"
    },
    {
     "data": {
      "text/html": [
       "<img src=\"https://mermaid.ink/img/CmZsb3djaGFydCBUQgpTM1siUzMKcmVsPSNxdW90O1MzI3F1b3Q7LCBydWxlX2lkPXsyfSJdCjBbIjAKb3A9I3F1b3Q7cmVuYW1lI3F1b3Q7LCBuYW1lcz1bKDAsICNxdW90O1gjcXVvdDspLCAoMSwgI3F1b3Q7WSNxdW90OyldLCBydWxlX2lkPXsyfSJdClMyWyJTMgpyZWw9I3F1b3Q7UzIjcXVvdDssIHJ1bGVfaWQ9ezJ9Il0KMVsiMQpvcD0jcXVvdDtyZW5hbWUjcXVvdDssIG5hbWVzPVsoMCwgI3F1b3Q7WCNxdW90OyksICgxLCAjcXVvdDtBI3F1b3Q7KV0sIHJ1bGVfaWQ9ezJ9Il0KMlsiMgpvcD0jcXVvdDtzZWxlY3QjcXVvdDssIHRoZXRhPVsoMiwgMSldLCBydWxlX2lkPXsyfSJdCjNbIjMKb3A9I3F1b3Q7am9pbiNxdW90OywgcnVsZV9pZD17Mn0iXQo0WyI0Cm9wPSNxdW90O3Byb2plY3QjcXVvdDssIG9uPVsjcXVvdDtYI3F1b3Q7LCAjcXVvdDtZI3F1b3Q7XSwgcmVsPSNxdW90O19SMl8yI3F1b3Q7LCBydWxlX2lkPXsyfSJdClIyWyJSMgpvcD0jcXVvdDt1bmlvbiNxdW90OywgcmVsPSNxdW90O1IyI3F1b3Q7LCBydWxlX2lkPXsyfSJdCjAgLS0+IFMzCjEgLS0+IFMyCjIgLS0+IDEKMyAtLT4gMAozIC0tPiAyCjQgLS0+IDMKUjIgLS0+IDQK\"/>"
      ],
      "text/plain": [
       "<IPython.core.display.Image object>"
      ]
     },
     "metadata": {},
     "output_type": "display_data"
    }
   ],
   "source": [
    "draw(t1)\n",
    "draw(t2)\n",
    "draw(t3)"
   ]
  },
  {
   "cell_type": "code",
   "execution_count": null,
   "metadata": {},
   "outputs": [],
   "source": [
    "assert graph_compose(t1,t3,{\n",
    "    'S':'S',0:0,1:1,\n",
    "},debug=True) == {'S': 'S', 0: 0, 1: 1, 'S2': 5, 2: 6, 3: 7, 4: 8}"
   ]
  },
  {
   "cell_type": "code",
   "execution_count": null,
   "metadata": {},
   "outputs": [],
   "source": [
    "assert graph_compose(t1,t2,\n",
    "    mapping_dict = {'S':'S','R':'R',0:0}\n",
    "    ,debug=True) == {'S': 'S', 'R': 'R', 0: 0, 1: 5}"
   ]
  },
  {
   "cell_type": "code",
   "execution_count": null,
   "metadata": {},
   "outputs": [
    {
     "data": {
      "text/html": [
       "<img src=\"https://mermaid.ink/img/CmZsb3djaGFydCBUQgpTWyJTCnJlbD0jcXVvdDtTI3F1b3Q7LCBydWxlX2lkPXswLCAxfSJdCjBbIjAKb3A9I3F1b3Q7cmVuYW1lI3F1b3Q7LCBuYW1lcz1bKDAsICNxdW90O1gjcXVvdDspLCAoMSwgI3F1b3Q7WSNxdW90OyldLCBydWxlX2lkPXswLCAxfSJdClMyWyJTMgpyZWw9I3F1b3Q7UzIjcXVvdDssIHJ1bGVfaWQ9ezB9Il0KMVsiMQpvcD0jcXVvdDtyZW5hbWUjcXVvdDssIG5hbWVzPVsoMCwgI3F1b3Q7WCNxdW90OyksICgxLCAjcXVvdDtBI3F1b3Q7KV0sIHJ1bGVfaWQ9ezB9Il0KMlsiMgpvcD0jcXVvdDtzZWxlY3QjcXVvdDssIHRoZXRhPVsoMiwgMSldLCBydWxlX2lkPXswfSJdCjNbIjMKb3A9I3F1b3Q7am9pbiNxdW90OywgcnVsZV9pZD17MH0iXQo0WyI0Cm9wPSNxdW90O3Byb2plY3QjcXVvdDssIG9uPVsjcXVvdDtYI3F1b3Q7LCAjcXVvdDtZI3F1b3Q7XSwgcmVsPSNxdW90O19SXzAjcXVvdDssIHJ1bGVfaWQ9ezB9Il0KUlsiUgpvcD0jcXVvdDt1bmlvbiNxdW90OywgcmVsPSNxdW90O1IjcXVvdDssIHJ1bGVfaWQ9ezAsIDF9Il0KNVsiNQpvcD0jcXVvdDtwcm9qZWN0I3F1b3Q7LCBvbj1bI3F1b3Q7WCNxdW90OywgI3F1b3Q7WSNxdW90O10sIHJlbD0jcXVvdDtfUl8xI3F1b3Q7LCBydWxlX2lkPXsxfSJdCjAgLS0+IFMKMSAtLT4gUzIKMiAtLT4gMQozIC0tPiAwCjMgLS0+IDIKNCAtLT4gMwpSIC0tPiA0ClIgLS0+IDUKNSAtLT4gMAo=\"/>"
      ],
      "text/plain": [
       "<IPython.core.display.Image object>"
      ]
     },
     "metadata": {},
     "output_type": "display_data"
    }
   ],
   "source": [
    "m= graph_compose(t1,t2,\n",
    "    mapping_dict = {'S':'S','R':'R',0:0}) \n",
    "draw(m)"
   ]
  },
  {
   "cell_type": "code",
   "execution_count": null,
   "metadata": {},
   "outputs": [],
   "source": [
    "#| export\n",
    "def merge_term_graphs_pair(g1,g2,exclude_props = ['label'],debug=False):\n",
    "    \"\"\"merge two term graphs into one term graph\n",
    "    when talking about term graphs, 2 nodes if their data is identical and all of their children are identical\n",
    "    but we would also like to merge rules for the same head, so we will also nodes that have the same 'rel' attribute\n",
    "    \"\"\"\n",
    "\n",
    "    def _are_nodes_equal(g1,u1,g2,u2):\n",
    "\n",
    "        u1_data = g1.nodes[u1]\n",
    "        u2_data = g2.nodes[u2]\n",
    "        \n",
    "        if 'rel' in u1_data and 'rel' in u2_data:\n",
    "            return u1_data['rel'] == u2_data['rel']\n",
    "\n",
    "\n",
    "        \n",
    "        return False\n",
    "        # TODO this old code tries to merge nodes, but then its hard to remember which belong to which rules so we only merge\n",
    "        # so we will do this merging per query\n",
    "        u1_clean_data = {k:v for k,v in u1_data.items() if k not in exclude_props}\n",
    "        u2_clean_data = {k:v for k,v in u2_data.items() if k not in exclude_props}\n",
    "\n",
    "        are_equal = u1_clean_data == u2_clean_data and all(v2 in node_mappings for v2 in g2.successors(u2))\n",
    "        return are_equal\n",
    "        \n",
    "\n",
    "    # we will check for each node in g2 if it has a node in g1 which is it's equal.\n",
    "    # and save that in a mapping\n",
    "    node_mappings=dict()# g2 node name to g1 node name\n",
    "    # we use the fact that g2 is going to be acyclic to travers it in postorder\n",
    "    for u2 in nx.dfs_postorder_nodes(g2):\n",
    "        for u1 in g1.nodes():\n",
    "            if _are_nodes_equal(g1,u1,g2,u2):\n",
    "                node_mappings[u2] = u1\n",
    "                break\n",
    "\n",
    "\n",
    "\n",
    "    if debug:\n",
    "        return node_mappings\n",
    "    else:\n",
    "        return graph_compose(g1,g2,node_mappings)\n",
    "\n",
    "\n",
    "\n",
    "def merge_term_graphs(gs,exclude_props = ['label'],debug=False):\n",
    "    \"\"\"merge a list of term graphs into one term graph\n",
    "    \"\"\"\n",
    "    merge = gs[0]\n",
    "    for g in gs[1:-1]:\n",
    "        merge = merge_term_graphs_pair(merge,g,exclude_props,debug=False)\n",
    "    # if debug, we run debug only on the last merge so we can iteratively debug a list of merges\n",
    "    return merge_term_graphs_pair(merge,gs[-1],exclude_props,debug=debug)\n"
   ]
  },
  {
   "cell_type": "markdown",
   "metadata": {},
   "source": [
    "#### Tests"
   ]
  },
  {
   "cell_type": "code",
   "execution_count": null,
   "metadata": {},
   "outputs": [],
   "source": [
    "r1 = Rule(\n",
    "    head=Relation(name='A', terms=[FreeVar(name='X'), FreeVar(name='Y')]),\n",
    "    body=[\n",
    "        Relation(name='B', terms=[FreeVar(name='X'),FreeVar(name='Y')]),\n",
    "    ])\n",
    "\n",
    "r2 = Rule(\n",
    "    head=Relation(name='A', terms=[FreeVar(name='X'), FreeVar(name='Y')]),\n",
    "    body=[\n",
    "        Relation(name='C', terms=[FreeVar(name='X'),FreeVar(name='Y')]),\n",
    "    ])\n",
    "\n",
    "r3 = Rule(\n",
    "    head=Relation(name='B', terms=[FreeVar(name='X'), FreeVar(name='Y')]),\n",
    "    body=[\n",
    "        Relation(name='D', terms=[FreeVar(name='X'),FreeVar(name='Y')]),\n",
    "    ])\n",
    "\n",
    "r4 = Rule(\n",
    "    head=Relation(name='B', terms=[FreeVar(name='X'), FreeVar(name='Y')]),\n",
    "    body=[\n",
    "        Relation(name='A', terms=[FreeVar(name='X'),FreeVar(name='Y')]),\n",
    "    ])\n",
    "\n"
   ]
  },
  {
   "cell_type": "code",
   "execution_count": null,
   "metadata": {},
   "outputs": [
    {
     "name": "stdout",
     "output_type": "stream",
     "text": [
      "['A(X,Y) <- B(X,Y)', 'A(X,Y) <- C(X,Y)', 'B(X,Y) <- D(X,Y)', 'B(X,Y) <- A(X,Y)']\n"
     ]
    },
    {
     "data": {
      "text/html": [
       "<img src=\"https://mermaid.ink/img/CmZsb3djaGFydCBUQgpCWyJCCnJlbD0jcXVvdDtCI3F1b3Q7LCBydWxlX2lkPXswfSJdCjBbIjAKb3A9I3F1b3Q7cmVuYW1lI3F1b3Q7LCBuYW1lcz1bKDAsICNxdW90O1gjcXVvdDspLCAoMSwgI3F1b3Q7WSNxdW90OyldLCBydWxlX2lkPXswfSJdCjFbIjEKb3A9I3F1b3Q7cHJvamVjdCNxdW90Oywgb249WyNxdW90O1gjcXVvdDssICNxdW90O1kjcXVvdDtdLCByZWw9I3F1b3Q7X0FfMCNxdW90OywgcnVsZV9pZD17MH0iXQpBWyJBCm9wPSNxdW90O3VuaW9uI3F1b3Q7LCByZWw9I3F1b3Q7QSNxdW90OywgcnVsZV9pZD17MH0iXQowIC0tPiBCCjEgLS0+IDAKQSAtLT4gMQo=\"/>"
      ],
      "text/plain": [
       "<IPython.core.display.Image object>"
      ]
     },
     "metadata": {},
     "output_type": "display_data"
    },
    {
     "data": {
      "text/html": [
       "<img src=\"https://mermaid.ink/img/CmZsb3djaGFydCBUQgpDWyJDCnJlbD0jcXVvdDtDI3F1b3Q7LCBydWxlX2lkPXswfSJdCjBbIjAKb3A9I3F1b3Q7cmVuYW1lI3F1b3Q7LCBuYW1lcz1bKDAsICNxdW90O1gjcXVvdDspLCAoMSwgI3F1b3Q7WSNxdW90OyldLCBydWxlX2lkPXswfSJdCjFbIjEKb3A9I3F1b3Q7cHJvamVjdCNxdW90Oywgb249WyNxdW90O1gjcXVvdDssICNxdW90O1kjcXVvdDtdLCByZWw9I3F1b3Q7X0FfMCNxdW90OywgcnVsZV9pZD17MH0iXQpBWyJBCm9wPSNxdW90O3VuaW9uI3F1b3Q7LCByZWw9I3F1b3Q7QSNxdW90OywgcnVsZV9pZD17MH0iXQowIC0tPiBDCjEgLS0+IDAKQSAtLT4gMQo=\"/>"
      ],
      "text/plain": [
       "<IPython.core.display.Image object>"
      ]
     },
     "metadata": {},
     "output_type": "display_data"
    },
    {
     "data": {
      "text/html": [
       "<img src=\"https://mermaid.ink/img/CmZsb3djaGFydCBUQgpEWyJECnJlbD0jcXVvdDtEI3F1b3Q7LCBydWxlX2lkPXswfSJdCjBbIjAKb3A9I3F1b3Q7cmVuYW1lI3F1b3Q7LCBuYW1lcz1bKDAsICNxdW90O1gjcXVvdDspLCAoMSwgI3F1b3Q7WSNxdW90OyldLCBydWxlX2lkPXswfSJdCjFbIjEKb3A9I3F1b3Q7cHJvamVjdCNxdW90Oywgb249WyNxdW90O1gjcXVvdDssICNxdW90O1kjcXVvdDtdLCByZWw9I3F1b3Q7X0JfMCNxdW90OywgcnVsZV9pZD17MH0iXQpCWyJCCm9wPSNxdW90O3VuaW9uI3F1b3Q7LCByZWw9I3F1b3Q7QiNxdW90OywgcnVsZV9pZD17MH0iXQowIC0tPiBECjEgLS0+IDAKQiAtLT4gMQo=\"/>"
      ],
      "text/plain": [
       "<IPython.core.display.Image object>"
      ]
     },
     "metadata": {},
     "output_type": "display_data"
    },
    {
     "data": {
      "text/html": [
       "<img src=\"https://mermaid.ink/img/CmZsb3djaGFydCBUQgpBWyJBCnJlbD0jcXVvdDtBI3F1b3Q7LCBydWxlX2lkPXswfSJdCjBbIjAKb3A9I3F1b3Q7cmVuYW1lI3F1b3Q7LCBuYW1lcz1bKDAsICNxdW90O1gjcXVvdDspLCAoMSwgI3F1b3Q7WSNxdW90OyldLCBydWxlX2lkPXswfSJdCjFbIjEKb3A9I3F1b3Q7cHJvamVjdCNxdW90Oywgb249WyNxdW90O1gjcXVvdDssICNxdW90O1kjcXVvdDtdLCByZWw9I3F1b3Q7X0JfMCNxdW90OywgcnVsZV9pZD17MH0iXQpCWyJCCm9wPSNxdW90O3VuaW9uI3F1b3Q7LCByZWw9I3F1b3Q7QiNxdW90OywgcnVsZV9pZD17MH0iXQowIC0tPiBBCjEgLS0+IDAKQiAtLT4gMQo=\"/>"
      ],
      "text/plain": [
       "<IPython.core.display.Image object>"
      ]
     },
     "metadata": {},
     "output_type": "display_data"
    }
   ],
   "source": [
    "rules = [r1,r2,r3,r4]\n",
    "print([pretty(r) for r in rules])\n",
    "for r in rules:\n",
    "    draw(_rule_to_term_graph(r,0))\n"
   ]
  },
  {
   "cell_type": "code",
   "execution_count": null,
   "metadata": {},
   "outputs": [
    {
     "data": {
      "text/html": [
       "<img src=\"https://mermaid.ink/img/CmZsb3djaGFydCBUQgpCWyJCCnJlbD0jcXVvdDtCI3F1b3Q7LCBydWxlX2lkPXswLCAyLCAzfSwgb3A9I3F1b3Q7dW5pb24jcXVvdDsiXQowWyIwCm9wPSNxdW90O3JlbmFtZSNxdW90OywgbmFtZXM9WygwLCAjcXVvdDtYI3F1b3Q7KSwgKDEsICNxdW90O1kjcXVvdDspXSwgcnVsZV9pZD17MH0iXQoxWyIxCm9wPSNxdW90O3Byb2plY3QjcXVvdDssIG9uPVsjcXVvdDtYI3F1b3Q7LCAjcXVvdDtZI3F1b3Q7XSwgcmVsPSNxdW90O19BXzAjcXVvdDssIHJ1bGVfaWQ9ezB9Il0KQVsiQQpvcD0jcXVvdDt1bmlvbiNxdW90OywgcmVsPSNxdW90O0EjcXVvdDssIHJ1bGVfaWQ9ezAsIDEsIDN9Il0KQ1siQwpyZWw9I3F1b3Q7QyNxdW90OywgcnVsZV9pZD17MX0iXQoyWyIyCm9wPSNxdW90O3JlbmFtZSNxdW90OywgbmFtZXM9WygwLCAjcXVvdDtYI3F1b3Q7KSwgKDEsICNxdW90O1kjcXVvdDspXSwgcnVsZV9pZD17MX0iXQozWyIzCm9wPSNxdW90O3Byb2plY3QjcXVvdDssIG9uPVsjcXVvdDtYI3F1b3Q7LCAjcXVvdDtZI3F1b3Q7XSwgcmVsPSNxdW90O19BXzEjcXVvdDssIHJ1bGVfaWQ9ezF9Il0KRFsiRApyZWw9I3F1b3Q7RCNxdW90OywgcnVsZV9pZD17Mn0iXQo0WyI0Cm9wPSNxdW90O3JlbmFtZSNxdW90OywgbmFtZXM9WygwLCAjcXVvdDtYI3F1b3Q7KSwgKDEsICNxdW90O1kjcXVvdDspXSwgcnVsZV9pZD17Mn0iXQo1WyI1Cm9wPSNxdW90O3Byb2plY3QjcXVvdDssIG9uPVsjcXVvdDtYI3F1b3Q7LCAjcXVvdDtZI3F1b3Q7XSwgcmVsPSNxdW90O19CXzIjcXVvdDssIHJ1bGVfaWQ9ezJ9Il0KNlsiNgpvcD0jcXVvdDtyZW5hbWUjcXVvdDssIG5hbWVzPVsoMCwgI3F1b3Q7WCNxdW90OyksICgxLCAjcXVvdDtZI3F1b3Q7KV0sIHJ1bGVfaWQ9ezN9Il0KN1siNwpvcD0jcXVvdDtwcm9qZWN0I3F1b3Q7LCBvbj1bI3F1b3Q7WCNxdW90OywgI3F1b3Q7WSNxdW90O10sIHJlbD0jcXVvdDtfQl8zI3F1b3Q7LCBydWxlX2lkPXszfSJdCkIgLS0+IDUKQiAtLT4gNwowIC0tPiBCCjEgLS0+IDAKQSAtLT4gMQpBIC0tPiAzCjIgLS0+IEMKMyAtLT4gMgo0IC0tPiBECjUgLS0+IDQKNiAtLT4gQQo3IC0tPiA2Cg==\"/>"
      ],
      "text/plain": [
       "<IPython.core.display.Image object>"
      ]
     },
     "metadata": {},
     "output_type": "display_data"
    }
   ],
   "source": [
    "m = merge_term_graphs([_rule_to_term_graph(r,i) for i,r in enumerate(rules)])\n",
    "draw(m)\n",
    "# assert serialize_graph(m) == ([('B', {'op': 'union', 'rel': 'B', 'rule_id': {0, 2, 3}}),\n",
    "#   (0, {'op': 'rename', 'names': [(0, 'X'), (1, 'Y')], 'rule_id': {0}}),\n",
    "#   (1, {'op': 'project', 'on': ['X', 'Y'], 'rel': '_A_0', 'rule_id': {0}}),\n",
    "#   ('A', { 'rel': 'A', 'rule_id': {0, 1, 3}}),\n",
    "#   ('C', { 'rel': 'C', 'rule_id': {1}}),\n",
    "#   (2, {'op': 'rename', 'names': [(0, 'X'), (1, 'Y')], 'rule_id': {1}}),\n",
    "#   (3, {'op': 'project', 'on': ['X', 'Y'], 'rel': '_A_1', 'rule_id': {1}}),\n",
    "#   ('D', { 'rel': 'D', 'rule_id': {2}}),\n",
    "#   (4, {'op': 'rename', 'names': [(0, 'X'), (1, 'Y')], 'rule_id': {2}}),\n",
    "#   (5, {'op': 'project', 'on': ['X', 'Y'], 'rel': '_B_2', 'rule_id': {2}}),\n",
    "#   (6, {'op': 'rename', 'names': [(0, 'X'), (1, 'Y')], 'rule_id': {3}}),\n",
    "#   (7, {'op': 'project', 'on': ['X', 'Y'], 'rel': '_B_3', 'rule_id': {3}})],\n",
    "#  [('B', 5, {}),\n",
    "#   ('B', 7, {}),\n",
    "#   (0, 'B', {}),\n",
    "#   (1, 0, {}),\n",
    "#   ('A', 1, {}),\n",
    "#   ('A', 3, {}),\n",
    "#   (2, 'C', {}),\n",
    "#   (3, 2, {}),\n",
    "#   (4, 'D', {}),\n",
    "#   (5, 4, {}),\n",
    "#   (6, 'A', {}),\n",
    "#   (7, 6, {})])"
   ]
  },
  {
   "cell_type": "code",
   "execution_count": null,
   "metadata": {},
   "outputs": [
    {
     "data": {
      "text/html": [
       "<img src=\"https://mermaid.ink/img/CmZsb3djaGFydCBUQgpTWyJTCnJlbD0jcXVvdDtTI3F1b3Q7LCBydWxlX2lkPXswLCAxfSJdCjBbIjAKb3A9I3F1b3Q7cmVuYW1lI3F1b3Q7LCBuYW1lcz1bKDAsICNxdW90O1gjcXVvdDspLCAoMSwgI3F1b3Q7WSNxdW90OyldLCBydWxlX2lkPXswfSJdClMyWyJTMgpyZWw9I3F1b3Q7UzIjcXVvdDssIHJ1bGVfaWQ9ezB9Il0KMVsiMQpvcD0jcXVvdDtyZW5hbWUjcXVvdDssIG5hbWVzPVsoMCwgI3F1b3Q7WCNxdW90OyksICgxLCAjcXVvdDtBI3F1b3Q7KV0sIHJ1bGVfaWQ9ezB9Il0KMlsiMgpvcD0jcXVvdDtzZWxlY3QjcXVvdDssIHRoZXRhPVsoMiwgMSldLCBydWxlX2lkPXswfSJdCjNbIjMKb3A9I3F1b3Q7am9pbiNxdW90OywgcnVsZV9pZD17MH0iXQo0WyI0Cm9wPSNxdW90O3Byb2plY3QjcXVvdDssIG9uPVsjcXVvdDtYI3F1b3Q7LCAjcXVvdDtZI3F1b3Q7XSwgcmVsPSNxdW90O19SXzAjcXVvdDssIHJ1bGVfaWQ9ezB9Il0KUlsiUgpvcD0jcXVvdDt1bmlvbiNxdW90OywgcmVsPSNxdW90O1IjcXVvdDssIHJ1bGVfaWQ9ezAsIDF9Il0KNVsiNQpvcD0jcXVvdDtyZW5hbWUjcXVvdDssIG5hbWVzPVsoMCwgI3F1b3Q7WCNxdW90OyksICgxLCAjcXVvdDtZI3F1b3Q7KV0sIHJ1bGVfaWQ9ezF9Il0KNlsiNgpvcD0jcXVvdDtwcm9qZWN0I3F1b3Q7LCBvbj1bI3F1b3Q7WCNxdW90OywgI3F1b3Q7WSNxdW90O10sIHJlbD0jcXVvdDtfUl8xI3F1b3Q7LCBydWxlX2lkPXsxfSJdCjAgLS0+IFMKMSAtLT4gUzIKMiAtLT4gMQozIC0tPiAwCjMgLS0+IDIKNCAtLT4gMwpSIC0tPiA0ClIgLS0+IDYKNSAtLT4gUwo2IC0tPiA1Cg==\"/>"
      ],
      "text/plain": [
       "<IPython.core.display.Image object>"
      ]
     },
     "metadata": {},
     "output_type": "display_data"
    }
   ],
   "source": [
    "m = merge_term_graphs([t1,t2])\n",
    "draw(m)\n",
    "assert serialize_graph(m) == ([('S', { 'rel': 'S', 'rule_id': {0, 1}}),\n",
    "  (0, {'op': 'rename', 'names': [(0, 'X'), (1, 'Y')], 'rule_id': {0}}),\n",
    "  ('S2', { 'rel': 'S2', 'rule_id': {0}}),\n",
    "  (1, {'op': 'rename', 'names': [(0, 'X'), (1, 'A')], 'rule_id': {0}}),\n",
    "  (2, {'op': 'select', 'theta': [(2, 1)], 'rule_id': {0}}),\n",
    "  (3, {'op': 'join', 'rule_id': {0}}),\n",
    "  (4, {'op': 'project', 'on': ['X', 'Y'], 'rel': '_R_0', 'rule_id': {0}}),\n",
    "  ('R', {'op': 'union', 'rel': 'R', 'rule_id': {0, 1}}),\n",
    "  (5, {'op': 'rename', 'names': [(0, 'X'), (1, 'Y')], 'rule_id': {1}}),\n",
    "  (6, {'op': 'project', 'on': ['X', 'Y'], 'rel': '_R_1', 'rule_id': {1}})],\n",
    " [(0, 'S', {}),\n",
    "  (1, 'S2', {}),\n",
    "  (2, 1, {}),\n",
    "  (3, 0, {}),\n",
    "  (3, 2, {}),\n",
    "  (4, 3, {}),\n",
    "  ('R', 4, {}),\n",
    "  ('R', 6, {}),\n",
    "  (5, 'S', {}),\n",
    "  (6, 5, {})])"
   ]
  },
  {
   "cell_type": "code",
   "execution_count": null,
   "metadata": {},
   "outputs": [
    {
     "data": {
      "text/html": [
       "<img src=\"https://mermaid.ink/img/CmZsb3djaGFydCBUQgpTWyJTCnJlbD0jcXVvdDtTI3F1b3Q7LCBydWxlX2lkPXswfSJdCjBbIjAKb3A9I3F1b3Q7cmVuYW1lI3F1b3Q7LCBuYW1lcz1bKDAsICNxdW90O1gjcXVvdDspLCAoMSwgI3F1b3Q7WSNxdW90OyldLCBydWxlX2lkPXswfSJdClMyWyJTMgpyZWw9I3F1b3Q7UzIjcXVvdDssIHJ1bGVfaWQ9ezAsIDJ9Il0KMVsiMQpvcD0jcXVvdDtyZW5hbWUjcXVvdDssIG5hbWVzPVsoMCwgI3F1b3Q7WCNxdW90OyksICgxLCAjcXVvdDtBI3F1b3Q7KV0sIHJ1bGVfaWQ9ezB9Il0KMlsiMgpvcD0jcXVvdDtzZWxlY3QjcXVvdDssIHRoZXRhPVsoMiwgMSldLCBydWxlX2lkPXswfSJdCjNbIjMKb3A9I3F1b3Q7am9pbiNxdW90OywgcnVsZV9pZD17MH0iXQo0WyI0Cm9wPSNxdW90O3Byb2plY3QjcXVvdDssIG9uPVsjcXVvdDtYI3F1b3Q7LCAjcXVvdDtZI3F1b3Q7XSwgcmVsPSNxdW90O19SXzAjcXVvdDssIHJ1bGVfaWQ9ezB9Il0KUlsiUgpvcD0jcXVvdDt1bmlvbiNxdW90OywgcmVsPSNxdW90O1IjcXVvdDssIHJ1bGVfaWQ9ezB9Il0KUzNbIlMzCnJlbD0jcXVvdDtTMyNxdW90OywgcnVsZV9pZD17Mn0iXQo1WyI1Cm9wPSNxdW90O3JlbmFtZSNxdW90OywgbmFtZXM9WygwLCAjcXVvdDtYI3F1b3Q7KSwgKDEsICNxdW90O1kjcXVvdDspXSwgcnVsZV9pZD17Mn0iXQo2WyI2Cm9wPSNxdW90O3JlbmFtZSNxdW90OywgbmFtZXM9WygwLCAjcXVvdDtYI3F1b3Q7KSwgKDEsICNxdW90O0EjcXVvdDspXSwgcnVsZV9pZD17Mn0iXQo3WyI3Cm9wPSNxdW90O3NlbGVjdCNxdW90OywgdGhldGE9WygyLCAxKV0sIHJ1bGVfaWQ9ezJ9Il0KOFsiOApvcD0jcXVvdDtqb2luI3F1b3Q7LCBydWxlX2lkPXsyfSJdCjlbIjkKb3A9I3F1b3Q7cHJvamVjdCNxdW90Oywgb249WyNxdW90O1gjcXVvdDssICNxdW90O1kjcXVvdDtdLCByZWw9I3F1b3Q7X1IyXzIjcXVvdDssIHJ1bGVfaWQ9ezJ9Il0KUjJbIlIyCm9wPSNxdW90O3VuaW9uI3F1b3Q7LCByZWw9I3F1b3Q7UjIjcXVvdDssIHJ1bGVfaWQ9ezJ9Il0KMCAtLT4gUwoxIC0tPiBTMgoyIC0tPiAxCjMgLS0+IDAKMyAtLT4gMgo0IC0tPiAzClIgLS0+IDQKNSAtLT4gUzMKNiAtLT4gUzIKNyAtLT4gNgo4IC0tPiA1CjggLS0+IDcKOSAtLT4gOApSMiAtLT4gOQo=\"/>"
      ],
      "text/plain": [
       "<IPython.core.display.Image object>"
      ]
     },
     "metadata": {},
     "output_type": "display_data"
    }
   ],
   "source": [
    "m = merge_term_graphs([t1,t3])\n",
    "draw(m)\n",
    "assert serialize_graph(m) == ([('S', { 'rel': 'S', 'rule_id': {0}}),\n",
    "  (0, {'op': 'rename', 'names': [(0, 'X'), (1, 'Y')], 'rule_id': {0}}),\n",
    "  ('S2', { 'rel': 'S2', 'rule_id': {0, 2}}),\n",
    "  (1, {'op': 'rename', 'names': [(0, 'X'), (1, 'A')], 'rule_id': {0}}),\n",
    "  (2, {'op': 'select', 'theta': [(2, 1)], 'rule_id': {0}}),\n",
    "  (3, {'op': 'join', 'rule_id': {0}}),\n",
    "  (4, {'op': 'project', 'on': ['X', 'Y'], 'rel': '_R_0', 'rule_id': {0}}),\n",
    "  ('R', {'op': 'union', 'rel': 'R', 'rule_id': {0}}),\n",
    "  ('S3', { 'rel': 'S3', 'rule_id': {2}}),\n",
    "  (5, {'op': 'rename', 'names': [(0, 'X'), (1, 'Y')], 'rule_id': {2}}),\n",
    "  (6, {'op': 'rename', 'names': [(0, 'X'), (1, 'A')], 'rule_id': {2}}),\n",
    "  (7, {'op': 'select', 'theta': [(2, 1)], 'rule_id': {2}}),\n",
    "  (8, {'op': 'join', 'rule_id': {2}}),\n",
    "  (9, {'op': 'project', 'on': ['X', 'Y'], 'rel': '_R2_2', 'rule_id': {2}}),\n",
    "  ('R2', {'op': 'union', 'rel': 'R2', 'rule_id': {2}})],\n",
    " [(0, 'S', {}),\n",
    "  (1, 'S2', {}),\n",
    "  (2, 1, {}),\n",
    "  (3, 0, {}),\n",
    "  (3, 2, {}),\n",
    "  (4, 3, {}),\n",
    "  ('R', 4, {}),\n",
    "  (5, 'S3', {}),\n",
    "  (6, 'S2', {}),\n",
    "  (7, 6, {}),\n",
    "  (8, 5, {}),\n",
    "  (8, 7, {}),\n",
    "  (9, 8, {}),\n",
    "  ('R2', 9, {})])"
   ]
  },
  {
   "cell_type": "code",
   "execution_count": null,
   "metadata": {},
   "outputs": [
    {
     "data": {
      "text/html": [
       "<img src=\"https://mermaid.ink/img/CmZsb3djaGFydCBUQgpTWyJTCnJlbD0jcXVvdDtTI3F1b3Q7LCBydWxlX2lkPXswLCAxfSJdCjBbIjAKb3A9I3F1b3Q7cmVuYW1lI3F1b3Q7LCBuYW1lcz1bKDAsICNxdW90O1gjcXVvdDspLCAoMSwgI3F1b3Q7WSNxdW90OyldLCBydWxlX2lkPXswfSJdClMyWyJTMgpyZWw9I3F1b3Q7UzIjcXVvdDssIHJ1bGVfaWQ9ezAsIDJ9Il0KMVsiMQpvcD0jcXVvdDtyZW5hbWUjcXVvdDssIG5hbWVzPVsoMCwgI3F1b3Q7WCNxdW90OyksICgxLCAjcXVvdDtBI3F1b3Q7KV0sIHJ1bGVfaWQ9ezB9Il0KMlsiMgpvcD0jcXVvdDtzZWxlY3QjcXVvdDssIHRoZXRhPVsoMiwgMSldLCBydWxlX2lkPXswfSJdCjNbIjMKb3A9I3F1b3Q7am9pbiNxdW90OywgcnVsZV9pZD17MH0iXQo0WyI0Cm9wPSNxdW90O3Byb2plY3QjcXVvdDssIG9uPVsjcXVvdDtYI3F1b3Q7LCAjcXVvdDtZI3F1b3Q7XSwgcmVsPSNxdW90O19SXzAjcXVvdDssIHJ1bGVfaWQ9ezB9Il0KUlsiUgpvcD0jcXVvdDt1bmlvbiNxdW90OywgcmVsPSNxdW90O1IjcXVvdDssIHJ1bGVfaWQ9ezAsIDF9Il0KNVsiNQpvcD0jcXVvdDtyZW5hbWUjcXVvdDssIG5hbWVzPVsoMCwgI3F1b3Q7WCNxdW90OyksICgxLCAjcXVvdDtZI3F1b3Q7KV0sIHJ1bGVfaWQ9ezF9Il0KNlsiNgpvcD0jcXVvdDtwcm9qZWN0I3F1b3Q7LCBvbj1bI3F1b3Q7WCNxdW90OywgI3F1b3Q7WSNxdW90O10sIHJlbD0jcXVvdDtfUl8xI3F1b3Q7LCBydWxlX2lkPXsxfSJdClMzWyJTMwpyZWw9I3F1b3Q7UzMjcXVvdDssIHJ1bGVfaWQ9ezJ9Il0KN1siNwpvcD0jcXVvdDtyZW5hbWUjcXVvdDssIG5hbWVzPVsoMCwgI3F1b3Q7WCNxdW90OyksICgxLCAjcXVvdDtZI3F1b3Q7KV0sIHJ1bGVfaWQ9ezJ9Il0KOFsiOApvcD0jcXVvdDtyZW5hbWUjcXVvdDssIG5hbWVzPVsoMCwgI3F1b3Q7WCNxdW90OyksICgxLCAjcXVvdDtBI3F1b3Q7KV0sIHJ1bGVfaWQ9ezJ9Il0KOVsiOQpvcD0jcXVvdDtzZWxlY3QjcXVvdDssIHRoZXRhPVsoMiwgMSldLCBydWxlX2lkPXsyfSJdCjEwWyIxMApvcD0jcXVvdDtqb2luI3F1b3Q7LCBydWxlX2lkPXsyfSJdCjExWyIxMQpvcD0jcXVvdDtwcm9qZWN0I3F1b3Q7LCBvbj1bI3F1b3Q7WCNxdW90OywgI3F1b3Q7WSNxdW90O10sIHJlbD0jcXVvdDtfUjJfMiNxdW90OywgcnVsZV9pZD17Mn0iXQpSMlsiUjIKb3A9I3F1b3Q7dW5pb24jcXVvdDssIHJlbD0jcXVvdDtSMiNxdW90OywgcnVsZV9pZD17Mn0iXQowIC0tPiBTCjEgLS0+IFMyCjIgLS0+IDEKMyAtLT4gMAozIC0tPiAyCjQgLS0+IDMKUiAtLT4gNApSIC0tPiA2CjUgLS0+IFMKNiAtLT4gNQo3IC0tPiBTMwo4IC0tPiBTMgo5IC0tPiA4CjEwIC0tPiA3CjEwIC0tPiA5CjExIC0tPiAxMApSMiAtLT4gMTEK\"/>"
      ],
      "text/plain": [
       "<IPython.core.display.Image object>"
      ]
     },
     "metadata": {},
     "output_type": "display_data"
    }
   ],
   "source": [
    "m = merge_term_graphs([t1,t2,t3])\n",
    "draw(m)\n",
    "assert serialize_graph(m) == ([('S', { 'rel': 'S', 'rule_id': {0, 1}}),\n",
    "  (0, {'op': 'rename', 'names': [(0, 'X'), (1, 'Y')], 'rule_id': {0}}),\n",
    "  ('S2', { 'rel': 'S2', 'rule_id': {0, 2}}),\n",
    "  (1, {'op': 'rename', 'names': [(0, 'X'), (1, 'A')], 'rule_id': {0}}),\n",
    "  (2, {'op': 'select', 'theta': [(2, 1)], 'rule_id': {0}}),\n",
    "  (3, {'op': 'join', 'rule_id': {0}}),\n",
    "  (4, {'op': 'project', 'on': ['X', 'Y'], 'rel': '_R_0', 'rule_id': {0}}),\n",
    "  ('R', {'op': 'union', 'rel': 'R', 'rule_id': {0, 1}}),\n",
    "  (5, {'op': 'rename', 'names': [(0, 'X'), (1, 'Y')], 'rule_id': {1}}),\n",
    "  (6, {'op': 'project', 'on': ['X', 'Y'], 'rel': '_R_1', 'rule_id': {1}}),\n",
    "  ('S3', { 'rel': 'S3', 'rule_id': {2}}),\n",
    "  (7, {'op': 'rename', 'names': [(0, 'X'), (1, 'Y')], 'rule_id': {2}}),\n",
    "  (8, {'op': 'rename', 'names': [(0, 'X'), (1, 'A')], 'rule_id': {2}}),\n",
    "  (9, {'op': 'select', 'theta': [(2, 1)], 'rule_id': {2}}),\n",
    "  (10, {'op': 'join', 'rule_id': {2}}),\n",
    "  (11, {'op': 'project', 'on': ['X', 'Y'], 'rel': '_R2_2', 'rule_id': {2}}),\n",
    "  ('R2', {'op': 'union', 'rel': 'R2', 'rule_id': {2}})],\n",
    " [(0, 'S', {}),\n",
    "  (1, 'S2', {}),\n",
    "  (2, 1, {}),\n",
    "  (3, 0, {}),\n",
    "  (3, 2, {}),\n",
    "  (4, 3, {}),\n",
    "  ('R', 4, {}),\n",
    "  ('R', 6, {}),\n",
    "  (5, 'S', {}),\n",
    "  (6, 5, {}),\n",
    "  (7, 'S3', {}),\n",
    "  (8, 'S2', {}),\n",
    "  (9, 8, {}),\n",
    "  (10, 7, {}),\n",
    "  (10, 9, {}),\n",
    "  (11, 10, {}),\n",
    "  ('R2', 11, {})])"
   ]
  },
  {
   "cell_type": "markdown",
   "metadata": {},
   "source": [
    "## Engine"
   ]
  },
  {
   "cell_type": "markdown",
   "metadata": {},
   "source": [
    "Helper functions to get schema from dfs and verify them"
   ]
  },
  {
   "cell_type": "code",
   "execution_count": null,
   "metadata": {},
   "outputs": [],
   "source": [
    "#| export\n",
    "import re\n",
    "STRING_PATTERN = re.compile(r\"^[^\\r\\n]+$\")\n",
    "\n",
    "\n",
    "def _infer_relation_schema(row) -> Sequence[type]: # Inferred type list of the given relation\n",
    "    \"\"\"\n",
    "    Guess the relation type based on the data.\n",
    "    We support both the actual types (e.g. 'Span'), and their string representation ( e.g. `\"[0,8)\"`).\n",
    "\n",
    "    **@raise** ValueError: if there is a cell inside `row` of an illegal type.\n",
    "    \"\"\"\n",
    "    relation_types = []\n",
    "    for cell in row:\n",
    "        try:\n",
    "            int(cell)  # check if the cell can be converted to integer\n",
    "            relation_types.append(int)\n",
    "        except (ValueError, TypeError):\n",
    "            if isinstance(cell, Span) or SpanParser.parse(cell):\n",
    "                relation_types.append(Span)\n",
    "            elif re.match(STRING_PATTERN, cell):\n",
    "                relation_types.append(str)\n",
    "            else:\n",
    "                raise ValueError(f\"value doesn't match any datatype: {cell}\")\n",
    "\n",
    "    return relation_types"
   ]
  },
  {
   "cell_type": "code",
   "execution_count": null,
   "metadata": {},
   "outputs": [],
   "source": [
    "assert _infer_relation_schema([1, 2, 3]) == [ int,int,int]\n",
    "assert _infer_relation_schema([1, 'a']) == [ int,str]\n",
    "assert _infer_relation_schema(['[0,1)','[0, 1)',Span(1,3)]) == [Span,Span,Span]"
   ]
  },
  {
   "cell_type": "code",
   "execution_count": null,
   "metadata": {},
   "outputs": [],
   "source": [
    "#| export\n",
    "def _pd_drop_row(df,row_vals):\n",
    "    new_df = df[(df!=row_vals).all(axis=1)]\n",
    "    return new_df\n",
    "\n",
    "def _pd_append_row(df,row_vals):\n",
    "    return pd.concat([df,pd.DataFrame([row_vals],columns=df.columns)])"
   ]
  },
  {
   "cell_type": "code",
   "execution_count": null,
   "metadata": {},
   "outputs": [],
   "source": [
    "df = pd.DataFrame([\n",
    "    [1,'2fs'],[3,4]\n",
    "])\n",
    "assert list(_pd_drop_row(df,[3,4]).itertuples(index=False,name=None))==[(1,'2fs')]\n",
    "assert list(_pd_append_row(df,[5,6]).itertuples(index=False,name=None)) == [(1, '2fs'), (3, 4), (5, 6)]"
   ]
  },
  {
   "cell_type": "code",
   "execution_count": null,
   "metadata": {},
   "outputs": [],
   "source": [
    "#| export\n",
    "class DB(dict):\n",
    "    def __repr__(self):\n",
    "        key_str=', '.join(self.keys())\n",
    "        return f'DB({key_str})'"
   ]
  },
  {
   "cell_type": "code",
   "execution_count": null,
   "metadata": {},
   "outputs": [],
   "source": [
    "#| export\n",
    "from copy import deepcopy\n",
    "class Engine():\n",
    "    def __init__(self,rewrites=None):\n",
    "        if rewrites is None:\n",
    "            self.rewrites = []\n",
    "        self.symbol_table={\n",
    "            # key : type,val\n",
    "        }\n",
    "        self.Relation_defs={\n",
    "            # key : RelationDefinition for both real and derived relations\n",
    "        }\n",
    "        self.ie_functions={\n",
    "            # name : IEFunction class\n",
    "        }\n",
    "\n",
    "        self.term_graph = nx.DiGraph()\n",
    "        \n",
    "        self.node_counter = itertools.count()\n",
    "        self.rule_counter = itertools.count()\n",
    "\n",
    "        self.db = DB(\n",
    "            # relation_name: dataframe\n",
    "        )\n",
    "\n",
    "        # lets skip this for now and keep it a an attribute in the node graph\n",
    "        self.rules_to_ids = {\n",
    "            # rule pretty string, to node id in term_graph\n",
    "        }\n",
    "\n",
    "        # self.rels_to_nodes() = {\n",
    "        #     # relation name to node that represents it\n",
    "        # }\n",
    "\n",
    "    @classmethod\n",
    "    def _col_names(self,length):\n",
    "        # these names wont conflixt with logical variables since they must always start with Uppercase letters\n",
    "        return [f'col{i}' for i in range(length)]\n",
    "    \n",
    "\n",
    "    def set_var(self,var_name,value,read_from_file=False):\n",
    "        symbol_table = self.symbol_table\n",
    "        if var_name in symbol_table:\n",
    "            existing_type,existing_value = symbol_table[var_name]\n",
    "            if type(value) != existing_type:\n",
    "                raise ValueError(f\"Variable {var_name} was previously defined with {existing_value}({pretty(existing_type)})\"\n",
    "                                f\" but is trying to be redefined to {value}({pretty(type(value))}) of a different type which might interfere with previous rule definitions\")    \n",
    "        symbol_table[var_name] = type(value),value\n",
    "        return\n",
    "    def get_var(self,var_name):\n",
    "        return self.symbol_table.get(var_name,None)\n",
    "    \n",
    "    def del_var(self,var_name):\n",
    "        del self.symbol_table[var_name]\n",
    "\n",
    "    def get_relation(self,rel_name:str):\n",
    "        return self.Relation_defs.get(rel_name,None)\n",
    "\n",
    "    def set_relation(self,rel_def:RelationDefinition):\n",
    "        if rel_def.name in self.Relation_defs:\n",
    "            existing_def = self.Relation_defs[rel_def.name]\n",
    "            if existing_def != rel_def:\n",
    "                raise ValueError(f\"Relation {rel_def.name} was previously defined with {existing_def}\"\n",
    "                                f\"but is trying to be redefined to {rel_def} which might interfere with previous rule definitions\")\n",
    "        else:\n",
    "            self.Relation_defs[rel_def.name] = rel_def\n",
    "            #TODO fix make sure that the empty df has the correct types based on the rel_def\n",
    "            empty_df = pd.DataFrame(columns=self._col_names(len(rel_def.scheme)))\n",
    "            self.db[rel_def.name] = empty_df\n",
    "            self.term_graph.add_node(rel_def.name,rel=rel_def.name)\n",
    "\n",
    "    def del_relation(self,rel_name:str):\n",
    "        # TODO we need to think about what to do with all relations that used this rule\n",
    "        raise NotImplementedError(\"deleting relations is not supported yet\")\n",
    "        return\n",
    "\n",
    "    def add_fact(self,fact:Relation):\n",
    "        self.db[fact.name] = _pd_append_row(self.db[fact.name],fact.terms)\n",
    "\n",
    "    def add_facts(self,rel_name,facts:pd.DataFrame):\n",
    "        facts= facts.copy()\n",
    "        facts.columns = self._col_names(len(facts.columns))\n",
    "        self.db[rel_name] = pd.concat([self.db[rel_name],facts])\n",
    "\n",
    "    def del_fact(self,fact:Relation):\n",
    "        self.db[fact.name] = _pd_drop_row(df = self.db[fact.name],row_vals=fact.terms)\n",
    "\n",
    "    def get_ie_function(self,name:str):\n",
    "        return self.ie_functions.get(name,None)\n",
    "\n",
    "    def set_ie_function(self,ie_func:IEFunction):\n",
    "        self.ie_functions[ie_func.name]=ie_func\n",
    "\n",
    "    def del_ie_function(self,name:str):\n",
    "        del self.ie_functions[name]\n",
    "\n",
    "    def add_rule(self,rule:Rule,schema:RelationDefinition=None):\n",
    "        if not self.get_relation(rule.head.name) and schema is None:\n",
    "            raise ValueError(f\"Relation {rule.head.name} not defined before adding the rule with it's head\\n\"\n",
    "                             f\"And an relation schema was not supplied.\"\n",
    "                             f\"existing relations are {self.Relation_defs.keys()}\")\n",
    "\n",
    "        if not schema is None:\n",
    "            self.set_relation(schema)\n",
    "\n",
    "        rule_id = next(self.rule_counter)\n",
    "\n",
    "        self.rules_to_ids[pretty(rule)] = rule_id\n",
    "\n",
    "        g2 = _rule_to_term_graph(rule,rule_id)\n",
    "\n",
    "        merge_term_graph = merge_term_graphs_pair(self.term_graph,g2)\n",
    "        self.term_graph = merge_term_graph\n",
    "        \n",
    "\n",
    "    def del_rule(self,rule_str:str):\n",
    "        if not rule_str in self.rules_to_ids:\n",
    "            raise ValueError(f\"Rule {rule_str} does not exist\\n\"\n",
    "                             f\"existing rules are {self.rules_to_ids.keys()}\")\n",
    "        rule_id = self.rules_to_ids[rule_str]\n",
    "        g = self.term_graph\n",
    "        nodes_to_delete=[]\n",
    "        for u in g.nodes:\n",
    "            node_rule_ids = g.nodes[u].get('rule_id',set())\n",
    "            if rule_id in node_rule_ids:\n",
    "                node_rule_ids.remove(rule_id)\n",
    "                if len(node_rule_ids) == 0:\n",
    "                    nodes_to_delete.append(u)\n",
    "        g.remove_nodes_from(nodes_to_delete)\n",
    "            \n",
    "        return\n",
    "\n",
    "    def _inline_db_and_ies_in_graph(self,g:nx.DiGraph):\n",
    "        g=deepcopy(g)\n",
    "        for u in g.nodes:\n",
    "            if g.out_degree(u)==0:\n",
    "                g.nodes[u]['op'] = 'get_rel'\n",
    "                g.nodes[u]['db'] = self.db\n",
    "            elif g.nodes[u]['op'] == 'calc':\n",
    "                ie_func_name = g.nodes[u]['func']\n",
    "                g.nodes[u]['func'] = self.ie_functions[ie_func_name].func\n",
    "                g.nodes[u]['out_schema'] = self.ie_functions[ie_func_name].out_schema\n",
    "        return g\n",
    "\n",
    "\n",
    "    def plan_query(self,q_rel:Relation,rewrites=None):\n",
    "        if rewrites is None:\n",
    "            rewrites = self.rewrites\n",
    "        query_graph = self._inline_db_and_ies_in_graph(self.term_graph)\n",
    "\n",
    "        # get the sub term graph induced by the relation head\n",
    "        root_node = q_rel.name\n",
    "        connected_nodes = list(nx.shortest_path(query_graph,root_node).keys())\n",
    "        query_graph = nx.DiGraph(nx.subgraph(query_graph,connected_nodes))\n",
    "        \n",
    "        # based on the asked relation, add:\n",
    "        # select node if there are constants\n",
    "        # project node to project to the remaining free variables\n",
    "        # rename node to rename the cols to the Free vars the query is asking for\n",
    "        select_node = _select_if_needed(query_graph,get_new_node_name(query_graph),root_node,q_rel.terms)\n",
    "        rename_node = get_new_node_name(query_graph)\n",
    "        query_graph.add_node(rename_node, op='rename',names=[(i,term.name) for i,term in enumerate(q_rel.terms) if isinstance(term,FreeVar)])\n",
    "        query_graph.add_edge(rename_node,select_node)\n",
    "        project_node = get_new_node_name(query_graph)\n",
    "        query_graph.add_node(project_node, op='project', on=[term.name for term in q_rel.terms if isinstance(term,FreeVar)])\n",
    "        query_graph.add_edge(project_node,rename_node)\n",
    "\n",
    "        # TODO for all rewrites, run them\n",
    "        return query_graph,project_node\n",
    "\n",
    "    def execute_plan(self,query_graph,root_node):\n",
    "        results_dict = defaultdict(list)\n",
    "        return compute_node(query_graph,root_node,results_dict)\n",
    "\n",
    "    def run_query(self,q:Relation,rewrites=None):\n",
    "        query_graph,root_node = self.plan_query(q,rewrites)\n",
    "        return self.execute_plan(query_graph,root_node)\n"
   ]
  },
  {
   "cell_type": "markdown",
   "metadata": {},
   "source": [
    "### Test"
   ]
  },
  {
   "cell_type": "code",
   "execution_count": null,
   "metadata": {},
   "outputs": [],
   "source": [
    "s = pd.DataFrame([\n",
    "    [1,1],\n",
    "    [2,2],\n",
    "    [3,3],\n",
    "    [4,4]\n",
    "])\n",
    "\n",
    "s2 = pd.DataFrame([\n",
    "    [1,2,3],\n",
    "    [2,3,4],\n",
    "    [3,4,5],\n",
    "    [4,5,6]\n",
    "])"
   ]
  },
  {
   "cell_type": "code",
   "execution_count": null,
   "metadata": {},
   "outputs": [],
   "source": [
    "r1 = Rule(\n",
    "    head=Relation(name='R', terms=[FreeVar(name='X'), FreeVar(name='Y')]),\n",
    "    body=[\n",
    "        Relation(name='S', terms=[FreeVar(name='X'),FreeVar(name='Y')]),\n",
    "        Relation(name='S2', terms=[FreeVar(name='X'), FreeVar(name='A'),3]),\n",
    "    ])\n",
    "\n",
    "r2 = Rule(\n",
    "    head=Relation(name='R', terms=[FreeVar(name='X'), FreeVar(name='Y')]),\n",
    "    body=[\n",
    "        Relation(name='S', terms=[FreeVar(name='X'),FreeVar(name='Y')]),\n",
    "        IERelation(name='T', in_terms=[FreeVar(name='X'),FreeVar(name='Y')], out_terms=[FreeVar(name='X'),FreeVar(name='Y')]),\n",
    "    ])\n",
    "\n",
    "r3 = Rule(\n",
    "    head=Relation(name='R2', terms=[FreeVar(name='X'), FreeVar(name='Y')]),\n",
    "    body=[\n",
    "        Relation(name='S3', terms=[FreeVar(name='X'),FreeVar(name='Y')]),\n",
    "        Relation(name='S2', terms=[FreeVar(name='X'), FreeVar(name='A'),1]),\n",
    "    ])\n",
    "\n",
    "\n",
    "rec_r1 = Rule(\n",
    "    head=Relation(name='A', terms=[FreeVar(name='X'), FreeVar(name='Y')]),\n",
    "    body=[\n",
    "        Relation(name='B', terms=[FreeVar(name='X'),FreeVar(name='Y')]),\n",
    "    ])\n",
    "\n",
    "rec_r2 = Rule(\n",
    "    head=Relation(name='A', terms=[FreeVar(name='X'), FreeVar(name='Y')]),\n",
    "    body=[\n",
    "        Relation(name='C', terms=[FreeVar(name='X'),FreeVar(name='Y')]),\n",
    "    ])\n",
    "\n",
    "rec_r3 = Rule(\n",
    "    head=Relation(name='B', terms=[FreeVar(name='X'), FreeVar(name='Y')]),\n",
    "    body=[\n",
    "        Relation(name='D', terms=[FreeVar(name='X'),FreeVar(name='Y')]),\n",
    "    ])\n",
    "\n",
    "rec_r4 = Rule(\n",
    "    head=Relation(name='B', terms=[FreeVar(name='X'), FreeVar(name='Y')]),\n",
    "    body=[\n",
    "        Relation(name='A', terms=[FreeVar(name='X'),FreeVar(name='Y')]),\n",
    "    ])\n"
   ]
  },
  {
   "cell_type": "code",
   "execution_count": null,
   "metadata": {},
   "outputs": [],
   "source": [
    "e = Engine()\n",
    "e.set_relation(RelationDefinition(name='S', scheme=[int,int]))\n",
    "e.set_relation(RelationDefinition(name='S2', scheme=[int,int,int]))\n",
    "e.set_relation(RelationDefinition(name='S3', scheme=[int,int]))\n",
    "\n",
    "e.add_rule(r1,RelationDefinition(name='R', scheme=[int,int]))\n",
    "e.add_rule(r2,RelationDefinition(name='R', scheme=[int,int]))\n",
    "e.add_rule(r3,RelationDefinition(name='R2', scheme=[int,int]))"
   ]
  },
  {
   "cell_type": "code",
   "execution_count": null,
   "metadata": {},
   "outputs": [],
   "source": [
    "e.add_facts('S',s)\n",
    "e.add_facts('S2',s2)"
   ]
  },
  {
   "cell_type": "code",
   "execution_count": null,
   "metadata": {},
   "outputs": [
    {
     "data": {
      "text/html": [
       "<div>\n",
       "<style scoped>\n",
       "    .dataframe tbody tr th:only-of-type {\n",
       "        vertical-align: middle;\n",
       "    }\n",
       "\n",
       "    .dataframe tbody tr th {\n",
       "        vertical-align: top;\n",
       "    }\n",
       "\n",
       "    .dataframe thead th {\n",
       "        text-align: right;\n",
       "    }\n",
       "</style>\n",
       "<table border=\"1\" class=\"dataframe\">\n",
       "  <thead>\n",
       "    <tr style=\"text-align: right;\">\n",
       "      <th></th>\n",
       "      <th>col0</th>\n",
       "      <th>col1</th>\n",
       "    </tr>\n",
       "  </thead>\n",
       "  <tbody>\n",
       "    <tr>\n",
       "      <th>0</th>\n",
       "      <td>1</td>\n",
       "      <td>1</td>\n",
       "    </tr>\n",
       "    <tr>\n",
       "      <th>1</th>\n",
       "      <td>2</td>\n",
       "      <td>2</td>\n",
       "    </tr>\n",
       "    <tr>\n",
       "      <th>2</th>\n",
       "      <td>3</td>\n",
       "      <td>3</td>\n",
       "    </tr>\n",
       "    <tr>\n",
       "      <th>3</th>\n",
       "      <td>4</td>\n",
       "      <td>4</td>\n",
       "    </tr>\n",
       "  </tbody>\n",
       "</table>\n",
       "</div>"
      ],
      "text/plain": [
       "  col0 col1\n",
       "0    1    1\n",
       "1    2    2\n",
       "2    3    3\n",
       "3    4    4"
      ]
     },
     "execution_count": null,
     "metadata": {},
     "output_type": "execute_result"
    }
   ],
   "source": [
    "e.db['S']"
   ]
  },
  {
   "cell_type": "code",
   "execution_count": null,
   "metadata": {},
   "outputs": [
    {
     "data": {
      "text/html": [
       "<div>\n",
       "<style scoped>\n",
       "    .dataframe tbody tr th:only-of-type {\n",
       "        vertical-align: middle;\n",
       "    }\n",
       "\n",
       "    .dataframe tbody tr th {\n",
       "        vertical-align: top;\n",
       "    }\n",
       "\n",
       "    .dataframe thead th {\n",
       "        text-align: right;\n",
       "    }\n",
       "</style>\n",
       "<table border=\"1\" class=\"dataframe\">\n",
       "  <thead>\n",
       "    <tr style=\"text-align: right;\">\n",
       "      <th></th>\n",
       "      <th>col0</th>\n",
       "      <th>col1</th>\n",
       "      <th>col2</th>\n",
       "    </tr>\n",
       "  </thead>\n",
       "  <tbody>\n",
       "    <tr>\n",
       "      <th>0</th>\n",
       "      <td>1</td>\n",
       "      <td>2</td>\n",
       "      <td>3</td>\n",
       "    </tr>\n",
       "    <tr>\n",
       "      <th>1</th>\n",
       "      <td>2</td>\n",
       "      <td>3</td>\n",
       "      <td>4</td>\n",
       "    </tr>\n",
       "    <tr>\n",
       "      <th>2</th>\n",
       "      <td>3</td>\n",
       "      <td>4</td>\n",
       "      <td>5</td>\n",
       "    </tr>\n",
       "    <tr>\n",
       "      <th>3</th>\n",
       "      <td>4</td>\n",
       "      <td>5</td>\n",
       "      <td>6</td>\n",
       "    </tr>\n",
       "  </tbody>\n",
       "</table>\n",
       "</div>"
      ],
      "text/plain": [
       "  col0 col1 col2\n",
       "0    1    2    3\n",
       "1    2    3    4\n",
       "2    3    4    5\n",
       "3    4    5    6"
      ]
     },
     "execution_count": null,
     "metadata": {},
     "output_type": "execute_result"
    }
   ],
   "source": [
    "e.db['S2']"
   ]
  },
  {
   "cell_type": "code",
   "execution_count": null,
   "metadata": {},
   "outputs": [
    {
     "data": {
      "text/html": [
       "<img src=\"https://mermaid.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\"/>"
      ],
      "text/plain": [
       "<IPython.core.display.Image object>"
      ]
     },
     "metadata": {},
     "output_type": "display_data"
    }
   ],
   "source": [
    "draw(e.term_graph)"
   ]
  },
  {
   "cell_type": "code",
   "execution_count": null,
   "metadata": {},
   "outputs": [
    {
     "data": {
      "text/plain": [
       "{'R(X,Y) <- S(X,Y),S2(X,A,3)': 0,\n",
       " 'R(X,Y) <- S(X,Y),T(X,Y) -> (X,Y)': 1,\n",
       " 'R2(X,Y) <- S3(X,Y),S2(X,A,1)': 2}"
      ]
     },
     "execution_count": null,
     "metadata": {},
     "output_type": "execute_result"
    }
   ],
   "source": [
    "e.rules_to_ids"
   ]
  },
  {
   "cell_type": "code",
   "execution_count": null,
   "metadata": {},
   "outputs": [],
   "source": [
    "e.del_rule(pretty(r3))"
   ]
  },
  {
   "cell_type": "code",
   "execution_count": null,
   "metadata": {},
   "outputs": [
    {
     "data": {
      "text/html": [
       "<img src=\"https://mermaid.ink/img/CmZsb3djaGFydCBUQgpTWyJTCnJlbD0jcXVvdDtTI3F1b3Q7LCBydWxlX2lkPXswLCAxfSJdClMyWyJTMgpyZWw9I3F1b3Q7UzIjcXVvdDssIHJ1bGVfaWQ9ezB9Il0KUlsiUgpyZWw9I3F1b3Q7UiNxdW90Oywgb3A9I3F1b3Q7dW5pb24jcXVvdDssIHJ1bGVfaWQ9ezAsIDF9Il0KMFsiMApvcD0jcXVvdDtyZW5hbWUjcXVvdDssIG5hbWVzPVsoMCwgI3F1b3Q7WCNxdW90OyksICgxLCAjcXVvdDtZI3F1b3Q7KV0sIHJ1bGVfaWQ9ezB9Il0KMVsiMQpvcD0jcXVvdDtyZW5hbWUjcXVvdDssIG5hbWVzPVsoMCwgI3F1b3Q7WCNxdW90OyksICgxLCAjcXVvdDtBI3F1b3Q7KV0sIHJ1bGVfaWQ9ezB9Il0KMlsiMgpvcD0jcXVvdDtzZWxlY3QjcXVvdDssIHRoZXRhPVsoMiwgMyldLCBydWxlX2lkPXswfSJdCjNbIjMKb3A9I3F1b3Q7am9pbiNxdW90OywgcnVsZV9pZD17MH0iXQo0WyI0Cm9wPSNxdW90O3Byb2plY3QjcXVvdDssIG9uPVsjcXVvdDtYI3F1b3Q7LCAjcXVvdDtZI3F1b3Q7XSwgcmVsPSNxdW90O19SXzAjcXVvdDssIHJ1bGVfaWQ9ezB9Il0KOFsiOApvcD0jcXVvdDtyZW5hbWUjcXVvdDssIG5hbWVzPVsoMCwgI3F1b3Q7WCNxdW90OyksICgxLCAjcXVvdDtZI3F1b3Q7KV0sIHJ1bGVfaWQ9ezF9Il0KOVsiOQpvcD0jcXVvdDtwcm9qZWN0I3F1b3Q7LCBvbj1bI3F1b3Q7WCNxdW90OywgI3F1b3Q7WSNxdW90O10sIHJ1bGVfaWQ9ezF9Il0KMTBbIjEwCm9wPSNxdW90O2NhbGMjcXVvdDssIGZ1bmM9I3F1b3Q7VCNxdW90OywgcnVsZV9pZD17MX0iXQoxMVsiMTEKb3A9I3F1b3Q7cmVuYW1lI3F1b3Q7LCBuYW1lcz1bKDAsICNxdW90O1gjcXVvdDspLCAoMSwgI3F1b3Q7WSNxdW90OyldLCBydWxlX2lkPXsxfSJdCjZbIjYKb3A9I3F1b3Q7am9pbiNxdW90OywgcnVsZV9pZD17MX0iXQo3WyI3Cm9wPSNxdW90O3Byb2plY3QjcXVvdDssIG9uPVsjcXVvdDtYI3F1b3Q7LCAjcXVvdDtZI3F1b3Q7XSwgcmVsPSNxdW90O19SXzEjcXVvdDssIHJ1bGVfaWQ9ezF9Il0KUiAtLT4gNApSIC0tPiA3CjAgLS0+IFMKMSAtLT4gUzIKMiAtLT4gMQozIC0tPiAwCjMgLS0+IDIKNCAtLT4gMwo4IC0tPiBTCjkgLS0+IDgKMTAgLS0+IDkKMTEgLS0+IDEwCjYgLS0+IDgKNiAtLT4gMTEKNyAtLT4gNgo=\"/>"
      ],
      "text/plain": [
       "<IPython.core.display.Image object>"
      ]
     },
     "metadata": {},
     "output_type": "display_data"
    }
   ],
   "source": [
    "draw(e.term_graph)"
   ]
  },
  {
   "cell_type": "code",
   "execution_count": null,
   "metadata": {},
   "outputs": [],
   "source": [
    "assert serialize_graph(e.term_graph) ==([('S', {'rel': 'S', 'rule_id': {0, 1}}),\n",
    "  ('S2', {'rel': 'S2', 'rule_id': {0}}),\n",
    "  ('R', {'rel': 'R', 'op': 'union', 'rule_id': {0, 1}}),\n",
    "  (0, {'op': 'rename', 'names': [(0, 'X'), (1, 'Y')], 'rule_id': {0}}),\n",
    "  (1, {'op': 'rename', 'names': [(0, 'X'), (1, 'A')], 'rule_id': {0}}),\n",
    "  (2, {'op': 'select', 'theta': [(2, 3)], 'rule_id': {0}}),\n",
    "  (3, {'op': 'join', 'rule_id': {0}}),\n",
    "  (4, {'op': 'project', 'on': ['X', 'Y'], 'rel': '_R_0', 'rule_id': {0}}),\n",
    "  (8, {'op': 'rename', 'names': [(0, 'X'), (1, 'Y')], 'rule_id': {1}}),\n",
    "  (9, {'op': 'project', 'on': ['X', 'Y'], 'rule_id': {1}}),\n",
    "  (10, {'op': 'calc', 'func': 'T', 'rule_id': {1}}),\n",
    "  (11, {'op': 'rename', 'names': [(0, 'X'), (1, 'Y')], 'rule_id': {1}}),\n",
    "  (6, {'op': 'join', 'rule_id': {1}}),\n",
    "  (7, {'op': 'project', 'on': ['X', 'Y'], 'rel': '_R_1', 'rule_id': {1}})],\n",
    " [('R', 4, {}),\n",
    "  ('R', 7, {}),\n",
    "  (0, 'S', {}),\n",
    "  (1, 'S2', {}),\n",
    "  (2, 1, {}),\n",
    "  (3, 0, {}),\n",
    "  (3, 2, {}),\n",
    "  (4, 3, {}),\n",
    "  (8, 'S', {}),\n",
    "  (9, 8, {}),\n",
    "  (10, 9, {}),\n",
    "  (11, 10, {}),\n",
    "  (6, 8, {}),\n",
    "  (6, 11, {}),\n",
    "  (7, 6, {})])"
   ]
  },
  {
   "cell_type": "code",
   "execution_count": null,
   "metadata": {},
   "outputs": [],
   "source": [
    "e.add_rule(rec_r1,RelationDefinition(name='A', scheme=[int,int]))\n",
    "e.add_rule(rec_r2,RelationDefinition(name='A', scheme=[int,int]))\n",
    "e.add_rule(rec_r3,RelationDefinition(name='B', scheme=[int,int]))\n",
    "e.add_rule(rec_r4,RelationDefinition(name='B', scheme=[int,int]))\n"
   ]
  },
  {
   "cell_type": "code",
   "execution_count": null,
   "metadata": {},
   "outputs": [
    {
     "data": {
      "text/html": [
       "<img src=\"https://mermaid.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\"/>"
      ],
      "text/plain": [
       "<IPython.core.display.Image object>"
      ]
     },
     "metadata": {},
     "output_type": "display_data"
    }
   ],
   "source": [
    "draw(e.term_graph)"
   ]
  },
  {
   "cell_type": "markdown",
   "metadata": {},
   "source": [
    "## RA operations"
   ]
  },
  {
   "cell_type": "markdown",
   "metadata": {},
   "source": [
    "For each RA operation, and the CalcIE operation, we have an operation"
   ]
  },
  {
   "cell_type": "markdown",
   "metadata": {},
   "source": [
    "* Select\n",
    "* Project\n",
    "* Rename\n",
    "* Union\n",
    "* Intersection\n",
    "* Difference\n",
    "* Join\n",
    "* SemiJoin\n",
    "* Calc (for calcing ie relations)\n",
    "* GetRel (for accessing relations from the DB)\n",
    "  \n"
   ]
  },
  {
   "cell_type": "code",
   "execution_count": null,
   "metadata": {},
   "outputs": [],
   "source": [
    "s = pd.DataFrame([\n",
    "    [1,1],\n",
    "    [2,2],\n",
    "    [3,3],\n",
    "    [4,5]\n",
    "])\n",
    "\n",
    "s2 = pd.DataFrame([\n",
    "    [1,2,3],\n",
    "    [2,3,4],\n",
    "    [2,3,5],\n",
    "    [4,5,6]\n",
    "])"
   ]
  },
  {
   "cell_type": "code",
   "execution_count": null,
   "metadata": {},
   "outputs": [
    {
     "data": {
      "text/html": [
       "<div>\n",
       "<style scoped>\n",
       "    .dataframe tbody tr th:only-of-type {\n",
       "        vertical-align: middle;\n",
       "    }\n",
       "\n",
       "    .dataframe tbody tr th {\n",
       "        vertical-align: top;\n",
       "    }\n",
       "\n",
       "    .dataframe thead th {\n",
       "        text-align: right;\n",
       "    }\n",
       "</style>\n",
       "<table border=\"1\" class=\"dataframe\">\n",
       "  <thead>\n",
       "    <tr style=\"text-align: right;\">\n",
       "      <th></th>\n",
       "      <th>0</th>\n",
       "      <th>1</th>\n",
       "    </tr>\n",
       "  </thead>\n",
       "  <tbody>\n",
       "    <tr>\n",
       "      <th>0</th>\n",
       "      <td>1</td>\n",
       "      <td>2</td>\n",
       "    </tr>\n",
       "    <tr>\n",
       "      <th>1</th>\n",
       "      <td>1</td>\n",
       "      <td>3</td>\n",
       "    </tr>\n",
       "    <tr>\n",
       "      <th>2</th>\n",
       "      <td>1</td>\n",
       "      <td>2</td>\n",
       "    </tr>\n",
       "  </tbody>\n",
       "</table>\n",
       "</div>"
      ],
      "text/plain": [
       "   0  1\n",
       "0  1  2\n",
       "1  1  3\n",
       "2  1  2"
      ]
     },
     "execution_count": null,
     "metadata": {},
     "output_type": "execute_result"
    }
   ],
   "source": [
    "df = pd.DataFrame([\n",
    "    [1,2],\n",
    "    [1,3],\n",
    "    [1,2],\n",
    "    ])\n",
    "df"
   ]
  },
  {
   "cell_type": "code",
   "execution_count": null,
   "metadata": {},
   "outputs": [],
   "source": [
    "#| export\n",
    "def select(df,theta,**kwargs):\n",
    "    if df.empty:\n",
    "        return df\n",
    "\n",
    "    if callable(theta):\n",
    "        return df[theta(df)]\n",
    "    else:\n",
    "        pos_val_pairs = theta\n",
    "        for pos,val in pos_val_pairs:\n",
    "            df = df[df.iloc[:,pos] == val]\n",
    "        return df\n",
    "\n",
    "def project(df,on,**kwargs):\n",
    "    if df.empty:\n",
    "        return df\n",
    "    return df[on]\n",
    "\n",
    "def rename(df,names,**kwargs):\n",
    "    if df.empty:\n",
    "        return df\n",
    "    names_mapper = {\n",
    "    }\n",
    "    current_col_names = list(df.columns)\n",
    "    for i,name in names:\n",
    "        names_mapper[current_col_names[i]] = name\n",
    "    return df.rename(names_mapper,axis=1)\n",
    "\n",
    "def union(*dfs,**kwargs):\n",
    "    return pd.concat(dfs).drop_duplicates()\n",
    "\n",
    "def intersection(df1,df2,**kwargs):\n",
    "    return pd.merge(df1,df2,how='inner',on=list(df1.columns))\n",
    "\n",
    "def difference(df1,df2,**kwargs):\n",
    "    return pd.concat([df1,df2]).drop_duplicates(keep=False)\n",
    "\n",
    "def join(df1,df2,**kwargs):\n",
    "    cols1 = set(df1.columns)\n",
    "    cols2 = set(df2.columns)\n",
    "    on = cols1 & cols2\n",
    "    # get only logical variables\n",
    "    on = [ col for col in on if isinstance(col,str) and col[0].isupper()]\n",
    "    if len(on)==0:\n",
    "        return pd.merge(df1,df2,how='cross')\n",
    "    else:\n",
    "        return pd.merge(df1,df2,how='inner',on=on)\n",
    "\n",
    "def calc(df,func,out_schema,semantics='per_row',**kwargs):\n",
    "    if df.empty:\n",
    "        return df\n",
    "    if semantics == 'per_row':\n",
    "    \n",
    "        def check_output_generator(vals):\n",
    "            for val in vals:\n",
    "                if _infer_relation_schema(val) != out_schema:\n",
    "                    pretty_actual_schema = [pretty(term) for term in _infer_relation_schema(val)]\n",
    "                    pretty_expected_schema = [pretty(term) for term in out_schema]\n",
    "                    raise ValueError(f\"Function {func} returned a value of an unexpected schema \"\n",
    "                            f\"{val}({pretty_actual_schema}) expected {pretty_expected_schema}\")\n",
    "                yield val\n",
    "\n",
    "        vals = (list(vals) for _,vals in df.iterrows())\n",
    "        vals = (func(*vals) for vals in vals)\n",
    "        vals = check_output_generator(vals)\n",
    "\n",
    "        return pd.DataFrame(vals,columns=Engine._col_names(len(out_schema)))\n",
    "    \n",
    "    else: # bulk\n",
    "        raise NotImplementedError('non per row semantics are not supported for calculating ie functions')\n",
    "\n",
    "def get_rel(rel,db,**kwargs):\n",
    "    return db[rel]\n"
   ]
  },
  {
   "cell_type": "code",
   "execution_count": null,
   "metadata": {},
   "outputs": [],
   "source": [
    "#| export\n",
    "\n",
    "op_to_func = {\n",
    "    'union':union,\n",
    "    'intersection':intersection,\n",
    "    'difference':difference,\n",
    "    'select':select,\n",
    "    'project':project,\n",
    "    'rename':rename,\n",
    "    'join':join,\n",
    "    'calc':calc,\n",
    "    'get_rel':get_rel\n",
    "}"
   ]
  },
  {
   "cell_type": "markdown",
   "metadata": {},
   "source": [
    "### Tests"
   ]
  },
  {
   "cell_type": "code",
   "execution_count": null,
   "metadata": {},
   "outputs": [
    {
     "data": {
      "text/html": [
       "<div>\n",
       "<style scoped>\n",
       "    .dataframe tbody tr th:only-of-type {\n",
       "        vertical-align: middle;\n",
       "    }\n",
       "\n",
       "    .dataframe tbody tr th {\n",
       "        vertical-align: top;\n",
       "    }\n",
       "\n",
       "    .dataframe thead th {\n",
       "        text-align: right;\n",
       "    }\n",
       "</style>\n",
       "<table border=\"1\" class=\"dataframe\">\n",
       "  <thead>\n",
       "    <tr style=\"text-align: right;\">\n",
       "      <th></th>\n",
       "      <th>0</th>\n",
       "      <th>1</th>\n",
       "      <th>2</th>\n",
       "    </tr>\n",
       "  </thead>\n",
       "  <tbody>\n",
       "    <tr>\n",
       "      <th>0</th>\n",
       "      <td>4</td>\n",
       "      <td>5</td>\n",
       "      <td>6</td>\n",
       "    </tr>\n",
       "    <tr>\n",
       "      <th>1</th>\n",
       "      <td>5</td>\n",
       "      <td>6</td>\n",
       "      <td>7</td>\n",
       "    </tr>\n",
       "    <tr>\n",
       "      <th>2</th>\n",
       "      <td>1</td>\n",
       "      <td>2</td>\n",
       "      <td>3</td>\n",
       "    </tr>\n",
       "    <tr>\n",
       "      <th>3</th>\n",
       "      <td>7</td>\n",
       "      <td>8</td>\n",
       "      <td>9</td>\n",
       "    </tr>\n",
       "  </tbody>\n",
       "</table>\n",
       "</div>"
      ],
      "text/plain": [
       "   0  1  2\n",
       "0  4  5  6\n",
       "1  5  6  7\n",
       "2  1  2  3\n",
       "3  7  8  9"
      ]
     },
     "execution_count": null,
     "metadata": {},
     "output_type": "execute_result"
    }
   ],
   "source": [
    "s3 = pd.DataFrame([\n",
    "    [4,5,6],\n",
    "    [5,6,7],\n",
    "    [1,2,3],\n",
    "    [7,8,9]\n",
    "])\n",
    "s3"
   ]
  },
  {
   "cell_type": "code",
   "execution_count": null,
   "metadata": {},
   "outputs": [
    {
     "data": {
      "text/html": [
       "<div>\n",
       "<style scoped>\n",
       "    .dataframe tbody tr th:only-of-type {\n",
       "        vertical-align: middle;\n",
       "    }\n",
       "\n",
       "    .dataframe tbody tr th {\n",
       "        vertical-align: top;\n",
       "    }\n",
       "\n",
       "    .dataframe thead th {\n",
       "        text-align: right;\n",
       "    }\n",
       "</style>\n",
       "<table border=\"1\" class=\"dataframe\">\n",
       "  <thead>\n",
       "    <tr style=\"text-align: right;\">\n",
       "      <th></th>\n",
       "      <th>0</th>\n",
       "      <th>1</th>\n",
       "    </tr>\n",
       "  </thead>\n",
       "  <tbody>\n",
       "    <tr>\n",
       "      <th>0</th>\n",
       "      <td>1</td>\n",
       "      <td>1</td>\n",
       "    </tr>\n",
       "    <tr>\n",
       "      <th>1</th>\n",
       "      <td>2</td>\n",
       "      <td>2</td>\n",
       "    </tr>\n",
       "    <tr>\n",
       "      <th>2</th>\n",
       "      <td>3</td>\n",
       "      <td>3</td>\n",
       "    </tr>\n",
       "    <tr>\n",
       "      <th>3</th>\n",
       "      <td>4</td>\n",
       "      <td>5</td>\n",
       "    </tr>\n",
       "  </tbody>\n",
       "</table>\n",
       "</div>"
      ],
      "text/plain": [
       "   0  1\n",
       "0  1  1\n",
       "1  2  2\n",
       "2  3  3\n",
       "3  4  5"
      ]
     },
     "execution_count": null,
     "metadata": {},
     "output_type": "execute_result"
    }
   ],
   "source": [
    "s"
   ]
  },
  {
   "cell_type": "code",
   "execution_count": null,
   "metadata": {},
   "outputs": [
    {
     "data": {
      "text/html": [
       "<div>\n",
       "<style scoped>\n",
       "    .dataframe tbody tr th:only-of-type {\n",
       "        vertical-align: middle;\n",
       "    }\n",
       "\n",
       "    .dataframe tbody tr th {\n",
       "        vertical-align: top;\n",
       "    }\n",
       "\n",
       "    .dataframe thead th {\n",
       "        text-align: right;\n",
       "    }\n",
       "</style>\n",
       "<table border=\"1\" class=\"dataframe\">\n",
       "  <thead>\n",
       "    <tr style=\"text-align: right;\">\n",
       "      <th></th>\n",
       "      <th>0</th>\n",
       "      <th>1</th>\n",
       "      <th>2</th>\n",
       "    </tr>\n",
       "  </thead>\n",
       "  <tbody>\n",
       "    <tr>\n",
       "      <th>0</th>\n",
       "      <td>1</td>\n",
       "      <td>2</td>\n",
       "      <td>3</td>\n",
       "    </tr>\n",
       "    <tr>\n",
       "      <th>1</th>\n",
       "      <td>2</td>\n",
       "      <td>3</td>\n",
       "      <td>4</td>\n",
       "    </tr>\n",
       "    <tr>\n",
       "      <th>2</th>\n",
       "      <td>2</td>\n",
       "      <td>3</td>\n",
       "      <td>5</td>\n",
       "    </tr>\n",
       "    <tr>\n",
       "      <th>3</th>\n",
       "      <td>4</td>\n",
       "      <td>5</td>\n",
       "      <td>6</td>\n",
       "    </tr>\n",
       "  </tbody>\n",
       "</table>\n",
       "</div>"
      ],
      "text/plain": [
       "   0  1  2\n",
       "0  1  2  3\n",
       "1  2  3  4\n",
       "2  2  3  5\n",
       "3  4  5  6"
      ]
     },
     "execution_count": null,
     "metadata": {},
     "output_type": "execute_result"
    }
   ],
   "source": [
    "s2_copy = s2.copy()\n",
    "s2"
   ]
  },
  {
   "cell_type": "code",
   "execution_count": null,
   "metadata": {},
   "outputs": [],
   "source": [
    "empty = pd.DataFrame()\n",
    "\n",
    "truth = pd.DataFrame([()])"
   ]
  },
  {
   "cell_type": "code",
   "execution_count": null,
   "metadata": {},
   "outputs": [
    {
     "data": {
      "text/plain": [
       "True"
      ]
     },
     "execution_count": null,
     "metadata": {},
     "output_type": "execute_result"
    }
   ],
   "source": [
    "empty.empty"
   ]
  },
  {
   "cell_type": "code",
   "execution_count": null,
   "metadata": {},
   "outputs": [],
   "source": [
    "assert serialize_df_values(select(empty,[(0,1)]))==set()\n",
    "assert serialize_df_values(rename(empty,names=[(0,'X')]))==set()\n",
    "assert serialize_df_values(project(empty,on=['X','Y']))==set()"
   ]
  },
  {
   "cell_type": "code",
   "execution_count": null,
   "metadata": {},
   "outputs": [],
   "source": [
    "res = select(s,[(0,1)])\n",
    "assert serialize_df_values(res)=={(1,1)}\n",
    "\n",
    "res = select(s2,[(0,2),(1,3)])\n",
    "assert serialize_df_values(res) == {(2,3,4),(2,3,5)}\n",
    "\n",
    "res = select(s,lambda row: row[0] == row[1])\n",
    "assert serialize_df_values(res) == {(1, 1), (2, 2), (3, 3)}"
   ]
  },
  {
   "cell_type": "code",
   "execution_count": null,
   "metadata": {},
   "outputs": [
    {
     "data": {
      "text/html": [
       "<div>\n",
       "<style scoped>\n",
       "    .dataframe tbody tr th:only-of-type {\n",
       "        vertical-align: middle;\n",
       "    }\n",
       "\n",
       "    .dataframe tbody tr th {\n",
       "        vertical-align: top;\n",
       "    }\n",
       "\n",
       "    .dataframe thead th {\n",
       "        text-align: right;\n",
       "    }\n",
       "</style>\n",
       "<table border=\"1\" class=\"dataframe\">\n",
       "  <thead>\n",
       "    <tr style=\"text-align: right;\">\n",
       "      <th></th>\n",
       "      <th>2</th>\n",
       "      <th>1</th>\n",
       "    </tr>\n",
       "  </thead>\n",
       "  <tbody>\n",
       "    <tr>\n",
       "      <th>0</th>\n",
       "      <td>3</td>\n",
       "      <td>2</td>\n",
       "    </tr>\n",
       "    <tr>\n",
       "      <th>1</th>\n",
       "      <td>4</td>\n",
       "      <td>3</td>\n",
       "    </tr>\n",
       "    <tr>\n",
       "      <th>2</th>\n",
       "      <td>5</td>\n",
       "      <td>3</td>\n",
       "    </tr>\n",
       "    <tr>\n",
       "      <th>3</th>\n",
       "      <td>6</td>\n",
       "      <td>5</td>\n",
       "    </tr>\n",
       "  </tbody>\n",
       "</table>\n",
       "</div>"
      ],
      "text/plain": [
       "   2  1\n",
       "0  3  2\n",
       "1  4  3\n",
       "2  5  3\n",
       "3  6  5"
      ]
     },
     "execution_count": null,
     "metadata": {},
     "output_type": "execute_result"
    }
   ],
   "source": [
    "res = project(s2,on=[2,1])\n",
    "assert serialize_df_values(res) == {(3, 2), (4, 3), (5, 3), (6, 5)}\n",
    "res"
   ]
  },
  {
   "cell_type": "code",
   "execution_count": null,
   "metadata": {},
   "outputs": [],
   "source": [
    "assert list(rename(s2,[(0,'X')]).columns) == ['X',1,2]\n",
    "assert list(rename(s2,[(0,'X'),(2,'Z')]).columns) == ['X',1,'Z']"
   ]
  },
  {
   "cell_type": "code",
   "execution_count": null,
   "metadata": {},
   "outputs": [],
   "source": [
    "res = union(s2,s3)\n",
    "assert serialize_df_values(res) == {(1, 2, 3), (2, 3, 4), (2, 3, 5), (4, 5, 6), (5, 6, 7), (7, 8, 9)}\n",
    "\n",
    "res = intersection(s2,s3) \n",
    "assert serialize_df_values(res) == {(1, 2, 3), (4, 5, 6),}\n",
    "\n",
    "res = difference(s2,s3)\n",
    "assert serialize_df_values(res) == { (2, 3, 4), (2, 3, 5),(5, 6, 7), (7, 8, 9)}\n"
   ]
  },
  {
   "cell_type": "code",
   "execution_count": null,
   "metadata": {},
   "outputs": [
    {
     "data": {
      "text/html": [
       "<div>\n",
       "<style scoped>\n",
       "    .dataframe tbody tr th:only-of-type {\n",
       "        vertical-align: middle;\n",
       "    }\n",
       "\n",
       "    .dataframe tbody tr th {\n",
       "        vertical-align: top;\n",
       "    }\n",
       "\n",
       "    .dataframe thead th {\n",
       "        text-align: right;\n",
       "    }\n",
       "</style>\n",
       "<table border=\"1\" class=\"dataframe\">\n",
       "  <thead>\n",
       "    <tr style=\"text-align: right;\">\n",
       "      <th></th>\n",
       "      <th>0</th>\n",
       "      <th>Y</th>\n",
       "    </tr>\n",
       "  </thead>\n",
       "  <tbody>\n",
       "    <tr>\n",
       "      <th>0</th>\n",
       "      <td>1</td>\n",
       "      <td>1</td>\n",
       "    </tr>\n",
       "    <tr>\n",
       "      <th>1</th>\n",
       "      <td>2</td>\n",
       "      <td>2</td>\n",
       "    </tr>\n",
       "    <tr>\n",
       "      <th>2</th>\n",
       "      <td>3</td>\n",
       "      <td>3</td>\n",
       "    </tr>\n",
       "    <tr>\n",
       "      <th>3</th>\n",
       "      <td>4</td>\n",
       "      <td>5</td>\n",
       "    </tr>\n",
       "  </tbody>\n",
       "</table>\n",
       "</div>"
      ],
      "text/plain": [
       "   0  Y\n",
       "0  1  1\n",
       "1  2  2\n",
       "2  3  3\n",
       "3  4  5"
      ]
     },
     "execution_count": null,
     "metadata": {},
     "output_type": "execute_result"
    }
   ],
   "source": [
    "left = rename(s,[(1,'Y')])\n",
    "left"
   ]
  },
  {
   "cell_type": "code",
   "execution_count": null,
   "metadata": {},
   "outputs": [
    {
     "data": {
      "text/html": [
       "<div>\n",
       "<style scoped>\n",
       "    .dataframe tbody tr th:only-of-type {\n",
       "        vertical-align: middle;\n",
       "    }\n",
       "\n",
       "    .dataframe tbody tr th {\n",
       "        vertical-align: top;\n",
       "    }\n",
       "\n",
       "    .dataframe thead th {\n",
       "        text-align: right;\n",
       "    }\n",
       "</style>\n",
       "<table border=\"1\" class=\"dataframe\">\n",
       "  <thead>\n",
       "    <tr style=\"text-align: right;\">\n",
       "      <th></th>\n",
       "      <th>Y</th>\n",
       "      <th>X</th>\n",
       "      <th>2</th>\n",
       "    </tr>\n",
       "  </thead>\n",
       "  <tbody>\n",
       "    <tr>\n",
       "      <th>0</th>\n",
       "      <td>1</td>\n",
       "      <td>2</td>\n",
       "      <td>3</td>\n",
       "    </tr>\n",
       "    <tr>\n",
       "      <th>1</th>\n",
       "      <td>2</td>\n",
       "      <td>3</td>\n",
       "      <td>4</td>\n",
       "    </tr>\n",
       "    <tr>\n",
       "      <th>2</th>\n",
       "      <td>2</td>\n",
       "      <td>3</td>\n",
       "      <td>5</td>\n",
       "    </tr>\n",
       "    <tr>\n",
       "      <th>3</th>\n",
       "      <td>4</td>\n",
       "      <td>5</td>\n",
       "      <td>6</td>\n",
       "    </tr>\n",
       "  </tbody>\n",
       "</table>\n",
       "</div>"
      ],
      "text/plain": [
       "   Y  X  2\n",
       "0  1  2  3\n",
       "1  2  3  4\n",
       "2  2  3  5\n",
       "3  4  5  6"
      ]
     },
     "execution_count": null,
     "metadata": {},
     "output_type": "execute_result"
    }
   ],
   "source": [
    "right = rename(s2,[(0,'Y'),(1,'X')])\n",
    "right"
   ]
  },
  {
   "cell_type": "code",
   "execution_count": null,
   "metadata": {},
   "outputs": [
    {
     "data": {
      "text/html": [
       "<div>\n",
       "<style scoped>\n",
       "    .dataframe tbody tr th:only-of-type {\n",
       "        vertical-align: middle;\n",
       "    }\n",
       "\n",
       "    .dataframe tbody tr th {\n",
       "        vertical-align: top;\n",
       "    }\n",
       "\n",
       "    .dataframe thead th {\n",
       "        text-align: right;\n",
       "    }\n",
       "</style>\n",
       "<table border=\"1\" class=\"dataframe\">\n",
       "  <thead>\n",
       "    <tr style=\"text-align: right;\">\n",
       "      <th></th>\n",
       "      <th>0</th>\n",
       "      <th>Y</th>\n",
       "      <th>X</th>\n",
       "      <th>2</th>\n",
       "    </tr>\n",
       "  </thead>\n",
       "  <tbody>\n",
       "    <tr>\n",
       "      <th>0</th>\n",
       "      <td>1</td>\n",
       "      <td>1</td>\n",
       "      <td>2</td>\n",
       "      <td>3</td>\n",
       "    </tr>\n",
       "    <tr>\n",
       "      <th>1</th>\n",
       "      <td>2</td>\n",
       "      <td>2</td>\n",
       "      <td>3</td>\n",
       "      <td>4</td>\n",
       "    </tr>\n",
       "    <tr>\n",
       "      <th>2</th>\n",
       "      <td>2</td>\n",
       "      <td>2</td>\n",
       "      <td>3</td>\n",
       "      <td>5</td>\n",
       "    </tr>\n",
       "  </tbody>\n",
       "</table>\n",
       "</div>"
      ],
      "text/plain": [
       "   0  Y  X  2\n",
       "0  1  1  2  3\n",
       "1  2  2  3  4\n",
       "2  2  2  3  5"
      ]
     },
     "execution_count": null,
     "metadata": {},
     "output_type": "execute_result"
    }
   ],
   "source": [
    "res = join(left,right)\n",
    "serialize_df_values(res) == {(1, 1, 2, 3), (2, 2, 3, 4), (2, 2, 3, 5)}\n",
    "res"
   ]
  },
  {
   "cell_type": "code",
   "execution_count": null,
   "metadata": {},
   "outputs": [
    {
     "data": {
      "text/html": [
       "<div>\n",
       "<style scoped>\n",
       "    .dataframe tbody tr th:only-of-type {\n",
       "        vertical-align: middle;\n",
       "    }\n",
       "\n",
       "    .dataframe tbody tr th {\n",
       "        vertical-align: top;\n",
       "    }\n",
       "\n",
       "    .dataframe thead th {\n",
       "        text-align: right;\n",
       "    }\n",
       "</style>\n",
       "<table border=\"1\" class=\"dataframe\">\n",
       "  <thead>\n",
       "    <tr style=\"text-align: right;\">\n",
       "      <th></th>\n",
       "      <th>a</th>\n",
       "      <th>b</th>\n",
       "      <th>0</th>\n",
       "      <th>1</th>\n",
       "    </tr>\n",
       "  </thead>\n",
       "  <tbody>\n",
       "    <tr>\n",
       "      <th>0</th>\n",
       "      <td>1</td>\n",
       "      <td>1</td>\n",
       "      <td>1</td>\n",
       "      <td>1</td>\n",
       "    </tr>\n",
       "    <tr>\n",
       "      <th>1</th>\n",
       "      <td>1</td>\n",
       "      <td>1</td>\n",
       "      <td>2</td>\n",
       "      <td>2</td>\n",
       "    </tr>\n",
       "    <tr>\n",
       "      <th>2</th>\n",
       "      <td>1</td>\n",
       "      <td>1</td>\n",
       "      <td>3</td>\n",
       "      <td>3</td>\n",
       "    </tr>\n",
       "    <tr>\n",
       "      <th>3</th>\n",
       "      <td>1</td>\n",
       "      <td>1</td>\n",
       "      <td>4</td>\n",
       "      <td>5</td>\n",
       "    </tr>\n",
       "    <tr>\n",
       "      <th>4</th>\n",
       "      <td>2</td>\n",
       "      <td>2</td>\n",
       "      <td>1</td>\n",
       "      <td>1</td>\n",
       "    </tr>\n",
       "  </tbody>\n",
       "</table>\n",
       "</div>"
      ],
      "text/plain": [
       "   a  b  0  1\n",
       "0  1  1  1  1\n",
       "1  1  1  2  2\n",
       "2  1  1  3  3\n",
       "3  1  1  4  5\n",
       "4  2  2  1  1"
      ]
     },
     "execution_count": null,
     "metadata": {},
     "output_type": "execute_result"
    }
   ],
   "source": [
    "res = join(rename(s,[(0,'a'),(1,'b')]),s)\n",
    "assert len(res)==16\n",
    "assert list(res.columns) == ['a', 'b', 0, 1]\n",
    "res.head()"
   ]
  },
  {
   "cell_type": "code",
   "execution_count": null,
   "metadata": {},
   "outputs": [
    {
     "data": {
      "text/html": [
       "<div>\n",
       "<style scoped>\n",
       "    .dataframe tbody tr th:only-of-type {\n",
       "        vertical-align: middle;\n",
       "    }\n",
       "\n",
       "    .dataframe tbody tr th {\n",
       "        vertical-align: top;\n",
       "    }\n",
       "\n",
       "    .dataframe thead th {\n",
       "        text-align: right;\n",
       "    }\n",
       "</style>\n",
       "<table border=\"1\" class=\"dataframe\">\n",
       "  <thead>\n",
       "    <tr style=\"text-align: right;\">\n",
       "      <th></th>\n",
       "      <th>col0</th>\n",
       "      <th>col1</th>\n",
       "    </tr>\n",
       "  </thead>\n",
       "  <tbody>\n",
       "    <tr>\n",
       "      <th>0</th>\n",
       "      <td>2</td>\n",
       "      <td>0</td>\n",
       "    </tr>\n",
       "    <tr>\n",
       "      <th>1</th>\n",
       "      <td>4</td>\n",
       "      <td>0</td>\n",
       "    </tr>\n",
       "    <tr>\n",
       "      <th>2</th>\n",
       "      <td>6</td>\n",
       "      <td>0</td>\n",
       "    </tr>\n",
       "    <tr>\n",
       "      <th>3</th>\n",
       "      <td>9</td>\n",
       "      <td>-1</td>\n",
       "    </tr>\n",
       "  </tbody>\n",
       "</table>\n",
       "</div>"
      ],
      "text/plain": [
       "   col0  col1\n",
       "0     2     0\n",
       "1     4     0\n",
       "2     6     0\n",
       "3     9    -1"
      ]
     },
     "execution_count": null,
     "metadata": {},
     "output_type": "execute_result"
    }
   ],
   "source": [
    "def func(x,y): return (x+y,x-y)\n",
    "def func2(x,y,z): return (x,y)\n",
    "\n",
    "res = calc(s,func,[int,int])\n",
    "assert serialize_df_values(res) == {(2, 0), (4, 0), (6, 0), (9, -1)}\n",
    "res"
   ]
  },
  {
   "cell_type": "code",
   "execution_count": null,
   "metadata": {},
   "outputs": [
    {
     "name": "stdout",
     "output_type": "stream",
     "text": [
      "Function <function func2> returned a value of an unexpected schema (1, 2)(['int', 'int']) expected ['int', 'int', 'int']\n",
      "Function <function func2> returned a value of an unexpected schema (1, 2)(['int', 'int']) expected ['int', 'str']\n"
     ]
    }
   ],
   "source": [
    "# test checking of schema\n",
    "with pytest.raises(ValueError) as exc_info:\n",
    "    calc(s2,func2,[int,int,int])\n",
    "assert 'returned a value of an unexpected schema' in str(exc_info.value)\n",
    "print(exc_info.value)\n",
    "\n",
    "with pytest.raises(ValueError) as exc_info:\n",
    "    calc(s2,func2,[int,str])\n",
    "assert 'returned a value of an unexpected schema' in str(exc_info.value)\n",
    "print(exc_info.value)"
   ]
  },
  {
   "cell_type": "code",
   "execution_count": null,
   "metadata": {},
   "outputs": [
    {
     "data": {
      "text/html": [
       "<div>\n",
       "<style scoped>\n",
       "    .dataframe tbody tr th:only-of-type {\n",
       "        vertical-align: middle;\n",
       "    }\n",
       "\n",
       "    .dataframe tbody tr th {\n",
       "        vertical-align: top;\n",
       "    }\n",
       "\n",
       "    .dataframe thead th {\n",
       "        text-align: right;\n",
       "    }\n",
       "</style>\n",
       "<table border=\"1\" class=\"dataframe\">\n",
       "  <thead>\n",
       "    <tr style=\"text-align: right;\">\n",
       "      <th></th>\n",
       "      <th>col0</th>\n",
       "      <th>col1</th>\n",
       "    </tr>\n",
       "  </thead>\n",
       "  <tbody>\n",
       "    <tr>\n",
       "      <th>0</th>\n",
       "      <td>1</td>\n",
       "      <td>1</td>\n",
       "    </tr>\n",
       "    <tr>\n",
       "      <th>1</th>\n",
       "      <td>2</td>\n",
       "      <td>2</td>\n",
       "    </tr>\n",
       "    <tr>\n",
       "      <th>2</th>\n",
       "      <td>3</td>\n",
       "      <td>3</td>\n",
       "    </tr>\n",
       "    <tr>\n",
       "      <th>3</th>\n",
       "      <td>4</td>\n",
       "      <td>4</td>\n",
       "    </tr>\n",
       "  </tbody>\n",
       "</table>\n",
       "</div>"
      ],
      "text/plain": [
       "  col0 col1\n",
       "0    1    1\n",
       "1    2    2\n",
       "2    3    3\n",
       "3    4    4"
      ]
     },
     "execution_count": null,
     "metadata": {},
     "output_type": "execute_result"
    }
   ],
   "source": [
    "res =  get_rel('S',e.db)\n",
    "res"
   ]
  },
  {
   "cell_type": "markdown",
   "metadata": {},
   "source": [
    "## SemiNaive Operations"
   ]
  },
  {
   "cell_type": "markdown",
   "metadata": {},
   "source": [
    "for every RA operation and CalcIE operation, we have a funcion that taken the children as nodes that can get the underlying data from a specific iteration and compute the differential version of the operation"
   ]
  },
  {
   "cell_type": "code",
   "execution_count": null,
   "metadata": {},
   "outputs": [],
   "source": [
    "#TODO this will be implemented in the future"
   ]
  },
  {
   "cell_type": "markdown",
   "metadata": {},
   "source": [
    "## Naive execution"
   ]
  },
  {
   "cell_type": "markdown",
   "metadata": {},
   "source": [
    "A recursive least fixed point logic algorithm mimicing the bottom up evalutation."
   ]
  },
  {
   "cell_type": "code",
   "execution_count": null,
   "metadata": {},
   "outputs": [],
   "source": [
    "#| export\n",
    "def compute_node(G,u,results_dict):\n",
    "    \"\"\"\n",
    "    \"\"\"\n",
    "    global op_to_func\n",
    "    u_data = G.nodes[u]\n",
    "    if u_data.get('final',False):\n",
    "        return results_dict[u][-1]\n",
    "    \n",
    "\n",
    "    children_ids = list(G.successors(u))\n",
    "    children_data = [G.nodes[child_id] for child_id in children_ids]\n",
    "\n",
    "    if len(children_ids)==0:\n",
    "        all_children_final=True\n",
    "        children_results=[]\n",
    "        \n",
    "    else:\n",
    "        all_children_final = all(child_data.get('final',False) for child_data in children_data)\n",
    "        # this block helps avoid infinite recursion when we need to initialize the 0th iteration of a node in a cycle as the empty relation\n",
    "        if u_data.get('visited',False):\n",
    "            u_data['visited'] = True\n",
    "            return pd.DataFrame()\n",
    "        u_data['visited'] =True\n",
    "        \n",
    "        children_results = [compute_node(G,child_id,results_dict) for child_id in children_ids]\n",
    "\n",
    "\n",
    "\n",
    "    op_code = u_data['op']\n",
    "    op_func = op_to_func[op_code]\n",
    "    logger.debug(f'computing node {u} with op {op_code} and children results {children_results} and data {u_data}')\n",
    "    current_results = op_func(*children_results,**u_data)\n",
    "    results_dict[u].append(current_results)\n",
    "\n",
    "    # if all children are final then we can mark this node as final\n",
    "    if all_children_final:\n",
    "        u_data['final'] = True\n",
    "    # else check for fixed point\n",
    "    elif len(results_dict[u])>1:\n",
    "        this_res = results_dict[u][-1]\n",
    "        last_res = results_dict[u][-2]\n",
    "        if pd.DataFrame.equals(this_res,last_res):\n",
    "            u_data['final'] = True\n",
    "        else:\n",
    "            u_data['final'] = False\n",
    "    # if this is the first iteration we need to wait for the second one to check for fixed point so final is still false\n",
    "    else:\n",
    "        u_data['final']=False\n",
    "\n",
    "    return current_results\n",
    "\n",
    "\n",
    "\n"
   ]
  },
  {
   "cell_type": "markdown",
   "metadata": {},
   "source": [
    "#### Case1"
   ]
  },
  {
   "cell_type": "code",
   "execution_count": null,
   "metadata": {},
   "outputs": [
    {
     "name": "stdout",
     "output_type": "stream",
     "text": [
      "{'R(X,Y) <- S(X,Y),S2(X,A,3)': 0, 'R(X,Y) <- S(X,Y),T(X,Y) -> (X,Y)': 1}\n"
     ]
    },
    {
     "data": {
      "text/html": [
       "<div>\n",
       "<style scoped>\n",
       "    .dataframe tbody tr th:only-of-type {\n",
       "        vertical-align: middle;\n",
       "    }\n",
       "\n",
       "    .dataframe tbody tr th {\n",
       "        vertical-align: top;\n",
       "    }\n",
       "\n",
       "    .dataframe thead th {\n",
       "        text-align: right;\n",
       "    }\n",
       "</style>\n",
       "<table border=\"1\" class=\"dataframe\">\n",
       "  <thead>\n",
       "    <tr style=\"text-align: right;\">\n",
       "      <th></th>\n",
       "      <th>0</th>\n",
       "      <th>1</th>\n",
       "    </tr>\n",
       "  </thead>\n",
       "  <tbody>\n",
       "    <tr>\n",
       "      <th>0</th>\n",
       "      <td>1</td>\n",
       "      <td>1</td>\n",
       "    </tr>\n",
       "    <tr>\n",
       "      <th>1</th>\n",
       "      <td>2</td>\n",
       "      <td>2</td>\n",
       "    </tr>\n",
       "    <tr>\n",
       "      <th>2</th>\n",
       "      <td>3</td>\n",
       "      <td>3</td>\n",
       "    </tr>\n",
       "    <tr>\n",
       "      <th>3</th>\n",
       "      <td>4</td>\n",
       "      <td>5</td>\n",
       "    </tr>\n",
       "  </tbody>\n",
       "</table>\n",
       "</div>"
      ],
      "text/plain": [
       "   0  1\n",
       "0  1  1\n",
       "1  2  2\n",
       "2  3  3\n",
       "3  4  5"
      ]
     },
     "metadata": {},
     "output_type": "display_data"
    },
    {
     "data": {
      "text/html": [
       "<div>\n",
       "<style scoped>\n",
       "    .dataframe tbody tr th:only-of-type {\n",
       "        vertical-align: middle;\n",
       "    }\n",
       "\n",
       "    .dataframe tbody tr th {\n",
       "        vertical-align: top;\n",
       "    }\n",
       "\n",
       "    .dataframe thead th {\n",
       "        text-align: right;\n",
       "    }\n",
       "</style>\n",
       "<table border=\"1\" class=\"dataframe\">\n",
       "  <thead>\n",
       "    <tr style=\"text-align: right;\">\n",
       "      <th></th>\n",
       "      <th>0</th>\n",
       "      <th>1</th>\n",
       "      <th>2</th>\n",
       "    </tr>\n",
       "  </thead>\n",
       "  <tbody>\n",
       "    <tr>\n",
       "      <th>0</th>\n",
       "      <td>1</td>\n",
       "      <td>2</td>\n",
       "      <td>3</td>\n",
       "    </tr>\n",
       "    <tr>\n",
       "      <th>1</th>\n",
       "      <td>2</td>\n",
       "      <td>3</td>\n",
       "      <td>4</td>\n",
       "    </tr>\n",
       "    <tr>\n",
       "      <th>2</th>\n",
       "      <td>2</td>\n",
       "      <td>3</td>\n",
       "      <td>5</td>\n",
       "    </tr>\n",
       "    <tr>\n",
       "      <th>3</th>\n",
       "      <td>4</td>\n",
       "      <td>5</td>\n",
       "      <td>6</td>\n",
       "    </tr>\n",
       "  </tbody>\n",
       "</table>\n",
       "</div>"
      ],
      "text/plain": [
       "   0  1  2\n",
       "0  1  2  3\n",
       "1  2  3  4\n",
       "2  2  3  5\n",
       "3  4  5  6"
      ]
     },
     "metadata": {},
     "output_type": "display_data"
    }
   ],
   "source": [
    "e = Engine()\n",
    "e.set_relation(RelationDefinition(name='S', scheme=[int,int]))\n",
    "e.set_relation(RelationDefinition(name='S2', scheme=[int,int,int]))\n",
    "\n",
    "e.add_rule(r1,RelationDefinition(name='R', scheme=[int,int]))\n",
    "e.add_rule(r2,RelationDefinition(name='R', scheme=[int,int]))\n",
    "\n",
    "e.add_facts('S',s)\n",
    "e.add_facts('S2',s2)\n",
    "\n",
    "def func(x,y):\n",
    "    return y,x\n",
    "\n",
    "ie_def = IEFunction(name='T',func=func,in_schema=[int,int],out_schema=[int,int])\n",
    "\n",
    "e.set_ie_function(ie_def)\n",
    "g = e._inline_db_and_ies_in_graph(e.term_graph)\n",
    "print(e.rules_to_ids)\n",
    "display(s)\n",
    "display(s2)"
   ]
  },
  {
   "cell_type": "code",
   "execution_count": null,
   "metadata": {},
   "outputs": [],
   "source": [
    "# with checkLogs():\n",
    "results_dict = defaultdict(list)\n",
    "query_res = compute_node(g.copy(),'R',results_dict)\n",
    "assert serialize_df_values(query_res) == {(1, 1), (2, 2), (3, 3)}"
   ]
  },
  {
   "cell_type": "code",
   "execution_count": null,
   "metadata": {},
   "outputs": [
    {
     "data": {
      "text/html": [
       "<img src=\"https://mermaid.ink/img/CmZsb3djaGFydCBUQgpTWyJTCnJlbD0jcXVvdDtTI3F1b3Q7LCBydWxlX2lkPXswLCAxfSwgb3A9I3F1b3Q7Z2V0X3JlbCNxdW90OywgZGI9REIoUywgUzIsIFIpIl0KUzJbIlMyCnJlbD0jcXVvdDtTMiNxdW90OywgcnVsZV9pZD17MH0sIG9wPSNxdW90O2dldF9yZWwjcXVvdDssIGRiPURCKFMsIFMyLCBSKSJdClJbIlIKcmVsPSNxdW90O1IjcXVvdDssIG9wPSNxdW90O3VuaW9uI3F1b3Q7LCBydWxlX2lkPXswLCAxfSJdCjBbIjAKb3A9I3F1b3Q7cmVuYW1lI3F1b3Q7LCBuYW1lcz1bKDAsICNxdW90O1gjcXVvdDspLCAoMSwgI3F1b3Q7WSNxdW90OyldLCBydWxlX2lkPXswfSJdCjFbIjEKb3A9I3F1b3Q7cmVuYW1lI3F1b3Q7LCBuYW1lcz1bKDAsICNxdW90O1gjcXVvdDspLCAoMSwgI3F1b3Q7QSNxdW90OyldLCBydWxlX2lkPXswfSJdCjJbIjIKb3A9I3F1b3Q7c2VsZWN0I3F1b3Q7LCB0aGV0YT1bKDIsIDMpXSwgcnVsZV9pZD17MH0iXQozWyIzCm9wPSNxdW90O2pvaW4jcXVvdDssIHJ1bGVfaWQ9ezB9Il0KNFsiNApvcD0jcXVvdDtwcm9qZWN0I3F1b3Q7LCBvbj1bI3F1b3Q7WCNxdW90OywgI3F1b3Q7WSNxdW90O10sIHJlbD0jcXVvdDtfUl8wI3F1b3Q7LCBydWxlX2lkPXswfSJdCjhbIjgKb3A9I3F1b3Q7cmVuYW1lI3F1b3Q7LCBuYW1lcz1bKDAsICNxdW90O1gjcXVvdDspLCAoMSwgI3F1b3Q7WSNxdW90OyldLCBydWxlX2lkPXsxfSJdCjlbIjkKb3A9I3F1b3Q7cHJvamVjdCNxdW90Oywgb249WyNxdW90O1gjcXVvdDssICNxdW90O1kjcXVvdDtdLCBydWxlX2lkPXsxfSJdCjEwWyIxMApvcD0jcXVvdDtjYWxjI3F1b3Q7LCBmdW5jPSNsdDtmdW5jdGlvbiBmdW5jIGF0IDB4MTFhNmJiMWEwI2d0OywgcnVsZV9pZD17MX0sIG91dF9zY2hlbWE9WyNsdDtjbGFzcyAjcXVvdDtpbnQjcXVvdDsjZ3Q7LCAjbHQ7Y2xhc3MgI3F1b3Q7aW50I3F1b3Q7I2d0O10iXQoxMVsiMTEKb3A9I3F1b3Q7cmVuYW1lI3F1b3Q7LCBuYW1lcz1bKDAsICNxdW90O1gjcXVvdDspLCAoMSwgI3F1b3Q7WSNxdW90OyldLCBydWxlX2lkPXsxfSJdCjZbIjYKb3A9I3F1b3Q7am9pbiNxdW90OywgcnVsZV9pZD17MX0iXQo3WyI3Cm9wPSNxdW90O3Byb2plY3QjcXVvdDssIG9uPVsjcXVvdDtYI3F1b3Q7LCAjcXVvdDtZI3F1b3Q7XSwgcmVsPSNxdW90O19SXzEjcXVvdDssIHJ1bGVfaWQ9ezF9Il0KUiAtLT4gNApSIC0tPiA3CjAgLS0+IFMKMSAtLT4gUzIKMiAtLT4gMQozIC0tPiAwCjMgLS0+IDIKNCAtLT4gMwo4IC0tPiBTCjkgLS0+IDgKMTAgLS0+IDkKMTEgLS0+IDEwCjYgLS0+IDgKNiAtLT4gMTEKNyAtLT4gNgo=\"/>"
      ],
      "text/plain": [
       "<IPython.core.display.Image object>"
      ]
     },
     "metadata": {},
     "output_type": "display_data"
    }
   ],
   "source": [
    "draw(g)"
   ]
  },
  {
   "cell_type": "code",
   "execution_count": null,
   "metadata": {},
   "outputs": [],
   "source": [
    "res = e.run_query(Relation(name='R',terms=[FreeVar(name='X'),FreeVar(name='Y')]))\n",
    "assert serialize_df_values(res) == {(1, 1), (2, 2), (3, 3)}"
   ]
  },
  {
   "cell_type": "code",
   "execution_count": null,
   "metadata": {},
   "outputs": [
    {
     "data": {
      "text/html": [
       "<img src=\"https://mermaid.ink/img/CmZsb3djaGFydCBUQgpTWyJTCnJlbD0jcXVvdDtTI3F1b3Q7LCBydWxlX2lkPXswLCAxfSwgb3A9I3F1b3Q7Z2V0X3JlbCNxdW90OywgZGI9REIoUywgUzIsIFIpIl0KUzJbIlMyCnJlbD0jcXVvdDtTMiNxdW90OywgcnVsZV9pZD17MH0sIG9wPSNxdW90O2dldF9yZWwjcXVvdDssIGRiPURCKFMsIFMyLCBSKSJdClJbIlIKcmVsPSNxdW90O1IjcXVvdDssIG9wPSNxdW90O3VuaW9uI3F1b3Q7LCBydWxlX2lkPXswLCAxfSJdCjBbIjAKb3A9I3F1b3Q7cmVuYW1lI3F1b3Q7LCBuYW1lcz1bKDAsICNxdW90O1gjcXVvdDspLCAoMSwgI3F1b3Q7WSNxdW90OyldLCBydWxlX2lkPXswfSJdCjFbIjEKb3A9I3F1b3Q7cmVuYW1lI3F1b3Q7LCBuYW1lcz1bKDAsICNxdW90O1gjcXVvdDspLCAoMSwgI3F1b3Q7QSNxdW90OyldLCBydWxlX2lkPXswfSJdCjJbIjIKb3A9I3F1b3Q7c2VsZWN0I3F1b3Q7LCB0aGV0YT1bKDIsIDMpXSwgcnVsZV9pZD17MH0iXQozWyIzCm9wPSNxdW90O2pvaW4jcXVvdDssIHJ1bGVfaWQ9ezB9Il0KNFsiNApvcD0jcXVvdDtwcm9qZWN0I3F1b3Q7LCBvbj1bI3F1b3Q7WCNxdW90OywgI3F1b3Q7WSNxdW90O10sIHJlbD0jcXVvdDtfUl8wI3F1b3Q7LCBydWxlX2lkPXswfSJdCjhbIjgKb3A9I3F1b3Q7cmVuYW1lI3F1b3Q7LCBuYW1lcz1bKDAsICNxdW90O1gjcXVvdDspLCAoMSwgI3F1b3Q7WSNxdW90OyldLCBydWxlX2lkPXsxfSJdCjlbIjkKb3A9I3F1b3Q7cHJvamVjdCNxdW90Oywgb249WyNxdW90O1gjcXVvdDssICNxdW90O1kjcXVvdDtdLCBydWxlX2lkPXsxfSJdCjEwWyIxMApvcD0jcXVvdDtjYWxjI3F1b3Q7LCBmdW5jPSNsdDtmdW5jdGlvbiBmdW5jIGF0IDB4MTFhNmJiMWEwI2d0OywgcnVsZV9pZD17MX0sIG91dF9zY2hlbWE9WyNsdDtjbGFzcyAjcXVvdDtpbnQjcXVvdDsjZ3Q7LCAjbHQ7Y2xhc3MgI3F1b3Q7aW50I3F1b3Q7I2d0O10iXQoxMVsiMTEKb3A9I3F1b3Q7cmVuYW1lI3F1b3Q7LCBuYW1lcz1bKDAsICNxdW90O1gjcXVvdDspLCAoMSwgI3F1b3Q7WSNxdW90OyldLCBydWxlX2lkPXsxfSJdCjZbIjYKb3A9I3F1b3Q7am9pbiNxdW90OywgcnVsZV9pZD17MX0iXQo3WyI3Cm9wPSNxdW90O3Byb2plY3QjcXVvdDssIG9uPVsjcXVvdDtYI3F1b3Q7LCAjcXVvdDtZI3F1b3Q7XSwgcmVsPSNxdW90O19SXzEjcXVvdDssIHJ1bGVfaWQ9ezF9Il0KMTJbIjEyCm9wPSNxdW90O3NlbGVjdCNxdW90OywgdGhldGE9WygxLCAzKV0iXQoxM1siMTMKb3A9I3F1b3Q7cmVuYW1lI3F1b3Q7LCBuYW1lcz1bKDAsICNxdW90O1gjcXVvdDspXSJdCjE0WyIxNApvcD0jcXVvdDtwcm9qZWN0I3F1b3Q7LCBvbj1bI3F1b3Q7WCNxdW90O10iXQpSIC0tPiA0ClIgLS0+IDcKMCAtLT4gUwoxIC0tPiBTMgoyIC0tPiAxCjMgLS0+IDAKMyAtLT4gMgo0IC0tPiAzCjggLS0+IFMKOSAtLT4gOAoxMCAtLT4gOQoxMSAtLT4gMTAKNiAtLT4gOAo2IC0tPiAxMQo3IC0tPiA2CjEyIC0tPiBSCjEzIC0tPiAxMgoxNCAtLT4gMTMK\"/>"
      ],
      "text/plain": [
       "<IPython.core.display.Image object>"
      ]
     },
     "metadata": {},
     "output_type": "display_data"
    }
   ],
   "source": [
    "q,root = e.plan_query(Relation(name='R',terms=[FreeVar(name='X'),3]))\n",
    "draw(q)"
   ]
  },
  {
   "cell_type": "code",
   "execution_count": null,
   "metadata": {},
   "outputs": [],
   "source": [
    "# TODO from here, debug the select node and add a rename node to rename the columns to the correct names given by the query\n",
    "# with checkLogs():\n",
    "\"?R(S,3)\"\n",
    "res = e.run_query(Relation(name='R',terms=[FreeVar(name='S'),3]))\n",
    "assert serialize_df_values(res)=={(3,)}\n",
    "assert list(res.columns) == ['S']"
   ]
  },
  {
   "cell_type": "markdown",
   "metadata": {},
   "source": [
    "#### case 2"
   ]
  },
  {
   "cell_type": "code",
   "execution_count": null,
   "metadata": {},
   "outputs": [
    {
     "data": {
      "text/plain": [
       "{'A(X,Y) <- B(X,Y)': 0,\n",
       " 'A(X,Y) <- C(X,Y)': 1,\n",
       " 'B(X,Y) <- D(X,Y)': 2,\n",
       " 'B(X,Y) <- A(X,Y)': 3}"
      ]
     },
     "execution_count": null,
     "metadata": {},
     "output_type": "execute_result"
    }
   ],
   "source": [
    "e2 = Engine()\n",
    "e2.set_relation(RelationDefinition(name='C', scheme=[int,int]))\n",
    "e2.set_relation(RelationDefinition(name='D', scheme=[int,int]))\n",
    "\n",
    "for rule in [rec_r1,rec_r2,rec_r3,rec_r4]:\n",
    "    e2.add_rule(rule,RelationDefinition(name=rule.head.name, scheme=[int,int]))\n",
    "\n",
    "e2.add_fact(Relation(name='C',terms=[1,2]))\n",
    "e2.add_fact(Relation(name='D',terms=[3,4]))\n",
    "\n",
    "g2 = e2._inline_db_and_ies_in_graph(e2.term_graph)\n",
    "e2.rules_to_ids"
   ]
  },
  {
   "cell_type": "code",
   "execution_count": null,
   "metadata": {},
   "outputs": [],
   "source": [
    "# with checkLogs():\n",
    "query_res = e2.run_query(Relation(name='A',terms=[FreeVar(name='X'),FreeVar(name='Y')]))\n",
    "assert serialize_df_values(query_res) == {(3, 4), (1, 2)}\n",
    "query_res = e2.run_query(Relation(name='B',terms=[FreeVar(name='X'),FreeVar(name='Y')]))\n",
    "assert serialize_df_values(query_res) == {(3, 4), (1, 2)}"
   ]
  },
  {
   "cell_type": "code",
   "execution_count": null,
   "metadata": {},
   "outputs": [
    {
     "data": {
      "text/html": [
       "<img src=\"https://mermaid.ink/img/CmZsb3djaGFydCBUQgpDWyJDCnJlbD0jcXVvdDtDI3F1b3Q7LCBydWxlX2lkPXsxfSwgb3A9I3F1b3Q7Z2V0X3JlbCNxdW90OywgZGI9REIoQywgRCwgQSwgQikiXQpEWyJECnJlbD0jcXVvdDtEI3F1b3Q7LCBydWxlX2lkPXsyfSwgb3A9I3F1b3Q7Z2V0X3JlbCNxdW90OywgZGI9REIoQywgRCwgQSwgQikiXQpBWyJBCnJlbD0jcXVvdDtBI3F1b3Q7LCBvcD0jcXVvdDt1bmlvbiNxdW90OywgcnVsZV9pZD17MCwgMSwgM30iXQpCWyJCCnJlbD0jcXVvdDtCI3F1b3Q7LCBydWxlX2lkPXswLCAyLCAzfSwgb3A9I3F1b3Q7dW5pb24jcXVvdDsiXQowWyIwCm9wPSNxdW90O3JlbmFtZSNxdW90OywgbmFtZXM9WygwLCAjcXVvdDtYI3F1b3Q7KSwgKDEsICNxdW90O1kjcXVvdDspXSwgcnVsZV9pZD17MH0iXQoxWyIxCm9wPSNxdW90O3Byb2plY3QjcXVvdDssIG9uPVsjcXVvdDtYI3F1b3Q7LCAjcXVvdDtZI3F1b3Q7XSwgcmVsPSNxdW90O19BXzAjcXVvdDssIHJ1bGVfaWQ9ezB9Il0KMlsiMgpvcD0jcXVvdDtyZW5hbWUjcXVvdDssIG5hbWVzPVsoMCwgI3F1b3Q7WCNxdW90OyksICgxLCAjcXVvdDtZI3F1b3Q7KV0sIHJ1bGVfaWQ9ezF9Il0KM1siMwpvcD0jcXVvdDtwcm9qZWN0I3F1b3Q7LCBvbj1bI3F1b3Q7WCNxdW90OywgI3F1b3Q7WSNxdW90O10sIHJlbD0jcXVvdDtfQV8xI3F1b3Q7LCBydWxlX2lkPXsxfSJdCjRbIjQKb3A9I3F1b3Q7cmVuYW1lI3F1b3Q7LCBuYW1lcz1bKDAsICNxdW90O1gjcXVvdDspLCAoMSwgI3F1b3Q7WSNxdW90OyldLCBydWxlX2lkPXsyfSJdCjVbIjUKb3A9I3F1b3Q7cHJvamVjdCNxdW90Oywgb249WyNxdW90O1gjcXVvdDssICNxdW90O1kjcXVvdDtdLCByZWw9I3F1b3Q7X0JfMiNxdW90OywgcnVsZV9pZD17Mn0iXQo2WyI2Cm9wPSNxdW90O3JlbmFtZSNxdW90OywgbmFtZXM9WygwLCAjcXVvdDtYI3F1b3Q7KSwgKDEsICNxdW90O1kjcXVvdDspXSwgcnVsZV9pZD17M30iXQo3WyI3Cm9wPSNxdW90O3Byb2plY3QjcXVvdDssIG9uPVsjcXVvdDtYI3F1b3Q7LCAjcXVvdDtZI3F1b3Q7XSwgcmVsPSNxdW90O19CXzMjcXVvdDssIHJ1bGVfaWQ9ezN9Il0KQSAtLT4gMQpBIC0tPiAzCkIgLS0+IDUKQiAtLT4gNwowIC0tPiBCCjEgLS0+IDAKMiAtLT4gQwozIC0tPiAyCjQgLS0+IEQKNSAtLT4gNAo2IC0tPiBBCjcgLS0+IDYK\"/>"
      ],
      "text/plain": [
       "<IPython.core.display.Image object>"
      ]
     },
     "metadata": {},
     "output_type": "display_data"
    }
   ],
   "source": [
    "draw(g2)"
   ]
  },
  {
   "cell_type": "code",
   "execution_count": null,
   "metadata": {},
   "outputs": [],
   "source": [
    "#|hide\n",
    "import nbdev; nbdev.nbdev_export()\n",
    "     "
   ]
  }
 ],
 "metadata": {
  "kernelspec": {
   "display_name": "python3",
   "language": "python",
   "name": "python3"
  }
 },
 "nbformat": 4,
 "nbformat_minor": 4
}
