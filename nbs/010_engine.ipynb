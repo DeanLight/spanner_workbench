{
 "cells": [
  {
   "cell_type": "markdown",
   "metadata": {},
   "source": [
    "# Engine\n",
    "> Execution spannerlog commands"
   ]
  },
  {
   "cell_type": "code",
   "execution_count": null,
   "metadata": {},
   "outputs": [],
   "source": [
    "#| default_exp engine"
   ]
  },
  {
   "cell_type": "code",
   "execution_count": null,
   "metadata": {},
   "outputs": [],
   "source": [
    "#| hide\n",
    "from nbdev.showdoc import show_doc\n",
    "from IPython.display import display, HTML\n",
    "%load_ext autoreload\n",
    "%autoreload 2"
   ]
  },
  {
   "cell_type": "code",
   "execution_count": null,
   "metadata": {},
   "outputs": [],
   "source": [
    "#| export\n",
    "from abc import ABC, abstractmethod\n",
    "import pytest\n",
    "from collections import defaultdict\n",
    "\n",
    "import pandas as pd\n",
    "from pathlib import Path\n",
    "from typing import no_type_check, Set, Sequence, Any,Optional,List,Callable,Dict,Union\n",
    "from pydantic import BaseModel\n",
    "import networkx as nx\n",
    "import itertools\n",
    "import logging\n",
    "logger = logging.getLogger(__name__)\n",
    "\n",
    "from graph_rewrite import draw, draw_match, rewrite, rewrite_iter\n",
    "from spannerlib.utils import (\n",
    "    serialize_graph,\n",
    "    serialize_df_values,\n",
    "    checkLogs,\n",
    "    get_new_node_name\n",
    "    )\n",
    "\n",
    "from spannerlib.span import Span,SpanParser\n",
    "from spannerlib.data_types import (\n",
    "    Var, \n",
    "    FreeVar, \n",
    "    RelationDefinition, \n",
    "    Relation, \n",
    "    IEFunction,\n",
    "    IERelation, \n",
    "    Rule, \n",
    "    pretty\n",
    ")\n",
    "from spannerlib.ra import (\n",
    "    _col_names,\n",
    "    get_const,\n",
    "    select,\n",
    "    project,\n",
    "    rename,\n",
    "    union,\n",
    "    intersection,\n",
    "    difference,\n",
    "    join,\n",
    "    product,\n",
    "    ie_map,\n",
    ")\n",
    "\n",
    "from spannerlib.term_graph import graph_compose, merge_term_graphs_pair,rule_to_graph,add_relation,add_project_uniq_free_vars\n",
    "\n"
   ]
  },
  {
   "cell_type": "markdown",
   "metadata": {},
   "source": [
    "## Helper functions"
   ]
  },
  {
   "cell_type": "code",
   "execution_count": null,
   "metadata": {},
   "outputs": [],
   "source": [
    "#| export\n",
    "def _pd_drop_row(df,row_vals):\n",
    "    new_df = df[(df!=row_vals).all(axis=1)]\n",
    "    return new_df\n",
    "\n",
    "def _pd_append_row(df,row_vals):\n",
    "    return pd.concat([df,pd.DataFrame([row_vals],columns=df.columns)])"
   ]
  },
  {
   "cell_type": "code",
   "execution_count": null,
   "metadata": {},
   "outputs": [],
   "source": [
    "df = pd.DataFrame([\n",
    "    [1,'2fs'],[3,4]\n",
    "])\n",
    "assert list(_pd_drop_row(df,[3,4]).itertuples(index=False,name=None))==[(1,'2fs')]\n",
    "assert list(_pd_append_row(df,[5,6]).itertuples(index=False,name=None)) == [(1, '2fs'), (3, 4), (5, 6)]"
   ]
  },
  {
   "cell_type": "code",
   "execution_count": null,
   "metadata": {},
   "outputs": [],
   "source": [
    "#| export\n",
    "class DB(dict):\n",
    "    def __repr__(self):\n",
    "        key_str=', '.join(self.keys())\n",
    "        return f'DB({key_str})'"
   ]
  },
  {
   "cell_type": "markdown",
   "metadata": {},
   "source": [
    "## Engine Class"
   ]
  },
  {
   "cell_type": "code",
   "execution_count": null,
   "metadata": {},
   "outputs": [],
   "source": [
    "#| export\n",
    "from copy import deepcopy\n",
    "class Engine():\n",
    "    def __init__(self,rewrites=None):\n",
    "        if rewrites is None:\n",
    "            self.rewrites = []\n",
    "        self.symbol_table={\n",
    "            # key : type,val\n",
    "        }\n",
    "        self.Relation_defs={\n",
    "            # key : RelationDefinition for both real and derived relations\n",
    "        }\n",
    "        self.ie_functions={\n",
    "            # name : IEFunction class\n",
    "        }\n",
    "\n",
    "        self.term_graph = nx.DiGraph()\n",
    "        \n",
    "        self.node_counter = itertools.count()\n",
    "        self.rule_counter = itertools.count()\n",
    "\n",
    "        self.db = DB(\n",
    "            # relation_name: dataframe\n",
    "        )\n",
    "\n",
    "        # lets skip this for now and keep it a an attribute in the node graph\n",
    "        self.rules_to_ids = {\n",
    "            # rule pretty string, to node id in term_graph\n",
    "        }\n",
    "\n",
    "        # self.rels_to_nodes() = {\n",
    "        #     # relation name to node that represents it\n",
    "        # }\n",
    "    \n",
    "\n",
    "    def set_var(self,var_name,value,read_from_file=False):\n",
    "        symbol_table = self.symbol_table\n",
    "        if var_name in symbol_table:\n",
    "            existing_type,existing_value = symbol_table[var_name]\n",
    "            if type(value) != existing_type:\n",
    "                raise ValueError(f\"Variable {var_name} was previously defined with {existing_value}({pretty(existing_type)})\"\n",
    "                                f\" but is trying to be redefined to {value}({pretty(type(value))}) of a different type which might interfere with previous rule definitions\")    \n",
    "        symbol_table[var_name] = type(value),value\n",
    "        return\n",
    "    def get_var(self,var_name):\n",
    "        return self.symbol_table.get(var_name,None)\n",
    "    \n",
    "    def del_var(self,var_name):\n",
    "        del self.symbol_table[var_name]\n",
    "\n",
    "    def get_relation(self,rel_name:str):\n",
    "        return self.Relation_defs.get(rel_name,None)\n",
    "\n",
    "    def set_relation(self,rel_def:RelationDefinition):\n",
    "        if rel_def.name in self.Relation_defs:\n",
    "            existing_def = self.Relation_defs[rel_def.name]\n",
    "            if existing_def != rel_def:\n",
    "                raise ValueError(f\"Relation {rel_def.name} was previously defined with {existing_def}\"\n",
    "                                f\"but is trying to be redefined to {rel_def} which might interfere with previous rule definitions\")\n",
    "        else:\n",
    "            self.Relation_defs[rel_def.name] = rel_def\n",
    "            #TODO fix make sure that the empty df has the correct types based on the rel_def\n",
    "            empty_df = pd.DataFrame(columns=_col_names(len(rel_def.scheme)))\n",
    "            self.db[rel_def.name] = empty_df\n",
    "            self.term_graph.add_node(rel_def.name,rel=rel_def.name)\n",
    "\n",
    "    def del_relation(self,rel_name:str):\n",
    "        # TODO we need to think about what to do with all relations that used this rule\n",
    "        raise NotImplementedError(\"deleting relations is not supported yet\")\n",
    "        return\n",
    "\n",
    "    def add_fact(self,fact:Relation):\n",
    "        self.db[fact.name] = _pd_append_row(self.db[fact.name],fact.terms)\n",
    "\n",
    "    def add_facts(self,rel_name,facts:pd.DataFrame):\n",
    "        facts= facts.copy()\n",
    "        facts.columns = _col_names(len(facts.columns))\n",
    "        self.db[rel_name] = pd.concat([self.db[rel_name],facts])\n",
    "\n",
    "    def del_fact(self,fact:Relation):\n",
    "        self.db[fact.name] = _pd_drop_row(df = self.db[fact.name],row_vals=fact.terms)\n",
    "\n",
    "    def get_ie_function(self,name:str):\n",
    "        return self.ie_functions.get(name,None)\n",
    "\n",
    "    def set_ie_function(self,ie_func:IEFunction):\n",
    "        self.ie_functions[ie_func.name]=ie_func\n",
    "\n",
    "    def del_ie_function(self,name:str):\n",
    "        del self.ie_functions[name]\n",
    "\n",
    "    def add_rule(self,rule:Rule,schema:RelationDefinition=None):\n",
    "        if not self.get_relation(rule.head.name) and schema is None:\n",
    "            raise ValueError(f\"Relation {rule.head.name} not defined before adding the rule with it's head\\n\"\n",
    "                             f\"And an relation schema was not supplied.\"\n",
    "                             f\"existing relations are {self.Relation_defs.keys()}\")\n",
    "\n",
    "        if not schema is None:\n",
    "            self.set_relation(schema)\n",
    "\n",
    "        rule_id = next(self.rule_counter)\n",
    "\n",
    "        self.rules_to_ids[pretty(rule)] = rule_id\n",
    "\n",
    "        g2 = rule_to_graph(rule,rule_id)\n",
    "\n",
    "        merge_term_graph = merge_term_graphs_pair(self.term_graph,g2)\n",
    "        self.term_graph = merge_term_graph\n",
    "        \n",
    "\n",
    "    def del_rule(self,rule_str:str):\n",
    "        if not rule_str in self.rules_to_ids:\n",
    "            raise ValueError(f\"Rule {rule_str} does not exist\\n\"\n",
    "                             f\"existing rules are {self.rules_to_ids.keys()}\")\n",
    "        rule_id = self.rules_to_ids[rule_str]\n",
    "        self.rules_to_ids.pop(rule_str)\n",
    "        g = self.term_graph\n",
    "        nodes_to_delete=[]\n",
    "        for u in g.nodes:\n",
    "            node_rule_ids = g.nodes[u].get('rule_id',set())\n",
    "            if rule_id in node_rule_ids:\n",
    "                node_rule_ids.remove(rule_id)\n",
    "                if len(node_rule_ids) == 0:\n",
    "                    nodes_to_delete.append(u)\n",
    "        g.remove_nodes_from(nodes_to_delete)\n",
    "            \n",
    "        return\n",
    "\n",
    "    def _inline_db_and_ies_in_graph(self,g:nx.DiGraph):\n",
    "        g=deepcopy(g)\n",
    "        for u in g.nodes:\n",
    "            if g.out_degree(u)==0 and 'rel' in g.nodes[u]:\n",
    "                g.nodes[u]['op'] = 'get_rel'\n",
    "                g.nodes[u]['db'] = self.db\n",
    "            elif g.nodes[u]['op'] == 'ie_map':\n",
    "                ie_func_name = g.nodes[u]['func']\n",
    "                ie_definition = self.ie_functions[ie_func_name]\n",
    "                g.nodes[u]['func'] = ie_definition.func\n",
    "                g.nodes[u]['name'] = ie_definition.name\n",
    "                g.nodes[u]['in_schema'] = ie_definition.in_schema\n",
    "                g.nodes[u]['out_schema'] = ie_definition.out_schema\n",
    "        return g\n",
    "\n",
    "\n",
    "    def plan_query(self,q_rel:Relation,rewrites=None):\n",
    "        if rewrites is None:\n",
    "            rewrites = self.rewrites\n",
    "        query_graph = self._inline_db_and_ies_in_graph(self.term_graph)\n",
    "\n",
    "        # get the sub term graph induced by the relation head\n",
    "        root_node = q_rel.name\n",
    "        connected_nodes = list(nx.shortest_path(query_graph,root_node).keys())\n",
    "        query_graph = nx.DiGraph(nx.subgraph(query_graph,connected_nodes))\n",
    "        \n",
    "        # add selects renames etc based on the query relation\n",
    "        root_node,_ = add_relation(query_graph,name='query',terms=q_rel.terms,source=root_node)\n",
    "\n",
    "        # TODO for all rewrites, run them\n",
    "        return query_graph,root_node\n",
    "\n",
    "    def execute_plan(self,query_graph,root_node,return_intermediate=False):\n",
    "        results_dict = defaultdict(list)\n",
    "        results = compute_node(query_graph,root_node,results_dict)\n",
    "        if return_intermediate:\n",
    "            return results,results_dict\n",
    "        else:\n",
    "            return results\n",
    "\n",
    "    def run_query(self,q:Relation,rewrites=None,return_intermediate=False):\n",
    "        query_graph,root_node = self.plan_query(q,rewrites)\n",
    "        return self.execute_plan(query_graph,root_node,return_intermediate=return_intermediate)\n"
   ]
  },
  {
   "cell_type": "markdown",
   "metadata": {},
   "source": [
    "### Test"
   ]
  },
  {
   "cell_type": "code",
   "execution_count": null,
   "metadata": {},
   "outputs": [],
   "source": [
    "s = pd.DataFrame([\n",
    "    [1,1],\n",
    "    [2,2],\n",
    "    [3,3],\n",
    "    [4,5]\n",
    "])\n",
    "\n",
    "s2 = pd.DataFrame([\n",
    "    [1,2,3],\n",
    "    [2,3,4],\n",
    "    [3,4,5],\n",
    "    [4,5,6]\n",
    "])"
   ]
  },
  {
   "cell_type": "code",
   "execution_count": null,
   "metadata": {},
   "outputs": [],
   "source": [
    "r1 = Rule(\n",
    "    head=Relation(name='R', terms=[FreeVar(name='X'), FreeVar(name='Y')]),\n",
    "    body=[\n",
    "        Relation(name='S', terms=[FreeVar(name='X'),FreeVar(name='Y')]),\n",
    "        Relation(name='S2', terms=[FreeVar(name='X'), FreeVar(name='A'),3]),\n",
    "    ])\n",
    "\n",
    "r2 = Rule(\n",
    "    head=Relation(name='R', terms=[FreeVar(name='X'), FreeVar(name='Y')]),\n",
    "    body=[\n",
    "        Relation(name='S', terms=[FreeVar(name='X'),FreeVar(name='Y')]),\n",
    "        IERelation(name='T', in_terms=[FreeVar(name='X'),FreeVar(name='Y')], out_terms=[FreeVar(name='X'),FreeVar(name='Y')]),\n",
    "    ])\n",
    "\n",
    "r3 = Rule(\n",
    "    head=Relation(name='R2', terms=[FreeVar(name='X'), FreeVar(name='Y')]),\n",
    "    body=[\n",
    "        Relation(name='S3', terms=[FreeVar(name='X'),FreeVar(name='Y')]),\n",
    "        Relation(name='S2', terms=[FreeVar(name='X'), FreeVar(name='A'),1]),\n",
    "    ])\n",
    "\n",
    "\n",
    "rec_r1 = Rule(\n",
    "    head=Relation(name='A', terms=[FreeVar(name='X'), FreeVar(name='Y')]),\n",
    "    body=[\n",
    "        Relation(name='B', terms=[FreeVar(name='X'),FreeVar(name='Y')]),\n",
    "    ])\n",
    "\n",
    "rec_r2 = Rule(\n",
    "    head=Relation(name='A', terms=[FreeVar(name='X'), FreeVar(name='Y')]),\n",
    "    body=[\n",
    "        Relation(name='C', terms=[FreeVar(name='X'),FreeVar(name='Y')]),\n",
    "    ])\n",
    "\n",
    "rec_r3 = Rule(\n",
    "    head=Relation(name='B', terms=[FreeVar(name='X'), FreeVar(name='Y')]),\n",
    "    body=[\n",
    "        Relation(name='D', terms=[FreeVar(name='X'),FreeVar(name='Y')]),\n",
    "    ])\n",
    "\n",
    "rec_r4 = Rule(\n",
    "    head=Relation(name='B', terms=[FreeVar(name='X'), FreeVar(name='Y')]),\n",
    "    body=[\n",
    "        Relation(name='A', terms=[FreeVar(name='X'),FreeVar(name='Y')]),\n",
    "    ])\n"
   ]
  },
  {
   "cell_type": "code",
   "execution_count": null,
   "metadata": {},
   "outputs": [],
   "source": [
    "e = Engine()\n",
    "e.set_relation(RelationDefinition(name='S', scheme=[int,int]))\n",
    "e.set_relation(RelationDefinition(name='S2', scheme=[int,int,int]))\n",
    "e.set_relation(RelationDefinition(name='S3', scheme=[int,int]))\n",
    "\n",
    "e.add_rule(r1,RelationDefinition(name='R', scheme=[int,int]))\n",
    "e.add_rule(r2,RelationDefinition(name='R', scheme=[int,int]))\n",
    "e.add_rule(r3,RelationDefinition(name='R2', scheme=[int,int]))"
   ]
  },
  {
   "cell_type": "code",
   "execution_count": null,
   "metadata": {},
   "outputs": [],
   "source": [
    "e.add_facts('S',s)\n",
    "e.add_facts('S2',s2)"
   ]
  },
  {
   "cell_type": "code",
   "execution_count": null,
   "metadata": {},
   "outputs": [
    {
     "data": {
      "text/html": [
       "<div>\n",
       "<style scoped>\n",
       "    .dataframe tbody tr th:only-of-type {\n",
       "        vertical-align: middle;\n",
       "    }\n",
       "\n",
       "    .dataframe tbody tr th {\n",
       "        vertical-align: top;\n",
       "    }\n",
       "\n",
       "    .dataframe thead th {\n",
       "        text-align: right;\n",
       "    }\n",
       "</style>\n",
       "<table border=\"1\" class=\"dataframe\">\n",
       "  <thead>\n",
       "    <tr style=\"text-align: right;\">\n",
       "      <th></th>\n",
       "      <th>col_0</th>\n",
       "      <th>col_1</th>\n",
       "    </tr>\n",
       "  </thead>\n",
       "  <tbody>\n",
       "    <tr>\n",
       "      <th>0</th>\n",
       "      <td>1</td>\n",
       "      <td>1</td>\n",
       "    </tr>\n",
       "    <tr>\n",
       "      <th>1</th>\n",
       "      <td>2</td>\n",
       "      <td>2</td>\n",
       "    </tr>\n",
       "    <tr>\n",
       "      <th>2</th>\n",
       "      <td>3</td>\n",
       "      <td>3</td>\n",
       "    </tr>\n",
       "    <tr>\n",
       "      <th>3</th>\n",
       "      <td>4</td>\n",
       "      <td>5</td>\n",
       "    </tr>\n",
       "  </tbody>\n",
       "</table>\n",
       "</div>"
      ],
      "text/plain": [
       "  col_0 col_1\n",
       "0     1     1\n",
       "1     2     2\n",
       "2     3     3\n",
       "3     4     5"
      ]
     },
     "execution_count": null,
     "metadata": {},
     "output_type": "execute_result"
    }
   ],
   "source": [
    "e.db['S']"
   ]
  },
  {
   "cell_type": "code",
   "execution_count": null,
   "metadata": {},
   "outputs": [
    {
     "data": {
      "text/html": [
       "<div>\n",
       "<style scoped>\n",
       "    .dataframe tbody tr th:only-of-type {\n",
       "        vertical-align: middle;\n",
       "    }\n",
       "\n",
       "    .dataframe tbody tr th {\n",
       "        vertical-align: top;\n",
       "    }\n",
       "\n",
       "    .dataframe thead th {\n",
       "        text-align: right;\n",
       "    }\n",
       "</style>\n",
       "<table border=\"1\" class=\"dataframe\">\n",
       "  <thead>\n",
       "    <tr style=\"text-align: right;\">\n",
       "      <th></th>\n",
       "      <th>col_0</th>\n",
       "      <th>col_1</th>\n",
       "      <th>col_2</th>\n",
       "    </tr>\n",
       "  </thead>\n",
       "  <tbody>\n",
       "    <tr>\n",
       "      <th>0</th>\n",
       "      <td>1</td>\n",
       "      <td>2</td>\n",
       "      <td>3</td>\n",
       "    </tr>\n",
       "    <tr>\n",
       "      <th>1</th>\n",
       "      <td>2</td>\n",
       "      <td>3</td>\n",
       "      <td>4</td>\n",
       "    </tr>\n",
       "    <tr>\n",
       "      <th>2</th>\n",
       "      <td>3</td>\n",
       "      <td>4</td>\n",
       "      <td>5</td>\n",
       "    </tr>\n",
       "    <tr>\n",
       "      <th>3</th>\n",
       "      <td>4</td>\n",
       "      <td>5</td>\n",
       "      <td>6</td>\n",
       "    </tr>\n",
       "  </tbody>\n",
       "</table>\n",
       "</div>"
      ],
      "text/plain": [
       "  col_0 col_1 col_2\n",
       "0     1     2     3\n",
       "1     2     3     4\n",
       "2     3     4     5\n",
       "3     4     5     6"
      ]
     },
     "execution_count": null,
     "metadata": {},
     "output_type": "execute_result"
    }
   ],
   "source": [
    "e.db['S2']"
   ]
  },
  {
   "cell_type": "code",
   "execution_count": null,
   "metadata": {},
   "outputs": [
    {
     "data": {
      "text/html": [
       "<img src=\"https://mermaid.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\"/>"
      ],
      "text/plain": [
       "<IPython.core.display.Image object>"
      ]
     },
     "metadata": {},
     "output_type": "display_data"
    }
   ],
   "source": [
    "draw(e.term_graph)"
   ]
  },
  {
   "cell_type": "code",
   "execution_count": null,
   "metadata": {},
   "outputs": [
    {
     "data": {
      "text/plain": [
       "{'R(X,Y) <- S(X,Y),S2(X,A,3)': 0,\n",
       " 'R(X,Y) <- S(X,Y),T(X,Y) -> (X,Y)': 1,\n",
       " 'R2(X,Y) <- S3(X,Y),S2(X,A,1)': 2}"
      ]
     },
     "execution_count": null,
     "metadata": {},
     "output_type": "execute_result"
    }
   ],
   "source": [
    "e.rules_to_ids"
   ]
  },
  {
   "cell_type": "code",
   "execution_count": null,
   "metadata": {},
   "outputs": [],
   "source": [
    "e.del_rule(pretty(r3))"
   ]
  },
  {
   "cell_type": "code",
   "execution_count": null,
   "metadata": {},
   "outputs": [
    {
     "data": {
      "text/html": [
       "<img src=\"https://mermaid.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\"/>"
      ],
      "text/plain": [
       "<IPython.core.display.Image object>"
      ]
     },
     "metadata": {},
     "output_type": "display_data"
    }
   ],
   "source": [
    "draw(e.term_graph)"
   ]
  },
  {
   "cell_type": "code",
   "execution_count": null,
   "metadata": {},
   "outputs": [],
   "source": [
    "# assert serialize_graph(e.term_graph) ==([('S', {'rel': 'S', 'rule_id': {0, 1}}),\n",
    "#   ('S2', {'rel': 'S2', 'rule_id': {0}}),\n",
    "#   ('R', {'rel': 'R', 'op': 'union', 'rule_id': {0, 1}}),\n",
    "#   (0, {'op': 'rename', 'names': [(0, 'X'), (1, 'Y')], 'rule_id': {0}}),\n",
    "#   (1, {'op': 'rename', 'names': [(0, 'X'), (1, 'A')], 'rule_id': {0}}),\n",
    "#   (2, {'op': 'select', 'theta': [(2, 3)], 'rule_id': {0}}),\n",
    "#   (3, {'op': 'join', 'rule_id': {0}}),\n",
    "#   (4, {'op': 'project', 'on': ['X', 'Y'], 'rel': '_R_0', 'rule_id': {0}}),\n",
    "#   (8, {'op': 'rename', 'names': [(0, 'X'), (1, 'Y')], 'rule_id': {1}}),\n",
    "#   (9, {'op': 'project', 'on': ['X', 'Y'], 'rule_id': {1}}),\n",
    "#   (10, {'op': 'calc', 'func': 'T', 'rule_id': {1}}),\n",
    "#   (11, {'op': 'rename', 'names': [(0, 'X'), (1, 'Y')], 'rule_id': {1}}),\n",
    "#   (6, {'op': 'join', 'rule_id': {1}}),\n",
    "#   (7, {'op': 'project', 'on': ['X', 'Y'], 'rel': '_R_1', 'rule_id': {1}})],\n",
    "#  [('R', 4, {}),\n",
    "#   ('R', 7, {}),\n",
    "#   (0, 'S', {}),\n",
    "#   (1, 'S2', {}),\n",
    "#   (2, 1, {}),\n",
    "#   (3, 0, {}),\n",
    "#   (3, 2, {}),\n",
    "#   (4, 3, {}),\n",
    "#   (8, 'S', {}),\n",
    "#   (9, 8, {}),\n",
    "#   (10, 9, {}),\n",
    "#   (11, 10, {}),\n",
    "#   (6, 8, {}),\n",
    "#   (6, 11, {}),\n",
    "#   (7, 6, {})])"
   ]
  },
  {
   "cell_type": "code",
   "execution_count": null,
   "metadata": {},
   "outputs": [],
   "source": [
    "e.add_rule(rec_r1,RelationDefinition(name='A', scheme=[int,int]))\n",
    "e.add_rule(rec_r2,RelationDefinition(name='A', scheme=[int,int]))\n",
    "e.add_rule(rec_r3,RelationDefinition(name='B', scheme=[int,int]))\n",
    "e.add_rule(rec_r4,RelationDefinition(name='B', scheme=[int,int]))\n"
   ]
  },
  {
   "cell_type": "code",
   "execution_count": null,
   "metadata": {},
   "outputs": [
    {
     "data": {
      "text/html": [
       "<img src=\"https://mermaid.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\"/>"
      ],
      "text/plain": [
       "<IPython.core.display.Image object>"
      ]
     },
     "metadata": {},
     "output_type": "display_data"
    }
   ],
   "source": [
    "draw(e.term_graph)"
   ]
  },
  {
   "cell_type": "markdown",
   "metadata": {},
   "source": [
    "## Naive execution"
   ]
  },
  {
   "cell_type": "markdown",
   "metadata": {},
   "source": [
    "A recursive least fixed point logic algorithm mimicing the bottom up evalutation."
   ]
  },
  {
   "cell_type": "code",
   "execution_count": null,
   "metadata": {},
   "outputs": [],
   "source": [
    "#| export\n",
    "\n",
    "def get_rel(rel,db,**kwargs):\n",
    "    # helper function to get the relation from the db for external relations\n",
    "    return db[rel]\n",
    "\n",
    "op_to_func = {\n",
    "    'union':union,\n",
    "    'intersection':intersection,\n",
    "    'difference':difference,\n",
    "    'select':select,\n",
    "    'project':project,\n",
    "    'rename':rename,\n",
    "    'join':join,\n",
    "    'ie_map':ie_map,\n",
    "    'get_rel':get_rel,\n",
    "    'get_const':get_const,\n",
    "    'product':product,\n",
    "}"
   ]
  },
  {
   "cell_type": "code",
   "execution_count": null,
   "metadata": {},
   "outputs": [],
   "source": [
    "#| export\n",
    "def compute_node(G,u,results_dict):\n",
    "    \"\"\"\n",
    "    \"\"\"\n",
    "    global op_to_func\n",
    "    u_data = G.nodes[u]\n",
    "    if u_data.get('final',False):\n",
    "        return results_dict[u][-1]\n",
    "    \n",
    "\n",
    "    children_ids = list(G.successors(u))\n",
    "    children_data = [G.nodes[child_id] for child_id in children_ids]\n",
    "\n",
    "    if len(children_ids)==0:\n",
    "        all_children_final=True\n",
    "        children_results=[]\n",
    "        \n",
    "    else:\n",
    "        # this block helps avoid infinite recursion when we need to initialize the 0th iteration of a node in a cycle as the empty relation\n",
    "        if u_data.get('visited',False):\n",
    "            u_data['visited'] = True\n",
    "            results_dict[u].append(pd.DataFrame())\n",
    "            return pd.DataFrame()\n",
    "        u_data['visited'] =True\n",
    "        \n",
    "        children_results = [compute_node(G,child_id,results_dict) for child_id in children_ids]\n",
    "        all_children_final = all(child_data.get('final',False) for child_data in children_data)\n",
    "\n",
    "\n",
    "\n",
    "\n",
    "    op_code = u_data['op']\n",
    "    op_func = op_to_func[op_code]\n",
    "    logger.debug(f'computing node {u} with op {op_code} and children results {children_results} and data {u_data}')\n",
    "    current_results = op_func(*children_results,**u_data)\n",
    "    results_iter = len(results_dict[u])\n",
    "    logger.debug(f'node {u} results after iteration {results_iter} are {current_results}')\n",
    "    results_dict[u].append(current_results)\n",
    "\n",
    "    # if all children are final then we can mark this node as final\n",
    "    if all_children_final:\n",
    "        logger.debug(f'setting node {u} as final since all children are final')\n",
    "        u_data['final'] = True\n",
    "    # else check for fixed point\n",
    "    elif len(results_dict[u])>1:\n",
    "        this_res = results_dict[u][-1]\n",
    "        last_res = results_dict[u][-2]\n",
    "        if pd.DataFrame.equals(this_res,last_res):\n",
    "            logger.debug(f'setting node {u} as final since we reached a fixed point')\n",
    "            u_data['final'] = True\n",
    "        else:\n",
    "            u_data['final'] = False\n",
    "    # if this is the first iteration we need to wait for the second one to check for fixed point so final is still false\n",
    "    else:\n",
    "        u_data['final']=False\n",
    "\n",
    "    return current_results\n",
    "\n",
    "\n",
    "\n"
   ]
  },
  {
   "cell_type": "markdown",
   "metadata": {},
   "source": [
    "#### Case1"
   ]
  },
  {
   "cell_type": "code",
   "execution_count": null,
   "metadata": {},
   "outputs": [
    {
     "name": "stdout",
     "output_type": "stream",
     "text": [
      "{'R(X,Y) <- S(X,Y),S2(X,A,3)': 0, 'R(X,Y) <- S(X,Y),T(X,Y) -> (X,Y)': 1}\n"
     ]
    },
    {
     "data": {
      "text/html": [
       "<div>\n",
       "<style scoped>\n",
       "    .dataframe tbody tr th:only-of-type {\n",
       "        vertical-align: middle;\n",
       "    }\n",
       "\n",
       "    .dataframe tbody tr th {\n",
       "        vertical-align: top;\n",
       "    }\n",
       "\n",
       "    .dataframe thead th {\n",
       "        text-align: right;\n",
       "    }\n",
       "</style>\n",
       "<table border=\"1\" class=\"dataframe\">\n",
       "  <thead>\n",
       "    <tr style=\"text-align: right;\">\n",
       "      <th></th>\n",
       "      <th>0</th>\n",
       "      <th>1</th>\n",
       "    </tr>\n",
       "  </thead>\n",
       "  <tbody>\n",
       "    <tr>\n",
       "      <th>0</th>\n",
       "      <td>1</td>\n",
       "      <td>1</td>\n",
       "    </tr>\n",
       "    <tr>\n",
       "      <th>1</th>\n",
       "      <td>2</td>\n",
       "      <td>2</td>\n",
       "    </tr>\n",
       "    <tr>\n",
       "      <th>2</th>\n",
       "      <td>3</td>\n",
       "      <td>3</td>\n",
       "    </tr>\n",
       "    <tr>\n",
       "      <th>3</th>\n",
       "      <td>4</td>\n",
       "      <td>5</td>\n",
       "    </tr>\n",
       "  </tbody>\n",
       "</table>\n",
       "</div>"
      ],
      "text/plain": [
       "   0  1\n",
       "0  1  1\n",
       "1  2  2\n",
       "2  3  3\n",
       "3  4  5"
      ]
     },
     "metadata": {},
     "output_type": "display_data"
    },
    {
     "data": {
      "text/html": [
       "<div>\n",
       "<style scoped>\n",
       "    .dataframe tbody tr th:only-of-type {\n",
       "        vertical-align: middle;\n",
       "    }\n",
       "\n",
       "    .dataframe tbody tr th {\n",
       "        vertical-align: top;\n",
       "    }\n",
       "\n",
       "    .dataframe thead th {\n",
       "        text-align: right;\n",
       "    }\n",
       "</style>\n",
       "<table border=\"1\" class=\"dataframe\">\n",
       "  <thead>\n",
       "    <tr style=\"text-align: right;\">\n",
       "      <th></th>\n",
       "      <th>0</th>\n",
       "      <th>1</th>\n",
       "      <th>2</th>\n",
       "    </tr>\n",
       "  </thead>\n",
       "  <tbody>\n",
       "    <tr>\n",
       "      <th>0</th>\n",
       "      <td>1</td>\n",
       "      <td>2</td>\n",
       "      <td>3</td>\n",
       "    </tr>\n",
       "    <tr>\n",
       "      <th>1</th>\n",
       "      <td>2</td>\n",
       "      <td>3</td>\n",
       "      <td>4</td>\n",
       "    </tr>\n",
       "    <tr>\n",
       "      <th>2</th>\n",
       "      <td>3</td>\n",
       "      <td>4</td>\n",
       "      <td>5</td>\n",
       "    </tr>\n",
       "    <tr>\n",
       "      <th>3</th>\n",
       "      <td>4</td>\n",
       "      <td>5</td>\n",
       "      <td>6</td>\n",
       "    </tr>\n",
       "  </tbody>\n",
       "</table>\n",
       "</div>"
      ],
      "text/plain": [
       "   0  1  2\n",
       "0  1  2  3\n",
       "1  2  3  4\n",
       "2  3  4  5\n",
       "3  4  5  6"
      ]
     },
     "metadata": {},
     "output_type": "display_data"
    },
    {
     "data": {
      "text/html": [
       "<img src=\"https://mermaid.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\"/>"
      ],
      "text/plain": [
       "<IPython.core.display.Image object>"
      ]
     },
     "metadata": {},
     "output_type": "display_data"
    }
   ],
   "source": [
    "e = Engine()\n",
    "e.set_relation(RelationDefinition(name='S', scheme=[int,int]))\n",
    "e.set_relation(RelationDefinition(name='S2', scheme=[int,int,int]))\n",
    "\n",
    "e.add_rule(r1,RelationDefinition(name='R', scheme=[int,int]))\n",
    "e.add_rule(r2,RelationDefinition(name='R', scheme=[int,int]))\n",
    "\n",
    "e.add_facts('S',s)\n",
    "e.add_facts('S2',s2)\n",
    "\n",
    "def func(x,y):\n",
    "    return [(y,x)]\n",
    "\n",
    "ie_def = IEFunction(name='T',func=func,in_schema=[int,int],out_schema=[int,int])\n",
    "\n",
    "e.set_ie_function(ie_def)\n",
    "g = e._inline_db_and_ies_in_graph(e.term_graph)\n",
    "print(e.rules_to_ids)\n",
    "display(s)\n",
    "display(s2)\n",
    "draw(g)"
   ]
  },
  {
   "cell_type": "code",
   "execution_count": null,
   "metadata": {},
   "outputs": [
    {
     "data": {
      "text/html": [
       "<img src=\"https://mermaid.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\"/>"
      ],
      "text/plain": [
       "<IPython.core.display.Image object>"
      ]
     },
     "metadata": {},
     "output_type": "display_data"
    }
   ],
   "source": [
    "draw(g)"
   ]
  },
  {
   "cell_type": "code",
   "execution_count": null,
   "metadata": {},
   "outputs": [
    {
     "data": {
      "text/plain": [
       "(21, 'R')"
      ]
     },
     "execution_count": null,
     "metadata": {},
     "output_type": "execute_result"
    }
   ],
   "source": [
    "add_relation(g,terms=[FreeVar(name='X'),FreeVar(name='Y')],source='R')"
   ]
  },
  {
   "cell_type": "code",
   "execution_count": null,
   "metadata": {},
   "outputs": [
    {
     "data": {
      "text/html": [
       "<img src=\"https://mermaid.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\"/>"
      ],
      "text/plain": [
       "<IPython.core.display.Image object>"
      ]
     },
     "metadata": {},
     "output_type": "display_data"
    }
   ],
   "source": [
    "draw(g)"
   ]
  },
  {
   "cell_type": "code",
   "execution_count": null,
   "metadata": {},
   "outputs": [
    {
     "name": "stderr",
     "output_type": "stream",
     "text": [
      "__main__ - DEBUG - computing node S with op get_rel and children results [] and data {'rel': 'S', 'rule_id': {0, 1}, 'op': 'get_rel', 'db': DB(S, S2, R)}\n",
      "__main__ - DEBUG - node S results after iteration 0 are   col_0 col_1\n",
      "0     1     1\n",
      "1     2     2\n",
      "2     3     3\n",
      "3     4     5\n",
      "__main__ - DEBUG - setting node S as final since all children are final\n",
      "__main__ - DEBUG - computing node 0 with op rename and children results [  col_0 col_1\n",
      "0     1     1\n",
      "1     2     2\n",
      "2     3     3\n",
      "3     4     5] and data {'op': 'rename', 'names': [(0, 'X'), (1, 'Y')], 'rule_id': {0}, 'visited': True}\n",
      "__main__ - DEBUG - node 0 results after iteration 0 are    X  Y\n",
      "0  1  1\n",
      "1  2  2\n",
      "2  3  3\n",
      "3  4  5\n",
      "__main__ - DEBUG - setting node 0 as final since all children are final\n",
      "__main__ - DEBUG - computing node 1 with op rename and children results [   X  Y\n",
      "0  1  1\n",
      "1  2  2\n",
      "2  3  3\n",
      "3  4  5] and data {'op': 'rename', 'names': [(0, 'X'), (1, 'Y')], 'rule_id': {0}, 'visited': True}\n",
      "__main__ - DEBUG - node 1 results after iteration 0 are    X  Y\n",
      "0  1  1\n",
      "1  2  2\n",
      "2  3  3\n",
      "3  4  5\n",
      "__main__ - DEBUG - setting node 1 as final since all children are final\n",
      "__main__ - DEBUG - computing node 2 with op project and children results [   X  Y\n",
      "0  1  1\n",
      "1  2  2\n",
      "2  3  3\n",
      "3  4  5] and data {'op': 'project', 'on': ['X', 'Y'], 'rule_id': {0}, 'visited': True}\n",
      "__main__ - DEBUG - node 2 results after iteration 0 are    X  Y\n",
      "0  1  1\n",
      "1  2  2\n",
      "2  3  3\n",
      "3  4  5\n",
      "__main__ - DEBUG - setting node 2 as final since all children are final\n",
      "__main__ - DEBUG - computing node S2 with op get_rel and children results [] and data {'rel': 'S2', 'rule_id': {0}, 'op': 'get_rel', 'db': DB(S, S2, R)}\n",
      "__main__ - DEBUG - node S2 results after iteration 0 are   col_0 col_1 col_2\n",
      "0     1     2     3\n",
      "1     2     3     4\n",
      "2     3     4     5\n",
      "3     4     5     6\n",
      "__main__ - DEBUG - setting node S2 as final since all children are final\n",
      "__main__ - DEBUG - computing node 3 with op rename and children results [  col_0 col_1 col_2\n",
      "0     1     2     3\n",
      "1     2     3     4\n",
      "2     3     4     5\n",
      "3     4     5     6] and data {'op': 'rename', 'names': [(0, 'X'), (1, 'A')], 'rule_id': {0}, 'visited': True}\n",
      "__main__ - DEBUG - node 3 results after iteration 0 are    X  A col_2\n",
      "0  1  2     3\n",
      "1  2  3     4\n",
      "2  3  4     5\n",
      "3  4  5     6\n",
      "__main__ - DEBUG - setting node 3 as final since all children are final\n",
      "__main__ - DEBUG - computing node 4 with op select and children results [   X  A col_2\n",
      "0  1  2     3\n",
      "1  2  3     4\n",
      "2  3  4     5\n",
      "3  4  5     6] and data {'op': 'select', 'theta': Theta(col_2=3), 'rule_id': {0}, 'visited': True}\n",
      "__main__ - DEBUG - node 4 results after iteration 0 are    X  A col_2\n",
      "0  1  2     3\n",
      "__main__ - DEBUG - setting node 4 as final since all children are final\n",
      "__main__ - DEBUG - computing node 5 with op rename and children results [   X  A col_2\n",
      "0  1  2     3] and data {'op': 'rename', 'names': [(0, 'X'), (1, 'A'), (2, '_F2')], 'rule_id': {0}, 'visited': True}\n",
      "__main__ - DEBUG - node 5 results after iteration 0 are    X  A _F2\n",
      "0  1  2   3\n",
      "__main__ - DEBUG - setting node 5 as final since all children are final\n",
      "__main__ - DEBUG - computing node 6 with op project and children results [   X  A _F2\n",
      "0  1  2   3] and data {'op': 'project', 'on': ['X', 'A'], 'rule_id': {0}, 'visited': True}\n",
      "__main__ - DEBUG - node 6 results after iteration 0 are    X  A\n",
      "0  1  2\n",
      "__main__ - DEBUG - setting node 6 as final since all children are final\n"
     ]
    },
    {
     "name": "stderr",
     "output_type": "stream",
     "text": [
      "__main__ - DEBUG - computing node 7 with op join and children results [   X  Y\n",
      "0  1  1\n",
      "1  2  2\n",
      "2  3  3\n",
      "3  4  5,    X  A\n",
      "0  1  2] and data {'op': 'join', 'rule_id': {0}, 'visited': True}\n",
      "__main__ - DEBUG - node 7 results after iteration 0 are    X  Y  A\n",
      "0  1  1  2\n",
      "__main__ - DEBUG - setting node 7 as final since all children are final\n",
      "__main__ - DEBUG - computing node 8 with op project and children results [   X  Y  A\n",
      "0  1  1  2] and data {'op': 'project', 'on': ['X', 'Y'], 'rel': '_R_0', 'rule_id': {0}, 'visited': True}\n",
      "__main__ - DEBUG - node 8 results after iteration 0 are    X  Y\n",
      "0  1  1\n",
      "__main__ - DEBUG - setting node 8 as final since all children are final\n",
      "__main__ - DEBUG - computing node 11 with op rename and children results [  col_0 col_1\n",
      "0     1     1\n",
      "1     2     2\n",
      "2     3     3\n",
      "3     4     5] and data {'op': 'rename', 'names': [(0, 'X'), (1, 'Y')], 'rule_id': {1}, 'visited': True}\n",
      "__main__ - DEBUG - node 11 results after iteration 0 are    X  Y\n",
      "0  1  1\n",
      "1  2  2\n",
      "2  3  3\n",
      "3  4  5\n",
      "__main__ - DEBUG - setting node 11 as final since all children are final\n",
      "__main__ - DEBUG - computing node 12 with op rename and children results [   X  Y\n",
      "0  1  1\n",
      "1  2  2\n",
      "2  3  3\n",
      "3  4  5] and data {'op': 'rename', 'names': [(0, 'X'), (1, 'Y')], 'rule_id': {1}, 'visited': True}\n",
      "__main__ - DEBUG - node 12 results after iteration 0 are    X  Y\n",
      "0  1  1\n",
      "1  2  2\n",
      "2  3  3\n",
      "3  4  5\n",
      "__main__ - DEBUG - setting node 12 as final since all children are final\n",
      "__main__ - DEBUG - computing node 13 with op project and children results [   X  Y\n",
      "0  1  1\n",
      "1  2  2\n",
      "2  3  3\n",
      "3  4  5] and data {'op': 'project', 'on': ['X', 'Y'], 'rule_id': {1}, 'visited': True}\n",
      "__main__ - DEBUG - node 13 results after iteration 0 are    X  Y\n",
      "0  1  1\n",
      "1  2  2\n",
      "2  3  3\n",
      "3  4  5\n",
      "__main__ - DEBUG - setting node 13 as final since all children are final\n",
      "__main__ - DEBUG - computing node 14 with op project and children results [   X  Y\n",
      "0  1  1\n",
      "1  2  2\n",
      "2  3  3\n",
      "3  4  5] and data {'op': 'project', 'on': ['X', 'Y'], 'rule_id': {1}, 'visited': True}\n",
      "__main__ - DEBUG - node 14 results after iteration 0 are    X  Y\n",
      "0  1  1\n",
      "1  2  2\n",
      "2  3  3\n",
      "3  4  5\n",
      "__main__ - DEBUG - setting node 14 as final since all children are final\n",
      "__main__ - DEBUG - computing node 15 with op ie_map and children results [   X  Y\n",
      "0  1  1\n",
      "1  2  2\n",
      "2  3  3\n",
      "3  4  5] and data {'op': 'ie_map', 'func': <function func>, 'in_arity': 2, 'out_arity': 2, 'rule_id': {1}, 'name': 'T', 'in_schema': [<class 'int'>, <class 'int'>], 'out_schema': [<class 'int'>, <class 'int'>], 'visited': True}\n",
      "__main__ - DEBUG - node 15 results after iteration 0 are    col_0  col_1  col_2  col_3\n",
      "0      1      1      1      1\n",
      "1      2      2      2      2\n",
      "2      3      3      3      3\n",
      "3      4      5      5      4\n",
      "__main__ - DEBUG - setting node 15 as final since all children are final\n",
      "__main__ - DEBUG - computing node 16 with op rename and children results [   col_0  col_1  col_2  col_3\n",
      "0      1      1      1      1\n",
      "1      2      2      2      2\n",
      "2      3      3      3      3\n",
      "3      4      5      5      4] and data {'op': 'rename', 'names': [(0, 'X'), (1, 'Y'), (2, 'X'), (3, 'Y')], 'rule_id': {1}, 'visited': True}\n",
      "__main__ - DEBUG - node 16 results after iteration 0 are    X  Y  X  Y\n",
      "0  1  1  1  1\n",
      "1  2  2  2  2\n",
      "2  3  3  3  3\n",
      "3  4  5  5  4\n",
      "__main__ - DEBUG - setting node 16 as final since all children are final\n",
      "__main__ - DEBUG - computing node 17 with op select and children results [   X  Y  X  Y\n",
      "0  1  1  1  1\n",
      "1  2  2  2  2\n",
      "2  3  3  3  3\n",
      "3  4  5  5  4] and data {'op': 'select', 'theta': Theta(col_0=col_2, col_1=col_3), 'rule_id': {1}, 'visited': True}\n",
      "__main__ - DEBUG - node 17 results after iteration 0 are    X  Y  X  Y\n",
      "0  1  1  1  1\n",
      "1  2  2  2  2\n",
      "2  3  3  3  3\n",
      "__main__ - DEBUG - setting node 17 as final since all children are final\n",
      "__main__ - DEBUG - computing node 18 with op rename and children results [   X  Y  X  Y\n",
      "0  1  1  1  1\n",
      "1  2  2  2  2\n",
      "2  3  3  3  3] and data {'op': 'rename', 'names': [(0, 'X'), (1, 'Y'), (2, '_F2'), (3, '_F3')], 'rule_id': {1}, 'visited': True}\n",
      "__main__ - DEBUG - node 18 results after iteration 0 are    X  Y  _F2  _F3\n",
      "0  1  1    1    1\n",
      "1  2  2    2    2\n",
      "2  3  3    3    3\n",
      "__main__ - DEBUG - setting node 18 as final since all children are final\n",
      "__main__ - DEBUG - computing node 19 with op project and children results [   X  Y  _F2  _F3\n",
      "0  1  1    1    1\n",
      "1  2  2    2    2\n",
      "2  3  3    3    3] and data {'op': 'project', 'on': ['X', 'Y'], 'rule_id': {1}, 'visited': True}\n",
      "__main__ - DEBUG - node 19 results after iteration 0 are    X  Y\n",
      "0  1  1\n",
      "1  2  2\n",
      "2  3  3\n",
      "__main__ - DEBUG - setting node 19 as final since all children are final\n",
      "__main__ - DEBUG - computing node 9 with op join and children results [   X  Y\n",
      "0  1  1\n",
      "1  2  2\n",
      "2  3  3\n",
      "3  4  5,    X  Y\n",
      "0  1  1\n",
      "1  2  2\n",
      "2  3  3] and data {'op': 'join', 'rule_id': {1}, 'visited': True}\n",
      "__main__ - DEBUG - node 9 results after iteration 0 are    X  Y\n",
      "0  1  1\n",
      "1  2  2\n",
      "2  3  3\n",
      "__main__ - DEBUG - setting node 9 as final since all children are final\n",
      "__main__ - DEBUG - computing node 10 with op project and children results [   X  Y\n",
      "0  1  1\n",
      "1  2  2\n",
      "2  3  3] and data {'op': 'project', 'on': ['X', 'Y'], 'rel': '_R_1', 'rule_id': {1}, 'visited': True}\n",
      "__main__ - DEBUG - node 10 results after iteration 0 are    X  Y\n",
      "0  1  1\n",
      "1  2  2\n",
      "2  3  3\n",
      "__main__ - DEBUG - setting node 10 as final since all children are final\n",
      "__main__ - DEBUG - computing node R with op union and children results [   X  Y\n",
      "0  1  1,    X  Y\n",
      "0  1  1\n",
      "1  2  2\n",
      "2  3  3] and data {'rel': 'R', 'op': 'union', 'rule_id': {0, 1}, 'visited': True}\n",
      "__main__ - DEBUG - node R results after iteration 0 are    0  1\n",
      "0  1  1\n",
      "2  2  2\n",
      "3  3  3\n",
      "__main__ - DEBUG - setting node R as final since all children are final\n"
     ]
    },
    {
     "data": {
      "text/html": [
       "<div>\n",
       "<style scoped>\n",
       "    .dataframe tbody tr th:only-of-type {\n",
       "        vertical-align: middle;\n",
       "    }\n",
       "\n",
       "    .dataframe tbody tr th {\n",
       "        vertical-align: top;\n",
       "    }\n",
       "\n",
       "    .dataframe thead th {\n",
       "        text-align: right;\n",
       "    }\n",
       "</style>\n",
       "<table border=\"1\" class=\"dataframe\">\n",
       "  <thead>\n",
       "    <tr style=\"text-align: right;\">\n",
       "      <th></th>\n",
       "      <th>0</th>\n",
       "      <th>1</th>\n",
       "    </tr>\n",
       "  </thead>\n",
       "  <tbody>\n",
       "    <tr>\n",
       "      <th>0</th>\n",
       "      <td>1</td>\n",
       "      <td>1</td>\n",
       "    </tr>\n",
       "    <tr>\n",
       "      <th>2</th>\n",
       "      <td>2</td>\n",
       "      <td>2</td>\n",
       "    </tr>\n",
       "    <tr>\n",
       "      <th>3</th>\n",
       "      <td>3</td>\n",
       "      <td>3</td>\n",
       "    </tr>\n",
       "  </tbody>\n",
       "</table>\n",
       "</div>"
      ],
      "text/plain": [
       "   0  1\n",
       "0  1  1\n",
       "2  2  2\n",
       "3  3  3"
      ]
     },
     "execution_count": null,
     "metadata": {},
     "output_type": "execute_result"
    }
   ],
   "source": [
    "with checkLogs():\n",
    "    results_dict = defaultdict(list)\n",
    "    query_res = compute_node(g.copy(),'R',results_dict)\n",
    "assert serialize_df_values(query_res) == {(1, 1), (2, 2), (3, 3)}\n",
    "query_res"
   ]
  },
  {
   "cell_type": "code",
   "execution_count": null,
   "metadata": {},
   "outputs": [
    {
     "name": "stdout",
     "output_type": "stream",
     "text": [
      "adding relations for name='R' terms=[FreeVar(name='X'), FreeVar(name='Y')]\n"
     ]
    },
    {
     "data": {
      "text/html": [
       "<img src=\"https://mermaid.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\"/>"
      ],
      "text/plain": [
       "<IPython.core.display.Image object>"
      ]
     },
     "metadata": {},
     "output_type": "display_data"
    }
   ],
   "source": [
    "q,r = e.plan_query(Relation(name='R',terms=[FreeVar(name='X'),FreeVar(name='Y')]))\n",
    "draw(q)"
   ]
  },
  {
   "cell_type": "code",
   "execution_count": null,
   "metadata": {},
   "outputs": [
    {
     "name": "stdout",
     "output_type": "stream",
     "text": [
      "adding relations for name='R' terms=[FreeVar(name='X'), FreeVar(name='Y')]\n"
     ]
    }
   ],
   "source": [
    "res = e.run_query(Relation(name='R',terms=[FreeVar(name='X'),FreeVar(name='Y')]))\n",
    "assert serialize_df_values(res) == {(1, 1), (2, 2), (3, 3)}"
   ]
  },
  {
   "cell_type": "code",
   "execution_count": null,
   "metadata": {},
   "outputs": [
    {
     "name": "stdout",
     "output_type": "stream",
     "text": [
      "adding relations for name='R' terms=[FreeVar(name='X'), 3]\n"
     ]
    },
    {
     "data": {
      "text/html": [
       "<img src=\"https://mermaid.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\"/>"
      ],
      "text/plain": [
       "<IPython.core.display.Image object>"
      ]
     },
     "metadata": {},
     "output_type": "display_data"
    }
   ],
   "source": [
    "q,root = e.plan_query(Relation(name='R',terms=[FreeVar(name='X'),3]))\n",
    "draw(q)"
   ]
  },
  {
   "cell_type": "code",
   "execution_count": null,
   "metadata": {},
   "outputs": [
    {
     "name": "stdout",
     "output_type": "stream",
     "text": [
      "adding relations for name='R' terms=[FreeVar(name='S'), 3]\n"
     ]
    }
   ],
   "source": [
    "res = e.run_query(Relation(name='R',terms=[FreeVar(name='S'),3]))\n",
    "assert serialize_df_values(res)=={(3,)}\n",
    "assert list(res.columns) == ['S']"
   ]
  },
  {
   "cell_type": "markdown",
   "metadata": {},
   "source": [
    "#### case 2"
   ]
  },
  {
   "cell_type": "code",
   "execution_count": null,
   "metadata": {},
   "outputs": [
    {
     "data": {
      "text/plain": [
       "{'A(X,Y) <- B(X,Y)': 0,\n",
       " 'A(X,Y) <- C(X,Y)': 1,\n",
       " 'B(X,Y) <- D(X,Y)': 2,\n",
       " 'B(X,Y) <- A(X,Y)': 3}"
      ]
     },
     "execution_count": null,
     "metadata": {},
     "output_type": "execute_result"
    }
   ],
   "source": [
    "e2 = Engine()\n",
    "e2.set_relation(RelationDefinition(name='C', scheme=[int,int]))\n",
    "e2.set_relation(RelationDefinition(name='D', scheme=[int,int]))\n",
    "\n",
    "for rule in [rec_r1,rec_r2,rec_r3,rec_r4]:\n",
    "    e2.add_rule(rule,RelationDefinition(name=rule.head.name, scheme=[int,int]))\n",
    "\n",
    "e2.add_fact(Relation(name='C',terms=[1,2]))\n",
    "e2.add_fact(Relation(name='D',terms=[3,4]))\n",
    "\n",
    "g2 = e2._inline_db_and_ies_in_graph(e2.term_graph)\n",
    "e2.rules_to_ids"
   ]
  },
  {
   "cell_type": "code",
   "execution_count": null,
   "metadata": {},
   "outputs": [
    {
     "name": "stdout",
     "output_type": "stream",
     "text": [
      "adding relations for name='A' terms=[FreeVar(name='X'), FreeVar(name='Y')]\n",
      "adding relations for name='B' terms=[FreeVar(name='X'), FreeVar(name='Y')]\n"
     ]
    }
   ],
   "source": [
    "# with checkLogs():\n",
    "query_res = e2.run_query(Relation(name='A',terms=[FreeVar(name='X'),FreeVar(name='Y')]))\n",
    "assert serialize_df_values(query_res) == {(3, 4), (1, 2)}\n",
    "query_res = e2.run_query(Relation(name='B',terms=[FreeVar(name='X'),FreeVar(name='Y')]))\n",
    "assert serialize_df_values(query_res) == {(3, 4), (1, 2)}"
   ]
  },
  {
   "cell_type": "code",
   "execution_count": null,
   "metadata": {},
   "outputs": [
    {
     "data": {
      "text/html": [
       "<img src=\"https://mermaid.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\"/>"
      ],
      "text/plain": [
       "<IPython.core.display.Image object>"
      ]
     },
     "metadata": {},
     "output_type": "display_data"
    }
   ],
   "source": [
    "draw(g2)"
   ]
  },
  {
   "cell_type": "markdown",
   "metadata": {},
   "source": [
    "### Case 3"
   ]
  },
  {
   "cell_type": "code",
   "execution_count": null,
   "metadata": {},
   "outputs": [
    {
     "name": "stdout",
     "output_type": "stream",
     "text": [
      "{'string_length(Str,Len) <- string(Str),Length(Str) -> (Len)': 0}\n"
     ]
    },
    {
     "data": {
      "text/html": [
       "<img src=\"https://mermaid.ink/img/CmZsb3djaGFydCBUQgpzdHJpbmdbInN0cmluZwpyZWw9I3F1b3Q7c3RyaW5nI3F1b3Q7LCBydWxlX2lkPXswfSwgb3A9I3F1b3Q7Z2V0X3JlbCNxdW90OywgZGI9REIoc3RyaW5nLCBzdHJpbmdfbGVuZ3RoKSJdCnN0cmluZ19sZW5ndGhbInN0cmluZ19sZW5ndGgKcmVsPSNxdW90O3N0cmluZ19sZW5ndGgjcXVvdDssIG9wPSNxdW90O3VuaW9uI3F1b3Q7LCBydWxlX2lkPXswfSJdCjBbIjAKb3A9I3F1b3Q7cmVuYW1lI3F1b3Q7LCBuYW1lcz1bKDAsICNxdW90O1N0ciNxdW90OyldLCBydWxlX2lkPXswfSJdCjFbIjEKb3A9I3F1b3Q7cmVuYW1lI3F1b3Q7LCBuYW1lcz1bKDAsICNxdW90O1N0ciNxdW90OyldLCBydWxlX2lkPXswfSJdCjJbIjIKb3A9I3F1b3Q7cHJvamVjdCNxdW90Oywgb249WyNxdW90O1N0ciNxdW90O10sIHJ1bGVfaWQ9ezB9Il0KM1siMwpvcD0jcXVvdDtwcm9qZWN0I3F1b3Q7LCBvbj1bI3F1b3Q7U3RyI3F1b3Q7XSwgcnVsZV9pZD17MH0iXQo0WyI0Cm9wPSNxdW90O2llX21hcCNxdW90OywgZnVuYz0jbHQ7ZnVuY3Rpb24gZnVuYyBhdCAweDEyN2Y4MzFhMCNndDssIGluX2FyaXR5PTEsIG91dF9hcml0eT0xLCBydWxlX2lkPXswfSwgbmFtZT0jcXVvdDtMZW5ndGgjcXVvdDssIGluX3NjaGVtYT1bI2x0O2NsYXNzICNxdW90O3N0ciNxdW90OyNndDtdLCBvdXRfc2NoZW1hPVsjbHQ7Y2xhc3MgI3F1b3Q7aW50I3F1b3Q7I2d0O10iXQo1WyI1Cm9wPSNxdW90O3JlbmFtZSNxdW90OywgbmFtZXM9WygwLCAjcXVvdDtTdHIjcXVvdDspLCAoMSwgI3F1b3Q7TGVuI3F1b3Q7KV0sIHJ1bGVfaWQ9ezB9Il0KNlsiNgpvcD0jcXVvdDtyZW5hbWUjcXVvdDssIG5hbWVzPVsoMCwgI3F1b3Q7U3RyI3F1b3Q7KSwgKDEsICNxdW90O0xlbiNxdW90OyldLCBydWxlX2lkPXswfSJdCjdbIjcKb3A9I3F1b3Q7cHJvamVjdCNxdW90Oywgb249WyNxdW90O1N0ciNxdW90OywgI3F1b3Q7TGVuI3F1b3Q7XSwgcnVsZV9pZD17MH0iXQo4WyI4Cm9wPSNxdW90O2pvaW4jcXVvdDssIHJ1bGVfaWQ9ezB9Il0KOVsiOQpvcD0jcXVvdDtwcm9qZWN0I3F1b3Q7LCBvbj1bI3F1b3Q7U3RyI3F1b3Q7LCAjcXVvdDtMZW4jcXVvdDtdLCByZWw9I3F1b3Q7X3N0cmluZ19sZW5ndGhfMCNxdW90OywgcnVsZV9pZD17MH0iXQpzdHJpbmdfbGVuZ3RoIC0tPiA5CjAgLS0+IHN0cmluZwoxIC0tPiAwCjIgLS0+IDEKMyAtLT4gMgo0IC0tPiAzCjUgLS0+IDQKNiAtLT4gNQo3IC0tPiA2CjggLS0+IDIKOCAtLT4gNwo5IC0tPiA4Cg==\"/>"
      ],
      "text/plain": [
       "<IPython.core.display.Image object>"
      ]
     },
     "metadata": {},
     "output_type": "display_data"
    }
   ],
   "source": [
    "e = Engine()\n",
    "e.set_relation(RelationDefinition(name='string', scheme=[str]))\n",
    "e.add_fact(Relation(name='string',terms=['a']))\n",
    "e.add_fact(Relation(name='string',terms=['aa']))\n",
    "def func(str):\n",
    "    yield (len(str),)\n",
    "\n",
    "e.set_ie_function(IEFunction(name='Length',func=func,in_schema=[str],out_schema=[int]))\n",
    "\n",
    "r = Rule(\n",
    "    head=Relation(name='string_length', terms=[FreeVar(name='Str'), FreeVar(name='Len')]),\n",
    "    body=[\n",
    "        Relation(name='string', terms=[FreeVar(name='Str')]),\n",
    "        IERelation(name='Length', in_terms=[FreeVar(name='Str')], out_terms=[FreeVar(name='Len')]),\n",
    "    ])\n",
    "\n",
    "e.add_rule(r,RelationDefinition(name='string_length', scheme=[str,int]))\n",
    "\n",
    "\n",
    "\n",
    "g = e._inline_db_and_ies_in_graph(e.term_graph)\n",
    "print(e.rules_to_ids)\n",
    "draw(g)\n"
   ]
  },
  {
   "cell_type": "code",
   "execution_count": null,
   "metadata": {},
   "outputs": [
    {
     "name": "stdout",
     "output_type": "stream",
     "text": [
      "adding relations for name='string_length' terms=[FreeVar(name='Str'), FreeVar(name='Len')]\n"
     ]
    },
    {
     "data": {
      "text/html": [
       "<div>\n",
       "<style scoped>\n",
       "    .dataframe tbody tr th:only-of-type {\n",
       "        vertical-align: middle;\n",
       "    }\n",
       "\n",
       "    .dataframe tbody tr th {\n",
       "        vertical-align: top;\n",
       "    }\n",
       "\n",
       "    .dataframe thead th {\n",
       "        text-align: right;\n",
       "    }\n",
       "</style>\n",
       "<table border=\"1\" class=\"dataframe\">\n",
       "  <thead>\n",
       "    <tr style=\"text-align: right;\">\n",
       "      <th></th>\n",
       "      <th>Str</th>\n",
       "      <th>Len</th>\n",
       "    </tr>\n",
       "  </thead>\n",
       "  <tbody>\n",
       "    <tr>\n",
       "      <th>0</th>\n",
       "      <td>a</td>\n",
       "      <td>1</td>\n",
       "    </tr>\n",
       "    <tr>\n",
       "      <th>1</th>\n",
       "      <td>aa</td>\n",
       "      <td>2</td>\n",
       "    </tr>\n",
       "  </tbody>\n",
       "</table>\n",
       "</div>"
      ],
      "text/plain": [
       "  Str Len\n",
       "0   a   1\n",
       "1  aa   2"
      ]
     },
     "execution_count": null,
     "metadata": {},
     "output_type": "execute_result"
    }
   ],
   "source": [
    "# with checkLogs():\n",
    "res = e.run_query(Relation(name='string_length', terms=[FreeVar(name='Str'), FreeVar(name='Len')]))\n",
    "assert serialize_df_values(res) == {('a', 1), ('aa', 2)}\n",
    "res"
   ]
  },
  {
   "cell_type": "code",
   "execution_count": null,
   "metadata": {},
   "outputs": [],
   "source": [
    "#|hide\n",
    "import nbdev; nbdev.nbdev_export()\n",
    "     "
   ]
  }
 ],
 "metadata": {
  "kernelspec": {
   "display_name": "python3",
   "language": "python",
   "name": "python3"
  }
 },
 "nbformat": 4,
 "nbformat_minor": 4
}
