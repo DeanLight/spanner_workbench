{
 "cells": [
  {
   "cell_type": "markdown",
   "metadata": {},
   "source": [
    "# Engine\n",
    "> Execution spannerlog commands"
   ]
  },
  {
   "cell_type": "code",
   "execution_count": null,
   "metadata": {},
   "outputs": [],
   "source": [
    "#| default_exp engine"
   ]
  },
  {
   "cell_type": "code",
   "execution_count": null,
   "metadata": {},
   "outputs": [],
   "source": [
    "#| hide\n",
    "from nbdev.showdoc import show_doc\n",
    "\n",
    "%load_ext autoreload\n",
    "%autoreload 2"
   ]
  },
  {
   "cell_type": "code",
   "execution_count": null,
   "metadata": {},
   "outputs": [],
   "source": [
    "#| export\n",
    "from abc import ABC, abstractmethod\n",
    "import pytest\n",
    "\n",
    "from pathlib import Path\n",
    "from typing import no_type_check, Set, Sequence, Any,Optional,List,Callable,Dict,Union\n",
    "from pydantic import BaseModel\n",
    "import networkx as nx\n",
    "import itertools\n",
    "from graph_rewrite import draw, draw_match, rewrite, rewrite_iter"
   ]
  },
  {
   "cell_type": "markdown",
   "metadata": {},
   "source": [
    "## Basic Datatypes"
   ]
  },
  {
   "cell_type": "code",
   "execution_count": null,
   "metadata": {},
   "outputs": [],
   "source": [
    "#| export\n",
    "from enum import Enum\n",
    "from typing import Any\n",
    "from pydantic import ConfigDict\n",
    "\n",
    "class Span(BaseModel):\n",
    "    start: int\n",
    "    end: int\n",
    "\n",
    "    def __lt__(self, other) -> bool:\n",
    "        if self.start == other.start:\n",
    "            return self.end < other.end\n",
    "\n",
    "        return self.start < other.start\n",
    "\n",
    "    # # used for sorting `Span`s in dataframes\n",
    "    # def __hash__(self) -> int:\n",
    "    #     return hash((self.start, self.end))\n",
    "\n",
    "class Var(BaseModel):\n",
    "    name: str\n",
    "    def __hash__(self):\n",
    "        return hash(self.name)\n",
    "\n",
    "class FreeVar(BaseModel):\n",
    "    name: str\n",
    "    def __hash__(self):\n",
    "        return hash(self.name)\n",
    "\n",
    "PrimitiveType=Union[str,int,Span]\n",
    "Type = Union[PrimitiveType,Var,FreeVar]\n",
    "\n",
    "class RelationDefinition(BaseModel):\n",
    "    model_config = ConfigDict(arbitrary_types_allowed=True)\n",
    "    name: str\n",
    "    scheme: List[type]\n",
    "\n",
    "class Relation(BaseModel):\n",
    "    model_config = ConfigDict(arbitrary_types_allowed=True)\n",
    "    name: str\n",
    "    terms: List[Type]\n",
    "\n",
    "class IEFunction(BaseModel):\n",
    "    model_config = ConfigDict(arbitrary_types_allowed=True)\n",
    "    name: str\n",
    "    in_schema: List[type]\n",
    "    out_schema: List[type]\n",
    "    func: Callable\n",
    "\n",
    "\n",
    "class IERelation(BaseModel):\n",
    "    model_config = ConfigDict(arbitrary_types_allowed=True)\n",
    "    name: str\n",
    "    in_terms: List[Type]\n",
    "    out_terms: List[Type]\n",
    "    def __hash__(self):\n",
    "        hash_str = f'''{self.name}_in_{'_'.join([str(x) for x in self.in_terms])}_out_{'_'.join([str(x) for x in self.out_terms])}'''\n",
    "        return hash(hash_str)\n",
    "class Rule(BaseModel):\n",
    "    model_config = ConfigDict(arbitrary_types_allowed=True)\n",
    "    head: Relation\n",
    "    body: List[Union[Relation,IERelation]]"
   ]
  },
  {
   "cell_type": "code",
   "execution_count": null,
   "metadata": {},
   "outputs": [],
   "source": [
    "#| export\n",
    "def pretty(obj):\n",
    "    \"\"\"pretty printing dataclasses for user messages,\n",
    "    making them look like spannerlog code instead of python code\"\"\"\n",
    "    \n",
    "    if isinstance(obj,Span):\n",
    "        return f\"[{obj.start},{obj.end})\"\n",
    "    elif isinstance(obj,(Var,FreeVar)):\n",
    "        return obj.name\n",
    "    elif isinstance(obj,RelationDefinition):\n",
    "        return f\"{obj.name}({','.join(pretty(o) for o in obj.scheme)})\"\n",
    "    elif isinstance(obj,Relation):\n",
    "        return f\"{obj.name}({','.join(pretty(o) for o in obj.terms)})\"\n",
    "    elif isinstance(obj,IERelation):\n",
    "        return f\"{obj.name}({','.join(pretty(o) for o in obj.in_terms)}) -> ({','.join(pretty(o) for o in obj.out_terms)})\"\n",
    "    elif isinstance(obj,IEFunction):\n",
    "        return f\"{obj.name}({','.join(pretty(o) for o in obj.in_schema)}) -> ({','.join(pretty(o) for o in obj.out_schema)})\"\n",
    "    elif isinstance(obj,Rule):\n",
    "        return f\"{pretty(obj.head)} <- {','.join(pretty(o) for o in obj.body)}\"\n",
    "    elif isinstance(obj,type):\n",
    "        return obj.__name__\n",
    "    else:\n",
    "        return str(obj)"
   ]
  },
  {
   "cell_type": "code",
   "execution_count": null,
   "metadata": {},
   "outputs": [],
   "source": [
    "rule = Rule(\n",
    "    head=Relation(name='R', terms=[FreeVar(name='X'), FreeVar(name='Y'), FreeVar(name='Z')]),\n",
    "    body=[\n",
    "        Relation(name='S', terms=[FreeVar(name='X'), Span(start=1,end=4)]),\n",
    "        IERelation(name='T', in_terms=[FreeVar(name='X'), 1], out_terms=[FreeVar(name='Y'), FreeVar(name='Z')])\n",
    "    ])\n",
    "assert pretty(rule) == 'R(X,Y,Z) <- S(X,[1,4)),T(X,1) -> (Y,Z)'"
   ]
  },
  {
   "cell_type": "code",
   "execution_count": null,
   "metadata": {},
   "outputs": [],
   "source": [
    "schema = RelationDefinition(name='R', scheme=[int, str, Span])\n",
    "assert pretty(schema) == 'R(int,str,Span)'\n",
    "ie_func_schema = IEFunction(name='f', in_schema=[int, str], out_schema=[str, Span],func=lambda x,y: (y,Span(1,2)))\n",
    "assert pretty(ie_func_schema) == 'f(int,str) -> (str,Span)'"
   ]
  },
  {
   "cell_type": "markdown",
   "metadata": {},
   "source": [
    "## Engine"
   ]
  },
  {
   "cell_type": "code",
   "execution_count": null,
   "metadata": {},
   "outputs": [],
   "source": [
    "# TODO FROM HERE, derive engine interface from basic commands\n",
    "\n",
    "# it should have all state needed for execution, the execution itself, and the access to the DB"
   ]
  },
  {
   "cell_type": "code",
   "execution_count": null,
   "metadata": {},
   "outputs": [],
   "source": [
    "# Redesign\n",
    "# the backend will currently be a dict of dataframes\n"
   ]
  },
  {
   "cell_type": "code",
   "execution_count": null,
   "metadata": {},
   "outputs": [],
   "source": [
    "class Engine():\n",
    "    def __init__(self):\n",
    "        self.symbol_table={\n",
    "            # key : type,val\n",
    "        }\n",
    "        self.Relation_defs={\n",
    "            # key : RelationDefinition for both real and derived relations\n",
    "        }\n",
    "        self.ie_functions={\n",
    "            # name : IEFunction class\n",
    "        }\n",
    "\n",
    "        self.term_graph = nx.Digraph()\n",
    "        \n",
    "        node_counter = itertools.Count()\n",
    "\n",
    "        self.db = {\n",
    "            # relation_name: dataframe\n",
    "        }\n",
    "\n",
    "        # lets skip this for now and keep it a an attribute in the node graph\n",
    "        # self.rules_to_nodes = {\n",
    "        #     # rule pretty string, to node id in term_graph\n",
    "        # }\n",
    "\n",
    "        # self.rels_to_nodes() = {\n",
    "        #     # relation name to node that represents it\n",
    "        # }\n",
    "\n",
    "\n",
    "    def set_var(var_name,value,read_from_file=False):\n",
    "        symbol_table = self.symbol_table\n",
    "        if var_name in symbol_table:\n",
    "            existing_type,existing_value = symbol_table[var_name]\n",
    "            if type(value) != existing_type:\n",
    "                raise ValueError(f\"Variable {var_name} was previously defined with {existing_value}({pretty(existing_type)})\"\n",
    "                                f\" but is trying to be redefined to {value}({pretty(type(value))}) of a different type which might interfere with previous rule definitions\")    \n",
    "        symbol_table[var_name] = type(value),value\n",
    "        return \n",
    "    def del_var(var_name):\n",
    "        del self.symbol_table[var_name]\n",
    "\n",
    "    def set_relation(self,rel_def:RelationDefinition):\n",
    "        pass\n",
    "\n",
    "    def del_relation(self,rel_name:str):\n",
    "        pass\n",
    "\n",
    "    def add_fact(self,fact:Relation):\n",
    "        pass\n",
    "\n",
    "    def del_fact(self,fact:Relation):\n",
    "        pass\n",
    "\n",
    "    def set_ie_function(self,ie_func:IEFunction):\n",
    "        pass\n",
    "\n",
    "    def del_ie_function(self,name:str):\n",
    "        pass\n",
    "\n",
    "    def add_rule(self,rule:Rule):\n",
    "        pass\n",
    "\n",
    "    def del_rule(self,name:str):\n",
    "        pass\n",
    "\n",
    "    def run_query(self,q:Relation):\n",
    "        pass\n",
    "        \n"
   ]
  },
  {
   "cell_type": "code",
   "execution_count": null,
   "metadata": {},
   "outputs": [],
   "source": []
  },
  {
   "cell_type": "code",
   "execution_count": null,
   "metadata": {},
   "outputs": [],
   "source": []
  },
  {
   "cell_type": "code",
   "execution_count": null,
   "metadata": {},
   "outputs": [],
   "source": [
    "# * Resolve Vars  # lets put this in the term graph\n",
    "# * Register new Relations\n",
    "# * Add/remove facts\n",
    "# * Add rules\n",
    "# * Run Queries"
   ]
  },
  {
   "cell_type": "code",
   "execution_count": null,
   "metadata": {},
   "outputs": [],
   "source": []
  },
  {
   "cell_type": "markdown",
   "metadata": {},
   "source": [
    "## DB operations"
   ]
  },
  {
   "cell_type": "code",
   "execution_count": null,
   "metadata": {},
   "outputs": [],
   "source": []
  },
  {
   "cell_type": "code",
   "execution_count": null,
   "metadata": {},
   "outputs": [],
   "source": []
  },
  {
   "cell_type": "markdown",
   "metadata": {},
   "source": [
    "## SemiNaive Execution"
   ]
  },
  {
   "cell_type": "code",
   "execution_count": null,
   "metadata": {},
   "outputs": [],
   "source": []
  },
  {
   "cell_type": "code",
   "execution_count": null,
   "metadata": {},
   "outputs": [],
   "source": []
  },
  {
   "cell_type": "code",
   "execution_count": null,
   "metadata": {},
   "outputs": [],
   "source": []
  }
 ],
 "metadata": {
  "kernelspec": {
   "display_name": "python3",
   "language": "python",
   "name": "python3"
  }
 },
 "nbformat": 4,
 "nbformat_minor": 4
}
