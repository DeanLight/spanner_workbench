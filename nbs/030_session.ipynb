{
 "cells": [
  {
   "cell_type": "markdown",
   "metadata": {},
   "source": [
    "# Session"
   ]
  },
  {
   "cell_type": "code",
   "execution_count": null,
   "metadata": {},
   "outputs": [],
   "source": [
    "#| default_exp session"
   ]
  },
  {
   "cell_type": "code",
   "execution_count": null,
   "metadata": {},
   "outputs": [],
   "source": [
    "#| hide\n",
    "from nbdev.showdoc import show_doc\n",
    "\n",
    "%load_ext autoreload\n",
    "%autoreload 2"
   ]
  },
  {
   "cell_type": "code",
   "execution_count": null,
   "metadata": {},
   "outputs": [],
   "source": [
    "#| export\n",
    "import csv\n",
    "\n",
    "import os\n",
    "import re\n",
    "from pathlib import Path\n",
    "from typing import Tuple, List, Union, Optional, Callable, Type, Iterable, no_type_check, Sequence\n",
    "from IPython import display\n",
    "\n",
    "import pandas as pd\n",
    "import os\n",
    "\n",
    "import logging\n",
    "logger = logging.getLogger(__name__)\n",
    "\n",
    "from spannerlib.utils import checkLogs,serialize_df_values,get_base_file_path\n",
    "from spannerlib.grammar import parse_spannerlog,reconstruct\n",
    "from spannerlib.span import Span\n",
    "from spannerlib.engine import (\n",
    "    Engine,_infer_relation_schema,\n",
    "    Var,\n",
    "    FreeVar,\n",
    "    RelationDefinition,\n",
    "    Relation,\n",
    "    IEFunction,\n",
    "    IERelation,\n",
    "    Rule,\n",
    "    pretty,\n",
    ")\n",
    "\n",
    "from spannerlib.micro_passes import (\n",
    "    convert_primitive_values_to_objects,\n",
    "    remove_new_lines_from_strings,\n",
    "    CheckReservedRelationNames,\n",
    "    check_referenced_paths_exist,\n",
    "    check_referenced_vars_exist,\n",
    "    relations_to_dataclasses,\n",
    "    verify_referenced_relations,\n",
    "    rules_to_dataclasses,\n",
    "    consistent_free_var_types_in_rule,\n",
    "    check_rule_safety,\n",
    "    assignments_to_name_val_tuple,\n",
    "    execute_statement,\n",
    ")\n"
   ]
  },
  {
   "cell_type": "code",
   "execution_count": null,
   "metadata": {},
   "outputs": [],
   "source": [
    "#| export\n",
    "#| hide\n",
    "\n",
    "\n",
    "from spannerlib.ie_func.json_path import JsonPath, JsonPathFull\n",
    "from spannerlib.ie_func.nlp import (Tokenize, SSplit, POS, Lemma, NER, EntityMentions, CleanXML, Parse, DepParse, Coref, OpenIE, KBP, Quote, Sentiment, TrueCase)\n",
    "from spannerlib.ie_func.python_regex import PYRGX, PYRGX_STRING\n",
    "from spannerlib.ie_func.rust_spanner_regex import RGX, RGX_STRING, RGX_FROM_FILE, RGX_STRING_FROM_FILE\n",
    "\n",
    "\n",
    "# ordered by rgx, json, nlp, etc.\n",
    "PREDEFINED_IE_FUNCS = [PYRGX, PYRGX_STRING, RGX, RGX_STRING, RGX_FROM_FILE, RGX_STRING_FROM_FILE,\n",
    "                       JsonPath, JsonPathFull,\n",
    "                       Tokenize, SSplit, POS, Lemma, NER, EntityMentions, CleanXML, Parse, DepParse, Coref, OpenIE, KBP, Quote, Sentiment,\n",
    "                       TrueCase]\n",
    "\n",
    "\n",
    "\n"
   ]
  },
  {
   "cell_type": "markdown",
   "metadata": {},
   "source": [
    "## Session class"
   ]
  },
  {
   "cell_type": "code",
   "execution_count": null,
   "metadata": {},
   "outputs": [],
   "source": [
    "#| export\n",
    "class Session():\n",
    "    def __init__(self):\n",
    "        \n",
    "        self.pass_stack = [\n",
    "            convert_primitive_values_to_objects,\n",
    "            remove_new_lines_from_strings,\n",
    "            CheckReservedRelationNames('spanner_'),\n",
    "            check_referenced_paths_exist,\n",
    "            check_referenced_vars_exist,\n",
    "            relations_to_dataclasses,\n",
    "            verify_referenced_relations,\n",
    "            rules_to_dataclasses,\n",
    "            consistent_free_var_types_in_rule,\n",
    "            check_rule_safety,\n",
    "            assignments_to_name_val_tuple\n",
    "        ]\n",
    "        self.engine=Engine()\n",
    "\n",
    "        # TODO define all the default ie funcs\n",
    "\n",
    "    def get_pass_stack(self):\n",
    "        \"\"\"\n",
    "        @return: the current pass stack.\n",
    "        \"\"\"\n",
    "        return self._pass_stack.copy()\n",
    "\n",
    "    def set_pass_stack(self,\n",
    "        user_stack #  a user supplied pass stack\n",
    "        ): \n",
    "        \"\"\"\n",
    "        Sets a new pass stack instead of the current one.\n",
    "        \"\"\"\n",
    "        if type(user_stack) is not list:\n",
    "            raise TypeError('user stack should be a list of passes')\n",
    "        self._pass_stack = user_stack.copy()\n",
    "\n",
    "    def _display_result(self,result):\n",
    "        if result is None:\n",
    "            pass\n",
    "        elif isinstance(result,pd.DataFrame):\n",
    "            display.display(result)\n",
    "        else:\n",
    "            print(result)\n",
    "    \n",
    "    def register(self,name,func,in_schema,out_schema):\n",
    "        #TODO add option for outschema to be a callable that gets the input and the output and confirms if the output is valid\n",
    "        ie_func_obj = IEFunction(name=name,func=func,in_schema=in_schema,out_schema=out_schema)\n",
    "        self.engine.set_ie_function(ie_func_obj)\n",
    "\n",
    "    def parse_and_check_semantics(self,code):\n",
    "        statements = parse_spannerlog(code,split_statements=True)\n",
    "        asts = []\n",
    "        for statement_nx,statement_lark in statements:\n",
    "            ast = statement_nx\n",
    "            for pass_ in self.pass_stack:\n",
    "                try:\n",
    "                    pass_(ast,self.engine)\n",
    "                except Exception as e:\n",
    "                    raise Exception(\n",
    "                        f\"During semantic checks for statement \\n\\\"{reconstruct(statement_lark)}\\\"\\n\"\n",
    "                        f\"in pass {pass_} the following exception was raised:\\n{e}\\n\"\n",
    "                        ).with_traceback(e.__traceback__)\n",
    "            yield ast,statement_lark\n",
    "\n",
    "\n",
    "    def plan_query(self,code):\n",
    "        statements = list(self.parse_and_check_semantics(code))\n",
    "        if len(statements) > 1:\n",
    "            raise ValueError(f\"Only one statement is allowed in plan_query, got {len(statements)}\")\n",
    "        ast,_ = statements[0]\n",
    "        statement_node = list(ast.nodes)[0]\n",
    "        node_data = ast.nodes[statement_node]\n",
    "        statement = node_data['type']\n",
    "        value = node_data['val']\n",
    "        if statement != 'query':\n",
    "            raise ValueError(f\"Expected a query statement, got {statement}\")\n",
    "\n",
    "        query_graph,root =  self.engine.plan_query(value)\n",
    "        return query_graph,root\n",
    "\n",
    "    def execute_plan(self,query_graph,root,return_intermediate=False):\n",
    "        return self.engine.execute_plan(query_graph,root,return_intermediate=return_intermediate)\n",
    "        \n",
    "\n",
    "    def export(self,code,display_results=False):\n",
    "        #TODO reconstruct the code for each statement using lark,reconstruct so we can print the query string together with the result\n",
    "        results = []\n",
    "        for clean_ast,statement_lark in self.parse_and_check_semantics(code):\n",
    "            try:\n",
    "                result = execute_statement(clean_ast,self.engine)\n",
    "            except Exception as e:\n",
    "                raise Exception(\n",
    "                    f\"During execution of statement \\n\\\"{reconstruct(statement_lark)}\\n\\\"\"\n",
    "                    f\"the following exception was raised:\\n{e}\\n\"\n",
    "                    ).with_traceback(e.__traceback__)\n",
    "            results.append(result)\n",
    "            if display_results:\n",
    "                self._display_result(result)\n",
    "        return results[-1]\n",
    "\n",
    "    def import_relation(self,name:str,data:Union[str,Path,pd.DataFrame],delim:str = None):\n",
    "        \"\"\"Imports a relation into the current session, either from a dataframe or from a csv file.\"\"\"\n",
    "        if isinstance(data, (Path,str)):\n",
    "            csv_file_name = Path(data)\n",
    "            if not csv_file_name.is_file():\n",
    "                raise IOError(\"csv file does not exist\")\n",
    "            if os.stat(csv_file_name).st_size == 0:\n",
    "                raise IOError(\"csv file is empty\")\n",
    "            data = pd.read_csv(csv_file_name, delimiter=delim)\n",
    "\n",
    "        first_row = list(data.iloc[0,:])\n",
    "        schema = _infer_relation_schema(first_row)\n",
    "        rel_def = RelationDefinition(name,schema)\n",
    "        self.engine.set_relation(rel_def,data)\n",
    "        self.engine.add_facts(name,data)\n",
    "        \n",
    "    def print_rules(self):\n",
    "        for rule in self.engine.rules_to_ids.keys():\n",
    "            print(rule)\n",
    "    def remove_rule(self,rule:str):\n",
    "        self.engine.del_rule(rule)\n",
    "    def remove_relation(self,relation:str):\n",
    "        self.engine.del_relation(relation)\n",
    "    def clear(self):\n",
    "        self.engine = Engine()\n",
    "\n",
    "    def get_all_functions(self):\n",
    "        return self.engine.ie_functions.copy()"
   ]
  },
  {
   "cell_type": "markdown",
   "metadata": {},
   "source": [
    "## Examples"
   ]
  },
  {
   "cell_type": "code",
   "execution_count": null,
   "metadata": {},
   "outputs": [
    {
     "data": {
      "text/html": [
       "<div>\n",
       "<style scoped>\n",
       "    .dataframe tbody tr th:only-of-type {\n",
       "        vertical-align: middle;\n",
       "    }\n",
       "\n",
       "    .dataframe tbody tr th {\n",
       "        vertical-align: top;\n",
       "    }\n",
       "\n",
       "    .dataframe thead th {\n",
       "        text-align: right;\n",
       "    }\n",
       "</style>\n",
       "<table border=\"1\" class=\"dataframe\">\n",
       "  <thead>\n",
       "    <tr style=\"text-align: right;\">\n",
       "      <th></th>\n",
       "      <th>X</th>\n",
       "    </tr>\n",
       "  </thead>\n",
       "  <tbody>\n",
       "    <tr>\n",
       "      <th>0</th>\n",
       "      <td>Sam</td>\n",
       "    </tr>\n",
       "  </tbody>\n",
       "</table>\n",
       "</div>"
      ],
      "text/plain": [
       "     X\n",
       "0  Sam"
      ]
     },
     "metadata": {},
     "output_type": "display_data"
    }
   ],
   "source": [
    "commands = \"\"\"\n",
    "    new Parent(str, str)\n",
    "    Parent(\"Sam\", \"Noah\")\n",
    "    Parent(\"Noah\", \"Austin\")\n",
    "    Parent(\"Austin\", \"Stephen\")\n",
    "\n",
    "    GrandParent(G, C) <- Parent(G, M), Parent(M, C)\n",
    "    ?GrandParent(X, \"Austin\")\n",
    "    \"\"\"\n",
    "session = Session()\n",
    "res = session.export(commands,display_results=True)\n",
    "assert serialize_df_values(res) == {('Sam',)}\n",
    "\n",
    "# check that rerunning query gives the same result\n",
    "res = session.export('?GrandParent(X, \"Austin\")')\n",
    "assert serialize_df_values(res) == {('Sam',)}"
   ]
  },
  {
   "cell_type": "code",
   "execution_count": null,
   "metadata": {},
   "outputs": [],
   "source": [
    "def length(string: str) -> Iterable[int]:\n",
    "        yield len(string)\n",
    "\n",
    "sess = Session()\n",
    "sess.register('Length',length,[str],[int])\n",
    "res = sess.export('''\n",
    "    new string(str)\n",
    "    string(\"a\")\n",
    "    string(\"d\")\n",
    "    string(\"a\")\n",
    "    string(\"ab\")\n",
    "    string(\"abc\")\n",
    "    string(\"abcd\")\n",
    "\n",
    "    string_length(Str, Len) <- string(Str), Length(Str) -> (Len)\n",
    "    # ?string_length(Str, Len)\n",
    "''')\n",
    "#TODO from here, add the rest of the examples from the old notebook and start moving the failed ones to tests in the respective passes/execution\n",
    "res"
   ]
  },
  {
   "cell_type": "code",
   "execution_count": null,
   "metadata": {},
   "outputs": [],
   "source": [
    "from graph_rewrite import draw"
   ]
  },
  {
   "cell_type": "code",
   "execution_count": null,
   "metadata": {},
   "outputs": [
    {
     "data": {
      "text/html": [
       "<img src=\"https://mermaid.ink/img/CmZsb3djaGFydCBUQgpzdHJpbmdbInN0cmluZwpyZWw9I3F1b3Q7c3RyaW5nI3F1b3Q7LCBydWxlX2lkPXswfSwgb3A9I3F1b3Q7Z2V0X3JlbCNxdW90OywgZGI9REIoc3RyaW5nLCBzdHJpbmdfbGVuZ3RoKSJdCnN0cmluZ19sZW5ndGhbInN0cmluZ19sZW5ndGgKcmVsPSNxdW90O3N0cmluZ19sZW5ndGgjcXVvdDssIG9wPSNxdW90O3VuaW9uI3F1b3Q7LCBydWxlX2lkPXswfSJdCjBbIjAKb3A9I3F1b3Q7cmVuYW1lI3F1b3Q7LCBuYW1lcz1bKDAsICNxdW90O1N0ciNxdW90OyldLCBydWxlX2lkPXswfSJdCjFbIjEKb3A9I3F1b3Q7cHJvamVjdCNxdW90Oywgb249WyNxdW90O1N0ciNxdW90O10sIHJ1bGVfaWQ9ezB9Il0KMlsiMgpvcD0jcXVvdDtjYWxjI3F1b3Q7LCBmdW5jPSNsdDtmdW5jdGlvbiBsZW5ndGggYXQgMHgxMGU0NjcwNjAjZ3Q7LCBydWxlX2lkPXswfSwgb3V0X3NjaGVtYT1bI2x0O2NsYXNzICNxdW90O2ludCNxdW90OyNndDtdIl0KNFsiNApvcD0jcXVvdDtyZW5hbWUjcXVvdDssIG5hbWVzPVsoMCwgI3F1b3Q7TGVuI3F1b3Q7KV0sIHJ1bGVfaWQ9ezB9Il0KNlsiNgpvcD0jcXVvdDtqb2luI3F1b3Q7LCBydWxlX2lkPXswfSJdCjdbIjcKb3A9I3F1b3Q7cHJvamVjdCNxdW90Oywgb249WyNxdW90O1N0ciNxdW90OywgI3F1b3Q7TGVuI3F1b3Q7XSwgcmVsPSNxdW90O19zdHJpbmdfbGVuZ3RoXzAjcXVvdDssIHJ1bGVfaWQ9ezB9Il0KOFsiOApvcD0jcXVvdDtyZW5hbWUjcXVvdDssIG5hbWVzPVsoMCwgI3F1b3Q7U3RyI3F1b3Q7KSwgKDEsICNxdW90O0xlbiNxdW90OyldIl0KOVsiOQpvcD0jcXVvdDtwcm9qZWN0I3F1b3Q7LCBvbj1bI3F1b3Q7U3RyI3F1b3Q7LCAjcXVvdDtMZW4jcXVvdDtdIl0Kc3RyaW5nX2xlbmd0aCAtLT4gNwowIC0tPiBzdHJpbmcKMSAtLT4gMAoyIC0tPiAxCjQgLS0+IDIKNiAtLT4gMAo2IC0tPiA0CjcgLS0+IDYKOCAtLT4gc3RyaW5nX2xlbmd0aAo5IC0tPiA4Cg==\"/>"
      ],
      "text/plain": [
       "<IPython.core.display.Image object>"
      ]
     },
     "metadata": {},
     "output_type": "display_data"
    }
   ],
   "source": [
    "q,root = sess.plan_query(\"?string_length(Str, Len)\")\n",
    "draw(q)"
   ]
  },
  {
   "cell_type": "code",
   "execution_count": null,
   "metadata": {},
   "outputs": [
    {
     "data": {
      "text/plain": [
       "<spannerlib.engine.Engine>"
      ]
     },
     "execution_count": null,
     "metadata": {},
     "output_type": "execute_result"
    }
   ],
   "source": [
    "sess.engine"
   ]
  },
  {
   "cell_type": "code",
   "execution_count": null,
   "metadata": {},
   "outputs": [
    {
     "data": {
      "text/html": [
       "<div>\n",
       "<style scoped>\n",
       "    .dataframe tbody tr th:only-of-type {\n",
       "        vertical-align: middle;\n",
       "    }\n",
       "\n",
       "    .dataframe tbody tr th {\n",
       "        vertical-align: top;\n",
       "    }\n",
       "\n",
       "    .dataframe thead th {\n",
       "        text-align: right;\n",
       "    }\n",
       "</style>\n",
       "<table border=\"1\" class=\"dataframe\">\n",
       "  <thead>\n",
       "    <tr style=\"text-align: right;\">\n",
       "      <th></th>\n",
       "    </tr>\n",
       "  </thead>\n",
       "  <tbody>\n",
       "  </tbody>\n",
       "</table>\n",
       "</div>"
      ],
      "text/plain": [
       "Empty DataFrame\n",
       "Columns: []\n",
       "Index: []"
      ]
     },
     "execution_count": null,
     "metadata": {},
     "output_type": "execute_result"
    }
   ],
   "source": [
    "with checkLogs(name='spannerlib.engine'):\n",
    "    res,inter = sess.execute_plan(q,root,return_intermediate=True)\n",
    "res"
   ]
  },
  {
   "cell_type": "code",
   "execution_count": null,
   "metadata": {},
   "outputs": [
    {
     "data": {
      "text/plain": [
       "defaultdict(list,\n",
       "            {'string': [   col0\n",
       "              0     a\n",
       "              0     d\n",
       "              0     a\n",
       "              0    ab\n",
       "              0   abc\n",
       "              0  abcd],\n",
       "             0: [    Str\n",
       "              0     a\n",
       "              0     d\n",
       "              0     a\n",
       "              0    ab\n",
       "              0   abc\n",
       "              0  abcd],\n",
       "             1: [Empty DataFrame\n",
       "              Columns: []\n",
       "              Index: []],\n",
       "             2: [Empty DataFrame\n",
       "              Columns: []\n",
       "              Index: []],\n",
       "             4: [Empty DataFrame\n",
       "              Columns: []\n",
       "              Index: []],\n",
       "             6: [Empty DataFrame\n",
       "              Columns: [Str]\n",
       "              Index: []],\n",
       "             7: [Empty DataFrame\n",
       "              Columns: [Str]\n",
       "              Index: []],\n",
       "             'string_length': [Empty DataFrame\n",
       "              Columns: [Str]\n",
       "              Index: []],\n",
       "             8: [Empty DataFrame\n",
       "              Columns: [Str]\n",
       "              Index: []],\n",
       "             9: [Empty DataFrame\n",
       "              Columns: [Str]\n",
       "              Index: []]})"
      ]
     },
     "execution_count": null,
     "metadata": {},
     "output_type": "execute_result"
    }
   ],
   "source": [
    "inter"
   ]
  },
  {
   "cell_type": "code",
   "execution_count": null,
   "metadata": {},
   "outputs": [
    {
     "ename": "AttributeError",
     "evalue": "'Session' object has no attribute 'run_commands'",
     "output_type": "error",
     "traceback": [
      "\u001b[0;31m---------------------------------------------------------------------------\u001b[0m",
      "\u001b[0;31mAttributeError\u001b[0m                            Traceback (most recent call last)",
      "Cell \u001b[0;32mIn[10], line 16\u001b[0m\n\u001b[1;32m      2\u001b[0m commands \u001b[38;5;241m=\u001b[39m \u001b[38;5;124m\"\"\"\u001b[39m\n\u001b[1;32m      3\u001b[0m \u001b[38;5;124m    new parent(str, str)\u001b[39m\n\u001b[1;32m      4\u001b[0m \u001b[38;5;124m    new grandparent(str, str)\u001b[39m\n\u001b[0;32m   (...)\u001b[0m\n\u001b[1;32m     13\u001b[0m \u001b[38;5;124m    ancestor(X,Y) <- parent(X,Z), ancestor(Z,Y)\u001b[39m\n\u001b[1;32m     14\u001b[0m \u001b[38;5;124m    \u001b[39m\u001b[38;5;124m\"\"\"\u001b[39m\n\u001b[1;32m     15\u001b[0m session \u001b[38;5;241m=\u001b[39m Session()\n\u001b[0;32m---> 16\u001b[0m output \u001b[38;5;241m=\u001b[39m \u001b[43msession\u001b[49m\u001b[38;5;241;43m.\u001b[39;49m\u001b[43mrun_commands\u001b[49m(commands)\n\u001b[1;32m     17\u001b[0m session\u001b[38;5;241m.\u001b[39mprint_all_rules()\n\u001b[1;32m     18\u001b[0m session\u001b[38;5;241m.\u001b[39mremove_rule(\u001b[38;5;124m\"\u001b[39m\u001b[38;5;124mancestor(X, Y) <- parent(X, Y)\u001b[39m\u001b[38;5;124m\"\u001b[39m)\n",
      "\u001b[0;31mAttributeError\u001b[0m: 'Session' object has no attribute 'run_commands'"
     ]
    }
   ],
   "source": [
    "# test rule removal\n",
    "commands = \"\"\"\n",
    "    new parent(str, str)\n",
    "    new grandparent(str, str)\n",
    "    parent(\"Liam\", \"Noah\")\n",
    "    parent(\"Noah\", \"Oliver\")\n",
    "    parent(\"James\", \"Lucas\")\n",
    "    parent(\"Noah\", \"Benjamin\")\n",
    "    parent(\"Benjamin\", \"Mason\")\n",
    "    grandparent(\"Tom\", \"Avi\")\n",
    "    ancestor(X,Y) <- parent(X,Y)\n",
    "    ancestor(X,Y) <- grandparent(X,Y)\n",
    "    ancestor(X,Y) <- parent(X,Z), ancestor(Z,Y)\n",
    "    \"\"\"\n",
    "session = Session()\n",
    "output = session.run_commands(commands)\n",
    "session.print_all_rules()\n",
    "session.remove_rule(\"ancestor(X, Y) <- parent(X, Y)\")\n",
    "session.print_all_rules()"
   ]
  },
  {
   "cell_type": "code",
   "execution_count": null,
   "metadata": {},
   "outputs": [],
   "source": [
    "# test clearing the engine\n",
    "commands = \"\"\"\n",
    "    new parent(str, str)\n",
    "    new grandparent(str, str)\n",
    "    parent(\"Liam\", \"Noah\")\n",
    "    grandparent(\"Tom\", \"Avi\")\n",
    "    ancestor(X,Y) <- parent(X,Y)\n",
    "    ancestor(X,Y) <- grandparent(X,Y)\n",
    "    ancestor(X,Y) <- parent(X,Z), ancestor(Z,Y)\n",
    "    \"\"\"\n",
    "session = Session()\n",
    "output = session.run_commands(commands)\n",
    "session.print_all_rules()\n",
    "session.remove_all_rules()\n",
    "session.print_all_rules()"
   ]
  },
  {
   "cell_type": "code",
   "execution_count": null,
   "metadata": {},
   "outputs": [],
   "source": [
    "# importing relations from csv\n",
    "session = Session()\n",
    "session.import_rel(\"./sample_data/enrolled.csv\", relation_name=\"enrolled\", delimiter=\",\")\n",
    "commands = \"\"\"\n",
    "    enrolled(\"abigail\", \"chemistry\")\n",
    "gpa_str = \"abigail 100 jordan 80 gale 79 howard 60\"\n",
    "\n",
    "gpa(Student,Grade) <- py_rgx_string(gpa_str, \"(\\w+).*?(\\d+)\")->(Student, Grade),enrolled(Student,X)\n",
    "\n",
    "?gpa(X,Y)\n",
    "\"\"\"\n",
    "x = session.run_commands(commands)"
   ]
  },
  {
   "cell_type": "code",
   "execution_count": null,
   "metadata": {},
   "outputs": [],
   "source": [
    "# importing relations from dataframe\n",
    "session = Session()\n",
    "lecturer_df = DataFrame(([[\"walter\",\"chemistry\"], [\"linus\", \"operating_systems\"]]))\n",
    "session.import_rel(lecturer_df, relation_name=\"lecturer\")\n",
    "commands = \"\"\" \n",
    "?lecturer(X,Y)\n",
    "\"\"\"\n",
    "output = session.run_commands(commands)"
   ]
  },
  {
   "cell_type": "code",
   "execution_count": null,
   "metadata": {},
   "outputs": [],
   "source": [
    "# more ie functions\n",
    "commands = \"\"\"\n",
    "        new A(str, str)\n",
    "        new B(str, str)\n",
    "        C(X, Y) <- A(X, Y)\n",
    "        D(X, Y, X) <- C(X, Y)\n",
    "        D(X, Y, Z) <- A(X, 1), B(X, Y), ID(X) -> (Y), ID2(Y)->(Z,W)  \n",
    "    \"\"\"\n",
    "\n",
    "def ID(string: str):\n",
    "        # here we append the input to the output inside the ie function!\n",
    "        yield f'{string}_id'\n",
    "\n",
    "def ID2(string: str):\n",
    "        # here we append the input to the output inside the ie function!\n",
    "        yield f'{string}_id2_z',f'{string}_id2_w'\n",
    "\n",
    "session = Session()\n",
    "session.register(ID,'ID', [DataTypes.string], [DataTypes.string])\n",
    "session.register(ID2,'ID2', [DataTypes.string], [DataTypes.string,DataTypes.string])\n",
    "\n",
    "_ = session.run_commands(commands)\n",
    "# p_graph,t_graph = session.run_commands('?GP(G, \"Austin\" , L)',ret_graphs=True)\n"
   ]
  },
  {
   "cell_type": "code",
   "execution_count": null,
   "metadata": {},
   "outputs": [],
   "source": [
    "# TODO add cases\n",
    "# a rule with an ie function bound by constants\n",
    "# a rule that returns ture\n",
    "# a rule that returns false"
   ]
  },
  {
   "cell_type": "code",
   "execution_count": null,
   "metadata": {},
   "outputs": [],
   "source": []
  },
  {
   "cell_type": "code",
   "execution_count": null,
   "metadata": {},
   "outputs": [],
   "source": []
  },
  {
   "cell_type": "code",
   "execution_count": null,
   "metadata": {},
   "outputs": [],
   "source": []
  },
  {
   "cell_type": "markdown",
   "metadata": {},
   "source": [
    "## Tests"
   ]
  },
  {
   "cell_type": "code",
   "execution_count": null,
   "metadata": {},
   "outputs": [],
   "source": [
    "#|hide\n",
    "import nbdev; nbdev.nbdev_export()\n",
    "     "
   ]
  }
 ],
 "metadata": {
  "kernelspec": {
   "display_name": "python3",
   "language": "python",
   "name": "python3"
  }
 },
 "nbformat": 4,
 "nbformat_minor": 4
}
