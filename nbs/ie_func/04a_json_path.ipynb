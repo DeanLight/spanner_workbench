{
 "cells": [
  {
   "cell_type": "markdown",
   "metadata": {},
   "source": [
    "# Json Path"
   ]
  },
  {
   "cell_type": "code",
   "execution_count": null,
   "metadata": {},
   "outputs": [],
   "source": [
    "#| default_exp ie_func.json_path"
   ]
  },
  {
   "cell_type": "code",
   "execution_count": null,
   "metadata": {},
   "outputs": [],
   "source": [
    "#| hide\n",
    "from nbdev.showdoc import show_doc\n",
    "\n",
    "%load_ext autoreload\n",
    "%autoreload 2"
   ]
  },
  {
   "cell_type": "code",
   "execution_count": null,
   "metadata": {},
   "outputs": [],
   "source": [
    "#| export\n",
    "from typing import Iterable, Tuple, Any\n",
    "\n",
    "from jsonpath_ng import parse\n",
    "import json\n"
   ]
  },
  {
   "cell_type": "code",
   "execution_count": null,
   "metadata": {},
   "outputs": [],
   "source": [
    "#| export\n",
    "def parse_match(match: Any) -> str:\n",
    "    \"\"\"\n",
    "    @param match: a match result of json path query.\n",
    "    @return: a string that represents the match in string format.\n",
    "    \"\"\"\n",
    "    json_result = match.value\n",
    "    if type(json_result) != str:\n",
    "        # we replace for the same reason as in json_path implementation.\n",
    "        json_result = json.dumps(json_result).replace(\"\\\"\", \"'\")\n",
    "    return json_result"
   ]
  },
  {
   "cell_type": "code",
   "execution_count": null,
   "metadata": {},
   "outputs": [],
   "source": [
    "#| export\n",
    "def json_path(json_document: str, path_expression: str) -> Iterable[Tuple]:\n",
    "    \"\"\"\n",
    "    @param json_document: The document on which we will run the path expression.\n",
    "    @param path_expression: The query to execute.\n",
    "    @return: json documents.\n",
    "    \"\"\"\n",
    "    # covert string to actual json\n",
    "    # json library demands the input string to be enclosed in double quotes, therefore we replace...\n",
    "    json_document = json.loads(json_document.replace(\"'\", \"\\\"\"))\n",
    "    jsonpath_expr = parse(path_expression)\n",
    "    for match in jsonpath_expr.find(json_document):\n",
    "        # each json result is a relation\n",
    "        yield parse_match(match),"
   ]
  },
  {
   "cell_type": "code",
   "execution_count": null,
   "metadata": {},
   "outputs": [
    {
     "ename": "TypeError",
     "evalue": "'function' object is not subscriptable",
     "output_type": "error",
     "traceback": [
      "\u001b[0;31m---------------------------------------------------------------------------\u001b[0m",
      "\u001b[0;31mTypeError\u001b[0m                                 Traceback (most recent call last)",
      "Cell \u001b[0;32mIn[6], line 3\u001b[0m\n\u001b[1;32m      1\u001b[0m \u001b[38;5;66;03m#| export\u001b[39;00m\n\u001b[1;32m      2\u001b[0m JsonPath \u001b[38;5;241m=\u001b[39m [\n\u001b[0;32m----> 3\u001b[0m     \u001b[38;5;124m'\u001b[39m\u001b[38;5;124mJsonPath\u001b[39m\u001b[38;5;124m'\u001b[39m,\u001b[43mjson_path\u001b[49m\n\u001b[1;32m      4\u001b[0m \u001b[43m    \u001b[49m\u001b[43m[\u001b[49m\u001b[38;5;28;43mstr\u001b[39;49m\u001b[43m,\u001b[49m\u001b[38;5;28;43mstr\u001b[39;49m\u001b[43m]\u001b[49m,[\u001b[38;5;28mstr\u001b[39m]\n\u001b[1;32m      5\u001b[0m ]\n",
      "\u001b[0;31mTypeError\u001b[0m: 'function' object is not subscriptable"
     ]
    }
   ],
   "source": [
    "#| export\n",
    "JsonPath = [\n",
    "    'JsonPath',json_path\n",
    "    [str,str],[str]\n",
    "]"
   ]
  },
  {
   "cell_type": "code",
   "execution_count": null,
   "metadata": {},
   "outputs": [],
   "source": [
    "#| export\n",
    "def json_path_full(json_document: str, path_expression: str) -> Iterable[Tuple]:\n",
    "    \"\"\"\n",
    "    @param json_document: The document on which we will run the path expression.\n",
    "    @param path_expression: The query to execute.\n",
    "    @return: json documents with the full results paths.\n",
    "    \"\"\"\n",
    "\n",
    "    json_document = json.loads(json_document.replace(\"'\", \"\\\"\"))\n",
    "    jsonpath_expr = parse(path_expression)\n",
    "    for match in jsonpath_expr.find(json_document):\n",
    "        json_result = str(match.full_path)\n",
    "        # objects in full path are separated by dots.\n",
    "        yield *json_result.split(\".\"), parse_match(match)"
   ]
  },
  {
   "cell_type": "code",
   "execution_count": null,
   "metadata": {},
   "outputs": [],
   "source": [
    "#| export\n",
    "JsonPathFull = [\n",
    "    'JsonPathFull',json_path_full\n",
    "    [str,str],lambda arity: [str] * (arity)\n",
    "]"
   ]
  },
  {
   "cell_type": "code",
   "execution_count": null,
   "metadata": {},
   "outputs": [],
   "source": [
    "#|hide\n",
    "import nbdev; nbdev.nbdev_export()\n",
    "     "
   ]
  }
 ],
 "metadata": {
  "kernelspec": {
   "display_name": "python3",
   "language": "python",
   "name": "python3"
  }
 },
 "nbformat": 4,
 "nbformat_minor": 4
}
