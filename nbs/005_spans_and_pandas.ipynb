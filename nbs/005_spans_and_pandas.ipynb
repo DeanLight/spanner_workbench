{
 "cells": [
  {
   "cell_type": "markdown",
   "metadata": {},
   "source": [
    "# Spans\n",
    "> Span class and how to interface it with pandas"
   ]
  },
  {
   "cell_type": "code",
   "execution_count": null,
   "metadata": {},
   "outputs": [],
   "source": [
    "#| default_exp span"
   ]
  },
  {
   "cell_type": "code",
   "execution_count": null,
   "metadata": {},
   "outputs": [],
   "source": [
    "#| hide\n",
    "from nbdev.showdoc import show_doc\n",
    "\n",
    "%load_ext autoreload\n",
    "%autoreload 2"
   ]
  },
  {
   "cell_type": "code",
   "execution_count": null,
   "metadata": {},
   "outputs": [],
   "source": [
    "#| export\n",
    "from abc import ABC, abstractmethod\n",
    "import pytest\n",
    "\n",
    "import pandas as pd\n",
    "from pathlib import Path\n",
    "from typing import no_type_check, Set, Sequence, Any,Optional,List,Callable,Dict,Union\n",
    "from pydantic import BaseModel\n"
   ]
  },
  {
   "cell_type": "markdown",
   "metadata": {},
   "source": [
    "I followed [this guide](https://itnext.io/guide-to-pandas-extension-types-and-how-to-create-your-own-3b213d689c86) on how to make extension types for pandas"
   ]
  },
  {
   "cell_type": "code",
   "execution_count": null,
   "metadata": {},
   "outputs": [],
   "source": [
    "#| export\n",
    "from enum import Enum\n",
    "from typing import Any\n",
    "from pydantic import ConfigDict\n",
    "\n",
    "class Span():\n",
    "    def __init__(self,start,end):\n",
    "        self.start = start\n",
    "        self.end = end\n",
    "\n",
    "    def __lt__(self, other) -> bool:\n",
    "        if self.start == other.start:\n",
    "            return self.end < other.end\n",
    "\n",
    "        return self.start < other.start\n",
    "    \n",
    "    def __eq__(self, value: object) -> bool:\n",
    "        if not isinstance(value, Span):\n",
    "            return False\n",
    "        return self.start == value.start and self.end == value.end\n",
    "\n",
    "    @classmethod\n",
    "    def from_val(cls,val):\n",
    "        if isinstance(val,Span):\n",
    "            return val\n",
    "        if isinstance(val, (list, tuple)) and len(val) == 2:\n",
    "            return Span(start=val[0], end=val[1])\n",
    "        raise ValueError('Invalid value to create Vector from: {}'.format(val))\n",
    "    \n",
    "    def as_tuple(self):\n",
    "        return (self.start, self.end)\n",
    "\n",
    "    def __str__(self):\n",
    "        return f\"[{self.start},{self.end})\"\n",
    "\n",
    "    def __repr__(self):\n",
    "        return str(self)\n",
    "\n",
    "    # # used for sorting `Span`s in dataframes\n",
    "    def __hash__(self) -> int:\n",
    "        return hash((self.start, self.end))"
   ]
  },
  {
   "cell_type": "code",
   "execution_count": null,
   "metadata": {},
   "outputs": [],
   "source": [
    "#| export\n",
    "import numpy as np\n",
    "from pandas.core.dtypes.dtypes import PandasExtensionDtype\n",
    "from pandas.api.extensions import ExtensionArray, ExtensionScalarOpsMixin, register_extension_dtype\n",
    "\n",
    "@register_extension_dtype\n",
    "class SpanDtype(PandasExtensionDtype):\n",
    "    \"\"\"\n",
    "    Class to describe the custom Vector data type\n",
    "    \"\"\"\n",
    "    type = Span       # Scalar type for data\n",
    "    name = 'span'     # String identifying the data type name \n",
    "\n",
    "    @classmethod\n",
    "    def construct_array_type(cls):\n",
    "        \"\"\"\n",
    "        Return array type associated with this dtype\n",
    "        \"\"\"\n",
    "        return SpanArray\n",
    "\n",
    "    def __str__(self):\n",
    "        return self.name\n",
    "    \n",
    "    def __hash__(self):\n",
    "        return hash(self.name)"
   ]
  },
  {
   "cell_type": "code",
   "execution_count": null,
   "metadata": {},
   "outputs": [],
   "source": [
    "#| export\n",
    "from parse import parse,compile\n",
    "SpanParser = compile('[{start:d},{end:d})')\n"
   ]
  },
  {
   "cell_type": "code",
   "execution_count": null,
   "metadata": {},
   "outputs": [
    {
     "data": {
      "text/plain": [
       "<Result () {'start': 3, 'end': 4}>"
      ]
     },
     "execution_count": null,
     "metadata": {},
     "output_type": "execute_result"
    }
   ],
   "source": [
    "SpanParser.parse('[3,4)')"
   ]
  },
  {
   "cell_type": "code",
   "execution_count": null,
   "metadata": {},
   "outputs": [],
   "source": [
    "#| export\n",
    "class SpanArray(ExtensionScalarOpsMixin, ExtensionArray):\n",
    "    \"\"\"\n",
    "    Custom Extension Array type for an array of Vectors\n",
    "    Needs to define:\n",
    "    - Associated Dtype it is used with\n",
    "    - How to construct array from sequence of scalars\n",
    "    - How data is stored and accessed\n",
    "    - Any custom array methods\n",
    "    \"\"\"\n",
    "\n",
    "    def __init__(self, x_values, y_values, copy=False):\n",
    "        \"\"\"\n",
    "        Initialise array of vectors from component X and Y values \n",
    "        (Allows efficient initialisation from existing lists/arrays)\n",
    "        :param x_values: Sequence/array of vector x-component values\n",
    "        :param y_values: Sequence/array of vector y-component values\n",
    "        \"\"\"\n",
    "        self.x_values = np.array(x_values, dtype=np.int64, copy=copy)\n",
    "        self.y_values = np.array(y_values, dtype=np.int64, copy=copy)\n",
    "\n",
    "    @classmethod\n",
    "    def _from_sequence_of_strings(\n",
    "        cls, strings, *, dtype=SpanDtype, copy: bool = False\n",
    "    ):\n",
    "        vals=[]\n",
    "        for string in strings:\n",
    "            parsed_span = SpanParser.parse(string)\n",
    "            if parsed_span is None:\n",
    "                raise ValueError(f'could not parse string \"{string}\" as a span')\n",
    "            vals.append(Span(parsed_span['start'],parsed_span['end']))\n",
    "            \n",
    "        return cls._from_sequence(vals)\n",
    "\n",
    "    @classmethod\n",
    "    def _from_sequence(cls, scalars, *, dtype=None, copy=False):\n",
    "        \"\"\"\n",
    "        Construct a new ExtensionArray from a sequence of scalars. \n",
    "        Each element will be an instance of the scalar type for this array,\n",
    "        or be converted into this type in this method.\n",
    "        \"\"\"\n",
    "        # Construct new array from sequence of values (Unzip vectors into x and y components)\n",
    "        x_values, y_values = zip(*[Span.from_val(val).as_tuple() for val in scalars])\n",
    "        return SpanArray(x_values, y_values, copy=copy)\n",
    "\n",
    "    @classmethod\n",
    "    def from_vectors(cls, vectors):\n",
    "        \"\"\"\n",
    "        Construct array from sequence of values (vectors)\n",
    "        Can be provided as Vector instances or list/tuple like (x, y) pairs\n",
    "        \"\"\"\n",
    "        return cls._from_sequence(vectors)\n",
    "\n",
    "    @classmethod\n",
    "    def _concat_same_type(cls, to_concat):\n",
    "        \"\"\"\n",
    "        Concatenate multiple arrays of this dtype\n",
    "        \"\"\"\n",
    "        return SpanArray(\n",
    "            np.concatenate([arr.x_values for arr in to_concat]),\n",
    "            np.concatenate([arr.y_values for arr in to_concat]),\n",
    "        )\n",
    "\n",
    "    @property\n",
    "    def dtype(self):\n",
    "        \"\"\"\n",
    "        Return Dtype instance (not class) associated with this Array\n",
    "        \"\"\"\n",
    "        return SpanDtype()\n",
    "\n",
    "    @property\n",
    "    def nbytes(self):\n",
    "        \"\"\"\n",
    "        The number of bytes needed to store this object in memory.\n",
    "        \"\"\"\n",
    "        return self.x_values.nbytes + self.y_values.nbytes\n",
    "\n",
    "    def __getitem__(self, item):\n",
    "        \"\"\"\n",
    "        Retrieve single item or slice\n",
    "        \"\"\"\n",
    "        if isinstance(item, int):\n",
    "            # Get single vector\n",
    "            return Span(self.x_values[item], self.y_values[item])\n",
    "\n",
    "        else:\n",
    "            # Get subset from slice  or boolean array\n",
    "            return SpanArray(self.x_values[item], self.y_values[item])\n",
    "\n",
    "    def __eq__(self, other):\n",
    "        \"\"\"\n",
    "        Perform element-wise equality with a given vector value\n",
    "        \"\"\"\n",
    "        if isinstance(other, (pd.Index, pd.Series, pd.DataFrame)):\n",
    "            return NotImplemented\n",
    "\n",
    "        return (self.x_values == other[0]) & (self.y_values == other[1])\n",
    "\n",
    "    def __len__(self):\n",
    "        return self.x_values.size\n",
    "\n",
    "    def isna(self):\n",
    "        \"\"\"\n",
    "        Returns a 1-D array indicating if each value is missing\n",
    "        \"\"\"\n",
    "        return np.isnan(self.x_values)\n",
    "\n",
    "    def take(self, indices, *, allow_fill=False, fill_value=None):\n",
    "        \"\"\"\n",
    "        Take element from array using positional indexing\n",
    "        \"\"\"\n",
    "        from pandas.core.algorithms import take\n",
    "        if allow_fill and fill_value is None:\n",
    "            fill_value = self.dtype.na_value\n",
    "\n",
    "        x_result = take(self.x_values, indices, fill_value=fill_value, allow_fill=allow_fill)\n",
    "        y_result = take(self.y_values, indices, fill_value=fill_value, allow_fill=allow_fill)\n",
    "        return SpanArray(x_result, y_result)\n",
    "\n",
    "    def copy(self):\n",
    "        \"\"\"\n",
    "        Return copy of array\n",
    "        \"\"\"\n",
    "        return SpanArray(np.copy(self.x_values), np.copy(self.y_values))\n",
    "\n",
    "# Register operator overloads using logic defined in Vector class\n",
    "SpanArray._add_comparison_ops()"
   ]
  },
  {
   "cell_type": "code",
   "execution_count": null,
   "metadata": {},
   "outputs": [
    {
     "name": "stdout",
     "output_type": "stream",
     "text": [
      "<class 'pandas.core.frame.DataFrame'>\n",
      "RangeIndex: 3 entries, 0 to 2\n",
      "Data columns (total 1 columns):\n",
      " #   Column  Non-Null Count  Dtype\n",
      "---  ------  --------------  -----\n",
      " 0   0       3 non-null      span \n",
      "dtypes: span(1)\n",
      "memory usage: 180.0 bytes\n"
     ]
    }
   ],
   "source": [
    "s = pd.Series([[1,2],[3,4],[5,6]],dtype='span')\n",
    "df = s.to_frame()\n",
    "\n",
    "df.info()\n"
   ]
  },
  {
   "cell_type": "code",
   "execution_count": null,
   "metadata": {},
   "outputs": [
    {
     "data": {
      "text/html": [
       "<div>\n",
       "<style scoped>\n",
       "    .dataframe tbody tr th:only-of-type {\n",
       "        vertical-align: middle;\n",
       "    }\n",
       "\n",
       "    .dataframe tbody tr th {\n",
       "        vertical-align: top;\n",
       "    }\n",
       "\n",
       "    .dataframe thead th {\n",
       "        text-align: right;\n",
       "    }\n",
       "</style>\n",
       "<table border=\"1\" class=\"dataframe\">\n",
       "  <thead>\n",
       "    <tr style=\"text-align: right;\">\n",
       "      <th></th>\n",
       "      <th>x</th>\n",
       "      <th>y</th>\n",
       "    </tr>\n",
       "  </thead>\n",
       "  <tbody>\n",
       "    <tr>\n",
       "      <th>0</th>\n",
       "      <td>[1,3)</td>\n",
       "      <td>[2,4)</td>\n",
       "    </tr>\n",
       "    <tr>\n",
       "      <th>1</th>\n",
       "      <td>[1,3)</td>\n",
       "      <td>[2,4)</td>\n",
       "    </tr>\n",
       "  </tbody>\n",
       "</table>\n",
       "</div>"
      ],
      "text/plain": [
       "       x      y\n",
       "0  [1,3)  [2,4)\n",
       "1  [1,3)  [2,4)"
      ]
     },
     "execution_count": null,
     "metadata": {},
     "output_type": "execute_result"
    }
   ],
   "source": [
    "df = pd.DataFrame([\n",
    "    [Span(1,3),Span(2,4)],\n",
    "    [Span(1,3),Span(2,4)]\n",
    "    ], columns=['x','y'])\n",
    "df"
   ]
  },
  {
   "cell_type": "code",
   "execution_count": null,
   "metadata": {},
   "outputs": [
    {
     "data": {
      "text/html": [
       "<div>\n",
       "<style scoped>\n",
       "    .dataframe tbody tr th:only-of-type {\n",
       "        vertical-align: middle;\n",
       "    }\n",
       "\n",
       "    .dataframe tbody tr th {\n",
       "        vertical-align: top;\n",
       "    }\n",
       "\n",
       "    .dataframe thead th {\n",
       "        text-align: right;\n",
       "    }\n",
       "</style>\n",
       "<table border=\"1\" class=\"dataframe\">\n",
       "  <thead>\n",
       "    <tr style=\"text-align: right;\">\n",
       "      <th></th>\n",
       "      <th>x</th>\n",
       "      <th>y</th>\n",
       "    </tr>\n",
       "  </thead>\n",
       "  <tbody>\n",
       "    <tr>\n",
       "      <th>0</th>\n",
       "      <td>[1,3)</td>\n",
       "      <td>[2,4)</td>\n",
       "    </tr>\n",
       "    <tr>\n",
       "      <th>1</th>\n",
       "      <td>[1,3)</td>\n",
       "      <td>[2,4)</td>\n",
       "    </tr>\n",
       "  </tbody>\n",
       "</table>\n",
       "</div>"
      ],
      "text/plain": [
       "       x      y\n",
       "0  [1,3)  [2,4)\n",
       "1  [1,3)  [2,4)"
      ]
     },
     "execution_count": null,
     "metadata": {},
     "output_type": "execute_result"
    }
   ],
   "source": [
    "df.infer_objects()"
   ]
  },
  {
   "cell_type": "code",
   "execution_count": null,
   "metadata": {},
   "outputs": [],
   "source": [
    "df.to_csv('file.txt')"
   ]
  },
  {
   "cell_type": "code",
   "execution_count": null,
   "metadata": {},
   "outputs": [],
   "source": [
    "assert SpanArray._from_sequence_of_strings(['[0,1)','[0,2)'])[0] == Span(0,1)"
   ]
  },
  {
   "cell_type": "code",
   "execution_count": null,
   "metadata": {},
   "outputs": [
    {
     "name": "stdout",
     "output_type": "stream",
     "text": [
      "<class 'pandas.core.frame.DataFrame'>\n",
      "Index: 2 entries, 0 to 1\n",
      "Data columns (total 2 columns):\n",
      " #   Column  Non-Null Count  Dtype \n",
      "---  ------  --------------  ----- \n",
      " 0   x       2 non-null      span  \n",
      " 1   y       2 non-null      object\n",
      "dtypes: object(1), span(1)\n",
      "memory usage: 64.0+ bytes\n"
     ]
    }
   ],
   "source": [
    "df2=pd.read_csv('file.txt',index_col=0,\n",
    "    dtype={'x':'span'}\n",
    "    )\n",
    "df2.info()"
   ]
  },
  {
   "cell_type": "code",
   "execution_count": null,
   "metadata": {},
   "outputs": [],
   "source": [
    "#|hide\n",
    "import nbdev; nbdev.nbdev_export()\n",
    "     "
   ]
  }
 ],
 "metadata": {
  "kernelspec": {
   "display_name": "python3",
   "language": "python",
   "name": "python3"
  }
 },
 "nbformat": 4,
 "nbformat_minor": 4
}
