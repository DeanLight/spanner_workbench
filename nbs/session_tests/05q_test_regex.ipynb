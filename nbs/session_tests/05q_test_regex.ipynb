{
 "cells": [
  {
   "cell_type": "code",
   "execution_count": null,
   "metadata": {},
   "outputs": [],
   "source": [
    "import tempfile\n",
    "from pathlib import Path\n",
    "from spannerlib.general_utils import QUERY_RESULT_PREFIX\n",
    "from spannerlib.tests.utils import run_test"
   ]
  },
  {
   "cell_type": "code",
   "execution_count": null,
   "metadata": {},
   "outputs": [
    {
     "name": "stdout",
     "output_type": "stream",
     "text": [
      "printing results for query 'string_rel(X)':\n",
      "  X\n",
      "-----\n",
      "  a\n",
      " aa\n",
      "\n",
      "printing results for query 'span_rel(X)':\n",
      "   X\n",
      "--------\n",
      " [1, 2)\n",
      " [0, 2)\n",
      " [0, 1)\n",
      "\n"
     ]
    }
   ],
   "source": [
    "def test_rust_regex() -> None:\n",
    "    commands = \"\"\"\n",
    "        string_rel(X) <- rgx_string(\"aa\",\".+\") -> (X)\n",
    "        span_rel(X) <- rgx_span(\"aa\",\".+\") -> (X)\n",
    "        ?string_rel(X)\n",
    "        ?span_rel(X)\n",
    "        \"\"\"\n",
    "\n",
    "    expected_result = f\"\"\"{QUERY_RESULT_PREFIX}'string_rel(X)':\n",
    "          X\n",
    "        -----\n",
    "          a\n",
    "         aa\n",
    "\n",
    "        {QUERY_RESULT_PREFIX}'span_rel(X)':\n",
    "           X\n",
    "        --------\n",
    "         [0, 1)\n",
    "         [0, 2)\n",
    "         [1, 2)\n",
    "        \"\"\"\n",
    "\n",
    "    run_test(commands, expected_result)\n",
    "# test_rust_regex()"
   ]
  },
  {
   "cell_type": "code",
   "execution_count": null,
   "metadata": {},
   "outputs": [
    {
     "name": "stdout",
     "output_type": "stream",
     "text": [
      "printing results for query 'string_rel(X)':\n",
      "  X\n",
      "-----\n",
      "  a\n",
      " aa\n",
      "\n",
      "printing results for query 'span_rel(X)':\n",
      "   X\n",
      "--------\n",
      " [1, 2)\n",
      " [0, 2)\n",
      " [0, 1)\n",
      "\n"
     ]
    }
   ],
   "source": [
    "\n",
    "def test_rust_regex_from_file() -> None:\n",
    "    with tempfile.TemporaryDirectory() as temp_dir:\n",
    "        rgx_text_file = Path(temp_dir) / \"temp\"\n",
    "        with open(rgx_text_file, \"w\") as f:\n",
    "            f.write(\"aa\")\n",
    "\n",
    "        commands = f\"\"\"\n",
    "            string_rel(X) <- rgx_string_from_file(\"{rgx_text_file}\",\".+\") -> (X)\n",
    "            span_rel(X) <- rgx_span_from_file(\"{rgx_text_file}\",\".+\") -> (X)\n",
    "            ?string_rel(X)\n",
    "            ?span_rel(X)\n",
    "            \"\"\"\n",
    "\n",
    "        expected_result = f\"\"\"{QUERY_RESULT_PREFIX}'string_rel(X)':\n",
    "              X\n",
    "            -----\n",
    "              a\n",
    "             aa\n",
    "\n",
    "            {QUERY_RESULT_PREFIX}'span_rel(X)':\n",
    "               X\n",
    "            --------\n",
    "             [0, 1)\n",
    "             [0, 2)\n",
    "             [1, 2)\n",
    "            \"\"\"\n",
    "\n",
    "        run_test(commands, expected_result)\n",
    "# test_rust_regex_from_file()"
   ]
  },
  {
   "cell_type": "code",
   "execution_count": null,
   "metadata": {},
   "outputs": [
    {
     "name": "stdout",
     "output_type": "stream",
     "text": [
      "printing results for query 'group_string_rel(X, Y, Z)':\n",
      "  X  |  Y  |  Z\n",
      "-----+-----+-----\n",
      "  a  |  b  | ab\n",
      " aa  |  b  | aab\n",
      "\n"
     ]
    }
   ],
   "source": [
    "def test_rust_regex_groups() -> None:\n",
    "    text = \"aab\"\n",
    "    pattern = \"(?P<group_all>(?P<group_a>a+)(?P<group_b>b+))\"\n",
    "\n",
    "    commands = f\"\"\"\n",
    "            group_string_rel(X,Y,Z) <- rgx_string(\"{text}\",\"{pattern}\") -> (X,Y,Z)\n",
    "            ?group_string_rel(X, Y, Z)\n",
    "            \"\"\"\n",
    "\n",
    "    expected_result = f\"\"\"{QUERY_RESULT_PREFIX}'group_string_rel(X, Y, Z)':\n",
    "          X  |  Y  |  Z\n",
    "        -----+-----+-----\n",
    "         aa  |  b  | aab\n",
    "          a  |  b  | ab\"\"\"\n",
    "\n",
    "    run_test(commands, expected_result)\n",
    "# test_rust_regex_groups()"
   ]
  },
  {
   "cell_type": "code",
   "execution_count": null,
   "metadata": {},
   "outputs": [
    {
     "name": "stdout",
     "output_type": "stream",
     "text": [
      "printing results for query 'py_string_rel(X)':\n",
      "  X\n",
      "-----\n",
      " aa\n",
      "\n",
      "printing results for query 'py_span_rel(X)':\n",
      "   X\n",
      "--------\n",
      " [0, 2)\n",
      "\n"
     ]
    }
   ],
   "source": [
    "def test_python_regex() -> None:\n",
    "    commands = \"\"\"\n",
    "           py_string_rel(X) <- py_rgx_string(\"aa\",\".+\") -> (X)\n",
    "           py_span_rel(X) <- py_rgx_span(\"aa\",\".+\") -> (X)\n",
    "           ?py_string_rel(X)\n",
    "           ?py_span_rel(X)\n",
    "           \"\"\"\n",
    "\n",
    "    expected_result = f\"\"\"{QUERY_RESULT_PREFIX}'py_string_rel(X)':\n",
    "              X\n",
    "            -----\n",
    "             aa\n",
    "\n",
    "            {QUERY_RESULT_PREFIX}'py_span_rel(X)':\n",
    "               X\n",
    "            --------\n",
    "             [0, 2)\"\"\"\n",
    "\n",
    "    run_test(commands, expected_result)\n",
    "\n",
    "# test_python_regex()"
   ]
  }
 ],
 "metadata": {
  "kernelspec": {
   "display_name": "python3",
   "language": "python",
   "name": "python3"
  }
 },
 "nbformat": 4,
 "nbformat_minor": 2
}
