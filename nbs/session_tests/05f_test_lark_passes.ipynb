{
 "cells": [
  {
   "cell_type": "code",
   "execution_count": null,
   "metadata": {},
   "outputs": [
    {
     "name": "stderr",
     "output_type": "stream",
     "text": [
      "Installation NLP failed\n"
     ]
    }
   ],
   "source": [
    "import pytest\n",
    "from spannerlib.session import Session\n",
    "from spannerlib.ast_node_types import RelationDeclaration, AddFact, Query\n",
    "from spannerlib.primitive_types import DataTypes, Span"
   ]
  },
  {
   "cell_type": "code",
   "execution_count": null,
   "metadata": {},
   "outputs": [],
   "source": [
    "def test_CheckReservedRelationNames()->None:\n",
    "    with pytest.raises(Exception) as exc_info:\n",
    "        my_session = Session()\n",
    "        my_session.run_commands(\"\"\"\n",
    "                    new age__spannerlog__(str,int)\n",
    "                    age__spannerlog__(\"Allie\",23)\n",
    "                \"\"\")\n",
    "    assert str(exc_info.value) == \"encountered relation name: age__spannerlog__. names containing __spannerlog__ are reserved\"\n",
    "    \n",
    "test_CheckReservedRelationNames()"
   ]
  },
  {
   "cell_type": "code",
   "execution_count": null,
   "metadata": {},
   "outputs": [
    {
     "name": "stdout",
     "output_type": "stream",
     "text": [
      "printing results for query 'age(X, Y)':\n",
      "    X    |   Y\n",
      "---------+-----\n",
      "  Allie  |  23\n",
      " \\nAllie |  23\n",
      "\n"
     ]
    }
   ],
   "source": [
    "def test_FixStrings()->None:\n",
    "    my_session = Session()\n",
    "    output = my_session.run_commands(\"\"\"\n",
    "                new age(str,int)\n",
    "                age(\"\\\\\\nAllie\",23)\n",
    "                age(\"\\\\nAllie\",23)\n",
    "                ?age(X,Y)\n",
    "            \"\"\")\n",
    "    expected_output = r\"[(age(X, Y), [('Allie', 23), ('\\\\nAllie', 23)])]\"\n",
    "    assert str(output) == expected_output\n",
    "    \n",
    "test_FixStrings()"
   ]
  },
  {
   "cell_type": "code",
   "execution_count": null,
   "metadata": {},
   "outputs": [
    {
     "name": "stdout",
     "output_type": "stream",
     "text": [
      "printing results for query 'price(X, Y)':\n",
      "  X   |    Y\n",
      "------+---------\n",
      " milk | [5, 10)\n",
      "\n"
     ]
    }
   ],
   "source": [
    "def test_ConvertSpanNodesToSpanInstances():\n",
    "    my_session = Session()\n",
    "    output = my_session.run_commands(\"\"\"\n",
    "                new price(str,span)\n",
    "                price(\"milk\",[5,10))\n",
    "                ?price(X,Y)\n",
    "            \"\"\")\n",
    "    relation_name, fact = output[0]\n",
    "    product_name, product_price_span = fact[0]\n",
    "    \n",
    "    expected_product_name = \"milk\"\n",
    "    expected_product_price_span = Span(5, 10)\n",
    "    \n",
    "    assert product_name == expected_product_name\n",
    "    assert product_price_span == expected_product_price_span\n",
    "\n",
    "test_ConvertSpanNodesToSpanInstances()"
   ]
  },
  {
   "cell_type": "code",
   "execution_count": null,
   "metadata": {},
   "outputs": [],
   "source": [
    "def test_CheckDefinedReferencedVariables():\n",
    "    test_cases = [\n",
    "        \"\"\"\n",
    "        new sisters(str,str)\n",
    "        sisters(\"Sara\",\"Kyra\")\n",
    "        sisters(\"Allie\",f)\n",
    "        \"\"\",\n",
    "        \"\"\"\n",
    "        new sisters(str,str)\n",
    "        sisters(\"Sara\",\"Kyra\")\n",
    "        sisters_of_Sara(X) <- sisters(f,X)\n",
    "        \"\"\",\n",
    "        \"\"\"\n",
    "        new sisters(str,str)\n",
    "        sisters(\"Sara\",\"Kyra\")\n",
    "        ?sisters(f,X)\n",
    "        \"\"\"\n",
    "    ]\n",
    "    \n",
    "    expected_error = 'variable \"f\" is not defined'\n",
    "    \n",
    "    for idx, commands in enumerate(test_cases, start=1):\n",
    "        with pytest.raises(Exception) as exc_info:\n",
    "            my_session = Session()\n",
    "            my_session.run_commands(commands)\n",
    "        \n",
    "        assert str(exc_info.value) == expected_error, f\"Test case {idx} failed\"\n",
    "\n",
    "test_CheckDefinedReferencedVariables()"
   ]
  },
  {
   "cell_type": "code",
   "execution_count": null,
   "metadata": {},
   "outputs": [
    {
     "name": "stdout",
     "output_type": "stream",
     "text": [
      "printing results for query 'sisters(X, Y)':\n",
      "[]\n",
      "\n"
     ]
    }
   ],
   "source": [
    "def test_CheckDefinedReferencedVariables4():\n",
    "    my_session = Session()\n",
    "    output = my_session.run_commands(\"\"\"\n",
    "                    new sisters(str,str)\n",
    "                    sisters(\"Sara\",\"Kyra\") <- True\n",
    "                    sisters(\"Sara\",\"Kyra\") <- False\n",
    "                    ?sisters(X,Y)\n",
    "                \"\"\")\n",
    "    assert str(output) == '''[(sisters(X, Y), [])]'''\n",
    "test_CheckDefinedReferencedVariables4()"
   ]
  },
  {
   "cell_type": "code",
   "execution_count": null,
   "metadata": {},
   "outputs": [],
   "source": [
    "def test_CheckReferencedRelationsExistenceAndArity():\n",
    "    test_cases = [\n",
    "        (\n",
    "            \"\"\"\n",
    "            new sisters(str, str)\n",
    "            sisters(\"Allie\")\n",
    "            \"\"\",\n",
    "            '''relation \"sisters\" was referenced with an incorrect arity: 1. The correct arity is: 2'''\n",
    "        ),\n",
    "        (\n",
    "            \"\"\"\n",
    "            new sisters(str, str)\n",
    "            sisters(\"Allie\", \"Sara\")\n",
    "            brothers_or_sisters(X, Y) <- sisters(X, Y)\n",
    "            brothers_or_sisters(X, Y) <- brothers(X, Y)\n",
    "            \"\"\",\n",
    "            '''relation \"brothers\" is not defined'''\n",
    "        ),\n",
    "        (\n",
    "            \"\"\"\n",
    "            new sisters(str, str)\n",
    "            sisters(\"Allie\", \"Sara\")\n",
    "            brothers_or_sisters(X, Y) <- sisters(X, Y)\n",
    "            ?brothers_or_sisters(X)\n",
    "            \"\"\",\n",
    "            '''relation \"brothers_or_sisters\" was referenced with an incorrect arity: 1. The correct arity is: 2'''\n",
    "        ),\n",
    "        (\n",
    "            \"\"\"\n",
    "            new sisters(str, str)\n",
    "            sisters(\"Allie\", \"Sara\")\n",
    "            new brothers(str, str)\n",
    "            brothers(\"Sam\", \"Noah\")\n",
    "            brothers_or_sisters(X, Y) <- sisters(X, Y)\n",
    "            brothers_or_sisters(X, Y) <- brothers(X, Y, Z)\n",
    "            \"\"\",\n",
    "            '''relation \"brothers\" was referenced with an incorrect arity: 3. The correct arity is: 2'''\n",
    "        )\n",
    "    ]\n",
    "    \n",
    "    for idx, (commands, expected) in enumerate(test_cases, start=1):\n",
    "        with pytest.raises(Exception) as exc_info:\n",
    "            my_session = Session()\n",
    "            my_session.run_commands(commands)\n",
    "        \n",
    "        assert str(exc_info.value) == expected, f\"Test case {idx} failed\"\n",
    "\n",
    "test_CheckReferencedRelationsExistenceAndArity()"
   ]
  },
  {
   "cell_type": "code",
   "execution_count": null,
   "metadata": {},
   "outputs": [],
   "source": [
    "def test_CheckRuleSafety1():\n",
    "    with pytest.raises(Exception) as exc_info:\n",
    "        my_session = Session()\n",
    "        output = my_session.run_commands(\"\"\"\n",
    "                    new daughter(str)\n",
    "                    daughter(\"Allie\")\n",
    "                    mom(X,Y) <- daughter(Y)\n",
    "                \"\"\")\n",
    "    expected = '''The rule \"mom(X, Y) <- daughter(Y)\" \\nis not safe because the following free variables appear in the rule head but not as output terms in the rule body:\\n{'X'}'''\n",
    "    assert str(exc_info.value) == expected\n",
    "\n",
    "test_CheckRuleSafety1()"
   ]
  },
  {
   "cell_type": "code",
   "execution_count": null,
   "metadata": {},
   "outputs": [],
   "source": [
    "def test_TypeCheckRelations1():\n",
    "    with pytest.raises(Exception) as exc_info:\n",
    "        my_session = Session()\n",
    "        output = my_session.run_commands(\"\"\"\n",
    "                    new daughter(str)\n",
    "                    daughter(1)\n",
    "                \"\"\")\n",
    "    expected = '''type check failed for fact: \"daughter(1)\"'''\n",
    "    assert str(exc_info.value) == expected\n",
    "\n",
    "test_TypeCheckRelations1()"
   ]
  },
  {
   "cell_type": "code",
   "execution_count": null,
   "metadata": {},
   "outputs": [],
   "source": [
    "def test_TypeCheckRelations2():\n",
    "    with pytest.raises(Exception) as exc_info:\n",
    "        my_session = Session()\n",
    "        output = my_session.run_commands(\"\"\"\n",
    "                    new age_str(str,str)\n",
    "                    age_str(\"Allie\",\"23\")\n",
    "                    new age_int(str,int)\n",
    "                    age_int(\"Sam\",23)\n",
    "                    same_age(X)<- age_str(X,Y), age_int(X,Y)\n",
    "                \"\"\")\n",
    "    expected = '''type check failed for rule \"same_age(X) <- age_str(X, Y), age_int(X, Y)\"\\nbecause the following free variables have conflicting types:\\n{'Y'}'''\n",
    "    assert str(exc_info.value) == expected\n",
    "\n",
    "test_TypeCheckRelations2()"
   ]
  },
  {
   "cell_type": "code",
   "execution_count": null,
   "metadata": {},
   "outputs": [
    {
     "name": "stdout",
     "output_type": "stream",
     "text": [
      "printing results for query 'person(X)':\n",
      "   X\n",
      "--------\n",
      " Allie\n",
      " Jackie\n",
      "\n"
     ]
    }
   ],
   "source": [
    "def test_SaveDeclaredRelationsSchemas():\n",
    "    commands = \"\"\"\n",
    "                new parent(str, str)\n",
    "                person(X) <- parent(X, Y)\n",
    "                person(Y) <- parent(X, Y)\n",
    "                allie = \"Allie\"\n",
    "                jackie = \"Jackie\"\n",
    "                parent(jackie, allie)\n",
    "                ?person(X)\n",
    "            \"\"\"\n",
    "    expected_output = '''[(person(X), [('Allie',), ('Jackie',)])]'''\n",
    "    \n",
    "    my_session = Session()\n",
    "    output = my_session.run_commands(commands)\n",
    "    \n",
    "    all_relations = my_session._symbol_table.get_all_relations()\n",
    "    all_vars = my_session._symbol_table.get_all_variables()\n",
    "    \n",
    "    assert (\n",
    "        len(all_relations) == 2 and\n",
    "        len(all_vars) == 2 and\n",
    "        str(output) == expected_output\n",
    "    )\n",
    "\n",
    "\n",
    "test_SaveDeclaredRelationsSchemas()"
   ]
  },
  {
   "cell_type": "code",
   "execution_count": null,
   "metadata": {},
   "outputs": [],
   "source": [
    "def test_ExecuteAssignments():\n",
    "    commands = \"\"\"\n",
    "                allie = \"Allie\"\n",
    "                jackie = \"Jackie\"\n",
    "                a = 1\n",
    "            \"\"\"\n",
    "    expected_variables = [('allie', 'Allie'), ('jackie', 'Jackie'), ('a', 1)]\n",
    "    \n",
    "    my_session = Session()\n",
    "    output = my_session.run_commands(commands)\n",
    "    all_vars = my_session._symbol_table.get_all_variables()\n",
    "\n",
    "    assert len(all_vars) == len(expected_variables)\n",
    "\n",
    "    for var_info, expected_info in zip(all_vars, expected_variables):\n",
    "        assert var_info[0] == expected_info[0]\n",
    "        assert var_info[2] == expected_info[1]\n",
    "\n",
    "test_ExecuteAssignments()"
   ]
  },
  {
   "cell_type": "code",
   "execution_count": null,
   "metadata": {},
   "outputs": [
    {
     "name": "stdout",
     "output_type": "stream",
     "text": [
      "printing results for query 'person(X)':\n",
      "   X\n",
      "--------\n",
      " Allie\n",
      " Jackie\n",
      "\n"
     ]
    }
   ],
   "source": [
    "def test_AddStatementsToNetxParseGraph():\n",
    "    my_session = Session()\n",
    "    output = my_session.run_commands(\"\"\"\n",
    "                        new parent(str,str)\n",
    "                        person(X) <- parent(X,Y)\n",
    "                        person(Y) <- parent(X,Y)\n",
    "                        allie = \"Allie\"\n",
    "                        jackie = \"Jackie\"\n",
    "                        parent(jackie,allie)\n",
    "                        ?person(X)\n",
    "\n",
    "            \"\"\")\n",
    "    num_of_commands = len(my_session._parse_graph.get_children(my_session._parse_graph._root_id))\n",
    "    assert num_of_commands == 5\n",
    "\n",
    "test_AddStatementsToNetxParseGraph()"
   ]
  },
  {
   "cell_type": "code",
   "execution_count": null,
   "metadata": {},
   "outputs": [
    {
     "name": "stdout",
     "output_type": "stream",
     "text": [
      "printing results for query 'grandparent(X, Y)':\n",
      "   X    |  Y\n",
      "--------+-----\n",
      " Elijah | Sam\n",
      "\n",
      "printing results for query 'person(X)':\n",
      "    X\n",
      "---------\n",
      "  Allie\n",
      " Jackie\n",
      " Kristen\n",
      "   Sam\n",
      "\n"
     ]
    }
   ],
   "source": [
    "def test_AddRulesToTermGraph():\n",
    "    my_session = Session()\n",
    "    output = my_session.run_commands(\"\"\"\n",
    "                        new parent(str,str)\n",
    "                        parent(\"Taylor\",\"Sam\")\n",
    "                        parent(\"Elijah\",\"Taylor\")\n",
    "                        grandparent(X,Z)<-parent(X,Y) , parent(Y,Z)\n",
    "                        ?grandparent(X,Y)\n",
    "                        new sisters(str,str)\n",
    "                        sisters(\"Sam\",\"Kristen\")\n",
    "                        sisters(\"Allie\",\"Jackie\")\n",
    "                        person(X)<-sisters(X,Y)\n",
    "                        person(X)<-sisters(Y,X)\n",
    "                        ?person(X)\n",
    "\n",
    "            \"\"\")\n",
    "    assert (my_session._term_graph.get_children(my_session._term_graph.get_root_id())) == ['grandparent', 'person']\n",
    "\n",
    "test_AddRulesToTermGraph()"
   ]
  }
 ],
 "metadata": {
  "kernelspec": {
   "display_name": "python3",
   "language": "python",
   "name": "python3"
  }
 },
 "nbformat": 4,
 "nbformat_minor": 2
}
