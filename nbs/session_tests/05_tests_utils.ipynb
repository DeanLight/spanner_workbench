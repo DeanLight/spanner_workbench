{
 "cells": [
  {
   "cell_type": "markdown",
   "metadata": {},
   "source": [
    "# Utils"
   ]
  },
  {
   "cell_type": "code",
   "execution_count": null,
   "metadata": {},
   "outputs": [],
   "source": [
    "#| default_exp tests.utils"
   ]
  },
  {
   "cell_type": "code",
   "execution_count": null,
   "metadata": {},
   "outputs": [],
   "source": [
    "#| hide\n",
    "from nbdev.showdoc import show_doc\n",
    "\n",
    "%load_ext autoreload\n",
    "%autoreload 2"
   ]
  },
  {
   "cell_type": "code",
   "execution_count": null,
   "metadata": {},
   "outputs": [],
   "source": [
    "#| export\n",
    "#| output: false\n",
    "import numpy as np\n",
    "import tempfile\n",
    "from pandas import DataFrame\n",
    "from pathlib import Path\n",
    "from typing import List, Optional, Iterable, Dict, no_type_check, Type\n",
    "import pandas as pd\n",
    "\n",
    "from graph_rewrite import draw\n",
    "from spannerlib.utils import assert_df\n",
    "from spannerlib.session import Session"
   ]
  },
  {
   "cell_type": "code",
   "execution_count": null,
   "metadata": {},
   "outputs": [],
   "source": [
    "#| export\n",
    "\n",
    "def test_session(\n",
    "    context,\n",
    "    queries,\n",
    "    expected_outputs,# either a set of tuples or (set of tuples,list of columns)\n",
    "    ie_funcs=None,# List of [name,func,in_scheme,out_scheme]\n",
    "    csvs=None,# List of [name,df]\n",
    "    debug=False,\n",
    "    ):\n",
    "    sess=Session()\n",
    "    # init session with context\n",
    "\n",
    "    # add csvs\n",
    "\n",
    "    # register functions\n",
    "\n",
    "    for query,expected in zip(queries,expected_outputs):\n",
    "        if debug:\n",
    "            print(query)\n",
    "            q,root = sess.plan_query(query)\n",
    "            draw(q)\n",
    "            res = sess.execute_plan(q)\n",
    "        else:\n",
    "            res = context.export(query)\n",
    "        if isinstance(expected,tuple):\n",
    "            values,columns = expected\n",
    "            assert_df(res,values,columns)\n",
    "        else:\n",
    "            assert_df(res,expected)"
   ]
  }
 ],
 "metadata": {
  "kernelspec": {
   "display_name": "python3",
   "language": "python",
   "name": "python3"
  }
 },
 "nbformat": 4,
 "nbformat_minor": 4
}
