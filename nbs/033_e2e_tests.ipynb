{
 "cells": [
  {
   "cell_type": "markdown",
   "metadata": {},
   "source": [
    "# Utils"
   ]
  },
  {
   "cell_type": "code",
   "execution_count": null,
   "metadata": {},
   "outputs": [],
   "source": [
    "#| default_exp tests.utils"
   ]
  },
  {
   "cell_type": "code",
   "execution_count": null,
   "metadata": {},
   "outputs": [],
   "source": [
    "#| hide\n",
    "from nbdev.showdoc import show_doc\n",
    "\n",
    "%load_ext autoreload\n",
    "%autoreload 2"
   ]
  },
  {
   "cell_type": "code",
   "execution_count": null,
   "metadata": {},
   "outputs": [],
   "source": [
    "#| export\n",
    "#| output: false\n",
    "import numpy as np\n",
    "import tempfile\n",
    "from pandas import DataFrame\n",
    "from pathlib import Path\n",
    "from typing import List, Optional, Iterable, Dict, no_type_check, Type\n",
    "import pandas as pd\n",
    "\n",
    "from graph_rewrite import draw\n",
    "from spannerlib.utils import assert_df_equals\n",
    "from spannerlib.span import Span\n",
    "from spannerlib.session import Session"
   ]
  },
  {
   "cell_type": "markdown",
   "metadata": {},
   "source": [
    "## Scaffolding"
   ]
  },
  {
   "cell_type": "code",
   "execution_count": null,
   "metadata": {},
   "outputs": [],
   "source": [
    "#| export\n",
    "\n",
    "def test_session(\n",
    "    queries,\n",
    "    expected_outputs,# list of expected dfs\n",
    "    ie_funcs=None,# List of [name,func,in_scheme,out_scheme]\n",
    "    csvs=None,# List of [name,df]\n",
    "    debug=False,\n",
    "    ):\n",
    "\n",
    "    sess=Session()\n",
    "\n",
    "    # add data\n",
    "    if csvs:\n",
    "        for name,df in csvs:\n",
    "            sess.import_rel(name,df)\n",
    "    # add ies\n",
    "    if ie_funcs:\n",
    "        for name,func,in_scheme,out_scheme in ie_funcs:\n",
    "            sess.register_function(name,func,in_scheme,out_scheme)\n",
    "    \n",
    "    if not isinstance(queries,list):\n",
    "        queries = [queries]\n",
    "    if not isinstance(expected_outputs,list):\n",
    "        expected_outputs = [expected_outputs]\n",
    "    for query,expected in zip(queries,expected_outputs):\n",
    "        if debug and query == queries[-1]:\n",
    "            print(query)\n",
    "            q,root = sess.plan_query(query)\n",
    "            draw(q)\n",
    "            res = sess.execute_plan(q)\n",
    "        else:\n",
    "            res = sess.export(query)\n",
    "        # used for debugging, we return the results of the first query without expected\n",
    "        if expected is None:\n",
    "            return query\n",
    "        assert_df_equals(res,expected)\n",
    "        "
   ]
  },
  {
   "cell_type": "markdown",
   "metadata": {},
   "source": [
    "## Basic tests"
   ]
  },
  {
   "cell_type": "code",
   "execution_count": null,
   "metadata": {},
   "outputs": [],
   "source": [
    "# test assignment\n",
    "test_session(\n",
    "    \"\"\"\n",
    "        new Relation(int, int)\n",
    "        x = 1\n",
    "        y = 2\n",
    "        z = y\n",
    "        Relation(x, y)\n",
    "        Relation(y, x)\n",
    "        ?Relation(X, x)\n",
    "    \"\"\",\n",
    "    pd.DataFrame([[2]],columns=['X']),\n",
    ")"
   ]
  },
  {
   "cell_type": "code",
   "execution_count": null,
   "metadata": {},
   "outputs": [],
   "source": [
    "# test copy table rule\n",
    "test_session(\n",
    "    \"\"\"\n",
    "        new B(int, int)\n",
    "        B(1, 1)\n",
    "        B(1, 2)\n",
    "        B(2, 3)\n",
    "        A(X, Y) <- B(X, Y)\n",
    "        ?A(X, Y)\n",
    "    \"\"\",\n",
    "    pd.DataFrame(\n",
    "        [[1,1],[1,2],[2,3]],\n",
    "        columns=['X','Y']\n",
    "    )\n",
    ")"
   ]
  },
  {
   "cell_type": "code",
   "execution_count": null,
   "metadata": {},
   "outputs": [],
   "source": [
    "# test join 2 tables\n",
    "test_session(\n",
    "    \"\"\"\n",
    "        new B(int, int)\n",
    "        new C(int, int)\n",
    "        B(1, 1)\n",
    "        B(1, 2)\n",
    "        B(2, 3)\n",
    "        C(2, 2)\n",
    "        C(1, 1)\n",
    "        D(X, Y, Z) <- B(X, Y), C(Y, Z)\n",
    "        ?D(X, Y, Z)\n",
    "    \"\"\",\n",
    "    pd.DataFrame(\n",
    "        [[1,2,2],[1,1,1]],\n",
    "        columns=['X','Y','Z']\n",
    "    )\n",
    ")"
   ]
  },
  {
   "cell_type": "code",
   "execution_count": null,
   "metadata": {},
   "outputs": [],
   "source": [
    "# rel with same free var\n",
    "test_session(\n",
    "    \"\"\"\n",
    "        new B(int, int)\n",
    "        B(1, 1)\n",
    "        B(1, 2)\n",
    "        B(2, 2)\n",
    "        A(X) <- B(X, X)\n",
    "        ?A(X)\n",
    "    \"\"\",\n",
    "    pd.DataFrame(\n",
    "        [[1],[2]],\n",
    "        columns=['X']\n",
    "    )\n",
    ")"
   ]
  },
  {
   "cell_type": "code",
   "execution_count": null,
   "metadata": {},
   "outputs": [],
   "source": [
    "# union with same vars\n",
    "test_session(\n",
    "    \"\"\"\n",
    "        new B(int, int)\n",
    "        new C(int, int)\n",
    "        B(1, 1)\n",
    "        B(1, 2)\n",
    "        B(2, 3)\n",
    "        C(2, 2)\n",
    "        C(1, 1)\n",
    "\n",
    "        A(X, Y) <- B(X, Y)\n",
    "        A(X, Y) <- C(X, Y)\n",
    "        ?A(X, Y)\n",
    "    \"\"\",\n",
    "    pd.DataFrame(\n",
    "        [[1,1],[1,2],[2,2],[2,3]],\n",
    "        columns=['X','Y']\n",
    "    )\n",
    ")"
   ]
  },
  {
   "cell_type": "code",
   "execution_count": null,
   "metadata": {},
   "outputs": [],
   "source": [
    "# union with different vars\n",
    "test_session(\n",
    "    \"\"\"\n",
    "        new B(int, int)\n",
    "        new C(int, int)\n",
    "        B(1, 1)\n",
    "        B(1, 2)\n",
    "        B(2, 3)\n",
    "        C(2, 2)\n",
    "        C(1, 1)\n",
    "\n",
    "        A(X, Y) <- B(X, Y)\n",
    "        A(Z, W) <- C(Z, W)\n",
    "        ?A(X, Y)\n",
    "    \"\"\",\n",
    "    pd.DataFrame(\n",
    "        [[1,1],[1,2],[2,2],[2,3]],\n",
    "        columns=['X','Y']\n",
    "    )\n",
    ")"
   ]
  },
  {
   "cell_type": "code",
   "execution_count": null,
   "metadata": {},
   "outputs": [],
   "source": [
    "# test project\n",
    "test_session(\n",
    "    \"\"\"\n",
    "            new B(int, int)\n",
    "            B(1, 1)\n",
    "            B(1, 2)\n",
    "\n",
    "            A(X) <- B(X, Y)\n",
    "            ?A(X)\n",
    "    \"\"\",\n",
    "    pd.DataFrame(\n",
    "        [[1]],\n",
    "        columns=['X']\n",
    "    )\n",
    ")"
   ]
  },
  {
   "cell_type": "code",
   "execution_count": null,
   "metadata": {},
   "outputs": [],
   "source": [
    "# add fact after rule\n",
    "test_session(\n",
    "    \"\"\"\n",
    "            new B(int, int)\n",
    "            B(1, 1)\n",
    "            A(X, Y) <- B(X, Y)\n",
    "            B(1, 2)\n",
    "            ?A(Z, W)\n",
    "    \"\"\",\n",
    "    pd.DataFrame(\n",
    "        [[1,1],[1,2]],\n",
    "        columns=['Z','W']\n",
    "    )\n",
    ")"
   ]
  },
  {
   "cell_type": "code",
   "execution_count": null,
   "metadata": {},
   "outputs": [],
   "source": [
    "# test data types\n",
    "test_session(\n",
    "    \"\"\"\n",
    "            new B(int, str, span)\n",
    "            B(1, \"2\", [1, 2))\n",
    "            ?B(X, Y, Z)\n",
    "    \"\"\",\n",
    "    pd.DataFrame(\n",
    "        [[1,\"2\",Span(1,2)]],\n",
    "        columns=['X','Y','Z']\n",
    "    )\n",
    ")"
   ]
  },
  {
   "cell_type": "code",
   "execution_count": null,
   "metadata": {},
   "outputs": [],
   "source": [
    "# join same relation\n",
    "test_session(\n",
    "    \"\"\"\n",
    "            new Parent(str, str)\n",
    "            Parent(\"Sam\", \"Noah\")\n",
    "            Parent(\"Noah\", \"Austin\")\n",
    "            Parent(\"Austin\", \"Stephen\")\n",
    "\n",
    "\n",
    "            GrandParent(G, C) <- Parent(G, M), Parent(M, C)\n",
    "            ?GrandParent(X, \"Austin\")\n",
    "    \"\"\",\n",
    "    pd.DataFrame(\n",
    "        [['Sam']],\n",
    "        columns=['X']\n",
    "    )\n",
    ")"
   ]
  },
  {
   "cell_type": "code",
   "execution_count": null,
   "metadata": {},
   "outputs": [],
   "source": []
  },
  {
   "cell_type": "code",
   "execution_count": null,
   "metadata": {},
   "outputs": [],
   "source": []
  },
  {
   "cell_type": "code",
   "execution_count": null,
   "metadata": {},
   "outputs": [],
   "source": []
  }
 ],
 "metadata": {
  "kernelspec": {
   "display_name": "python3",
   "language": "python",
   "name": "python3"
  }
 },
 "nbformat": 4,
 "nbformat_minor": 4
}
