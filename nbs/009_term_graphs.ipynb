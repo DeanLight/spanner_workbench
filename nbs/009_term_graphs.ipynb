{
 "cells": [
  {
   "cell_type": "markdown",
   "metadata": {},
   "source": [
    "# Term Graphs\n",
    "> Term graphs that encode logic of rules as graphs over RA operators and ie function executions"
   ]
  },
  {
   "cell_type": "code",
   "execution_count": null,
   "metadata": {},
   "outputs": [],
   "source": [
    "#| default_exp term_graph"
   ]
  },
  {
   "cell_type": "code",
   "execution_count": null,
   "metadata": {},
   "outputs": [],
   "source": [
    "#| hide\n",
    "from nbdev.showdoc import show_doc\n",
    "\n",
    "%load_ext autoreload\n",
    "%autoreload 2"
   ]
  },
  {
   "cell_type": "code",
   "execution_count": null,
   "metadata": {},
   "outputs": [],
   "source": [
    "#| export\n",
    "\n",
    "from IPython.display import display\n",
    "import pandas as pd\n",
    "import os\n",
    "import networkx as nx\n",
    "import itertools\n",
    "import logging\n",
    "import pytest\n",
    "from collections import defaultdict\n",
    "logger = logging.getLogger(__name__)\n",
    "\n",
    "from graph_rewrite import draw\n",
    "\n",
    "from spannerlib.utils import checkLogs,serialize_df_values,serialize_graph,get_new_node_name\n",
    "from spannerlib.span import Span\n",
    "from spannerlib.data_types import (\n",
    "    _infer_relation_schema,\n",
    "    Var,\n",
    "    FreeVar,\n",
    "    RelationDefinition,\n",
    "    Relation,\n",
    "    IEFunction,\n",
    "    IERelation,\n",
    "    Rule,\n",
    "    pretty,\n",
    ")"
   ]
  },
  {
   "cell_type": "markdown",
   "metadata": {},
   "source": [
    "Here we have functions for manipulating rules into term graphs"
   ]
  },
  {
   "cell_type": "code",
   "execution_count": null,
   "metadata": {},
   "outputs": [],
   "source": [
    "# TODO, redo the rule to term graph to have:\n",
    "# a relation to graph function with the select and project stuff\n",
    "# an ie relation to graph, that adds the new ie function idea\n",
    "\n"
   ]
  },
  {
   "cell_type": "code",
   "execution_count": null,
   "metadata": {},
   "outputs": [],
   "source": [
    "#| export\n",
    "def get_bounding_order(rule:Rule):\n",
    "    \"\"\"Get an order of evaluation for the body of a rule\n",
    "    this is a very naive ordering that can be heavily optimized\"\"\"\n",
    "\n",
    "    # we start with all relations since they can be bound at once\n",
    "    order = list()\n",
    "    bounded_vars = set()\n",
    "    for rel in rule.body:\n",
    "        if isinstance(rel,Relation):\n",
    "            order.append(rel)\n",
    "            for term in rel.terms:\n",
    "                if isinstance(term,FreeVar):\n",
    "                    bounded_vars.add(term)\n",
    "\n",
    "    unordered_ierelations = {rel for rel in rule.body if isinstance(rel,IERelation)}\n",
    "    while len(unordered_ierelations) > 0:\n",
    "        for ie_rel in unordered_ierelations:\n",
    "            in_free_vars = {term for term in ie_rel.in_terms if isinstance(term,FreeVar)}\n",
    "            if in_free_vars.issubset(bounded_vars):\n",
    "                order.append(ie_rel)\n",
    "                out_free_vars = {term for term in ie_rel.out_terms if isinstance(term,FreeVar)}\n",
    "                bounded_vars = bounded_vars.union(out_free_vars)\n",
    "                unordered_ierelations.remove(ie_rel)\n",
    "                break\n",
    "\n",
    "    return order"
   ]
  },
  {
   "cell_type": "code",
   "execution_count": null,
   "metadata": {},
   "outputs": [
    {
     "data": {
      "text/plain": [
       "[Relation(name='S', terms=[FreeVar(name='X'), [1,4)]),\n",
       " Relation(name='S2', terms=[FreeVar(name='X'), FreeVar(name='A'), FreeVar(name='B')]),\n",
       " IERelation(name='T', in_terms=[FreeVar(name='X'), 1], out_terms=[FreeVar(name='Y'), FreeVar(name='Z')]),\n",
       " IERelation(name='T2', in_terms=[FreeVar(name='X'), FreeVar(name='Y')], out_terms=[FreeVar(name='W'), FreeVar(name='Z')])]"
      ]
     },
     "execution_count": null,
     "metadata": {},
     "output_type": "execute_result"
    }
   ],
   "source": [
    "r = Rule(\n",
    "    head=Relation(name='R', terms=[FreeVar(name='X'), FreeVar(name='Y'), FreeVar(name='Z')]),\n",
    "    body=[\n",
    "        IERelation(name='T2', in_terms=[FreeVar(name='X'), FreeVar(name='Y')], out_terms=[FreeVar(name='W'), FreeVar(name='Z')]),\n",
    "        IERelation(name='T', in_terms=[FreeVar(name='X'), 1], out_terms=[FreeVar(name='Y'), FreeVar(name='Z')]),\n",
    "        Relation(name='S', terms=[FreeVar(name='X'), Span(start=1,end=4)]),\n",
    "        Relation(name='S2', terms=[FreeVar(name='X'), FreeVar(name='A'),FreeVar(name='B')]),\n",
    "\n",
    "    ])\n",
    "\n",
    "order = _get_bounding_order(r)\n",
    "assert [o.name for o in order ] == ['S','S2', 'T', 'T2']\n",
    "order"
   ]
  },
  {
   "cell_type": "code",
   "execution_count": null,
   "metadata": {},
   "outputs": [],
   "source": []
  },
  {
   "cell_type": "code",
   "execution_count": null,
   "metadata": {},
   "outputs": [],
   "source": [
    "#| export\n",
    "def add_select_constants(g,source,terms):\n",
    "    \"\"\"\n",
    "    adds a select node as a father to source, with the constant terms defined in terms\n",
    "    if no constant terms are defined, does nothing\n",
    "    returns the select node if it was added or the source not if not\n",
    "    \"\"\"\n",
    "\n",
    "def add_product_constants(g,source,terms):\n",
    "    \"\"\"\n",
    "    adds a product node as a father to source, with the constant terms defined in terms\n",
    "    if no constant terms are defined, does nothing\n",
    "    returns the product node if it was added or the source not if not\n",
    "    \"\"\"\n",
    "\n"
   ]
  },
  {
   "cell_type": "code",
   "execution_count": null,
   "metadata": {},
   "outputs": [],
   "source": [
    "#| export\n",
    "def add_relation(g,rel):\n",
    "    \"\"\"\n",
    "    adds a relation to the graph\n",
    "    WLOG a relation of the form R(X,Y,const)\n",
    "    should be of the abstract form get(R)<-rename(0:X,1:Y)->select(2:const)\n",
    "\n",
    "    returns (top most node, bottom most node) \n",
    "    \"\"\"\n",
    "    pass\n",
    "\n",
    "def add_ie_relation(g,rel):\n",
    "    \"\"\"\n",
    "    adds an ie relation to the graph\n",
    "    WLOG a relation of the form f(X,Y,c1)->(Z,X,c2)\n",
    "    should be of the abstract form \n",
    "    project(X,Y)<-product(2:c1)<-index()<-ie_map(f)<-select(2,c2)<-join(on=[index,X])<-project(not_on=[index])\n",
    "                                    <------------------------------      \n",
    "    To ensure we are connecting inputs to the correct outputs\n",
    "\n",
    "    returns (top most node, bottom most node)\n",
    "    \"\"\"\n",
    "    pass"
   ]
  },
  {
   "cell_type": "code",
   "execution_count": null,
   "metadata": {},
   "outputs": [],
   "source": [
    "def rule_to_graph(rule:Rule,rule_id):\n",
    "    \"\"\"\n",
    "    converts a rule to a graph\n",
    "    \"\"\"\n",
    "\n",
    "    # orders relations by bounding order\n",
    "\n",
    "    # for each relation/ie relation add it to the graph\n",
    "    # connect each consecutive top most node to a join node\n",
    "\n",
    "    # connect each bottom most node of an ie function to the join node that came before it\n",
    "    # # TODO we can make this smarter by deriving the best dependncies graph \n",
    "    # between body relations and join according to that graph - this is a future optimization\n",
    "\n",
    "    \n",
    "    # add a project and union to the last body join to get the head relation\n",
    "\n",
    "    # mark all nodes by the rule id for easy removal later\n",
    "    \n",
    "    pass"
   ]
  },
  {
   "cell_type": "code",
   "execution_count": null,
   "metadata": {},
   "outputs": [],
   "source": [
    "#| export\n",
    "\n",
    "# TODO replace this with get new node name\n",
    "def _name_node(counter):\n",
    "\n",
    "    if isinstance(counter,itertools.count):\n",
    "        return next(counter)\n",
    "    else: # if its just the name to give\n",
    "        return counter\n",
    "\n",
    "def _select_if_needed(g,node_counter,source_node,terms):\n",
    "    \"\"\"add a project node as a father of source_node if the terms are not all free variables\n",
    "    returns the source_node if no project is needed, or the project node if it is needed\n",
    "    the name of the project node should be supplied\n",
    "    \"\"\"\n",
    "\n",
    "    need_select = any(not isinstance(term,FreeVar) for term in terms)\n",
    "    if not need_select:\n",
    "        return source_node\n",
    "    \n",
    "    select_pos_val = list()\n",
    "    for i,term in enumerate(terms):\n",
    "        if not isinstance(term,FreeVar):\n",
    "            select_pos_val.append((i,term))\n",
    "    \n",
    "    select_name = _name_node(node_counter)\n",
    "    g.add_node(select_name, op='select',theta=select_pos_val)\n",
    "    g.add_edge(select_name,source_node)\n",
    "    return select_name\n",
    "\n",
    "def _product_if_needed(g,node_counter,source_node,terms):\n",
    "    \"\"\"add a product node as a father of source_node if the terms are not all free variables\n",
    "    returns the source_node if no product is needed, or the product node if it is needed\n",
    "    the name of the product node should be supplied\n",
    "    \"\"\"\n",
    "\n",
    "    need_product = any(not isinstance(term,FreeVar) for term in terms)\n",
    "    if not need_product:\n",
    "        return source_node\n",
    "    \n",
    "    product_pos_val = list()\n",
    "    for i,term in enumerate(terms):\n",
    "        if not isinstance(term,FreeVar):\n",
    "            product_pos_val.append((i,term))\n",
    "    \n",
    "    product_name = _name_node(node_counter)\n",
    "    g.add_node(product_name, op='product',theta=product_pos_val)\n",
    "    g.add_edge(product_name,source_node)\n",
    "    return product_name\n",
    "\n",
    "# TODO from here, iteratively build the joins each time using _project_if_needed on the outrel and inrel of the relations/ierelaitons\n",
    "def _rule_to_term_graph(rule:Rule,rule_id) -> nx.DiGraph:\n",
    "    \"\"\"Convert a rule to a directed RA+IE term graph\"\"\"\n",
    "    node_counter = itertools.count()\n",
    "    G = nx.DiGraph()\n",
    "    # add nodes for all relations\n",
    "    body_term_connectors = list()\n",
    "    body_rels = _get_bounding_order(rule)\n",
    "\n",
    "    # create derivation for each rel in the body\n",
    "    for rel_idx,rel in enumerate(body_rels):\n",
    "        if isinstance(rel,Relation):\n",
    "            G.add_node(rel.name,rel=rel.name)\n",
    "            rename_node = _name_node(node_counter)\n",
    "            G.add_node(rename_node, op='rename',names=[(i,term.name) for i,term in enumerate(rel.terms) if isinstance(term,FreeVar)])\n",
    "            G.add_edge(rename_node,rel.name)\n",
    "            top_rel_node = _select_if_needed(G,node_counter,rename_node,rel.terms)\n",
    "            \n",
    "            body_term_connectors.append((None,top_rel_node))\n",
    "\n",
    "        elif isinstance(rel,IERelation):\n",
    "            get_input_node_name =_name_node(node_counter)\n",
    "            calc_node_name = _name_node(node_counter)\n",
    "            G.add_node(get_input_node_name, op='project', on=[term.name for term in rel.in_terms if isinstance(term,FreeVar)])\n",
    "            G.add_node(calc_node_name, op='calc',func=rel.name)\n",
    "\n",
    "            product_name = _name_node(node_counter)\n",
    "            calc_son = _product_if_needed(G,node_counter,get_input_node_name,rel.in_terms)\n",
    "            G.add_edge(calc_node_name,calc_son)\n",
    "            rename_node = _name_node(node_counter)\n",
    "            G.add_node(rename_node, op='rename',names=[(i,term.name) for i,term in enumerate(rel.out_terms) if isinstance(term,FreeVar)])\n",
    "            G.add_edge(rename_node,calc_node_name)\n",
    "            select_name = _name_node(node_counter)\n",
    "            top_rel_node = _select_if_needed(G,node_counter,rename_node,rel.out_terms)\n",
    "            body_term_connectors.append((get_input_node_name,top_rel_node))\n",
    "\n",
    "    # connect outputs of different rels via joins\n",
    "    # and connect input of ie functons into the join\n",
    "    for i,(connectors,rel) in enumerate(zip(body_term_connectors,body_rels)):\n",
    "        if i == 0:\n",
    "            prev_top = connectors[1]\n",
    "            continue\n",
    "\n",
    "        current_top = connectors[1]\n",
    "\n",
    "        join_node_name = _name_node(node_counter)\n",
    "        G.add_node(join_node_name, op='join')\n",
    "        G.add_edge(join_node_name,prev_top)\n",
    "        G.add_edge(join_node_name,current_top)\n",
    "\n",
    "        if isinstance(rel,IERelation):\n",
    "            ie_bottom = connectors[0]\n",
    "            G.add_edge(ie_bottom,prev_top)\n",
    "\n",
    "\n",
    "        prev_top = join_node_name\n",
    "\n",
    "    # project all assignments into the head\n",
    "    head_project_name = _name_node(node_counter)\n",
    "    G.add_node(head_project_name, op='project', on=[term.name for term in rule.head.terms],rel=f'_{rule.head.name}_{rule_id}')\n",
    "    G.add_edge(head_project_name,prev_top)\n",
    "\n",
    "    # add a union for each rule for the given head\n",
    "    G.add_node(rule.head.name,op='union',rel=rule.head.name)\n",
    "    G.add_edge(rule.head.name,head_project_name)\n",
    "\n",
    "    # add rule id for each node\n",
    "    for u in G.nodes:\n",
    "        G.nodes[u]['rule_id'] = {rule_id}\n",
    "    return G"
   ]
  },
  {
   "cell_type": "code",
   "execution_count": null,
   "metadata": {},
   "outputs": [
    {
     "data": {
      "text/html": [
       "<img src=\"https://mermaid.ink/img/CmZsb3djaGFydCBUQgpTWyJTCnJlbD0jcXVvdDtTI3F1b3Q7LCBydWxlX2lkPXswfSJdCjBbIjAKb3A9I3F1b3Q7cmVuYW1lI3F1b3Q7LCBuYW1lcz1bKDAsICNxdW90O1gjcXVvdDspXSwgcnVsZV9pZD17MH0iXQoxWyIxCm9wPSNxdW90O3NlbGVjdCNxdW90OywgdGhldGE9WygxLCBbMSw0KSldLCBydWxlX2lkPXswfSJdClMyWyJTMgpyZWw9I3F1b3Q7UzIjcXVvdDssIHJ1bGVfaWQ9ezB9Il0KMlsiMgpvcD0jcXVvdDtyZW5hbWUjcXVvdDssIG5hbWVzPVsoMCwgI3F1b3Q7WCNxdW90OyksICgxLCAjcXVvdDtBI3F1b3Q7KSwgKDIsICNxdW90O0IjcXVvdDspXSwgcnVsZV9pZD17MH0iXQozWyIzCm9wPSNxdW90O3Byb2plY3QjcXVvdDssIG9uPVsjcXVvdDtYI3F1b3Q7XSwgcnVsZV9pZD17MH0iXQo0WyI0Cm9wPSNxdW90O2NhbGMjcXVvdDssIGZ1bmM9I3F1b3Q7VCNxdW90OywgcnVsZV9pZD17MH0iXQo2WyI2Cm9wPSNxdW90O3Byb2R1Y3QjcXVvdDssIHRoZXRhPVsoMSwgMSldLCBydWxlX2lkPXswfSJdCjdbIjcKb3A9I3F1b3Q7cmVuYW1lI3F1b3Q7LCBuYW1lcz1bKDAsICNxdW90O1kjcXVvdDspLCAoMSwgI3F1b3Q7WiNxdW90OyldLCBydWxlX2lkPXswfSJdCjlbIjkKb3A9I3F1b3Q7cHJvamVjdCNxdW90Oywgb249WyNxdW90O1gjcXVvdDssICNxdW90O1kjcXVvdDtdLCBydWxlX2lkPXswfSJdCjEwWyIxMApvcD0jcXVvdDtjYWxjI3F1b3Q7LCBmdW5jPSNxdW90O1QyI3F1b3Q7LCBydWxlX2lkPXswfSJdCjEyWyIxMgpvcD0jcXVvdDtyZW5hbWUjcXVvdDssIG5hbWVzPVsoMCwgI3F1b3Q7VyNxdW90OyksICgxLCAjcXVvdDtaI3F1b3Q7KV0sIHJ1bGVfaWQ9ezB9Il0KMTRbIjE0Cm9wPSNxdW90O2pvaW4jcXVvdDssIHJ1bGVfaWQ9ezB9Il0KMTVbIjE1Cm9wPSNxdW90O2pvaW4jcXVvdDssIHJ1bGVfaWQ9ezB9Il0KMTZbIjE2Cm9wPSNxdW90O2pvaW4jcXVvdDssIHJ1bGVfaWQ9ezB9Il0KMTdbIjE3Cm9wPSNxdW90O3Byb2plY3QjcXVvdDssIG9uPVsjcXVvdDtYI3F1b3Q7LCAjcXVvdDtZI3F1b3Q7LCAjcXVvdDtaI3F1b3Q7XSwgcmVsPSNxdW90O19SXzAjcXVvdDssIHJ1bGVfaWQ9ezB9Il0KUlsiUgpvcD0jcXVvdDt1bmlvbiNxdW90OywgcmVsPSNxdW90O1IjcXVvdDssIHJ1bGVfaWQ9ezB9Il0KMCAtLT4gUwoxIC0tPiAwCjIgLS0+IFMyCjMgLS0+IDE0CjQgLS0+IDYKNiAtLT4gMwo3IC0tPiA0CjkgLS0+IDE1CjEwIC0tPiA5CjEyIC0tPiAxMAoxNCAtLT4gMQoxNCAtLT4gMgoxNSAtLT4gMTQKMTUgLS0+IDcKMTYgLS0+IDE1CjE2IC0tPiAxMgoxNyAtLT4gMTYKUiAtLT4gMTcK\"/>"
      ],
      "text/plain": [
       "<IPython.core.display.Image object>"
      ]
     },
     "metadata": {},
     "output_type": "display_data"
    }
   ],
   "source": [
    "#TODO FROM HERE add labels to nodes we can labels\n",
    "# add HEAD projection node \n",
    "# maybe add free vars\n",
    "g = _rule_to_term_graph(r,0)\n",
    "draw(g)\n",
    "serialize_graph(g)\n",
    "assert serialize_graph(g) == ([('S', { 'rel': 'S', 'rule_id': {0}}),\n",
    "  (0, {'op': 'rename', 'names': [(0, 'X')], 'rule_id': {0}}),\n",
    "  (1, {'op': 'select', 'theta': [(1, Span(1,4))], 'rule_id': {0}}),\n",
    "  ('S2', { 'rel': 'S2', 'rule_id': {0}}),\n",
    "  (2,\n",
    "   {'op': 'rename', 'names': [(0, 'X'), (1, 'A'), (2, 'B')], 'rule_id': {0}}),\n",
    "  (3, {'op': 'project', 'on': ['X'], 'rule_id': {0}}),\n",
    "  (4, {'op': 'calc', 'func': 'T', 'rule_id': {0}}),\n",
    "  (6, {'op': 'product', 'theta': [(1, 1)], 'rule_id': {0}}),\n",
    "  (7, {'op': 'rename', 'names': [(0, 'Y'), (1, 'Z')], 'rule_id': {0}}),\n",
    "  (9, {'op': 'project', 'on': ['X', 'Y'], 'rule_id': {0}}),\n",
    "  (10, {'op': 'calc', 'func': 'T2', 'rule_id': {0}}),\n",
    "  (12, {'op': 'rename', 'names': [(0, 'W'), (1, 'Z')], 'rule_id': {0}}),\n",
    "  (14, {'op': 'join', 'rule_id': {0}}),\n",
    "  (15, {'op': 'join', 'rule_id': {0}}),\n",
    "  (16, {'op': 'join', 'rule_id': {0}}),\n",
    "  (17,\n",
    "   {'op': 'project', 'on': ['X', 'Y', 'Z'], 'rel': '_R_0', 'rule_id': {0}}),\n",
    "  ('R', {'op': 'union', 'rel': 'R', 'rule_id': {0}})],\n",
    " [(0, 'S', {}),\n",
    "  (1, 0, {}),\n",
    "  (2, 'S2', {}),\n",
    "  (3, 14, {}),\n",
    "  (4, 6, {}),\n",
    "  (6, 3, {}),\n",
    "  (7, 4, {}),\n",
    "  (9, 15, {}),\n",
    "  (10, 9, {}),\n",
    "  (12, 10, {}),\n",
    "  (14, 1, {}),\n",
    "  (14, 2, {}),\n",
    "  (15, 14, {}),\n",
    "  (15, 7, {}),\n",
    "  (16, 15, {}),\n",
    "  (16, 12, {}),\n",
    "  (17, 16, {}),\n",
    "  ('R', 17, {})])"
   ]
  },
  {
   "cell_type": "code",
   "execution_count": null,
   "metadata": {},
   "outputs": [
    {
     "name": "stdout",
     "output_type": "stream",
     "text": [
      "R(X,Y) <- S(X,Y),S2(X,A,1)\n",
      "R(X,Y) <- S(X,Y)\n",
      "R2(X,Y) <- S3(X,Y),S2(X,A,1)\n"
     ]
    }
   ],
   "source": [
    "r1 = Rule(\n",
    "    head=Relation(name='R', terms=[FreeVar(name='X'), FreeVar(name='Y')]),\n",
    "    body=[\n",
    "        Relation(name='S', terms=[FreeVar(name='X'),FreeVar(name='Y')]),\n",
    "        Relation(name='S2', terms=[FreeVar(name='X'), FreeVar(name='A'),1]),\n",
    "    ])\n",
    "\n",
    "r2 = Rule(\n",
    "    head=Relation(name='R', terms=[FreeVar(name='X'), FreeVar(name='Y')]),\n",
    "    body=[\n",
    "        Relation(name='S', terms=[FreeVar(name='X'),FreeVar(name='Y')]),\n",
    "    ])\n",
    "\n",
    "r3 = Rule(\n",
    "    head=Relation(name='R2', terms=[FreeVar(name='X'), FreeVar(name='Y')]),\n",
    "    body=[\n",
    "        Relation(name='S3', terms=[FreeVar(name='X'),FreeVar(name='Y')]),\n",
    "        Relation(name='S2', terms=[FreeVar(name='X'), FreeVar(name='A'),1]),\n",
    "    ])\n",
    "rules = [r1,r2,r3]\n",
    "for r in rules:\n",
    "    print(pretty(r))\n",
    "t1,t2,t3 = [_rule_to_term_graph(r,i) for i,r in enumerate(rules)]"
   ]
  },
  {
   "cell_type": "code",
   "execution_count": null,
   "metadata": {},
   "outputs": [],
   "source": [
    "#| export\n",
    "def graph_compose(g1,g2,mapping_dict,debug=False):\n",
    "    \"\"\"compose two graphs with a mapping dict\"\"\"\n",
    "    # if there is a node in g2 that is renamed but has a name collision with an existing node that is not renamed, we will rename the existing node to a uniq name\n",
    "    # making new names into a digraph is a dirty hack, TODO resolve this\n",
    "    save_new_names= nx.DiGraph()\n",
    "    original_mapping_dict = mapping_dict.copy()\n",
    "    for u2 in g2.nodes():\n",
    "        if u2 not in mapping_dict and u2 in g1.nodes():\n",
    "            mapping_dict[u2] = get_new_node_name(g2,avoid_names_from=[g1,save_new_names])\n",
    "            save_new_names.add_node(mapping_dict[u2])\n",
    "    if debug:\n",
    "        return mapping_dict\n",
    "    g2 = nx.relabel_nodes(g2,mapping_dict,copy=True)\n",
    "\n",
    "    merged_graph = nx.compose(g1,g2)\n",
    "    for old_name,new_name in original_mapping_dict.items():\n",
    "        rule_ids1 = g1.nodes[old_name].get('rule_id',set())\n",
    "        rule_ids2 = g2.nodes[new_name].get('rule_id',set())\n",
    "        merged_rule_ids = rule_ids1.union(rule_ids2)\n",
    "        merged_graph.nodes[new_name]['rule_id'] = merged_rule_ids\n",
    "\n",
    "\n",
    "\n",
    "    return merged_graph\n"
   ]
  },
  {
   "cell_type": "code",
   "execution_count": null,
   "metadata": {},
   "outputs": [
    {
     "data": {
      "text/html": [
       "<img src=\"https://mermaid.ink/img/CmZsb3djaGFydCBUQgpTWyJTCnJlbD0jcXVvdDtTI3F1b3Q7LCBydWxlX2lkPXswfSJdCjBbIjAKb3A9I3F1b3Q7cmVuYW1lI3F1b3Q7LCBuYW1lcz1bKDAsICNxdW90O1gjcXVvdDspLCAoMSwgI3F1b3Q7WSNxdW90OyldLCBydWxlX2lkPXswfSJdClMyWyJTMgpyZWw9I3F1b3Q7UzIjcXVvdDssIHJ1bGVfaWQ9ezB9Il0KMVsiMQpvcD0jcXVvdDtyZW5hbWUjcXVvdDssIG5hbWVzPVsoMCwgI3F1b3Q7WCNxdW90OyksICgxLCAjcXVvdDtBI3F1b3Q7KV0sIHJ1bGVfaWQ9ezB9Il0KMlsiMgpvcD0jcXVvdDtzZWxlY3QjcXVvdDssIHRoZXRhPVsoMiwgMSldLCBydWxlX2lkPXswfSJdCjNbIjMKb3A9I3F1b3Q7am9pbiNxdW90OywgcnVsZV9pZD17MH0iXQo0WyI0Cm9wPSNxdW90O3Byb2plY3QjcXVvdDssIG9uPVsjcXVvdDtYI3F1b3Q7LCAjcXVvdDtZI3F1b3Q7XSwgcmVsPSNxdW90O19SXzAjcXVvdDssIHJ1bGVfaWQ9ezB9Il0KUlsiUgpvcD0jcXVvdDt1bmlvbiNxdW90OywgcmVsPSNxdW90O1IjcXVvdDssIHJ1bGVfaWQ9ezB9Il0KMCAtLT4gUwoxIC0tPiBTMgoyIC0tPiAxCjMgLS0+IDAKMyAtLT4gMgo0IC0tPiAzClIgLS0+IDQK\"/>"
      ],
      "text/plain": [
       "<IPython.core.display.Image object>"
      ]
     },
     "metadata": {},
     "output_type": "display_data"
    },
    {
     "data": {
      "text/html": [
       "<img src=\"https://mermaid.ink/img/CmZsb3djaGFydCBUQgpTWyJTCnJlbD0jcXVvdDtTI3F1b3Q7LCBydWxlX2lkPXsxfSJdCjBbIjAKb3A9I3F1b3Q7cmVuYW1lI3F1b3Q7LCBuYW1lcz1bKDAsICNxdW90O1gjcXVvdDspLCAoMSwgI3F1b3Q7WSNxdW90OyldLCBydWxlX2lkPXsxfSJdCjFbIjEKb3A9I3F1b3Q7cHJvamVjdCNxdW90Oywgb249WyNxdW90O1gjcXVvdDssICNxdW90O1kjcXVvdDtdLCByZWw9I3F1b3Q7X1JfMSNxdW90OywgcnVsZV9pZD17MX0iXQpSWyJSCm9wPSNxdW90O3VuaW9uI3F1b3Q7LCByZWw9I3F1b3Q7UiNxdW90OywgcnVsZV9pZD17MX0iXQowIC0tPiBTCjEgLS0+IDAKUiAtLT4gMQo=\"/>"
      ],
      "text/plain": [
       "<IPython.core.display.Image object>"
      ]
     },
     "metadata": {},
     "output_type": "display_data"
    },
    {
     "data": {
      "text/html": [
       "<img src=\"https://mermaid.ink/img/CmZsb3djaGFydCBUQgpTM1siUzMKcmVsPSNxdW90O1MzI3F1b3Q7LCBydWxlX2lkPXsyfSJdCjBbIjAKb3A9I3F1b3Q7cmVuYW1lI3F1b3Q7LCBuYW1lcz1bKDAsICNxdW90O1gjcXVvdDspLCAoMSwgI3F1b3Q7WSNxdW90OyldLCBydWxlX2lkPXsyfSJdClMyWyJTMgpyZWw9I3F1b3Q7UzIjcXVvdDssIHJ1bGVfaWQ9ezJ9Il0KMVsiMQpvcD0jcXVvdDtyZW5hbWUjcXVvdDssIG5hbWVzPVsoMCwgI3F1b3Q7WCNxdW90OyksICgxLCAjcXVvdDtBI3F1b3Q7KV0sIHJ1bGVfaWQ9ezJ9Il0KMlsiMgpvcD0jcXVvdDtzZWxlY3QjcXVvdDssIHRoZXRhPVsoMiwgMSldLCBydWxlX2lkPXsyfSJdCjNbIjMKb3A9I3F1b3Q7am9pbiNxdW90OywgcnVsZV9pZD17Mn0iXQo0WyI0Cm9wPSNxdW90O3Byb2plY3QjcXVvdDssIG9uPVsjcXVvdDtYI3F1b3Q7LCAjcXVvdDtZI3F1b3Q7XSwgcmVsPSNxdW90O19SMl8yI3F1b3Q7LCBydWxlX2lkPXsyfSJdClIyWyJSMgpvcD0jcXVvdDt1bmlvbiNxdW90OywgcmVsPSNxdW90O1IyI3F1b3Q7LCBydWxlX2lkPXsyfSJdCjAgLS0+IFMzCjEgLS0+IFMyCjIgLS0+IDEKMyAtLT4gMAozIC0tPiAyCjQgLS0+IDMKUjIgLS0+IDQK\"/>"
      ],
      "text/plain": [
       "<IPython.core.display.Image object>"
      ]
     },
     "metadata": {},
     "output_type": "display_data"
    }
   ],
   "source": [
    "draw(t1)\n",
    "draw(t2)\n",
    "draw(t3)"
   ]
  },
  {
   "cell_type": "code",
   "execution_count": null,
   "metadata": {},
   "outputs": [],
   "source": [
    "assert graph_compose(t1,t3,{\n",
    "    'S':'S',0:0,1:1,\n",
    "},debug=True) == {'S': 'S', 0: 0, 1: 1, 'S2': 5, 2: 6, 3: 7, 4: 8}"
   ]
  },
  {
   "cell_type": "code",
   "execution_count": null,
   "metadata": {},
   "outputs": [],
   "source": [
    "assert graph_compose(t1,t2,\n",
    "    mapping_dict = {'S':'S','R':'R',0:0}\n",
    "    ,debug=True) == {'S': 'S', 'R': 'R', 0: 0, 1: 5}"
   ]
  },
  {
   "cell_type": "code",
   "execution_count": null,
   "metadata": {},
   "outputs": [
    {
     "data": {
      "text/html": [
       "<img src=\"https://mermaid.ink/img/CmZsb3djaGFydCBUQgpTWyJTCnJlbD0jcXVvdDtTI3F1b3Q7LCBydWxlX2lkPXswLCAxfSJdCjBbIjAKb3A9I3F1b3Q7cmVuYW1lI3F1b3Q7LCBuYW1lcz1bKDAsICNxdW90O1gjcXVvdDspLCAoMSwgI3F1b3Q7WSNxdW90OyldLCBydWxlX2lkPXswLCAxfSJdClMyWyJTMgpyZWw9I3F1b3Q7UzIjcXVvdDssIHJ1bGVfaWQ9ezB9Il0KMVsiMQpvcD0jcXVvdDtyZW5hbWUjcXVvdDssIG5hbWVzPVsoMCwgI3F1b3Q7WCNxdW90OyksICgxLCAjcXVvdDtBI3F1b3Q7KV0sIHJ1bGVfaWQ9ezB9Il0KMlsiMgpvcD0jcXVvdDtzZWxlY3QjcXVvdDssIHRoZXRhPVsoMiwgMSldLCBydWxlX2lkPXswfSJdCjNbIjMKb3A9I3F1b3Q7am9pbiNxdW90OywgcnVsZV9pZD17MH0iXQo0WyI0Cm9wPSNxdW90O3Byb2plY3QjcXVvdDssIG9uPVsjcXVvdDtYI3F1b3Q7LCAjcXVvdDtZI3F1b3Q7XSwgcmVsPSNxdW90O19SXzAjcXVvdDssIHJ1bGVfaWQ9ezB9Il0KUlsiUgpvcD0jcXVvdDt1bmlvbiNxdW90OywgcmVsPSNxdW90O1IjcXVvdDssIHJ1bGVfaWQ9ezAsIDF9Il0KNVsiNQpvcD0jcXVvdDtwcm9qZWN0I3F1b3Q7LCBvbj1bI3F1b3Q7WCNxdW90OywgI3F1b3Q7WSNxdW90O10sIHJlbD0jcXVvdDtfUl8xI3F1b3Q7LCBydWxlX2lkPXsxfSJdCjAgLS0+IFMKMSAtLT4gUzIKMiAtLT4gMQozIC0tPiAwCjMgLS0+IDIKNCAtLT4gMwpSIC0tPiA0ClIgLS0+IDUKNSAtLT4gMAo=\"/>"
      ],
      "text/plain": [
       "<IPython.core.display.Image object>"
      ]
     },
     "metadata": {},
     "output_type": "display_data"
    }
   ],
   "source": [
    "m= graph_compose(t1,t2,\n",
    "    mapping_dict = {'S':'S','R':'R',0:0}) \n",
    "draw(m)"
   ]
  },
  {
   "cell_type": "code",
   "execution_count": null,
   "metadata": {},
   "outputs": [],
   "source": [
    "#| export\n",
    "def merge_term_graphs_pair(g1,g2,exclude_props = ['label'],debug=False):\n",
    "    \"\"\"merge two term graphs into one term graph\n",
    "    when talking about term graphs, 2 nodes if their data is identical and all of their children are identical\n",
    "    but we would also like to merge rules for the same head, so we will also nodes that have the same 'rel' attribute\n",
    "    \"\"\"\n",
    "\n",
    "    def _are_nodes_equal(g1,u1,g2,u2):\n",
    "\n",
    "        u1_data = g1.nodes[u1]\n",
    "        u2_data = g2.nodes[u2]\n",
    "        \n",
    "        if 'rel' in u1_data and 'rel' in u2_data:\n",
    "            return u1_data['rel'] == u2_data['rel']\n",
    "\n",
    "\n",
    "        \n",
    "        return False\n",
    "        # TODO this old code tries to merge nodes, but then its hard to remember which belong to which rules so we only merge\n",
    "        # so we will do this merging per query\n",
    "        u1_clean_data = {k:v for k,v in u1_data.items() if k not in exclude_props}\n",
    "        u2_clean_data = {k:v for k,v in u2_data.items() if k not in exclude_props}\n",
    "\n",
    "        are_equal = u1_clean_data == u2_clean_data and all(v2 in node_mappings for v2 in g2.successors(u2))\n",
    "        return are_equal\n",
    "        \n",
    "\n",
    "    # we will check for each node in g2 if it has a node in g1 which is it's equal.\n",
    "    # and save that in a mapping\n",
    "    node_mappings=dict()# g2 node name to g1 node name\n",
    "    # we use the fact that g2 is going to be acyclic to travers it in postorder\n",
    "    for u2 in nx.dfs_postorder_nodes(g2):\n",
    "        for u1 in g1.nodes():\n",
    "            if _are_nodes_equal(g1,u1,g2,u2):\n",
    "                node_mappings[u2] = u1\n",
    "                break\n",
    "\n",
    "\n",
    "\n",
    "    if debug:\n",
    "        return node_mappings\n",
    "    else:\n",
    "        return graph_compose(g1,g2,node_mappings)\n",
    "\n",
    "\n",
    "\n",
    "def merge_term_graphs(gs,exclude_props = ['label'],debug=False):\n",
    "    \"\"\"merge a list of term graphs into one term graph\n",
    "    \"\"\"\n",
    "    merge = gs[0]\n",
    "    for g in gs[1:-1]:\n",
    "        merge = merge_term_graphs_pair(merge,g,exclude_props,debug=False)\n",
    "    # if debug, we run debug only on the last merge so we can iteratively debug a list of merges\n",
    "    return merge_term_graphs_pair(merge,gs[-1],exclude_props,debug=debug)\n"
   ]
  },
  {
   "cell_type": "markdown",
   "metadata": {},
   "source": [
    "#### Tests"
   ]
  },
  {
   "cell_type": "code",
   "execution_count": null,
   "metadata": {},
   "outputs": [],
   "source": [
    "r1 = Rule(\n",
    "    head=Relation(name='A', terms=[FreeVar(name='X'), FreeVar(name='Y')]),\n",
    "    body=[\n",
    "        Relation(name='B', terms=[FreeVar(name='X'),FreeVar(name='Y')]),\n",
    "    ])\n",
    "\n",
    "r2 = Rule(\n",
    "    head=Relation(name='A', terms=[FreeVar(name='X'), FreeVar(name='Y')]),\n",
    "    body=[\n",
    "        Relation(name='C', terms=[FreeVar(name='X'),FreeVar(name='Y')]),\n",
    "    ])\n",
    "\n",
    "r3 = Rule(\n",
    "    head=Relation(name='B', terms=[FreeVar(name='X'), FreeVar(name='Y')]),\n",
    "    body=[\n",
    "        Relation(name='D', terms=[FreeVar(name='X'),FreeVar(name='Y')]),\n",
    "    ])\n",
    "\n",
    "r4 = Rule(\n",
    "    head=Relation(name='B', terms=[FreeVar(name='X'), FreeVar(name='Y')]),\n",
    "    body=[\n",
    "        Relation(name='A', terms=[FreeVar(name='X'),FreeVar(name='Y')]),\n",
    "    ])\n",
    "\n"
   ]
  },
  {
   "cell_type": "code",
   "execution_count": null,
   "metadata": {},
   "outputs": [
    {
     "name": "stdout",
     "output_type": "stream",
     "text": [
      "['A(X,Y) <- B(X,Y)', 'A(X,Y) <- C(X,Y)', 'B(X,Y) <- D(X,Y)', 'B(X,Y) <- A(X,Y)']\n"
     ]
    },
    {
     "data": {
      "text/html": [
       "<img src=\"https://mermaid.ink/img/CmZsb3djaGFydCBUQgpCWyJCCnJlbD0jcXVvdDtCI3F1b3Q7LCBydWxlX2lkPXswfSJdCjBbIjAKb3A9I3F1b3Q7cmVuYW1lI3F1b3Q7LCBuYW1lcz1bKDAsICNxdW90O1gjcXVvdDspLCAoMSwgI3F1b3Q7WSNxdW90OyldLCBydWxlX2lkPXswfSJdCjFbIjEKb3A9I3F1b3Q7cHJvamVjdCNxdW90Oywgb249WyNxdW90O1gjcXVvdDssICNxdW90O1kjcXVvdDtdLCByZWw9I3F1b3Q7X0FfMCNxdW90OywgcnVsZV9pZD17MH0iXQpBWyJBCm9wPSNxdW90O3VuaW9uI3F1b3Q7LCByZWw9I3F1b3Q7QSNxdW90OywgcnVsZV9pZD17MH0iXQowIC0tPiBCCjEgLS0+IDAKQSAtLT4gMQo=\"/>"
      ],
      "text/plain": [
       "<IPython.core.display.Image object>"
      ]
     },
     "metadata": {},
     "output_type": "display_data"
    },
    {
     "data": {
      "text/html": [
       "<img src=\"https://mermaid.ink/img/CmZsb3djaGFydCBUQgpDWyJDCnJlbD0jcXVvdDtDI3F1b3Q7LCBydWxlX2lkPXswfSJdCjBbIjAKb3A9I3F1b3Q7cmVuYW1lI3F1b3Q7LCBuYW1lcz1bKDAsICNxdW90O1gjcXVvdDspLCAoMSwgI3F1b3Q7WSNxdW90OyldLCBydWxlX2lkPXswfSJdCjFbIjEKb3A9I3F1b3Q7cHJvamVjdCNxdW90Oywgb249WyNxdW90O1gjcXVvdDssICNxdW90O1kjcXVvdDtdLCByZWw9I3F1b3Q7X0FfMCNxdW90OywgcnVsZV9pZD17MH0iXQpBWyJBCm9wPSNxdW90O3VuaW9uI3F1b3Q7LCByZWw9I3F1b3Q7QSNxdW90OywgcnVsZV9pZD17MH0iXQowIC0tPiBDCjEgLS0+IDAKQSAtLT4gMQo=\"/>"
      ],
      "text/plain": [
       "<IPython.core.display.Image object>"
      ]
     },
     "metadata": {},
     "output_type": "display_data"
    },
    {
     "data": {
      "text/html": [
       "<img src=\"https://mermaid.ink/img/CmZsb3djaGFydCBUQgpEWyJECnJlbD0jcXVvdDtEI3F1b3Q7LCBydWxlX2lkPXswfSJdCjBbIjAKb3A9I3F1b3Q7cmVuYW1lI3F1b3Q7LCBuYW1lcz1bKDAsICNxdW90O1gjcXVvdDspLCAoMSwgI3F1b3Q7WSNxdW90OyldLCBydWxlX2lkPXswfSJdCjFbIjEKb3A9I3F1b3Q7cHJvamVjdCNxdW90Oywgb249WyNxdW90O1gjcXVvdDssICNxdW90O1kjcXVvdDtdLCByZWw9I3F1b3Q7X0JfMCNxdW90OywgcnVsZV9pZD17MH0iXQpCWyJCCm9wPSNxdW90O3VuaW9uI3F1b3Q7LCByZWw9I3F1b3Q7QiNxdW90OywgcnVsZV9pZD17MH0iXQowIC0tPiBECjEgLS0+IDAKQiAtLT4gMQo=\"/>"
      ],
      "text/plain": [
       "<IPython.core.display.Image object>"
      ]
     },
     "metadata": {},
     "output_type": "display_data"
    },
    {
     "data": {
      "text/html": [
       "<img src=\"https://mermaid.ink/img/CmZsb3djaGFydCBUQgpBWyJBCnJlbD0jcXVvdDtBI3F1b3Q7LCBydWxlX2lkPXswfSJdCjBbIjAKb3A9I3F1b3Q7cmVuYW1lI3F1b3Q7LCBuYW1lcz1bKDAsICNxdW90O1gjcXVvdDspLCAoMSwgI3F1b3Q7WSNxdW90OyldLCBydWxlX2lkPXswfSJdCjFbIjEKb3A9I3F1b3Q7cHJvamVjdCNxdW90Oywgb249WyNxdW90O1gjcXVvdDssICNxdW90O1kjcXVvdDtdLCByZWw9I3F1b3Q7X0JfMCNxdW90OywgcnVsZV9pZD17MH0iXQpCWyJCCm9wPSNxdW90O3VuaW9uI3F1b3Q7LCByZWw9I3F1b3Q7QiNxdW90OywgcnVsZV9pZD17MH0iXQowIC0tPiBBCjEgLS0+IDAKQiAtLT4gMQo=\"/>"
      ],
      "text/plain": [
       "<IPython.core.display.Image object>"
      ]
     },
     "metadata": {},
     "output_type": "display_data"
    }
   ],
   "source": [
    "rules = [r1,r2,r3,r4]\n",
    "print([pretty(r) for r in rules])\n",
    "for r in rules:\n",
    "    draw(_rule_to_term_graph(r,0))\n"
   ]
  },
  {
   "cell_type": "code",
   "execution_count": null,
   "metadata": {},
   "outputs": [
    {
     "data": {
      "text/html": [
       "<img src=\"https://mermaid.ink/img/CmZsb3djaGFydCBUQgpCWyJCCnJlbD0jcXVvdDtCI3F1b3Q7LCBydWxlX2lkPXswLCAyLCAzfSwgb3A9I3F1b3Q7dW5pb24jcXVvdDsiXQowWyIwCm9wPSNxdW90O3JlbmFtZSNxdW90OywgbmFtZXM9WygwLCAjcXVvdDtYI3F1b3Q7KSwgKDEsICNxdW90O1kjcXVvdDspXSwgcnVsZV9pZD17MH0iXQoxWyIxCm9wPSNxdW90O3Byb2plY3QjcXVvdDssIG9uPVsjcXVvdDtYI3F1b3Q7LCAjcXVvdDtZI3F1b3Q7XSwgcmVsPSNxdW90O19BXzAjcXVvdDssIHJ1bGVfaWQ9ezB9Il0KQVsiQQpvcD0jcXVvdDt1bmlvbiNxdW90OywgcmVsPSNxdW90O0EjcXVvdDssIHJ1bGVfaWQ9ezAsIDEsIDN9Il0KQ1siQwpyZWw9I3F1b3Q7QyNxdW90OywgcnVsZV9pZD17MX0iXQoyWyIyCm9wPSNxdW90O3JlbmFtZSNxdW90OywgbmFtZXM9WygwLCAjcXVvdDtYI3F1b3Q7KSwgKDEsICNxdW90O1kjcXVvdDspXSwgcnVsZV9pZD17MX0iXQozWyIzCm9wPSNxdW90O3Byb2plY3QjcXVvdDssIG9uPVsjcXVvdDtYI3F1b3Q7LCAjcXVvdDtZI3F1b3Q7XSwgcmVsPSNxdW90O19BXzEjcXVvdDssIHJ1bGVfaWQ9ezF9Il0KRFsiRApyZWw9I3F1b3Q7RCNxdW90OywgcnVsZV9pZD17Mn0iXQo0WyI0Cm9wPSNxdW90O3JlbmFtZSNxdW90OywgbmFtZXM9WygwLCAjcXVvdDtYI3F1b3Q7KSwgKDEsICNxdW90O1kjcXVvdDspXSwgcnVsZV9pZD17Mn0iXQo1WyI1Cm9wPSNxdW90O3Byb2plY3QjcXVvdDssIG9uPVsjcXVvdDtYI3F1b3Q7LCAjcXVvdDtZI3F1b3Q7XSwgcmVsPSNxdW90O19CXzIjcXVvdDssIHJ1bGVfaWQ9ezJ9Il0KNlsiNgpvcD0jcXVvdDtyZW5hbWUjcXVvdDssIG5hbWVzPVsoMCwgI3F1b3Q7WCNxdW90OyksICgxLCAjcXVvdDtZI3F1b3Q7KV0sIHJ1bGVfaWQ9ezN9Il0KN1siNwpvcD0jcXVvdDtwcm9qZWN0I3F1b3Q7LCBvbj1bI3F1b3Q7WCNxdW90OywgI3F1b3Q7WSNxdW90O10sIHJlbD0jcXVvdDtfQl8zI3F1b3Q7LCBydWxlX2lkPXszfSJdCkIgLS0+IDUKQiAtLT4gNwowIC0tPiBCCjEgLS0+IDAKQSAtLT4gMQpBIC0tPiAzCjIgLS0+IEMKMyAtLT4gMgo0IC0tPiBECjUgLS0+IDQKNiAtLT4gQQo3IC0tPiA2Cg==\"/>"
      ],
      "text/plain": [
       "<IPython.core.display.Image object>"
      ]
     },
     "metadata": {},
     "output_type": "display_data"
    }
   ],
   "source": [
    "m = merge_term_graphs([_rule_to_term_graph(r,i) for i,r in enumerate(rules)])\n",
    "draw(m)\n",
    "# assert serialize_graph(m) == ([('B', {'op': 'union', 'rel': 'B', 'rule_id': {0, 2, 3}}),\n",
    "#   (0, {'op': 'rename', 'names': [(0, 'X'), (1, 'Y')], 'rule_id': {0}}),\n",
    "#   (1, {'op': 'project', 'on': ['X', 'Y'], 'rel': '_A_0', 'rule_id': {0}}),\n",
    "#   ('A', { 'rel': 'A', 'rule_id': {0, 1, 3}}),\n",
    "#   ('C', { 'rel': 'C', 'rule_id': {1}}),\n",
    "#   (2, {'op': 'rename', 'names': [(0, 'X'), (1, 'Y')], 'rule_id': {1}}),\n",
    "#   (3, {'op': 'project', 'on': ['X', 'Y'], 'rel': '_A_1', 'rule_id': {1}}),\n",
    "#   ('D', { 'rel': 'D', 'rule_id': {2}}),\n",
    "#   (4, {'op': 'rename', 'names': [(0, 'X'), (1, 'Y')], 'rule_id': {2}}),\n",
    "#   (5, {'op': 'project', 'on': ['X', 'Y'], 'rel': '_B_2', 'rule_id': {2}}),\n",
    "#   (6, {'op': 'rename', 'names': [(0, 'X'), (1, 'Y')], 'rule_id': {3}}),\n",
    "#   (7, {'op': 'project', 'on': ['X', 'Y'], 'rel': '_B_3', 'rule_id': {3}})],\n",
    "#  [('B', 5, {}),\n",
    "#   ('B', 7, {}),\n",
    "#   (0, 'B', {}),\n",
    "#   (1, 0, {}),\n",
    "#   ('A', 1, {}),\n",
    "#   ('A', 3, {}),\n",
    "#   (2, 'C', {}),\n",
    "#   (3, 2, {}),\n",
    "#   (4, 'D', {}),\n",
    "#   (5, 4, {}),\n",
    "#   (6, 'A', {}),\n",
    "#   (7, 6, {})])"
   ]
  },
  {
   "cell_type": "code",
   "execution_count": null,
   "metadata": {},
   "outputs": [
    {
     "data": {
      "text/html": [
       "<img src=\"https://mermaid.ink/img/CmZsb3djaGFydCBUQgpTWyJTCnJlbD0jcXVvdDtTI3F1b3Q7LCBydWxlX2lkPXswLCAxfSJdCjBbIjAKb3A9I3F1b3Q7cmVuYW1lI3F1b3Q7LCBuYW1lcz1bKDAsICNxdW90O1gjcXVvdDspLCAoMSwgI3F1b3Q7WSNxdW90OyldLCBydWxlX2lkPXswfSJdClMyWyJTMgpyZWw9I3F1b3Q7UzIjcXVvdDssIHJ1bGVfaWQ9ezB9Il0KMVsiMQpvcD0jcXVvdDtyZW5hbWUjcXVvdDssIG5hbWVzPVsoMCwgI3F1b3Q7WCNxdW90OyksICgxLCAjcXVvdDtBI3F1b3Q7KV0sIHJ1bGVfaWQ9ezB9Il0KMlsiMgpvcD0jcXVvdDtzZWxlY3QjcXVvdDssIHRoZXRhPVsoMiwgMSldLCBydWxlX2lkPXswfSJdCjNbIjMKb3A9I3F1b3Q7am9pbiNxdW90OywgcnVsZV9pZD17MH0iXQo0WyI0Cm9wPSNxdW90O3Byb2plY3QjcXVvdDssIG9uPVsjcXVvdDtYI3F1b3Q7LCAjcXVvdDtZI3F1b3Q7XSwgcmVsPSNxdW90O19SXzAjcXVvdDssIHJ1bGVfaWQ9ezB9Il0KUlsiUgpvcD0jcXVvdDt1bmlvbiNxdW90OywgcmVsPSNxdW90O1IjcXVvdDssIHJ1bGVfaWQ9ezAsIDF9Il0KNVsiNQpvcD0jcXVvdDtyZW5hbWUjcXVvdDssIG5hbWVzPVsoMCwgI3F1b3Q7WCNxdW90OyksICgxLCAjcXVvdDtZI3F1b3Q7KV0sIHJ1bGVfaWQ9ezF9Il0KNlsiNgpvcD0jcXVvdDtwcm9qZWN0I3F1b3Q7LCBvbj1bI3F1b3Q7WCNxdW90OywgI3F1b3Q7WSNxdW90O10sIHJlbD0jcXVvdDtfUl8xI3F1b3Q7LCBydWxlX2lkPXsxfSJdCjAgLS0+IFMKMSAtLT4gUzIKMiAtLT4gMQozIC0tPiAwCjMgLS0+IDIKNCAtLT4gMwpSIC0tPiA0ClIgLS0+IDYKNSAtLT4gUwo2IC0tPiA1Cg==\"/>"
      ],
      "text/plain": [
       "<IPython.core.display.Image object>"
      ]
     },
     "metadata": {},
     "output_type": "display_data"
    }
   ],
   "source": [
    "m = merge_term_graphs([t1,t2])\n",
    "draw(m)\n",
    "assert serialize_graph(m) == ([('S', { 'rel': 'S', 'rule_id': {0, 1}}),\n",
    "  (0, {'op': 'rename', 'names': [(0, 'X'), (1, 'Y')], 'rule_id': {0}}),\n",
    "  ('S2', { 'rel': 'S2', 'rule_id': {0}}),\n",
    "  (1, {'op': 'rename', 'names': [(0, 'X'), (1, 'A')], 'rule_id': {0}}),\n",
    "  (2, {'op': 'select', 'theta': [(2, 1)], 'rule_id': {0}}),\n",
    "  (3, {'op': 'join', 'rule_id': {0}}),\n",
    "  (4, {'op': 'project', 'on': ['X', 'Y'], 'rel': '_R_0', 'rule_id': {0}}),\n",
    "  ('R', {'op': 'union', 'rel': 'R', 'rule_id': {0, 1}}),\n",
    "  (5, {'op': 'rename', 'names': [(0, 'X'), (1, 'Y')], 'rule_id': {1}}),\n",
    "  (6, {'op': 'project', 'on': ['X', 'Y'], 'rel': '_R_1', 'rule_id': {1}})],\n",
    " [(0, 'S', {}),\n",
    "  (1, 'S2', {}),\n",
    "  (2, 1, {}),\n",
    "  (3, 0, {}),\n",
    "  (3, 2, {}),\n",
    "  (4, 3, {}),\n",
    "  ('R', 4, {}),\n",
    "  ('R', 6, {}),\n",
    "  (5, 'S', {}),\n",
    "  (6, 5, {})])"
   ]
  },
  {
   "cell_type": "code",
   "execution_count": null,
   "metadata": {},
   "outputs": [
    {
     "data": {
      "text/html": [
       "<img src=\"https://mermaid.ink/img/CmZsb3djaGFydCBUQgpTWyJTCnJlbD0jcXVvdDtTI3F1b3Q7LCBydWxlX2lkPXswfSJdCjBbIjAKb3A9I3F1b3Q7cmVuYW1lI3F1b3Q7LCBuYW1lcz1bKDAsICNxdW90O1gjcXVvdDspLCAoMSwgI3F1b3Q7WSNxdW90OyldLCBydWxlX2lkPXswfSJdClMyWyJTMgpyZWw9I3F1b3Q7UzIjcXVvdDssIHJ1bGVfaWQ9ezAsIDJ9Il0KMVsiMQpvcD0jcXVvdDtyZW5hbWUjcXVvdDssIG5hbWVzPVsoMCwgI3F1b3Q7WCNxdW90OyksICgxLCAjcXVvdDtBI3F1b3Q7KV0sIHJ1bGVfaWQ9ezB9Il0KMlsiMgpvcD0jcXVvdDtzZWxlY3QjcXVvdDssIHRoZXRhPVsoMiwgMSldLCBydWxlX2lkPXswfSJdCjNbIjMKb3A9I3F1b3Q7am9pbiNxdW90OywgcnVsZV9pZD17MH0iXQo0WyI0Cm9wPSNxdW90O3Byb2plY3QjcXVvdDssIG9uPVsjcXVvdDtYI3F1b3Q7LCAjcXVvdDtZI3F1b3Q7XSwgcmVsPSNxdW90O19SXzAjcXVvdDssIHJ1bGVfaWQ9ezB9Il0KUlsiUgpvcD0jcXVvdDt1bmlvbiNxdW90OywgcmVsPSNxdW90O1IjcXVvdDssIHJ1bGVfaWQ9ezB9Il0KUzNbIlMzCnJlbD0jcXVvdDtTMyNxdW90OywgcnVsZV9pZD17Mn0iXQo1WyI1Cm9wPSNxdW90O3JlbmFtZSNxdW90OywgbmFtZXM9WygwLCAjcXVvdDtYI3F1b3Q7KSwgKDEsICNxdW90O1kjcXVvdDspXSwgcnVsZV9pZD17Mn0iXQo2WyI2Cm9wPSNxdW90O3JlbmFtZSNxdW90OywgbmFtZXM9WygwLCAjcXVvdDtYI3F1b3Q7KSwgKDEsICNxdW90O0EjcXVvdDspXSwgcnVsZV9pZD17Mn0iXQo3WyI3Cm9wPSNxdW90O3NlbGVjdCNxdW90OywgdGhldGE9WygyLCAxKV0sIHJ1bGVfaWQ9ezJ9Il0KOFsiOApvcD0jcXVvdDtqb2luI3F1b3Q7LCBydWxlX2lkPXsyfSJdCjlbIjkKb3A9I3F1b3Q7cHJvamVjdCNxdW90Oywgb249WyNxdW90O1gjcXVvdDssICNxdW90O1kjcXVvdDtdLCByZWw9I3F1b3Q7X1IyXzIjcXVvdDssIHJ1bGVfaWQ9ezJ9Il0KUjJbIlIyCm9wPSNxdW90O3VuaW9uI3F1b3Q7LCByZWw9I3F1b3Q7UjIjcXVvdDssIHJ1bGVfaWQ9ezJ9Il0KMCAtLT4gUwoxIC0tPiBTMgoyIC0tPiAxCjMgLS0+IDAKMyAtLT4gMgo0IC0tPiAzClIgLS0+IDQKNSAtLT4gUzMKNiAtLT4gUzIKNyAtLT4gNgo4IC0tPiA1CjggLS0+IDcKOSAtLT4gOApSMiAtLT4gOQo=\"/>"
      ],
      "text/plain": [
       "<IPython.core.display.Image object>"
      ]
     },
     "metadata": {},
     "output_type": "display_data"
    }
   ],
   "source": [
    "m = merge_term_graphs([t1,t3])\n",
    "draw(m)\n",
    "assert serialize_graph(m) == ([('S', { 'rel': 'S', 'rule_id': {0}}),\n",
    "  (0, {'op': 'rename', 'names': [(0, 'X'), (1, 'Y')], 'rule_id': {0}}),\n",
    "  ('S2', { 'rel': 'S2', 'rule_id': {0, 2}}),\n",
    "  (1, {'op': 'rename', 'names': [(0, 'X'), (1, 'A')], 'rule_id': {0}}),\n",
    "  (2, {'op': 'select', 'theta': [(2, 1)], 'rule_id': {0}}),\n",
    "  (3, {'op': 'join', 'rule_id': {0}}),\n",
    "  (4, {'op': 'project', 'on': ['X', 'Y'], 'rel': '_R_0', 'rule_id': {0}}),\n",
    "  ('R', {'op': 'union', 'rel': 'R', 'rule_id': {0}}),\n",
    "  ('S3', { 'rel': 'S3', 'rule_id': {2}}),\n",
    "  (5, {'op': 'rename', 'names': [(0, 'X'), (1, 'Y')], 'rule_id': {2}}),\n",
    "  (6, {'op': 'rename', 'names': [(0, 'X'), (1, 'A')], 'rule_id': {2}}),\n",
    "  (7, {'op': 'select', 'theta': [(2, 1)], 'rule_id': {2}}),\n",
    "  (8, {'op': 'join', 'rule_id': {2}}),\n",
    "  (9, {'op': 'project', 'on': ['X', 'Y'], 'rel': '_R2_2', 'rule_id': {2}}),\n",
    "  ('R2', {'op': 'union', 'rel': 'R2', 'rule_id': {2}})],\n",
    " [(0, 'S', {}),\n",
    "  (1, 'S2', {}),\n",
    "  (2, 1, {}),\n",
    "  (3, 0, {}),\n",
    "  (3, 2, {}),\n",
    "  (4, 3, {}),\n",
    "  ('R', 4, {}),\n",
    "  (5, 'S3', {}),\n",
    "  (6, 'S2', {}),\n",
    "  (7, 6, {}),\n",
    "  (8, 5, {}),\n",
    "  (8, 7, {}),\n",
    "  (9, 8, {}),\n",
    "  ('R2', 9, {})])"
   ]
  },
  {
   "cell_type": "code",
   "execution_count": null,
   "metadata": {},
   "outputs": [
    {
     "data": {
      "text/html": [
       "<img src=\"https://mermaid.ink/img/CmZsb3djaGFydCBUQgpTWyJTCnJlbD0jcXVvdDtTI3F1b3Q7LCBydWxlX2lkPXswLCAxfSJdCjBbIjAKb3A9I3F1b3Q7cmVuYW1lI3F1b3Q7LCBuYW1lcz1bKDAsICNxdW90O1gjcXVvdDspLCAoMSwgI3F1b3Q7WSNxdW90OyldLCBydWxlX2lkPXswfSJdClMyWyJTMgpyZWw9I3F1b3Q7UzIjcXVvdDssIHJ1bGVfaWQ9ezAsIDJ9Il0KMVsiMQpvcD0jcXVvdDtyZW5hbWUjcXVvdDssIG5hbWVzPVsoMCwgI3F1b3Q7WCNxdW90OyksICgxLCAjcXVvdDtBI3F1b3Q7KV0sIHJ1bGVfaWQ9ezB9Il0KMlsiMgpvcD0jcXVvdDtzZWxlY3QjcXVvdDssIHRoZXRhPVsoMiwgMSldLCBydWxlX2lkPXswfSJdCjNbIjMKb3A9I3F1b3Q7am9pbiNxdW90OywgcnVsZV9pZD17MH0iXQo0WyI0Cm9wPSNxdW90O3Byb2plY3QjcXVvdDssIG9uPVsjcXVvdDtYI3F1b3Q7LCAjcXVvdDtZI3F1b3Q7XSwgcmVsPSNxdW90O19SXzAjcXVvdDssIHJ1bGVfaWQ9ezB9Il0KUlsiUgpvcD0jcXVvdDt1bmlvbiNxdW90OywgcmVsPSNxdW90O1IjcXVvdDssIHJ1bGVfaWQ9ezAsIDF9Il0KNVsiNQpvcD0jcXVvdDtyZW5hbWUjcXVvdDssIG5hbWVzPVsoMCwgI3F1b3Q7WCNxdW90OyksICgxLCAjcXVvdDtZI3F1b3Q7KV0sIHJ1bGVfaWQ9ezF9Il0KNlsiNgpvcD0jcXVvdDtwcm9qZWN0I3F1b3Q7LCBvbj1bI3F1b3Q7WCNxdW90OywgI3F1b3Q7WSNxdW90O10sIHJlbD0jcXVvdDtfUl8xI3F1b3Q7LCBydWxlX2lkPXsxfSJdClMzWyJTMwpyZWw9I3F1b3Q7UzMjcXVvdDssIHJ1bGVfaWQ9ezJ9Il0KN1siNwpvcD0jcXVvdDtyZW5hbWUjcXVvdDssIG5hbWVzPVsoMCwgI3F1b3Q7WCNxdW90OyksICgxLCAjcXVvdDtZI3F1b3Q7KV0sIHJ1bGVfaWQ9ezJ9Il0KOFsiOApvcD0jcXVvdDtyZW5hbWUjcXVvdDssIG5hbWVzPVsoMCwgI3F1b3Q7WCNxdW90OyksICgxLCAjcXVvdDtBI3F1b3Q7KV0sIHJ1bGVfaWQ9ezJ9Il0KOVsiOQpvcD0jcXVvdDtzZWxlY3QjcXVvdDssIHRoZXRhPVsoMiwgMSldLCBydWxlX2lkPXsyfSJdCjEwWyIxMApvcD0jcXVvdDtqb2luI3F1b3Q7LCBydWxlX2lkPXsyfSJdCjExWyIxMQpvcD0jcXVvdDtwcm9qZWN0I3F1b3Q7LCBvbj1bI3F1b3Q7WCNxdW90OywgI3F1b3Q7WSNxdW90O10sIHJlbD0jcXVvdDtfUjJfMiNxdW90OywgcnVsZV9pZD17Mn0iXQpSMlsiUjIKb3A9I3F1b3Q7dW5pb24jcXVvdDssIHJlbD0jcXVvdDtSMiNxdW90OywgcnVsZV9pZD17Mn0iXQowIC0tPiBTCjEgLS0+IFMyCjIgLS0+IDEKMyAtLT4gMAozIC0tPiAyCjQgLS0+IDMKUiAtLT4gNApSIC0tPiA2CjUgLS0+IFMKNiAtLT4gNQo3IC0tPiBTMwo4IC0tPiBTMgo5IC0tPiA4CjEwIC0tPiA3CjEwIC0tPiA5CjExIC0tPiAxMApSMiAtLT4gMTEK\"/>"
      ],
      "text/plain": [
       "<IPython.core.display.Image object>"
      ]
     },
     "metadata": {},
     "output_type": "display_data"
    }
   ],
   "source": [
    "m = merge_term_graphs([t1,t2,t3])\n",
    "draw(m)\n",
    "assert serialize_graph(m) == ([('S', { 'rel': 'S', 'rule_id': {0, 1}}),\n",
    "  (0, {'op': 'rename', 'names': [(0, 'X'), (1, 'Y')], 'rule_id': {0}}),\n",
    "  ('S2', { 'rel': 'S2', 'rule_id': {0, 2}}),\n",
    "  (1, {'op': 'rename', 'names': [(0, 'X'), (1, 'A')], 'rule_id': {0}}),\n",
    "  (2, {'op': 'select', 'theta': [(2, 1)], 'rule_id': {0}}),\n",
    "  (3, {'op': 'join', 'rule_id': {0}}),\n",
    "  (4, {'op': 'project', 'on': ['X', 'Y'], 'rel': '_R_0', 'rule_id': {0}}),\n",
    "  ('R', {'op': 'union', 'rel': 'R', 'rule_id': {0, 1}}),\n",
    "  (5, {'op': 'rename', 'names': [(0, 'X'), (1, 'Y')], 'rule_id': {1}}),\n",
    "  (6, {'op': 'project', 'on': ['X', 'Y'], 'rel': '_R_1', 'rule_id': {1}}),\n",
    "  ('S3', { 'rel': 'S3', 'rule_id': {2}}),\n",
    "  (7, {'op': 'rename', 'names': [(0, 'X'), (1, 'Y')], 'rule_id': {2}}),\n",
    "  (8, {'op': 'rename', 'names': [(0, 'X'), (1, 'A')], 'rule_id': {2}}),\n",
    "  (9, {'op': 'select', 'theta': [(2, 1)], 'rule_id': {2}}),\n",
    "  (10, {'op': 'join', 'rule_id': {2}}),\n",
    "  (11, {'op': 'project', 'on': ['X', 'Y'], 'rel': '_R2_2', 'rule_id': {2}}),\n",
    "  ('R2', {'op': 'union', 'rel': 'R2', 'rule_id': {2}})],\n",
    " [(0, 'S', {}),\n",
    "  (1, 'S2', {}),\n",
    "  (2, 1, {}),\n",
    "  (3, 0, {}),\n",
    "  (3, 2, {}),\n",
    "  (4, 3, {}),\n",
    "  ('R', 4, {}),\n",
    "  ('R', 6, {}),\n",
    "  (5, 'S', {}),\n",
    "  (6, 5, {}),\n",
    "  (7, 'S3', {}),\n",
    "  (8, 'S2', {}),\n",
    "  (9, 8, {}),\n",
    "  (10, 7, {}),\n",
    "  (10, 9, {}),\n",
    "  (11, 10, {}),\n",
    "  ('R2', 11, {})])"
   ]
  },
  {
   "cell_type": "code",
   "execution_count": null,
   "metadata": {},
   "outputs": [],
   "source": [
    "#|hide\n",
    "import nbdev; nbdev.nbdev_export()\n",
    "     "
   ]
  }
 ],
 "metadata": {
  "kernelspec": {
   "display_name": "python3",
   "language": "python",
   "name": "python3"
  }
 },
 "nbformat": 4,
 "nbformat_minor": 4
}
