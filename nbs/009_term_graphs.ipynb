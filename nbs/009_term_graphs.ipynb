{
 "cells": [
  {
   "cell_type": "markdown",
   "metadata": {},
   "source": [
    "# Term Graphs\n",
    "> Term graphs that encode logic of rules as graphs over RA operators and ie function executions"
   ]
  },
  {
   "cell_type": "code",
   "execution_count": null,
   "metadata": {},
   "outputs": [],
   "source": [
    "#| default_exp term_graph"
   ]
  },
  {
   "cell_type": "code",
   "execution_count": null,
   "metadata": {},
   "outputs": [],
   "source": [
    "#| hide\n",
    "from nbdev.showdoc import show_doc\n",
    "\n",
    "%load_ext autoreload\n",
    "%autoreload 2"
   ]
  },
  {
   "cell_type": "code",
   "execution_count": null,
   "metadata": {},
   "outputs": [],
   "source": [
    "#| export\n",
    "\n",
    "from IPython.display import display\n",
    "import pandas as pd\n",
    "import os\n",
    "import networkx as nx\n",
    "import itertools\n",
    "import logging\n",
    "import pytest\n",
    "from collections import defaultdict\n",
    "logger = logging.getLogger(__name__)\n",
    "\n",
    "from graph_rewrite import draw\n",
    "\n",
    "from spannerlib.utils import checkLogs,serialize_df_values,serialize_graph,get_new_node_name\n",
    "from spannerlib.span import Span\n",
    "from spannerlib.ra import equalConstTheta,equalColTheta\n",
    "from spannerlib.data_types import (\n",
    "    _infer_relation_schema,\n",
    "    Var,\n",
    "    FreeVar,\n",
    "    RelationDefinition,\n",
    "    Relation,\n",
    "    IEFunction,\n",
    "    IERelation,\n",
    "    Rule,\n",
    "    pretty,\n",
    ")"
   ]
  },
  {
   "cell_type": "markdown",
   "metadata": {},
   "source": [
    "Here we have functions for manipulating rules into term graphs"
   ]
  },
  {
   "cell_type": "code",
   "execution_count": null,
   "metadata": {},
   "outputs": [],
   "source": [
    "# TODO, redo the rule to term graph to have:\n",
    "# a relation to graph function with the select and project stuff\n",
    "# an ie relation to graph, that adds the new ie function idea\n",
    "\n"
   ]
  },
  {
   "cell_type": "code",
   "execution_count": null,
   "metadata": {},
   "outputs": [],
   "source": [
    "# TODO from here"
   ]
  },
  {
   "cell_type": "markdown",
   "metadata": {},
   "source": [
    "### Adding constant terms to term graph"
   ]
  },
  {
   "cell_type": "code",
   "execution_count": null,
   "metadata": {},
   "outputs": [],
   "source": [
    "#| export\n",
    "def add_select_constants(g,source,terms):\n",
    "    \"\"\"\n",
    "    adds a select node as a father to source, with the constant terms defined in terms\n",
    "    if no constant terms are defined, does nothing\n",
    "    returns the select node if it was added or the source not if not\n",
    "\n",
    "\n",
    "    Example - R(X,3):\n",
    "    source <- select(theta(col1=3))\n",
    "    \"\"\"\n",
    "    need_select = any(not isinstance(term,FreeVar) for term in terms)\n",
    "    if not need_select:\n",
    "        return source\n",
    "    \n",
    "    select_pos_val = list()\n",
    "    for i,term in enumerate(terms):\n",
    "        if not isinstance(term,FreeVar):\n",
    "            select_pos_val.append((i,term))\n",
    "    \n",
    "    select_name = get_new_node_name(g)\n",
    "    g.add_node(select_name, op='select',theta=equalConstTheta(*select_pos_val))\n",
    "    g.add_edge(select_name,source)\n",
    "    return select_name\n",
    "\n",
    "def add_product_constants(g,source,terms):\n",
    "    \"\"\"\n",
    "    adds a product node as a father to source, with the constant terms defined in terms\n",
    "    if no constant terms are defined, does nothing\n",
    "    returns the product node if it was added or the source not if not\n",
    "\n",
    "    Example - F(X,3,Y,4)->(Z):\n",
    "    source                       <- product() <- project(on=[X,_C1,Y,_C2])\n",
    "    get_const({'_C1':3,'_C2':4}) <- \n",
    "\n",
    "    \"\"\"\n",
    "    need_product = any(not isinstance(term,FreeVar) for term in terms)\n",
    "    if not need_product:\n",
    "        return source\n",
    "    \n",
    "    product_pos_val = list()\n",
    "    for i,term in enumerate(terms):\n",
    "        if not isinstance(term,FreeVar):\n",
    "            product_pos_val.append((i,term))\n",
    "    \n",
    "    const_dict = {f'_C{i}':val for i,val in product_pos_val}\n",
    "\n",
    "    const_node = get_new_node_name(g)\n",
    "    g.add_node(const_node, op='get_const',const_dict = const_dict)\n",
    "\n",
    "    product_node = get_new_node_name(g)\n",
    "    g.add_node(product_node, op='product')\n",
    "    g.add_edge(product_node,source)\n",
    "    g.add_edge(product_node,const_node)\n",
    "\n",
    "    project_node = get_new_node_name(g)\n",
    "    project_order = []\n",
    "    for i,term in enumerate(terms):\n",
    "        if isinstance(term,FreeVar):\n",
    "            project_order.append(term.name)\n",
    "        else:\n",
    "            project_order.append(f'_C{i}')\n",
    "    g.add_node(project_node, op='project',on=project_order)\n",
    "    g.add_edge(project_node,product_node)\n",
    "    \n",
    "    return project_node\n",
    "\n"
   ]
  },
  {
   "cell_type": "markdown",
   "metadata": {},
   "source": [
    "#### Tests"
   ]
  },
  {
   "cell_type": "code",
   "execution_count": null,
   "metadata": {},
   "outputs": [
    {
     "data": {
      "text/html": [
       "<img src=\"https://mermaid.ink/img/CmZsb3djaGFydCBUQgpBWyJBCiJdCjBbIjAKb3A9I3F1b3Q7c2VsZWN0I3F1b3Q7LCB0aGV0YT1UaGV0YShjb2xfMD0xKSJdCjAgLS0+IEEK\"/>"
      ],
      "text/plain": [
       "<IPython.core.display.Image object>"
      ]
     },
     "metadata": {},
     "output_type": "display_data"
    },
    {
     "data": {
      "text/html": [
       "<img src=\"https://mermaid.ink/img/CmZsb3djaGFydCBUQgpBWyJBCiJdCjBbIjAKb3A9I3F1b3Q7Z2V0X2NvbnN0I3F1b3Q7LCBjb25zdF9kaWN0PXsjcXVvdDtfQzEjcXVvdDs6IDEsICNxdW90O19DMyNxdW90OzogMn0iXQoxWyIxCm9wPSNxdW90O3Byb2R1Y3QjcXVvdDsiXQoyWyIyCm9wPSNxdW90O3Byb2plY3QjcXVvdDssIG9uPVsjcXVvdDtYI3F1b3Q7LCAjcXVvdDtfQzEjcXVvdDssICNxdW90O1kjcXVvdDssICNxdW90O19DMyNxdW90O10iXQoxIC0tPiBBCjEgLS0+IDAKMiAtLT4gMQo=\"/>"
      ],
      "text/plain": [
       "<IPython.core.display.Image object>"
      ]
     },
     "metadata": {},
     "output_type": "display_data"
    }
   ],
   "source": [
    "g = nx.DiGraph()\n",
    "g.add_node('A')\n",
    "\n",
    "add_select_constants(g,'A',[1,FreeVar(name='X')])\n",
    "draw(g)\n",
    "\n",
    "g = nx.DiGraph()\n",
    "g.add_node('A')\n",
    "\n",
    "add_product_constants(g,'A',[FreeVar(name='X'),1,FreeVar(name='Y'),2])\n",
    "draw(g)"
   ]
  },
  {
   "cell_type": "markdown",
   "metadata": {},
   "source": [
    "### Adding body relations"
   ]
  },
  {
   "cell_type": "code",
   "execution_count": null,
   "metadata": {},
   "outputs": [],
   "source": [
    "#| export\n",
    "def add_relation(g,rel):\n",
    "    \"\"\"\n",
    "    adds a relation to the graph\n",
    "    WLOG a relation of the form R(X,Y,const)\n",
    "    should be of the abstract form get(R)<-rename(0:X,1:Y)<-select(2:const)<-project(on=[X,Y])\n",
    "\n",
    "    returns (top most node, bottom most node) \n",
    "    \"\"\"\n",
    "\n",
    "    g.add_node(rel.name,rel=rel.name)\n",
    "    rename_node = get_new_node_name(g)\n",
    "    g.add_node(rename_node, op='rename',names=[(i,term.name) for i,term in enumerate(rel.terms) if isinstance(term,FreeVar)])\n",
    "    g.add_edge(rename_node,rel.name)\n",
    "    select_node = add_select_constants(g,rename_node,rel.terms)\n",
    "    if select_node == rename_node:\n",
    "        return (rename_node,rel.name)\n",
    "    project_node = get_new_node_name(g)\n",
    "    g.add_node(project_node, op='project',on=[term.name for term in rel.terms if isinstance(term,FreeVar)])\n",
    "    g.add_edge(project_node,select_node)\n",
    "    return (project_node,rel.name)\n",
    "\n",
    "def add_ie_relation(g,rel):\n",
    "    \"\"\"\n",
    "    adds an ie relation to the graph\n",
    "    WLOG a relation of the form f(X,Y,c1)->(Z,X,c2)\n",
    "    should be of the abstract form \n",
    "    project(X,Y)          <- product()<-projecton=[X,Y,_C2]<-ie_map(f)<-select(col_5==c2)<-select(col_0==col_4)<-rename(0:X,1:Y,3:Z)<-project(on=[X,Y,Z])\n",
    "    get_const({'_C2':c1}) <-\n",
    "    returns (top most node, bottom most node)\n",
    "    \"\"\"\n",
    "    project_input_vars = get_new_node_name(g)\n",
    "    g.add_node(project_input_vars, op='project',on=[term.name for term in rel.in_terms if isinstance(term,FreeVar)])\n",
    "    product_node = add_product_constants(g,project_input_vars,rel.in_terms)\n",
    "    ie_map_node = get_new_node_name(g)\n",
    "    g.add_node(ie_map_node, op='ie_map',func=rel.name,combined_term_len=len(rel.in_terms)+len(rel.out_terms))\n",
    "    g.add_edge(ie_map_node,product_node)\n",
    "\n",
    "    # we will get combined input+output relation from the ie map so now we reason based on it\n",
    "\n",
    "    combined_terms = rel.in_terms+rel.out_terms\n",
    "    \n",
    "    # we only need to select on the output constants, since the input constants where generated via the product\n",
    "    # so we mask the input terms\n",
    "    masked_input_combined_terms = [FreeVar(name='_F')]*len(rel.in_terms)+rel.out_terms\n",
    "    select_node = add_select_constants(g,ie_map_node,masked_input_combined_terms)\n",
    "\n",
    "    # select on equal free vars assignments for freevars with the same name\n",
    "    column_pairs_with_equal_free_vars = []\n",
    "    for (i,term1),(j,term2) in itertools.combinations(enumerate(combined_terms),2):\n",
    "        if isinstance(term1,FreeVar) and isinstance(term2,FreeVar) and term1.name == term2.name:\n",
    "            column_pairs_with_equal_free_vars.append((i,j))\n",
    "\n",
    "    if len(column_pairs_with_equal_free_vars) > 0:\n",
    "        const_select_node = select_node\n",
    "        # override name so that select node remains the topmost node\n",
    "        select_node = get_new_node_name(g)\n",
    "        g.add_node(select_node, op='select',theta=equalColTheta(*column_pairs_with_equal_free_vars))\n",
    "        g.add_edge(select_node,const_select_node)\n",
    "\n",
    "    # rename the column name of first appearance of each free var\n",
    "    first_pos_of_free_var_list = {}\n",
    "    for i,term in enumerate(combined_terms):\n",
    "        if isinstance(term,FreeVar) and term.name not in first_pos_of_free_var_list:\n",
    "            first_pos_of_free_var_list[term.name] = i\n",
    "    rename_node = get_new_node_name(g)\n",
    "    g.add_node(rename_node, op='rename',names=[(idx,var_name) for var_name,idx in first_pos_of_free_var_list.items()])\n",
    "    g.add_edge(rename_node,select_node)\n",
    "\n",
    "    # project on the free vars to leave out constant or redundant columns\n",
    "    project_node = get_new_node_name(g)\n",
    "    g.add_node(project_node, op='project',on=list(first_pos_of_free_var_list.keys()))\n",
    "    g.add_edge(project_node,rename_node)\n",
    "\n",
    "    return project_node,project_input_vars\n"
   ]
  },
  {
   "cell_type": "markdown",
   "metadata": {},
   "source": [
    "#### Tests"
   ]
  },
  {
   "cell_type": "code",
   "execution_count": null,
   "metadata": {},
   "outputs": [
    {
     "data": {
      "text/plain": [
       "([('A', {}),\n",
       "  (0, {'op': 'get_const', 'const_dict': {'_C1': 1, '_C3': 2}}),\n",
       "  (1, {'op': 'product'}),\n",
       "  (2, {'op': 'project', 'on': ['X', '_C1', 'Y', '_C3']})],\n",
       " [(1, 'A', {}), (1, 0, {}), (2, 1, {})])"
      ]
     },
     "execution_count": null,
     "metadata": {},
     "output_type": "execute_result"
    }
   ],
   "source": [
    "serialize_graph(g)"
   ]
  },
  {
   "cell_type": "code",
   "execution_count": null,
   "metadata": {},
   "outputs": [
    {
     "data": {
      "text/html": [
       "<img src=\"https://mermaid.ink/img/CmZsb3djaGFydCBUQgpSWyJSCnJlbD0jcXVvdDtSI3F1b3Q7Il0KMFsiMApvcD0jcXVvdDtyZW5hbWUjcXVvdDssIG5hbWVzPVsoMCwgI3F1b3Q7WCNxdW90OyksICgxLCAjcXVvdDtZI3F1b3Q7KV0iXQoxWyIxCm9wPSNxdW90O3NlbGVjdCNxdW90OywgdGhldGE9VGhldGEoY29sXzI9MSkiXQoyWyIyCm9wPSNxdW90O3Byb2plY3QjcXVvdDssIG9uPVsjcXVvdDtYI3F1b3Q7LCAjcXVvdDtZI3F1b3Q7XSJdCjAgLS0+IFIKMSAtLT4gMAoyIC0tPiAxCg==\"/>"
      ],
      "text/plain": [
       "<IPython.core.display.Image object>"
      ]
     },
     "metadata": {},
     "output_type": "display_data"
    },
    {
     "data": {
      "text/html": [
       "<img src=\"https://mermaid.ink/img/CmZsb3djaGFydCBUQgpSWyJSCnJlbD0jcXVvdDtSI3F1b3Q7Il0KMFsiMApvcD0jcXVvdDtyZW5hbWUjcXVvdDssIG5hbWVzPVsoMCwgI3F1b3Q7WCNxdW90OyksICgxLCAjcXVvdDtZI3F1b3Q7KV0iXQowIC0tPiBSCg==\"/>"
      ],
      "text/plain": [
       "<IPython.core.display.Image object>"
      ]
     },
     "metadata": {},
     "output_type": "display_data"
    }
   ],
   "source": [
    "g=nx.DiGraph()\n",
    "add_relation(g,Relation(name='R',terms=[FreeVar(name='X'),FreeVar(name='Y'),1]))\n",
    "draw(g)\n",
    "serialize_graph(g)\n",
    "assert serialize_graph(g) == ([('R', {'rel': 'R'}),\n",
    "  (0, {'op': 'rename', 'names': [(0, 'X'), (1, 'Y')]}),\n",
    "  (1, {'op': 'select', 'theta': equalConstTheta((2,1))}),\n",
    "  (2, {'op': 'project', 'on': ['X', 'Y']})],\n",
    " [(0, 'R', {}), (1, 0, {}), (2, 1, {})])\n",
    "\n",
    "g=nx.DiGraph()\n",
    "add_relation(g,Relation(name='R',terms=[FreeVar(name='X'),FreeVar(name='Y')]))\n",
    "draw(g)\n",
    "serialize_graph(g)\n",
    "assert serialize_graph(g) == ([('R', {'rel': 'R'}), (0, {'op': 'rename', 'names': [(0, 'X'), (1, 'Y')]})],\n",
    " [(0, 'R', {})])\n"
   ]
  },
  {
   "cell_type": "code",
   "execution_count": null,
   "metadata": {},
   "outputs": [
    {
     "data": {
      "text/html": [
       "<img src=\"https://mermaid.ink/img/CmZsb3djaGFydCBUQgowWyIwCm9wPSNxdW90O3Byb2plY3QjcXVvdDssIG9uPVsjcXVvdDtYI3F1b3Q7LCAjcXVvdDtZI3F1b3Q7XSJdCjFbIjEKb3A9I3F1b3Q7Z2V0X2NvbnN0I3F1b3Q7LCBjb25zdF9kaWN0PXsjcXVvdDtfQzIjcXVvdDs6IDF9Il0KMlsiMgpvcD0jcXVvdDtwcm9kdWN0I3F1b3Q7Il0KM1siMwpvcD0jcXVvdDtwcm9qZWN0I3F1b3Q7LCBvbj1bI3F1b3Q7WCNxdW90OywgI3F1b3Q7WSNxdW90OywgI3F1b3Q7X0MyI3F1b3Q7XSJdCjRbIjQKb3A9I3F1b3Q7aWVfbWFwI3F1b3Q7LCBmdW5jPSNxdW90O2YjcXVvdDssIGNvbWJpbmVkX3Rlcm1fbGVuPTYiXQo1WyI1Cm9wPSNxdW90O3NlbGVjdCNxdW90OywgdGhldGE9VGhldGEoY29sXzU9MikiXQo2WyI2Cm9wPSNxdW90O3NlbGVjdCNxdW90OywgdGhldGE9VGhldGEoY29sXzA9Y29sXzQpIl0KN1siNwpvcD0jcXVvdDtyZW5hbWUjcXVvdDssIG5hbWVzPVsoMCwgI3F1b3Q7WCNxdW90OyksICgxLCAjcXVvdDtZI3F1b3Q7KSwgKDMsICNxdW90O1ojcXVvdDspXSJdCjhbIjgKb3A9I3F1b3Q7cHJvamVjdCNxdW90Oywgb249WyNxdW90O1gjcXVvdDssICNxdW90O1kjcXVvdDssICNxdW90O1ojcXVvdDtdIl0KMiAtLT4gMAoyIC0tPiAxCjMgLS0+IDIKNCAtLT4gMwo1IC0tPiA0CjYgLS0+IDUKNyAtLT4gNgo4IC0tPiA3Cg==\"/>"
      ],
      "text/plain": [
       "<IPython.core.display.Image object>"
      ]
     },
     "metadata": {},
     "output_type": "display_data"
    }
   ],
   "source": [
    "g=nx.DiGraph()\n",
    "add_ie_relation(g,IERelation(name='f',in_terms=[FreeVar(name='X'),FreeVar(name='Y'),1],out_terms=[FreeVar(name='Z'),FreeVar(name='X'),2]))\n",
    "draw(g)\n",
    "assert serialize_graph(g) == ([(0, {'op': 'project', 'on': ['X', 'Y']}),\n",
    "  (1, {'op': 'get_const', 'const_dict': {'_C2': 1}}),\n",
    "  (2, {'op': 'product'}),\n",
    "  (3, {'op': 'project', 'on': ['X', 'Y', '_C2']}),\n",
    "  (4, {'op': 'ie_map', 'func': 'f','combined_term_len':6}),\n",
    "  (5, {'op': 'select', 'theta': equalConstTheta((5, 2))}),\n",
    "  (6, {'op': 'select', 'theta': equalColTheta((0,4))}),\n",
    "  (7, {'op': 'rename', 'names': [(0, 'X'), (1, 'Y'), (3, 'Z')]}),\n",
    "  (8, {'op': 'project', 'on': ['X', 'Y', 'Z']})],\n",
    " [(2, 0, {}),\n",
    "  (2, 1, {}),\n",
    "  (3, 2, {}),\n",
    "  (4, 3, {}),\n",
    "  (5, 4, {}),\n",
    "  (6, 5, {}),\n",
    "  (7, 6, {}),\n",
    "  (8, 7, {})])"
   ]
  },
  {
   "cell_type": "markdown",
   "metadata": {},
   "source": [
    "### Computing bounding order of rules"
   ]
  },
  {
   "cell_type": "code",
   "execution_count": null,
   "metadata": {},
   "outputs": [],
   "source": [
    "#| export\n",
    "def get_bounding_order(rule:Rule):\n",
    "    \"\"\"Get an order of evaluation for the body of a rule\n",
    "    this is a very naive ordering that can be heavily optimized\"\"\"\n",
    "\n",
    "    # we start with all relations since they can be bound at once\n",
    "    order = list()\n",
    "    bounded_vars = set()\n",
    "    for rel in rule.body:\n",
    "        if isinstance(rel,Relation):\n",
    "            order.append(rel)\n",
    "            for term in rel.terms:\n",
    "                if isinstance(term,FreeVar):\n",
    "                    bounded_vars.add(term)\n",
    "\n",
    "    unordered_ierelations = {rel for rel in rule.body if isinstance(rel,IERelation)}\n",
    "    while len(unordered_ierelations) > 0:\n",
    "        for ie_rel in unordered_ierelations:\n",
    "            in_free_vars = {term for term in ie_rel.in_terms if isinstance(term,FreeVar)}\n",
    "            if in_free_vars.issubset(bounded_vars):\n",
    "                order.append(ie_rel)\n",
    "                out_free_vars = {term for term in ie_rel.out_terms if isinstance(term,FreeVar)}\n",
    "                bounded_vars = bounded_vars.union(out_free_vars)\n",
    "                unordered_ierelations.remove(ie_rel)\n",
    "                break\n",
    "\n",
    "    return order"
   ]
  },
  {
   "cell_type": "code",
   "execution_count": null,
   "metadata": {},
   "outputs": [
    {
     "name": "stdout",
     "output_type": "stream",
     "text": [
      "R(X,Y,Z) <- T2(X,Y) -> (W,Z),T(X,1) -> (Y,Z),S(X,[1,4)),S2(X,A,B)\n"
     ]
    },
    {
     "data": {
      "text/plain": [
       "[Relation(name='S', terms=[FreeVar(name='X'), [1,4)]),\n",
       " Relation(name='S2', terms=[FreeVar(name='X'), FreeVar(name='A'), FreeVar(name='B')]),\n",
       " IERelation(name='T', in_terms=[FreeVar(name='X'), 1], out_terms=[FreeVar(name='Y'), FreeVar(name='Z')]),\n",
       " IERelation(name='T2', in_terms=[FreeVar(name='X'), FreeVar(name='Y')], out_terms=[FreeVar(name='W'), FreeVar(name='Z')])]"
      ]
     },
     "execution_count": null,
     "metadata": {},
     "output_type": "execute_result"
    }
   ],
   "source": [
    "r = Rule(\n",
    "    head=Relation(name='R', terms=[FreeVar(name='X'), FreeVar(name='Y'), FreeVar(name='Z')]),\n",
    "    body=[\n",
    "        IERelation(name='T2', in_terms=[FreeVar(name='X'), FreeVar(name='Y')], out_terms=[FreeVar(name='W'), FreeVar(name='Z')]),\n",
    "        IERelation(name='T', in_terms=[FreeVar(name='X'), 1], out_terms=[FreeVar(name='Y'), FreeVar(name='Z')]),\n",
    "        Relation(name='S', terms=[FreeVar(name='X'), Span(start=1,end=4)]),\n",
    "        Relation(name='S2', terms=[FreeVar(name='X'), FreeVar(name='A'),FreeVar(name='B')]),\n",
    "\n",
    "    ])\n",
    "\n",
    "print(pretty(r))\n",
    "\n",
    "order = get_bounding_order(r)\n",
    "assert [o.name for o in order ] == ['S','S2', 'T', 'T2']\n",
    "order"
   ]
  },
  {
   "cell_type": "markdown",
   "metadata": {},
   "source": [
    "### Adding rules "
   ]
  },
  {
   "cell_type": "code",
   "execution_count": null,
   "metadata": {},
   "outputs": [],
   "source": [
    "#| export\n",
    "def rule_to_graph(rule:Rule,rule_id):\n",
    "    \"\"\"\n",
    "    converts a rule to a graph\n",
    "    \"\"\"\n",
    "    g=nx.DiGraph()\n",
    "    body_rels = get_bounding_order(rule)\n",
    "\n",
    "    top_bottom_nodes = []\n",
    "\n",
    "    # add all body relations to the graph\n",
    "    for rel in body_rels:\n",
    "        if isinstance(rel,Relation):\n",
    "            top,bottom = add_relation(g,rel)\n",
    "            top_bottom_nodes.append((top,bottom))\n",
    "        elif isinstance(rel,IERelation):\n",
    "            top,bottom = add_ie_relation(g,rel)\n",
    "            top_bottom_nodes.append((top,bottom))\n",
    "\n",
    "    # connect outputs of different rels via joins\n",
    "    # and connect input of ie functons into the join\n",
    "    for i,((top,bottom),rel) in enumerate(zip(top_bottom_nodes,body_rels)):\n",
    "        if i == 0:\n",
    "            prev_top = top\n",
    "            continue\n",
    "\n",
    "        join_node_name = get_new_node_name(g)\n",
    "        g.add_node(join_node_name, op='join')\n",
    "        g.add_edge(join_node_name,prev_top)\n",
    "        g.add_edge(join_node_name,top)\n",
    "\n",
    "        if isinstance(rel,IERelation):\n",
    "            g.add_edge(bottom,prev_top)\n",
    "        prev_top = join_node_name\n",
    "\n",
    "    # project all assignments into the head\n",
    "    head_project_name = get_new_node_name(g)\n",
    "    g.add_node(head_project_name, op='project', on=[term.name for term in rule.head.terms],rel=f'_{rule.head.name}_{rule_id}')\n",
    "    g.add_edge(head_project_name,prev_top)\n",
    "\n",
    "    # add a union for each rule for the given head\n",
    "    g.add_node(rule.head.name,op='union',rel=rule.head.name)\n",
    "    g.add_edge(rule.head.name,head_project_name)\n",
    "\n",
    "    # add rule id for each node\n",
    "    for u in g.nodes:\n",
    "        g.nodes[u]['rule_id'] = {rule_id}\n",
    "    return g\n"
   ]
  },
  {
   "cell_type": "markdown",
   "metadata": {},
   "source": [
    "#### Test"
   ]
  },
  {
   "cell_type": "code",
   "execution_count": null,
   "metadata": {},
   "outputs": [
    {
     "data": {
      "text/html": [
       "<img src=\"https://mermaid.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\"/>"
      ],
      "text/plain": [
       "<IPython.core.display.Image object>"
      ]
     },
     "metadata": {},
     "output_type": "display_data"
    }
   ],
   "source": [
    "g = rule_to_graph(r,0)\n",
    "draw(g)\n",
    "assert serialize_graph(g) == ([('S', {'rel': 'S', 'rule_id': {0}}),\n",
    "  (0, {'op': 'rename', 'names': [(0, 'X')], 'rule_id': {0}}),\n",
    "  (1, {'op': 'select', 'theta': equalConstTheta((1,Span(1,4))), 'rule_id': {0}}),\n",
    "  (2, {'op': 'project', 'on': ['X'], 'rule_id': {0}}),\n",
    "  ('S2', {'rel': 'S2', 'rule_id': {0}}),\n",
    "  (3,\n",
    "   {'op': 'rename', 'names': [(0, 'X'), (1, 'A'), (2, 'B')], 'rule_id': {0}}),\n",
    "  (4, {'op': 'project', 'on': ['X'], 'rule_id': {0}}),\n",
    "  (5, {'op': 'get_const', 'const_dict': {'_C1': 1}, 'rule_id': {0}}),\n",
    "  (6, {'op': 'product', 'rule_id': {0}}),\n",
    "  (7, {'op': 'project', 'on': ['X', '_C1'], 'rule_id': {0}}),\n",
    "  (8, {'op': 'ie_map', 'func': 'T', 'rule_id': {0},'combined_term_len':4}),\n",
    "  (9,\n",
    "   {'op': 'rename', 'names': [(0, 'X'), (2, 'Y'), (3, 'Z')], 'rule_id': {0}}),\n",
    "  (10, {'op': 'project', 'on': ['X', 'Y', 'Z'], 'rule_id': {0}}),\n",
    "  (11, {'op': 'project', 'on': ['X', 'Y'], 'rule_id': {0}}),\n",
    "  (12, {'op': 'ie_map', 'func': 'T2', 'rule_id': {0},'combined_term_len':4}),\n",
    "  (13,\n",
    "   {'op': 'rename',\n",
    "    'names': [(0, 'X'), (1, 'Y'), (2, 'W'), (3, 'Z')],\n",
    "    'rule_id': {0}}),\n",
    "  (14, {'op': 'project', 'on': ['X', 'Y', 'W', 'Z'], 'rule_id': {0}}),\n",
    "  (15, {'op': 'join', 'rule_id': {0}}),\n",
    "  (16, {'op': 'join', 'rule_id': {0}}),\n",
    "  (17, {'op': 'join', 'rule_id': {0}}),\n",
    "  (18,\n",
    "   {'op': 'project', 'on': ['X', 'Y', 'Z'], 'rel': '_R_0', 'rule_id': {0}}),\n",
    "  ('R', {'op': 'union', 'rel': 'R', 'rule_id': {0}})],\n",
    " [(0, 'S', {}),\n",
    "  (1, 0, {}),\n",
    "  (2, 1, {}),\n",
    "  (3, 'S2', {}),\n",
    "  (4, 15, {}),\n",
    "  (6, 4, {}),\n",
    "  (6, 5, {}),\n",
    "  (7, 6, {}),\n",
    "  (8, 7, {}),\n",
    "  (9, 8, {}),\n",
    "  (10, 9, {}),\n",
    "  (11, 16, {}),\n",
    "  (12, 11, {}),\n",
    "  (13, 12, {}),\n",
    "  (14, 13, {}),\n",
    "  (15, 2, {}),\n",
    "  (15, 3, {}),\n",
    "  (16, 15, {}),\n",
    "  (16, 10, {}),\n",
    "  (17, 16, {}),\n",
    "  (17, 14, {}),\n",
    "  (18, 17, {}),\n",
    "  ('R', 18, {})])"
   ]
  },
  {
   "cell_type": "markdown",
   "metadata": {},
   "source": [
    "### Compose term graphs"
   ]
  },
  {
   "cell_type": "code",
   "execution_count": null,
   "metadata": {},
   "outputs": [],
   "source": [
    "#| export\n",
    "def graph_compose(g1,g2,mapping_dict,debug=False):\n",
    "    \"\"\"compose two graphs with a mapping dict\"\"\"\n",
    "    # if there is a node in g2 that is renamed but has a name collision with an existing node that is not renamed, we will rename the existing node to a uniq name\n",
    "    # making new names into a digraph is a dirty hack, TODO resolve this\n",
    "    save_new_names= nx.DiGraph()\n",
    "    original_mapping_dict = mapping_dict.copy()\n",
    "    for u2 in g2.nodes():\n",
    "        if u2 not in mapping_dict and u2 in g1.nodes():\n",
    "            mapping_dict[u2] = get_new_node_name(g2,avoid_names_from=[g1,save_new_names])\n",
    "            save_new_names.add_node(mapping_dict[u2])\n",
    "    if debug:\n",
    "        return mapping_dict\n",
    "    g2 = nx.relabel_nodes(g2,mapping_dict,copy=True)\n",
    "\n",
    "    merged_graph = nx.compose(g1,g2)\n",
    "    for old_name,new_name in original_mapping_dict.items():\n",
    "        rule_ids1 = g1.nodes[old_name].get('rule_id',set())\n",
    "        rule_ids2 = g2.nodes[new_name].get('rule_id',set())\n",
    "        merged_rule_ids = rule_ids1.union(rule_ids2)\n",
    "        merged_graph.nodes[new_name]['rule_id'] = merged_rule_ids\n",
    "\n",
    "\n",
    "\n",
    "    return merged_graph\n"
   ]
  },
  {
   "cell_type": "markdown",
   "metadata": {},
   "source": [
    "#### Test"
   ]
  },
  {
   "cell_type": "code",
   "execution_count": null,
   "metadata": {},
   "outputs": [
    {
     "name": "stdout",
     "output_type": "stream",
     "text": [
      "R(X,Y) <- S(X,Y),S2(X,A,1)\n",
      "R(X,Y) <- S(X,Y)\n",
      "R2(X,Y) <- S3(X,Y),S2(X,A,1)\n"
     ]
    }
   ],
   "source": [
    "r1 = Rule(\n",
    "    head=Relation(name='R', terms=[FreeVar(name='X'), FreeVar(name='Y')]),\n",
    "    body=[\n",
    "        Relation(name='S', terms=[FreeVar(name='X'),FreeVar(name='Y')]),\n",
    "        Relation(name='S2', terms=[FreeVar(name='X'), FreeVar(name='A'),1]),\n",
    "    ])\n",
    "\n",
    "r2 = Rule(\n",
    "    head=Relation(name='R', terms=[FreeVar(name='X'), FreeVar(name='Y')]),\n",
    "    body=[\n",
    "        Relation(name='S', terms=[FreeVar(name='X'),FreeVar(name='Y')]),\n",
    "    ])\n",
    "\n",
    "r3 = Rule(\n",
    "    head=Relation(name='R2', terms=[FreeVar(name='X'), FreeVar(name='Y')]),\n",
    "    body=[\n",
    "        Relation(name='S3', terms=[FreeVar(name='X'),FreeVar(name='Y')]),\n",
    "        Relation(name='S2', terms=[FreeVar(name='X'), FreeVar(name='A'),1]),\n",
    "    ])\n",
    "rules = [r1,r2,r3]\n",
    "for r in rules:\n",
    "    print(pretty(r))\n",
    "t1,t2,t3 = [rule_to_graph(r,i) for i,r in enumerate(rules)]"
   ]
  },
  {
   "cell_type": "code",
   "execution_count": null,
   "metadata": {},
   "outputs": [
    {
     "data": {
      "text/html": [
       "<img src=\"https://mermaid.ink/img/CmZsb3djaGFydCBUQgpTWyJTCnJlbD0jcXVvdDtTI3F1b3Q7LCBydWxlX2lkPXswfSJdCjBbIjAKb3A9I3F1b3Q7cmVuYW1lI3F1b3Q7LCBuYW1lcz1bKDAsICNxdW90O1gjcXVvdDspLCAoMSwgI3F1b3Q7WSNxdW90OyldLCBydWxlX2lkPXswfSJdClMyWyJTMgpyZWw9I3F1b3Q7UzIjcXVvdDssIHJ1bGVfaWQ9ezB9Il0KMVsiMQpvcD0jcXVvdDtyZW5hbWUjcXVvdDssIG5hbWVzPVsoMCwgI3F1b3Q7WCNxdW90OyksICgxLCAjcXVvdDtBI3F1b3Q7KV0sIHJ1bGVfaWQ9ezB9Il0KMlsiMgpvcD0jcXVvdDtzZWxlY3QjcXVvdDssIHRoZXRhPVRoZXRhKGNvbF8yPTEpLCBydWxlX2lkPXswfSJdCjNbIjMKb3A9I3F1b3Q7cHJvamVjdCNxdW90Oywgb249WyNxdW90O1gjcXVvdDssICNxdW90O0EjcXVvdDtdLCBydWxlX2lkPXswfSJdCjRbIjQKb3A9I3F1b3Q7am9pbiNxdW90OywgcnVsZV9pZD17MH0iXQo1WyI1Cm9wPSNxdW90O3Byb2plY3QjcXVvdDssIG9uPVsjcXVvdDtYI3F1b3Q7LCAjcXVvdDtZI3F1b3Q7XSwgcmVsPSNxdW90O19SXzAjcXVvdDssIHJ1bGVfaWQ9ezB9Il0KUlsiUgpvcD0jcXVvdDt1bmlvbiNxdW90OywgcmVsPSNxdW90O1IjcXVvdDssIHJ1bGVfaWQ9ezB9Il0KMCAtLT4gUwoxIC0tPiBTMgoyIC0tPiAxCjMgLS0+IDIKNCAtLT4gMAo0IC0tPiAzCjUgLS0+IDQKUiAtLT4gNQo=\"/>"
      ],
      "text/plain": [
       "<IPython.core.display.Image object>"
      ]
     },
     "metadata": {},
     "output_type": "display_data"
    },
    {
     "data": {
      "text/html": [
       "<img src=\"https://mermaid.ink/img/CmZsb3djaGFydCBUQgpTWyJTCnJlbD0jcXVvdDtTI3F1b3Q7LCBydWxlX2lkPXsxfSJdCjBbIjAKb3A9I3F1b3Q7cmVuYW1lI3F1b3Q7LCBuYW1lcz1bKDAsICNxdW90O1gjcXVvdDspLCAoMSwgI3F1b3Q7WSNxdW90OyldLCBydWxlX2lkPXsxfSJdCjFbIjEKb3A9I3F1b3Q7cHJvamVjdCNxdW90Oywgb249WyNxdW90O1gjcXVvdDssICNxdW90O1kjcXVvdDtdLCByZWw9I3F1b3Q7X1JfMSNxdW90OywgcnVsZV9pZD17MX0iXQpSWyJSCm9wPSNxdW90O3VuaW9uI3F1b3Q7LCByZWw9I3F1b3Q7UiNxdW90OywgcnVsZV9pZD17MX0iXQowIC0tPiBTCjEgLS0+IDAKUiAtLT4gMQo=\"/>"
      ],
      "text/plain": [
       "<IPython.core.display.Image object>"
      ]
     },
     "metadata": {},
     "output_type": "display_data"
    },
    {
     "data": {
      "text/html": [
       "<img src=\"https://mermaid.ink/img/CmZsb3djaGFydCBUQgpTM1siUzMKcmVsPSNxdW90O1MzI3F1b3Q7LCBydWxlX2lkPXsyfSJdCjBbIjAKb3A9I3F1b3Q7cmVuYW1lI3F1b3Q7LCBuYW1lcz1bKDAsICNxdW90O1gjcXVvdDspLCAoMSwgI3F1b3Q7WSNxdW90OyldLCBydWxlX2lkPXsyfSJdClMyWyJTMgpyZWw9I3F1b3Q7UzIjcXVvdDssIHJ1bGVfaWQ9ezJ9Il0KMVsiMQpvcD0jcXVvdDtyZW5hbWUjcXVvdDssIG5hbWVzPVsoMCwgI3F1b3Q7WCNxdW90OyksICgxLCAjcXVvdDtBI3F1b3Q7KV0sIHJ1bGVfaWQ9ezJ9Il0KMlsiMgpvcD0jcXVvdDtzZWxlY3QjcXVvdDssIHRoZXRhPVRoZXRhKGNvbF8yPTEpLCBydWxlX2lkPXsyfSJdCjNbIjMKb3A9I3F1b3Q7cHJvamVjdCNxdW90Oywgb249WyNxdW90O1gjcXVvdDssICNxdW90O0EjcXVvdDtdLCBydWxlX2lkPXsyfSJdCjRbIjQKb3A9I3F1b3Q7am9pbiNxdW90OywgcnVsZV9pZD17Mn0iXQo1WyI1Cm9wPSNxdW90O3Byb2plY3QjcXVvdDssIG9uPVsjcXVvdDtYI3F1b3Q7LCAjcXVvdDtZI3F1b3Q7XSwgcmVsPSNxdW90O19SMl8yI3F1b3Q7LCBydWxlX2lkPXsyfSJdClIyWyJSMgpvcD0jcXVvdDt1bmlvbiNxdW90OywgcmVsPSNxdW90O1IyI3F1b3Q7LCBydWxlX2lkPXsyfSJdCjAgLS0+IFMzCjEgLS0+IFMyCjIgLS0+IDEKMyAtLT4gMgo0IC0tPiAwCjQgLS0+IDMKNSAtLT4gNApSMiAtLT4gNQo=\"/>"
      ],
      "text/plain": [
       "<IPython.core.display.Image object>"
      ]
     },
     "metadata": {},
     "output_type": "display_data"
    }
   ],
   "source": [
    "draw(t1)\n",
    "draw(t2)\n",
    "draw(t3)"
   ]
  },
  {
   "cell_type": "code",
   "execution_count": null,
   "metadata": {},
   "outputs": [
    {
     "data": {
      "text/html": [
       "<img src=\"https://mermaid.ink/img/CmZsb3djaGFydCBUQgpTWyJTCnJlbD0jcXVvdDtTI3F1b3Q7LCBydWxlX2lkPXswLCAxfSJdCjBbIjAKb3A9I3F1b3Q7cmVuYW1lI3F1b3Q7LCBuYW1lcz1bKDAsICNxdW90O1gjcXVvdDspLCAoMSwgI3F1b3Q7WSNxdW90OyldLCBydWxlX2lkPXswLCAxfSJdClMyWyJTMgpyZWw9I3F1b3Q7UzIjcXVvdDssIHJ1bGVfaWQ9ezB9Il0KMVsiMQpvcD0jcXVvdDtyZW5hbWUjcXVvdDssIG5hbWVzPVsoMCwgI3F1b3Q7WCNxdW90OyksICgxLCAjcXVvdDtBI3F1b3Q7KV0sIHJ1bGVfaWQ9ezB9Il0KMlsiMgpvcD0jcXVvdDtzZWxlY3QjcXVvdDssIHRoZXRhPVRoZXRhKGNvbF8yPTEpLCBydWxlX2lkPXswfSJdCjNbIjMKb3A9I3F1b3Q7cHJvamVjdCNxdW90Oywgb249WyNxdW90O1gjcXVvdDssICNxdW90O0EjcXVvdDtdLCBydWxlX2lkPXswfSJdCjRbIjQKb3A9I3F1b3Q7am9pbiNxdW90OywgcnVsZV9pZD17MH0iXQo1WyI1Cm9wPSNxdW90O3Byb2plY3QjcXVvdDssIG9uPVsjcXVvdDtYI3F1b3Q7LCAjcXVvdDtZI3F1b3Q7XSwgcmVsPSNxdW90O19SXzAjcXVvdDssIHJ1bGVfaWQ9ezB9Il0KUlsiUgpvcD0jcXVvdDt1bmlvbiNxdW90OywgcmVsPSNxdW90O1IjcXVvdDssIHJ1bGVfaWQ9ezAsIDF9Il0KNlsiNgpvcD0jcXVvdDtwcm9qZWN0I3F1b3Q7LCBvbj1bI3F1b3Q7WCNxdW90OywgI3F1b3Q7WSNxdW90O10sIHJlbD0jcXVvdDtfUl8xI3F1b3Q7LCBydWxlX2lkPXsxfSJdCjAgLS0+IFMKMSAtLT4gUzIKMiAtLT4gMQozIC0tPiAyCjQgLS0+IDAKNCAtLT4gMwo1IC0tPiA0ClIgLS0+IDUKUiAtLT4gNgo2IC0tPiAwCg==\"/>"
      ],
      "text/plain": [
       "<IPython.core.display.Image object>"
      ]
     },
     "metadata": {},
     "output_type": "display_data"
    }
   ],
   "source": [
    "m= graph_compose(t1,t2,\n",
    "    mapping_dict = {'S':'S','R':'R',0:0}) \n",
    "draw(m)"
   ]
  },
  {
   "cell_type": "markdown",
   "metadata": {},
   "source": [
    "### Merge term graphs"
   ]
  },
  {
   "cell_type": "code",
   "execution_count": null,
   "metadata": {},
   "outputs": [],
   "source": [
    "#| export\n",
    "def merge_term_graphs_pair(g1,g2,exclude_props = ['label'],debug=False):\n",
    "    \"\"\"merge two term graphs into one term graph\n",
    "    when talking about term graphs, 2 nodes if their data is identical and all of their children are identical\n",
    "    but we would also like to merge rules for the same head, so we will also nodes that have the same 'rel' attribute\n",
    "    \"\"\"\n",
    "\n",
    "    def _are_nodes_equal(g1,u1,g2,u2):\n",
    "\n",
    "        u1_data = g1.nodes[u1]\n",
    "        u2_data = g2.nodes[u2]\n",
    "        \n",
    "        if 'rel' in u1_data and 'rel' in u2_data:\n",
    "            return u1_data['rel'] == u2_data['rel']\n",
    "\n",
    "\n",
    "        \n",
    "        return False\n",
    "        # TODO this old code tries to merge nodes, but then its hard to remember which belong to which rules so we only merge\n",
    "        # so we will do this merging per query\n",
    "        u1_clean_data = {k:v for k,v in u1_data.items() if k not in exclude_props}\n",
    "        u2_clean_data = {k:v for k,v in u2_data.items() if k not in exclude_props}\n",
    "\n",
    "        are_equal = u1_clean_data == u2_clean_data and all(v2 in node_mappings for v2 in g2.successors(u2))\n",
    "        return are_equal\n",
    "        \n",
    "\n",
    "    # we will check for each node in g2 if it has a node in g1 which is it's equal.\n",
    "    # and save that in a mapping\n",
    "    node_mappings=dict()# g2 node name to g1 node name\n",
    "    # we use the fact that g2 is going to be acyclic to travers it in postorder\n",
    "    for u2 in nx.dfs_postorder_nodes(g2):\n",
    "        for u1 in g1.nodes():\n",
    "            if _are_nodes_equal(g1,u1,g2,u2):\n",
    "                node_mappings[u2] = u1\n",
    "                break\n",
    "\n",
    "\n",
    "\n",
    "    if debug:\n",
    "        return node_mappings\n",
    "    else:\n",
    "        return graph_compose(g1,g2,node_mappings)\n",
    "\n",
    "\n",
    "\n",
    "def merge_term_graphs(gs,exclude_props = ['label'],debug=False):\n",
    "    \"\"\"merge a list of term graphs into one term graph\n",
    "    \"\"\"\n",
    "    merge = gs[0]\n",
    "    for g in gs[1:-1]:\n",
    "        merge = merge_term_graphs_pair(merge,g,exclude_props,debug=False)\n",
    "    # if debug, we run debug only on the last merge so we can iteratively debug a list of merges\n",
    "    return merge_term_graphs_pair(merge,gs[-1],exclude_props,debug=debug)\n"
   ]
  },
  {
   "cell_type": "markdown",
   "metadata": {},
   "source": [
    "#### Tests"
   ]
  },
  {
   "cell_type": "code",
   "execution_count": null,
   "metadata": {},
   "outputs": [],
   "source": [
    "r1 = Rule(\n",
    "    head=Relation(name='A', terms=[FreeVar(name='X'), FreeVar(name='Y')]),\n",
    "    body=[\n",
    "        Relation(name='B', terms=[FreeVar(name='X'),FreeVar(name='Y')]),\n",
    "    ])\n",
    "\n",
    "r2 = Rule(\n",
    "    head=Relation(name='A', terms=[FreeVar(name='X'), FreeVar(name='Y')]),\n",
    "    body=[\n",
    "        Relation(name='C', terms=[FreeVar(name='X'),FreeVar(name='Y')]),\n",
    "    ])\n",
    "\n",
    "r3 = Rule(\n",
    "    head=Relation(name='B', terms=[FreeVar(name='X'), FreeVar(name='Y')]),\n",
    "    body=[\n",
    "        Relation(name='D', terms=[FreeVar(name='X'),FreeVar(name='Y')]),\n",
    "    ])\n",
    "\n",
    "r4 = Rule(\n",
    "    head=Relation(name='B', terms=[FreeVar(name='X'), FreeVar(name='Y')]),\n",
    "    body=[\n",
    "        Relation(name='A', terms=[FreeVar(name='X'),FreeVar(name='Y')]),\n",
    "    ])\n",
    "\n"
   ]
  },
  {
   "cell_type": "code",
   "execution_count": null,
   "metadata": {},
   "outputs": [
    {
     "name": "stdout",
     "output_type": "stream",
     "text": [
      "['A(X,Y) <- B(X,Y)', 'A(X,Y) <- C(X,Y)', 'B(X,Y) <- D(X,Y)', 'B(X,Y) <- A(X,Y)']\n"
     ]
    },
    {
     "data": {
      "text/html": [
       "<img src=\"https://mermaid.ink/img/CmZsb3djaGFydCBUQgpCWyJCCnJlbD0jcXVvdDtCI3F1b3Q7LCBydWxlX2lkPXswfSJdCjBbIjAKb3A9I3F1b3Q7cmVuYW1lI3F1b3Q7LCBuYW1lcz1bKDAsICNxdW90O1gjcXVvdDspLCAoMSwgI3F1b3Q7WSNxdW90OyldLCBydWxlX2lkPXswfSJdCjFbIjEKb3A9I3F1b3Q7cHJvamVjdCNxdW90Oywgb249WyNxdW90O1gjcXVvdDssICNxdW90O1kjcXVvdDtdLCByZWw9I3F1b3Q7X0FfMCNxdW90OywgcnVsZV9pZD17MH0iXQpBWyJBCm9wPSNxdW90O3VuaW9uI3F1b3Q7LCByZWw9I3F1b3Q7QSNxdW90OywgcnVsZV9pZD17MH0iXQowIC0tPiBCCjEgLS0+IDAKQSAtLT4gMQo=\"/>"
      ],
      "text/plain": [
       "<IPython.core.display.Image object>"
      ]
     },
     "metadata": {},
     "output_type": "display_data"
    },
    {
     "data": {
      "text/html": [
       "<img src=\"https://mermaid.ink/img/CmZsb3djaGFydCBUQgpDWyJDCnJlbD0jcXVvdDtDI3F1b3Q7LCBydWxlX2lkPXswfSJdCjBbIjAKb3A9I3F1b3Q7cmVuYW1lI3F1b3Q7LCBuYW1lcz1bKDAsICNxdW90O1gjcXVvdDspLCAoMSwgI3F1b3Q7WSNxdW90OyldLCBydWxlX2lkPXswfSJdCjFbIjEKb3A9I3F1b3Q7cHJvamVjdCNxdW90Oywgb249WyNxdW90O1gjcXVvdDssICNxdW90O1kjcXVvdDtdLCByZWw9I3F1b3Q7X0FfMCNxdW90OywgcnVsZV9pZD17MH0iXQpBWyJBCm9wPSNxdW90O3VuaW9uI3F1b3Q7LCByZWw9I3F1b3Q7QSNxdW90OywgcnVsZV9pZD17MH0iXQowIC0tPiBDCjEgLS0+IDAKQSAtLT4gMQo=\"/>"
      ],
      "text/plain": [
       "<IPython.core.display.Image object>"
      ]
     },
     "metadata": {},
     "output_type": "display_data"
    },
    {
     "data": {
      "text/html": [
       "<img src=\"https://mermaid.ink/img/CmZsb3djaGFydCBUQgpEWyJECnJlbD0jcXVvdDtEI3F1b3Q7LCBydWxlX2lkPXswfSJdCjBbIjAKb3A9I3F1b3Q7cmVuYW1lI3F1b3Q7LCBuYW1lcz1bKDAsICNxdW90O1gjcXVvdDspLCAoMSwgI3F1b3Q7WSNxdW90OyldLCBydWxlX2lkPXswfSJdCjFbIjEKb3A9I3F1b3Q7cHJvamVjdCNxdW90Oywgb249WyNxdW90O1gjcXVvdDssICNxdW90O1kjcXVvdDtdLCByZWw9I3F1b3Q7X0JfMCNxdW90OywgcnVsZV9pZD17MH0iXQpCWyJCCm9wPSNxdW90O3VuaW9uI3F1b3Q7LCByZWw9I3F1b3Q7QiNxdW90OywgcnVsZV9pZD17MH0iXQowIC0tPiBECjEgLS0+IDAKQiAtLT4gMQo=\"/>"
      ],
      "text/plain": [
       "<IPython.core.display.Image object>"
      ]
     },
     "metadata": {},
     "output_type": "display_data"
    },
    {
     "data": {
      "text/html": [
       "<img src=\"https://mermaid.ink/img/CmZsb3djaGFydCBUQgpBWyJBCnJlbD0jcXVvdDtBI3F1b3Q7LCBydWxlX2lkPXswfSJdCjBbIjAKb3A9I3F1b3Q7cmVuYW1lI3F1b3Q7LCBuYW1lcz1bKDAsICNxdW90O1gjcXVvdDspLCAoMSwgI3F1b3Q7WSNxdW90OyldLCBydWxlX2lkPXswfSJdCjFbIjEKb3A9I3F1b3Q7cHJvamVjdCNxdW90Oywgb249WyNxdW90O1gjcXVvdDssICNxdW90O1kjcXVvdDtdLCByZWw9I3F1b3Q7X0JfMCNxdW90OywgcnVsZV9pZD17MH0iXQpCWyJCCm9wPSNxdW90O3VuaW9uI3F1b3Q7LCByZWw9I3F1b3Q7QiNxdW90OywgcnVsZV9pZD17MH0iXQowIC0tPiBBCjEgLS0+IDAKQiAtLT4gMQo=\"/>"
      ],
      "text/plain": [
       "<IPython.core.display.Image object>"
      ]
     },
     "metadata": {},
     "output_type": "display_data"
    }
   ],
   "source": [
    "rules = [r1,r2,r3,r4]\n",
    "print([pretty(r) for r in rules])\n",
    "for r in rules:\n",
    "    draw(rule_to_graph(r,0))\n"
   ]
  },
  {
   "cell_type": "code",
   "execution_count": null,
   "metadata": {},
   "outputs": [
    {
     "data": {
      "text/html": [
       "<img src=\"https://mermaid.ink/img/CmZsb3djaGFydCBUQgpCWyJCCnJlbD0jcXVvdDtCI3F1b3Q7LCBydWxlX2lkPXswLCAyLCAzfSwgb3A9I3F1b3Q7dW5pb24jcXVvdDsiXQowWyIwCm9wPSNxdW90O3JlbmFtZSNxdW90OywgbmFtZXM9WygwLCAjcXVvdDtYI3F1b3Q7KSwgKDEsICNxdW90O1kjcXVvdDspXSwgcnVsZV9pZD17MH0iXQoxWyIxCm9wPSNxdW90O3Byb2plY3QjcXVvdDssIG9uPVsjcXVvdDtYI3F1b3Q7LCAjcXVvdDtZI3F1b3Q7XSwgcmVsPSNxdW90O19BXzAjcXVvdDssIHJ1bGVfaWQ9ezB9Il0KQVsiQQpvcD0jcXVvdDt1bmlvbiNxdW90OywgcmVsPSNxdW90O0EjcXVvdDssIHJ1bGVfaWQ9ezAsIDEsIDN9Il0KQ1siQwpyZWw9I3F1b3Q7QyNxdW90OywgcnVsZV9pZD17MX0iXQoyWyIyCm9wPSNxdW90O3JlbmFtZSNxdW90OywgbmFtZXM9WygwLCAjcXVvdDtYI3F1b3Q7KSwgKDEsICNxdW90O1kjcXVvdDspXSwgcnVsZV9pZD17MX0iXQozWyIzCm9wPSNxdW90O3Byb2plY3QjcXVvdDssIG9uPVsjcXVvdDtYI3F1b3Q7LCAjcXVvdDtZI3F1b3Q7XSwgcmVsPSNxdW90O19BXzEjcXVvdDssIHJ1bGVfaWQ9ezF9Il0KRFsiRApyZWw9I3F1b3Q7RCNxdW90OywgcnVsZV9pZD17Mn0iXQo0WyI0Cm9wPSNxdW90O3JlbmFtZSNxdW90OywgbmFtZXM9WygwLCAjcXVvdDtYI3F1b3Q7KSwgKDEsICNxdW90O1kjcXVvdDspXSwgcnVsZV9pZD17Mn0iXQo1WyI1Cm9wPSNxdW90O3Byb2plY3QjcXVvdDssIG9uPVsjcXVvdDtYI3F1b3Q7LCAjcXVvdDtZI3F1b3Q7XSwgcmVsPSNxdW90O19CXzIjcXVvdDssIHJ1bGVfaWQ9ezJ9Il0KNlsiNgpvcD0jcXVvdDtyZW5hbWUjcXVvdDssIG5hbWVzPVsoMCwgI3F1b3Q7WCNxdW90OyksICgxLCAjcXVvdDtZI3F1b3Q7KV0sIHJ1bGVfaWQ9ezN9Il0KN1siNwpvcD0jcXVvdDtwcm9qZWN0I3F1b3Q7LCBvbj1bI3F1b3Q7WCNxdW90OywgI3F1b3Q7WSNxdW90O10sIHJlbD0jcXVvdDtfQl8zI3F1b3Q7LCBydWxlX2lkPXszfSJdCkIgLS0+IDUKQiAtLT4gNwowIC0tPiBCCjEgLS0+IDAKQSAtLT4gMQpBIC0tPiAzCjIgLS0+IEMKMyAtLT4gMgo0IC0tPiBECjUgLS0+IDQKNiAtLT4gQQo3IC0tPiA2Cg==\"/>"
      ],
      "text/plain": [
       "<IPython.core.display.Image object>"
      ]
     },
     "metadata": {},
     "output_type": "display_data"
    },
    {
     "data": {
      "text/plain": [
       "([('B', {'rel': 'B', 'rule_id': {0, 2, 3}, 'op': 'union'}),\n",
       "  (0, {'op': 'rename', 'names': [(0, 'X'), (1, 'Y')], 'rule_id': {0}}),\n",
       "  (1, {'op': 'project', 'on': ['X', 'Y'], 'rel': '_A_0', 'rule_id': {0}}),\n",
       "  ('A', {'op': 'union', 'rel': 'A', 'rule_id': {0, 1, 3}}),\n",
       "  ('C', {'rel': 'C', 'rule_id': {1}}),\n",
       "  (2, {'op': 'rename', 'names': [(0, 'X'), (1, 'Y')], 'rule_id': {1}}),\n",
       "  (3, {'op': 'project', 'on': ['X', 'Y'], 'rel': '_A_1', 'rule_id': {1}}),\n",
       "  ('D', {'rel': 'D', 'rule_id': {2}}),\n",
       "  (4, {'op': 'rename', 'names': [(0, 'X'), (1, 'Y')], 'rule_id': {2}}),\n",
       "  (5, {'op': 'project', 'on': ['X', 'Y'], 'rel': '_B_2', 'rule_id': {2}}),\n",
       "  (6, {'op': 'rename', 'names': [(0, 'X'), (1, 'Y')], 'rule_id': {3}}),\n",
       "  (7, {'op': 'project', 'on': ['X', 'Y'], 'rel': '_B_3', 'rule_id': {3}})],\n",
       " [('B', 5, {}),\n",
       "  ('B', 7, {}),\n",
       "  (0, 'B', {}),\n",
       "  (1, 0, {}),\n",
       "  ('A', 1, {}),\n",
       "  ('A', 3, {}),\n",
       "  (2, 'C', {}),\n",
       "  (3, 2, {}),\n",
       "  (4, 'D', {}),\n",
       "  (5, 4, {}),\n",
       "  (6, 'A', {}),\n",
       "  (7, 6, {})])"
      ]
     },
     "execution_count": null,
     "metadata": {},
     "output_type": "execute_result"
    }
   ],
   "source": [
    "m = merge_term_graphs([rule_to_graph(r,i) for i,r in enumerate(rules)])\n",
    "draw(m)\n",
    "serialize_graph(m)\n",
    "# assert serialize_graph(m) == ([('B', {'op': 'union', 'rel': 'B', 'rule_id': {0, 2, 3}}),\n",
    "#   (0, {'op': 'rename', 'names': [(0, 'X'), (1, 'Y')], 'rule_id': {0}}),\n",
    "#   (1, {'op': 'project', 'on': ['X', 'Y'], 'rel': '_A_0', 'rule_id': {0}}),\n",
    "#   ('A', { 'rel': 'A', 'rule_id': {0, 1, 3}}),\n",
    "#   ('C', { 'rel': 'C', 'rule_id': {1}}),\n",
    "#   (2, {'op': 'rename', 'names': [(0, 'X'), (1, 'Y')], 'rule_id': {1}}),\n",
    "#   (3, {'op': 'project', 'on': ['X', 'Y'], 'rel': '_A_1', 'rule_id': {1}}),\n",
    "#   ('D', { 'rel': 'D', 'rule_id': {2}}),\n",
    "#   (4, {'op': 'rename', 'names': [(0, 'X'), (1, 'Y')], 'rule_id': {2}}),\n",
    "#   (5, {'op': 'project', 'on': ['X', 'Y'], 'rel': '_B_2', 'rule_id': {2}}),\n",
    "#   (6, {'op': 'rename', 'names': [(0, 'X'), (1, 'Y')], 'rule_id': {3}}),\n",
    "#   (7, {'op': 'project', 'on': ['X', 'Y'], 'rel': '_B_3', 'rule_id': {3}})],\n",
    "#  [('B', 5, {}),\n",
    "#   ('B', 7, {}),\n",
    "#   (0, 'B', {}),\n",
    "#   (1, 0, {}),\n",
    "#   ('A', 1, {}),\n",
    "#   ('A', 3, {}),\n",
    "#   (2, 'C', {}),\n",
    "#   (3, 2, {}),\n",
    "#   (4, 'D', {}),\n",
    "#   (5, 4, {}),\n",
    "#   (6, 'A', {}),\n",
    "#   (7, 6, {})])"
   ]
  },
  {
   "cell_type": "code",
   "execution_count": null,
   "metadata": {},
   "outputs": [
    {
     "data": {
      "text/html": [
       "<img src=\"https://mermaid.ink/img/CmZsb3djaGFydCBUQgpTWyJTCnJlbD0jcXVvdDtTI3F1b3Q7LCBydWxlX2lkPXswLCAxfSJdCjBbIjAKb3A9I3F1b3Q7cmVuYW1lI3F1b3Q7LCBuYW1lcz1bKDAsICNxdW90O1gjcXVvdDspLCAoMSwgI3F1b3Q7WSNxdW90OyldLCBydWxlX2lkPXswfSJdClMyWyJTMgpyZWw9I3F1b3Q7UzIjcXVvdDssIHJ1bGVfaWQ9ezB9Il0KMVsiMQpvcD0jcXVvdDtyZW5hbWUjcXVvdDssIG5hbWVzPVsoMCwgI3F1b3Q7WCNxdW90OyksICgxLCAjcXVvdDtBI3F1b3Q7KV0sIHJ1bGVfaWQ9ezB9Il0KMlsiMgpvcD0jcXVvdDtzZWxlY3QjcXVvdDssIHRoZXRhPVRoZXRhKGNvbF8yPTEpLCBydWxlX2lkPXswfSJdCjNbIjMKb3A9I3F1b3Q7cHJvamVjdCNxdW90Oywgb249WyNxdW90O1gjcXVvdDssICNxdW90O0EjcXVvdDtdLCBydWxlX2lkPXswfSJdCjRbIjQKb3A9I3F1b3Q7am9pbiNxdW90OywgcnVsZV9pZD17MH0iXQo1WyI1Cm9wPSNxdW90O3Byb2plY3QjcXVvdDssIG9uPVsjcXVvdDtYI3F1b3Q7LCAjcXVvdDtZI3F1b3Q7XSwgcmVsPSNxdW90O19SXzAjcXVvdDssIHJ1bGVfaWQ9ezB9Il0KUlsiUgpvcD0jcXVvdDt1bmlvbiNxdW90OywgcmVsPSNxdW90O1IjcXVvdDssIHJ1bGVfaWQ9ezAsIDF9Il0KNlsiNgpvcD0jcXVvdDtyZW5hbWUjcXVvdDssIG5hbWVzPVsoMCwgI3F1b3Q7WCNxdW90OyksICgxLCAjcXVvdDtZI3F1b3Q7KV0sIHJ1bGVfaWQ9ezF9Il0KN1siNwpvcD0jcXVvdDtwcm9qZWN0I3F1b3Q7LCBvbj1bI3F1b3Q7WCNxdW90OywgI3F1b3Q7WSNxdW90O10sIHJlbD0jcXVvdDtfUl8xI3F1b3Q7LCBydWxlX2lkPXsxfSJdCjAgLS0+IFMKMSAtLT4gUzIKMiAtLT4gMQozIC0tPiAyCjQgLS0+IDAKNCAtLT4gMwo1IC0tPiA0ClIgLS0+IDUKUiAtLT4gNwo2IC0tPiBTCjcgLS0+IDYK\"/>"
      ],
      "text/plain": [
       "<IPython.core.display.Image object>"
      ]
     },
     "metadata": {},
     "output_type": "display_data"
    }
   ],
   "source": [
    "m = merge_term_graphs([t1,t2])\n",
    "draw(m)\n",
    "# assert serialize_graph(m) == ([('S', { 'rel': 'S', 'rule_id': {0, 1}}),\n",
    "#   (0, {'op': 'rename', 'names': [(0, 'X'), (1, 'Y')], 'rule_id': {0}}),\n",
    "#   ('S2', { 'rel': 'S2', 'rule_id': {0}}),\n",
    "#   (1, {'op': 'rename', 'names': [(0, 'X'), (1, 'A')], 'rule_id': {0}}),\n",
    "#   (2, {'op': 'select', 'theta': [(2, 1)], 'rule_id': {0}}),\n",
    "#   (3, {'op': 'join', 'rule_id': {0}}),\n",
    "#   (4, {'op': 'project', 'on': ['X', 'Y'], 'rel': '_R_0', 'rule_id': {0}}),\n",
    "#   ('R', {'op': 'union', 'rel': 'R', 'rule_id': {0, 1}}),\n",
    "#   (5, {'op': 'rename', 'names': [(0, 'X'), (1, 'Y')], 'rule_id': {1}}),\n",
    "#   (6, {'op': 'project', 'on': ['X', 'Y'], 'rel': '_R_1', 'rule_id': {1}})],\n",
    "#  [(0, 'S', {}),\n",
    "#   (1, 'S2', {}),\n",
    "#   (2, 1, {}),\n",
    "#   (3, 0, {}),\n",
    "#   (3, 2, {}),\n",
    "#   (4, 3, {}),\n",
    "#   ('R', 4, {}),\n",
    "#   ('R', 6, {}),\n",
    "#   (5, 'S', {}),\n",
    "#   (6, 5, {})])"
   ]
  },
  {
   "cell_type": "code",
   "execution_count": null,
   "metadata": {},
   "outputs": [
    {
     "data": {
      "text/html": [
       "<img src=\"https://mermaid.ink/img/CmZsb3djaGFydCBUQgpTWyJTCnJlbD0jcXVvdDtTI3F1b3Q7LCBydWxlX2lkPXswfSJdCjBbIjAKb3A9I3F1b3Q7cmVuYW1lI3F1b3Q7LCBuYW1lcz1bKDAsICNxdW90O1gjcXVvdDspLCAoMSwgI3F1b3Q7WSNxdW90OyldLCBydWxlX2lkPXswfSJdClMyWyJTMgpyZWw9I3F1b3Q7UzIjcXVvdDssIHJ1bGVfaWQ9ezAsIDJ9Il0KMVsiMQpvcD0jcXVvdDtyZW5hbWUjcXVvdDssIG5hbWVzPVsoMCwgI3F1b3Q7WCNxdW90OyksICgxLCAjcXVvdDtBI3F1b3Q7KV0sIHJ1bGVfaWQ9ezB9Il0KMlsiMgpvcD0jcXVvdDtzZWxlY3QjcXVvdDssIHRoZXRhPVRoZXRhKGNvbF8yPTEpLCBydWxlX2lkPXswfSJdCjNbIjMKb3A9I3F1b3Q7cHJvamVjdCNxdW90Oywgb249WyNxdW90O1gjcXVvdDssICNxdW90O0EjcXVvdDtdLCBydWxlX2lkPXswfSJdCjRbIjQKb3A9I3F1b3Q7am9pbiNxdW90OywgcnVsZV9pZD17MH0iXQo1WyI1Cm9wPSNxdW90O3Byb2plY3QjcXVvdDssIG9uPVsjcXVvdDtYI3F1b3Q7LCAjcXVvdDtZI3F1b3Q7XSwgcmVsPSNxdW90O19SXzAjcXVvdDssIHJ1bGVfaWQ9ezB9Il0KUlsiUgpvcD0jcXVvdDt1bmlvbiNxdW90OywgcmVsPSNxdW90O1IjcXVvdDssIHJ1bGVfaWQ9ezB9Il0KUzNbIlMzCnJlbD0jcXVvdDtTMyNxdW90OywgcnVsZV9pZD17Mn0iXQo2WyI2Cm9wPSNxdW90O3JlbmFtZSNxdW90OywgbmFtZXM9WygwLCAjcXVvdDtYI3F1b3Q7KSwgKDEsICNxdW90O1kjcXVvdDspXSwgcnVsZV9pZD17Mn0iXQo3WyI3Cm9wPSNxdW90O3JlbmFtZSNxdW90OywgbmFtZXM9WygwLCAjcXVvdDtYI3F1b3Q7KSwgKDEsICNxdW90O0EjcXVvdDspXSwgcnVsZV9pZD17Mn0iXQo4WyI4Cm9wPSNxdW90O3NlbGVjdCNxdW90OywgdGhldGE9VGhldGEoY29sXzI9MSksIHJ1bGVfaWQ9ezJ9Il0KOVsiOQpvcD0jcXVvdDtwcm9qZWN0I3F1b3Q7LCBvbj1bI3F1b3Q7WCNxdW90OywgI3F1b3Q7QSNxdW90O10sIHJ1bGVfaWQ9ezJ9Il0KMTBbIjEwCm9wPSNxdW90O2pvaW4jcXVvdDssIHJ1bGVfaWQ9ezJ9Il0KMTFbIjExCm9wPSNxdW90O3Byb2plY3QjcXVvdDssIG9uPVsjcXVvdDtYI3F1b3Q7LCAjcXVvdDtZI3F1b3Q7XSwgcmVsPSNxdW90O19SMl8yI3F1b3Q7LCBydWxlX2lkPXsyfSJdClIyWyJSMgpvcD0jcXVvdDt1bmlvbiNxdW90OywgcmVsPSNxdW90O1IyI3F1b3Q7LCBydWxlX2lkPXsyfSJdCjAgLS0+IFMKMSAtLT4gUzIKMiAtLT4gMQozIC0tPiAyCjQgLS0+IDAKNCAtLT4gMwo1IC0tPiA0ClIgLS0+IDUKNiAtLT4gUzMKNyAtLT4gUzIKOCAtLT4gNwo5IC0tPiA4CjEwIC0tPiA2CjEwIC0tPiA5CjExIC0tPiAxMApSMiAtLT4gMTEK\"/>"
      ],
      "text/plain": [
       "<IPython.core.display.Image object>"
      ]
     },
     "metadata": {},
     "output_type": "display_data"
    }
   ],
   "source": [
    "m = merge_term_graphs([t1,t3])\n",
    "draw(m)\n",
    "# assert serialize_graph(m) == ([('S', { 'rel': 'S', 'rule_id': {0}}),\n",
    "#   (0, {'op': 'rename', 'names': [(0, 'X'), (1, 'Y')], 'rule_id': {0}}),\n",
    "#   ('S2', { 'rel': 'S2', 'rule_id': {0, 2}}),\n",
    "#   (1, {'op': 'rename', 'names': [(0, 'X'), (1, 'A')], 'rule_id': {0}}),\n",
    "#   (2, {'op': 'select', 'theta': [(2, 1)], 'rule_id': {0}}),\n",
    "#   (3, {'op': 'join', 'rule_id': {0}}),\n",
    "#   (4, {'op': 'project', 'on': ['X', 'Y'], 'rel': '_R_0', 'rule_id': {0}}),\n",
    "#   ('R', {'op': 'union', 'rel': 'R', 'rule_id': {0}}),\n",
    "#   ('S3', { 'rel': 'S3', 'rule_id': {2}}),\n",
    "#   (5, {'op': 'rename', 'names': [(0, 'X'), (1, 'Y')], 'rule_id': {2}}),\n",
    "#   (6, {'op': 'rename', 'names': [(0, 'X'), (1, 'A')], 'rule_id': {2}}),\n",
    "#   (7, {'op': 'select', 'theta': [(2, 1)], 'rule_id': {2}}),\n",
    "#   (8, {'op': 'join', 'rule_id': {2}}),\n",
    "#   (9, {'op': 'project', 'on': ['X', 'Y'], 'rel': '_R2_2', 'rule_id': {2}}),\n",
    "#   ('R2', {'op': 'union', 'rel': 'R2', 'rule_id': {2}})],\n",
    "#  [(0, 'S', {}),\n",
    "#   (1, 'S2', {}),\n",
    "#   (2, 1, {}),\n",
    "#   (3, 0, {}),\n",
    "#   (3, 2, {}),\n",
    "#   (4, 3, {}),\n",
    "#   ('R', 4, {}),\n",
    "#   (5, 'S3', {}),\n",
    "#   (6, 'S2', {}),\n",
    "#   (7, 6, {}),\n",
    "#   (8, 5, {}),\n",
    "#   (8, 7, {}),\n",
    "#   (9, 8, {}),\n",
    "#   ('R2', 9, {})])"
   ]
  },
  {
   "cell_type": "code",
   "execution_count": null,
   "metadata": {},
   "outputs": [
    {
     "data": {
      "text/html": [
       "<img src=\"https://mermaid.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\"/>"
      ],
      "text/plain": [
       "<IPython.core.display.Image object>"
      ]
     },
     "metadata": {},
     "output_type": "display_data"
    }
   ],
   "source": [
    "m = merge_term_graphs([t1,t2,t3])\n",
    "draw(m)\n",
    "# assert serialize_graph(m) == ([('S', { 'rel': 'S', 'rule_id': {0, 1}}),\n",
    "#   (0, {'op': 'rename', 'names': [(0, 'X'), (1, 'Y')], 'rule_id': {0}}),\n",
    "#   ('S2', { 'rel': 'S2', 'rule_id': {0, 2}}),\n",
    "#   (1, {'op': 'rename', 'names': [(0, 'X'), (1, 'A')], 'rule_id': {0}}),\n",
    "#   (2, {'op': 'select', 'theta': [(2, 1)], 'rule_id': {0}}),\n",
    "#   (3, {'op': 'join', 'rule_id': {0}}),\n",
    "#   (4, {'op': 'project', 'on': ['X', 'Y'], 'rel': '_R_0', 'rule_id': {0}}),\n",
    "#   ('R', {'op': 'union', 'rel': 'R', 'rule_id': {0, 1}}),\n",
    "#   (5, {'op': 'rename', 'names': [(0, 'X'), (1, 'Y')], 'rule_id': {1}}),\n",
    "#   (6, {'op': 'project', 'on': ['X', 'Y'], 'rel': '_R_1', 'rule_id': {1}}),\n",
    "#   ('S3', { 'rel': 'S3', 'rule_id': {2}}),\n",
    "#   (7, {'op': 'rename', 'names': [(0, 'X'), (1, 'Y')], 'rule_id': {2}}),\n",
    "#   (8, {'op': 'rename', 'names': [(0, 'X'), (1, 'A')], 'rule_id': {2}}),\n",
    "#   (9, {'op': 'select', 'theta': [(2, 1)], 'rule_id': {2}}),\n",
    "#   (10, {'op': 'join', 'rule_id': {2}}),\n",
    "#   (11, {'op': 'project', 'on': ['X', 'Y'], 'rel': '_R2_2', 'rule_id': {2}}),\n",
    "#   ('R2', {'op': 'union', 'rel': 'R2', 'rule_id': {2}})],\n",
    "#  [(0, 'S', {}),\n",
    "#   (1, 'S2', {}),\n",
    "#   (2, 1, {}),\n",
    "#   (3, 0, {}),\n",
    "#   (3, 2, {}),\n",
    "#   (4, 3, {}),\n",
    "#   ('R', 4, {}),\n",
    "#   ('R', 6, {}),\n",
    "#   (5, 'S', {}),\n",
    "#   (6, 5, {}),\n",
    "#   (7, 'S3', {}),\n",
    "#   (8, 'S2', {}),\n",
    "#   (9, 8, {}),\n",
    "#   (10, 7, {}),\n",
    "#   (10, 9, {}),\n",
    "#   (11, 10, {}),\n",
    "#   ('R2', 11, {})])"
   ]
  },
  {
   "cell_type": "code",
   "execution_count": null,
   "metadata": {},
   "outputs": [],
   "source": [
    "# TODO correct commented out tests once we see that the execution is correct"
   ]
  },
  {
   "cell_type": "code",
   "execution_count": null,
   "metadata": {},
   "outputs": [],
   "source": [
    "#|hide\n",
    "import nbdev; nbdev.nbdev_export()\n",
    "     "
   ]
  }
 ],
 "metadata": {
  "kernelspec": {
   "display_name": "python3",
   "language": "python",
   "name": "python3"
  }
 },
 "nbformat": 4,
 "nbformat_minor": 4
}
