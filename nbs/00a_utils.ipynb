{
 "cells": [
  {
   "cell_type": "markdown",
   "metadata": {},
   "source": [
    "# Utils"
   ]
  },
  {
   "cell_type": "code",
   "execution_count": null,
   "metadata": {},
   "outputs": [],
   "source": [
    "#| default_exp utils"
   ]
  },
  {
   "cell_type": "code",
   "execution_count": null,
   "metadata": {},
   "outputs": [],
   "source": [
    "#| export\n",
    "import shlex\n",
    "import logging\n",
    "import psutil\n",
    "import requests\n",
    "import os\n",
    "from pathlib import Path\n",
    "import git\n",
    "from configparser import ConfigParser\n",
    "from subprocess import Popen, PIPE\n",
    "from sys import platform\n",
    "from threading import Timer\n",
    "from typing import no_type_check, get_type_hints, Iterable, Any, Optional, Callable\n",
    "from fastcore.basics import patch"
   ]
  },
  {
   "cell_type": "code",
   "execution_count": null,
   "metadata": {},
   "outputs": [],
   "source": [
    "#| export\n",
    "logger = logging.getLogger(__name__)\n",
    "\n",
    "WINDOWS_OS = \"win32\"\n",
    "IS_POSIX = (platform != WINDOWS_OS)\n",
    "\n",
    "# google drive\n",
    "GOOGLE_DRIVE_URL = \"https://docs.google.com/uc?export=download\"\n",
    "GOOGLE_DRIVE_CHUNK_SIZE = 32768"
   ]
  },
  {
   "cell_type": "code",
   "execution_count": null,
   "metadata": {},
   "outputs": [],
   "source": [
    "#| export\n",
    "def get_git_root(path='.'):\n",
    "\n",
    "        git_repo = git.Repo(path, search_parent_directories=True)\n",
    "        git_root = git_repo.git.rev_parse(\"--show-toplevel\")\n",
    "        return Path(git_root)"
   ]
  },
  {
   "cell_type": "code",
   "execution_count": null,
   "metadata": {},
   "outputs": [],
   "source": [
    "#| export\n",
    "\n",
    "def get_base_file_path() -> Path: # The absolute path of parent folder of nbs\n",
    "    return get_git_root()\n",
    "\n",
    "\n",
    "def get_lib_name() -> str:\n",
    "    setting_ini = ConfigParser()\n",
    "    setting_ini.read(get_base_file_path()/'settings.ini')\n",
    "    setting_ini = setting_ini['DEFAULT']\n",
    "    return setting_ini['lib_name']"
   ]
  },
  {
   "cell_type": "code",
   "execution_count": null,
   "metadata": {},
   "outputs": [],
   "source": [
    "#| export\n",
    "def patch_method(func : Callable, *args, **kwargs) -> None:\n",
    "    \"\"\"\n",
    "    Applies fastcore's `patch` decorator and removes `func` from `cls.__abstractsmethods__` in case <br>\n",
    "    `func` is an `abstractmethods`\n",
    "    \"\"\"\n",
    "    cls = next(iter(get_type_hints(func).values()))\n",
    "    try:\n",
    "        abstracts_needed = set(cls.__abstractmethods__)\n",
    "        abstracts_needed.discard(func.__name__)\n",
    "        cls.__abstractmethods__ = abstracts_needed\n",
    "    except AttributeError: # If the class does not inherit from an abstract class\n",
    "        pass\n",
    "    finally:\n",
    "        # Apply the original `patch` decorator\n",
    "        patch(*args, **kwargs)(func)"
   ]
  },
  {
   "cell_type": "code",
   "execution_count": null,
   "metadata": {},
   "outputs": [],
   "source": [
    "#| export\n",
    "def kill_process_and_children(process: Popen) -> None:\n",
    "    logger.info(\"~~~~ process timed out ~~~~\")\n",
    "    if process.poll() is not None:\n",
    "        ps_process = psutil.Process(process.pid)\n",
    "        for child in ps_process.children(recursive=True):  # first, kill the children :)\n",
    "            child.kill()  # not recommended in real life\n",
    "        process.kill()  # lastly, kill the process"
   ]
  },
  {
   "cell_type": "code",
   "execution_count": null,
   "metadata": {},
   "outputs": [],
   "source": [
    "#| export\n",
    "def run_cli_command(command: str, # a single command string\n",
    "                    stderr: bool = False, # if true, suppress stderr output. default: `False`\n",
    "                    # if true, spawn shell process (e.g. /bin/sh), which allows using system variables (e.g. $HOME),\n",
    "                    # but is considered a security risk (see: https://docs.python.org/3/library/subprocess.html#security-considerations)\n",
    "                    shell: bool = False, \n",
    "                    timeout: float = -1 # if positive, kill the process after `timeout` seconds. default: `-1`\n",
    "                    ) -> Iterable[str]: # string iterator\n",
    "    \"\"\"\n",
    "    This utility can be used to run any cli command, and iterate over the output.\n",
    "    \"\"\"\n",
    "    # `shlex.split` just splits the command into a list properly\n",
    "    command_list = shlex.split(command, posix=IS_POSIX)\n",
    "    stdout = PIPE  # we always use stdout\n",
    "    stderr_channel = PIPE if stderr else None\n",
    "\n",
    "    process = Popen(command_list, stdout=stdout, stderr=stderr_channel, shell=shell)\n",
    "\n",
    "    # set timer\n",
    "    if timeout > 0:\n",
    "        # set timer to kill the process\n",
    "        process_timer = Timer(timeout, kill_process_and_children, [process])\n",
    "        process_timer.start()\n",
    "\n",
    "    # get output\n",
    "    if process.stdout:\n",
    "        process.stdout.flush()\n",
    "    process_stdout, process_stderr = [s.decode(\"utf-8\") for s in process.communicate()]\n",
    "    for output in process_stdout.splitlines():\n",
    "        output = output.strip()\n",
    "        if output:\n",
    "            yield output\n",
    "\n",
    "    if stderr:\n",
    "        logger.info(f\"stderr from process {command_list[0]}: {process_stderr}\")"
   ]
  },
  {
   "cell_type": "code",
   "execution_count": null,
   "metadata": {},
   "outputs": [],
   "source": [
    "#| export\n",
    "import os\n",
    "def download_file_from_google_drive(file_id: str, # the id of the file to download\n",
    "                                     destination: Path # the path to which the file will be downloaded\n",
    "                                     ) -> None:\n",
    "    \"\"\"\n",
    "    [Downloads a file from Google Drive](https://stackoverflow.com/questions/25010369/wget-curl-large-file-from-google-drive/39225039#39225039)\n",
    "    \"\"\"\n",
    "    destination = Path(os.path.join(get_base_file_path(Path.cwd()),'rgxlog','stanford-corenlp-4.1.0.zip'))\n",
    "    requests_session = requests.Session()\n",
    "    response = requests_session.get(GOOGLE_DRIVE_URL, params={'id': file_id}, stream=True)\n",
    "\n",
    "    def get_confirm_token() -> Optional[Any]:\n",
    "        for key, value in response.cookies.items():\n",
    "            if key.startswith('download_warning'):\n",
    "                return value\n",
    "\n",
    "        return None\n",
    "\n",
    "    def save_response_content() -> None:\n",
    "        with open(destination, \"wb\") as f:\n",
    "            for chunk in response.iter_content(GOOGLE_DRIVE_CHUNK_SIZE):\n",
    "                if chunk:  # filter out keep-alive new chunks\n",
    "                    f.write(chunk)\n",
    "\n",
    "    token = get_confirm_token()\n",
    "    logger.debug(f\"got token from google: {token}\")\n",
    "\n",
    "    if token:\n",
    "        params = {'id': file_id, 'confirm': token}\n",
    "        response = requests_session.get(GOOGLE_DRIVE_URL, params=params, stream=True)\n",
    "\n",
    "    save_response_content()"
   ]
  }
 ],
 "metadata": {
  "kernelspec": {
   "display_name": "python3",
   "language": "python",
   "name": "python3"
  }
 },
 "nbformat": 4,
 "nbformat_minor": 4
}
