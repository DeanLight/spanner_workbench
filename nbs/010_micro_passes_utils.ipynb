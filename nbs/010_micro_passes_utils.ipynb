{
 "cells": [
  {
   "cell_type": "markdown",
   "metadata": {},
   "source": [
    "# Passes Utils\n",
    "\n",
    "> this module contains helper functions and function decorators that are used in lark passes."
   ]
  },
  {
   "cell_type": "code",
   "execution_count": null,
   "metadata": {},
   "outputs": [],
   "source": [
    "#| default_exp passes_utils"
   ]
  },
  {
   "cell_type": "code",
   "execution_count": null,
   "metadata": {},
   "outputs": [],
   "source": [
    "#| hide\n",
    "from __future__ import annotations"
   ]
  },
  {
   "cell_type": "code",
   "execution_count": null,
   "metadata": {},
   "outputs": [],
   "source": [
    "#| hide\n",
    "from nbdev.showdoc import show_doc"
   ]
  },
  {
   "cell_type": "code",
   "execution_count": null,
   "metadata": {},
   "outputs": [
    {
     "ename": "ImportError",
     "evalue": "cannot import name 'GraphBase' from 'spannerlib.graphs' (/Users/dean/tdk/spannerlib/spannerlib/graphs.py)",
     "output_type": "error",
     "traceback": [
      "\u001b[0;31m---------------------------------------------------------------------------\u001b[0m",
      "\u001b[0;31mImportError\u001b[0m                               Traceback (most recent call last)",
      "Cell \u001b[0;32mIn[5], line 7\u001b[0m\n\u001b[1;32m      4\u001b[0m \u001b[38;5;28;01mfrom\u001b[39;00m \u001b[38;5;21;01mtyping\u001b[39;00m \u001b[38;5;28;01mimport\u001b[39;00m Any, Callable, Iterable\n\u001b[1;32m      6\u001b[0m \u001b[38;5;28;01mfrom\u001b[39;00m \u001b[38;5;21;01mspannerlib\u001b[39;00m\u001b[38;5;21;01m.\u001b[39;00m\u001b[38;5;21;01mgraphs\u001b[39;00m \u001b[38;5;28;01mimport\u001b[39;00m EvalState\n\u001b[0;32m----> 7\u001b[0m \u001b[38;5;28;01mfrom\u001b[39;00m \u001b[38;5;21;01mspannerlib\u001b[39;00m\u001b[38;5;21;01m.\u001b[39;00m\u001b[38;5;21;01mgrammar\u001b[39;00m \u001b[38;5;28;01mimport\u001b[39;00m spannerlog_expected_children_names_lists\n",
      "File \u001b[0;32m~/tdk/spannerlib/spannerlib/__init__.py:3\u001b[0m\n\u001b[1;32m      1\u001b[0m __version__ \u001b[38;5;241m=\u001b[39m \u001b[38;5;124m\"\u001b[39m\u001b[38;5;124m0.0.1\u001b[39m\u001b[38;5;124m\"\u001b[39m\n\u001b[1;32m      2\u001b[0m \u001b[38;5;28;01mfrom\u001b[39;00m \u001b[38;5;21;01mtyping\u001b[39;00m \u001b[38;5;28;01mimport\u001b[39;00m Any\n\u001b[0;32m----> 3\u001b[0m \u001b[38;5;28;01mfrom\u001b[39;00m \u001b[38;5;21;01m.\u001b[39;00m\u001b[38;5;21;01msession\u001b[39;00m \u001b[38;5;28;01mimport\u001b[39;00m Session\n\u001b[1;32m      4\u001b[0m \u001b[38;5;28;01mfrom\u001b[39;00m \u001b[38;5;21;01m.\u001b[39;00m\u001b[38;5;21;01mspannerlog_magic\u001b[39;00m \u001b[38;5;28;01mimport\u001b[39;00m spannerlogMagic\n\u001b[1;32m      5\u001b[0m \u001b[38;5;28;01mfrom\u001b[39;00m \u001b[38;5;21;01mIPython\u001b[39;00m \u001b[38;5;28;01mimport\u001b[39;00m InteractiveShell, get_ipython\n",
      "File \u001b[0;32m~/tdk/spannerlib/spannerlib/session.py:29\u001b[0m\n\u001b[1;32m     27\u001b[0m \u001b[38;5;28;01mfrom\u001b[39;00m \u001b[38;5;21;01m.\u001b[39;00m\u001b[38;5;21;01mprimitive_types\u001b[39;00m \u001b[38;5;28;01mimport\u001b[39;00m Span, DataTypes, DataTypeMapping\n\u001b[1;32m     28\u001b[0m \u001b[38;5;28;01mfrom\u001b[39;00m \u001b[38;5;21;01m.\u001b[39;00m\u001b[38;5;21;01mengine\u001b[39;00m \u001b[38;5;28;01mimport\u001b[39;00m FALSE_VALUE, TRUE_VALUE\n\u001b[0;32m---> 29\u001b[0m \u001b[38;5;28;01mfrom\u001b[39;00m \u001b[38;5;21;01m.\u001b[39;00m\u001b[38;5;21;01mexecution\u001b[39;00m \u001b[38;5;28;01mimport\u001b[39;00m (Query, FREE_VAR_PREFIX, naive_execution)\n\u001b[1;32m     30\u001b[0m \u001b[38;5;28;01mfrom\u001b[39;00m \u001b[38;5;21;01m.\u001b[39;00m\u001b[38;5;21;01madding_inference_rules_to_term_graph\u001b[39;00m \u001b[38;5;28;01mimport\u001b[39;00m AddRulesToTermGraph\n\u001b[1;32m     31\u001b[0m \u001b[38;5;28;01mfrom\u001b[39;00m \u001b[38;5;21;01m.\u001b[39;00m\u001b[38;5;21;01moptimizations_passes\u001b[39;00m \u001b[38;5;28;01mimport\u001b[39;00m RemoveUselessRelationsFromRule\n",
      "File \u001b[0;32m~/tdk/spannerlib/spannerlib/execution.py:13\u001b[0m\n\u001b[1;32m     11\u001b[0m \u001b[38;5;66;03m#from spannerlib.graphs import EvalState, GraphBase, TermGraphBase, ROOT_TYPE, TermNodeType, TYPE, STATE, VALUE\u001b[39;00m\n\u001b[1;32m     12\u001b[0m \u001b[38;5;28;01mfrom\u001b[39;00m \u001b[38;5;21;01m.\u001b[39;00m\u001b[38;5;21;01msymbol_table\u001b[39;00m \u001b[38;5;28;01mimport\u001b[39;00m SymbolTableBase\n\u001b[0;32m---> 13\u001b[0m \u001b[38;5;28;01mfrom\u001b[39;00m \u001b[38;5;21;01m.\u001b[39;00m\u001b[38;5;21;01mlark_passes\u001b[39;00m \u001b[38;5;28;01mimport\u001b[39;00m ParseNodeType\n\u001b[1;32m     15\u001b[0m \u001b[38;5;66;03m# %% ../nbs/02b_execution.ipynb 8\u001b[39;00m\n\u001b[1;32m     16\u001b[0m OUT_REL_ATTRIBUTE \u001b[38;5;241m=\u001b[39m \u001b[38;5;124m\"\u001b[39m\u001b[38;5;124moutput_rel\u001b[39m\u001b[38;5;124m\"\u001b[39m\n",
      "File \u001b[0;32m~/tdk/spannerlib/spannerlib/lark_passes.py:26\u001b[0m\n\u001b[1;32m     24\u001b[0m \u001b[38;5;28;01mfrom\u001b[39;00m \u001b[38;5;21;01m.\u001b[39;00m\u001b[38;5;21;01msymbol_table\u001b[39;00m \u001b[38;5;28;01mimport\u001b[39;00m SymbolTableBase\n\u001b[1;32m     25\u001b[0m \u001b[38;5;28;01mfrom\u001b[39;00m \u001b[38;5;21;01m.\u001b[39;00m\u001b[38;5;21;01mgeneral_utils\u001b[39;00m \u001b[38;5;28;01mimport\u001b[39;00m (get_free_var_names, get_output_free_var_names, get_input_free_var_names, fixed_point, check_properly_typed_relation, type_check_rule_free_vars)\n\u001b[0;32m---> 26\u001b[0m \u001b[38;5;28;01mfrom\u001b[39;00m \u001b[38;5;21;01m.\u001b[39;00m\u001b[38;5;21;01mpasses_utils\u001b[39;00m \u001b[38;5;28;01mimport\u001b[39;00m assert_expected_node_structure, unravel_lark_node,ParseNodeType\n\u001b[1;32m     28\u001b[0m \u001b[38;5;66;03m# %% ../nbs/01c_lark_passes.ipynb 6\u001b[39;00m\n\u001b[1;32m     29\u001b[0m \u001b[38;5;28;01mdef\u001b[39;00m \u001b[38;5;21mget_tree\u001b[39m(\u001b[38;5;241m*\u001b[39m\u001b[38;5;241m*\u001b[39mkwargs: Any) \u001b[38;5;241m-\u001b[39m\u001b[38;5;241m>\u001b[39m Any:\n",
      "File \u001b[0;32m~/tdk/spannerlib/spannerlib/passes_utils.py:13\u001b[0m\n\u001b[1;32m     10\u001b[0m \u001b[38;5;28;01mfrom\u001b[39;00m \u001b[38;5;21;01mtyping\u001b[39;00m \u001b[38;5;28;01mimport\u001b[39;00m Any, Callable, Iterable\n\u001b[1;32m     12\u001b[0m \u001b[38;5;28;01mfrom\u001b[39;00m \u001b[38;5;21;01m.\u001b[39;00m\u001b[38;5;21;01mgraphs\u001b[39;00m \u001b[38;5;28;01mimport\u001b[39;00m EvalState\n\u001b[0;32m---> 13\u001b[0m \u001b[38;5;28;01mfrom\u001b[39;00m \u001b[38;5;21;01m.\u001b[39;00m\u001b[38;5;21;01mgrammar\u001b[39;00m \u001b[38;5;28;01mimport\u001b[39;00m spannerlog_expected_children_names_lists\n\u001b[1;32m     15\u001b[0m \u001b[38;5;66;03m# %% ../nbs/01d_passes_utils.ipynb 5\u001b[39;00m\n\u001b[1;32m     16\u001b[0m \u001b[38;5;28;01mclass\u001b[39;00m \u001b[38;5;21;01mParseNodeType\u001b[39;00m(Enum):\n",
      "File \u001b[0;32m~/tdk/spannerlib/spannerlib/grammar.py:8\u001b[0m\n\u001b[1;32m      6\u001b[0m \u001b[38;5;66;03m# %% ../nbs/01d_spannerlog_grammar.ipynb 3\u001b[39;00m\n\u001b[1;32m      7\u001b[0m \u001b[38;5;28;01mfrom\u001b[39;00m \u001b[38;5;21;01mtyping\u001b[39;00m \u001b[38;5;28;01mimport\u001b[39;00m no_type_check, Set, Sequence, Any, Callable\n\u001b[0;32m----> 8\u001b[0m \u001b[38;5;28;01mfrom\u001b[39;00m \u001b[38;5;21;01m.\u001b[39;00m\u001b[38;5;21;01mgraphs\u001b[39;00m \u001b[38;5;28;01mimport\u001b[39;00m GraphBase, EvalState\n\u001b[1;32m      9\u001b[0m \u001b[38;5;28;01mfrom\u001b[39;00m \u001b[38;5;21;01mtyping\u001b[39;00m \u001b[38;5;28;01mimport\u001b[39;00m Sequence, Dict\n\u001b[1;32m     10\u001b[0m \u001b[38;5;28;01mfrom\u001b[39;00m \u001b[38;5;21;01mlark\u001b[39;00m \u001b[38;5;28;01mimport\u001b[39;00m Lark,Token, Tree, Transformer\n",
      "\u001b[0;31mImportError\u001b[0m: cannot import name 'GraphBase' from 'spannerlib.graphs' (/Users/dean/tdk/spannerlib/spannerlib/graphs.py)"
     ]
    }
   ],
   "source": [
    "#| export\n",
    "from enum import Enum\n",
    "from lark import Tree as LarkNode\n",
    "from typing import Any, Callable, Iterable\n",
    "\n",
    "from spannerlib.graphs import EvalState\n",
    "from spannerlib.grammar import spannerlog_expected_children_names_lists"
   ]
  },
  {
   "cell_type": "code",
   "execution_count": null,
   "metadata": {},
   "outputs": [],
   "source": [
    "#| export\n",
    "\n",
    "class ParseNodeType(Enum):\n",
    "    \"\"\"\n",
    "    will be used as parse graph node types.\n",
    "    \"\"\"\n",
    "\n",
    "    ADD_FACT = \"add_fact\"\n",
    "    REMOVE_FACT = \"remove_fact\"\n",
    "    QUERY = \"query\"\n",
    "    RELATION_DECLARATION = \"relation_declaration\"\n",
    "    RULE = \"rule\"\n",
    "\n",
    "    def __str__(self) -> str:\n",
    "        return self.value"
   ]
  },
  {
   "cell_type": "code",
   "execution_count": null,
   "metadata": {},
   "outputs": [],
   "source": [
    "#| export\n",
    "def assert_expected_node_structure_aux(lark_node: Any # the lark node to be checked\n",
    "                                       ) -> None:\n",
    "    \"\"\"\n",
    "    Checks whether a lark node has a structure that the lark passes expect.\n",
    "    \"\"\"\n",
    "\n",
    "    # check if lark_node is really a lark node. this is done because applying the check recursively might result in\n",
    "    # some children being literal values and not lark nodes\n",
    "    if isinstance(lark_node, LarkNode):\n",
    "        node_type = lark_node.data\n",
    "        if node_type in spannerlog_expected_children_names_lists:\n",
    "\n",
    "            # this lark node's structure can be checked, get its children and expected children lists\n",
    "            children_names = [child.data for child in lark_node.children if isinstance(child, LarkNode)]\n",
    "            expected_children_names_lists = spannerlog_expected_children_names_lists[node_type]\n",
    "\n",
    "            # check if the node's children names match one of the expected children names lists\n",
    "            if children_names not in expected_children_names_lists:\n",
    "                # the node has an unexpected structure, raise an exception\n",
    "                expected_children_list_strings = [str(children) for children in expected_children_names_lists]\n",
    "                expected_children_string = '\\n'.join(expected_children_list_strings)\n",
    "                raise Exception(f'node of type \"{node_type}\" has unexpected children: {children_names}\\n'\n",
    "                                f'expected one of the following children lists:\\n'\n",
    "                                f'{expected_children_string}')\n",
    "\n",
    "        # recursively check the structure of the node's children\n",
    "        for child in lark_node.children:\n",
    "            assert_expected_node_structure_aux(child)"
   ]
  },
  {
   "cell_type": "code",
   "execution_count": null,
   "metadata": {},
   "outputs": [],
   "source": [
    "#| export\n",
    "def assert_expected_node_structure(func: Callable # A function to run the decorator on\n",
    "            ) -> Callable:\n",
    "    \"\"\"\n",
    "    Use this decorator to check whether a method's input lark node has a structure that is expected by the lark passes\n",
    "    the lark node and its children are checked recursively\n",
    "\n",
    "    some lark nodes may have multiple structures (e.g. `Assignment`). in this case this check will succeed if the lark\n",
    "    node has one of those structures.\n",
    "    \"\"\"\n",
    "\n",
    "    def wrapped_method(visitor: Any, lark_node: Any) -> Any:\n",
    "        assert_expected_node_structure_aux(lark_node)\n",
    "        return func(visitor, lark_node)\n",
    "\n",
    "    return wrapped_method"
   ]
  },
  {
   "cell_type": "markdown",
   "metadata": {},
   "source": [
    ":::{.callout-note}\n",
    "note that this decorator should only be used on methods that expect lark nodes that weren't converted to structured nodes.\n",
    ":::"
   ]
  },
  {
   "cell_type": "code",
   "execution_count": null,
   "metadata": {},
   "outputs": [],
   "source": [
    "#| export\n",
    "def unravel_lark_node(func: Callable # A function to run the decorator on\n",
    "                ) -> Callable:\n",
    "    \"\"\"\n",
    "    Even after converting a lark tree to use structured nodes, the methods in lark passes will still receive a lark\n",
    "    node as an input, and the child of said lark node will be the actual structured node that the method will work\n",
    "    with.\n",
    "    \"\"\"\n",
    "\n",
    "    def wrapped_method(visitor: Any, lark_node: LarkNode) -> Any:\n",
    "        structured_node = lark_node.children[0]\n",
    "        return func(visitor, structured_node)\n",
    "\n",
    "    return wrapped_method"
   ]
  },
  {
   "cell_type": "markdown",
   "metadata": {},
   "source": [
    "::: {.callout-tip}\n",
    "use this decorator to replace a method's lark node input with its child structured node.\n",
    ":::"
   ]
  },
  {
   "cell_type": "code",
   "execution_count": null,
   "metadata": {},
   "outputs": [],
   "source": [
    "#| export\n",
    "def get_new_rule_nodes(parse_graph):\n",
    "    \"\"\"\n",
    "    Finds all rules that weren't added to the term graph yet.\n",
    "    \"\"\"\n",
    "\n",
    "    return parse_graph.get_all_nodes_with_attributes(type=ParseNodeType.RULE, state=EvalState.NOT_COMPUTED)"
   ]
  }
 ],
 "metadata": {
  "kernelspec": {
   "display_name": "python3",
   "language": "python",
   "name": "python3"
  }
 },
 "nbformat": 4,
 "nbformat_minor": 4
}
