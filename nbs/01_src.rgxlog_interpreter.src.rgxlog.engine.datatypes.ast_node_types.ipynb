{
 "cells": [
  {
   "cell_type": "markdown",
   "metadata": {},
   "source": [
    "# Ast Nodes Types\n",
    "\n",
    "> for each statement node in the rgxlog grammar, this module contains a matching class that can represent\n",
    "that statement in the abstract syntax tree. classes representations for relations are also included.\n",
    "\n",
    "> these classes are useful as they represent a statement with a single instance, instead of a lark tree,\n",
    "thus simplifying the code required for semantic checks and manipulations of the statement."
   ]
  },
  {
   "cell_type": "code",
   "execution_count": null,
   "metadata": {},
   "outputs": [],
   "source": [
    "#| default_exp src.rgxlog_interpreter.src.rgxlog.engine.datatypes.ast_node_types"
   ]
  },
  {
   "cell_type": "code",
   "execution_count": null,
   "metadata": {},
   "outputs": [],
   "source": [
    "#| hide\n",
    "from nbdev.showdoc import *"
   ]
  },
  {
   "cell_type": "code",
   "execution_count": null,
   "metadata": {},
   "outputs": [],
   "source": [
    "#| export\n",
    "from fastcore.utils import *\n",
    "from typing import List, Tuple, Set, Union, Sequence\n",
    "from nbdev_spanner_workbench.src.rgxlog_interpreter.src.rgxlog.engine.datatypes.primitive_types import DataTypes, DataTypeMapping"
   ]
  },
  {
   "cell_type": "code",
   "execution_count": null,
   "metadata": {},
   "outputs": [],
   "source": [
    "#| export\n",
    "def get_term_list_string(term_list: Sequence[DataTypeMapping.term], type_list: Sequence[DataTypes]) -> str:\n",
    "    \"\"\"\n",
    "    returns a string representation of the term list.\n",
    "    quotes are added to string terms so they will not be confused with variables.\n",
    "\n",
    "    @param term_list: the term list to be turned into a string\n",
    "    @param type_list: the types of the terms in term_list\n",
    "\n",
    "    @return: a string representation of the term list\n",
    "    \"\"\"\n",
    "    terms_with_quoted_strings = [f'\"{term}\"' if term_type is DataTypes.string\n",
    "                                 else str(term)\n",
    "                                 for term, term_type in zip(term_list, type_list)]\n",
    "    term_list_string = ', '.join(terms_with_quoted_strings)\n",
    "    return term_list_string"
   ]
  },
  {
   "cell_type": "code",
   "execution_count": null,
   "metadata": {},
   "outputs": [],
   "source": [
    "#| export\n",
    "class RelationDeclaration:\n",
    "    \"\"\"a representation of a relation_declaration statement\"\"\"\n",
    "\n",
    "    def __init__(self, relation_name: str, type_list: Sequence[DataTypes]):\n",
    "        \"\"\"\n",
    "        @param relation_name: the name of the relation.\n",
    "        @param type_list: a list of the types of the terms in the relation's tuples.\n",
    "        @raise Exception: if there is invalid term type in term list.\n",
    "        \"\"\"\n",
    "        self.relation_name = relation_name\n",
    "        self.type_list = type_list"
   ]
  },
  {
   "cell_type": "code",
   "execution_count": null,
   "metadata": {},
   "outputs": [],
   "source": [
    "#| export\n",
    "@patch\n",
    "def __str__(self: RelationDeclaration) -> str:\n",
    "    type_strings = []\n",
    "    for term_type in self.type_list:\n",
    "        if term_type is DataTypes.string:\n",
    "            type_strings.append('str')\n",
    "        elif term_type is DataTypes.span:\n",
    "            type_strings.append('span')\n",
    "        elif term_type is DataTypes.integer:\n",
    "            type_strings.append('int')\n",
    "        else:\n",
    "            raise ValueError(f\"invalid term type ({term_type})\")\n",
    "\n",
    "    type_list_string = ', '.join(type_strings)\n",
    "    relation_declaration_string = f\"{self.relation_name}({type_list_string})\"\n",
    "    return relation_declaration_string"
   ]
  },
  {
   "cell_type": "code",
   "execution_count": null,
   "metadata": {},
   "outputs": [],
   "source": [
    "#| export\n",
    "@patch\n",
    "def __repr__(self: RelationDeclaration) -> str:\n",
    "    return str(self)"
   ]
  },
  {
   "cell_type": "code",
   "execution_count": null,
   "metadata": {},
   "outputs": [],
   "source": [
    "#| export\n",
    "class Relation:\n",
    "    \"\"\"a representation of a normal relation\"\"\"\n",
    "\n",
    "    def __init__(self, relation_name: str, term_list: Sequence[DataTypeMapping.term], type_list: Sequence[DataTypes]) -> None:\n",
    "        \"\"\"\n",
    "        @param relation_name: the name of the relation\n",
    "        @param term_list: a list of the relation terms.\n",
    "        @param type_list: a list of the relation term types.\n",
    "        @raise Exception: if length of term list doesn't match the length of type list.\n",
    "        \"\"\"\n",
    "        if len(term_list) != len(type_list):\n",
    "            raise Exception(f\"received different lengths of term_list ({len(term_list)}) \"\n",
    "                            f\"and type_list ({len(type_list)})\")\n",
    "        self.relation_name = relation_name\n",
    "        self.term_list = term_list\n",
    "        self.type_list = type_list"
   ]
  },
  {
   "cell_type": "code",
   "execution_count": null,
   "metadata": {},
   "outputs": [],
   "source": [
    "#| export\n",
    "@patch\n",
    "def __str__(self: Relation) -> str:\n",
    "    term_list_string = get_term_list_string(self.term_list, self.type_list)\n",
    "    relation_string = f\"{self.relation_name}({term_list_string})\"\n",
    "    return relation_string"
   ]
  },
  {
   "cell_type": "code",
   "execution_count": null,
   "metadata": {},
   "outputs": [],
   "source": [
    "#| export\n",
    "@patch\n",
    "def __repr__(self: Relation) -> str:\n",
    "    return str(self)"
   ]
  },
  {
   "cell_type": "code",
   "execution_count": null,
   "metadata": {},
   "outputs": [],
   "source": [
    "#| export\n",
    "@patch\n",
    "def get_term_list(self: Relation) -> Sequence[DataTypeMapping.term]:\n",
    "    return self.term_list\n",
    "@patch\n",
    "def get_type_list(self: Relation) -> Sequence[DataTypes]:\n",
    "    return self.type_list\n",
    "@patch\n",
    "def get_select_cols_values_and_types(self: Relation) -> set:\n",
    "    col_value_type = set()\n",
    "    for i, (var_type, value) in enumerate(zip(self.type_list, self.term_list)):\n",
    "        if var_type != DataTypes.free_var_name:\n",
    "            col_value_type.add((i, value, var_type))\n",
    "\n",
    "    return col_value_type"
   ]
  },
  {
   "cell_type": "code",
   "execution_count": null,
   "metadata": {},
   "outputs": [],
   "source": [
    "#| export\n",
    "@patch\n",
    "def as_relation_declaration(self: Relation) -> RelationDeclaration:\n",
    "    return RelationDeclaration(self.relation_name, self.type_list)"
   ]
  },
  {
   "cell_type": "code",
   "execution_count": null,
   "metadata": {},
   "outputs": [],
   "source": [
    "#| export\n",
    "@patch\n",
    "def has_same_terms_and_types(self: Relation, other: \"Relation\") -> bool:\n",
    "    \"\"\"\n",
    "    Checks only term list and type list equivalence.\n",
    "    \"\"\"\n",
    "\n",
    "    return self.type_list == other.type_list and self.term_list == other.term_list"
   ]
  },
  {
   "cell_type": "code",
   "execution_count": null,
   "metadata": {},
   "outputs": [],
   "source": [
    "#| export\n",
    "class IERelation:\n",
    "    \"\"\"\n",
    "    a representation of an information extraction (ie) relation.\n",
    "    An information extraction relation is different than a normal relation as it is constructed from\n",
    "    the results of a call to an information extraction function.\n",
    "\n",
    "    The ie relation instructs us on how to construct it:\n",
    "    * its name is the ie function we need to call\n",
    "    * its input term list represents a relation where each tuple is an argument list to call the ie function with.\n",
    "    * its output term list represents a relation that filters the tuples that are returned from the ie function\n",
    "    calls, and matches the values inside the tuples to free variables.\n",
    "    \"\"\"\n",
    "\n",
    "    def __init__(self, relation_name: str, input_term_list: List[DataTypeMapping.term], input_type_list: List[DataTypes],\n",
    "                 output_term_list: List, output_type_list: List[DataTypes]):\n",
    "        \"\"\"\n",
    "        @param relation_name: the name of the information extraction relation.\n",
    "        @param input_term_list: a list of the input terms for the ie function.\n",
    "                                must be either literal values or free variables\n",
    "        @param input_type_list: a list of the term types in input_term_list.\n",
    "        @param output_term_list: a list of the output terms for the ie function.\n",
    "                                 must be either literal values or free variables.\n",
    "        @param output_type_list: a list of the term types in output_term_list.\n",
    "        @raise Exception: if length of in/out term list doesn't match length of in/out type_list.\n",
    "        \"\"\"\n",
    "        if len(input_term_list) != len(input_type_list):\n",
    "            raise Exception(f\"received different lengths of input_term_list ({len(input_term_list)}) \"\n",
    "                            f\"and input_type_list ({len(input_type_list)})\")\n",
    "        if len(output_term_list) != len(output_type_list):\n",
    "            raise Exception(f\"received different lengths of output_term_list ({len(output_term_list)}) \"\n",
    "                            f\"and output_type_list ({len(output_type_list)})\")\n",
    "        self.relation_name = relation_name\n",
    "        self.input_term_list = input_term_list\n",
    "        self.output_term_list = output_term_list\n",
    "        self.input_type_list = input_type_list\n",
    "        self.output_type_list = output_type_list"
   ]
  },
  {
   "cell_type": "code",
   "execution_count": null,
   "metadata": {},
   "outputs": [],
   "source": [
    "#| export\n",
    "@patch\n",
    "def __str__(self: IERelation) -> str:\n",
    "    input_term_list_string = get_term_list_string(self.input_term_list, self.input_type_list)\n",
    "    output_term_list_string = get_term_list_string(self.output_term_list, self.output_type_list)\n",
    "    ie_relation_string = f\"{self.relation_name}({input_term_list_string}) -> ({output_term_list_string})\"\n",
    "    return ie_relation_string\n",
    "@patch\n",
    "def __repr__(self: IERelation) -> str:\n",
    "    return str(self)"
   ]
  },
  {
   "cell_type": "code",
   "execution_count": null,
   "metadata": {},
   "outputs": [],
   "source": [
    "#| export\n",
    "@patch\n",
    "def get_term_list(self: IERelation) -> List[DataTypeMapping.term]:\n",
    "    return self.input_term_list + self.output_term_list\n",
    "@patch\n",
    "def get_type_list(self: IERelation) -> List[DataTypes]:\n",
    "    return self.input_type_list + self.output_type_list"
   ]
  },
  {
   "cell_type": "code",
   "execution_count": null,
   "metadata": {},
   "outputs": [],
   "source": [
    "#| export\n",
    "@patch\n",
    "def has_same_terms_and_types(self: IERelation, other: Relation) -> bool:\n",
    "    \"\"\"\n",
    "    Checks that everything besides names is equivalent.\n",
    "    \"\"\"\n",
    "\n",
    "    return self.output_type_list == other.type_list and self.output_term_list == other.term_list"
   ]
  },
  {
   "cell_type": "code",
   "execution_count": null,
   "metadata": {},
   "outputs": [],
   "source": [
    "#| export\n",
    "class AddFact(Relation):\n",
    "    \"\"\"\n",
    "    a representation of an add_fact statement\n",
    "    inherits from relation as a fact can be defined by a relation.\n",
    "    \"\"\"\n",
    "\n",
    "    def __init__(self, relation_name: str, term_list: List[DataTypeMapping.term], type_list: Sequence[DataTypes]) -> None:\n",
    "        \"\"\"\n",
    "        @see documentation of Relation's __init__.\n",
    "        \"\"\"\n",
    "        super().__init__(relation_name, term_list, type_list)"
   ]
  },
  {
   "cell_type": "code",
   "execution_count": null,
   "metadata": {},
   "outputs": [],
   "source": [
    "#| export\n",
    "class RemoveFact(Relation):\n",
    "    \"\"\"\n",
    "    a representation of a remove_fact statement\n",
    "    inherits from relation as a fact can be defined by a relation.\n",
    "    \"\"\"\n",
    "\n",
    "    def __init__(self, relation_name: str, term_list: List[DataTypeMapping.term], type_list: List[DataTypes]) -> None:\n",
    "        \"\"\"\n",
    "        @see documentation of Relation's __init__.\n",
    "        \"\"\"\n",
    "        super().__init__(relation_name, term_list, type_list)"
   ]
  },
  {
   "cell_type": "code",
   "execution_count": null,
   "metadata": {},
   "outputs": [],
   "source": [
    "#| export\n",
    "class Query(Relation):\n",
    "    \"\"\"\n",
    "    a representation of a query statement\n",
    "    inherits from relation as a query can be defined by a relation\n",
    "    \"\"\"\n",
    "\n",
    "    def __init__(self, relation_name: str, term_list: Sequence[DataTypeMapping.term], type_list: List[DataTypes]) -> None:\n",
    "        \"\"\"\n",
    "        @see documentation of Relation's __init__.\n",
    "        \"\"\"\n",
    "        super().__init__(relation_name, term_list, type_list)"
   ]
  },
  {
   "cell_type": "code",
   "execution_count": null,
   "metadata": {},
   "outputs": [],
   "source": [
    "#| export\n",
    "class Rule:\n",
    "    \"\"\"\n",
    "    a representation of a rule statement.\n",
    "    \"\"\"\n",
    "\n",
    "    def __init__(self, head_relation: Relation, body_relation_list: List[Union[Relation, IERelation]], body_relation_type_list: List[str]):\n",
    "        \"\"\"\n",
    "        @param head_relation: the rule head, which is represented by a single relation.\n",
    "        @param body_relation_list: a list of the rule body relations.\n",
    "        @param body_relation_type_list: a list of the rule body relations types (e.g. \"relation\", \"ie_relation\").\n",
    "        \"\"\"\n",
    "        self.head_relation = head_relation\n",
    "        self.body_relation_list = body_relation_list\n",
    "        self.body_relation_type_list = body_relation_type_list"
   ]
  },
  {
   "cell_type": "code",
   "execution_count": null,
   "metadata": {},
   "outputs": [],
   "source": [
    "#| export\n",
    "@patch\n",
    "def __str__(self: Rule) -> str:\n",
    "    return f\"{self.head_relation} <- {', '.join(map(str, self.body_relation_list))}\"\n",
    "@patch\n",
    "def __repr__(self: Rule) -> str:\n",
    "    return str(self)"
   ]
  },
  {
   "cell_type": "code",
   "execution_count": null,
   "metadata": {},
   "outputs": [],
   "source": [
    "#| export\n",
    "@patch\n",
    "def get_relations_by_type(self: Rule) -> Tuple[Set, Set]:\n",
    "    relations, ie_relations = set(), set()\n",
    "    for rel, rel_type in zip(self.body_relation_list, self.body_relation_type_list):\n",
    "        if rel_type == \"relation\":\n",
    "            relations.add(rel)\n",
    "        else:\n",
    "            ie_relations.add(rel)\n",
    "\n",
    "    return relations, ie_relations"
   ]
  },
  {
   "cell_type": "code",
   "execution_count": null,
   "metadata": {},
   "outputs": [],
   "source": [
    "#| export\n",
    "class Assignment:\n",
    "    \"\"\"\n",
    "    a representation of an assignment statement.\n",
    "    \"\"\"\n",
    "\n",
    "    def __init__(self, var_name: str, value: DataTypeMapping.term, value_type: DataTypes) -> None:\n",
    "        \"\"\"\n",
    "        @param var_name: the variable name to be assigned a value.\n",
    "        @param value: the assigned value.\n",
    "        @param value_type: the assigned value's type.\n",
    "        \"\"\"\n",
    "        self.var_name = var_name\n",
    "        self.value = value\n",
    "        self.value_type = value_type"
   ]
  },
  {
   "cell_type": "code",
   "execution_count": null,
   "metadata": {},
   "outputs": [],
   "source": [
    "#| export\n",
    "@patch\n",
    "def __str__(self: Assignment) -> str:\n",
    "    if self.value_type is DataTypes.string:\n",
    "        # add quotes to a literal string value\n",
    "        value_string = f'\"{self.value}\"'\n",
    "    else:\n",
    "        value_string = str(self.value)\n",
    "    return f'{self.var_name} = {value_string}'\n",
    "@patch\n",
    "def __repr__(self: Assignment) -> str:\n",
    "    return str(self)"
   ]
  },
  {
   "cell_type": "code",
   "execution_count": null,
   "metadata": {},
   "outputs": [],
   "source": [
    "#| export\n",
    "class ReadAssignment:\n",
    "    \"\"\"\n",
    "    a representation of a read_assignment statement.\n",
    "    \"\"\"\n",
    "\n",
    "    def __init__(self, var_name: str, read_arg: str, read_arg_type: type) -> None:\n",
    "        \"\"\"\n",
    "        @param var_name: the variable name to be assigned a value.\n",
    "        @param read_arg: the argument that is passed to the read() function (e.g. \"some_file\" in `s = read(\"some_file\")`).\n",
    "        @param read_arg_type: the type of the argument that is passed to the read function.\n",
    "        \"\"\"\n",
    "        if read_arg_type not in [DataTypes.string, DataTypes.var_name]:\n",
    "            raise TypeError(\n",
    "                f'the argument that was passed to the read() function has an unexpected type: {read_arg_type}')\n",
    "\n",
    "        self.var_name = var_name\n",
    "        self.read_arg = read_arg\n",
    "        self.read_arg_type = read_arg_type"
   ]
  },
  {
   "cell_type": "code",
   "execution_count": null,
   "metadata": {},
   "outputs": [],
   "source": [
    "#| export\n",
    "@patch\n",
    "def __str__(self: ReadAssignment) -> str:\n",
    "    if self.read_arg_type is DataTypes.string:\n",
    "        # add quotes to a literal string argument\n",
    "        read_arg_string = f'\"{self.read_arg}\"'\n",
    "    else:\n",
    "        read_arg_string = str(self.read_arg)\n",
    "    return f'{self.var_name} = read({read_arg_string})'\n",
    "@patch\n",
    "def __repr__(self: ReadAssignment) -> str:\n",
    "    return str(self)"
   ]
  },
  {
   "cell_type": "code",
   "execution_count": null,
   "metadata": {},
   "outputs": [],
   "source": []
  },
  {
   "cell_type": "code",
   "execution_count": null,
   "metadata": {},
   "outputs": [],
   "source": []
  },
  {
   "cell_type": "code",
   "execution_count": null,
   "metadata": {},
   "outputs": [],
   "source": []
  },
  {
   "cell_type": "code",
   "execution_count": null,
   "metadata": {},
   "outputs": [],
   "source": []
  }
 ],
 "metadata": {
  "kernelspec": {
   "display_name": "python3",
   "language": "python",
   "name": "python3"
  }
 },
 "nbformat": 4,
 "nbformat_minor": 4
}
