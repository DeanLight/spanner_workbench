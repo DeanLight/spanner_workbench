{
 "cells": [
  {
   "cell_type": "markdown",
   "metadata": {},
   "source": [
    "# IE Function\n"
   ]
  },
  {
   "cell_type": "code",
   "execution_count": null,
   "metadata": {},
   "outputs": [],
   "source": [
    "#| default_exp src.rgxlog_interpreter.src.rgxlog.engine.ie_function"
   ]
  },
  {
   "cell_type": "code",
   "execution_count": null,
   "metadata": {},
   "outputs": [],
   "source": [
    "#| hide\n",
    "from nbdev.showdoc import *"
   ]
  },
  {
   "cell_type": "code",
   "execution_count": null,
   "metadata": {},
   "outputs": [],
   "source": [
    "#| export\n",
    "from typing import Iterable, Callable, Union, Tuple, List, Sequence, Any\n",
    "from spanner_workbench.src.rgxlog_interpreter.src.rgxlog.engine.datatypes.primitive_types import DataTypes\n",
    "from fastcore.utils import *"
   ]
  },
  {
   "cell_type": "code",
   "execution_count": null,
   "metadata": {},
   "outputs": [],
   "source": [
    "#| export\n",
    "class IEFunction:\n",
    "    \"\"\"\n",
    "    A class that contains all the functions that provide data\n",
    "    needed for using a single information extraction function\n",
    "    \"\"\"\n",
    "\n",
    "    def __init__(self, ie_function_def: Callable, in_types: Sequence[DataTypes],\n",
    "                 out_types: Union[List[DataTypes], Callable[[int], Sequence[DataTypes]]]):\n",
    "        \"\"\"\n",
    "        @param ie_function_def : the user defined ie function implementation.\n",
    "        @param in_types        : iterable of the input types to the function.\n",
    "        @param out_types       :  either a function (int->iterable) or an iterable\n",
    "        \"\"\"\n",
    "        self.ie_function_def = ie_function_def\n",
    "        self.in_types = in_types\n",
    "        self.out_types = out_types"
   ]
  },
  {
   "cell_type": "code",
   "execution_count": null,
   "metadata": {},
   "outputs": [],
   "source": [
    "#| export\n",
    "@patch\n",
    "def ie_function(self: IEFunction, *args: Any) -> Iterable[Iterable[Union[str, int, Tuple[int, int]]]]:  # Tuple[int, int] represents a Span\n",
    "    \"\"\"\n",
    "    The actual information extraction function that will be used\n",
    "    the function must return a list of lists/tuples that represents the results, another option is to yield the\n",
    "    tuples.\n",
    "\n",
    "    currently the values inside the returned tuples can belong to three datatypes: string, integer and span\n",
    "    string should be returned as a str instance\n",
    "    an integer should be returned as an int instance\n",
    "    a span could be returned either as a tuple of length 2, or as a datatypes.Span instance\n",
    "    \"\"\"\n",
    "    output = self.ie_function_def(*args)\n",
    "    return output"
   ]
  },
  {
   "cell_type": "code",
   "execution_count": null,
   "metadata": {},
   "outputs": [],
   "source": [
    "#| export\n",
    "@patch\n",
    "def get_input_types(self: IEFunction) -> Sequence[DataTypes]:\n",
    "    \"\"\"\n",
    "    @return: an iterable of the input types to the function\n",
    "    This function must be defined as it is used for type checking in semantic passes and execution.\n",
    "    \"\"\"\n",
    "    return self.in_types"
   ]
  },
  {
   "cell_type": "code",
   "execution_count": null,
   "metadata": {},
   "outputs": [],
   "source": [
    "#| export\n",
    "@patch\n",
    "def get_output_types(self: IEFunction, output_arity: int) -> Sequence[DataTypes]:\n",
    "    \"\"\"\n",
    "    @return: given an expected output arity returns an iterable of the output types to the function.\n",
    "    if the ie function cannot return an output of length output_arity, should return None.\n",
    "    This function must be defined as it is used for type checking in semantic passes and execution.\n",
    "    \"\"\"\n",
    "\n",
    "    if callable(self.out_types):\n",
    "        return list(self.in_types) + list(self.out_types(output_arity - len(self.in_types)))\n",
    "\n",
    "    # output is constant\n",
    "    if not output_arity == len(list(self.in_types)) + len(list(self.out_types)):\n",
    "        raise Exception(\"Output arity doesn't match the declared arity.\")\n",
    "    return list(self.in_types) + list(self.out_types)"
   ]
  },
  {
   "cell_type": "code",
   "execution_count": null,
   "metadata": {},
   "outputs": [],
   "source": [
    "#| export\n",
    "@patch\n",
    "def get_meta_data(self: IEFunction) -> str:\n",
    "    \"\"\"\n",
    "    @return: metadata about the ie function.\n",
    "    \"\"\"\n",
    "    metadata = f\"\"\"Input types: {self.in_types}.\\nOutput types: {self.out_types}\"\"\"\n",
    "    return metadata"
   ]
  }
 ],
 "metadata": {
  "kernelspec": {
   "display_name": "python3",
   "language": "python",
   "name": "python3"
  }
 },
 "nbformat": 4,
 "nbformat_minor": 4
}
