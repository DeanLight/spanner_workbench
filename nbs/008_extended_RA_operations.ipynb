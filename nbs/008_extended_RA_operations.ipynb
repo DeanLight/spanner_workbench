{
 "cells": [
  {
   "cell_type": "markdown",
   "metadata": {},
   "source": [
    "# Extended ra operations\n",
    "> relation algebra operations and ie function calculation operations"
   ]
  },
  {
   "cell_type": "code",
   "execution_count": null,
   "metadata": {},
   "outputs": [],
   "source": [
    "#| default_exp ra"
   ]
  },
  {
   "cell_type": "code",
   "execution_count": null,
   "metadata": {},
   "outputs": [
    {
     "data": {
      "text/plain": [
       "'\\nTODO how to solve calc outputs binding to different inputs\\n\\n we cant simply join inputs and outputs, because then outputs from different inputs can intermingle\\n\\n # we need to keep track of the input index and join inputs and their outputs on free vars plus input index\\n # maybe we want to also inline the renaming into the calc node\\n\\n'"
      ]
     },
     "execution_count": null,
     "metadata": {},
     "output_type": "execute_result"
    }
   ],
   "source": [
    "\"\"\"\n",
    "TODO how to solve calc outputs binding to different inputs\n",
    "\n",
    " we cant simply join inputs and outputs, because then outputs from different inputs can intermingle\n",
    "\n",
    " # we need to keep track of the input index and join inputs and their outputs on free vars plus input index\n",
    " # maybe we want to also inline the renaming into the calc node\n",
    "\n",
    "\"\"\""
   ]
  },
  {
   "cell_type": "code",
   "execution_count": null,
   "metadata": {},
   "outputs": [],
   "source": [
    "#| hide\n",
    "from nbdev.showdoc import show_doc\n",
    "from IPython.display import display, HTML\n",
    "%load_ext autoreload\n",
    "%autoreload 2"
   ]
  },
  {
   "cell_type": "code",
   "execution_count": null,
   "metadata": {},
   "outputs": [],
   "source": [
    "#| export\n",
    "#| export\n",
    "import pytest\n",
    "import pandas as pd\n",
    "import numpy as np\n",
    "from typing import no_type_check, Set, Sequence, Any,Optional,List,Callable,Dict,Union\n",
    "import networkx as nx\n",
    "import itertools\n",
    "\n",
    "from spannerlib.utils import serialize_df_values\n",
    "from spannerlib.span import Span\n",
    "from spannerlib.data_types import _infer_relation_schema,pretty\n",
    "\n",
    "import logging\n",
    "logger = logging.getLogger(__name__)"
   ]
  },
  {
   "cell_type": "code",
   "execution_count": null,
   "metadata": {},
   "outputs": [],
   "source": [
    "#| export\n",
    "def _col_names(length):\n",
    "    # these names wont conflixt with logical variables since they must always start with Uppercase letters\n",
    "    return [f'col_{i}' for i in range(length)]\n",
    "\n"
   ]
  },
  {
   "cell_type": "code",
   "execution_count": null,
   "metadata": {},
   "outputs": [],
   "source": [
    "s = pd.DataFrame([\n",
    "    [1,1],\n",
    "    [2,2],\n",
    "    [3,3],\n",
    "    [4,5]\n",
    "])\n",
    "\n",
    "s2 = pd.DataFrame([\n",
    "    [1,2,3],\n",
    "    [2,3,4],\n",
    "    [2,3,5],\n",
    "    [4,5,6]\n",
    "])"
   ]
  },
  {
   "cell_type": "code",
   "execution_count": null,
   "metadata": {},
   "outputs": [
    {
     "data": {
      "text/html": [
       "<div>\n",
       "<style scoped>\n",
       "    .dataframe tbody tr th:only-of-type {\n",
       "        vertical-align: middle;\n",
       "    }\n",
       "\n",
       "    .dataframe tbody tr th {\n",
       "        vertical-align: top;\n",
       "    }\n",
       "\n",
       "    .dataframe thead th {\n",
       "        text-align: right;\n",
       "    }\n",
       "</style>\n",
       "<table border=\"1\" class=\"dataframe\">\n",
       "  <thead>\n",
       "    <tr style=\"text-align: right;\">\n",
       "      <th></th>\n",
       "      <th>0</th>\n",
       "      <th>1</th>\n",
       "    </tr>\n",
       "  </thead>\n",
       "  <tbody>\n",
       "    <tr>\n",
       "      <th>0</th>\n",
       "      <td>1</td>\n",
       "      <td>2</td>\n",
       "    </tr>\n",
       "    <tr>\n",
       "      <th>1</th>\n",
       "      <td>1</td>\n",
       "      <td>3</td>\n",
       "    </tr>\n",
       "    <tr>\n",
       "      <th>2</th>\n",
       "      <td>1</td>\n",
       "      <td>2</td>\n",
       "    </tr>\n",
       "  </tbody>\n",
       "</table>\n",
       "</div>"
      ],
      "text/plain": [
       "   0  1\n",
       "0  1  2\n",
       "1  1  3\n",
       "2  1  2"
      ]
     },
     "execution_count": null,
     "metadata": {},
     "output_type": "execute_result"
    }
   ],
   "source": [
    "df = pd.DataFrame([\n",
    "    [1,2],\n",
    "    [1,3],\n",
    "    [1,2],\n",
    "    ])\n",
    "df"
   ]
  },
  {
   "cell_type": "markdown",
   "metadata": {},
   "source": [
    "### RA"
   ]
  },
  {
   "cell_type": "code",
   "execution_count": null,
   "metadata": {},
   "outputs": [],
   "source": [
    "#| export\n",
    "\n",
    "# some select theta functions\n",
    "\n",
    "class equalConstTheta():\n",
    "    def __init__(self,*pos_val_tuples):\n",
    "        self.pos_val_tuples = pos_val_tuples\n",
    "    def __call__(self,df):\n",
    "        masks = [df.iloc[:,pos]==val for pos,val in self.pos_val_tuples]\n",
    "        return pd.concat(masks,axis=1).all(axis=1)\n",
    "    def __str__(self):\n",
    "        return f'''Theta({', '.join([f'col_{pos}={val}' for pos,val in self.pos_val_tuples])})'''\n",
    "    def __repr__(self):\n",
    "        return str(self)\n",
    "    def __eq__(self,other):\n",
    "        if not isinstance(other,equalConstTheta):\n",
    "            return False\n",
    "        return self.pos_val_tuples == other.pos_val_tuples\n",
    "\n",
    "class equalColTheta():\n",
    "    def __init__(self,*col_pos_tuples):\n",
    "        self.col_pos_tuples = col_pos_tuples\n",
    "\n",
    "    def __call__(self,df):\n",
    "        masks = [df.iloc[:,pos1]==df.iloc[:,pos2] for pos1,pos2 in self.col_pos_tuples]\n",
    "        return pd.concat(masks,axis=1).all(axis=1)    \n",
    "    def __str__(self):\n",
    "        return f'''Theta({', '.join([f'col_{pos1}=col_{pos2}' for pos1,pos2 in self.col_pos_tuples])})'''\n",
    "    def __repr__(self):\n",
    "        return str(self)\n",
    "    def __eq__(self,other):\n",
    "        if not isinstance(other,equalColTheta):\n",
    "            return False\n",
    "        return self.col_pos_tuples == other.col_pos_tuples"
   ]
  },
  {
   "cell_type": "code",
   "execution_count": null,
   "metadata": {},
   "outputs": [
    {
     "data": {
      "text/html": [
       "<div>\n",
       "<style scoped>\n",
       "    .dataframe tbody tr th:only-of-type {\n",
       "        vertical-align: middle;\n",
       "    }\n",
       "\n",
       "    .dataframe tbody tr th {\n",
       "        vertical-align: top;\n",
       "    }\n",
       "\n",
       "    .dataframe thead th {\n",
       "        text-align: right;\n",
       "    }\n",
       "</style>\n",
       "<table border=\"1\" class=\"dataframe\">\n",
       "  <thead>\n",
       "    <tr style=\"text-align: right;\">\n",
       "      <th></th>\n",
       "      <th>0</th>\n",
       "      <th>1</th>\n",
       "      <th>2</th>\n",
       "      <th>3</th>\n",
       "    </tr>\n",
       "  </thead>\n",
       "  <tbody>\n",
       "    <tr>\n",
       "      <th>0</th>\n",
       "      <td>1</td>\n",
       "      <td>2</td>\n",
       "      <td>3</td>\n",
       "      <td>1</td>\n",
       "    </tr>\n",
       "    <tr>\n",
       "      <th>1</th>\n",
       "      <td>1</td>\n",
       "      <td>4</td>\n",
       "      <td>4</td>\n",
       "      <td>1</td>\n",
       "    </tr>\n",
       "    <tr>\n",
       "      <th>2</th>\n",
       "      <td>1</td>\n",
       "      <td>2</td>\n",
       "      <td>3</td>\n",
       "      <td>1</td>\n",
       "    </tr>\n",
       "    <tr>\n",
       "      <th>3</th>\n",
       "      <td>1</td>\n",
       "      <td>4</td>\n",
       "      <td>4</td>\n",
       "      <td>0</td>\n",
       "    </tr>\n",
       "  </tbody>\n",
       "</table>\n",
       "</div>"
      ],
      "text/plain": [
       "   0  1  2  3\n",
       "0  1  2  3  1\n",
       "1  1  4  4  1\n",
       "2  1  2  3  1\n",
       "3  1  4  4  0"
      ]
     },
     "execution_count": null,
     "metadata": {},
     "output_type": "execute_result"
    }
   ],
   "source": [
    "s4 = pd.DataFrame([\n",
    "    [1,2,3,1],\n",
    "    [1,4,4,1],\n",
    "    [1,2,3,1],\n",
    "    [1,4,4,0]\n",
    "])\n",
    "s4"
   ]
  },
  {
   "cell_type": "code",
   "execution_count": null,
   "metadata": {},
   "outputs": [
    {
     "data": {
      "text/plain": [
       "0    True\n",
       "1    True\n",
       "2    True\n",
       "3    True\n",
       "Name: 0, dtype: bool"
      ]
     },
     "execution_count": null,
     "metadata": {},
     "output_type": "execute_result"
    }
   ],
   "source": [
    "s4.iloc[:,0]==1"
   ]
  },
  {
   "cell_type": "code",
   "execution_count": null,
   "metadata": {},
   "outputs": [],
   "source": [
    "assert list(equalConstTheta((0,1),(2,4))(s4)) == [False, True, False, True]\n",
    "assert list(equalColTheta((0,3),(1,2))(s4)) == [False, True, False, False]\n",
    "\n",
    " "
   ]
  },
  {
   "cell_type": "code",
   "execution_count": null,
   "metadata": {},
   "outputs": [],
   "source": [
    "#| export\n",
    "def get_const(const_dict,**kwargs):\n",
    "    return pd.DataFrame([const_dict])"
   ]
  },
  {
   "cell_type": "code",
   "execution_count": null,
   "metadata": {},
   "outputs": [],
   "source": []
  },
  {
   "cell_type": "code",
   "execution_count": null,
   "metadata": {},
   "outputs": [
    {
     "data": {
      "text/html": [
       "<div>\n",
       "<style scoped>\n",
       "    .dataframe tbody tr th:only-of-type {\n",
       "        vertical-align: middle;\n",
       "    }\n",
       "\n",
       "    .dataframe tbody tr th {\n",
       "        vertical-align: top;\n",
       "    }\n",
       "\n",
       "    .dataframe thead th {\n",
       "        text-align: right;\n",
       "    }\n",
       "</style>\n",
       "<table border=\"1\" class=\"dataframe\">\n",
       "  <thead>\n",
       "    <tr style=\"text-align: right;\">\n",
       "      <th></th>\n",
       "      <th>_C1</th>\n",
       "      <th>_C2</th>\n",
       "      <th>0</th>\n",
       "    </tr>\n",
       "  </thead>\n",
       "  <tbody>\n",
       "    <tr>\n",
       "      <th>0</th>\n",
       "      <td>1</td>\n",
       "      <td>2</td>\n",
       "      <td>3</td>\n",
       "    </tr>\n",
       "  </tbody>\n",
       "</table>\n",
       "</div>"
      ],
      "text/plain": [
       "   _C1  _C2  0\n",
       "0    1    2  3"
      ]
     },
     "execution_count": null,
     "metadata": {},
     "output_type": "execute_result"
    }
   ],
   "source": [
    "res = get_const({'_C1':1,'_C2':2,0:3})\n",
    "assert serialize_df_values(res) == {(1,2,3)}\n",
    "assert list(res.columns) == ['_C1','_C2',0]\n",
    "res"
   ]
  },
  {
   "cell_type": "code",
   "execution_count": null,
   "metadata": {},
   "outputs": [],
   "source": [
    "#| export\n",
    "def select(df,theta,**kwargs):\n",
    "    if df.empty:\n",
    "        return df\n",
    "\n",
    "    if callable(theta):\n",
    "        return df[theta(df)]\n",
    "    else:\n",
    "        raise ValueError(f\"theta must be callable, got {theta}\")\n",
    "\n",
    "def project(df,on=None,not_on=None,**kwargs):\n",
    "    if df.empty and len(df.columns)==0:\n",
    "        return df\n",
    "    if on is None and not_on is None:\n",
    "        raise Value(\"either on or not_on must be specified\")\n",
    "    if on is not None:\n",
    "        return df[on]\n",
    "    else:\n",
    "        return df.drop(columns=not_on)\n",
    "\n",
    "def rename(df,names,**kwargs):\n",
    "    if df.empty and len(df.columns)==0:\n",
    "        return df\n",
    "    names_mapper = {\n",
    "    }\n",
    "    current_col_names = list(df.columns)\n",
    "    for i,name in names:\n",
    "        names_mapper[current_col_names[i]] = name\n",
    "    return df.rename(names_mapper,axis=1)\n",
    "\n",
    "def union(*dfs,**kwargs):\n",
    "    # use numpy arrays to ignore column names\n",
    "    non_empty_dfs = [df for df in dfs if not df.empty]\n",
    "    if len(non_empty_dfs)==0:\n",
    "        return dfs[0]\n",
    "    return pd.DataFrame(np.concatenate(non_empty_dfs,axis=0)).drop_duplicates()\n",
    "\n",
    "def intersection(df1,df2,**kwargs):\n",
    "    return pd.merge(df1,df2,how='inner',on=list(df1.columns))\n",
    "\n",
    "def difference(df1,df2,**kwargs):\n",
    "    return pd.concat([df1,df2]).drop_duplicates(keep=False)\n",
    "\n",
    "def join(df1,df2,**kwargs):\n",
    "    cols1 = set(df1.columns)\n",
    "    cols2 = set(df2.columns)\n",
    "    on = cols1 & cols2\n",
    "    # get only logical variables\n",
    "    on = [ col for col in on if isinstance(col,str) and col[0].isupper()]\n",
    "    if len(on)==0:\n",
    "        return pd.merge(df1,df2,how='cross')\n",
    "    else:\n",
    "        return pd.merge(df1,df2,how='inner',on=on)\n",
    "\n",
    "def product(df1,df2,**kwargs):\n",
    "    return pd.merge(df1,df2,how='cross')"
   ]
  },
  {
   "cell_type": "markdown",
   "metadata": {},
   "source": [
    "#### Tests"
   ]
  },
  {
   "cell_type": "code",
   "execution_count": null,
   "metadata": {},
   "outputs": [
    {
     "data": {
      "text/html": [
       "<div>\n",
       "<style scoped>\n",
       "    .dataframe tbody tr th:only-of-type {\n",
       "        vertical-align: middle;\n",
       "    }\n",
       "\n",
       "    .dataframe tbody tr th {\n",
       "        vertical-align: top;\n",
       "    }\n",
       "\n",
       "    .dataframe thead th {\n",
       "        text-align: right;\n",
       "    }\n",
       "</style>\n",
       "<table border=\"1\" class=\"dataframe\">\n",
       "  <thead>\n",
       "    <tr style=\"text-align: right;\">\n",
       "      <th></th>\n",
       "      <th>0</th>\n",
       "      <th>1</th>\n",
       "      <th>2</th>\n",
       "    </tr>\n",
       "  </thead>\n",
       "  <tbody>\n",
       "    <tr>\n",
       "      <th>0</th>\n",
       "      <td>4</td>\n",
       "      <td>5</td>\n",
       "      <td>6</td>\n",
       "    </tr>\n",
       "    <tr>\n",
       "      <th>1</th>\n",
       "      <td>5</td>\n",
       "      <td>6</td>\n",
       "      <td>7</td>\n",
       "    </tr>\n",
       "    <tr>\n",
       "      <th>2</th>\n",
       "      <td>1</td>\n",
       "      <td>2</td>\n",
       "      <td>3</td>\n",
       "    </tr>\n",
       "    <tr>\n",
       "      <th>3</th>\n",
       "      <td>7</td>\n",
       "      <td>8</td>\n",
       "      <td>9</td>\n",
       "    </tr>\n",
       "  </tbody>\n",
       "</table>\n",
       "</div>"
      ],
      "text/plain": [
       "   0  1  2\n",
       "0  4  5  6\n",
       "1  5  6  7\n",
       "2  1  2  3\n",
       "3  7  8  9"
      ]
     },
     "execution_count": null,
     "metadata": {},
     "output_type": "execute_result"
    }
   ],
   "source": [
    "s3 = pd.DataFrame([\n",
    "    [4,5,6],\n",
    "    [5,6,7],\n",
    "    [1,2,3],\n",
    "    [7,8,9]\n",
    "])\n",
    "s3"
   ]
  },
  {
   "cell_type": "code",
   "execution_count": null,
   "metadata": {},
   "outputs": [
    {
     "data": {
      "text/html": [
       "<div>\n",
       "<style scoped>\n",
       "    .dataframe tbody tr th:only-of-type {\n",
       "        vertical-align: middle;\n",
       "    }\n",
       "\n",
       "    .dataframe tbody tr th {\n",
       "        vertical-align: top;\n",
       "    }\n",
       "\n",
       "    .dataframe thead th {\n",
       "        text-align: right;\n",
       "    }\n",
       "</style>\n",
       "<table border=\"1\" class=\"dataframe\">\n",
       "  <thead>\n",
       "    <tr style=\"text-align: right;\">\n",
       "      <th></th>\n",
       "      <th>0</th>\n",
       "      <th>1</th>\n",
       "    </tr>\n",
       "  </thead>\n",
       "  <tbody>\n",
       "    <tr>\n",
       "      <th>0</th>\n",
       "      <td>1</td>\n",
       "      <td>1</td>\n",
       "    </tr>\n",
       "    <tr>\n",
       "      <th>1</th>\n",
       "      <td>2</td>\n",
       "      <td>2</td>\n",
       "    </tr>\n",
       "    <tr>\n",
       "      <th>2</th>\n",
       "      <td>3</td>\n",
       "      <td>3</td>\n",
       "    </tr>\n",
       "    <tr>\n",
       "      <th>3</th>\n",
       "      <td>4</td>\n",
       "      <td>5</td>\n",
       "    </tr>\n",
       "  </tbody>\n",
       "</table>\n",
       "</div>"
      ],
      "text/plain": [
       "   0  1\n",
       "0  1  1\n",
       "1  2  2\n",
       "2  3  3\n",
       "3  4  5"
      ]
     },
     "execution_count": null,
     "metadata": {},
     "output_type": "execute_result"
    }
   ],
   "source": [
    "s"
   ]
  },
  {
   "cell_type": "code",
   "execution_count": null,
   "metadata": {},
   "outputs": [
    {
     "data": {
      "text/html": [
       "<div>\n",
       "<style scoped>\n",
       "    .dataframe tbody tr th:only-of-type {\n",
       "        vertical-align: middle;\n",
       "    }\n",
       "\n",
       "    .dataframe tbody tr th {\n",
       "        vertical-align: top;\n",
       "    }\n",
       "\n",
       "    .dataframe thead th {\n",
       "        text-align: right;\n",
       "    }\n",
       "</style>\n",
       "<table border=\"1\" class=\"dataframe\">\n",
       "  <thead>\n",
       "    <tr style=\"text-align: right;\">\n",
       "      <th></th>\n",
       "      <th>0</th>\n",
       "      <th>1</th>\n",
       "      <th>2</th>\n",
       "    </tr>\n",
       "  </thead>\n",
       "  <tbody>\n",
       "    <tr>\n",
       "      <th>0</th>\n",
       "      <td>1</td>\n",
       "      <td>2</td>\n",
       "      <td>3</td>\n",
       "    </tr>\n",
       "    <tr>\n",
       "      <th>1</th>\n",
       "      <td>2</td>\n",
       "      <td>3</td>\n",
       "      <td>4</td>\n",
       "    </tr>\n",
       "    <tr>\n",
       "      <th>2</th>\n",
       "      <td>2</td>\n",
       "      <td>3</td>\n",
       "      <td>5</td>\n",
       "    </tr>\n",
       "    <tr>\n",
       "      <th>3</th>\n",
       "      <td>4</td>\n",
       "      <td>5</td>\n",
       "      <td>6</td>\n",
       "    </tr>\n",
       "  </tbody>\n",
       "</table>\n",
       "</div>"
      ],
      "text/plain": [
       "   0  1  2\n",
       "0  1  2  3\n",
       "1  2  3  4\n",
       "2  2  3  5\n",
       "3  4  5  6"
      ]
     },
     "execution_count": null,
     "metadata": {},
     "output_type": "execute_result"
    }
   ],
   "source": [
    "s2_copy = s2.copy()\n",
    "s2"
   ]
  },
  {
   "cell_type": "code",
   "execution_count": null,
   "metadata": {},
   "outputs": [],
   "source": [
    "empty = pd.DataFrame()\n",
    "\n",
    "truth = pd.DataFrame([()])"
   ]
  },
  {
   "cell_type": "code",
   "execution_count": null,
   "metadata": {},
   "outputs": [
    {
     "data": {
      "text/plain": [
       "True"
      ]
     },
     "execution_count": null,
     "metadata": {},
     "output_type": "execute_result"
    }
   ],
   "source": [
    "empty.empty"
   ]
  },
  {
   "cell_type": "code",
   "execution_count": null,
   "metadata": {},
   "outputs": [
    {
     "data": {
      "text/plain": [
       "True"
      ]
     },
     "execution_count": null,
     "metadata": {},
     "output_type": "execute_result"
    }
   ],
   "source": [
    "pd.DataFrame(columns=['a','b']).empty"
   ]
  },
  {
   "cell_type": "code",
   "execution_count": null,
   "metadata": {},
   "outputs": [],
   "source": [
    "assert serialize_df_values(select(empty,None))==set()\n",
    "assert serialize_df_values(rename(empty,names=[(0,'X')]))==set()\n",
    "assert serialize_df_values(project(empty,on=['X','Y']))==set()"
   ]
  },
  {
   "cell_type": "code",
   "execution_count": null,
   "metadata": {},
   "outputs": [
    {
     "data": {
      "text/html": [
       "<div>\n",
       "<style scoped>\n",
       "    .dataframe tbody tr th:only-of-type {\n",
       "        vertical-align: middle;\n",
       "    }\n",
       "\n",
       "    .dataframe tbody tr th {\n",
       "        vertical-align: top;\n",
       "    }\n",
       "\n",
       "    .dataframe thead th {\n",
       "        text-align: right;\n",
       "    }\n",
       "</style>\n",
       "<table border=\"1\" class=\"dataframe\">\n",
       "  <thead>\n",
       "    <tr style=\"text-align: right;\">\n",
       "      <th></th>\n",
       "      <th>0</th>\n",
       "      <th>1</th>\n",
       "    </tr>\n",
       "  </thead>\n",
       "  <tbody>\n",
       "    <tr>\n",
       "      <th>0</th>\n",
       "      <td>1</td>\n",
       "      <td>1</td>\n",
       "    </tr>\n",
       "    <tr>\n",
       "      <th>1</th>\n",
       "      <td>2</td>\n",
       "      <td>2</td>\n",
       "    </tr>\n",
       "    <tr>\n",
       "      <th>2</th>\n",
       "      <td>3</td>\n",
       "      <td>3</td>\n",
       "    </tr>\n",
       "    <tr>\n",
       "      <th>3</th>\n",
       "      <td>4</td>\n",
       "      <td>5</td>\n",
       "    </tr>\n",
       "  </tbody>\n",
       "</table>\n",
       "</div>"
      ],
      "text/plain": [
       "   0  1\n",
       "0  1  1\n",
       "1  2  2\n",
       "2  3  3\n",
       "3  4  5"
      ]
     },
     "execution_count": null,
     "metadata": {},
     "output_type": "execute_result"
    }
   ],
   "source": [
    "s"
   ]
  },
  {
   "cell_type": "code",
   "execution_count": null,
   "metadata": {},
   "outputs": [],
   "source": [
    "res = select(s,equalConstTheta((0,1)))\n",
    "assert serialize_df_values(res)=={(1,1)}\n",
    "\n",
    "res = select(s2,equalConstTheta((0,2),(1,3)))\n",
    "assert serialize_df_values(res) == {(2,3,4),(2,3,5)}\n",
    "\n",
    "res = select(s,equalColTheta((0,1)))\n",
    "assert serialize_df_values(res) == {(1, 1), (2, 2), (3, 3)}"
   ]
  },
  {
   "cell_type": "code",
   "execution_count": null,
   "metadata": {},
   "outputs": [
    {
     "data": {
      "text/html": [
       "<div>\n",
       "<style scoped>\n",
       "    .dataframe tbody tr th:only-of-type {\n",
       "        vertical-align: middle;\n",
       "    }\n",
       "\n",
       "    .dataframe tbody tr th {\n",
       "        vertical-align: top;\n",
       "    }\n",
       "\n",
       "    .dataframe thead th {\n",
       "        text-align: right;\n",
       "    }\n",
       "</style>\n",
       "<table border=\"1\" class=\"dataframe\">\n",
       "  <thead>\n",
       "    <tr style=\"text-align: right;\">\n",
       "      <th></th>\n",
       "      <th>0</th>\n",
       "      <th>1</th>\n",
       "      <th>2</th>\n",
       "    </tr>\n",
       "  </thead>\n",
       "  <tbody>\n",
       "    <tr>\n",
       "      <th>0</th>\n",
       "      <td>1</td>\n",
       "      <td>2</td>\n",
       "      <td>3</td>\n",
       "    </tr>\n",
       "    <tr>\n",
       "      <th>1</th>\n",
       "      <td>2</td>\n",
       "      <td>3</td>\n",
       "      <td>4</td>\n",
       "    </tr>\n",
       "    <tr>\n",
       "      <th>2</th>\n",
       "      <td>2</td>\n",
       "      <td>3</td>\n",
       "      <td>5</td>\n",
       "    </tr>\n",
       "    <tr>\n",
       "      <th>3</th>\n",
       "      <td>4</td>\n",
       "      <td>5</td>\n",
       "      <td>6</td>\n",
       "    </tr>\n",
       "  </tbody>\n",
       "</table>\n",
       "</div>"
      ],
      "text/plain": [
       "   0  1  2\n",
       "0  1  2  3\n",
       "1  2  3  4\n",
       "2  2  3  5\n",
       "3  4  5  6"
      ]
     },
     "execution_count": null,
     "metadata": {},
     "output_type": "execute_result"
    }
   ],
   "source": [
    "\n",
    "s2"
   ]
  },
  {
   "cell_type": "code",
   "execution_count": null,
   "metadata": {},
   "outputs": [],
   "source": [
    "res = project(s2,on=[2,1])\n",
    "assert serialize_df_values(res) == {(3, 2), (4, 3), (5, 3), (6, 5)}\n",
    "res = project(s2,not_on=[0,1])\n",
    "assert serialize_df_values(res)== {(3,), (4,), (5,), (6,)}"
   ]
  },
  {
   "cell_type": "code",
   "execution_count": null,
   "metadata": {},
   "outputs": [],
   "source": [
    "assert list(rename(s2,[(0,'X')]).columns) == ['X',1,2]\n",
    "assert list(rename(s2,[(0,'X'),(2,'Z')]).columns) == ['X',1,'Z']"
   ]
  },
  {
   "cell_type": "code",
   "execution_count": null,
   "metadata": {},
   "outputs": [],
   "source": [
    "res = union(s2,s3)\n",
    "assert serialize_df_values(res) == {(1, 2, 3), (2, 3, 4), (2, 3, 5), (4, 5, 6), (5, 6, 7), (7, 8, 9)}\n",
    "\n",
    "res = intersection(s2,s3) \n",
    "assert serialize_df_values(res) == {(1, 2, 3), (4, 5, 6),}\n",
    "\n",
    "res = difference(s2,s3)\n",
    "assert serialize_df_values(res) == { (2, 3, 4), (2, 3, 5),(5, 6, 7), (7, 8, 9)}\n"
   ]
  },
  {
   "cell_type": "code",
   "execution_count": null,
   "metadata": {},
   "outputs": [],
   "source": [
    "d1 =pd.DataFrame([[1,2,1]],columns=['X','Y','Z'])\n",
    "d2 = pd.DataFrame([[3,4,5]],columns=['X',1,'Y'])\n",
    "assert serialize_df_values(union(d1,d2)) == {(1, 2, 1), (3, 4, 5)}\n"
   ]
  },
  {
   "cell_type": "code",
   "execution_count": null,
   "metadata": {},
   "outputs": [
    {
     "data": {
      "text/html": [
       "<div>\n",
       "<style scoped>\n",
       "    .dataframe tbody tr th:only-of-type {\n",
       "        vertical-align: middle;\n",
       "    }\n",
       "\n",
       "    .dataframe tbody tr th {\n",
       "        vertical-align: top;\n",
       "    }\n",
       "\n",
       "    .dataframe thead th {\n",
       "        text-align: right;\n",
       "    }\n",
       "</style>\n",
       "<table border=\"1\" class=\"dataframe\">\n",
       "  <thead>\n",
       "    <tr style=\"text-align: right;\">\n",
       "      <th></th>\n",
       "      <th>0</th>\n",
       "      <th>Y</th>\n",
       "    </tr>\n",
       "  </thead>\n",
       "  <tbody>\n",
       "    <tr>\n",
       "      <th>0</th>\n",
       "      <td>1</td>\n",
       "      <td>1</td>\n",
       "    </tr>\n",
       "    <tr>\n",
       "      <th>1</th>\n",
       "      <td>2</td>\n",
       "      <td>2</td>\n",
       "    </tr>\n",
       "    <tr>\n",
       "      <th>2</th>\n",
       "      <td>3</td>\n",
       "      <td>3</td>\n",
       "    </tr>\n",
       "    <tr>\n",
       "      <th>3</th>\n",
       "      <td>4</td>\n",
       "      <td>5</td>\n",
       "    </tr>\n",
       "  </tbody>\n",
       "</table>\n",
       "</div>"
      ],
      "text/plain": [
       "   0  Y\n",
       "0  1  1\n",
       "1  2  2\n",
       "2  3  3\n",
       "3  4  5"
      ]
     },
     "execution_count": null,
     "metadata": {},
     "output_type": "execute_result"
    }
   ],
   "source": [
    "left = rename(s,[(1,'Y')])\n",
    "left"
   ]
  },
  {
   "cell_type": "code",
   "execution_count": null,
   "metadata": {},
   "outputs": [
    {
     "data": {
      "text/html": [
       "<div>\n",
       "<style scoped>\n",
       "    .dataframe tbody tr th:only-of-type {\n",
       "        vertical-align: middle;\n",
       "    }\n",
       "\n",
       "    .dataframe tbody tr th {\n",
       "        vertical-align: top;\n",
       "    }\n",
       "\n",
       "    .dataframe thead th {\n",
       "        text-align: right;\n",
       "    }\n",
       "</style>\n",
       "<table border=\"1\" class=\"dataframe\">\n",
       "  <thead>\n",
       "    <tr style=\"text-align: right;\">\n",
       "      <th></th>\n",
       "      <th>Y</th>\n",
       "      <th>X</th>\n",
       "      <th>2</th>\n",
       "    </tr>\n",
       "  </thead>\n",
       "  <tbody>\n",
       "    <tr>\n",
       "      <th>0</th>\n",
       "      <td>1</td>\n",
       "      <td>2</td>\n",
       "      <td>3</td>\n",
       "    </tr>\n",
       "    <tr>\n",
       "      <th>1</th>\n",
       "      <td>2</td>\n",
       "      <td>3</td>\n",
       "      <td>4</td>\n",
       "    </tr>\n",
       "    <tr>\n",
       "      <th>2</th>\n",
       "      <td>2</td>\n",
       "      <td>3</td>\n",
       "      <td>5</td>\n",
       "    </tr>\n",
       "    <tr>\n",
       "      <th>3</th>\n",
       "      <td>4</td>\n",
       "      <td>5</td>\n",
       "      <td>6</td>\n",
       "    </tr>\n",
       "  </tbody>\n",
       "</table>\n",
       "</div>"
      ],
      "text/plain": [
       "   Y  X  2\n",
       "0  1  2  3\n",
       "1  2  3  4\n",
       "2  2  3  5\n",
       "3  4  5  6"
      ]
     },
     "execution_count": null,
     "metadata": {},
     "output_type": "execute_result"
    }
   ],
   "source": [
    "right = rename(s2,[(0,'Y'),(1,'X')])\n",
    "right"
   ]
  },
  {
   "cell_type": "code",
   "execution_count": null,
   "metadata": {},
   "outputs": [
    {
     "data": {
      "text/html": [
       "<div>\n",
       "<style scoped>\n",
       "    .dataframe tbody tr th:only-of-type {\n",
       "        vertical-align: middle;\n",
       "    }\n",
       "\n",
       "    .dataframe tbody tr th {\n",
       "        vertical-align: top;\n",
       "    }\n",
       "\n",
       "    .dataframe thead th {\n",
       "        text-align: right;\n",
       "    }\n",
       "</style>\n",
       "<table border=\"1\" class=\"dataframe\">\n",
       "  <thead>\n",
       "    <tr style=\"text-align: right;\">\n",
       "      <th></th>\n",
       "      <th>0</th>\n",
       "      <th>Y</th>\n",
       "      <th>X</th>\n",
       "      <th>2</th>\n",
       "    </tr>\n",
       "  </thead>\n",
       "  <tbody>\n",
       "    <tr>\n",
       "      <th>0</th>\n",
       "      <td>1</td>\n",
       "      <td>1</td>\n",
       "      <td>2</td>\n",
       "      <td>3</td>\n",
       "    </tr>\n",
       "    <tr>\n",
       "      <th>1</th>\n",
       "      <td>2</td>\n",
       "      <td>2</td>\n",
       "      <td>3</td>\n",
       "      <td>4</td>\n",
       "    </tr>\n",
       "    <tr>\n",
       "      <th>2</th>\n",
       "      <td>2</td>\n",
       "      <td>2</td>\n",
       "      <td>3</td>\n",
       "      <td>5</td>\n",
       "    </tr>\n",
       "  </tbody>\n",
       "</table>\n",
       "</div>"
      ],
      "text/plain": [
       "   0  Y  X  2\n",
       "0  1  1  2  3\n",
       "1  2  2  3  4\n",
       "2  2  2  3  5"
      ]
     },
     "execution_count": null,
     "metadata": {},
     "output_type": "execute_result"
    }
   ],
   "source": [
    "res = join(left,right)\n",
    "assert serialize_df_values(res) == {(1, 1, 2, 3), (2, 2, 3, 4), (2, 2, 3, 5)}\n",
    "res"
   ]
  },
  {
   "cell_type": "code",
   "execution_count": null,
   "metadata": {},
   "outputs": [
    {
     "data": {
      "text/html": [
       "<div>\n",
       "<style scoped>\n",
       "    .dataframe tbody tr th:only-of-type {\n",
       "        vertical-align: middle;\n",
       "    }\n",
       "\n",
       "    .dataframe tbody tr th {\n",
       "        vertical-align: top;\n",
       "    }\n",
       "\n",
       "    .dataframe thead th {\n",
       "        text-align: right;\n",
       "    }\n",
       "</style>\n",
       "<table border=\"1\" class=\"dataframe\">\n",
       "  <thead>\n",
       "    <tr style=\"text-align: right;\">\n",
       "      <th></th>\n",
       "      <th>a</th>\n",
       "      <th>b</th>\n",
       "      <th>0</th>\n",
       "      <th>1</th>\n",
       "    </tr>\n",
       "  </thead>\n",
       "  <tbody>\n",
       "    <tr>\n",
       "      <th>0</th>\n",
       "      <td>1</td>\n",
       "      <td>1</td>\n",
       "      <td>1</td>\n",
       "      <td>1</td>\n",
       "    </tr>\n",
       "    <tr>\n",
       "      <th>1</th>\n",
       "      <td>1</td>\n",
       "      <td>1</td>\n",
       "      <td>2</td>\n",
       "      <td>2</td>\n",
       "    </tr>\n",
       "    <tr>\n",
       "      <th>2</th>\n",
       "      <td>1</td>\n",
       "      <td>1</td>\n",
       "      <td>3</td>\n",
       "      <td>3</td>\n",
       "    </tr>\n",
       "    <tr>\n",
       "      <th>3</th>\n",
       "      <td>1</td>\n",
       "      <td>1</td>\n",
       "      <td>4</td>\n",
       "      <td>5</td>\n",
       "    </tr>\n",
       "    <tr>\n",
       "      <th>4</th>\n",
       "      <td>2</td>\n",
       "      <td>2</td>\n",
       "      <td>1</td>\n",
       "      <td>1</td>\n",
       "    </tr>\n",
       "  </tbody>\n",
       "</table>\n",
       "</div>"
      ],
      "text/plain": [
       "   a  b  0  1\n",
       "0  1  1  1  1\n",
       "1  1  1  2  2\n",
       "2  1  1  3  3\n",
       "3  1  1  4  5\n",
       "4  2  2  1  1"
      ]
     },
     "execution_count": null,
     "metadata": {},
     "output_type": "execute_result"
    }
   ],
   "source": [
    "res = join(rename(s,[(0,'a'),(1,'b')]),s)\n",
    "assert len(res)==16\n",
    "assert list(res.columns) == ['a', 'b', 0, 1]\n",
    "res.head()"
   ]
  },
  {
   "cell_type": "markdown",
   "metadata": {},
   "source": [
    "### Calc ie operators"
   ]
  },
  {
   "cell_type": "markdown",
   "metadata": {},
   "source": [
    "To calculate ie functions we need\n",
    "* a map like operator to run the function on the input tuples to generate `[input+output]` tuples\n"
   ]
  },
  {
   "cell_type": "code",
   "execution_count": null,
   "metadata": {},
   "outputs": [],
   "source": [
    "#Each schema is either a const \n",
    "\n",
    "# in = [str,int,str]\n",
    "\n",
    "\n",
    "\n",
    "# in = lambda x: [str] * x\n",
    "# out = lambda y: y==\n",
    "# format(\"{0} {1} {2}\",X,Y,Z)->(S)\n",
    "\n"
   ]
  },
  {
   "cell_type": "code",
   "execution_count": null,
   "metadata": {},
   "outputs": [],
   "source": [
    "#| export\n",
    "def assert_tuple_like(name,func,input,output):\n",
    "    if not isinstance(output,(tuple,list)):\n",
    "        raise ValueError(f\"IEFunction {name} with underlying function {func}\\n\"\n",
    "                         f\"returned a value that is not a tuple/list\\n\"\n",
    "                         f\"for input output pair ({input},{output})\"\n",
    "                         f\"did you remember to return the output as a tuple/list?\")\n",
    "\n",
    "def assert_ie_schema(name,func,value,expected_schema,arity,input_or_output='input'):\n",
    "    if callable(expected_schema):\n",
    "        expected_schema = expected_schema(arity)\n",
    "    actual_schema = [type(v) for v in value]\n",
    "    if actual_schema != expected_schema:\n",
    "        raise ValueError(\n",
    "            f\"IEFunction {name} with underlying function {func}\\n\"\n",
    "            f\"received an {input_or_output} value {value}(schema={pretty(_infer_relation_schema(value))})\\n\"\n",
    "            f\"but expected {pretty(expected_schema)}\")\n",
    "\n",
    "def assert_iterable(name,func,input,output):\n",
    "    try:\n",
    "        out_iter = iter(output)\n",
    "    except TypeError:\n",
    "        raise ValueError(f\"IEFunction {name} with underlying function {func}\\n\"\n",
    "                f\"returned a value that is not an iterable\\n\"\n",
    "                f\"for input {input} -> {output}\")\n",
    "\n",
    "def map_iter(df,name,func,in_schema,out_schema,in_arity,out_arity,**kwargs):\n",
    "    \"\"\"helper function returns an iterator that applies a function to each row of a dataframe\n",
    "    \"\"\"\n",
    "    for _,in_row in df.iterrows():\n",
    "        in_row = list(in_row)\n",
    "        assert_ie_schema(name,func,in_row,in_schema,in_arity,input_or_output='input')\n",
    "        output = func(*in_row)\n",
    "        assert_iterable(name,func,in_row,output)\n",
    "        for out_row in output:\n",
    "            assert_tuple_like(name,func,in_row,out_row)\n",
    "            out_row = list(out_row)\n",
    "            assert_ie_schema(name,func,out_row,out_schema,out_arity,input_or_output='output')\n",
    "            yield in_row + out_row\n",
    "\n",
    "def ie_map(df,name,func,in_schema,out_schema,in_arity,out_arity,**kwargs):\n",
    "    \"\"\"given an indexed dataframe, apply an ie function to each row and return the output \n",
    "    such that each output relation is indexed by the same index as the input relation that generated it\n",
    "    \"\"\"\n",
    "    # if df.empty:\n",
    "    #     return df\n",
    "    output_iter = map_iter(df,name,func,in_schema,out_schema,in_arity,out_arity)\n",
    "    total_arity = in_arity + out_arity\n",
    "    return pd.DataFrame(output_iter,columns=_col_names(total_arity))\n",
    "\n",
    "\n",
    "\n"
   ]
  },
  {
   "cell_type": "markdown",
   "metadata": {},
   "source": [
    "#### Tests"
   ]
  },
  {
   "cell_type": "code",
   "execution_count": null,
   "metadata": {},
   "outputs": [
    {
     "data": {
      "text/html": [
       "<div>\n",
       "<style scoped>\n",
       "    .dataframe tbody tr th:only-of-type {\n",
       "        vertical-align: middle;\n",
       "    }\n",
       "\n",
       "    .dataframe tbody tr th {\n",
       "        vertical-align: top;\n",
       "    }\n",
       "\n",
       "    .dataframe thead th {\n",
       "        text-align: right;\n",
       "    }\n",
       "</style>\n",
       "<table border=\"1\" class=\"dataframe\">\n",
       "  <thead>\n",
       "    <tr style=\"text-align: right;\">\n",
       "      <th></th>\n",
       "      <th>0</th>\n",
       "      <th>1</th>\n",
       "      <th>2</th>\n",
       "    </tr>\n",
       "  </thead>\n",
       "  <tbody>\n",
       "    <tr>\n",
       "      <th>0</th>\n",
       "      <td>1</td>\n",
       "      <td>2</td>\n",
       "      <td>3</td>\n",
       "    </tr>\n",
       "    <tr>\n",
       "      <th>1</th>\n",
       "      <td>2</td>\n",
       "      <td>3</td>\n",
       "      <td>4</td>\n",
       "    </tr>\n",
       "    <tr>\n",
       "      <th>2</th>\n",
       "      <td>2</td>\n",
       "      <td>3</td>\n",
       "      <td>5</td>\n",
       "    </tr>\n",
       "    <tr>\n",
       "      <th>3</th>\n",
       "      <td>4</td>\n",
       "      <td>5</td>\n",
       "      <td>6</td>\n",
       "    </tr>\n",
       "  </tbody>\n",
       "</table>\n",
       "</div>"
      ],
      "text/plain": [
       "   0  1  2\n",
       "0  1  2  3\n",
       "1  2  3  4\n",
       "2  2  3  5\n",
       "3  4  5  6"
      ]
     },
     "execution_count": null,
     "metadata": {},
     "output_type": "execute_result"
    }
   ],
   "source": [
    "s2"
   ]
  },
  {
   "cell_type": "code",
   "execution_count": null,
   "metadata": {},
   "outputs": [
    {
     "name": "stdout",
     "output_type": "stream",
     "text": [
      "[1, 1]\n",
      "[2, 2]\n",
      "[3, 3]\n",
      "[4, 5]\n",
      "[1, 2, 3]\n",
      "[2, 3, 4]\n",
      "[2, 3, 5]\n",
      "[4, 5, 6]\n"
     ]
    }
   ],
   "source": [
    "def func(x,y): return [(x+y,x-y)]\n",
    "def func2(x,y,z): return [(x,y)]\n",
    "\n",
    "assert serialize_df_values(ie_map(s,'F',func,[int,int],[int,int],in_arity=2,out_arity=2)) == {\n",
    "    (1, 1, 2, 0), (2, 2, 4, 0), (3, 3, 6, 0), (4, 5, 9, -1)}\n",
    "assert serialize_df_values(ie_map(s2,'F',func2,\n",
    "    in_schema=[int,int,int],out_schema=[int,int],\n",
    "    in_arity=3,out_arity=2)) == {\n",
    "    (1, 2, 3, 1, 2), (2, 3, 4, 2, 3), (2, 3, 5, 2, 3), (4, 5, 6, 4, 5)\n",
    "    }"
   ]
  },
  {
   "cell_type": "code",
   "execution_count": null,
   "metadata": {},
   "outputs": [
    {
     "data": {
      "text/html": [
       "<div>\n",
       "<style scoped>\n",
       "    .dataframe tbody tr th:only-of-type {\n",
       "        vertical-align: middle;\n",
       "    }\n",
       "\n",
       "    .dataframe tbody tr th {\n",
       "        vertical-align: top;\n",
       "    }\n",
       "\n",
       "    .dataframe thead th {\n",
       "        text-align: right;\n",
       "    }\n",
       "</style>\n",
       "<table border=\"1\" class=\"dataframe\">\n",
       "  <thead>\n",
       "    <tr style=\"text-align: right;\">\n",
       "      <th></th>\n",
       "      <th>col_0</th>\n",
       "      <th>col_1</th>\n",
       "      <th>col_2</th>\n",
       "      <th>col_3</th>\n",
       "      <th>col_4</th>\n",
       "      <th>col_5</th>\n",
       "    </tr>\n",
       "  </thead>\n",
       "  <tbody>\n",
       "  </tbody>\n",
       "</table>\n",
       "</div>"
      ],
      "text/plain": [
       "Empty DataFrame\n",
       "Columns: [col_0, col_1, col_2, col_3, col_4, col_5]\n",
       "Index: []"
      ]
     },
     "execution_count": null,
     "metadata": {},
     "output_type": "execute_result"
    }
   ],
   "source": [
    "s2_empty = pd.DataFrame(columns=[0,1,2])\n",
    "ie_map(s2_empty,'F',func2,[int,int,int],[int,int,int],3,3)\n"
   ]
  },
  {
   "cell_type": "code",
   "execution_count": null,
   "metadata": {},
   "outputs": [
    {
     "name": "stdout",
     "output_type": "stream",
     "text": [
      "[1, 2, 3]\n",
      "IEFunction F with underlying function <function func2>\n",
      "received an output value [1, 2](schema=[<class 'int'>, <class 'int'>])\n",
      "but expected [<class 'int'>, <class 'int'>, <class 'int'>]\n",
      "[1, 2, 3]\n",
      "IEFunction F with underlying function <function func2>\n",
      "received an output value [1, 2](schema=[<class 'int'>, <class 'int'>])\n",
      "but expected [<class 'int'>, <class 'str'>]\n",
      "[1, 1]\n",
      "IEFunction F with underlying function <function <lambda>>\n",
      "returned a value that is not an iterable\n",
      "for input [1, 1] -> 2\n",
      "[1, 1]\n",
      "IEFunction F with underlying function <function <lambda>>\n",
      "returned a value that is not a tuple/list\n",
      "for input output pair ([1, 1],2)did you remember to return the output as a tuple/list?\n"
     ]
    }
   ],
   "source": [
    "# test checking of schema\n",
    "with pytest.raises(ValueError) as exc_info:\n",
    "    ie_map(s2,'F',func2,[int,int,int],[int,int,int],3,3)\n",
    "assert 'but expected' in str(exc_info.value)\n",
    "print(exc_info.value)\n",
    "\n",
    "with pytest.raises(ValueError) as exc_info:\n",
    "    ie_map(s2,'F',func2,[int,int,int],[int,str],3,2)\n",
    "assert 'but expected' in str(exc_info.value)\n",
    "print(exc_info.value)\n",
    "\n",
    "# ie function that forgot to return a tuple\n",
    "not_iter_func = lambda x,y:x+y\n",
    "not_tuple_iter_func = lambda x,y:[x+y]\n",
    "\n",
    "with pytest.raises(ValueError) as exc_info:\n",
    "    ie_map(s,'F',not_iter_func,[int,int],[int],2,1)\n",
    "assert 'that is not an iterable' in str(exc_info.value)\n",
    "print(exc_info.value)\n",
    "\n",
    "with pytest.raises(ValueError) as exc_info:\n",
    "    ie_map(s,'F',not_tuple_iter_func,[int,int],[int],2,1)\n",
    "assert 'value that is not a tuple/list' in str(exc_info.value)\n",
    "print(exc_info.value)"
   ]
  },
  {
   "cell_type": "code",
   "execution_count": null,
   "metadata": {},
   "outputs": [],
   "source": [
    "#|hide\n",
    "import nbdev; nbdev.nbdev_export()\n",
    "     "
   ]
  }
 ],
 "metadata": {
  "kernelspec": {
   "display_name": "python3",
   "language": "python",
   "name": "python3"
  }
 },
 "nbformat": 4,
 "nbformat_minor": 4
}
