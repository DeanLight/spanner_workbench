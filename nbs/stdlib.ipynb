{
 "cells": [
  {
   "cell_type": "markdown",
   "metadata": {},
   "source": [
    "# Standard library ie functions"
   ]
  },
  {
   "cell_type": "markdown",
   "metadata": {},
   "source": [
    "Here are the current standard ie functions that are registered in rgxlog sessions.\n",
    "This section is still a WIP."
   ]
  },
  {
   "cell_type": "code",
   "execution_count": null,
   "metadata": {},
   "outputs": [
    {
     "data": {
      "text/markdown": [
       "---\n",
       "\n",
       "[source](https://github.com/DeanLight/spanner_workbench/blob/master/spanner_workbench/ie_func/python_regex.py#LNone){target=\"_blank\" style=\"float:right; font-size:smaller\"}\n",
       "\n",
       "### py_rgx\n",
       "\n",
       ">      py_rgx (text:str, regex_pattern:str)\n",
       "\n",
       "An IE function which runs regex using python's `re` and yields tuples of spans.\n",
       "\n",
       "@param text: The input text for the regex operation.\n",
       "@param regex_pattern: the pattern of the regex operation.\n",
       "@return: tuples of spans that represents the results."
      ],
      "text/plain": [
       "---\n",
       "\n",
       "[source](https://github.com/DeanLight/spanner_workbench/blob/master/spanner_workbench/ie_func/python_regex.py#LNone){target=\"_blank\" style=\"float:right; font-size:smaller\"}\n",
       "\n",
       "### py_rgx\n",
       "\n",
       ">      py_rgx (text:str, regex_pattern:str)\n",
       "\n",
       "An IE function which runs regex using python's `re` and yields tuples of spans.\n",
       "\n",
       "@param text: The input text for the regex operation.\n",
       "@param regex_pattern: the pattern of the regex operation.\n",
       "@return: tuples of spans that represents the results."
      ]
     },
     "metadata": {},
     "output_type": "display_data"
    },
    {
     "data": {
      "text/markdown": [
       "---\n",
       "\n",
       "[source](https://github.com/DeanLight/spanner_workbench/blob/master/spanner_workbench/ie_func/python_regex.py#LNone){target=\"_blank\" style=\"float:right; font-size:smaller\"}\n",
       "\n",
       "### py_rgx_string\n",
       "\n",
       ">      py_rgx_string (text:str, regex_pattern:str)\n",
       "\n",
       "An IE function which runs regex using python's `re` and yields tuples of strings.\n",
       "\n",
       "@param text: The input text for the regex operation.\n",
       "@param regex_pattern: the pattern of the regex operation.\n",
       "@return: tuples of strings that represents the results."
      ],
      "text/plain": [
       "---\n",
       "\n",
       "[source](https://github.com/DeanLight/spanner_workbench/blob/master/spanner_workbench/ie_func/python_regex.py#LNone){target=\"_blank\" style=\"float:right; font-size:smaller\"}\n",
       "\n",
       "### py_rgx_string\n",
       "\n",
       ">      py_rgx_string (text:str, regex_pattern:str)\n",
       "\n",
       "An IE function which runs regex using python's `re` and yields tuples of strings.\n",
       "\n",
       "@param text: The input text for the regex operation.\n",
       "@param regex_pattern: the pattern of the regex operation.\n",
       "@return: tuples of strings that represents the results."
      ]
     },
     "metadata": {},
     "output_type": "display_data"
    },
    {
     "data": {
      "text/markdown": [
       "---\n",
       "\n",
       "[source](https://github.com/DeanLight/spanner_workbench/blob/master/spanner_workbench/ie_func/rust_spanner_regex.py#LNone){target=\"_blank\" style=\"float:right; font-size:smaller\"}\n",
       "\n",
       "### rgx_span\n",
       "\n",
       ">      rgx_span (text:str, regex_pattern:str)\n",
       "\n",
       "|    | **Type** | **Details** |\n",
       "| -- | -------- | ----------- |\n",
       "| text | str | The input text for the regex operation |\n",
       "| regex_pattern | str | The pattern of the regex operation |\n",
       "| **Returns** | **typing.Iterable[typing.Iterable[typing.Union[str, spanner_workbench.primitive_types.Span]]]** | **tuples of spans that represents the results** |"
      ],
      "text/plain": [
       "---\n",
       "\n",
       "[source](https://github.com/DeanLight/spanner_workbench/blob/master/spanner_workbench/ie_func/rust_spanner_regex.py#LNone){target=\"_blank\" style=\"float:right; font-size:smaller\"}\n",
       "\n",
       "### rgx_span\n",
       "\n",
       ">      rgx_span (text:str, regex_pattern:str)\n",
       "\n",
       "|    | **Type** | **Details** |\n",
       "| -- | -------- | ----------- |\n",
       "| text | str | The input text for the regex operation |\n",
       "| regex_pattern | str | The pattern of the regex operation |\n",
       "| **Returns** | **typing.Iterable[typing.Iterable[typing.Union[str, spanner_workbench.primitive_types.Span]]]** | **tuples of spans that represents the results** |"
      ]
     },
     "metadata": {},
     "output_type": "display_data"
    },
    {
     "data": {
      "text/markdown": [
       "---\n",
       "\n",
       "[source](https://github.com/DeanLight/spanner_workbench/blob/master/spanner_workbench/ie_func/rust_spanner_regex.py#LNone){target=\"_blank\" style=\"float:right; font-size:smaller\"}\n",
       "\n",
       "### rgx_string\n",
       "\n",
       ">      rgx_string (text:str, regex_pattern:str)\n",
       "\n",
       "|    | **Type** | **Details** |\n",
       "| -- | -------- | ----------- |\n",
       "| text | str | The input text for the regex operation |\n",
       "| regex_pattern | str | he pattern of the regex operation |\n",
       "| **Returns** | **typing.Iterable[typing.Iterable[typing.Union[str, spanner_workbench.primitive_types.Span]]]** | **tuples of strings that represents the results** |"
      ],
      "text/plain": [
       "---\n",
       "\n",
       "[source](https://github.com/DeanLight/spanner_workbench/blob/master/spanner_workbench/ie_func/rust_spanner_regex.py#LNone){target=\"_blank\" style=\"float:right; font-size:smaller\"}\n",
       "\n",
       "### rgx_string\n",
       "\n",
       ">      rgx_string (text:str, regex_pattern:str)\n",
       "\n",
       "|    | **Type** | **Details** |\n",
       "| -- | -------- | ----------- |\n",
       "| text | str | The input text for the regex operation |\n",
       "| regex_pattern | str | he pattern of the regex operation |\n",
       "| **Returns** | **typing.Iterable[typing.Iterable[typing.Union[str, spanner_workbench.primitive_types.Span]]]** | **tuples of strings that represents the results** |"
      ]
     },
     "metadata": {},
     "output_type": "display_data"
    },
    {
     "data": {
      "text/markdown": [
       "---\n",
       "\n",
       "[source](https://github.com/DeanLight/spanner_workbench/blob/master/spanner_workbench/ie_func/rust_spanner_regex.py#LNone){target=\"_blank\" style=\"float:right; font-size:smaller\"}\n",
       "\n",
       "### rgx_span_from_file\n",
       "\n",
       ">      rgx_span_from_file (text_file:str, regex_pattern:str)\n",
       "\n",
       "|    | **Type** | **Details** |\n",
       "| -- | -------- | ----------- |\n",
       "| text_file | str | The input file for the regex operation |\n",
       "| regex_pattern | str | The pattern of the regex operation |\n",
       "| **Returns** | **typing.Iterable[typing.Iterable[typing.Union[str, spanner_workbench.primitive_types.Span]]]** | **tuples of spans that represents the results** |"
      ],
      "text/plain": [
       "---\n",
       "\n",
       "[source](https://github.com/DeanLight/spanner_workbench/blob/master/spanner_workbench/ie_func/rust_spanner_regex.py#LNone){target=\"_blank\" style=\"float:right; font-size:smaller\"}\n",
       "\n",
       "### rgx_span_from_file\n",
       "\n",
       ">      rgx_span_from_file (text_file:str, regex_pattern:str)\n",
       "\n",
       "|    | **Type** | **Details** |\n",
       "| -- | -------- | ----------- |\n",
       "| text_file | str | The input file for the regex operation |\n",
       "| regex_pattern | str | The pattern of the regex operation |\n",
       "| **Returns** | **typing.Iterable[typing.Iterable[typing.Union[str, spanner_workbench.primitive_types.Span]]]** | **tuples of spans that represents the results** |"
      ]
     },
     "metadata": {},
     "output_type": "display_data"
    },
    {
     "data": {
      "text/markdown": [
       "---\n",
       "\n",
       "[source](https://github.com/DeanLight/spanner_workbench/blob/master/spanner_workbench/ie_func/rust_spanner_regex.py#LNone){target=\"_blank\" style=\"float:right; font-size:smaller\"}\n",
       "\n",
       "### rgx_string_from_file\n",
       "\n",
       ">      rgx_string_from_file (text_file:str, regex_pattern:str)\n",
       "\n",
       "|    | **Type** | **Details** |\n",
       "| -- | -------- | ----------- |\n",
       "| text_file | str | The input file for the regex operation |\n",
       "| regex_pattern | str | The pattern of the regex operation |\n",
       "| **Returns** | **typing.Iterable[typing.Iterable[typing.Union[str, spanner_workbench.primitive_types.Span]]]** | **tuples of strings that represents the results** |"
      ],
      "text/plain": [
       "---\n",
       "\n",
       "[source](https://github.com/DeanLight/spanner_workbench/blob/master/spanner_workbench/ie_func/rust_spanner_regex.py#LNone){target=\"_blank\" style=\"float:right; font-size:smaller\"}\n",
       "\n",
       "### rgx_string_from_file\n",
       "\n",
       ">      rgx_string_from_file (text_file:str, regex_pattern:str)\n",
       "\n",
       "|    | **Type** | **Details** |\n",
       "| -- | -------- | ----------- |\n",
       "| text_file | str | The input file for the regex operation |\n",
       "| regex_pattern | str | The pattern of the regex operation |\n",
       "| **Returns** | **typing.Iterable[typing.Iterable[typing.Union[str, spanner_workbench.primitive_types.Span]]]** | **tuples of strings that represents the results** |"
      ]
     },
     "metadata": {},
     "output_type": "display_data"
    },
    {
     "data": {
      "text/markdown": [
       "---\n",
       "\n",
       "[source](https://github.com/DeanLight/spanner_workbench/blob/master/spanner_workbench/ie_func/json_path.py#LNone){target=\"_blank\" style=\"float:right; font-size:smaller\"}\n",
       "\n",
       "### json_path\n",
       "\n",
       ">      json_path (json_document:str, path_expression:str)\n",
       "\n",
       "@param json_document: The document on which we will run the path expression.\n",
       "@param path_expression: The query to execute.\n",
       "@return: json documents."
      ],
      "text/plain": [
       "---\n",
       "\n",
       "[source](https://github.com/DeanLight/spanner_workbench/blob/master/spanner_workbench/ie_func/json_path.py#LNone){target=\"_blank\" style=\"float:right; font-size:smaller\"}\n",
       "\n",
       "### json_path\n",
       "\n",
       ">      json_path (json_document:str, path_expression:str)\n",
       "\n",
       "@param json_document: The document on which we will run the path expression.\n",
       "@param path_expression: The query to execute.\n",
       "@return: json documents."
      ]
     },
     "metadata": {},
     "output_type": "display_data"
    },
    {
     "data": {
      "text/markdown": [
       "---\n",
       "\n",
       "[source](https://github.com/DeanLight/spanner_workbench/blob/master/spanner_workbench/ie_func/json_path.py#LNone){target=\"_blank\" style=\"float:right; font-size:smaller\"}\n",
       "\n",
       "### json_path_full\n",
       "\n",
       ">      json_path_full (json_document:str, path_expression:str)\n",
       "\n",
       "@param json_document: The document on which we will run the path expression.\n",
       "@param path_expression: The query to execute.\n",
       "@return: json documents with the full results paths."
      ],
      "text/plain": [
       "---\n",
       "\n",
       "[source](https://github.com/DeanLight/spanner_workbench/blob/master/spanner_workbench/ie_func/json_path.py#LNone){target=\"_blank\" style=\"float:right; font-size:smaller\"}\n",
       "\n",
       "### json_path_full\n",
       "\n",
       ">      json_path_full (json_document:str, path_expression:str)\n",
       "\n",
       "@param json_document: The document on which we will run the path expression.\n",
       "@param path_expression: The query to execute.\n",
       "@return: json documents with the full results paths."
      ]
     },
     "metadata": {},
     "output_type": "display_data"
    },
    {
     "data": {
      "text/markdown": [
       "---\n",
       "\n",
       "[source](https://github.com/DeanLight/spanner_workbench/blob/master/spanner_workbench/ie_func/nlp.py#LNone){target=\"_blank\" style=\"float:right; font-size:smaller\"}\n",
       "\n",
       "### tokenize_wrapper\n",
       "\n",
       ">      tokenize_wrapper (sentence:str)"
      ],
      "text/plain": [
       "---\n",
       "\n",
       "[source](https://github.com/DeanLight/spanner_workbench/blob/master/spanner_workbench/ie_func/nlp.py#LNone){target=\"_blank\" style=\"float:right; font-size:smaller\"}\n",
       "\n",
       "### tokenize_wrapper\n",
       "\n",
       ">      tokenize_wrapper (sentence:str)"
      ]
     },
     "metadata": {},
     "output_type": "display_data"
    },
    {
     "data": {
      "text/markdown": [
       "---\n",
       "\n",
       "[source](https://github.com/DeanLight/spanner_workbench/blob/master/spanner_workbench/ie_func/nlp.py#LNone){target=\"_blank\" style=\"float:right; font-size:smaller\"}\n",
       "\n",
       "### ssplit_wrapper\n",
       "\n",
       ">      ssplit_wrapper (sentence:str)"
      ],
      "text/plain": [
       "---\n",
       "\n",
       "[source](https://github.com/DeanLight/spanner_workbench/blob/master/spanner_workbench/ie_func/nlp.py#LNone){target=\"_blank\" style=\"float:right; font-size:smaller\"}\n",
       "\n",
       "### ssplit_wrapper\n",
       "\n",
       ">      ssplit_wrapper (sentence:str)"
      ]
     },
     "metadata": {},
     "output_type": "display_data"
    },
    {
     "data": {
      "text/markdown": [
       "---\n",
       "\n",
       "[source](https://github.com/DeanLight/spanner_workbench/blob/master/spanner_workbench/ie_func/nlp.py#LNone){target=\"_blank\" style=\"float:right; font-size:smaller\"}\n",
       "\n",
       "### pos_wrapper\n",
       "\n",
       ">      pos_wrapper (sentence:str)"
      ],
      "text/plain": [
       "---\n",
       "\n",
       "[source](https://github.com/DeanLight/spanner_workbench/blob/master/spanner_workbench/ie_func/nlp.py#LNone){target=\"_blank\" style=\"float:right; font-size:smaller\"}\n",
       "\n",
       "### pos_wrapper\n",
       "\n",
       ">      pos_wrapper (sentence:str)"
      ]
     },
     "metadata": {},
     "output_type": "display_data"
    },
    {
     "data": {
      "text/markdown": [
       "---\n",
       "\n",
       "[source](https://github.com/DeanLight/spanner_workbench/blob/master/spanner_workbench/ie_func/nlp.py#LNone){target=\"_blank\" style=\"float:right; font-size:smaller\"}\n",
       "\n",
       "### lemma_wrapper\n",
       "\n",
       ">      lemma_wrapper (sentence:str)"
      ],
      "text/plain": [
       "---\n",
       "\n",
       "[source](https://github.com/DeanLight/spanner_workbench/blob/master/spanner_workbench/ie_func/nlp.py#LNone){target=\"_blank\" style=\"float:right; font-size:smaller\"}\n",
       "\n",
       "### lemma_wrapper\n",
       "\n",
       ">      lemma_wrapper (sentence:str)"
      ]
     },
     "metadata": {},
     "output_type": "display_data"
    },
    {
     "data": {
      "text/markdown": [
       "---\n",
       "\n",
       "[source](https://github.com/DeanLight/spanner_workbench/blob/master/spanner_workbench/ie_func/nlp.py#LNone){target=\"_blank\" style=\"float:right; font-size:smaller\"}\n",
       "\n",
       "### ner_wrapper\n",
       "\n",
       ">      ner_wrapper (sentence:str)"
      ],
      "text/plain": [
       "---\n",
       "\n",
       "[source](https://github.com/DeanLight/spanner_workbench/blob/master/spanner_workbench/ie_func/nlp.py#LNone){target=\"_blank\" style=\"float:right; font-size:smaller\"}\n",
       "\n",
       "### ner_wrapper\n",
       "\n",
       ">      ner_wrapper (sentence:str)"
      ]
     },
     "metadata": {},
     "output_type": "display_data"
    },
    {
     "data": {
      "text/markdown": [
       "---\n",
       "\n",
       "[source](https://github.com/DeanLight/spanner_workbench/blob/master/spanner_workbench/ie_func/nlp.py#LNone){target=\"_blank\" style=\"float:right; font-size:smaller\"}\n",
       "\n",
       "### entitymentions_wrapper\n",
       "\n",
       ">      entitymentions_wrapper (sentence:str)"
      ],
      "text/plain": [
       "---\n",
       "\n",
       "[source](https://github.com/DeanLight/spanner_workbench/blob/master/spanner_workbench/ie_func/nlp.py#LNone){target=\"_blank\" style=\"float:right; font-size:smaller\"}\n",
       "\n",
       "### entitymentions_wrapper\n",
       "\n",
       ">      entitymentions_wrapper (sentence:str)"
      ]
     },
     "metadata": {},
     "output_type": "display_data"
    },
    {
     "data": {
      "text/markdown": [
       "---\n",
       "\n",
       "[source](https://github.com/DeanLight/spanner_workbench/blob/master/spanner_workbench/ie_func/nlp.py#LNone){target=\"_blank\" style=\"float:right; font-size:smaller\"}\n",
       "\n",
       "### cleanxml_wrapper\n",
       "\n",
       ">      cleanxml_wrapper (sentence:str)"
      ],
      "text/plain": [
       "---\n",
       "\n",
       "[source](https://github.com/DeanLight/spanner_workbench/blob/master/spanner_workbench/ie_func/nlp.py#LNone){target=\"_blank\" style=\"float:right; font-size:smaller\"}\n",
       "\n",
       "### cleanxml_wrapper\n",
       "\n",
       ">      cleanxml_wrapper (sentence:str)"
      ]
     },
     "metadata": {},
     "output_type": "display_data"
    },
    {
     "data": {
      "text/markdown": [
       "---\n",
       "\n",
       "[source](https://github.com/DeanLight/spanner_workbench/blob/master/spanner_workbench/ie_func/nlp.py#LNone){target=\"_blank\" style=\"float:right; font-size:smaller\"}\n",
       "\n",
       "### parse_wrapper\n",
       "\n",
       ">      parse_wrapper (sentence:str)"
      ],
      "text/plain": [
       "---\n",
       "\n",
       "[source](https://github.com/DeanLight/spanner_workbench/blob/master/spanner_workbench/ie_func/nlp.py#LNone){target=\"_blank\" style=\"float:right; font-size:smaller\"}\n",
       "\n",
       "### parse_wrapper\n",
       "\n",
       ">      parse_wrapper (sentence:str)"
      ]
     },
     "metadata": {},
     "output_type": "display_data"
    },
    {
     "data": {
      "text/markdown": [
       "---\n",
       "\n",
       "[source](https://github.com/DeanLight/spanner_workbench/blob/master/spanner_workbench/ie_func/nlp.py#LNone){target=\"_blank\" style=\"float:right; font-size:smaller\"}\n",
       "\n",
       "### dependency_parse_wrapper\n",
       "\n",
       ">      dependency_parse_wrapper (sentence:str)"
      ],
      "text/plain": [
       "---\n",
       "\n",
       "[source](https://github.com/DeanLight/spanner_workbench/blob/master/spanner_workbench/ie_func/nlp.py#LNone){target=\"_blank\" style=\"float:right; font-size:smaller\"}\n",
       "\n",
       "### dependency_parse_wrapper\n",
       "\n",
       ">      dependency_parse_wrapper (sentence:str)"
      ]
     },
     "metadata": {},
     "output_type": "display_data"
    },
    {
     "data": {
      "text/markdown": [
       "---\n",
       "\n",
       "[source](https://github.com/DeanLight/spanner_workbench/blob/master/spanner_workbench/ie_func/nlp.py#LNone){target=\"_blank\" style=\"float:right; font-size:smaller\"}\n",
       "\n",
       "### coref_wrapper\n",
       "\n",
       ">      coref_wrapper (sentence:str)"
      ],
      "text/plain": [
       "---\n",
       "\n",
       "[source](https://github.com/DeanLight/spanner_workbench/blob/master/spanner_workbench/ie_func/nlp.py#LNone){target=\"_blank\" style=\"float:right; font-size:smaller\"}\n",
       "\n",
       "### coref_wrapper\n",
       "\n",
       ">      coref_wrapper (sentence:str)"
      ]
     },
     "metadata": {},
     "output_type": "display_data"
    },
    {
     "data": {
      "text/markdown": [
       "---\n",
       "\n",
       "[source](https://github.com/DeanLight/spanner_workbench/blob/master/spanner_workbench/ie_func/nlp.py#LNone){target=\"_blank\" style=\"float:right; font-size:smaller\"}\n",
       "\n",
       "### openie_wrapper\n",
       "\n",
       ">      openie_wrapper (sentence:str)"
      ],
      "text/plain": [
       "---\n",
       "\n",
       "[source](https://github.com/DeanLight/spanner_workbench/blob/master/spanner_workbench/ie_func/nlp.py#LNone){target=\"_blank\" style=\"float:right; font-size:smaller\"}\n",
       "\n",
       "### openie_wrapper\n",
       "\n",
       ">      openie_wrapper (sentence:str)"
      ]
     },
     "metadata": {},
     "output_type": "display_data"
    },
    {
     "data": {
      "text/markdown": [
       "---\n",
       "\n",
       "[source](https://github.com/DeanLight/spanner_workbench/blob/master/spanner_workbench/ie_func/nlp.py#LNone){target=\"_blank\" style=\"float:right; font-size:smaller\"}\n",
       "\n",
       "### kbp_wrapper\n",
       "\n",
       ">      kbp_wrapper (sentence:str)"
      ],
      "text/plain": [
       "---\n",
       "\n",
       "[source](https://github.com/DeanLight/spanner_workbench/blob/master/spanner_workbench/ie_func/nlp.py#LNone){target=\"_blank\" style=\"float:right; font-size:smaller\"}\n",
       "\n",
       "### kbp_wrapper\n",
       "\n",
       ">      kbp_wrapper (sentence:str)"
      ]
     },
     "metadata": {},
     "output_type": "display_data"
    },
    {
     "data": {
      "text/markdown": [
       "---\n",
       "\n",
       "[source](https://github.com/DeanLight/spanner_workbench/blob/master/spanner_workbench/ie_func/nlp.py#LNone){target=\"_blank\" style=\"float:right; font-size:smaller\"}\n",
       "\n",
       "### quote_wrapper\n",
       "\n",
       ">      quote_wrapper (sentence:str)"
      ],
      "text/plain": [
       "---\n",
       "\n",
       "[source](https://github.com/DeanLight/spanner_workbench/blob/master/spanner_workbench/ie_func/nlp.py#LNone){target=\"_blank\" style=\"float:right; font-size:smaller\"}\n",
       "\n",
       "### quote_wrapper\n",
       "\n",
       ">      quote_wrapper (sentence:str)"
      ]
     },
     "metadata": {},
     "output_type": "display_data"
    },
    {
     "data": {
      "text/markdown": [
       "---\n",
       "\n",
       "[source](https://github.com/DeanLight/spanner_workbench/blob/master/spanner_workbench/ie_func/nlp.py#LNone){target=\"_blank\" style=\"float:right; font-size:smaller\"}\n",
       "\n",
       "### sentiment_wrapper\n",
       "\n",
       ">      sentiment_wrapper (sentence:str)"
      ],
      "text/plain": [
       "---\n",
       "\n",
       "[source](https://github.com/DeanLight/spanner_workbench/blob/master/spanner_workbench/ie_func/nlp.py#LNone){target=\"_blank\" style=\"float:right; font-size:smaller\"}\n",
       "\n",
       "### sentiment_wrapper\n",
       "\n",
       ">      sentiment_wrapper (sentence:str)"
      ]
     },
     "metadata": {},
     "output_type": "display_data"
    },
    {
     "data": {
      "text/markdown": [
       "---\n",
       "\n",
       "[source](https://github.com/DeanLight/spanner_workbench/blob/master/spanner_workbench/ie_func/nlp.py#LNone){target=\"_blank\" style=\"float:right; font-size:smaller\"}\n",
       "\n",
       "### truecase_wrapper\n",
       "\n",
       ">      truecase_wrapper (sentence:str)"
      ],
      "text/plain": [
       "---\n",
       "\n",
       "[source](https://github.com/DeanLight/spanner_workbench/blob/master/spanner_workbench/ie_func/nlp.py#LNone){target=\"_blank\" style=\"float:right; font-size:smaller\"}\n",
       "\n",
       "### truecase_wrapper\n",
       "\n",
       ">      truecase_wrapper (sentence:str)"
      ]
     },
     "metadata": {},
     "output_type": "display_data"
    }
   ],
   "source": [
    "#| echo: false\n",
    "import spanner_workbench\n",
    "from nbdev.showdoc import show_doc\n",
    "from IPython.display import display\n",
    "\n",
    "for ie in spanner_workbench.Session()._symbol_table.get_all_registered_ie_funcs().values():\n",
    "    display(show_doc(ie.ie_function_def))"
   ]
  }
 ],
 "metadata": {
  "jupytext": {
   "formats": "ipynb,md"
  },
  "kernelspec": {
   "display_name": "python3",
   "language": "python",
   "name": "python3"
  }
 },
 "nbformat": 4,
 "nbformat_minor": 4
}
