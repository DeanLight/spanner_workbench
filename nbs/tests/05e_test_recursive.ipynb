{
 "cells": [
  {
   "cell_type": "code",
   "execution_count": null,
   "metadata": {},
   "outputs": [],
   "source": [
    "from spanner_workbench.general_utils import QUERY_RESULT_PREFIX\n",
    "from spanner_workbench.tests.utils import run_test"
   ]
  },
  {
   "cell_type": "code",
   "execution_count": null,
   "metadata": {},
   "outputs": [
    {
     "name": "stdout",
     "output_type": "stream",
     "text": [
      "printing results for query 'ancestor(\"Liam\", X)':\n",
      "    X\n",
      "----------\n",
      " Benjamin\n",
      "  Mason\n",
      "   Noah\n",
      "  Oliver\n",
      "\n",
      "printing results for query 'ancestor(X, \"Mason\")':\n",
      "    X\n",
      "----------\n",
      " Benjamin\n",
      "   Liam\n",
      "   Noah\n",
      "\n",
      "printing results for query 'ancestor(\"Mason\", X)':\n",
      "[]\n",
      "\n"
     ]
    }
   ],
   "source": [
    "def test_recursive() -> None:\n",
    "    commands = '''\n",
    "            new parent(str, str)\n",
    "            parent(\"Liam\", \"Noah\")\n",
    "            parent(\"Noah\", \"Oliver\")\n",
    "            parent(\"James\", \"Lucas\")\n",
    "            parent(\"Noah\", \"Benjamin\")\n",
    "            parent(\"Benjamin\", \"Mason\")\n",
    "            ancestor(X,Y) <- parent(X,Y)\n",
    "            ancestor(X,Y) <- parent(X,Z), ancestor(Z,Y)\n",
    "\n",
    "            ?ancestor(\"Liam\", X)\n",
    "            ?ancestor(X, \"Mason\")\n",
    "            ?ancestor(\"Mason\", X)\n",
    "            '''\n",
    "\n",
    "    expected_result = f\"\"\"{QUERY_RESULT_PREFIX}'ancestor(\"Liam\", X)':\n",
    "            X\n",
    "        ----------\n",
    "          Mason\n",
    "          Oliver\n",
    "         Benjamin\n",
    "           Noah\n",
    "\n",
    "        {QUERY_RESULT_PREFIX}'ancestor(X, \"Mason\")':\n",
    "            X\n",
    "        ----------\n",
    "           Noah\n",
    "           Liam\n",
    "         Benjamin\n",
    "\n",
    "        {QUERY_RESULT_PREFIX}'ancestor(\"Mason\", X)':\n",
    "        []\n",
    "        \"\"\"\n",
    "\n",
    "    run_test(commands, expected_result)\n",
    "\n",
    "test_recursive()"
   ]
  },
  {
   "cell_type": "code",
   "execution_count": null,
   "metadata": {},
   "outputs": [
    {
     "name": "stdout",
     "output_type": "stream",
     "text": [
      "printing results for query 'A(X)':\n",
      "   X\n",
      "-----\n",
      "   1\n",
      "   2\n",
      "   3\n",
      "\n"
     ]
    }
   ],
   "source": [
    "def test_mutually_recursive_basic() -> None:\n",
    "    commands = \"\"\"\n",
    "            new C(int)\n",
    "            C(1)\n",
    "            C(2)\n",
    "            C(3)\n",
    "\n",
    "            B(X) <- C(X)\n",
    "            A(X) <- B(X)\n",
    "            B(X) <- A(X)\n",
    "\n",
    "            ?A(X)\n",
    "            \"\"\"\n",
    "\n",
    "    expected_result = f\"\"\"{QUERY_RESULT_PREFIX}'A(X)':\n",
    "        X\n",
    "        -----\n",
    "        1\n",
    "        2\n",
    "        3\n",
    "    \"\"\"\n",
    "\n",
    "    run_test(commands, expected_result)\n",
    "\n",
    "test_mutually_recursive_basic()"
   ]
  }
 ],
 "metadata": {
  "kernelspec": {
   "display_name": "python3",
   "language": "python",
   "name": "python3"
  }
 },
 "nbformat": 4,
 "nbformat_minor": 2
}
