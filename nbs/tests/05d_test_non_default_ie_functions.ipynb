{
 "cells": [
  {
   "cell_type": "code",
   "execution_count": null,
   "metadata": {},
   "outputs": [],
   "source": [
    "from typing import Tuple, Iterable\n",
    "\n",
    "from rgxlog.primitive_types import DataTypes, Span\n",
    "from rgxlog.general_utils import QUERY_RESULT_PREFIX\n",
    "from rgxlog.tests.utils import run_test\n"
   ]
  },
  {
   "cell_type": "code",
   "execution_count": null,
   "metadata": {},
   "outputs": [
    {
     "name": "stdout",
     "output_type": "stream",
     "text": [
      "printing results for query 'test_range_int_no_tuple(X)':\n",
      "   X\n",
      "-----\n",
      "   0\n",
      "   1\n",
      "   2\n",
      "   3\n",
      "   4\n",
      "\n"
     ]
    }
   ],
   "source": [
    "def test_range_int_no_tuple() -> None:\n",
    "    def yield_range_int_no_tuple(num: int) -> Iterable[int]:\n",
    "        for i in range(num):\n",
    "            yield i\n",
    "\n",
    "    yield_range_int_no_tuple_in_types = [DataTypes.integer]\n",
    "    yield_range_int_no_tuple_out_types = [DataTypes.integer]\n",
    "    yield_range_dict = {\"ie_function\": yield_range_int_no_tuple,\n",
    "                        \"ie_function_name\": \"yield_range_int_no_tuple\",\n",
    "                        \"in_rel\": yield_range_int_no_tuple_in_types,\n",
    "                        \"out_rel\": yield_range_int_no_tuple_out_types}\n",
    "\n",
    "    commands = \"\"\"\n",
    "        test_range_int_no_tuple(X) <- yield_range_int_no_tuple(5) -> (X)\n",
    "        ?test_range_int_no_tuple(X)\n",
    "        \"\"\"\n",
    "\n",
    "    expected_result = f\"\"\"{QUERY_RESULT_PREFIX}'test_range_int_no_tuple(X)':\n",
    "                            X\n",
    "                            -----\n",
    "                            4\n",
    "                            3\n",
    "                            2\n",
    "                            1\n",
    "                            0\"\"\"\n",
    "\n",
    "    run_test(commands, expected_result, functions_to_import=[yield_range_dict])\n",
    "\n",
    "test_range_int_no_tuple()"
   ]
  },
  {
   "cell_type": "code",
   "execution_count": null,
   "metadata": {},
   "outputs": [
    {
     "name": "stdout",
     "output_type": "stream",
     "text": [
      "printing results for query 'test_range_span_no_tuple(X)':\n",
      "   X\n",
      "--------\n",
      " [0, 0)\n",
      " [1, 1)\n",
      " [2, 2)\n",
      " [3, 3)\n",
      " [4, 4)\n",
      "\n"
     ]
    }
   ],
   "source": [
    "def test_range_span_no_tuple() -> None:\n",
    "    def yield_range_span_no_tuple(num: int) -> Iterable[Span]:\n",
    "        for i in range(num):\n",
    "            yield Span(i, i)\n",
    "\n",
    "    yield_range_span_no_tuple_in_types = [DataTypes.integer]\n",
    "    yield_range_span_no_tuple_out_types = [DataTypes.span]\n",
    "    yield_range_span_dict = {\"ie_function\": yield_range_span_no_tuple,\n",
    "                             \"ie_function_name\": \"yield_range_span_no_tuple\",\n",
    "                             \"in_rel\": yield_range_span_no_tuple_in_types,\n",
    "                             \"out_rel\": yield_range_span_no_tuple_out_types}\n",
    "\n",
    "    commands = \"\"\"\n",
    "        test_range_span_no_tuple(X) <- yield_range_span_no_tuple(5) -> (X)\n",
    "        ?test_range_span_no_tuple(X)\n",
    "        \"\"\"\n",
    "\n",
    "    expected_result = f\"\"\"{QUERY_RESULT_PREFIX}'test_range_span_no_tuple(X)':\n",
    "                           X\n",
    "                        --------\n",
    "                         [4, 4)\n",
    "                         [3, 3)\n",
    "                         [2, 2)\n",
    "                         [1, 1)\n",
    "                         [0, 0)\"\"\"\n",
    "\n",
    "    run_test(commands, expected_result, functions_to_import=[yield_range_span_dict])\n",
    "\n",
    "test_range_span_no_tuple()"
   ]
  },
  {
   "cell_type": "code",
   "execution_count": null,
   "metadata": {},
   "outputs": [
    {
     "name": "stdout",
     "output_type": "stream",
     "text": [
      "printing results for query 'test_range_str_no_tuple(X)':\n",
      "    X\n",
      "---------\n",
      " string0\n",
      " string1\n",
      " string2\n",
      " string3\n",
      " string4\n",
      "\n"
     ]
    }
   ],
   "source": [
    "def test_range_str_no_tuple() -> None:\n",
    "    def yield_range_str_no_tuple(num: int) -> Iterable[str]:\n",
    "        for i in range(num):\n",
    "            yield \"string\" + str(i)\n",
    "\n",
    "    yield_range_str_no_tuple_in_types = [DataTypes.integer]\n",
    "    yield_range_str_no_tuple_out_types = [DataTypes.string]\n",
    "    yield_range_str_dict = {\"ie_function\": yield_range_str_no_tuple,\n",
    "                            \"ie_function_name\": \"yield_range_str_no_tuple\",\n",
    "                            \"in_rel\": yield_range_str_no_tuple_in_types,\n",
    "                            \"out_rel\": yield_range_str_no_tuple_out_types}\n",
    "\n",
    "    commands = \"\"\"\n",
    "        test_range_str_no_tuple(X) <- yield_range_str_no_tuple(5) -> (X)\n",
    "        ?test_range_str_no_tuple(X)\n",
    "        \"\"\"\n",
    "\n",
    "    expected_result = f\"\"\"{QUERY_RESULT_PREFIX}'test_range_str_no_tuple(X)':\n",
    "                            X\n",
    "                        ---------\n",
    "                         string4\n",
    "                         string3\n",
    "                         string2\n",
    "                         string1\n",
    "                         string0\"\"\"\n",
    "\n",
    "    run_test(commands, expected_result, functions_to_import=[yield_range_str_dict])\n",
    "\n",
    "test_range_str_no_tuple()"
   ]
  },
  {
   "cell_type": "code",
   "execution_count": null,
   "metadata": {},
   "outputs": [
    {
     "name": "stdout",
     "output_type": "stream",
     "text": [
      "printing results for query 'test_range_int_with_tuple(X)':\n",
      "   X\n",
      "-----\n",
      "   0\n",
      "   1\n",
      "   2\n",
      "   3\n",
      "   4\n",
      "\n"
     ]
    }
   ],
   "source": [
    "def test_range_int_with_tuple() -> None:\n",
    "    \"\"\"\n",
    "    in this test, a tuple of an integer is treated as an integer\n",
    "    @return:\n",
    "    \"\"\"\n",
    "\n",
    "    def yield_range_int_with_tuple(num: int) -> Iterable[Tuple]:\n",
    "        for i in range(num):\n",
    "            yield i,\n",
    "\n",
    "    yield_range_int_with_tuple_in_types = [DataTypes.integer]\n",
    "    yield_range_int_with_tuple_out_types = [DataTypes.integer]\n",
    "    yield_range_dict = {\"ie_function\": yield_range_int_with_tuple,\n",
    "                        \"ie_function_name\": \"yield_range_int_with_tuple\",\n",
    "                        \"in_rel\": yield_range_int_with_tuple_in_types,\n",
    "                        \"out_rel\": yield_range_int_with_tuple_out_types}\n",
    "\n",
    "    commands = \"\"\"\n",
    "        test_range_int_with_tuple(X) <- yield_range_int_with_tuple(5) -> (X)\n",
    "        ?test_range_int_with_tuple(X)\n",
    "        \"\"\"\n",
    "\n",
    "    expected_result = f\"\"\"{QUERY_RESULT_PREFIX}'test_range_int_with_tuple(X)':\n",
    "                            X\n",
    "                            -----\n",
    "                            4\n",
    "                            3\n",
    "                            2\n",
    "                            1\n",
    "                            0\"\"\"\n",
    "\n",
    "    run_test(commands, expected_result, functions_to_import=[yield_range_dict])\n",
    "\n",
    "test_range_int_with_tuple()"
   ]
  }
 ],
 "metadata": {
  "kernelspec": {
   "display_name": "python3",
   "language": "python",
   "name": "python3"
  }
 },
 "nbformat": 4,
 "nbformat_minor": 2
}
