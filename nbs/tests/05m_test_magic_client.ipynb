{
 "cells": [
  {
   "cell_type": "code",
   "execution_count": null,
   "metadata": {},
   "outputs": [],
   "source": [
    "from spanner_workbench.rgxlog.general_utils import QUERY_RESULT_PREFIX\n",
    "from spanner_workbench.rgxlog.tests.utils import run_test"
   ]
  },
  {
   "cell_type": "code",
   "execution_count": null,
   "metadata": {},
   "outputs": [
    {
     "name": "stdout",
     "output_type": "stream",
     "text": [
      "printing results for query 'uncle(X, Y)':\n",
      "  X  |  Y\n",
      "-----+------\n",
      " bob | greg\n",
      "\n"
     ]
    }
   ],
   "source": [
    "def test_magic_session_basic() -> None:\n",
    "    commands = \"\"\"\n",
    "        new uncle(str, str)\n",
    "        uncle(\"bob\", \"greg\")\n",
    "        ?uncle(X,Y)\n",
    "        \"\"\"\n",
    "\n",
    "    expected_result_intro = f\"\"\"{QUERY_RESULT_PREFIX}'uncle(X, Y)':\n",
    "              X  |  Y\n",
    "            -----+------\n",
    "             bob | greg\n",
    "            \"\"\"\n",
    "\n",
    "    run_test(commands, expected_result_intro)\n",
    "\n",
    "test_magic_session_basic()"
   ]
  }
 ],
 "metadata": {
  "kernelspec": {
   "display_name": "python3",
   "language": "python",
   "name": "python3"
  }
 },
 "nbformat": 4,
 "nbformat_minor": 2
}
