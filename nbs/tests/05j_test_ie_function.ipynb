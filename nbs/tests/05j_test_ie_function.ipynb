{
 "cells": [
  {
   "cell_type": "code",
   "execution_count": null,
   "metadata": {},
   "outputs": [],
   "source": [
    "from spanner_workbench.rgxlog.primitive_types import Span, DataTypes, DataTypeMapping\n",
    "from spanner_workbench.rgxlog.ie_function import IEFunction\n",
    "from typing import Callable, List, Union, Sequence"
   ]
  },
  {
   "cell_type": "code",
   "execution_count": null,
   "metadata": {},
   "outputs": [],
   "source": [
    "def sample_ie_func1(x: int, y: str):\n",
    "    yield (x, y, x + 1)\n",
    "\n",
    "def sample_ie_func2(x: int):\n",
    "    yield x * 2\n",
    "\n",
    "def dynamic_output_arity_func(n: int) -> Sequence[DataTypes]:\n",
    "    return [DataTypes.integer] * n\n",
    "\n",
    "def test_ie_function_execution():\n",
    "    ie_func = IEFunction(sample_ie_func1, [DataTypes.integer, DataTypes.string], [DataTypes.integer, DataTypes.string, DataTypes.integer])\n",
    "    result = list(ie_func.ie_function(1, \"test\"))\n",
    "    assert result == [(1, \"test\", 2)]\n",
    "test_ie_function_execution()\n",
    "#---------------------------------------------------------------#\n",
    "def test_get_input_types():\n",
    "    ie_func = IEFunction(sample_ie_func1, [DataTypes.integer, DataTypes.string], [DataTypes.integer])\n",
    "    assert ie_func.get_input_types() == [DataTypes.integer, DataTypes.string]\n",
    "test_get_input_types()\n",
    "#---------------------------------------------------------------#\n",
    "def test_get_output_types_static():\n",
    "    ie_func = IEFunction(sample_ie_func1, [DataTypes.integer, DataTypes.string], [DataTypes.integer, DataTypes.string, DataTypes.integer])\n",
    "    assert ie_func.get_output_types(5) == [DataTypes.integer, DataTypes.string ,DataTypes.integer, DataTypes.string, DataTypes.integer]\n",
    "test_get_output_types_static()\n",
    "#---------------------------------------------------------------#\n",
    "def test_get_output_types_dynamic():\n",
    "    ie_func = IEFunction(sample_ie_func2, [DataTypes.integer], dynamic_output_arity_func)\n",
    "    assert ie_func.get_output_types(4) == [DataTypes.integer,DataTypes.integer, DataTypes.integer, DataTypes.integer]\n",
    "test_get_output_types_dynamic()"
   ]
  }
 ],
 "metadata": {
  "kernelspec": {
   "display_name": "python3",
   "language": "python",
   "name": "python3"
  }
 },
 "nbformat": 4,
 "nbformat_minor": 2
}
