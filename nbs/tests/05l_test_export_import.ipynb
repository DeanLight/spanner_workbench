{
 "cells": [
  {
   "cell_type": "code",
   "execution_count": null,
   "metadata": {},
   "outputs": [],
   "source": [
    "import tempfile\n",
    "from pathlib import Path\n",
    "\n",
    "from pandas import DataFrame\n",
    " \n",
    "from spanner_workbench.primitive_types import Span\n",
    "from spanner_workbench.execution import FREE_VAR_PREFIX\n",
    "from spanner_workbench.session import Session\n",
    "from spanner_workbench.general_utils import QUERY_RESULT_PREFIX\n",
    "from spanner_workbench.tests.utils import (run_test, is_equal_stripped_sorted_tables, is_equal_dataframes_ignore_order, run_commands_into_csv_test, TEMP_FILE_NAME)\n"
   ]
  },
  {
   "cell_type": "code",
   "execution_count": null,
   "metadata": {},
   "outputs": [],
   "source": [
    "im_ex_session = Session()"
   ]
  },
  {
   "cell_type": "code",
   "execution_count": null,
   "metadata": {},
   "outputs": [
    {
     "name": "stdout",
     "output_type": "stream",
     "text": [
      "printing results for query 'csv_rel(X, Y, Z)':\n",
      "    X     |    Y     |   Z\n",
      "----------+----------+-----\n",
      "   aoi    |  [0, 3)  |   8\n",
      "   aoi    |  [1, 2)  |  16\n",
      " ano sora | [42, 69) |  24\n",
      "\n"
     ]
    }
   ],
   "source": [
    "def test_import_csv1() -> None:\n",
    "    # im_ex_session = Session()\n",
    "    example_relation = (\n",
    "        '\"aoi\";[0,3);8\\n'\n",
    "        '\"aoi\";[1,2);16\\n'\n",
    "        '\"ano sora\";[42,69);24\\n')\n",
    "\n",
    "    expected_result_string = f\"\"\"{QUERY_RESULT_PREFIX}'csv_rel(X, Y, Z)':\n",
    "                                        X     |    Y     |   Z\n",
    "                                    ----------+----------+-----\n",
    "                                     ano sora | [42, 69) |  24\n",
    "                                       aoi    |  [1, 2)  |  16\n",
    "                                       aoi    |  [0, 3)  |   8\n",
    "                                    \"\"\"\n",
    "\n",
    "    with tempfile.TemporaryDirectory() as temp_dir:\n",
    "        example_relation_csv = Path(temp_dir) / TEMP_FILE_NAME\n",
    "        with open(example_relation_csv, \"w\") as f:\n",
    "            f.write(example_relation)\n",
    "\n",
    "        im_ex_session.import_relation_from_csv(example_relation_csv, relation_name=\"csv_rel\")\n",
    "        query = \"?csv_rel(X,Y,Z)\"\n",
    "        run_test(query, expected_result_string, session=im_ex_session)\n",
    "\n",
    "test_import_csv1()"
   ]
  },
  {
   "cell_type": "code",
   "execution_count": null,
   "metadata": {},
   "outputs": [
    {
     "name": "stdout",
     "output_type": "stream",
     "text": [
      "printing results for query 'csv_rel2(X)':\n",
      "  X\n",
      "-----\n",
      "  a\n",
      "  b\n",
      "  c\n",
      "\n"
     ]
    }
   ],
   "source": [
    "def test_import_csv2() -> None:\n",
    "    example_relation_two = (\n",
    "        \"a\\n\"\n",
    "        \"b\\n\"\n",
    "        \"c\\n\")\n",
    "\n",
    "    with tempfile.TemporaryDirectory() as temp_dir:\n",
    "        example_relation2_csv = Path(temp_dir) / TEMP_FILE_NAME\n",
    "        with open(example_relation2_csv, \"w\") as f:\n",
    "            f.write(example_relation_two)\n",
    "\n",
    "        im_ex_session.import_relation_from_csv(example_relation2_csv, relation_name=\"csv_rel2\")\n",
    "\n",
    "        expected_result_string = f\"\"\"{QUERY_RESULT_PREFIX}'csv_rel2(X)':\n",
    "                                      X\n",
    "                                    -----\n",
    "                                      c\n",
    "                                      b\n",
    "                                      a\n",
    "                                    \"\"\"\n",
    "\n",
    "        query = \"?csv_rel2(X)\"\n",
    "        run_test(query, expected_result_string, session=im_ex_session)\n",
    "\n",
    "test_import_csv2()"
   ]
  },
  {
   "cell_type": "code",
   "execution_count": null,
   "metadata": {},
   "outputs": [
    {
     "name": "stdout",
     "output_type": "stream",
     "text": [
      "printing results for query 'df_rel(X, Y)':\n",
      "  X  |    Y\n",
      "-----+---------\n",
      "  a  | [1, 2)\n",
      "  b  | [6, 8)\n",
      "  c  | [2, 10)\n",
      "\n"
     ]
    }
   ],
   "source": [
    "def test_import_df() -> None:\n",
    "    df = DataFrame([[\"a\", \"[1,2)\"], [\"b\", Span(6, 8)], [\"c\", \"[2,10)\"]], columns=[\"str\", \"span\"])\n",
    "\n",
    "    query = \"?df_rel(X,Y)\"\n",
    "\n",
    "    expected_result_string = f\"\"\"{QUERY_RESULT_PREFIX}'df_rel(X, Y)':\n",
    "          X  |    Y\n",
    "        -----+---------\n",
    "          c  | [2, 10)\n",
    "          b  | [6, 8)\n",
    "          a  | [1, 2)\"\"\"\n",
    "\n",
    "    im_ex_session.import_relation_from_df(df, \"df_rel\")\n",
    "    run_test(query, expected_result_string, session=im_ex_session)\n",
    "\n",
    "test_import_df()"
   ]
  },
  {
   "cell_type": "code",
   "execution_count": null,
   "metadata": {},
   "outputs": [],
   "source": [
    "def test_commands_into_csv_basic() -> None:\n",
    "    commands = \"\"\"new basic_rel(str)\n",
    "            basic_rel(\"stardew\")\n",
    "            basic_rel(\"valley\")\"\"\"\n",
    "\n",
    "    expected_rel = (\n",
    "        \"X\\n\"\n",
    "        \"valley\\n\"\n",
    "        \"stardew\\n\")\n",
    "\n",
    "    query_for_csv = '?basic_rel(X)'\n",
    "\n",
    "    run_commands_into_csv_test(expected_rel, im_ex_session, commands, query_for_csv)\n",
    "\n",
    "test_commands_into_csv_basic()"
   ]
  },
  {
   "cell_type": "code",
   "execution_count": null,
   "metadata": {},
   "outputs": [],
   "source": [
    "def test_commands_into_csv_long() -> None:\n",
    "    commands = \"\"\"new longrel(str,span,int)\n",
    "            longrel(\"ano sora\",[42, 69),24)\n",
    "            longrel(\"aoi\",[1, 2),16)\n",
    "            longrel(\"aoi\",[0, 3),8)\"\"\"\n",
    "\n",
    "    expected_longrel = (\n",
    "        \"X;Y;Z\\n\"\n",
    "        \"aoi;[0, 3);8\\n\"\n",
    "        \"aoi;[1, 2);16\\n\"\n",
    "        \"ano sora;[42, 69);24\\n\")\n",
    "\n",
    "    query_for_csv = \"?longrel(X,Y,Z)\"\n",
    "\n",
    "    run_commands_into_csv_test(expected_longrel, im_ex_session, commands, query_for_csv)\n",
    "\n",
    "test_commands_into_csv_long()"
   ]
  },
  {
   "cell_type": "code",
   "execution_count": null,
   "metadata": {},
   "outputs": [],
   "source": [
    "def test_export_relation_into_csv() -> None:\n",
    "    relation_name = \"hotdoge\"\n",
    "    commands = f\"\"\"\n",
    "            new {relation_name}(str, int)\n",
    "            {relation_name}(\"wow\",42)\n",
    "            {relation_name}(\"such summer\", 420)\n",
    "            {relation_name}(\"much heat\", 42)\"\"\"\n",
    "\n",
    "    expected_export_rel = f\"\"\"\n",
    "        {FREE_VAR_PREFIX}0:{FREE_VAR_PREFIX}1\n",
    "        wow:42\n",
    "        such summer:420\n",
    "        much heat:42\"\"\"\n",
    "\n",
    "    im_ex_session.run_commands(commands, print_results=False)\n",
    "\n",
    "    with tempfile.TemporaryDirectory() as temp_dir:\n",
    "        temp_csv = Path(temp_dir) / TEMP_FILE_NAME\n",
    "        im_ex_session.export_relation_into_csv(temp_csv, relation_name, delimiter=\":\")\n",
    "        assert Path(temp_csv).is_file(), \"file was not created\"\n",
    "\n",
    "        with open(temp_csv) as f_temp:\n",
    "            assert is_equal_stripped_sorted_tables(f_temp.read(), expected_export_rel), \"file was not written properly\"\n",
    "\n",
    "test_export_relation_into_csv()"
   ]
  },
  {
   "cell_type": "code",
   "execution_count": null,
   "metadata": {},
   "outputs": [],
   "source": [
    "def test_commands_into_df() -> None:\n",
    "    test_df = DataFrame([\"king\", \"jump\"], columns=[\"X\"])\n",
    "    # create new relation\n",
    "    commands = \"\"\"\n",
    "        new df_query_rel(str)\n",
    "        df_query_rel(\"jump\")\n",
    "        df_query_rel(\"king\")\"\"\"\n",
    "\n",
    "    im_ex_session.run_commands(commands, print_results=False)\n",
    "\n",
    "    query_for_df = \"?df_query_rel(X)\"\n",
    "\n",
    "    # send commands into df and compare\n",
    "    temp_df = im_ex_session.send_commands_result_into_df(query_for_df)\n",
    "    assert is_equal_dataframes_ignore_order(temp_df, test_df), \"the dataframes are not equal\"\n",
    "\n",
    "test_commands_into_df()"
   ]
  },
  {
   "cell_type": "code",
   "execution_count": null,
   "metadata": {},
   "outputs": [],
   "source": [
    "def test_export_relation_into_df() -> None:\n",
    "    column_names = [f\"{FREE_VAR_PREFIX}0\", f\"{FREE_VAR_PREFIX}1\"]\n",
    "\n",
    "    relation_name = \"export_df_rel\"\n",
    "    commands = f\"\"\"\n",
    "        new {relation_name}(span, str)\n",
    "        {relation_name}([1,3), \"aa\")\n",
    "        {relation_name}([2,4), \"bb\")\"\"\"\n",
    "\n",
    "    expected_df = DataFrame([[Span(1, 3), \"aa\"], [Span(2, 4), \"bb\"]], columns=column_names)\n",
    "\n",
    "    im_ex_session.run_commands(commands)\n",
    "    result_df = im_ex_session.export_relation_into_df(relation_name)\n",
    "\n",
    "    assert is_equal_dataframes_ignore_order(result_df, expected_df)\n",
    "\n",
    "test_export_relation_into_df()"
   ]
  }
 ],
 "metadata": {
  "kernelspec": {
   "display_name": "python3",
   "language": "python",
   "name": "python3"
  }
 },
 "nbformat": 4,
 "nbformat_minor": 2
}
