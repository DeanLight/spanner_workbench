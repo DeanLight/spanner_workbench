{
 "cells": [
  {
   "cell_type": "code",
   "execution_count": 1,
   "metadata": {},
   "outputs": [
    {
     "name": "stderr",
     "output_type": "stream",
     "text": [
      "Installation NLP failed\n"
     ]
    }
   ],
   "source": [
    "from rgxlog.session import Session\n",
    "from rgxlog.general_utils import QUERY_RESULT_PREFIX\n",
    "from rgxlog.tests.utils import run_test"
   ]
  },
  {
   "cell_type": "code",
   "execution_count": 2,
   "metadata": {},
   "outputs": [
    {
     "name": "stdout",
     "output_type": "stream",
     "text": [
      "printing results for query 'Relation(X, 1)':\n",
      "   X\n",
      "-----\n",
      "   2\n",
      "\n"
     ]
    }
   ],
   "source": [
    "def test_assignment() -> None:\n",
    "    commands = \"\"\"\n",
    "            new Relation(int, int)\n",
    "            x = 1\n",
    "            y = 2\n",
    "            z = y\n",
    "            Relation(x, y)\n",
    "            Relation(y, x)\n",
    "            ?Relation(X, x)\n",
    "        \"\"\"\n",
    "\n",
    "    expected_result = f\"\"\"{QUERY_RESULT_PREFIX}'Relation(X, 1)':\n",
    "       X\n",
    "    -----\n",
    "       2\n",
    "    \"\"\"\n",
    "\n",
    "    run_test(commands, expected_result)\n",
    "\n",
    "test_assignment()"
   ]
  },
  {
   "cell_type": "code",
   "execution_count": 3,
   "metadata": {},
   "outputs": [
    {
     "name": "stdout",
     "output_type": "stream",
     "text": [
      "printing results for query 'A(X, Y)':\n",
      "   X |   Y\n",
      "-----+-----\n",
      "   1 |   1\n",
      "   1 |   2\n",
      "   2 |   3\n",
      "\n"
     ]
    }
   ],
   "source": [
    "def test_copy_table_rule() -> None:\n",
    "    commands = \"\"\"\n",
    "            new B(int, int)\n",
    "            B(1, 1)\n",
    "            B(1, 2)\n",
    "            B(2, 3)\n",
    "            A(X, Y) <- B(X, Y)\n",
    "            ?A(X, Y)\n",
    "        \"\"\"\n",
    "\n",
    "    expected_result = f\"\"\"{QUERY_RESULT_PREFIX}'A(X, Y)':\n",
    "       X |   Y\n",
    "    -----+-----\n",
    "       1 |   1\n",
    "       1 |   2\n",
    "       2 |   3\n",
    "    \"\"\"\n",
    "\n",
    "    run_test(commands, expected_result)\n",
    "\n",
    "test_copy_table_rule()"
   ]
  },
  {
   "cell_type": "code",
   "execution_count": 4,
   "metadata": {},
   "outputs": [
    {
     "name": "stdout",
     "output_type": "stream",
     "text": [
      "printing results for query 'D(X, Y, Z)':\n",
      "   X |   Y |   Z\n",
      "-----+-----+-----\n",
      "   1 |   2 |   2\n",
      "   1 |   1 |   1\n",
      "\n"
     ]
    }
   ],
   "source": [
    "def test_join_two_tables() -> None:\n",
    "    commands = \"\"\"\n",
    "        new B(int, int)\n",
    "        new C(int, int)\n",
    "        B(1, 1)\n",
    "        B(1, 2)\n",
    "        B(2, 3)\n",
    "        C(2, 2)\n",
    "        C(1, 1)\n",
    "        D(X, Y, Z) <- B(X, Y), C(Y, Z)\n",
    "        ?D(X, Y, Z)\n",
    "    \"\"\"\n",
    "\n",
    "    expected_result = f\"\"\"{QUERY_RESULT_PREFIX}'D(X, Y, Z)':\n",
    "       X |   Y |   Z\n",
    "    -----+-----+-----\n",
    "       1 |   2 |   2\n",
    "       1 |   1 |   1\n",
    "    \"\"\"\n",
    "\n",
    "    run_test(commands, expected_result)\n",
    "test_join_two_tables()"
   ]
  },
  {
   "cell_type": "code",
   "execution_count": 5,
   "metadata": {},
   "outputs": [
    {
     "name": "stdout",
     "output_type": "stream",
     "text": [
      "printing results for query 'A(X)':\n",
      "   X\n",
      "-----\n",
      "   1\n",
      "   2\n",
      "\n"
     ]
    }
   ],
   "source": [
    "def test_relation_with_same_free_var() -> None:\n",
    "    commands = \"\"\"\n",
    "        new B(int, int)\n",
    "        B(1, 1)\n",
    "        B(1, 2)\n",
    "        B(2, 2)\n",
    "        A(X) <- B(X, X)\n",
    "        ?A(X)\n",
    "    \"\"\"\n",
    "\n",
    "    expected_result = f\"\"\"{QUERY_RESULT_PREFIX}'A(X)':\n",
    "       X\n",
    "    -----\n",
    "       1\n",
    "       2\n",
    "    \"\"\"\n",
    "\n",
    "    run_test(commands, expected_result)\n",
    "\n",
    "test_relation_with_same_free_var()"
   ]
  },
  {
   "cell_type": "code",
   "execution_count": 6,
   "metadata": {},
   "outputs": [
    {
     "name": "stdout",
     "output_type": "stream",
     "text": [
      "printing results for query 'A(X, Y)':\n",
      "   X |   Y\n",
      "-----+-----\n",
      "   1 |   1\n",
      "   1 |   2\n",
      "   2 |   2\n",
      "   2 |   3\n",
      "\n"
     ]
    }
   ],
   "source": [
    "def test_union_rule_with_same_vars() -> None:\n",
    "    commands = \"\"\"\n",
    "        new B(int, int)\n",
    "        new C(int, int)\n",
    "        B(1, 1)\n",
    "        B(1, 2)\n",
    "        B(2, 3)\n",
    "        C(2, 2)\n",
    "        C(1, 1)\n",
    "\n",
    "        A(X, Y) <- B(X, Y)\n",
    "        A(X, Y) <- C(X, Y)\n",
    "        ?A(X, Y)\n",
    "    \"\"\"\n",
    "\n",
    "    expected_result = f\"\"\"{QUERY_RESULT_PREFIX}'A(X, Y)':\n",
    "       X |   Y\n",
    "    -----+-----\n",
    "       1 |   1\n",
    "       1 |   2\n",
    "       2 |   2\n",
    "       2 |   3\n",
    "    \"\"\"\n",
    "\n",
    "    run_test(commands, expected_result)\n",
    "\n",
    "test_union_rule_with_same_vars()"
   ]
  },
  {
   "cell_type": "code",
   "execution_count": 7,
   "metadata": {},
   "outputs": [
    {
     "name": "stdout",
     "output_type": "stream",
     "text": [
      "printing results for query 'A(X, Y)':\n",
      "   X |   Y\n",
      "-----+-----\n",
      "   1 |   1\n",
      "   1 |   2\n",
      "   2 |   2\n",
      "   2 |   3\n",
      "\n"
     ]
    }
   ],
   "source": [
    "def test_union_rule_with_different_vars() -> None:\n",
    "    commands = \"\"\"\n",
    "        new B(int, int)\n",
    "        new C(int, int)\n",
    "        B(1, 1)\n",
    "        B(1, 2)\n",
    "        B(2, 3)\n",
    "        C(2, 2)\n",
    "        C(1, 1)\n",
    "\n",
    "        A(X, Y) <- B(X, Y)\n",
    "        A(Z, W) <- C(Z, W)\n",
    "        ?A(X, Y)\n",
    "    \"\"\"\n",
    "\n",
    "    expected_result = f\"\"\"{QUERY_RESULT_PREFIX}'A(X, Y)':\n",
    "       X |   Y\n",
    "    -----+-----\n",
    "       1 |   1\n",
    "       1 |   2\n",
    "       2 |   2\n",
    "       2 |   3\n",
    "    \"\"\"\n",
    "\n",
    "    run_test(commands, expected_result)\n",
    "\n",
    "test_union_rule_with_different_vars()"
   ]
  },
  {
   "cell_type": "code",
   "execution_count": 8,
   "metadata": {},
   "outputs": [
    {
     "name": "stdout",
     "output_type": "stream",
     "text": [
      "printing results for query 'A(X)':\n",
      "   X\n",
      "-----\n",
      "   1\n",
      "\n"
     ]
    }
   ],
   "source": [
    "def test_project() -> None:\n",
    "    commands = \"\"\"\n",
    "            new B(int, int)\n",
    "            B(1, 1)\n",
    "            B(1, 2)\n",
    "\n",
    "            A(X) <- B(X, Y)\n",
    "            ?A(X)\n",
    "        \"\"\"\n",
    "\n",
    "    expected_result = f\"\"\"{QUERY_RESULT_PREFIX}'A(X)':\n",
    "       X\n",
    "    -----\n",
    "       1\n",
    "    \"\"\"\n",
    "\n",
    "    run_test(commands, expected_result)\n",
    "\n",
    "test_project()"
   ]
  },
  {
   "cell_type": "code",
   "execution_count": 9,
   "metadata": {},
   "outputs": [
    {
     "name": "stdout",
     "output_type": "stream",
     "text": [
      "printing results for query 'A(Z, W)':\n",
      "   Z |   W\n",
      "-----+-----\n",
      "   1 |   1\n",
      "   1 |   2\n",
      "\n"
     ]
    }
   ],
   "source": [
    "def test_add_fact_after_rule() -> None:\n",
    "    commands = \"\"\"\n",
    "            new B(int, int)\n",
    "            B(1, 1)\n",
    "            A(X, Y) <- B(X, Y)\n",
    "            B(1, 2)\n",
    "            ?A(Z, W)\n",
    "        \"\"\"\n",
    "\n",
    "    expected_result = f\"\"\"{QUERY_RESULT_PREFIX}'A(Z, W)':\n",
    "       Z |   W\n",
    "    -----+-----\n",
    "       1 |   1\n",
    "       1 |   2\n",
    "    \"\"\"\n",
    "\n",
    "    run_test(commands, expected_result)\n",
    "\n",
    "test_add_fact_after_rule()"
   ]
  },
  {
   "cell_type": "code",
   "execution_count": 10,
   "metadata": {},
   "outputs": [
    {
     "name": "stdout",
     "output_type": "stream",
     "text": [
      "printing results for query 'B(X, Y, Z)':\n",
      "   X |   Y |   Z\n",
      "-----+-----+--------\n",
      "   1 |   2 | [1, 2)\n",
      "\n"
     ]
    }
   ],
   "source": [
    "def test_datatypes() -> None:\n",
    "    commands = \"\"\"\n",
    "            new B(int, str, span)\n",
    "            B(1, \"2\", [1, 2))\n",
    "            ?B(X, Y, Z)\n",
    "        \"\"\"\n",
    "\n",
    "    expected_result = f\"\"\"{QUERY_RESULT_PREFIX}'B(X, Y, Z)':\n",
    "       X |   Y |   Z\n",
    "    -----+-----+--------\n",
    "       1 |   2 | [1, 2)\n",
    "    \"\"\"\n",
    "\n",
    "    run_test(commands, expected_result)\n",
    "\n",
    "test_datatypes()"
   ]
  },
  {
   "cell_type": "code",
   "execution_count": 11,
   "metadata": {},
   "outputs": [
    {
     "name": "stdout",
     "output_type": "stream",
     "text": [
      "printing results for query 'GrandParent(X, \"Austin\")':\n",
      "  X\n",
      "-----\n",
      " Sam\n",
      "\n"
     ]
    }
   ],
   "source": [
    "def test_join_same_relation() -> None:\n",
    "    commands = \"\"\"\n",
    "            new Parent(str, str)\n",
    "            Parent(\"Sam\", \"Noah\")\n",
    "            Parent(\"Noah\", \"Austin\")\n",
    "            Parent(\"Austin\", \"Stephen\")\n",
    "\n",
    "\n",
    "            GrandParent(G, C) <- Parent(G, M), Parent(M, C)\n",
    "            ?GrandParent(X, \"Austin\")\n",
    "        \"\"\"\n",
    "\n",
    "    expected_result = f\"\"\"{QUERY_RESULT_PREFIX}'GrandParent(X, \"Austin\")':\n",
    "      X\n",
    "    -----\n",
    "     Sam\n",
    "    \"\"\"\n",
    "\n",
    "    run_test(commands, expected_result)\n",
    "\n",
    "test_join_same_relation()\n"
   ]
  },
  {
   "cell_type": "code",
   "execution_count": 12,
   "metadata": {},
   "outputs": [
    {
     "name": "stdout",
     "output_type": "stream",
     "text": [
      "printing results for query 'A(X)':\n",
      "   X\n",
      "-----\n",
      "   1\n",
      "   2\n",
      "\n"
     ]
    }
   ],
   "source": [
    "def test_rule_with_constant() -> None:\n",
    "    commands = \"\"\"\n",
    "              new B(int, int)\n",
    "              new C(int, int)\n",
    "              B(1, 1)\n",
    "              B(1, 2)\n",
    "              B(2, 3)\n",
    "              C(2, 2)\n",
    "              C(1, 1)\n",
    "\n",
    "              A(X) <- B(1, X)\n",
    "              ?A(X)\n",
    "           \"\"\"\n",
    "\n",
    "    expected_result = f\"\"\"{QUERY_RESULT_PREFIX}'A(X)':\n",
    "       X\n",
    "    -----\n",
    "       1\n",
    "       2\n",
    "    \"\"\"\n",
    "\n",
    "    run_test(commands, expected_result)\n",
    "\n",
    "test_rule_with_constant()"
   ]
  },
  {
   "cell_type": "code",
   "execution_count": 13,
   "metadata": {},
   "outputs": [
    {
     "name": "stdout",
     "output_type": "stream",
     "text": [
      "printing results for query 'A(X, Y)':\n",
      "   X |   Y\n",
      "-----+-----\n",
      "   1 |   1\n",
      "   1 |   2\n",
      "   2 |   3\n",
      "\n"
     ]
    }
   ],
   "source": [
    "def test_rule_with_true_value() -> None:\n",
    "    commands = \"\"\"\n",
    "               new B(int, int)\n",
    "               new C(int, int)\n",
    "               B(1, 1)\n",
    "               B(1, 2)\n",
    "               B(2, 3)\n",
    "               C(2, 2)\n",
    "               C(1, 1)\n",
    "\n",
    "               A(X, Y) <- B(X, Y), C(1, 1)\n",
    "               ?A(X, Y)\n",
    "            \"\"\"\n",
    "\n",
    "    expected_result = f\"\"\"{QUERY_RESULT_PREFIX}'A(X, Y)':\n",
    "       X |   Y\n",
    "    -----+-----\n",
    "       1 |   1\n",
    "       1 |   2\n",
    "       2 |   3\n",
    "    \"\"\"\n",
    "\n",
    "    run_test(commands, expected_result)\n",
    "\n",
    "test_rule_with_true_value()"
   ]
  },
  {
   "cell_type": "code",
   "execution_count": 14,
   "metadata": {},
   "outputs": [
    {
     "name": "stdout",
     "output_type": "stream",
     "text": [
      "printing results for query 'A(X, Y)':\n",
      "[]\n",
      "\n"
     ]
    }
   ],
   "source": [
    "\n",
    "def test_rule_with_false_value() -> None:\n",
    "    commands = \"\"\"\n",
    "               new B(int, int)\n",
    "               new C(int, int)\n",
    "               B(1, 1)\n",
    "               B(1, 2)\n",
    "               B(2, 3)\n",
    "               C(2, 2)\n",
    "               C(1, 1)\n",
    "\n",
    "               A(X, Y) <- B(X, Y), C(0, 0)\n",
    "               ?A(X, Y)\n",
    "            \"\"\"\n",
    "\n",
    "    expected_result = f\"\"\"{QUERY_RESULT_PREFIX}'A(X, Y)':\n",
    "    []\n",
    "    \"\"\"\n",
    "\n",
    "    run_test(commands, expected_result)\n",
    "\n",
    "test_rule_with_false_value()"
   ]
  },
  {
   "cell_type": "code",
   "execution_count": 15,
   "metadata": {},
   "outputs": [
    {
     "name": "stdout",
     "output_type": "stream",
     "text": [
      "printing results for query 'A(X, X)':\n",
      "   X |   X\n",
      "-----+-----\n",
      "   1 |   1\n",
      "\n"
     ]
    }
   ],
   "source": [
    "def test_query_with_same_var() -> None:\n",
    "    commands = \"\"\"\n",
    "              new B(int, int)\n",
    "              B(1, 1)\n",
    "              B(1, 2)\n",
    "              B(2, 3)\n",
    "\n",
    "              A(X, Y) <- B(X, Y)\n",
    "              ?A(X, X)\n",
    "           \"\"\"\n",
    "\n",
    "    expected_result = f\"\"\"{QUERY_RESULT_PREFIX}'A(X, X)':\n",
    "       X |   X\n",
    "    -----+-----\n",
    "       1 |   1\n",
    "    \"\"\"\n",
    "\n",
    "    run_test(commands, expected_result)\n",
    "\n",
    "test_query_with_same_var()"
   ]
  },
  {
   "cell_type": "code",
   "execution_count": 16,
   "metadata": {},
   "outputs": [
    {
     "name": "stdout",
     "output_type": "stream",
     "text": [
      "printing results for query 'A(1, X)':\n",
      "   X\n",
      "-----\n",
      "   1\n",
      "   2\n",
      "\n"
     ]
    }
   ],
   "source": [
    "def test_query_with_constant_value() -> None:\n",
    "    commands = \"\"\"\n",
    "               new B(int, int)\n",
    "               B(1, 1)\n",
    "               B(1, 2)\n",
    "               B(2, 3)\n",
    "\n",
    "               A(X, Y) <- B(X, Y)\n",
    "               ?A(1, X)\n",
    "            \"\"\"\n",
    "\n",
    "    expected_result = f\"\"\"{QUERY_RESULT_PREFIX}'A(1, X)':\n",
    "       X\n",
    "    -----\n",
    "       1\n",
    "       2\n",
    "    \"\"\"\n",
    "\n",
    "    run_test(commands, expected_result)\n",
    "\n",
    "test_query_with_constant_value()"
   ]
  },
  {
   "cell_type": "code",
   "execution_count": 17,
   "metadata": {},
   "outputs": [
    {
     "name": "stdout",
     "output_type": "stream",
     "text": [
      "printing results for query 'A(X, Y)':\n",
      "   X |   Y\n",
      "-----+-----\n",
      "   1 |   1\n",
      "   1 |   2\n",
      "   2 |   3\n",
      "\n"
     ]
    }
   ],
   "source": [
    "def test_remove_rule() -> None:\n",
    "    commands = \"\"\"\n",
    "               new B(int, int)\n",
    "               new C(int, int)\n",
    "               B(1, 1)\n",
    "               B(1, 2)\n",
    "               B(2, 3)\n",
    "               C(2, 2)\n",
    "               C(1, 1)\n",
    "\n",
    "               A(X, Y) <- B(X, Y)\n",
    "               A(X, Y) <- C(X, Y)\n",
    "\n",
    "            \"\"\"\n",
    "\n",
    "    expected_result = f\"\"\"{QUERY_RESULT_PREFIX}'A(X, Y)':\n",
    "       X |   Y\n",
    "    -----+-----\n",
    "       1 |   1\n",
    "       1 |   2\n",
    "       2 |   3\n",
    "     \"\"\"\n",
    "\n",
    "    session = run_test(commands)\n",
    "\n",
    "    session.remove_rule(\"A(X, Y) <- C(X, Y)\")\n",
    "\n",
    "    run_test(\"?A(X, Y)\", expected_result, session=session)\n",
    "\n",
    "test_remove_rule()"
   ]
  },
  {
   "cell_type": "code",
   "execution_count": 18,
   "metadata": {},
   "outputs": [
    {
     "name": "stdout",
     "output_type": "stream",
     "text": [
      "printing results for query 'A(X)':\n",
      "   X\n",
      "-----\n",
      "   2\n",
      "\n"
     ]
    }
   ],
   "source": [
    "def test_select_and_join() -> None:\n",
    "    commands = \"\"\"\n",
    "            new B(int)\n",
    "            new C(int, int)\n",
    "            B(2)\n",
    "            C(1, 4)\n",
    "            C(2, 5)\n",
    "            A(X) <- B(X), C(X, 5)\n",
    "            ?A(X)\n",
    "        \"\"\"\n",
    "\n",
    "    expected_result = f\"\"\"{QUERY_RESULT_PREFIX}'A(X)':\n",
    "       X\n",
    "    -----\n",
    "       2\n",
    "    \"\"\"\n",
    "\n",
    "    run_test(commands, expected_result)\n",
    "\n",
    "test_select_and_join()"
   ]
  },
  {
   "cell_type": "code",
   "execution_count": 19,
   "metadata": {},
   "outputs": [
    {
     "name": "stdout",
     "output_type": "stream",
     "text": [
      "printing results for query 'A(1)':\n",
      "[()]\n",
      "\n"
     ]
    }
   ],
   "source": [
    "def test_query_true_value() -> None:\n",
    "    commands = \"\"\"\n",
    "            new A(int)\n",
    "            A(1)\n",
    "            ?A(1)\n",
    "        \"\"\"\n",
    "\n",
    "    expected_result = f\"\"\"{QUERY_RESULT_PREFIX}'A(1)':\n",
    "    [()]\n",
    "    \"\"\"\n",
    "\n",
    "    run_test(commands, expected_result)\n",
    "\n",
    "test_query_true_value()"
   ]
  },
  {
   "cell_type": "code",
   "execution_count": 20,
   "metadata": {},
   "outputs": [
    {
     "name": "stdout",
     "output_type": "stream",
     "text": [
      "printing results for query 'A(2)':\n",
      "[]\n",
      "\n"
     ]
    }
   ],
   "source": [
    "def test_query_false_value() -> None:\n",
    "    commands = \"\"\"\n",
    "            new A(int)\n",
    "            A(1)\n",
    "            ?A(2)\n",
    "        \"\"\"\n",
    "\n",
    "    expected_result = f\"\"\"{QUERY_RESULT_PREFIX}'A(2)':\n",
    "    []\n",
    "    \"\"\"\n",
    "\n",
    "    run_test(commands, expected_result)\n",
    "\n",
    "test_query_false_value()"
   ]
  },
  {
   "cell_type": "code",
   "execution_count": 21,
   "metadata": {},
   "outputs": [],
   "source": [
    "def test_nothing() -> None:\n",
    "    # we can't use run_test when there is no output\n",
    "    commands = \"\"\n",
    "\n",
    "    expected_result = \"[]\"\n",
    "\n",
    "    commands_result = str(Session().run_commands(commands, print_results=True))\n",
    "    assert expected_result == commands_result, \"expected string != result string\"\n",
    "\n",
    "test_nothing()"
   ]
  },
  {
   "cell_type": "code",
   "execution_count": 22,
   "metadata": {},
   "outputs": [
    {
     "name": "stdout",
     "output_type": "stream",
     "text": [
      "printing results for query 'rel(X)':\n",
      "   X\n",
      "-----\n",
      "   8\n",
      "  16\n",
      "\n"
     ]
    }
   ],
   "source": [
    "def test_add_remove_fact() -> None:\n",
    "    commands = \"\"\"\n",
    "                new rel(int)\n",
    "                rel(8) <- True\n",
    "                rel(16)\n",
    "                rel(16) <- False\n",
    "                rel(32)\n",
    "                rel(16)\n",
    "                rel(32) <- False\n",
    "                ?rel(X)\n",
    "                \"\"\"\n",
    "\n",
    "    expected_result = f\"\"\"{QUERY_RESULT_PREFIX}'rel(X)':\n",
    "                           X\n",
    "                        -----\n",
    "                           8\n",
    "                          16\n",
    "                        \"\"\"\n",
    "\n",
    "    run_test(commands, expected_result)\n",
    "test_add_remove_fact()"
   ]
  }
 ],
 "metadata": {
  "kernelspec": {
   "display_name": "python3",
   "language": "python",
   "name": "python3"
  },
  "language_info": {
   "codemirror_mode": {
    "name": "ipython",
    "version": 3
   },
   "file_extension": ".py",
   "mimetype": "text/x-python",
   "name": "python",
   "nbconvert_exporter": "python",
   "pygments_lexer": "ipython3",
   "version": "3.8.11"
  }
 },
 "nbformat": 4,
 "nbformat_minor": 2
}
