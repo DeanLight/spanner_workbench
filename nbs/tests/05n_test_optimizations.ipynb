{
 "cells": [
  {
   "cell_type": "code",
   "execution_count": null,
   "metadata": {},
   "outputs": [],
   "source": [
    "from spanner_workbench.optimizations_passes import PruneUnnecessaryProjectNodes, RemoveUselessRelationsFromRule\n",
    "from spanner_workbench.general_utils import QUERY_RESULT_PREFIX\n",
    "from spanner_workbench.tests.utils import run_test, get_session_with_optimizations"
   ]
  },
  {
   "cell_type": "code",
   "execution_count": null,
   "metadata": {},
   "outputs": [
    {
     "name": "stdout",
     "output_type": "stream",
     "text": [
      "printing results for query 'A(X)':\n",
      "   X\n",
      "-----\n",
      "   1\n",
      "   2\n",
      "   4\n",
      "\n"
     ]
    }
   ],
   "source": [
    "def test_prune_project_nodes() -> None:\n",
    "    commands = \"\"\"\n",
    "               new B(int)\n",
    "               new C(int)\n",
    "               B(1)\n",
    "               B(2)\n",
    "               B(4)\n",
    "               C(0)\n",
    "\n",
    "               A(X) <- B(X), C(0)\n",
    "               ?A(X)\n",
    "            \"\"\"\n",
    "\n",
    "    expected_result = f\"\"\"{QUERY_RESULT_PREFIX}'A(X)':\n",
    "       X\n",
    "    -----\n",
    "       1\n",
    "       2\n",
    "       4\n",
    "    \"\"\"\n",
    "\n",
    "    session = get_session_with_optimizations(term_graph_optimization_passes=(PruneUnnecessaryProjectNodes,))\n",
    "    run_test(commands, expected_result, session=session)\n",
    "\n",
    "test_prune_project_nodes()"
   ]
  },
  {
   "cell_type": "code",
   "execution_count": null,
   "metadata": {},
   "outputs": [
    {
     "name": "stdout",
     "output_type": "stream",
     "text": [
      "printing results for query 'A(X)':\n",
      "   X\n",
      "-----\n",
      "   1\n",
      "   2\n",
      "   4\n",
      "\n"
     ]
    }
   ],
   "source": [
    "def test_prune_project_nodes() -> None:\n",
    "    commands = \"\"\"\n",
    "               new B(int)\n",
    "               new C(int)\n",
    "               B(1)\n",
    "               B(2)\n",
    "               B(4)\n",
    "               C(0)\n",
    "\n",
    "               A(X) <- B(X), C(0)\n",
    "               ?A(X)\n",
    "            \"\"\"\n",
    "\n",
    "    expected_result = f\"\"\"{QUERY_RESULT_PREFIX}'A(X)':\n",
    "       X\n",
    "    -----\n",
    "       1\n",
    "       2\n",
    "       4\n",
    "    \"\"\"\n",
    "\n",
    "    session = get_session_with_optimizations(term_graph_optimization_passes=(PruneUnnecessaryProjectNodes,))\n",
    "    run_test(commands, expected_result, session=session)\n",
    "\n",
    "test_prune_project_nodes()"
   ]
  }
 ],
 "metadata": {
  "kernelspec": {
   "display_name": "python3",
   "language": "python",
   "name": "python3"
  }
 },
 "nbformat": 4,
 "nbformat_minor": 2
}
