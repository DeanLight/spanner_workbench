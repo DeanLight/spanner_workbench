{
 "cells": [
  {
   "attachments": {},
   "cell_type": "markdown",
   "metadata": {},
   "source": [
    "# integration tests"
   ]
  },
  {
   "cell_type": "code",
   "execution_count": null,
   "metadata": {},
   "outputs": [],
   "source": [
    "#| default_exp src.rgxlog_interpreter.tests.test_sqlite_engine"
   ]
  },
  {
   "cell_type": "code",
   "execution_count": null,
   "metadata": {},
   "outputs": [],
   "source": [
    "#| hide\n",
    "from nbdev.showdoc import *"
   ]
  },
  {
   "cell_type": "code",
   "execution_count": null,
   "metadata": {},
   "outputs": [
    {
     "name": "stdout",
     "output_type": "stream",
     "text": [
      "Requirement already satisfied: pytest in c:\\users\\kloay\\appdata\\local\\programs\\python\\python311\\lib\\site-packages (7.3.1)\n",
      "Requirement already satisfied: iniconfig in c:\\users\\kloay\\appdata\\local\\programs\\python\\python311\\lib\\site-packages (from pytest) (2.0.0)\n",
      "Requirement already satisfied: packaging in c:\\users\\kloay\\appdata\\local\\programs\\python\\python311\\lib\\site-packages (from pytest) (23.1)\n",
      "Requirement already satisfied: pluggy<2.0,>=0.12 in c:\\users\\kloay\\appdata\\local\\programs\\python\\python311\\lib\\site-packages (from pytest) (1.0.0)\n",
      "Requirement already satisfied: colorama in c:\\users\\kloay\\appdata\\local\\programs\\python\\python311\\lib\\site-packages (from pytest) (0.4.6)\n"
     ]
    }
   ],
   "source": [
    "#| hide\n",
    "!pip install pytest"
   ]
  },
  {
   "cell_type": "code",
   "execution_count": null,
   "metadata": {},
   "outputs": [],
   "source": [
    "#| export\n",
    "import pytest\n",
    "\n",
    "from spanner_workbench.src.rgxlog_interpreter.src.rgxlog.engine.datatypes.ast_node_types import RelationDeclaration, AddFact, Query\n",
    "from spanner_workbench.src.rgxlog_interpreter.src.rgxlog.engine.datatypes.primitive_types import DataTypes\n",
    "from spanner_workbench.src.rgxlog_interpreter.src.rgxlog.engine.engine import SqliteEngine"
   ]
  },
  {
   "cell_type": "code",
   "execution_count": null,
   "metadata": {},
   "outputs": [],
   "source": [
    "#| export\n",
    "@pytest.mark.engine\n",
    "def test_add_fact_twice() -> None:\n",
    "    expected_output = [(8, \"hihi\")]\n",
    "\n",
    "    my_engine = SqliteEngine()\n",
    "    print(my_engine)\n",
    "\n",
    "    # add relation\n",
    "    my_relation = RelationDeclaration(\"yoyo\", [DataTypes.integer, DataTypes.string])\n",
    "    my_engine.declare_relation_table(my_relation)\n",
    "\n",
    "    # add fact\n",
    "    my_fact = AddFact(\"yoyo\", [8, \"hihi\"], [DataTypes.integer, DataTypes.string])\n",
    "    my_engine.add_fact(my_fact)\n",
    "    my_engine.add_fact(my_fact)\n",
    "\n",
    "    my_query = Query(\"yoyo\", [\"X\", \"Y\"], [DataTypes.free_var_name, DataTypes.free_var_name])\n",
    "\n",
    "    my_result = my_engine.query(my_query)\n",
    "    assert expected_output == my_result"
   ]
  },
  {
   "attachments": {},
   "cell_type": "markdown",
   "metadata": {},
   "source": [
    "## Test add fact twice"
   ]
  },
  {
   "cell_type": "code",
   "execution_count": null,
   "metadata": {},
   "outputs": [
    {
     "name": "stdout",
     "output_type": "stream",
     "text": [
      "<spanner_workbench.src.rgxlog_interpreter.src.rgxlog.engine.engine.SqliteEngine object>\n"
     ]
    }
   ],
   "source": [
    "expected_output = [(8, \"hihi\")]\n",
    "\n",
    "my_engine = SqliteEngine()\n",
    "print(my_engine)\n",
    "\n",
    "# add relation\n",
    "my_relation = RelationDeclaration(\"yoyo\", [DataTypes.integer, DataTypes.string])\n",
    "my_engine.declare_relation_table(my_relation)\n",
    "\n",
    "# add fact\n",
    "my_fact = AddFact(\"yoyo\", [8, \"hihi\"], [DataTypes.integer, DataTypes.string])\n",
    "my_engine.add_fact(my_fact)\n",
    "my_engine.add_fact(my_fact)\n",
    "\n",
    "my_query = Query(\"yoyo\", [\"X\", \"Y\"], [DataTypes.free_var_name, DataTypes.free_var_name])\n",
    "\n",
    "my_result = my_engine.query(my_query)\n",
    "assert expected_output == my_result"
   ]
  },
  {
   "cell_type": "code",
   "execution_count": null,
   "metadata": {},
   "outputs": [
    {
     "name": "stdout",
     "output_type": "stream",
     "text": [
      "<spanner_workbench.src.rgxlog_interpreter.src.rgxlog.engine.engine.SqliteEngine object>\n"
     ]
    }
   ],
   "source": [
    "test_add_fact_twice()"
   ]
  }
 ],
 "metadata": {
  "kernelspec": {
   "display_name": "python3",
   "language": "python",
   "name": "python3"
  }
 },
 "nbformat": 4,
 "nbformat_minor": 4
}
