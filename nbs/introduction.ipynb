{
 "cells": [
  {
   "cell_type": "markdown",
   "metadata": {},
   "source": [
    "# Introduction"
   ]
  },
  {
   "cell_type": "markdown",
   "metadata": {},
   "source": [
    "In this tutorial you will learn the basics of spanner workbench"
   ]
  },
  {
   "cell_type": "markdown",
   "metadata": {},
   "source": [
    ":::{.callout-note}\n",
    "this project is built with nbdev, which is a full literate programming environment built on Jupyter Notebooks. That means that every piece of documentation, including the page you’re reading now, can be accessed as interactive Jupyter notebook. <br>\n",
    "[![Open In Colab](https://colab.research.google.com/assets/colab-badge.svg)](https://colab.research.google.com/github/DeanLight/spanner_workbench/blob/master/nbs/introduction.ipynb)\n",
    ":::"
   ]
  },
  {
   "cell_type": "markdown",
   "metadata": {},
   "source": [
    "## Using RGXLog<a class=\"anchor\" id=\"use_rgxlog\"></a>"
   ]
  },
  {
   "cell_type": "markdown",
   "metadata": {},
   "source": [
    "### Installation"
   ]
  },
  {
   "cell_type": "markdown",
   "metadata": {},
   "source": [
    "prerequisites:\n",
    "\n",
    "* Have [Python](https://www.python.org/downloads/) version 3.8 or above installed\n",
    "\n",
    "To download and install RGXLog run the following commands in your terminal:\n",
    "\n",
    "```bash\n",
    "git clone https://github.com/DeanLight/spanner_workbench\n",
    "cd spanner_workbench\n",
    "pip install . \n",
    "```"
   ]
  },
  {
   "cell_type": "markdown",
   "metadata": {},
   "source": [
    "Make sure you are calling the pip version of your current python environment.\n",
    "To install with another python interpreter, run"
   ]
  },
  {
   "cell_type": "markdown",
   "metadata": {},
   "source": [
    "```bash\n",
    "<path_to_python_interpreter> -m pip install .\n",
    "```"
   ]
  },
  {
   "cell_type": "markdown",
   "metadata": {},
   "source": [
    "You can also install RGXLog in the current Jupyter kernel:\n",
    "<!-- #endregion -->"
   ]
  },
  {
   "cell_type": "code",
   "execution_count": null,
   "metadata": {},
   "outputs": [
    {
     "name": "stdout",
     "output_type": "stream",
     "text": [
      "fatal: destination path 'spanner_workbench' already exists and is not an empty directory.\n",
      "Processing /edit_intro_based_on_reviews/nbs/spanner_workbench\n",
      "  Preparing metadata (setup.py) ... \u001b[?25ldone\n",
      "\u001b[?25hRequirement already satisfied: nbdev in /miniconda/lib/python3.8/site-packages (from rgxlog==0.0.1) (2.3.13)\n",
      "Requirement already satisfied: pandas in /miniconda/lib/python3.8/site-packages (from rgxlog==0.0.1) (2.0.3)\n",
      "Requirement already satisfied: notebook in /miniconda/lib/python3.8/site-packages (from rgxlog==0.0.1) (7.0.6)\n",
      "Requirement already satisfied: pyDatalog in /miniconda/lib/python3.8/site-packages (from rgxlog==0.0.1) (0.17.4)\n",
      "Requirement already satisfied: tabulate in /miniconda/lib/python3.8/site-packages (from rgxlog==0.0.1) (0.9.0)\n",
      "Requirement already satisfied: lark-parser>=0.9.0 in /miniconda/lib/python3.8/site-packages (from rgxlog==0.0.1) (0.12.0)\n",
      "Requirement already satisfied: ipython>=7.18.1 in /miniconda/lib/python3.8/site-packages (from rgxlog==0.0.1) (8.12.3)\n",
      "Requirement already satisfied: setuptools>=50.2.0 in /miniconda/lib/python3.8/site-packages (from rgxlog==0.0.1) (65.6.3)\n",
      "Requirement already satisfied: networkx>=2.5 in /miniconda/lib/python3.8/site-packages (from rgxlog==0.0.1) (3.1)\n",
      "Requirement already satisfied: docopt>=0.6.2 in /miniconda/lib/python3.8/site-packages (from rgxlog==0.0.1) (0.6.2)\n",
      "Requirement already satisfied: jsonpath-ng in /miniconda/lib/python3.8/site-packages (from rgxlog==0.0.1) (1.6.0)\n",
      "Requirement already satisfied: psutil in /miniconda/lib/python3.8/site-packages (from rgxlog==0.0.1) (5.9.6)\n",
      "Requirement already satisfied: install-jdk in /miniconda/lib/python3.8/site-packages (from rgxlog==0.0.1) (1.1.0)\n",
      "Requirement already satisfied: parse in /miniconda/lib/python3.8/site-packages (from rgxlog==0.0.1) (1.19.1)\n",
      "Requirement already satisfied: spanner-nlp in /miniconda/lib/python3.8/site-packages (from rgxlog==0.0.1) (0.0.6)\n",
      "Requirement already satisfied: pytest in /miniconda/lib/python3.8/site-packages (from rgxlog==0.0.1) (7.4.3)\n",
      "Requirement already satisfied: Jinja2 in /miniconda/lib/python3.8/site-packages (from rgxlog==0.0.1) (3.1.2)\n",
      "Requirement already satisfied: pycodestyle in /miniconda/lib/python3.8/site-packages (from rgxlog==0.0.1) (2.11.1)\n",
      "Requirement already satisfied: mypy in /miniconda/lib/python3.8/site-packages (from rgxlog==0.0.1) (1.6.1)\n",
      "Requirement already satisfied: pickleshare in /miniconda/lib/python3.8/site-packages (from ipython>=7.18.1->rgxlog==0.0.1) (0.7.5)\n",
      "Requirement already satisfied: traitlets>=5 in /miniconda/lib/python3.8/site-packages (from ipython>=7.18.1->rgxlog==0.0.1) (5.12.0)\n",
      "Requirement already satisfied: matplotlib-inline in /miniconda/lib/python3.8/site-packages (from ipython>=7.18.1->rgxlog==0.0.1) (0.1.6)\n",
      "Requirement already satisfied: backcall in /miniconda/lib/python3.8/site-packages (from ipython>=7.18.1->rgxlog==0.0.1) (0.2.0)\n",
      "Requirement already satisfied: typing-extensions in /miniconda/lib/python3.8/site-packages (from ipython>=7.18.1->rgxlog==0.0.1) (4.8.0)\n",
      "Requirement already satisfied: decorator in /miniconda/lib/python3.8/site-packages (from ipython>=7.18.1->rgxlog==0.0.1) (5.1.1)\n",
      "Requirement already satisfied: jedi>=0.16 in /miniconda/lib/python3.8/site-packages (from ipython>=7.18.1->rgxlog==0.0.1) (0.19.1)\n",
      "Requirement already satisfied: prompt-toolkit!=3.0.37,<3.1.0,>=3.0.30 in /miniconda/lib/python3.8/site-packages (from ipython>=7.18.1->rgxlog==0.0.1) (3.0.39)\n",
      "Requirement already satisfied: pexpect>4.3 in /miniconda/lib/python3.8/site-packages (from ipython>=7.18.1->rgxlog==0.0.1) (4.8.0)\n",
      "Requirement already satisfied: pygments>=2.4.0 in /miniconda/lib/python3.8/site-packages (from ipython>=7.18.1->rgxlog==0.0.1) (2.16.1)\n",
      "Requirement already satisfied: stack-data in /miniconda/lib/python3.8/site-packages (from ipython>=7.18.1->rgxlog==0.0.1) (0.6.3)\n",
      "Requirement already satisfied: MarkupSafe>=2.0 in /miniconda/lib/python3.8/site-packages (from Jinja2->rgxlog==0.0.1) (2.1.3)\n",
      "Requirement already satisfied: ply in /miniconda/lib/python3.8/site-packages (from jsonpath-ng->rgxlog==0.0.1) (3.11)\n",
      "Requirement already satisfied: mypy-extensions>=1.0.0 in /miniconda/lib/python3.8/site-packages (from mypy->rgxlog==0.0.1) (1.0.0)\n",
      "Requirement already satisfied: tomli>=1.1.0 in /miniconda/lib/python3.8/site-packages (from mypy->rgxlog==0.0.1) (2.0.1)\n",
      "Requirement already satisfied: watchdog in /miniconda/lib/python3.8/site-packages (from nbdev->rgxlog==0.0.1) (3.0.0)\n",
      "Requirement already satisfied: execnb>=0.1.4 in /miniconda/lib/python3.8/site-packages (from nbdev->rgxlog==0.0.1) (0.1.5)\n",
      "Requirement already satisfied: asttokens in /miniconda/lib/python3.8/site-packages (from nbdev->rgxlog==0.0.1) (2.4.1)\n",
      "Requirement already satisfied: PyYAML in /miniconda/lib/python3.8/site-packages (from nbdev->rgxlog==0.0.1) (6.0.1)\n",
      "Requirement already satisfied: ghapi>=1.0.3 in /miniconda/lib/python3.8/site-packages (from nbdev->rgxlog==0.0.1) (1.0.4)\n",
      "Requirement already satisfied: fastcore>=1.5.27 in /miniconda/lib/python3.8/site-packages (from nbdev->rgxlog==0.0.1) (1.5.29)\n",
      "Requirement already satisfied: ipywidgets<=8.0.4 in /miniconda/lib/python3.8/site-packages (from nbdev->rgxlog==0.0.1) (8.0.4)\n",
      "Requirement already satisfied: astunparse in /miniconda/lib/python3.8/site-packages (from nbdev->rgxlog==0.0.1) (1.6.3)\n",
      "Requirement already satisfied: jupyterlab<5,>=4.0.2 in /miniconda/lib/python3.8/site-packages (from notebook->rgxlog==0.0.1) (4.0.7)\n",
      "Requirement already satisfied: jupyter-server<3,>=2.4.0 in /miniconda/lib/python3.8/site-packages (from notebook->rgxlog==0.0.1) (2.9.1)\n",
      "Requirement already satisfied: jupyterlab-server<3,>=2.22.1 in /miniconda/lib/python3.8/site-packages (from notebook->rgxlog==0.0.1) (2.25.0)\n",
      "Requirement already satisfied: notebook-shim<0.3,>=0.2 in /miniconda/lib/python3.8/site-packages (from notebook->rgxlog==0.0.1) (0.2.3)\n",
      "Requirement already satisfied: tornado>=6.2.0 in /miniconda/lib/python3.8/site-packages (from notebook->rgxlog==0.0.1) (6.3.3)\n",
      "Requirement already satisfied: python-dateutil>=2.8.2 in /miniconda/lib/python3.8/site-packages (from pandas->rgxlog==0.0.1) (2.8.2)\n",
      "Requirement already satisfied: numpy>=1.20.3 in /miniconda/lib/python3.8/site-packages (from pandas->rgxlog==0.0.1) (1.24.4)\n",
      "Requirement already satisfied: tzdata>=2022.1 in /miniconda/lib/python3.8/site-packages (from pandas->rgxlog==0.0.1) (2023.3)\n",
      "Requirement already satisfied: pytz>=2020.1 in /miniconda/lib/python3.8/site-packages (from pandas->rgxlog==0.0.1) (2023.3.post1)\n",
      "Requirement already satisfied: pluggy<2.0,>=0.12 in /miniconda/lib/python3.8/site-packages (from pytest->rgxlog==0.0.1) (1.0.0)\n",
      "Requirement already satisfied: exceptiongroup>=1.0.0rc8 in /miniconda/lib/python3.8/site-packages (from pytest->rgxlog==0.0.1) (1.1.3)\n",
      "Requirement already satisfied: packaging in /miniconda/lib/python3.8/site-packages (from pytest->rgxlog==0.0.1) (22.0)\n",
      "Requirement already satisfied: iniconfig in /miniconda/lib/python3.8/site-packages (from pytest->rgxlog==0.0.1) (2.0.0)\n",
      "Requirement already satisfied: requests in /miniconda/lib/python3.8/site-packages (from spanner-nlp->rgxlog==0.0.1) (2.31.0)\n",
      "Requirement already satisfied: pip in /miniconda/lib/python3.8/site-packages (from fastcore>=1.5.27->nbdev->rgxlog==0.0.1) (22.3.1)\n",
      "Requirement already satisfied: ipykernel>=4.5.1 in /miniconda/lib/python3.8/site-packages (from ipywidgets<=8.0.4->nbdev->rgxlog==0.0.1) (6.26.0)\n",
      "Requirement already satisfied: jupyterlab-widgets~=3.0 in /miniconda/lib/python3.8/site-packages (from ipywidgets<=8.0.4->nbdev->rgxlog==0.0.1) (3.0.9)\n",
      "Requirement already satisfied: widgetsnbextension~=4.0 in /miniconda/lib/python3.8/site-packages (from ipywidgets<=8.0.4->nbdev->rgxlog==0.0.1) (4.0.9)\n",
      "Requirement already satisfied: parso<0.9.0,>=0.8.3 in /miniconda/lib/python3.8/site-packages (from jedi>=0.16->ipython>=7.18.1->rgxlog==0.0.1) (0.8.3)\n",
      "Requirement already satisfied: jupyter-core!=5.0.*,>=4.12 in /miniconda/lib/python3.8/site-packages (from jupyter-server<3,>=2.4.0->notebook->rgxlog==0.0.1) (5.4.0)\n",
      "Requirement already satisfied: nbformat>=5.3.0 in /miniconda/lib/python3.8/site-packages (from jupyter-server<3,>=2.4.0->notebook->rgxlog==0.0.1) (5.9.2)\n",
      "Requirement already satisfied: anyio>=3.1.0 in /miniconda/lib/python3.8/site-packages (from jupyter-server<3,>=2.4.0->notebook->rgxlog==0.0.1) (4.0.0)\n",
      "Requirement already satisfied: jupyter-client>=7.4.4 in /miniconda/lib/python3.8/site-packages (from jupyter-server<3,>=2.4.0->notebook->rgxlog==0.0.1) (8.5.0)\n",
      "Requirement already satisfied: pyzmq>=24 in /miniconda/lib/python3.8/site-packages (from jupyter-server<3,>=2.4.0->notebook->rgxlog==0.0.1) (25.1.1)\n",
      "Requirement already satisfied: overrides in /miniconda/lib/python3.8/site-packages (from jupyter-server<3,>=2.4.0->notebook->rgxlog==0.0.1) (7.4.0)\n",
      "Requirement already satisfied: websocket-client in /miniconda/lib/python3.8/site-packages (from jupyter-server<3,>=2.4.0->notebook->rgxlog==0.0.1) (1.6.4)\n",
      "Requirement already satisfied: jupyter-server-terminals in /miniconda/lib/python3.8/site-packages (from jupyter-server<3,>=2.4.0->notebook->rgxlog==0.0.1) (0.4.4)\n",
      "Requirement already satisfied: prometheus-client in /miniconda/lib/python3.8/site-packages (from jupyter-server<3,>=2.4.0->notebook->rgxlog==0.0.1) (0.17.1)\n",
      "Requirement already satisfied: nbconvert>=6.4.4 in /miniconda/lib/python3.8/site-packages (from jupyter-server<3,>=2.4.0->notebook->rgxlog==0.0.1) (7.9.2)\n",
      "Requirement already satisfied: send2trash>=1.8.2 in /miniconda/lib/python3.8/site-packages (from jupyter-server<3,>=2.4.0->notebook->rgxlog==0.0.1) (1.8.2)\n",
      "Requirement already satisfied: jupyter-events>=0.6.0 in /miniconda/lib/python3.8/site-packages (from jupyter-server<3,>=2.4.0->notebook->rgxlog==0.0.1) (0.8.0)\n",
      "Requirement already satisfied: argon2-cffi in /miniconda/lib/python3.8/site-packages (from jupyter-server<3,>=2.4.0->notebook->rgxlog==0.0.1) (23.1.0)\n",
      "Requirement already satisfied: terminado>=0.8.3 in /miniconda/lib/python3.8/site-packages (from jupyter-server<3,>=2.4.0->notebook->rgxlog==0.0.1) (0.17.1)\n",
      "Requirement already satisfied: importlib-resources>=1.4 in /miniconda/lib/python3.8/site-packages (from jupyterlab<5,>=4.0.2->notebook->rgxlog==0.0.1) (6.1.0)\n",
      "Requirement already satisfied: importlib-metadata>=4.8.3 in /miniconda/lib/python3.8/site-packages (from jupyterlab<5,>=4.0.2->notebook->rgxlog==0.0.1) (6.8.0)\n",
      "Requirement already satisfied: async-lru>=1.0.0 in /miniconda/lib/python3.8/site-packages (from jupyterlab<5,>=4.0.2->notebook->rgxlog==0.0.1) (2.0.4)\n",
      "Requirement already satisfied: jupyter-lsp>=2.0.0 in /miniconda/lib/python3.8/site-packages (from jupyterlab<5,>=4.0.2->notebook->rgxlog==0.0.1) (2.2.0)\n",
      "Requirement already satisfied: json5>=0.9.0 in /miniconda/lib/python3.8/site-packages (from jupyterlab-server<3,>=2.22.1->notebook->rgxlog==0.0.1) (0.9.14)\n",
      "Requirement already satisfied: jsonschema>=4.18.0 in /miniconda/lib/python3.8/site-packages (from jupyterlab-server<3,>=2.22.1->notebook->rgxlog==0.0.1) (4.19.1)\n",
      "Requirement already satisfied: babel>=2.10 in /miniconda/lib/python3.8/site-packages (from jupyterlab-server<3,>=2.22.1->notebook->rgxlog==0.0.1) (2.13.1)\n",
      "Requirement already satisfied: ptyprocess>=0.5 in /miniconda/lib/python3.8/site-packages (from pexpect>4.3->ipython>=7.18.1->rgxlog==0.0.1) (0.7.0)\n",
      "Requirement already satisfied: wcwidth in /miniconda/lib/python3.8/site-packages (from prompt-toolkit!=3.0.37,<3.1.0,>=3.0.30->ipython>=7.18.1->rgxlog==0.0.1) (0.2.8)\n",
      "Requirement already satisfied: six>=1.5 in /miniconda/lib/python3.8/site-packages (from python-dateutil>=2.8.2->pandas->rgxlog==0.0.1) (1.16.0)\n",
      "Requirement already satisfied: charset-normalizer<4,>=2 in /miniconda/lib/python3.8/site-packages (from requests->spanner-nlp->rgxlog==0.0.1) (2.0.4)\n",
      "Requirement already satisfied: idna<4,>=2.5 in /miniconda/lib/python3.8/site-packages (from requests->spanner-nlp->rgxlog==0.0.1) (3.4)\n",
      "Requirement already satisfied: certifi>=2017.4.17 in /miniconda/lib/python3.8/site-packages (from requests->spanner-nlp->rgxlog==0.0.1) (2022.12.7)\n",
      "Requirement already satisfied: urllib3<3,>=1.21.1 in /miniconda/lib/python3.8/site-packages (from requests->spanner-nlp->rgxlog==0.0.1) (1.25.8)\n",
      "Requirement already satisfied: wheel<1.0,>=0.23.0 in /miniconda/lib/python3.8/site-packages (from astunparse->nbdev->rgxlog==0.0.1) (0.37.1)\n",
      "Requirement already satisfied: executing>=1.2.0 in /miniconda/lib/python3.8/site-packages (from stack-data->ipython>=7.18.1->rgxlog==0.0.1) (2.0.1)\n",
      "Requirement already satisfied: pure-eval in /miniconda/lib/python3.8/site-packages (from stack-data->ipython>=7.18.1->rgxlog==0.0.1) (0.2.2)\n",
      "Requirement already satisfied: sniffio>=1.1 in /miniconda/lib/python3.8/site-packages (from anyio>=3.1.0->jupyter-server<3,>=2.4.0->notebook->rgxlog==0.0.1) (1.3.0)\n",
      "Requirement already satisfied: zipp>=0.5 in /miniconda/lib/python3.8/site-packages (from importlib-metadata>=4.8.3->jupyterlab<5,>=4.0.2->notebook->rgxlog==0.0.1) (3.17.0)\n",
      "Requirement already satisfied: comm>=0.1.1 in /miniconda/lib/python3.8/site-packages (from ipykernel>=4.5.1->ipywidgets<=8.0.4->nbdev->rgxlog==0.0.1) (0.1.4)\n",
      "Requirement already satisfied: debugpy>=1.6.5 in /miniconda/lib/python3.8/site-packages (from ipykernel>=4.5.1->ipywidgets<=8.0.4->nbdev->rgxlog==0.0.1) (1.8.0)\n",
      "Requirement already satisfied: nest-asyncio in /miniconda/lib/python3.8/site-packages (from ipykernel>=4.5.1->ipywidgets<=8.0.4->nbdev->rgxlog==0.0.1) (1.5.8)\n",
      "Requirement already satisfied: rpds-py>=0.7.1 in /miniconda/lib/python3.8/site-packages (from jsonschema>=4.18.0->jupyterlab-server<3,>=2.22.1->notebook->rgxlog==0.0.1) (0.10.6)\n",
      "Requirement already satisfied: referencing>=0.28.4 in /miniconda/lib/python3.8/site-packages (from jsonschema>=4.18.0->jupyterlab-server<3,>=2.22.1->notebook->rgxlog==0.0.1) (0.30.2)\n",
      "Requirement already satisfied: pkgutil-resolve-name>=1.3.10 in /miniconda/lib/python3.8/site-packages (from jsonschema>=4.18.0->jupyterlab-server<3,>=2.22.1->notebook->rgxlog==0.0.1) (1.3.10)\n",
      "Requirement already satisfied: jsonschema-specifications>=2023.03.6 in /miniconda/lib/python3.8/site-packages (from jsonschema>=4.18.0->jupyterlab-server<3,>=2.22.1->notebook->rgxlog==0.0.1) (2023.7.1)\n",
      "Requirement already satisfied: attrs>=22.2.0 in /miniconda/lib/python3.8/site-packages (from jsonschema>=4.18.0->jupyterlab-server<3,>=2.22.1->notebook->rgxlog==0.0.1) (23.1.0)\n",
      "Requirement already satisfied: platformdirs>=2.5 in /miniconda/lib/python3.8/site-packages (from jupyter-core!=5.0.*,>=4.12->jupyter-server<3,>=2.4.0->notebook->rgxlog==0.0.1) (3.11.0)\n",
      "Requirement already satisfied: rfc3339-validator in /miniconda/lib/python3.8/site-packages (from jupyter-events>=0.6.0->jupyter-server<3,>=2.4.0->notebook->rgxlog==0.0.1) (0.1.4)\n",
      "Requirement already satisfied: python-json-logger>=2.0.4 in /miniconda/lib/python3.8/site-packages (from jupyter-events>=0.6.0->jupyter-server<3,>=2.4.0->notebook->rgxlog==0.0.1) (2.0.7)\n",
      "Requirement already satisfied: rfc3986-validator>=0.1.1 in /miniconda/lib/python3.8/site-packages (from jupyter-events>=0.6.0->jupyter-server<3,>=2.4.0->notebook->rgxlog==0.0.1) (0.1.1)\n",
      "Requirement already satisfied: bleach!=5.0.0 in /miniconda/lib/python3.8/site-packages (from nbconvert>=6.4.4->jupyter-server<3,>=2.4.0->notebook->rgxlog==0.0.1) (6.1.0)\n",
      "Requirement already satisfied: jupyterlab-pygments in /miniconda/lib/python3.8/site-packages (from nbconvert>=6.4.4->jupyter-server<3,>=2.4.0->notebook->rgxlog==0.0.1) (0.2.2)\n",
      "Requirement already satisfied: defusedxml in /miniconda/lib/python3.8/site-packages (from nbconvert>=6.4.4->jupyter-server<3,>=2.4.0->notebook->rgxlog==0.0.1) (0.7.1)\n",
      "Requirement already satisfied: tinycss2 in /miniconda/lib/python3.8/site-packages (from nbconvert>=6.4.4->jupyter-server<3,>=2.4.0->notebook->rgxlog==0.0.1) (1.2.1)\n",
      "Requirement already satisfied: mistune<4,>=2.0.3 in /miniconda/lib/python3.8/site-packages (from nbconvert>=6.4.4->jupyter-server<3,>=2.4.0->notebook->rgxlog==0.0.1) (3.0.2)\n",
      "Requirement already satisfied: beautifulsoup4 in /miniconda/lib/python3.8/site-packages (from nbconvert>=6.4.4->jupyter-server<3,>=2.4.0->notebook->rgxlog==0.0.1) (4.12.2)\n",
      "Requirement already satisfied: nbclient>=0.5.0 in /miniconda/lib/python3.8/site-packages (from nbconvert>=6.4.4->jupyter-server<3,>=2.4.0->notebook->rgxlog==0.0.1) (0.8.0)\n",
      "Requirement already satisfied: pandocfilters>=1.4.1 in /miniconda/lib/python3.8/site-packages (from nbconvert>=6.4.4->jupyter-server<3,>=2.4.0->notebook->rgxlog==0.0.1) (1.5.0)\n",
      "Requirement already satisfied: fastjsonschema in /miniconda/lib/python3.8/site-packages (from nbformat>=5.3.0->jupyter-server<3,>=2.4.0->notebook->rgxlog==0.0.1) (2.18.1)\n",
      "Requirement already satisfied: argon2-cffi-bindings in /miniconda/lib/python3.8/site-packages (from argon2-cffi->jupyter-server<3,>=2.4.0->notebook->rgxlog==0.0.1) (21.2.0)\n",
      "Requirement already satisfied: webencodings in /miniconda/lib/python3.8/site-packages (from bleach!=5.0.0->nbconvert>=6.4.4->jupyter-server<3,>=2.4.0->notebook->rgxlog==0.0.1) (0.5.1)\n",
      "Requirement already satisfied: uri-template in /miniconda/lib/python3.8/site-packages (from jsonschema>=4.18.0->jupyterlab-server<3,>=2.22.1->notebook->rgxlog==0.0.1) (1.3.0)\n",
      "Requirement already satisfied: fqdn in /miniconda/lib/python3.8/site-packages (from jsonschema>=4.18.0->jupyterlab-server<3,>=2.22.1->notebook->rgxlog==0.0.1) (1.5.1)\n",
      "Requirement already satisfied: isoduration in /miniconda/lib/python3.8/site-packages (from jsonschema>=4.18.0->jupyterlab-server<3,>=2.22.1->notebook->rgxlog==0.0.1) (20.11.0)\n",
      "Requirement already satisfied: jsonpointer>1.13 in /miniconda/lib/python3.8/site-packages (from jsonschema>=4.18.0->jupyterlab-server<3,>=2.22.1->notebook->rgxlog==0.0.1) (2.1)\n",
      "Requirement already satisfied: webcolors>=1.11 in /miniconda/lib/python3.8/site-packages (from jsonschema>=4.18.0->jupyterlab-server<3,>=2.22.1->notebook->rgxlog==0.0.1) (1.13)\n",
      "Requirement already satisfied: cffi>=1.0.1 in /miniconda/lib/python3.8/site-packages (from argon2-cffi-bindings->argon2-cffi->jupyter-server<3,>=2.4.0->notebook->rgxlog==0.0.1) (1.15.1)\n",
      "Requirement already satisfied: soupsieve>1.2 in /miniconda/lib/python3.8/site-packages (from beautifulsoup4->nbconvert>=6.4.4->jupyter-server<3,>=2.4.0->notebook->rgxlog==0.0.1) (2.5)\n",
      "Requirement already satisfied: pycparser in /miniconda/lib/python3.8/site-packages (from cffi>=1.0.1->argon2-cffi-bindings->argon2-cffi->jupyter-server<3,>=2.4.0->notebook->rgxlog==0.0.1) (2.21)\n",
      "Requirement already satisfied: arrow>=0.15.0 in /miniconda/lib/python3.8/site-packages (from isoduration->jsonschema>=4.18.0->jupyterlab-server<3,>=2.22.1->notebook->rgxlog==0.0.1) (1.3.0)\n",
      "Requirement already satisfied: types-python-dateutil>=2.8.10 in /miniconda/lib/python3.8/site-packages (from arrow>=0.15.0->isoduration->jsonschema>=4.18.0->jupyterlab-server<3,>=2.22.1->notebook->rgxlog==0.0.1) (2.8.19.14)\n",
      "Building wheels for collected packages: rgxlog\n",
      "  Building wheel for rgxlog (setup.py) ... \u001b[?25ldone\n",
      "\u001b[?25h  Created wheel for rgxlog: filename=rgxlog-0.0.1-py3-none-any.whl size=81151 sha256=b8979051a6250843826d263504502adebb3c94fae655aa360d6ec6a77c5cfefb\n",
      "  Stored in directory: /tmp/pip-ephem-wheel-cache-ni2euz_q/wheels/0c/c3/f1/614798b4fea9e9e48774f9b2b64aa9d1ea29cd772d6f305203\n",
      "Successfully built rgxlog\n",
      "Installing collected packages: rgxlog\n",
      "  Attempting uninstall: rgxlog\n",
      "    Found existing installation: rgxlog 0.0.1\n",
      "    Uninstalling rgxlog-0.0.1:\n",
      "      Successfully uninstalled rgxlog-0.0.1\n",
      "Successfully installed rgxlog-0.0.1\n",
      "\u001b[33mWARNING: Running pip as the 'root' user can result in broken permissions and conflicting behaviour with the system package manager. It is recommended to use a virtual environment instead: https://pip.pypa.io/warnings/venv\u001b[0m\u001b[33m\n",
      "\u001b[0m"
     ]
    }
   ],
   "source": [
    "#| output: false\n",
    "import os\n",
    "!git clone https://github.com/DeanLight/spanner_workbench\n",
    "os.chdir(os.path.join(os.getcwd(),'spanner_workbench'))\n",
    "!pip install ."
   ]
  },
  {
   "cell_type": "markdown",
   "metadata": {},
   "source": [
    "In order to use RGXLog in jupyter notebooks, you must first load it:\n"
   ]
  },
  {
   "cell_type": "code",
   "execution_count": 1,
   "metadata": {},
   "outputs": [],
   "source": [
    "#| output: false\n",
    "import rgxlog  # or `load_ext rgxlog`"
   ]
  },
  {
   "cell_type": "markdown",
   "metadata": {},
   "source": [
    "Importing the RGXLog library automatically loads the `%rgxlog` and `%%rgxlog` cell magics which accepts RGXLog queries as shown below.<br>\n",
    "use %rgxlog to run a single line, and %%rgxlog to run a block of code:"
   ]
  },
  {
   "cell_type": "code",
   "execution_count": null,
   "metadata": {},
   "outputs": [
    {
     "name": "stdout",
     "output_type": "stream",
     "text": [
      "this is python code\n"
     ]
    }
   ],
   "source": [
    "%rgxlog new relation(str)\n",
    "print(\"this is python code\")"
   ]
  },
  {
   "cell_type": "code",
   "execution_count": null,
   "metadata": {},
   "outputs": [
    {
     "name": "stdout",
     "output_type": "stream",
     "text": [
      "printing results for query 'uncle(X, Y)':\n",
      "  X  |  Y\n",
      "-----+------\n",
      " bob | greg\n",
      "\n"
     ]
    }
   ],
   "source": [
    "%%rgxlog\n",
    "new uncle(str, str)\n",
    "uncle(\"bob\", \"greg\")\n",
    "?uncle(X,Y)"
   ]
  },
  {
   "cell_type": "markdown",
   "metadata": {},
   "source": [
    "# Local and free variables<a class=\"anchor\" id=\"local_and_free_vars\"></a>\n",
    "\n",
    "RGXLog distinguishes two kinds of variables.\n",
    "\n",
    "The first kind are local variables. These are variables that store a single value (e.g. string). They work similarly to variables in python. A local variable must be defined via assignment before being used.\n",
    "\n",
    "A local variable name must begin with a lowercase letter or with an underscore (_), and can be continued with letters, digits and underscores\n",
    "\n",
    "Here are some examples for legal local variable names:\n",
    "* `a`\n",
    "* `a_name123`\n",
    "* `_Some_STRING`\n",
    "\n",
    "And here are some illegal local variable names:\n",
    "* `A`\n",
    "* `A_name`\n",
    "* `1_a`\n",
    "\n",
    "\n",
    "The second kind of variables are free variables. Free variables do not hold any value and are used to define relations inside [queries](#queries) and [rules](#rules). Free variables do not need to be declared or defined before being used.\n",
    "\n",
    "A free variable name must begin with an uppercase letter and can be continued with letters, digits and underscores\n",
    "\n",
    "Here are some examples for legal free variable names:\n",
    "* `A`\n",
    "* `A_name`\n",
    "\n",
    "And here are some illegal free variable names:\n",
    "* `a`\n",
    "* `a_name`\n",
    "* `_Some_STRING`\n",
    "* `1A`\n"
   ]
  },
  {
   "cell_type": "markdown",
   "metadata": {},
   "source": [
    "# Local variable assignment<a class=\"anchor\" id=\"local_var_assignment\"></a>\n",
    "RGXLog allows you to use three types of variables: strings, integers and spans.\n",
    "The assignment of a string is intuitive:"
   ]
  },
  {
   "cell_type": "code",
   "execution_count": null,
   "metadata": {},
   "outputs": [],
   "source": [
    "%%rgxlog\n",
    "b = \"bob\"\n",
    "b2 = b #r b2's value is \"bob\"\n",
    "# you can write multiline strings using a line overflow escape like in python\n",
    "b3 = \"this is a multiline  \\\n",
    "string\"\n",
    "b4 = \"this is a multiline string\" # b4 holds the same value as b3"
   ]
  },
  {
   "cell_type": "markdown",
   "metadata": {},
   "source": [
    "The assignment of integers is also very simple:"
   ]
  },
  {
   "cell_type": "code",
   "execution_count": null,
   "metadata": {},
   "outputs": [],
   "source": [
    "%%rgxlog\n",
    "n = 4\n",
    "n2 = n # n2 = 4"
   ]
  },
  {
   "cell_type": "markdown",
   "metadata": {},
   "source": [
    " A span identifies a substring of a string by specifying its bounding indices. It is constructed from two integers.\n",
    " You can assign a span value like this:"
   ]
  },
  {
   "cell_type": "code",
   "execution_count": null,
   "metadata": {},
   "outputs": [],
   "source": [
    "%%rgxlog\n",
    "span1 = [3,7)\n",
    "span2 = span1 # span2 value is [3,7)"
   ]
  },
  {
   "cell_type": "markdown",
   "metadata": {},
   "source": [
    "# Reading from a file<a class=\"anchor\" id=\"read_a_file\"></a>\n",
    "You can also perform a string assignment by reading from a file. You will need to provide a path to a file by either using a string literal or a string variable:"
   ]
  },
  {
   "cell_type": "code",
   "execution_count": null,
   "metadata": {},
   "outputs": [],
   "source": [
    "%%rgxlog\n",
    "a = read(\"README.md\")\n",
    "b = \"README.md\" \n",
    "c = read(b) # c holds the same string value as a"
   ]
  },
  {
   "cell_type": "markdown",
   "metadata": {},
   "source": [
    "# Declaring a relation<a class=\"anchor\" id=\"declare_relations\"></a>\n",
    "RGXLog allows you to define and query relations.\n",
    "You have to declare a relation before you can use it (unless you define it with a rule as we'll see in the \"rules\" chapter). Each term in a relation could be a string, an integer or a span. Here are some examples for declaring relations:"
   ]
  },
  {
   "cell_type": "code",
   "execution_count": null,
   "metadata": {},
   "outputs": [],
   "source": [
    "%%rgxlog\n",
    "# 'brothers' is a relation with two string terms.\n",
    "new brothers(str, str)\n",
    "# 'confused' is a relation with one string term.\n",
    "new confused(str)\n",
    "# 'animal' is a relation with one string term and one span term \n",
    "new animal(str, span)\n",
    "# 'scores' is a relation with one string term and one int term\n",
    "new scores(str, int)"
   ]
  },
  {
   "cell_type": "markdown",
   "metadata": {},
   "source": [
    "Whenever a relation is defined, a corresponding empty table is created in the database. <br>\n",
    "The table has the same name as the relation, and its number of columns is equal to the number of variables in the relation."
   ]
  },
  {
   "cell_type": "markdown",
   "metadata": {},
   "source": [
    "# Facts<a class=\"anchor\" id=\"facts\"></a>\n",
    "RGXLog is an extension of Datalog, a declarative logic programming language. In Datalog you can declare \"facts\", essentially adding tuples to a relation. To do it you use the following syntax:\n",
    "\n",
    "```\n",
    "relation_name(term_1,term_2,...term_3)\n",
    "```\n",
    "\n",
    "or\n",
    "\n",
    "```\n",
    "relation_name(term_1,term_2,...term_3) <- True\n",
    "```\n",
    "\n",
    "where each `term` is either a constant or a local variable that is from the same variable type that was declared for `relation_name` at the same location.\n",
    "\n",
    "For example:"
   ]
  },
  {
   "cell_type": "code",
   "execution_count": null,
   "metadata": {},
   "outputs": [],
   "source": [
    "%%rgxlog\n",
    "# first declare the relation that you want to use\n",
    "new noun(str, span)\n",
    "# now you can add facts (tuples) to that relation\n",
    "# this span indicates that a noun \"Life\" can be found at indexes 0 to 3\n",
    "noun(\"Life finds a way\", [0,4)) \n",
    "# another example\n",
    "new sisters(str, str)\n",
    "sisters(\"alice\", \"rin\") <- True\n",
    "# sisters([0,4), \"rin\") # illegal as [0,4) is not a string"
   ]
  },
  {
   "cell_type": "markdown",
   "metadata": {},
   "source": [
    "You could also remove a fact using a similar syntax:\n",
    "\n",
    "```relation_name(term_1,term_2,...term_3) <- False```\n",
    "\n",
    "if a fact that you try to remove does not exist, the remove fact statement will be silently ignored\n",
    "\n",
    "\n",
    "```python\n",
    "%%rgxlog\n",
    "new goals(str, int)\n",
    "goals(\"kronovi\", 10)\n",
    "goals(\"kronovi\", 10) <- False  # 'goals' relation is now empty\n",
    "goals(\"kronovi\", 10) <- False  # this statement does nothing\n",
    "```"
   ]
  },
  {
   "cell_type": "markdown",
   "metadata": {},
   "source": [
    "When adding or removing facts from a relation, the relation's corresponding table in the database gets updated respectively"
   ]
  },
  {
   "cell_type": "markdown",
   "metadata": {},
   "source": [
    "# Rules<a class=\"anchor\" id=\"rules\"></a>\n",
    "Datalog allows you to deduce new tuples for a relation.\n",
    "RGXLog includes this feature as well:"
   ]
  },
  {
   "cell_type": "code",
   "execution_count": null,
   "metadata": {},
   "outputs": [],
   "source": [
    "%%rgxlog\n",
    "new parent(str ,str)\n",
    "parent(\"bob\", \"greg\")\n",
    "parent(\"greg\", \"alice\")\n",
    "# now add a rule that deduces that bob is a grandparent of alice\n",
    "grandparent(X,Z) <- parent(X,Y), parent(Y,Z) # ',' is a short hand to the 'and' operator"
   ]
  },
  {
   "cell_type": "markdown",
   "metadata": {},
   "source": [
    "RGXLog also supports recursive rules:"
   ]
  },
  {
   "cell_type": "code",
   "execution_count": null,
   "metadata": {},
   "outputs": [
    {
     "name": "stdout",
     "output_type": "stream",
     "text": [
      "printing results for query 'ancestor(\"Liam\", X)':\n",
      "    X\n",
      "----------\n",
      " Benjamin\n",
      "  Mason\n",
      "   Noah\n",
      "  Oliver\n",
      "\n",
      "printing results for query 'ancestor(X, \"Mason\")':\n",
      "    X\n",
      "----------\n",
      " Benjamin\n",
      "   Liam\n",
      "   Noah\n",
      "\n",
      "printing results for query 'ancestor(\"Mason\", X)':\n",
      "[]\n",
      "\n"
     ]
    }
   ],
   "source": [
    "%%rgxlog\n",
    "parent(\"Liam\", \"Noah\")\n",
    "parent(\"Noah\", \"Oliver\")\n",
    "parent(\"James\", \"Lucas\")\n",
    "parent(\"Noah\", \"Benjamin\")\n",
    "parent(\"Benjamin\", \"Mason\")\n",
    "ancestor(X,Y) <- parent(X,Y)\n",
    "# This is a recursive rule\n",
    "ancestor(X,Y) <- parent(X,Z), ancestor(Z,Y)\n",
    "\n",
    "# Queries are explained in the next section\n",
    "?ancestor(\"Liam\", X)\n",
    "?ancestor(X, \"Mason\")\n",
    "?ancestor(\"Mason\", X)"
   ]
  },
  {
   "cell_type": "markdown",
   "metadata": {},
   "source": [
    "You could also remove a rule via the session:\n",
    "\n",
    "```magic_session.remove_rule(rule_to_delete)```\n",
    "\n",
    "note: the rule must be written exactly as it appears in the output of `print_all_rules`"
   ]
  },
  {
   "cell_type": "code",
   "execution_count": null,
   "metadata": {},
   "outputs": [
    {
     "name": "stdout",
     "output_type": "stream",
     "text": [
      "printing results for query 'ancestor(X, Y)':\n",
      "    X     |    Y\n",
      "----------+----------\n",
      " Benjamin |  Mason\n",
      "  Drake   |   Josh\n",
      "  James   |  Lucas\n",
      "   Liam   | Benjamin\n",
      "   Liam   |  Mason\n",
      "   Liam   |   Noah\n",
      "   Liam   |  Oliver\n",
      "   Noah   | Benjamin\n",
      "   Noah   |  Mason\n",
      "   Noah   |  Oliver\n",
      "   bob    |  alice\n",
      "   bob    |   greg\n",
      "   greg   |  alice\n",
      "\n"
     ]
    }
   ],
   "source": [
    "%%rgxlog\n",
    "confused(\"Josh\")\n",
    "brothers(\"Drake\", \"Josh\")\n",
    "\n",
    "# oops! this rule was added by mistake!\n",
    "ancestor(X, Y) <- brothers(X, Y), confused(Y)\n",
    "\n",
    "?ancestor(X,Y)"
   ]
  },
  {
   "cell_type": "code",
   "execution_count": null,
   "metadata": {},
   "outputs": [
    {
     "name": "stdout",
     "output_type": "stream",
     "text": [
      "before:\n",
      "Printing all the rules:\n",
      "\t1. grandparent(X, Z) <- parent(X, Y), parent(Y, Z)\n",
      "\t2. ancestor(X, Y) <- parent(X, Y)\n",
      "\t3. ancestor(X, Y) <- parent(X, Z), ancestor(Z, Y)\n",
      "\t4. ancestor(X, Y) <- brothers(X, Y), confused(Y)\n",
      "after:\n",
      "Printing all the rules:\n",
      "\t1. grandparent(X, Z) <- parent(X, Y), parent(Y, Z)\n",
      "\t2. ancestor(X, Y) <- parent(X, Y)\n",
      "\t3. ancestor(X, Y) <- parent(X, Z), ancestor(Z, Y)\n"
     ]
    }
   ],
   "source": [
    "from rgxlog import magic_session\n",
    "# remove the rule from the current session\n",
    "print (\"before:\")\n",
    "magic_session.print_all_rules()\n",
    "\n",
    "magic_session.remove_rule(\"ancestor(X, Y) <- brothers(X, Y), confused(Y)\")\n",
    "\n",
    "print (\"after:\")\n",
    "magic_session.print_all_rules()"
   ]
  },
  {
   "cell_type": "code",
   "execution_count": null,
   "metadata": {},
   "outputs": [
    {
     "name": "stdout",
     "output_type": "stream",
     "text": [
      "printing results for query 'ancestor(X, Y)':\n",
      "    X     |    Y\n",
      "----------+----------\n",
      " Benjamin |  Mason\n",
      "  James   |  Lucas\n",
      "   Liam   | Benjamin\n",
      "   Liam   |  Mason\n",
      "   Liam   |   Noah\n",
      "   Liam   |  Oliver\n",
      "   Noah   | Benjamin\n",
      "   Noah   |  Mason\n",
      "   Noah   |  Oliver\n",
      "   bob    |  alice\n",
      "   bob    |   greg\n",
      "   greg   |  alice\n",
      "\n"
     ]
    }
   ],
   "source": [
    "%%rgxlog\n",
    "?ancestor(X,Y)"
   ]
  },
  {
   "cell_type": "markdown",
   "metadata": {},
   "source": [
    "success! the rule was deleted - Drake and Josh are no longer part of the `?ancestor` query result"
   ]
  },
  {
   "cell_type": "markdown",
   "metadata": {},
   "source": [
    "Note that during this examples we used `print_all_rules`.<br>\n",
    "This function prints all the registered rules.<br>\n",
    "If you wan't to print only rules that relevant to spesific rule head, you can pass the rule head as a parameter."
   ]
  },
  {
   "cell_type": "code",
   "execution_count": null,
   "metadata": {},
   "outputs": [
    {
     "name": "stdout",
     "output_type": "stream",
     "text": [
      "Printing all the rules with head ancestor:\n",
      "\t1. ancestor(X, Y) <- parent(X, Y)\n",
      "\t2. ancestor(X, Y) <- parent(X, Z), ancestor(Z, Y)\n"
     ]
    }
   ],
   "source": [
    "magic_session.print_all_rules(\"ancestor\")"
   ]
  },
  {
   "cell_type": "markdown",
   "metadata": {},
   "source": [
    "In addition you can use `remove_all_rules` to remove all the rules (it won't affect the facts).<br>\n",
    "You can pass rule head paraemetr to remove all the rules related to it."
   ]
  },
  {
   "cell_type": "code",
   "execution_count": null,
   "metadata": {},
   "outputs": [
    {
     "name": "stdout",
     "output_type": "stream",
     "text": [
      "after removing ancestor rules:\n",
      "Printing all the rules:\n",
      "\t1. grandparent(X, Z) <- parent(X, Y), parent(Y, Z)\n",
      "after removing all rules:\n",
      "Printing all the rules:\n",
      "printing results for query 'parent(X, Y)':\n",
      "    X     |    Y\n",
      "----------+----------\n",
      "   bob    |   greg\n",
      "   greg   |  alice\n",
      "   Liam   |   Noah\n",
      "   Noah   |  Oliver\n",
      "  James   |  Lucas\n",
      "   Noah   | Benjamin\n",
      " Benjamin |  Mason\n",
      "\n"
     ]
    }
   ],
   "source": [
    "magic_session.remove_all_rules(\"ancestor\")\n",
    "print(\"after removing ancestor rules:\")\n",
    "magic_session.print_all_rules()\n",
    "\n",
    "magic_session.remove_all_rules()\n",
    "print(\"after removing all rules:\")\n",
    "magic_session.print_all_rules()\n",
    "\n",
    "# facts are not affected...\n",
    "%rgxlog ?parent(X, Y)"
   ]
  },
  {
   "cell_type": "markdown",
   "metadata": {},
   "source": [
    "# Queries<a class=\"anchor\" id=\"queries\"></a>\n",
    "A query is essentially a way to retrieve specific information from a dataset. <br>\n",
    "querying in rgxlog uses the same synatx and semantics as DataLog. <br>\n",
    "Under said semantics, we try to find all instantiations of free variables that satisfy the queried relation.\n",
    "\n",
    "You can query by using constant values, local variables and free variables:"
   ]
  },
  {
   "cell_type": "code",
   "execution_count": null,
   "metadata": {},
   "outputs": [
    {
     "name": "stdout",
     "output_type": "stream",
     "text": [
      "printing results for query 'grandfather(\"bob\", \"alice\")':\n",
      "[()]\n",
      "\n",
      "printing results for query 'grandfather(\"edward\", \"alice\")':\n",
      "[]\n",
      "\n",
      "printing results for query 'grandfather(\"george\", X)':\n",
      "   X\n",
      "-------\n",
      " alice\n",
      "  rin\n",
      "\n",
      "printing results for query 'grandfather(X, \"rin\")':\n",
      "   X\n",
      "--------\n",
      "  bob\n",
      " george\n",
      "\n",
      "printing results for query 'grandfather(X, Y)':\n",
      "   X    |   Y\n",
      "--------+-------\n",
      "  bob   | alice\n",
      "  bob   |  rin\n",
      " george | alice\n",
      " george |  rin\n",
      " edward | john\n",
      "\n",
      "printing results for query 'verb(\"Ron eats quickly.\", X)':\n",
      "   X\n",
      "--------\n",
      " [4, 8)\n",
      "\n",
      "printing results for query 'verb(X, [4, 9))':\n",
      "         X\n",
      "-------------------\n",
      " You write neatly.\n",
      "\n",
      "printing results for query 'orders(X, 4)':\n",
      "   X\n",
      "-------\n",
      "  pie\n",
      " pizza\n",
      "\n"
     ]
    }
   ],
   "source": [
    "%%rgxlog\n",
    "# first create a relation with some facts for the example\n",
    "new grandfather(str, str)\n",
    "# bob and george are the grandfathers of alice and rin\n",
    "grandfather(\"bob\", \"alice\")\n",
    "grandfather(\"bob\", \"rin\")\n",
    "grandfather(\"george\", \"alice\")\n",
    "grandfather(\"george\", \"rin\")\n",
    "# edward is the grandfather of john\n",
    "grandfather(\"edward\", \"john\")\n",
    "\n",
    "# now for the queries\n",
    "?grandfather(\"bob\", \"alice\") # returns an empty tuple () as alice is bob's grandchild\n",
    "?grandfather(\"edward\", \"alice\") # returns nothing as alice is not edward's grandchild\n",
    "?grandfather(\"george\", X) # returns \"rin\" and \"alice\" as both rin\n",
    "# and alice are george's grandchildren\n",
    "?grandfather(X, \"rin\") # returns \"bob\" and \"george\" (rin's grandfathers)\n",
    "?grandfather(X, Y) # returns all the tuples in the 'grandfather' relation\n",
    "\n",
    "new verb(str, span)\n",
    "verb(\"Ron eats quickly.\", [4,8))\n",
    "verb(\"You write neatly.\", [4,9))\n",
    "?verb(\"Ron eats quickly.\", X) # returns [4,8)\n",
    "?verb(X,[4,9)) # returns \"You write neatly.\"\n",
    "         \n",
    "new orders(str, int)\n",
    "orders(\"pie\", 4)\n",
    "orders(\"pizza\", 4)\n",
    "orders(\"cake\", 0)\n",
    "?orders(X, 4) # retutns \"pie\" and \"pizza\"         "
   ]
  },
  {
   "cell_type": "markdown",
   "metadata": {},
   "source": [
    "You may have noticed that the query\n",
    "\n",
    "```\n",
    "?grandfather(\"bob\", \"alice\")\n",
    "```\n",
    "\n",
    "returns an empty tuple. This is because of the fact that bob is alice's grandfather is true,\n",
    "our query has no free variables, which means it asks a specific factual question about the dataset. If the query is true, it means the specified condition exists in the dataset. If false, it means the condition does not exist.\n",
    "And this is why if we have a query with no free variables, we get an empty set of instantiations if its true and no such set if its false.\n",
    "\n",
    "A good example for using free variables to construct a relation is the query:\n",
    "\n",
    "```\n",
    "?grandfather(\"george\", X)\n",
    "```\n",
    "\n",
    "which finds all of george's grandchildren (`X`) and constructs a tuple for each one."
   ]
  },
  {
   "cell_type": "markdown",
   "metadata": {},
   "source": [
    "### How Rules and Queries are saved in the database?\n",
    "\n",
    "Unlike facts, which are immediately stored in the database upon their creation, rules are not computed and added to the database upon declaration. Instead, the logic of a rule is saved separately and is only evaluated when needed (lazy evaluation). When a query is made, the engine utilizes these rules to derive all potential solutions from the existing facts that would fulfill the query.\n"
   ]
  },
  {
   "cell_type": "markdown",
   "metadata": {},
   "source": [
    "# Using IE Functions"
   ]
  },
  {
   "cell_type": "markdown",
   "metadata": {},
   "source": [
    "## Functional regex formulas<a class=\"anchor\" id=\"RGX_ie\"></a>\n",
    "RGXLog contains IE functions which are registered by default.\n",
    "Let's go over a couple regex IE functions:\n",
    "\n",
    "\n",
    "```\n",
    "rgx_span(regex_input ,regex_formula)->(x_1, x_2, ...,x_n)\n",
    "```\n",
    "\n",
    "and\n",
    "\n",
    "```\n",
    "rgx_string(regex_input ,regex_formula)->(x_1, x_2, ...,x_n)\n",
    "```\n",
    "\n",
    "where:\n",
    "* `regex_input` is the string that the regex operation will be performed on\n",
    "* `regex_formula` is either a string literal or a string variable that represents your regular expression.\n",
    "* `x_1`, `x_2`, ... `x_n` can be either constant terms or free variable terms. They're used to construct the tuples of the resulting relation. the number of terms has to be the same as the number of capture groups used in `regex_formula`. If not capture groups are used, then each returned tuple includes a single, whole regex match, so only one term should be used.\n",
    "\n",
    "The only difference between the `rgx_span` and `rgx_string` ie functions, is that rgx_string returns strings, while rgx_span returns the spans of those strings. This also means that if you want to use constant terms as return values, they have to be spans if you use `rgx_span`, and strings if you use `rgx_string`\n",
    "\n",
    "For example consider the following rgxlog code:"
   ]
  },
  {
   "cell_type": "code",
   "execution_count": null,
   "metadata": {},
   "outputs": [
    {
     "name": "stdout",
     "output_type": "stream",
     "text": [
      "printing results for query 'age(X, Y)':\n",
      "     X      |   Y\n",
      "------------+-----\n",
      "  John Doe  |  35\n",
      " Jane Smith |  28\n",
      "\n",
      "printing results for query 'age_span(X, Y)':\n",
      "    X     |    Y\n",
      "----------+----------\n",
      "  [0, 8)  | [10, 12)\n",
      " [24, 34) | [36, 38)\n",
      "\n"
     ]
    }
   ],
   "source": [
    "%%rgxlog\n",
    "input_string = \"John Doe: 35 years old, Jane Smith: 28 years old\"\n",
    "regex_pattern = \"(\\w+\\s\\w+):\\s(\\d+)\"\n",
    "\n",
    "age(X,Y) <- py_rgx_string(input_string, regex_pattern) -> (X,Y)\n",
    "age_span(X,Y) <- py_rgx_span(input_string, regex_pattern) -> (X,Y)\n",
    "?age(X,Y)\n",
    "?age_span(X,Y)"
   ]
  },
  {
   "cell_type": "markdown",
   "metadata": {},
   "source": [
    "The variables X,Y in the output of the above ie functions are the matches of the capture groups used in the regex_pattern. <br>\n",
    "capture groups allow us to extract specific parts of a matched pattern in a text using regular expressions. <br>\n",
    "When you define a regular expression pattern with parentheses (), you create a capturing group"
   ]
  },
  {
   "cell_type": "markdown",
   "metadata": {},
   "source": [
    "## Creating and Registering a New IE Function<a class=\"anchor\" id=\"custom_ie\"></a>"
   ]
  },
  {
   "cell_type": "markdown",
   "metadata": {},
   "source": [
    "Using regex is nice, but what if you want to define your own IE function? <br>\n",
    "RGXLog allows you to define and use your own information extraction functions. You can use them only in rule bodies in the current version. The following is the syntax for custom IE functions:\n",
    "\n",
    "```\n",
    "func(term_1,term_2,...term_n)->(x_1, x_2, ..., x_n)\n",
    "```\n",
    "\n",
    "where:\n",
    "* `func` is a IE function that was previously defined and registered (see the 'advanced_usage' tutorial)\n",
    "* `term_1`,`term_2`,...,`term_n` are the parameters for func\n",
    "* `x_1`, ... `x_n` could be any type of terms, and are used to construct tuples of the resulting relation\n",
    "\n",
    "For example:"
   ]
  },
  {
   "cell_type": "markdown",
   "metadata": {},
   "source": [
    "### IE function `get_happy`"
   ]
  },
  {
   "cell_type": "code",
   "execution_count": null,
   "metadata": {},
   "outputs": [],
   "source": [
    "import re\n",
    "from rgxlog.primitive_types import DataTypes\n",
    "\n",
    "# the function itself, which should yield an iterable of primitive types\n",
    "def get_happy(text):\n",
    "    \"\"\"\n",
    "    get the names of people who are happy in `text`\n",
    "    \"\"\"\n",
    "    compiled_rgx = re.compile(\"(\\w+) is happy\")\n",
    "    num_groups = compiled_rgx.groups\n",
    "    for match in re.finditer(compiled_rgx, text):\n",
    "        if num_groups == 0:\n",
    "            matched_strings = [match.group()]\n",
    "        else:\n",
    "            matched_strings = [group for group in match.groups()]\n",
    "        yield matched_strings\n",
    "\n",
    "# the input types, a list of primitive types\n",
    "get_happy_in_types = [DataTypes.string]\n",
    "\n",
    "# the output types, either a list of primitive types or a method which expects an arity\n",
    "get_happy_out_types = lambda arity : arity * [DataTypes.string]\n",
    "# or: `get_happy_out_types = [DataTypes.string]`\n",
    "\n",
    "# finally, register the function\n",
    "magic_session.register(ie_function=get_happy,\n",
    "                       ie_function_name = \"get_happy\",\n",
    "                       in_rel=get_happy_in_types,\n",
    "                       out_rel=get_happy_out_types)"
   ]
  },
  {
   "cell_type": "markdown",
   "metadata": {},
   "source": [
    "You may have noticed that when we register a custom ie function, we use `yield` instead of `return`, <br>\n",
    "and that is because part of making spanner based database systems more performant and memory efficient is to do lazy evaluation, <br>\n",
    "since building iterators in python is very simple using the generator pattern, we made the ie functions into generators to allow ie functions to also be as lazy as their author desires."
   ]
  },
  {
   "cell_type": "markdown",
   "metadata": {},
   "source": [
    "### custom IE using `get_happy`"
   ]
  },
  {
   "cell_type": "code",
   "execution_count": null,
   "metadata": {},
   "outputs": [
    {
     "name": "stdout",
     "output_type": "stream",
     "text": [
      "printing results for query 'happy_grandmother(X)':\n",
      "  X\n",
      "-----\n",
      " rin\n",
      "\n"
     ]
    }
   ],
   "source": [
    "%%rgxlog\n",
    "new grandmother(str, str)\n",
    "grandmother(\"rin\", \"alice\")\n",
    "grandmother(\"denna\", \"joel\")\n",
    "sentence = \"rin is happy, denna is sad.\"\n",
    "# note that this statement will fail as 'get_happy' is not registered as an ie_function\n",
    "happy_grandmother(X) <- grandmother(X,Z),get_happy(sentence)->(X)\n",
    "?happy_grandmother(X) # assuming get_happy returned \"rin\", also returns \"rin\""
   ]
  },
  {
   "cell_type": "markdown",
   "metadata": {},
   "source": [
    "## More information about IE functions\n",
    "* You can remove an IE function via the session:\n",
    "\n",
    "```magic_session.remove_ie_function(ie_function_name)```\n",
    "\n",
    "* If you want to remove all the registered ie functions:\n",
    "\n",
    "```magic_session.remove_all_ie_functions()```\n",
    "\n",
    "* If you register an IE function with a name that was already registered before, the old IE function will be overwitten by the new one. \n",
    "<br><br>\n",
    "* You can inspect all the registered IE functions using the following command:\n",
    "\n",
    "```magic_session.print_registered_ie_functions()```\n",
    "\n",
    "```python\n",
    "# first, let's print all functions:\n",
    "magic_session.print_registered_ie_functions()\n",
    "```"
   ]
  },
  {
   "cell_type": "markdown",
   "metadata": {},
   "source": [
    "another tremendous triumph! Coref was deleted from the registered functions"
   ]
  },
  {
   "cell_type": "markdown",
   "metadata": {},
   "source": [
    "# Additional small features<a class=\"anchor\" id=\"small_features\"></a>\n",
    "You can use line overflow escapes if you want to split your statements into multiple lines\n",
    "\n",
    "```python pycharm={\"name\": \"#%%\\n\"}\n",
    "%%rgxlog\n",
    "k \\\n",
    "= \"some \\\n",
    "string\"\n",
    "```\n",
    "\n",
    "# RGXLog program example<a class=\"anchor\" id=\"example_program\"></a>"
   ]
  },
  {
   "cell_type": "code",
   "execution_count": null,
   "metadata": {},
   "outputs": [],
   "source": [
    "import rgxlog"
   ]
  },
  {
   "cell_type": "code",
   "execution_count": null,
   "metadata": {},
   "outputs": [
    {
     "name": "stdout",
     "output_type": "stream",
     "text": [
      "printing results for query 'enrolled_in_chemistry(\"jordan\")':\n",
      "[()]\n",
      "\n",
      "printing results for query 'enrolled_in_chemistry(\"gale\")':\n",
      "[]\n",
      "\n",
      "printing results for query 'enrolled_in_chemistry(X)':\n",
      "    X\n",
      "---------\n",
      " abigail\n",
      " jordan\n",
      " howard\n",
      "\n",
      "printing results for query 'enrolled_in_physics_and_chemistry(X)':\n",
      "   X\n",
      "--------\n",
      " howard\n",
      "\n",
      "printing results for query 'lecturer_of(X, \"abigail\")':\n",
      "   X\n",
      "--------\n",
      " walter\n",
      " linus\n",
      "\n",
      "printing results for query 'grade_of_chemistry_students(X, \"100\")':\n",
      "    X\n",
      "---------\n",
      " abigail\n",
      "\n"
     ]
    }
   ],
   "source": [
    "%%rgxlog\n",
    "new lecturer(str, str)\n",
    "lecturer(\"walter\", \"chemistry\")\n",
    "lecturer(\"linus\", \"operation systems\")\n",
    "lecturer(\"rick\", \"physics\")\n",
    "\n",
    "new enrolled(str, str)\n",
    "enrolled(\"abigail\", \"chemistry\")\n",
    "enrolled(\"abigail\", \"operation systems\")\n",
    "enrolled(\"jordan\", \"chemistry\")\n",
    "enrolled(\"gale\", \"operation systems\")\n",
    "enrolled(\"howard\", \"chemistry\")\n",
    "enrolled(\"howard\", \"physics\")\n",
    "\n",
    "enrolled_in_chemistry(X) <- enrolled(X, \"chemistry\")\n",
    "?enrolled_in_chemistry(\"jordan\") # returns empty tuple ()\n",
    "?enrolled_in_chemistry(\"gale\") # returns nothing\n",
    "?enrolled_in_chemistry(X) # returns \"abigail\", \"jordan\" and \"howard\"\n",
    "\n",
    "enrolled_in_physics_and_chemistry(X) <- enrolled_in_chemistry(X), enrolled(X, \"physics\")\n",
    "?enrolled_in_physics_and_chemistry(X) # returns \"howard\"\n",
    "\n",
    "lecturer_of(X,Z) <- lecturer(X,Y), enrolled(Z,Y)\n",
    "?lecturer_of(X,\"abigail\") # returns \"walter\" and \"linus\"\n",
    "\n",
    "grade_str = \"abigail 100 jordan 80 gale 79 howard 60\"\n",
    "grade_of_chemistry_students(Student, Grade) <- \\\n",
    "py_rgx_string(grade_str, \"(\\w+).*?(\\d+)\")->(Student, Grade), enrolled_in_chemistry(Student)\n",
    "?grade_of_chemistry_students(X, \"100\") # returns \"abigail\""
   ]
  },
  {
   "cell_type": "markdown",
   "metadata": {},
   "source": [
    "# Useful tricks<a class=\"anchor\" id=\"Usefull tricks\"></a>\n",
    "## Matching Outputs:\n",
    "Let's write a rgxlog program that gets a table in which each row is a single string - string(str).\n",
    "<br>\n",
    "The program will create a new table in which each row is a string and its length.\n",
    "\n",
    "### First try:"
   ]
  },
  {
   "cell_type": "code",
   "execution_count": null,
   "metadata": {},
   "outputs": [],
   "source": [
    "# Step 1: implement an IE function\n",
    "def length(string):\n",
    "    #here we append the input to the output inside the ie function!\n",
    "    yield len(string), string\n",
    "\n",
    "magic_session.register(length, \"Length\", [DataTypes.string], [DataTypes.integer, DataTypes.string])\n"
   ]
  },
  {
   "cell_type": "code",
   "execution_count": null,
   "metadata": {},
   "outputs": [
    {
     "name": "stdout",
     "output_type": "stream",
     "text": [
      "printing results for query 'string_length(Str, Len)':\n",
      "  Str  |   Len\n",
      "-------+-------\n",
      "   a   |     1\n",
      "  ab   |     2\n",
      "  abc  |     3\n",
      " abcd  |     4\n",
      "\n"
     ]
    }
   ],
   "source": [
    "%%rgxlog\n",
    "# Let's test this solution:\n",
    "new string(str)\n",
    "string(\"a\")\n",
    "string(\"ab\")\n",
    "string(\"abc\")\n",
    "string(\"abcd\")\n",
    "\n",
    "string_length(Str, Len) <- string(Str), Length(Str) -> (Len, Str)\n",
    "?string_length(Str, Len)"
   ]
  },
  {
   "cell_type": "markdown",
   "metadata": {},
   "source": [
    "### It works\n",
    "Our first IE function yield the input in addition to the output. This will ensure that we will get\n",
    "the right output to his input. But, is this really necessary? Let's try another solution:\n"
   ]
  },
  {
   "cell_type": "code",
   "execution_count": null,
   "metadata": {},
   "outputs": [],
   "source": [
    "#here we don't append the input to the output inside the ie function!\n",
    "def length2(string):\n",
    "   yield len(string),\n",
    "\n",
    "# Step 2: register the function\n",
    "magic_session.register(length2, \"Length2\", [DataTypes.string], [DataTypes.integer])"
   ]
  },
  {
   "cell_type": "code",
   "execution_count": null,
   "metadata": {},
   "outputs": [
    {
     "name": "stdout",
     "output_type": "stream",
     "text": [
      "printing results for query 'string_length(Str, Len)':\n",
      "  Str  |   Len\n",
      "-------+-------\n",
      "   a   |     1\n",
      "  ab   |     2\n",
      "  abc  |     3\n",
      " abcd  |     4\n",
      "\n"
     ]
    }
   ],
   "source": [
    "%%rgxlog\n",
    "# Let's test this solution:\n",
    "new rel(str)\n",
    "rel(\"a\")\n",
    "rel(\"ab\")\n",
    "rel(\"abc\")\n",
    "rel(\"abcd\")\n",
    "\n",
    "string_length(Str, Len) <- rel(Str), Length2(Str) -> (Len)\n",
    "?string_length(Str, Len)"
   ]
  },
  {
   "cell_type": "markdown",
   "metadata": {},
   "source": [
    "### It looks good, but why?\n",
    "First we can see that the IE function yield only an output without any trace to the input. In addition, RGXLog stores all the inputs of each IE function in an input table and all the outputs in an output table.\n",
    "Then it's joining the input table with the output table. So, why we still got the right solution?\n",
    "This thanks to the fact that RGXlog stores the input bounded to it's output deductively.\n",
    "\n",
    "\n",
    "\n",
    "## Logical Operators:\n",
    "Suppose we have a table in which each row contains two strings - pair(str, str).\n",
    "Our goal is to filter all the rows that contain the same value twice.\n",
    "<br>\n",
    "In other words, we want to implement the relation **not equals (NEQ)**.\n",
    "\n",
    "We would like to have a rule such as:\n",
    "<br>\n",
    "```unique_pair(X, Y) <- pair(X, Y), X != Y```\n",
    "<br><br>\n",
    "Unfortunately RGXLog doesn't support True/False values. Therefore, we can't use ```X != Y```.\n",
    "<br>\n",
    "Our solution to this problem is to create an ie function that implements NEQ relation:"
   ]
  },
  {
   "cell_type": "code",
   "execution_count": null,
   "metadata": {},
   "outputs": [],
   "source": [
    "def NEQ(x, y):\n",
    "    if x == y:\n",
    "        # return false (empty tuple represents false)\n",
    "        yield tuple() \n",
    "    else:\n",
    "        #return true\n",
    "        yield x, y\n",
    "\n",
    "in_out_types = [DataTypes.string, DataTypes.string]\n",
    "magic_session.register(NEQ, \"NEQ\", in_out_types, in_out_types)"
   ]
  },
  {
   "cell_type": "code",
   "execution_count": null,
   "metadata": {},
   "outputs": [
    {
     "name": "stdout",
     "output_type": "stream",
     "text": [
      "printing results for query 'unique_pair(X, Y)':\n",
      "  X  |  Y\n",
      "-----+-----\n",
      " Dan | Tom\n",
      " Cat | Dog\n",
      " 123 | 321\n",
      "\n"
     ]
    }
   ],
   "source": [
    "%%rgxlog\n",
    "#Lets test this solution\n",
    "new pair(str, str)\n",
    "pair(\"Dan\", \"Tom\")\n",
    "pair(\"Cat\", \"Dog\")\n",
    "pair(\"Apple\", \"Apple\")\n",
    "pair(\"Cow\", \"Cow\")\n",
    "pair(\"123\", \"321\")\n",
    "\n",
    "unique_pair(X, Y) <- pair(X, Y), NEQ(X, Y) -> (X, Y)\n",
    "?unique_pair(X, Y)"
   ]
  },
  {
   "cell_type": "markdown",
   "metadata": {},
   "source": [
    "# Python Implementation v.s. RgxLog Implementation"
   ]
  },
  {
   "cell_type": "markdown",
   "metadata": {},
   "source": [
    "let's try to compare coding in python and coding in rgxlog.\n",
    "we are given two long strings of enrolled pairs, grades pairs.\n",
    "our goal is to find all student that are enrolled in biology and chemistry, and have a GPA = 80."
   ]
  },
  {
   "cell_type": "markdown",
   "metadata": {},
   "source": [
    "## python "
   ]
  },
  {
   "cell_type": "code",
   "execution_count": null,
   "metadata": {},
   "outputs": [
    {
     "name": "stdout",
     "output_type": "stream",
     "text": [
      "dave\n"
     ]
    }
   ],
   "source": [
    "import re\n",
    "enrolled = \"dave chemistry dave biology rem biology ram biology emilia physics roswaal chemistry roswaal biology roswaal physics\"\n",
    "grades = \"dave 80 rem 66 ram 66 roswaal 100 emilia 88\"\n",
    "\n",
    "enrolled_pairs = re.findall(r\"(\\w+).*?(\\w+)\", enrolled)\n",
    "grade_pairs = re.findall(r\"(\\w+).*?(\\d+)\", grades)\n",
    "for student1, course1 in enrolled_pairs:\n",
    "    for student2, course2 in enrolled_pairs:\n",
    "        for student3, grade in grade_pairs:\n",
    "            if (student1 == student2 == student3):\n",
    "                if (course1 == \"biology\" and course2 == \"chemistry\" and int(grade) == 80):\n",
    "                    print(student1)"
   ]
  },
  {
   "cell_type": "markdown",
   "metadata": {},
   "source": [
    "## rgxlog"
   ]
  },
  {
   "cell_type": "code",
   "execution_count": null,
   "metadata": {},
   "outputs": [
    {
     "name": "stdout",
     "output_type": "stream",
     "text": [
      "printing results for query 'interesting_student(X)':\n",
      "  X\n",
      "------\n",
      " dave\n",
      "\n"
     ]
    }
   ],
   "source": [
    "%%rgxlog\n",
    "enrolled = \"dave chemistry dave biology rem biology ram biology emilia physics roswaal chemistry roswaal biology roswaal physics\"\n",
    "grades = \"dave 80 rem 66 ram 66 roswaal 100 emilia 88\"\n",
    "\n",
    "enrolled_in(Student, Course) <- py_rgx_string(enrolled, \"(\\w+).*?(\\w+)\")->(Student, Course)\n",
    "student_grade(Student, Grade) <- py_rgx_string(grades, \"(\\w+).*?(\\d+)\") -> (Student, Grade)\n",
    "interesting_student(X) <- enrolled_in(X, \"biology\"), enrolled_in(X, \"chemistry\"), student_grade(X, \"80\")\n",
    "?interesting_student(X)"
   ]
  },
  {
   "cell_type": "markdown",
   "metadata": {},
   "source": [
    "in this case, the python implementation was long and unnatural. on the other hand, the rgxlog implementation was cleaner and allowed us to express our intentions directly, rather than dealing with annoying programming logic."
   ]
  },
  {
   "cell_type": "markdown",
   "metadata": {},
   "source": [
    "# Parsing JSON document using RgxLog"
   ]
  },
  {
   "cell_type": "markdown",
   "metadata": {},
   "source": [
    "Rgxlog's JsonPath/JsonFullPath ie functions allow us to easily parse json documents using path expressions.<br>\n",
    "We will demonstrate how to use the latter. Check out the [jsonpath repo](https://github.com/json-path/JsonPath) for more information.\n",
    "\n",
    "First, we would like to remove the built-in jsonpath function, to show how we implement it from scratch:"
   ]
  },
  {
   "cell_type": "code",
   "execution_count": null,
   "metadata": {},
   "outputs": [],
   "source": [
    "magic_session.remove_ie_function(\"JsonPathFull\")"
   ]
  },
  {
   "cell_type": "markdown",
   "metadata": {},
   "source": [
    "After removing the function, implementing and registering it is as easy as:"
   ]
  },
  {
   "cell_type": "code",
   "execution_count": null,
   "metadata": {},
   "outputs": [],
   "source": [
    "import json\n",
    "from jsonpath_ng import parse\n",
    "\n",
    "def parse_match(match) -> str:\n",
    "    \"\"\"\n",
    "    @param match: a match result of json path query.\n",
    "    @return: a string that represents the match in string format.\n",
    "    \"\"\"\n",
    "    json_result = match.value\n",
    "    if type(json_result) != str:\n",
    "        # we replace for the same reason as in json_path implementation.\n",
    "        json_result = json.dumps(json_result).replace(\"\\\"\", \"'\")\n",
    "    return json_result\n",
    "\n",
    "def json_path_full(json_document: str, path_expression: str):\n",
    "    \"\"\"\n",
    "    @param json_document: The document on which we will run the path expression.\n",
    "    @param path_expression: The query to execute.\n",
    "    @return: json documents with the full results paths.\n",
    "    \"\"\"\n",
    "    json_document = json.loads(json_document.replace(\"'\", \"\\\"\"))\n",
    "    jsonpath_expr = parse(path_expression)\n",
    "    for match in jsonpath_expr.find(json_document):\n",
    "        json_result = str(match.full_path)\n",
    "        # objects in full path are separated by dots.\n",
    "        yield *json_result.split(\".\"), parse_match(match)\n",
    "\n",
    "JsonPathFull = dict(ie_function=json_path_full,\n",
    "            ie_function_name='JsonPathFull',\n",
    "            in_rel=[DataTypes.string, DataTypes.string],\n",
    "            out_rel=lambda arity: [DataTypes.string] * arity,\n",
    "            )\n",
    "\n",
    "magic_session.register(**JsonPathFull)"
   ]
  },
  {
   "cell_type": "markdown",
   "metadata": {},
   "source": [
    "And now for the usage. <br>\n",
    "Suppose we have a json document of the following format {student: {subject: grade, ...} ,...} <br>\n",
    "We want to create a rglox relation containing tuples of (student, subject, grade)."
   ]
  },
  {
   "cell_type": "code",
   "execution_count": null,
   "metadata": {},
   "outputs": [
    {
     "name": "stdout",
     "output_type": "stream",
     "text": [
      "printing results for query 'json_table(Student, Subject, Grade)':\n",
      "  Student  |      Subject      |   Grade\n",
      "-----------+-------------------+---------\n",
      "  abigail  |     chemistry     |      80\n",
      "  abigail  | operation systems |      99\n",
      "  jordan   |     chemistry     |      65\n",
      "  jordan   |      physics      |      70\n",
      "   gale    | operation systems |     100\n",
      "  howard   |     chemistry     |      90\n",
      "  howard   |      physics      |      91\n",
      "  howard   |      biology      |      92\n",
      "\n"
     ]
    }
   ],
   "source": [
    "%%rgxlog\n",
    "\n",
    "# we use strings, as RgxLog doesn't support dicts.\n",
    "json_string = \"{ \\\n",
    "                'abigail': {'chemistry': 80, 'operation systems': 99}, \\\n",
    "                'jordan':  {'chemistry': 65, 'physics': 70}, \\\n",
    "                'gale':    {'operation systems': 100}, \\\n",
    "                'howard':  {'chemistry': 90, 'physics':91, 'biology':92} \\\n",
    "                }\"\n",
    "\n",
    "# path expression is the path to the key of each grade (in our simple case it's *.*)\n",
    "# then JsonPathFull appends the full path to the value\n",
    "json_table(Student, Subject, Grade) <- JsonPathFull(json_string, \"*.*\") -> (Student, Subject, Grade)\n",
    "?json_table(Student, Subject, Grade)"
   ]
  }
 ],
 "metadata": {
  "jupytext": {
   "formats": "ipynb,md"
  },
  "kernelspec": {
   "display_name": "python3",
   "language": "python",
   "name": "python3"
  },
  "language_info": {
   "codemirror_mode": {
    "name": "ipython",
    "version": 3
   },
   "file_extension": ".py",
   "mimetype": "text/x-python",
   "name": "python",
   "nbconvert_exporter": "python",
   "pygments_lexer": "ipython3",
   "version": "3.11.3"
  }
 },
 "nbformat": 4,
 "nbformat_minor": 4
}
