{
 "cells": [
  {
   "cell_type": "markdown",
   "metadata": {},
   "source": [
    "# Rust spanner regex\n",
    "\n",
    "this module contains implementation of regex ie functions using the rust package `enum-spanner-rs`"
   ]
  },
  {
   "cell_type": "code",
   "execution_count": null,
   "metadata": {},
   "outputs": [],
   "source": [
    "#| default_exp src.rgxlog_interpreter.src.rgxlog.stdlib.rust_spanner_regex"
   ]
  },
  {
   "cell_type": "code",
   "execution_count": null,
   "metadata": {},
   "outputs": [],
   "source": [
    "#| hide\n",
    "from nbdev.showdoc import *"
   ]
  },
  {
   "cell_type": "code",
   "execution_count": null,
   "metadata": {},
   "outputs": [],
   "source": [
    "#| export\n",
    "import logging\n",
    "import re\n",
    "import tempfile\n",
    "from pathlib import Path\n",
    "from subprocess import Popen, PIPE\n",
    "from sys import platform\n",
    "from typing import Tuple, List, Union, Iterable, Sequence, no_type_check, Callable, Optional\n",
    "import os\n",
    "\n",
    "from nbdev_spanner_workbench.src.rgxlog_interpreter.src.rgxlog.engine.datatypes.primitive_types import DataTypes, Span\n",
    "from nbdev_spanner_workbench.src.rgxlog_interpreter.src.rgxlog.stdlib.utils import run_cli_command"
   ]
  },
  {
   "cell_type": "markdown",
   "metadata": {},
   "source": [
    "# types"
   ]
  },
  {
   "cell_type": "code",
   "execution_count": null,
   "metadata": {},
   "outputs": [],
   "source": [
    "#| export\n",
    "RUST_RGX_IN_TYPES = [DataTypes.string, DataTypes.string]"
   ]
  },
  {
   "cell_type": "markdown",
   "metadata": {},
   "source": [
    "# rust"
   ]
  },
  {
   "cell_type": "code",
   "execution_count": null,
   "metadata": {},
   "outputs": [],
   "source": [
    "#| export\n",
    "DOWNLOAD_RUST_URL = \"https://rustup.rs/\""
   ]
  },
  {
   "cell_type": "markdown",
   "metadata": {},
   "source": [
    "# package info\n",
    "@niv: i use my fork here because it's more stable than the original"
   ]
  },
  {
   "cell_type": "code",
   "execution_count": null,
   "metadata": {},
   "outputs": [],
   "source": [
    "#| export\n",
    "PACKAGE_GIT_URL = \"https://github.com/NNRepos/enum-spanner-rs\"\n",
    "PACKAGE_NAME = \"enum-spanner-rs\"\n",
    "PACKAGE_WIN_FILENAME = PACKAGE_NAME + \".exe\"\n",
    "REGEX_FOLDER_NAME = \"enum_spanner_regex\""
   ]
  },
  {
   "cell_type": "markdown",
   "metadata": {},
   "source": [
    "# installation paths"
   ]
  },
  {
   "cell_type": "code",
   "execution_count": null,
   "metadata": {},
   "outputs": [],
   "source": [
    "#| export\n",
    "REGEX_FOLDER_PATH = Path(os.getcwd()) / REGEX_FOLDER_NAME\n",
    "REGEX_TEMP_PATH = Path(REGEX_FOLDER_PATH) / \"temp{}.txt\"\n",
    "REGEX_EXE_PATH_POSIX = Path(REGEX_FOLDER_PATH) / \"bin\" / PACKAGE_NAME\n",
    "REGEX_EXE_PATH_WIN = Path(REGEX_FOLDER_PATH) / \"bin\" / PACKAGE_WIN_FILENAME"
   ]
  },
  {
   "cell_type": "markdown",
   "metadata": {},
   "source": [
    "# commands"
   ]
  },
  {
   "cell_type": "code",
   "execution_count": null,
   "metadata": {},
   "outputs": [],
   "source": [
    "#| export\n",
    "RUSTUP_TOOLCHAIN = \"1.34\"\n",
    "CARGO_CMD_ARGS: Sequence[Union[Path, str]] = [\"cargo\", \"+\" + RUSTUP_TOOLCHAIN, \"install\", \"--root\", REGEX_FOLDER_PATH, \"--git\", PACKAGE_GIT_URL]\n",
    "RUSTUP_CMD_ARGS = [\"rustup\", \"toolchain\", \"install\", RUSTUP_TOOLCHAIN]\n",
    "SHORT_TIMEOUT = 3\n",
    "CARGO_TIMEOUT = 300\n",
    "RUSTUP_TIMEOUT = 300\n",
    "TIMEOUT_MINUTES = (CARGO_TIMEOUT + RUSTUP_TIMEOUT) // 60"
   ]
  },
  {
   "cell_type": "markdown",
   "metadata": {},
   "source": [
    "# os-dependent variables"
   ]
  },
  {
   "cell_type": "code",
   "execution_count": null,
   "metadata": {},
   "outputs": [],
   "source": [
    "#| export\n",
    "WINDOWS_OS = \"win32\"\n",
    "WHICH_WORD = \"where\" if platform == WINDOWS_OS else \"which\"\n",
    "REGEX_EXE_PATH = REGEX_EXE_PATH_WIN if platform == WINDOWS_OS else REGEX_EXE_PATH_POSIX"
   ]
  },
  {
   "cell_type": "markdown",
   "metadata": {},
   "source": [
    "# patterns\n",
    "taken from https://stackoverflow.com/questions/5452655/"
   ]
  },
  {
   "cell_type": "code",
   "execution_count": null,
   "metadata": {},
   "outputs": [],
   "source": [
    "#| export\n",
    "ESCAPED_STRINGS_PATTERN = re.compile(r'\"([^\"\\\\]*(?:\\\\.[^\"\\\\]*)*)\"', re.DOTALL)\n",
    "SPAN_PATTERN = re.compile(r\"(?P<start>\\d+), ?(?P<end>\\d+)\")"
   ]
  },
  {
   "cell_type": "code",
   "execution_count": null,
   "metadata": {},
   "outputs": [],
   "source": [
    "#| export\n",
    "# etc\n",
    "TEMP_FILE_NAME = \"temp\"\n",
    "\n",
    "logger = logging.getLogger(__name__)"
   ]
  },
  {
   "cell_type": "code",
   "execution_count": null,
   "metadata": {},
   "outputs": [],
   "source": [
    "#| export\n",
    "def _download_and_install_rust_regex() -> None:\n",
    "    # don't use \"cargo -V\" because it starts downloading stuff sometimes\n",
    "    with Popen([WHICH_WORD, \"cargo\"], stdout=PIPE, stderr=PIPE) as cargo:\n",
    "        errcode = cargo.wait(SHORT_TIMEOUT)\n",
    "\n",
    "    with Popen([WHICH_WORD, \"rustup\"], stdout=PIPE, stderr=PIPE) as rustup:\n",
    "        errcode |= rustup.wait(SHORT_TIMEOUT)\n",
    "\n",
    "    if errcode:\n",
    "        raise IOError(f\"cargo or rustup are not installed in $PATH. please install rust: {DOWNLOAD_RUST_URL}\")\n",
    "\n",
    "    logger.warning(f\"{PACKAGE_NAME} was not found on your system\")\n",
    "    logger.warning(f\"installing package. this might take up to {TIMEOUT_MINUTES} minutes...\")\n",
    "\n",
    "    # there's no pipe here to let the user to see the output\n",
    "    with Popen(RUSTUP_CMD_ARGS) as rustup:\n",
    "        rustup.wait(RUSTUP_TIMEOUT)\n",
    "\n",
    "    with Popen(CARGO_CMD_ARGS) as cargo:\n",
    "        cargo.wait(CARGO_TIMEOUT)\n",
    "\n",
    "    if not _is_installed_package():\n",
    "        raise Exception(\"installation failed - check the output\")\n",
    "\n",
    "    logger.warning(\"installation completed\")"
   ]
  },
  {
   "cell_type": "code",
   "execution_count": null,
   "metadata": {},
   "outputs": [],
   "source": [
    "#| export\n",
    "def _is_installed_package() -> bool:\n",
    "    return Path(REGEX_EXE_PATH).is_file()"
   ]
  },
  {
   "cell_type": "code",
   "execution_count": null,
   "metadata": {},
   "outputs": [],
   "source": [
    "#| export\n",
    "@no_type_check\n",
    "def rgx_span_out_type(output_arity: int) -> Tuple[DataTypes]:\n",
    "    return tuple([DataTypes.span] * output_arity)"
   ]
  },
  {
   "cell_type": "code",
   "execution_count": null,
   "metadata": {},
   "outputs": [],
   "source": [
    "#| export\n",
    "@no_type_check\n",
    "def rgx_string_out_type(output_arity: int) -> Tuple[DataTypes]:\n",
    "    return tuple([DataTypes.string] * output_arity)"
   ]
  },
  {
   "cell_type": "code",
   "execution_count": null,
   "metadata": {},
   "outputs": [],
   "source": [
    "#| export\n",
    "def _format_spanner_string_output(output: Iterable[str]) -> List[List[str]]:\n",
    "    output_lists = []\n",
    "    for out in output:\n",
    "        out_list = []\n",
    "        matches = ESCAPED_STRINGS_PATTERN.findall(out)\n",
    "        for match in matches:\n",
    "            # the pattern leaves the backslashes\n",
    "            escaped_match = re.sub(r'\\\\\"', '\"', match)\n",
    "            out_list.append(escaped_match)\n",
    "        output_lists.append(out_list)\n",
    "\n",
    "    return output_lists"
   ]
  },
  {
   "cell_type": "code",
   "execution_count": null,
   "metadata": {},
   "outputs": [],
   "source": [
    "#| export\n",
    "def _format_spanner_span_output(output: Iterable[str]) -> List[List[Span]]:\n",
    "    output_lists = []\n",
    "    for out in output:\n",
    "        out_list = []\n",
    "        matches = SPAN_PATTERN.finditer(out)\n",
    "        for match in matches:\n",
    "            start, end = int(match.group(\"start\")), int(match.group(\"end\"))\n",
    "            out_list.append(Span(start, end))\n",
    "        output_lists.append(out_list)\n",
    "\n",
    "    return output_lists"
   ]
  },
  {
   "cell_type": "code",
   "execution_count": null,
   "metadata": {},
   "outputs": [],
   "source": [
    "#| export\n",
    "def rgx(regex_pattern: str, out_type: str, text: Optional[str] = None, text_file: Optional[str] = None) -> Iterable[Iterable[Union[str, Span]]]:\n",
    "    \"\"\"\n",
    "    An IE function which runs regex using rust's `enum-spanner-rs` and yields tuples of strings/spans (not both).\n",
    "\n",
    "    @param text: the string on which regex is run.\n",
    "    @param regex_pattern: the pattern to run.\n",
    "    @param out_type: string/span - decides which one will be returned.\n",
    "    @param text_file: use text from this file instead of `text`. default: None\n",
    "    @return: a tuple of strings/spans.\n",
    "    \"\"\"\n",
    "    with tempfile.TemporaryDirectory() as temp_dir:\n",
    "        if text_file:\n",
    "            rgx_temp_file_name = Path(text_file)\n",
    "        else:\n",
    "            assert text is not None, \"at least one of text/text_file must have a value\"\n",
    "            rgx_temp_file_name = Path(temp_dir) / TEMP_FILE_NAME\n",
    "            with open(rgx_temp_file_name, \"w+\") as f:\n",
    "                f.write(text)\n",
    "\n",
    "        if out_type == \"string\":\n",
    "            rust_regex_args = f\"{REGEX_EXE_PATH} {regex_pattern} {rgx_temp_file_name}\"\n",
    "            format_function: Callable = _format_spanner_string_output\n",
    "        elif out_type == \"span\":\n",
    "            rust_regex_args = f\"{REGEX_EXE_PATH} {regex_pattern} {rgx_temp_file_name} --bytes-offset\"\n",
    "            format_function = _format_spanner_span_output\n",
    "        else:\n",
    "            assert False, \"illegal out_type\"\n",
    "\n",
    "        regex_output = format_function(run_cli_command(rust_regex_args, stderr=True))\n",
    "\n",
    "        for out in regex_output:\n",
    "            yield out"
   ]
  },
  {
   "cell_type": "code",
   "execution_count": null,
   "metadata": {},
   "outputs": [],
   "source": [
    "#| export\n",
    "def rgx_span(text: str, regex_pattern: str) -> Iterable[Iterable[Union[str, Span]]]:\n",
    "    \"\"\"\n",
    "    @param text: The input text for the regex operation.\n",
    "    @param regex_pattern: the pattern of the regex operation.\n",
    "    @return: tuples of spans that represents the results.\n",
    "    \"\"\"\n",
    "    return rgx(regex_pattern, \"span\", text=text)"
   ]
  },
  {
   "cell_type": "code",
   "execution_count": null,
   "metadata": {},
   "outputs": [],
   "source": [
    "#| export\n",
    "RGX = dict(ie_function=rgx_span,\n",
    "           ie_function_name='rgx_span',\n",
    "           in_rel=RUST_RGX_IN_TYPES,\n",
    "           out_rel=rgx_span_out_type)"
   ]
  },
  {
   "cell_type": "code",
   "execution_count": null,
   "metadata": {},
   "outputs": [],
   "source": [
    "#| export\n",
    "def rgx_string(text: str, regex_pattern: str) -> Iterable[Iterable[Union[str, Span]]]:\n",
    "    \"\"\"\n",
    "    @param text: The input text for the regex operation.\n",
    "    @param regex_pattern: the pattern of the regex operation.\n",
    "    @return: tuples of strings that represents the results.\n",
    "    \"\"\"\n",
    "    return rgx(regex_pattern, \"string\", text=text)"
   ]
  },
  {
   "cell_type": "code",
   "execution_count": null,
   "metadata": {},
   "outputs": [],
   "source": [
    "#| export\n",
    "RGX_STRING = dict(ie_function=rgx_string,\n",
    "                  ie_function_name='rgx_string',\n",
    "                  in_rel=RUST_RGX_IN_TYPES,\n",
    "                  out_rel=rgx_string_out_type)"
   ]
  },
  {
   "cell_type": "code",
   "execution_count": null,
   "metadata": {},
   "outputs": [],
   "source": [
    "#| export\n",
    "def rgx_span_from_file(text_file: str, regex_pattern: str) -> Iterable[Iterable[Union[str, Span]]]:\n",
    "    \"\"\"\n",
    "    @param text_file: The input file for the regex operation.\n",
    "    @param regex_pattern: the pattern of the regex operation.\n",
    "    @return: tuples of spans that represents the results.\n",
    "    \"\"\"\n",
    "    return rgx(regex_pattern, \"span\", text_file=text_file)"
   ]
  },
  {
   "cell_type": "code",
   "execution_count": null,
   "metadata": {},
   "outputs": [],
   "source": [
    "#| export\n",
    "RGX_FROM_FILE = dict(ie_function=rgx_span_from_file,\n",
    "                     ie_function_name='rgx_span_from_file',\n",
    "                     in_rel=RUST_RGX_IN_TYPES,\n",
    "                     out_rel=rgx_span_out_type)"
   ]
  },
  {
   "cell_type": "code",
   "execution_count": null,
   "metadata": {},
   "outputs": [],
   "source": [
    "#| export\n",
    "def rgx_string_from_file(text_file: str, regex_pattern: str) -> Iterable[Iterable[Union[str, Span]]]:\n",
    "    \"\"\"\n",
    "    @param text_file: The input file for the regex operation.\n",
    "    @param regex_pattern: the pattern of the regex operation.\n",
    "    @return: tuples of strings that represents the results.\n",
    "    \"\"\"\n",
    "    return rgx(regex_pattern, \"string\", text_file=text_file)"
   ]
  },
  {
   "cell_type": "code",
   "execution_count": null,
   "metadata": {},
   "outputs": [],
   "source": [
    "#| export\n",
    "RGX_STRING_FROM_FILE = dict(ie_function=rgx_string_from_file,\n",
    "                            ie_function_name='rgx_string_from_file',\n",
    "                            in_rel=RUST_RGX_IN_TYPES,\n",
    "                            out_rel=rgx_string_out_type)"
   ]
  },
  {
   "cell_type": "code",
   "execution_count": null,
   "metadata": {},
   "outputs": [
    {
     "name": "stderr",
     "output_type": "stream",
     "text": [
      "enum-spanner-rs was not found on your system\n",
      "installing package. this might take up to 10 minutes...\n",
      "info: syncing channel updates for '1.34-x86_64-unknown-linux-gnu'\n",
      "info: latest update on 2019-05-14, rust version 1.34.2 (6c2484dc3 2019-05-13)\n",
      "info: downloading component 'cargo'\n",
      "info: downloading component 'clippy'\n",
      "info: downloading component 'rust-docs'\n",
      "info: downloading component 'rust-std'\n",
      "info: downloading component 'rustc'\n",
      "info: downloading component 'rustfmt'\n",
      "info: installing component 'cargo'\n",
      "info: installing component 'clippy'\n",
      "info: installing component 'rust-docs'\n",
      "info: installing component 'rust-std'\n",
      "info: installing component 'rustc'\n",
      "info: installing component 'rustfmt'\n"
     ]
    },
    {
     "name": "stdout",
     "output_type": "stream",
     "text": [
      "\n",
      "  1.34-x86_64-unknown-linux-gnu installed - rustc 1.34.2 (6c2484dc3 2019-05-13)\n",
      "\n"
     ]
    },
    {
     "name": "stderr",
     "output_type": "stream",
     "text": [
      "info: checking for self-updates\n",
      "info: downloading self-update\n",
      "    Updating git repository `https://github.com/NNRepos/enum-spanner-rs`\n",
      "  Installing enum-spanner-rs v0.1.0 (https://github.com/NNRepos/enum-spanner-rs#4c8ab5b3)\n",
      "    Updating crates.io index\n",
      " Downloading crates ...\n",
      "  Downloaded atty v0.2.14\n",
      "  Downloaded unicode-width v0.1.8\n",
      "  Downloaded unicode-xid v0.2.2\n",
      "  Downloaded proc-macro2 v1.0.28\n",
      "  Downloaded bit-vec v0.6.3\n",
      "  Downloaded serde v1.0.125\n",
      "  Downloaded bit-set v0.5.2\n",
      "  Downloaded aho-corasick v0.7.15\n",
      "  Downloaded vec_map v0.8.2\n",
      "  Downloaded bitflags v1.2.1\n",
      "  Downloaded itoa v0.4.7\n",
      "  Downloaded ryu v1.0.5\n",
      "  Downloaded clap v2.33.3\n",
      "  Downloaded syn v1.0.74\n",
      "  Downloaded memchr v2.3.4\n",
      "  Downloaded ansi_term v0.11.0\n",
      "  Downloaded regex-syntax v0.6.25\n",
      "  Downloaded num-traits v0.2.14\n",
      "  Downloaded regex v1.4.6\n",
      "  Downloaded strsim v0.8.0\n",
      "  Downloaded textwrap v0.11.0\n",
      "  Downloaded streaming-stats v0.2.3\n",
      "  Downloaded serde_json v1.0.64\n",
      "  Downloaded autocfg v1.0.1\n",
      "  Downloaded libc v0.2.99\n",
      "  Downloaded quote v1.0.9\n",
      "  Downloaded serde_derive v1.0.125\n",
      "   Compiling proc-macro2 v1.0.28\n",
      "   Compiling unicode-xid v0.2.2\n",
      "   Compiling syn v1.0.74\n",
      "   Compiling autocfg v1.0.1\n",
      "   Compiling libc v0.2.99\n",
      "   Compiling memchr v2.3.4\n",
      "   Compiling serde_derive v1.0.125\n",
      "   Compiling ryu v1.0.5\n",
      "   Compiling bitflags v1.2.1\n",
      "   Compiling serde v1.0.125\n",
      "   Compiling serde_json v1.0.64\n",
      "   Compiling unicode-width v0.1.8\n",
      "   Compiling bit-vec v0.6.3\n",
      "   Compiling strsim v0.8.0\n",
      "   Compiling ansi_term v0.11.0\n",
      "   Compiling itoa v0.4.7\n",
      "   Compiling vec_map v0.8.2\n",
      "   Compiling regex-syntax v0.6.25\n",
      "   Compiling textwrap v0.11.0\n",
      "   Compiling bit-set v0.5.2\n",
      "   Compiling num-traits v0.2.14\n",
      "   Compiling aho-corasick v0.7.15\n",
      "   Compiling atty v0.2.14\n",
      "   Compiling clap v2.33.3\n",
      "   Compiling quote v1.0.9\n",
      "   Compiling streaming-stats v0.2.3\n",
      "   Compiling regex v1.4.6\n",
      "   Compiling enum-spanner-rs v0.1.0 (https://github.com/NNRepos/enum-spanner-rs#4c8ab5b3)\n",
      "    Finished release [optimized] target(s) in 3m 40s\n",
      "  Installing /nbdev_spanner_workbench/nbs/enum_spanner_regex/bin/enum-spanner-rs\n",
      "warning: be sure to add `/nbdev_spanner_workbench/nbs/enum_spanner_regex/bin` to your PATH to be able to run the installed binaries\n",
      "installation completed\n"
     ]
    }
   ],
   "source": [
    "#| export\n",
    "# the package is installed when this module is imported\n",
    "if not _is_installed_package():\n",
    "    _download_and_install_rust_regex()"
   ]
  },
  {
   "cell_type": "code",
   "execution_count": null,
   "metadata": {},
   "outputs": [],
   "source": []
  },
  {
   "cell_type": "code",
   "execution_count": null,
   "metadata": {},
   "outputs": [],
   "source": []
  }
 ],
 "metadata": {
  "kernelspec": {
   "display_name": "python3",
   "language": "python",
   "name": "python3"
  }
 },
 "nbformat": 4,
 "nbformat_minor": 4
}
