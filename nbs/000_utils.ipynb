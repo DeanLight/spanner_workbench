{
 "cells": [
  {
   "cell_type": "markdown",
   "metadata": {},
   "source": [
    "# Utils"
   ]
  },
  {
   "cell_type": "code",
   "execution_count": null,
   "metadata": {},
   "outputs": [],
   "source": [
    "#| default_exp utils"
   ]
  },
  {
   "cell_type": "code",
   "execution_count": null,
   "metadata": {},
   "outputs": [],
   "source": [
    "#| export\n",
    "import shlex\n",
    "import logging\n",
    "import psutil\n",
    "import requests\n",
    "import os\n",
    "from pathlib import Path\n",
    "import git\n",
    "from configparser import ConfigParser\n",
    "from subprocess import Popen, PIPE\n",
    "from sys import platform\n",
    "from threading import Timer\n",
    "from typing import no_type_check, get_type_hints, Iterable, Any, Optional, Callable\n",
    "from fastcore.basics import patch\n",
    "import itertools\n",
    "from singleton_decorator import singleton"
   ]
  },
  {
   "cell_type": "code",
   "execution_count": null,
   "metadata": {},
   "outputs": [],
   "source": [
    "#| export \n",
    "@singleton\n",
    "class UniqueId:\n",
    "    def __init__(self):\n",
    "        self.reset()\n",
    "    def __call__(self):\n",
    "        return next(self.counter)\n",
    "    def reset(self):\n",
    "        self.counter = itertools.count()\n",
    "    \n",
    "\n",
    "def uniq_id():\n",
    "    return UniqueId()()"
   ]
  },
  {
   "cell_type": "code",
   "execution_count": null,
   "metadata": {},
   "outputs": [],
   "source": [
    "# #TODO see how to use this when debugging\n",
    "# logging.config.dictConfig(\n",
    "#     {\n",
    "#         \"version\": 1,\n",
    "#         \"disable_existing_loggers\": True,\n",
    "#         \"formatters\": {\n",
    "#             \"standard\": {\"format\": \"%(asctime)s [%(levelname)s] %(name)s: %(message)s\"},\n",
    "#             \"terse\": {\"format\": \"%(message)s\"},\n",
    "#         },\n",
    "#         \"handlers\": {\n",
    "#             \"default\": {\n",
    "#                 \"level\": \"INFO\",\n",
    "#                 \"formatter\": \"standard\",\n",
    "#                 \"class\": \"logging.StreamHandler\",\n",
    "#                 \"stream\": \"ext://sys.stderr\",  # Default is stderr\n",
    "#             },\n",
    "#             \"terse\": {\n",
    "#                 \"level\": \"WARNING\",\n",
    "#                 \"formatter\": \"terse\",\n",
    "#                 \"class\": \"logging.StreamHandler\",\n",
    "#                 \"stream\": \"ext://sys.stderr\",  # Default is stderr\n",
    "#             },\n",
    "#         },\n",
    "#         \"loggers\": {\n",
    "#             \"root\": {\n",
    "#                 \"handlers\": [\"default\"],\n",
    "#             },\n",
    "#             \"spannerlib\": {\n",
    "#                 \"level\": \"INFO\",\n",
    "#             },\n",
    "#             \"spannerlib.session\": {\n",
    "#                 \"handlers\": [\"terse\"],\n",
    "#                 \"incremental\": False,\n",
    "#                 \"level\": \"DEBUG\",\n",
    "#             },\n",
    "#         },\n",
    "#     }\n",
    "# )"
   ]
  },
  {
   "cell_type": "code",
   "execution_count": null,
   "metadata": {},
   "outputs": [],
   "source": [
    "#| export\n",
    "logger = logging.getLogger(__name__)\n",
    "\n",
    "WINDOWS_OS = \"win32\"\n",
    "IS_POSIX = (platform != WINDOWS_OS)\n",
    "\n",
    "# google drive\n",
    "GOOGLE_DRIVE_URL = \"https://docs.google.com/uc?export=download\"\n",
    "GOOGLE_DRIVE_CHUNK_SIZE = 32768"
   ]
  },
  {
   "cell_type": "code",
   "execution_count": null,
   "metadata": {},
   "outputs": [],
   "source": [
    "#| export\n",
    "def get_git_root(path='.'):\n",
    "\n",
    "        git_repo = git.Repo(path, search_parent_directories=True)\n",
    "        git_root = git_repo.git.rev_parse(\"--show-toplevel\")\n",
    "        return Path(git_root)"
   ]
  },
  {
   "cell_type": "code",
   "execution_count": null,
   "metadata": {},
   "outputs": [],
   "source": [
    "#| export\n",
    "\n",
    "def get_base_file_path() -> Path: # The absolute path of parent folder of nbs\n",
    "    return get_git_root()\n",
    "\n",
    "\n",
    "def get_lib_name() -> str:\n",
    "    setting_ini = ConfigParser()\n",
    "    setting_ini.read(get_base_file_path()/'settings.ini')\n",
    "    setting_ini = setting_ini['DEFAULT']\n",
    "    return setting_ini['lib_name']"
   ]
  },
  {
   "cell_type": "code",
   "execution_count": null,
   "metadata": {},
   "outputs": [],
   "source": [
    "#| export\n",
    "from contextlib import contextmanager\n",
    "import logging\n",
    "\n",
    "@contextmanager\n",
    "def checkLogs(level: int=logging.DEBUG, name :str=None, toFile=None):\n",
    "    \"\"\"context manager for temporarily changing logging levels. used for debugging purposes\n",
    "\n",
    "    Args:\n",
    "        level (logging.Level: optional): logging level to change the logger to. Defaults to logging.DEBUG.\n",
    "        name (str: optional): module name to raise logging level for. Defaults to root logger\n",
    "        toFile (Path: optional): File to output logs to. Defaults to None\n",
    "        \n",
    "\n",
    "    Yields:\n",
    "        [logging.Logger]: the logger object that we raised the level of\n",
    "    \"\"\"\n",
    "    logger = logging.getLogger(name)\n",
    "    current_level = logger.getEffectiveLevel()\n",
    "    format = \"%(name)s - %(levelname)s - %(message)s\"\n",
    "    logger.setLevel(level)\n",
    "    if len(logger.handlers) == 0:\n",
    "        sh = logging.StreamHandler()\n",
    "        sh.setFormatter(logging.Formatter(format))\n",
    "        logger.addHandler(sh)\n",
    "    if toFile != None:\n",
    "        fh = logging.FileHandler(toFile)\n",
    "        fh.setFormatter(logging.Formatter(format))\n",
    "        logger.addHandler(fh)\n",
    "    try:\n",
    "        yield logger\n",
    "    finally:\n",
    "        logger.setLevel(current_level)\n",
    "        if toFile != None:\n",
    "            logger.removeHandler(fh)\n",
    "        if len(logger.handlers) == 1:\n",
    "            logger.handlers= []"
   ]
  },
  {
   "cell_type": "code",
   "execution_count": null,
   "metadata": {},
   "outputs": [],
   "source": [
    "#| export\n",
    "def patch_method(func : Callable, *args, **kwargs) -> None:\n",
    "    \"\"\"\n",
    "    Applies fastcore's `patch` decorator and removes `func` from `cls.__abstractsmethods__` in case <br>\n",
    "    `func` is an `abstractmethods`\n",
    "    \"\"\"\n",
    "    cls = next(iter(get_type_hints(func).values()))\n",
    "    try:\n",
    "        abstracts_needed = set(cls.__abstractmethods__)\n",
    "        abstracts_needed.discard(func.__name__)\n",
    "        cls.__abstractmethods__ = abstracts_needed\n",
    "    except AttributeError: # If the class does not inherit from an abstract class\n",
    "        pass\n",
    "    finally:\n",
    "        # Apply the original `patch` decorator\n",
    "        patch(*args, **kwargs)(func)"
   ]
  },
  {
   "cell_type": "code",
   "execution_count": null,
   "metadata": {},
   "outputs": [],
   "source": [
    "#| export\n",
    "def kill_process_and_children(process: Popen) -> None:\n",
    "    logger.info(\"~~~~ process timed out ~~~~\")\n",
    "    if process.poll() is not None:\n",
    "        ps_process = psutil.Process(process.pid)\n",
    "        for child in ps_process.children(recursive=True):  # first, kill the children :)\n",
    "            child.kill()  # not recommended in real life\n",
    "        process.kill()  # lastly, kill the process"
   ]
  },
  {
   "cell_type": "code",
   "execution_count": null,
   "metadata": {},
   "outputs": [],
   "source": [
    "#| export\n",
    "def run_cli_command(command: str, # a single command string\n",
    "                    stderr: bool = False, # if true, suppress stderr output. default: `False`\n",
    "                    # if true, spawn shell process (e.g. /bin/sh), which allows using system variables (e.g. $HOME),\n",
    "                    # but is considered a security risk (see: https://docs.python.org/3/library/subprocess.html#security-considerations)\n",
    "                    shell: bool = False, \n",
    "                    timeout: float = -1 # if positive, kill the process after `timeout` seconds. default: `-1`\n",
    "                    ) -> Iterable[str]: # string iterator\n",
    "    \"\"\"\n",
    "    This utility can be used to run any cli command, and iterate over the output.\n",
    "    \"\"\"\n",
    "    # `shlex.split` just splits the command into a list properly\n",
    "    command_list = shlex.split(command, posix=IS_POSIX)\n",
    "    stdout = PIPE  # we always use stdout\n",
    "    stderr_channel = PIPE if stderr else None\n",
    "\n",
    "    process = Popen(command_list, stdout=stdout, stderr=stderr_channel, shell=shell)\n",
    "\n",
    "    # set timer\n",
    "    if timeout > 0:\n",
    "        # set timer to kill the process\n",
    "        process_timer = Timer(timeout, kill_process_and_children, [process])\n",
    "        process_timer.start()\n",
    "\n",
    "    # get output\n",
    "    if process.stdout:\n",
    "        process.stdout.flush()\n",
    "    process_stdout, process_stderr = [s.decode(\"utf-8\") for s in process.communicate()]\n",
    "    for output in process_stdout.splitlines():\n",
    "        output = output.strip()\n",
    "        if output:\n",
    "            yield output\n",
    "\n",
    "    if stderr:\n",
    "        logger.info(f\"stderr from process {command_list[0]}: {process_stderr}\")"
   ]
  },
  {
   "cell_type": "code",
   "execution_count": null,
   "metadata": {},
   "outputs": [],
   "source": [
    "#| export\n",
    "import os\n",
    "def download_file_from_google_drive(file_id: str, # the id of the file to download\n",
    "                                     destination: Path # the path to which the file will be downloaded\n",
    "                                     ) -> None:\n",
    "    \"\"\"\n",
    "    [Downloads a file from Google Drive](https://stackoverflow.com/questions/25010369/wget-curl-large-file-from-google-drive/39225039#39225039)\n",
    "    \"\"\"\n",
    "    destination = Path(os.path.join(get_base_file_path(Path.cwd()),'spannerlog','stanford-corenlp-4.1.0.zip'))\n",
    "    requests_session = requests.Session()\n",
    "    response = requests_session.get(GOOGLE_DRIVE_URL, params={'id': file_id}, stream=True)\n",
    "\n",
    "    def get_confirm_token() -> Optional[Any]:\n",
    "        for key, value in response.cookies.items():\n",
    "            if key.startswith('download_warning'):\n",
    "                return value\n",
    "\n",
    "        return None\n",
    "\n",
    "    def save_response_content() -> None:\n",
    "        with open(destination, \"wb\") as f:\n",
    "            for chunk in response.iter_content(GOOGLE_DRIVE_CHUNK_SIZE):\n",
    "                if chunk:  # filter out keep-alive new chunks\n",
    "                    f.write(chunk)\n",
    "\n",
    "    token = get_confirm_token()\n",
    "    logger.debug(f\"got token from google: {token}\")\n",
    "\n",
    "    if token:\n",
    "        params = {'id': file_id, 'confirm': token}\n",
    "        response = requests_session.get(GOOGLE_DRIVE_URL, params=params, stream=True)\n",
    "\n",
    "    save_response_content()"
   ]
  },
  {
   "cell_type": "code",
   "execution_count": null,
   "metadata": {},
   "outputs": [],
   "source": [
    "#| export\n",
    "def df_to_list(df):\n",
    "    return df.to_dict(orient='records')"
   ]
  },
  {
   "cell_type": "code",
   "execution_count": null,
   "metadata": {},
   "outputs": [],
   "source": [
    "#| export\n",
    "def serialize_tree(g):\n",
    "    root = next(nx.topological_sort(g))\n",
    "    return nx.tree_data(g,root) \n"
   ]
  },
  {
   "cell_type": "markdown",
   "metadata": {},
   "source": [
    "## Old general utils"
   ]
  },
  {
   "cell_type": "code",
   "execution_count": null,
   "metadata": {},
   "outputs": [],
   "source": [
    "#| hide\n",
    "from nbdev.showdoc import show_doc\n",
    "from __future__ import annotations\n",
    "%load_ext autoreload\n",
    "%autoreload 2"
   ]
  },
  {
   "cell_type": "code",
   "execution_count": null,
   "metadata": {},
   "outputs": [],
   "source": [
    "#| export\n",
    "#| output: false\n",
    "import functools\n",
    "import re\n",
    "from typing import (Union, Tuple, Set, Dict, List, Optional, Callable, Any, no_type_check, Sequence)\n",
    "\n",
    "from spannerlib.ast_node_types import (Relation, IERelation, Rule)\n",
    "from spannerlib.primitive_types import DataTypes, Span\n",
    "from spannerlib.symbol_table import SymbolTableBase, SymbolTable"
   ]
  },
  {
   "cell_type": "code",
   "execution_count": null,
   "metadata": {},
   "outputs": [],
   "source": [
    "#| export\n",
    "SPAN_GROUP1 = \"start\"\n",
    "SPAN_GROUP2 = \"end\"\n",
    "\n",
    "# as of now, we don't support negative/float numbers (for both spans and integers)\n",
    "SPAN_PATTERN = re.compile(r\"^\\[(?P<start>\\d+), ?(?P<end>\\d+)\\)$\")\n",
    "QUERY_RESULT_PREFIX = \"printing results for query \""
   ]
  },
  {
   "cell_type": "code",
   "execution_count": null,
   "metadata": {},
   "outputs": [],
   "source": [
    "#| export\n",
    "def strip_lines(text: str) -> str:\n",
    "    \"\"\"\n",
    "    removes leading and trailing whitespace from each line in the input text and excludes empty lines.\n",
    "    \"\"\"\n",
    "    return \"\\n\".join([line.strip() for line in text.splitlines() if line.strip()])"
   ]
  },
  {
   "cell_type": "code",
   "execution_count": null,
   "metadata": {},
   "outputs": [],
   "source": [
    "#| export\n",
    "def fixed_point(start: Any, # a starting value\n",
    "                 step: Callable, # a step function\n",
    "                   distance: Callable, # a function that measures distance between the input and the output of the step function\n",
    "                     thresh: int = 0 # a distance threshold\n",
    "                     ) -> Any:\n",
    "    \"\"\"\n",
    "    Implementation of a generic fixed point algorithm - an algorithm that takes a step function and runs it until\n",
    "    some distance is zero or below a threshold.\n",
    "    \"\"\"\n",
    "    x = start\n",
    "    y = step(x)\n",
    "    while distance(x, y) > min(thresh,0):\n",
    "        x = y\n",
    "        y = step(x)\n",
    "    return x"
   ]
  },
  {
   "cell_type": "code",
   "execution_count": null,
   "metadata": {},
   "outputs": [],
   "source": [
    "#| export\n",
    "def get_free_var_names(term_list: Sequence, # a list of terms\n",
    "                       type_list: Sequence # a list of the term types\n",
    "                       ) -> Set[str]: # a set of all the free variable names in term_list\n",
    "    \"\"\" \n",
    "    @raise Exception: if length of term list doesn't match the length of type list.\n",
    "    \"\"\"\n",
    "    if len(term_list) != len(type_list):\n",
    "        raise Exception(f\"received different lengths of term_list ({len(term_list)}) \"\n",
    "                        f\"and type_list ({len(type_list)})\")\n",
    "    free_var_names = set(term for term, term_type in zip(term_list, type_list)\n",
    "                         if term_type is DataTypes.free_var_name)\n",
    "    return free_var_names"
   ]
  },
  {
   "cell_type": "markdown",
   "metadata": {},
   "source": [
    "#| hide\n",
    "##### TEST"
   ]
  },
  {
   "cell_type": "code",
   "execution_count": null,
   "metadata": {},
   "outputs": [],
   "source": [
    "#| hide\n",
    "import pytest"
   ]
  },
  {
   "cell_type": "code",
   "execution_count": null,
   "metadata": {},
   "outputs": [],
   "source": [
    "#| hide\n",
    "term_list = [\"X\", 10, \"Z\"]\n",
    "type_list = [DataTypes.free_var_name, DataTypes.integer, DataTypes.free_var_name]\n",
    "\n",
    "result = get_free_var_names(term_list, type_list)\n",
    "assert result == {\"X\", \"Z\"}"
   ]
  },
  {
   "cell_type": "code",
   "execution_count": null,
   "metadata": {},
   "outputs": [],
   "source": [
    "#| hide\n",
    "term_list = []\n",
    "type_list = []\n",
    "\n",
    "result = get_free_var_names(term_list, type_list)\n",
    "assert result == set()"
   ]
  },
  {
   "cell_type": "code",
   "execution_count": null,
   "metadata": {},
   "outputs": [],
   "source": [
    "#| hide\n",
    "term_list = [\"X\", \"y\", \"Z\"]\n",
    "type_list = [DataTypes.free_var_name, DataTypes.integer]\n",
    "\n",
    "with pytest.raises(Exception, match=\"received different lengths of term_list\"):\n",
    "    get_free_var_names(term_list, type_list)"
   ]
  },
  {
   "cell_type": "markdown",
   "metadata": {},
   "source": [
    "::: {.callout-note collapse=\"true\"}\n",
    "\n",
    "##### Example"
   ]
  },
  {
   "cell_type": "code",
   "execution_count": null,
   "metadata": {},
   "outputs": [
    {
     "name": "stdout",
     "output_type": "stream",
     "text": [
      "{'Z', 'X'}\n"
     ]
    }
   ],
   "source": [
    "term_list = [\"X\", 10, \"Z\"]\n",
    "type_list = [DataTypes.free_var_name, DataTypes.integer, DataTypes.free_var_name]    \n",
    "print(get_free_var_names(term_list, type_list))"
   ]
  },
  {
   "cell_type": "markdown",
   "metadata": {},
   "source": [
    ":::"
   ]
  },
  {
   "cell_type": "code",
   "execution_count": null,
   "metadata": {},
   "outputs": [],
   "source": [
    "#| export\n",
    "@no_type_check\n",
    "def position_freevar_pairs(relation: Union[Relation, IERelation] # a relation (either a normal relation or an ie relation)\n",
    "                           ) -> List[Tuple[int, str]]: # a list of all (index, free_var) pairs based on term_list\n",
    "    term_list, type_list = relation.get_term_list(), relation.get_type_list()\n",
    "    pos_var_pairs = [(i, term) for i, (term, term_type) in enumerate(zip(term_list, type_list))\n",
    "                     if term_type is DataTypes.free_var_name]\n",
    "    return pos_var_pairs"
   ]
  },
  {
   "cell_type": "markdown",
   "metadata": {},
   "source": [
    "#| hide\n",
    "##### TEST"
   ]
  },
  {
   "cell_type": "code",
   "execution_count": null,
   "metadata": {},
   "outputs": [],
   "source": [
    "#| hide\n",
    "term_list = [\"X\", \"abc\", \"Y\", \"def\", \"Z\"]\n",
    "type_list = [DataTypes.free_var_name, DataTypes.string, DataTypes.free_var_name, DataTypes.integer, DataTypes.free_var_name]\n",
    "\n",
    "relation = Relation(\"relation1\",term_list, type_list)\n",
    "\n",
    "result = position_freevar_pairs(relation)\n",
    "expected_result = [(0, \"X\"), (2, \"Y\"), (4, \"Z\")]\n",
    "\n",
    "assert result == expected_result"
   ]
  },
  {
   "cell_type": "code",
   "execution_count": null,
   "metadata": {},
   "outputs": [],
   "source": [
    "#| hide\n",
    "term_list = []\n",
    "type_list = []\n",
    "\n",
    "relation = Relation(\"relation1\",term_list, type_list)\n",
    "\n",
    "result = position_freevar_pairs(relation)\n",
    "assert result == []"
   ]
  },
  {
   "cell_type": "code",
   "execution_count": null,
   "metadata": {},
   "outputs": [],
   "source": [
    "#| hide\n",
    "term_list = [\"abc\", \"def\", \"ghi\"]\n",
    "type_list = [DataTypes.string, DataTypes.string, DataTypes.string]\n",
    "\n",
    "relation = Relation(\"relation1\",term_list, type_list)\n",
    "\n",
    "result = position_freevar_pairs(relation)\n",
    "assert result == []"
   ]
  },
  {
   "cell_type": "markdown",
   "metadata": {},
   "source": [
    "::: {.callout-note collapse=\"true\"}\n",
    "\n",
    "##### Example"
   ]
  },
  {
   "cell_type": "code",
   "execution_count": null,
   "metadata": {},
   "outputs": [
    {
     "name": "stdout",
     "output_type": "stream",
     "text": [
      "[(0, 'X'), (2, 'Y'), (4, 'Z')]\n"
     ]
    }
   ],
   "source": [
    "term_list = [\"X\", \"abc\", \"Y\", \"def\", \"Z\"]\n",
    "type_list = [DataTypes.free_var_name, DataTypes.string, DataTypes.free_var_name, DataTypes.integer, DataTypes.free_var_name]\n",
    "\n",
    "relation = Relation(\"relation1\",term_list, type_list)\n",
    "\n",
    "print(position_freevar_pairs(relation))"
   ]
  },
  {
   "cell_type": "markdown",
   "metadata": {},
   "source": [
    ":::"
   ]
  },
  {
   "cell_type": "code",
   "execution_count": null,
   "metadata": {},
   "outputs": [],
   "source": [
    "#| export\n",
    "def get_input_free_var_names(relation: Union[Relation, IERelation] # a relation (either a normal relation or an ie relation)\n",
    "                             ) -> Set[Any]: # a set of the free variables used as input terms in the relation.\n",
    "    if isinstance(relation, IERelation):\n",
    "        return get_free_var_names(relation.input_term_list, relation.input_type_list)\n",
    "    else:\n",
    "        return set()"
   ]
  },
  {
   "cell_type": "markdown",
   "metadata": {},
   "source": [
    "::: {.callout-note}\n",
    "if the input is relation it returns empty set as the regular relation don't have input free variables,\n",
    "if the input is ie-relation it returns it's input free variables\n",
    ":::"
   ]
  },
  {
   "cell_type": "markdown",
   "metadata": {},
   "source": [
    "#| hide\n",
    "##### TEST"
   ]
  },
  {
   "cell_type": "code",
   "execution_count": null,
   "metadata": {},
   "outputs": [],
   "source": [
    "#| hide\n",
    "input_term_list = [\"X\", \"Y\"]\n",
    "input_type_list = [DataTypes.free_var_name, DataTypes.integer]\n",
    "\n",
    "ie_relation = IERelation(\"relation1\",input_term_list, input_type_list, [], [])\n",
    "\n",
    "result = get_input_free_var_names(ie_relation)\n",
    "assert result == {\"X\"}"
   ]
  },
  {
   "cell_type": "code",
   "execution_count": null,
   "metadata": {},
   "outputs": [],
   "source": [
    "#| hide\n",
    "term_list = [\"abc\", \"def\", \"ghi\"]\n",
    "type_list = [DataTypes.string, DataTypes.string, DataTypes.string]\n",
    "relation = Relation(\"relation1\",term_list, type_list)\n",
    "\n",
    "result = get_input_free_var_names(relation)\n",
    "assert result == set()  "
   ]
  },
  {
   "cell_type": "markdown",
   "metadata": {},
   "source": [
    "::: {.callout-note collapse=\"true\"}\n",
    "\n",
    "##### Example\n"
   ]
  },
  {
   "cell_type": "code",
   "execution_count": null,
   "metadata": {},
   "outputs": [
    {
     "name": "stdout",
     "output_type": "stream",
     "text": [
      "{'X'}\n"
     ]
    }
   ],
   "source": [
    "input_term_list = [\"X\", \"Y\"]\n",
    "input_type_list = [DataTypes.free_var_name, DataTypes.integer]\n",
    "\n",
    "ie_relation = IERelation(\"relation1\",input_term_list, input_type_list, [], [])\n",
    "\n",
    "print(get_input_free_var_names(ie_relation))"
   ]
  },
  {
   "cell_type": "markdown",
   "metadata": {},
   "source": [
    ":::"
   ]
  },
  {
   "cell_type": "code",
   "execution_count": null,
   "metadata": {},
   "outputs": [],
   "source": [
    "#| export\n",
    "def get_output_free_var_names(relation: Union[Relation, IERelation] # a relation (either a normal relation or an ie relation)\n",
    "                              ) -> Set[str]: # a set of the free variables used as output terms in the relation\n",
    "    return get_free_var_names(relation.get_term_list(), relation.get_type_list())"
   ]
  },
  {
   "cell_type": "markdown",
   "metadata": {},
   "source": [
    "::: {.callout-note}\n",
    "if the input is relation it returns empty set as the regular relation don't have input free variables,\n",
    "if the input is ie-relation it returns it's input free variables\n",
    ":::"
   ]
  },
  {
   "cell_type": "code",
   "execution_count": null,
   "metadata": {},
   "outputs": [],
   "source": [
    "#| export\n",
    "def get_free_var_to_relations_dict(relations: Set[Union[Relation, IERelation]] # a set of relations\n",
    "                                   ) -> (Dict[str, List[Tuple[Union[Relation, IERelation], int]]]): # a mapping between each free var to the relations and corresponding columns in which it appears\n",
    "    \"\"\"\n",
    "    Finds for each free var in any of the relations, all the relations that contain it.\n",
    "    also return the free vars' index in each relation (as pairs). <br>\n",
    "    for example: <br>\n",
    "        relations = [a(X,Y), b(Y)] ->\n",
    "        dict = {X:[(a(X,Y),0)], Y:[(a(X,Y),1),(b(Y),0)]}\n",
    "    \"\"\"\n",
    "    # note: don't remove variables with less than 2 uses here, we need them as well\n",
    "    free_var_positions = {relation: position_freevar_pairs(relation) for relation in relations}\n",
    "    free_var_set = {var for pair_list in free_var_positions.values() for (_, var) in pair_list}\n",
    "\n",
    "    # create a triple of every relation, free var position, and free var name. these will be united inside var_dict.\n",
    "    rel_pos_var_triple = [(relation, pos, free_var) for (relation, pair_list) in free_var_positions.items() for\n",
    "                          (pos, free_var) in pair_list]\n",
    "\n",
    "    var_dict = {var_from_set: [(relation, free_var_pos) for (relation, free_var_pos, var_from_triple) in rel_pos_var_triple if var_from_set == var_from_triple]\n",
    "                for var_from_set in free_var_set}\n",
    "\n",
    "    return var_dict"
   ]
  },
  {
   "cell_type": "markdown",
   "metadata": {},
   "source": [
    "::: {.callout-note collapse=\"true\"}\n",
    "\n",
    "##### Example"
   ]
  },
  {
   "cell_type": "code",
   "execution_count": null,
   "metadata": {},
   "outputs": [
    {
     "data": {
      "text/plain": [
       "{'Z': [(Relation(relation_1(X, \"abc\", Y, def, Z)), 4)],\n",
       " 'Y': [(Relation(relation_2(X, Y)), 1),\n",
       "  (Relation(relation_1(X, \"abc\", Y, def, Z)), 2)],\n",
       " 'X': [(Relation(relation_2(X, Y)), 0),\n",
       "  (Relation(relation_1(X, \"abc\", Y, def, Z)), 0)]}"
      ]
     },
     "metadata": {},
     "output_type": "display_data"
    }
   ],
   "source": [
    "term_list_1 = [\"X\", \"abc\", \"Y\", \"def\", \"Z\"]\n",
    "type_list_1 = [DataTypes.free_var_name, DataTypes.string, DataTypes.free_var_name, DataTypes.integer, DataTypes.free_var_name]\n",
    "\n",
    "relation_1 = Relation(\"relation_1\",term_list_1, type_list_1)\n",
    "\n",
    "term_list_2 = [\"X\", \"Y\"]\n",
    "type_list_2 = [DataTypes.free_var_name, DataTypes.free_var_name]\n",
    "\n",
    "relation_2 = Relation(\"relation_2\",term_list_2, type_list_2)\n",
    "relations_set = {relation_1,relation_2}\n",
    "get_free_var_to_relations_dict(relations_set)"
   ]
  },
  {
   "cell_type": "markdown",
   "metadata": {},
   "source": [
    ":::"
   ]
  },
  {
   "cell_type": "code",
   "execution_count": null,
   "metadata": {},
   "outputs": [],
   "source": [
    "#| export\n",
    "def check_properly_typed_term_list(term_list: Sequence, # the term list to be type checked\n",
    "                                    type_list: Sequence, # the types of the terms in term_list\n",
    "                                   correct_type_list: Sequence, # a list of the types that the terms must have to pass the type check\n",
    "                                     symbol_table: SymbolTableBase # a symbol table (used to get the types of variables)\n",
    "                                     ) -> bool: # True if the type check passed, else False\n",
    "    \"\"\"\n",
    "    Checks if the term list is properly typed.\n",
    "    the term list could include free variables, this method will assume their actual type is correct.\n",
    "    \"\"\"\n",
    "    if len(term_list) != len(type_list) or len(term_list) != len(correct_type_list):\n",
    "        raise Exception(\"the length of term_list, type_list and correct_type_list should be the same\")\n",
    "        \n",
    "\n",
    "    # perform the type check\n",
    "    for term, term_type, correct_type in zip(term_list, type_list, correct_type_list):\n",
    "\n",
    "        if term_type is DataTypes.var_name:\n",
    "            # current term is a variable, get its type from the symbol table\n",
    "            term_type = symbol_table.get_variable_type(term)\n",
    "\n",
    "        if term_type is not DataTypes.free_var_name and term_type != correct_type:\n",
    "            # the term is a literal that is not properly typed, the type check failed\n",
    "            return False\n",
    "\n",
    "    # all variables are properly typed, the type check succeeded\n",
    "    return True"
   ]
  },
  {
   "cell_type": "markdown",
   "metadata": {},
   "source": [
    "#| hide\n",
    "##### TEST"
   ]
  },
  {
   "cell_type": "code",
   "execution_count": null,
   "metadata": {},
   "outputs": [],
   "source": [
    "#| hide\n",
    "symbol_table = SymbolTable()\n",
    "\n",
    "term_list = [\"x\", \"y\", \"z\"]\n",
    "type_list = [DataTypes.var_name, DataTypes.var_name, DataTypes.free_var_name]\n",
    "correct_type_list = [DataTypes.integer, DataTypes.string, DataTypes.free_var_name]\n",
    "\n",
    "symbol_table.set_var_value_and_type(\"x\", None, DataTypes.integer)\n",
    "symbol_table.set_var_value_and_type(\"y\", None, DataTypes.string)\n",
    "\n",
    "result = check_properly_typed_term_list(term_list, type_list, correct_type_list, symbol_table)\n",
    "assert result is True"
   ]
  },
  {
   "cell_type": "code",
   "execution_count": null,
   "metadata": {},
   "outputs": [],
   "source": [
    "#| hide\n",
    "symbol_table = SymbolTable()\n",
    "\n",
    "term_list = [\"x\", \"y\", \"z\"]\n",
    "type_list = [DataTypes.var_name, DataTypes.var_name, DataTypes.free_var_name]\n",
    "correct_type_list = [DataTypes.string, DataTypes.integer, DataTypes.free_var_name]\n",
    "\n",
    "symbol_table.set_var_value_and_type(\"x\", None, DataTypes.integer)\n",
    "symbol_table.set_var_value_and_type(\"y\", None, DataTypes.string)\n",
    "\n",
    "result = check_properly_typed_term_list(term_list, type_list, correct_type_list, symbol_table)\n",
    "assert result is False"
   ]
  },
  {
   "cell_type": "code",
   "execution_count": null,
   "metadata": {},
   "outputs": [],
   "source": [
    "#| hide\n",
    "symbol_table = SymbolTable()\n",
    "\n",
    "term_list = [\"x\", \"y\", \"z\"]\n",
    "type_list = [DataTypes.var_name, DataTypes.var_name]\n",
    "correct_type_list = [DataTypes.integer, DataTypes.string]\n",
    "\n",
    "symbol_table.set_var_value_and_type(\"x\", None, DataTypes.integer)\n",
    "symbol_table.set_var_value_and_type(\"y\", None, DataTypes.string)\n",
    "\n",
    "with pytest.raises(Exception, match=\"the length of term_list, type_list and correct_type_list should be the same\"):\n",
    "    check_properly_typed_term_list(term_list, type_list, correct_type_list, symbol_table)"
   ]
  },
  {
   "cell_type": "markdown",
   "metadata": {},
   "source": [
    "#| hide\n",
    "#### check_properly_typed_relation"
   ]
  },
  {
   "cell_type": "code",
   "execution_count": null,
   "metadata": {},
   "outputs": [],
   "source": [
    "#| export\n",
    "@no_type_check\n",
    "def check_properly_typed_relation(relation: Union[Relation, IERelation] # the relation to be checked\n",
    "                                  , symbol_table: SymbolTableBase # a symbol table (to check the types of regular variables)\n",
    "                                  ) -> bool: # true if the relation is properly typed, else false\n",
    "    \"\"\"\n",
    "    Checks if a relation is properly typed, this check ignores free variables.\n",
    "    \"\"\"\n",
    "\n",
    "    if isinstance(relation, Relation):\n",
    "        # get the schema of the relation\n",
    "        relation_schema = symbol_table.get_relation_schema(relation.relation_name)\n",
    "        # check if the relation's term list is properly typed\n",
    "        relation_is_properly_typed = check_properly_typed_term_list(\n",
    "            relation.term_list, relation.type_list, relation_schema, symbol_table)\n",
    "\n",
    "    elif isinstance(relation, IERelation):\n",
    "\n",
    "        # get the input and output schemas of the ie function\n",
    "        ie_func_name = relation.relation_name\n",
    "        ie_func_data = symbol_table.get_ie_func_data(ie_func_name)\n",
    "        input_schema = ie_func_data.get_input_types()\n",
    "        output_arity = len(relation.output_term_list) + len(relation.input_term_list)\n",
    "        output_schema = ie_func_data.get_output_types(output_arity)\n",
    "\n",
    "        # perform the type check on both the input and output term lists\n",
    "        # both of them need to be properly typed for the check to pass\n",
    "        input_type_check_passed = check_properly_typed_term_list(\n",
    "            relation.input_term_list, relation.input_type_list, input_schema, symbol_table)\n",
    "        output_type_check_passed = check_properly_typed_term_list(\n",
    "            relation.input_term_list + relation.output_term_list,\n",
    "            relation.input_type_list + relation.output_type_list, output_schema, symbol_table)\n",
    "        relation_is_properly_typed = input_type_check_passed and output_type_check_passed\n",
    "\n",
    "    else:\n",
    "        raise Exception(f'unexpected relation type: {type(relation)}')\n",
    "\n",
    "    return relation_is_properly_typed"
   ]
  },
  {
   "cell_type": "markdown",
   "metadata": {},
   "source": [
    "#| hide\n",
    "##### TEST"
   ]
  },
  {
   "cell_type": "code",
   "execution_count": null,
   "metadata": {},
   "outputs": [],
   "source": [
    "#| hide\n",
    "symbol_table = SymbolTable()\n",
    "\n",
    "symbol_table.add_relation_schema(\"relation1\", [DataTypes.integer, DataTypes.string], is_rule=False)\n",
    "\n",
    "relation = Relation(\"relation1\", [\"x\", \"y\"], [DataTypes.free_var_name, DataTypes.free_var_name])\n",
    "result = check_properly_typed_relation(relation, symbol_table)\n",
    "assert result is True"
   ]
  },
  {
   "cell_type": "code",
   "execution_count": null,
   "metadata": {},
   "outputs": [],
   "source": [
    "#| hide\n",
    "symbol_table = SymbolTable()\n",
    "\n",
    "symbol_table.add_relation_schema(\"ie_relation1\", [DataTypes.integer, DataTypes.string], is_rule=True)\n",
    "\n",
    "ie_relation = IERelation(\"ie_relation1\", [\"x\"], [DataTypes.free_var_name], [\"y\"], [DataTypes.free_var_name])\n",
    "with pytest.raises(ValueError):\n",
    "    check_properly_typed_relation(ie_relation, symbol_table)\n"
   ]
  },
  {
   "cell_type": "code",
   "execution_count": null,
   "metadata": {},
   "outputs": [],
   "source": [
    "#| hide\n",
    "symbol_table = SymbolTable()\n",
    "\n",
    "symbol_table.add_relation_schema(\"ie_relation1\", [DataTypes.integer, DataTypes.string], is_rule=True)\n",
    "\n",
    "ie_relation = IERelation(\"ie_relation1\", [\"x\"], [DataTypes.free_var_name], [\"y\"], [DataTypes.string])\n",
    "with pytest.raises(ValueError):\n",
    "    check_properly_typed_relation(ie_relation, symbol_table)"
   ]
  },
  {
   "cell_type": "code",
   "execution_count": null,
   "metadata": {},
   "outputs": [],
   "source": [
    "#| hide\n",
    "symbol_table = SymbolTable()\n",
    "\n",
    "symbol_table.add_relation_schema(\"ie_relation1\", [DataTypes.integer, DataTypes.string], is_rule=True)\n",
    "\n",
    "with pytest.raises(Exception):\n",
    "    IERelation(\"ie_relation1\", [\"x\"], [DataTypes.free_var_name], [\"y\"], [DataTypes.free_var_name, DataTypes.integer])"
   ]
  },
  {
   "cell_type": "code",
   "execution_count": null,
   "metadata": {},
   "outputs": [],
   "source": [
    "#| hide\n",
    "symbol_table = SymbolTable()\n",
    "\n",
    "with pytest.raises(Exception, match=\"unexpected relation type:\"):\n",
    "    check_properly_typed_relation(\"unexpected_relation\", symbol_table)"
   ]
  },
  {
   "cell_type": "markdown",
   "metadata": {},
   "source": [
    "#| hide\n",
    "#### type_check_rule_free_vars"
   ]
  },
  {
   "cell_type": "code",
   "execution_count": null,
   "metadata": {},
   "outputs": [],
   "source": [
    "#| export\n",
    "def type_check_rule_free_vars_aux(term_list: Sequence, # the term list of a rule body relation\n",
    "                                   type_list: Sequence, # the types of the terms in term_list\n",
    "                                     correct_type_list: Sequence, # a list of the types that the terms in the term list should have\n",
    "                                  free_var_to_type: Dict, # a mapping of free variables to their type (those that are currently known)\n",
    "                                    # a set of the free variables that are found to have conflicting types\n",
    "                                    conflicted_free_vars: Set # this function adds conflicting free variables that it finds to this set\n",
    "                                    ) -> None:\n",
    "    \"\"\"\n",
    "    A helper function for the method `type_check_rule_free_vars`\n",
    "    performs the free variables type checking on term_list.\n",
    "    \"\"\"\n",
    "\n",
    "    if len(term_list) != len(type_list) or len(term_list) != len(correct_type_list):\n",
    "        raise Exception(\"the length of term_list, type_list and correct_type_list should be the same\")\n",
    "\n",
    "    for term, term_type, correct_type in zip(term_list, type_list, correct_type_list):\n",
    "        if term_type is DataTypes.free_var_name:\n",
    "            # found a free variable, check for conflicting types\n",
    "            free_var = term\n",
    "            assert isinstance(free_var, str), \"a free_var must be of type str\"\n",
    "            if free_var in free_var_to_type:\n",
    "                # free var already has a type, make sure there's no conflict with the expected type.\n",
    "                free_var_type = free_var_to_type[free_var]\n",
    "                if free_var_type != correct_type:\n",
    "                    # found a conflicted free var, add it to the conflicted free vars set\n",
    "                    conflicted_free_vars.add(free_var)\n",
    "            else:\n",
    "                # free var does not currently have a type, map it to the correct type\n",
    "                free_var_to_type[free_var] = correct_type"
   ]
  },
  {
   "cell_type": "code",
   "execution_count": null,
   "metadata": {},
   "outputs": [],
   "source": [
    "#| export\n",
    "def type_check_rule_free_vars(rule: Rule, # The rule to be checked\n",
    "                               symbol_table: SymbolTableBase # a symbol table (used to get the schema of the relation)\n",
    "                                # a tuple (free_var_to_type, conflicted_free_vars) where\n",
    "                                # free_var_to_type: a mapping from a free variable to its type\n",
    "                                # conflicted_free_vars: a set of all the conflicted free variables\n",
    "                               ) -> Tuple[Dict[str, DataTypes], Set[str]]:\n",
    "    \"\"\"\n",
    "    Free variables in rules get their type from the relations in the rule body. <br>\n",
    "    it is possible for a free variable to be expected to be more than one type (meaning it has conflicting types). <br>\n",
    "    for each free variable in the rule body relations, this method will check for its type and will check if it\n",
    "    has conflicting types\n",
    "    \"\"\"\n",
    "\n",
    "    free_var_to_type: Dict[str, DataTypes] = {}\n",
    "    conflicted_free_vars: Set[str] = set()\n",
    "\n",
    "    for relation, relation_type in zip(rule.body_relation_list, rule.body_relation_type_list):\n",
    "\n",
    "        if isinstance(relation, Relation):\n",
    "            # get the schema for the relation\n",
    "            relation_schema = symbol_table.get_relation_schema(relation.relation_name)\n",
    "            # perform the free variable type checking\n",
    "            type_check_rule_free_vars_aux(relation.term_list, relation.type_list, relation_schema,\n",
    "                                          free_var_to_type, conflicted_free_vars)\n",
    "\n",
    "        elif isinstance(relation, IERelation):\n",
    "            # get the input and output schema of the ie function\n",
    "            ie_func_name = relation.relation_name\n",
    "            ie_func_data = symbol_table.get_ie_func_data(ie_func_name)\n",
    "            input_schema = ie_func_data.get_input_types()\n",
    "            output_arity = len(relation.output_term_list) + len(relation.input_term_list)\n",
    "            output_schema = ie_func_data.get_output_types(output_arity)\n",
    "\n",
    "            # perform the free variable type checking on both the input and output term lists of the ie relation\n",
    "            type_check_rule_free_vars_aux(relation.input_term_list, relation.input_type_list,\n",
    "                                          input_schema, free_var_to_type, conflicted_free_vars)\n",
    "            type_check_rule_free_vars_aux(relation.input_term_list + relation.output_term_list,\n",
    "                                          relation.input_type_list + relation.output_type_list,\n",
    "                                          output_schema, free_var_to_type, conflicted_free_vars)\n",
    "\n",
    "        else:\n",
    "            raise Exception(f'unexpected relation type: {relation_type}')\n",
    "\n",
    "    return free_var_to_type, conflicted_free_vars"
   ]
  },
  {
   "cell_type": "markdown",
   "metadata": {},
   "source": [
    "::: {.callout-note}\n",
    "this function updates `free_var_to_type`'s mapping if it finds new free variables in term_list\n",
    ":::"
   ]
  },
  {
   "cell_type": "markdown",
   "metadata": {},
   "source": [
    "#| hide\n",
    "##### TEST"
   ]
  },
  {
   "cell_type": "code",
   "execution_count": null,
   "metadata": {},
   "outputs": [],
   "source": [
    "#| hide\n",
    "def doSomething(x,y):\n",
    "    yield x\n",
    "rule = Rule(\n",
    "    \"rule2\",\n",
    "    [IERelation(\"doSomething\", [\"x\",\"y\"], [DataTypes.free_var_name,DataTypes.free_var_name], [\"x\"], [DataTypes.free_var_name])],\n",
    "    [\"IERelation\"]\n",
    ")\n",
    "\n",
    "symbol_table = SymbolTable()\n",
    "symbol_table.register_ie_function(doSomething,\"doSomething\", [DataTypes.integer, DataTypes.string], [DataTypes.integer])\n",
    "free_var_to_type, conflicted_free_vars = type_check_rule_free_vars(rule, symbol_table)\n",
    "assert free_var_to_type == {\"x\": DataTypes.integer, \"y\": DataTypes.string}\n",
    "assert conflicted_free_vars == set()"
   ]
  },
  {
   "cell_type": "code",
   "execution_count": null,
   "metadata": {},
   "outputs": [],
   "source": [
    "#| hide\n",
    "rule = Rule(\n",
    "    \"rule1\",\n",
    "    [Relation(\"Person\", [\"x\", \"y\"], [DataTypes.free_var_name, DataTypes.free_var_name])],\n",
    "    [\"Relation\"]\n",
    ")\n",
    "symbol_table = SymbolTable()\n",
    "symbol_table.add_relation_schema(\"Person\", [DataTypes.string, DataTypes.integer], False)\n",
    "free_var_to_type, conflicted_free_vars = type_check_rule_free_vars(rule, symbol_table)\n",
    "assert free_var_to_type == {\"x\": DataTypes.string, \"y\": DataTypes.integer}\n",
    "assert conflicted_free_vars == set()"
   ]
  },
  {
   "cell_type": "code",
   "execution_count": null,
   "metadata": {},
   "outputs": [],
   "source": [
    "#| hide\n",
    "def doSomething(x,y):\n",
    "    yield x\n",
    "\n",
    "rule = Rule(\n",
    "    \"rule3\",\n",
    "    [\n",
    "        Relation(\"Person\", [\"x\", \"y\"], [DataTypes.free_var_name, DataTypes.free_var_name]),\n",
    "        IERelation(\"doSomething\", [\"x\", \"y\"], [DataTypes.integer, DataTypes.string], [\"x\"], [DataTypes.integer])\n",
    "    ],\n",
    "    [\"Relation\", \"IERelation\"]\n",
    ")\n",
    "symbol_table = SymbolTable()\n",
    "symbol_table.add_relation_schema(\"Person\", [DataTypes.string, DataTypes.integer], False)\n",
    "symbol_table.register_ie_function(doSomething, \"doSomething\", [DataTypes.string, DataTypes.integer], [DataTypes.string])\n",
    "free_var_to_type, conflicted_free_vars = type_check_rule_free_vars(rule, symbol_table)\n",
    "assert free_var_to_type == {\"x\": DataTypes.string, \"y\": DataTypes.integer}\n",
    "assert conflicted_free_vars == set()"
   ]
  },
  {
   "cell_type": "markdown",
   "metadata": {},
   "source": [
    "#| hide\n",
    "#### rule_to_relation_name"
   ]
  },
  {
   "cell_type": "code",
   "execution_count": null,
   "metadata": {},
   "outputs": [],
   "source": [
    "#| export\n",
    "def rule_to_relation_name(rule: str # a string that represents a rule\n",
    "                          ) -> str: # the name of the rule relation\n",
    "    \"\"\"\n",
    "    Extracts the relation name from the rule string.\n",
    "    \"\"\"\n",
    "\n",
    "    return rule.strip().split('(')[0]"
   ]
  },
  {
   "cell_type": "markdown",
   "metadata": {},
   "source": [
    "#| hide\n",
    "#### string_to_span"
   ]
  },
  {
   "cell_type": "code",
   "execution_count": null,
   "metadata": {},
   "outputs": [],
   "source": [
    "#| export\n",
    "def string_to_span(string_of_span: str # str represenation of a `Span` object\n",
    "                   ) -> Optional[Span]: # `Span` object initialized based on the `string_of_span` it received as input \n",
    "    span_match = re.match(SPAN_PATTERN, string_of_span)\n",
    "    if not span_match:\n",
    "        return None\n",
    "    start, end = int(span_match.group(SPAN_GROUP1)), int(span_match.group(SPAN_GROUP2))\n",
    "    return Span(span_start=start, span_end=end)"
   ]
  },
  {
   "cell_type": "markdown",
   "metadata": {},
   "source": [
    "#| hide\n",
    "#### extract_one_relation"
   ]
  },
  {
   "cell_type": "code",
   "execution_count": null,
   "metadata": {},
   "outputs": [],
   "source": [
    "#| export\n",
    "def extract_one_relation(func: Callable) -> Callable:\n",
    "    \"\"\"\n",
    "    This decorator is used by engine operators that expect to get exactly one input relation but actually get a list of relations.\n",
    "    \"\"\"\n",
    "\n",
    "    @functools.wraps(func)\n",
    "    def wrapper(ref: Any, input_relations: Any, *args: Any, **kwargs: Any) -> Any:\n",
    "        \"\"\"\n",
    "        Flattens the relations list.\n",
    "        \"\"\"\n",
    "        if isinstance(input_relations, Relation):\n",
    "            return func(ref, input_relations, *args, **kwargs)\n",
    "\n",
    "        assert len(input_relations) == 1\n",
    "        return func(ref, input_relations[0], *args, **kwargs)\n",
    "\n",
    "    return wrapper"
   ]
  },
  {
   "cell_type": "code",
   "execution_count": null,
   "metadata": {},
   "outputs": [],
   "source": [
    "#|hide\n",
    "import nbdev; nbdev.nbdev_export()\n",
    "     "
   ]
  }
 ],
 "metadata": {
  "kernelspec": {
   "display_name": "python3",
   "language": "python",
   "name": "python3"
  }
 },
 "nbformat": 4,
 "nbformat_minor": 4
}
