{
 "cells": [
  {
   "cell_type": "code",
   "execution_count": null,
   "metadata": {},
   "outputs": [
    {
     "ename": "ModuleNotFoundError",
     "evalue": "No module named 'spanner_workbench'",
     "output_type": "error",
     "traceback": [
      "\u001b[0;31m---------------------------------------------------------------------------\u001b[0m",
      "\u001b[0;31mModuleNotFoundError\u001b[0m                       Traceback (most recent call last)",
      "Cell \u001b[0;32mIn[1], line 1\u001b[0m\n\u001b[0;32m----> 1\u001b[0m \u001b[38;5;28;01mfrom\u001b[39;00m \u001b[38;5;21;01mspanner_workbench\u001b[39;00m\u001b[38;5;21;01m.\u001b[39;00m\u001b[38;5;21;01msrc\u001b[39;00m\u001b[38;5;21;01m.\u001b[39;00m\u001b[38;5;21;01mrgxlog_interpreter\u001b[39;00m\u001b[38;5;21;01m.\u001b[39;00m\u001b[38;5;21;01msrc\u001b[39;00m\u001b[38;5;21;01m.\u001b[39;00m\u001b[38;5;21;01mrgxlog\u001b[39;00m\u001b[38;5;21;01m.\u001b[39;00m\u001b[38;5;21;01mengine\u001b[39;00m\u001b[38;5;21;01m.\u001b[39;00m\u001b[38;5;21;01msession\u001b[39;00m \u001b[38;5;28;01mimport\u001b[39;00m Session, queries_to_string\n\u001b[1;32m      2\u001b[0m \u001b[38;5;28;01mfrom\u001b[39;00m \u001b[38;5;21;01mspanner_workbench\u001b[39;00m\u001b[38;5;21;01m.\u001b[39;00m\u001b[38;5;21;01msrc\u001b[39;00m\u001b[38;5;21;01m.\u001b[39;00m\u001b[38;5;21;01mrgxlog_interpreter\u001b[39;00m\u001b[38;5;21;01m.\u001b[39;00m\u001b[38;5;21;01msrc\u001b[39;00m\u001b[38;5;21;01m.\u001b[39;00m\u001b[38;5;21;01mrgxlog\u001b[39;00m\u001b[38;5;21;01m.\u001b[39;00m\u001b[38;5;21;01mengine\u001b[39;00m\u001b[38;5;21;01m.\u001b[39;00m\u001b[38;5;21;01mdatatypes\u001b[39;00m\u001b[38;5;21;01m.\u001b[39;00m\u001b[38;5;21;01mprimitive_types\u001b[39;00m \u001b[38;5;28;01mimport\u001b[39;00m DataTypes\n\u001b[1;32m      3\u001b[0m \u001b[38;5;28;01mfrom\u001b[39;00m \u001b[38;5;21;01mspanner_workbench\u001b[39;00m\u001b[38;5;21;01m.\u001b[39;00m\u001b[38;5;21;01msrc\u001b[39;00m\u001b[38;5;21;01m.\u001b[39;00m\u001b[38;5;21;01mrgxlog_interpreter\u001b[39;00m\u001b[38;5;21;01m.\u001b[39;00m\u001b[38;5;21;01msrc\u001b[39;00m\u001b[38;5;21;01m.\u001b[39;00m\u001b[38;5;21;01mrgxlog\u001b[39;00m\u001b[38;5;21;01m.\u001b[39;00m\u001b[38;5;21;01mengine\u001b[39;00m\u001b[38;5;21;01m.\u001b[39;00m\u001b[38;5;21;01mutils\u001b[39;00m\u001b[38;5;21;01m.\u001b[39;00m\u001b[38;5;21;01mgeneral_utils\u001b[39;00m \u001b[38;5;28;01mimport\u001b[39;00m QUERY_RESULT_PREFIX\n",
      "\u001b[0;31mModuleNotFoundError\u001b[0m: No module named 'spanner_workbench'"
     ]
    }
   ],
   "source": [
    "from spanner_workbench.src.rgxlog_interpreter.src.rgxlog.engine.session import Session, queries_to_string\n",
    "from spanner_workbench.src.rgxlog_interpreter.src.rgxlog.engine.datatypes.primitive_types import DataTypes\n",
    "from spanner_workbench.src.rgxlog_interpreter.src.rgxlog.engine.utils.general_utils import QUERY_RESULT_PREFIX\n",
    "from typing import Optional, Iterable, Dict, List"
   ]
  },
  {
   "cell_type": "code",
   "execution_count": null,
   "metadata": {},
   "outputs": [],
   "source": [
    "def split_to_tables(result: str) -> List[str]:\n",
    "    \"\"\"\n",
    "    @param result: rgxlog's output.\n",
    "    @return: List of strings, each string represents a table.\n",
    "    \"\"\"\n",
    "\n",
    "    # in rgxlog's output, all tables are separated by two consecutive \\n.\n",
    "    return result.split(\"\\n\\n\")"
   ]
  },
  {
   "cell_type": "code",
   "execution_count": null,
   "metadata": {},
   "outputs": [],
   "source": [
    "def table_to_query_free_vars_tuples(table: str) -> Iterable:\n",
    "    \"\"\"\n",
    "    Parses the string table into a nicer format.\n",
    "\n",
    "    @param table: the string that represents a table.\n",
    "    @return: the clean format (see comments above return statements).\n",
    "    \"\"\"\n",
    "    # split string into lines and ignore white spaces.\n",
    "    # tuple[0] is always the print statement.\n",
    "    tuples = [line.strip() for line in table.split(\"\\n\") if len(line.strip()) != 0]\n",
    "    if len(tuples) < 2:\n",
    "        raise ValueError(\"illegal output received: \\n\\\"\" + '\\n'.join(tuples) + '\"')\n",
    "    # if table is empty (which means it contains one value of true/false) we return tuple.\n",
    "    # tuple[0] is the print statement, tuple[1] is true/false.\n",
    "    if tuples[1] in [\"[()]\", \"[]\"]:\n",
    "        return tuples\n",
    "    # if table is not empty, then: tuple[0] is the print statement, tuple[1] are the free vars and tuple[3:] contains\n",
    "    # all the tuples inside the table .\n",
    "    else:  # query   |free vars|     tuples\n",
    "        return tuples[0], tuples[1], set(tuples[3:])"
   ]
  },
  {
   "cell_type": "code",
   "execution_count": null,
   "metadata": {},
   "outputs": [],
   "source": [
    "def compare_strings(expected: str, output: str) -> bool:\n",
    "    \"\"\"\n",
    "    @param expected: expected output.\n",
    "    @param output: actual output.\n",
    "    @return: True if output and expected represent the same result, False otherwise.\n",
    "    \"\"\"\n",
    "    expected = \"\\n\".join([line.strip() for line in expected.splitlines()])\n",
    "    output = \"\\n\".join([line.strip() for line in output.splitlines()])\n",
    "\n",
    "    expected_tables, output_tables = split_to_tables(expected), split_to_tables(output)\n",
    "    # if there are different number of tables than false\n",
    "    if len(expected_tables) != len(output_tables):\n",
    "        return False\n",
    "\n",
    "    # check that all the tables are equal\n",
    "    for expected_table, output_table in zip(expected_tables, output_tables):\n",
    "        if table_to_query_free_vars_tuples(expected_table) != table_to_query_free_vars_tuples(output_table):\n",
    "            return False\n",
    "\n",
    "    return True"
   ]
  },
  {
   "cell_type": "code",
   "execution_count": null,
   "metadata": {},
   "outputs": [],
   "source": [
    "def run_test(commands: str, expected_output: Optional[str] = None, functions_to_import: Iterable[Dict] = (),\n",
    "             session: Optional[Session] = None) -> Session:\n",
    "    \"\"\"\n",
    "    A function that executes a test.\n",
    "\n",
    "    @param commands: the commands to run.\n",
    "    @param expected_output: the expected output of the commands. if it has value of None, than we won't check the output.\n",
    "    @param functions_to_import: an iterable of functions we want to import to the session.\n",
    "    @param session: the session in which we run the commands.\n",
    "    @return: the session it created or got as an argument.\n",
    "    \"\"\"\n",
    "    # if session wasn't passed as an arg than we create it\n",
    "    if session is None:\n",
    "        session = Session()\n",
    "\n",
    "    # import all ie functions\n",
    "    for ie_function in functions_to_import:\n",
    "        session.register(**ie_function)\n",
    "    commands_result = session.run_commands(commands, print_results=True)\n",
    "\n",
    "    if expected_output is not None:\n",
    "        commands_result_string = queries_to_string(commands_result)\n",
    "        assert compare_strings(expected_output, commands_result_string), \"expected string != result string\"\n",
    "\n",
    "    return session"
   ]
  },
  {
   "cell_type": "code",
   "execution_count": null,
   "metadata": {},
   "outputs": [],
   "source": [
    "def test_issue_80_1() -> None:\n",
    "    def which_century(year) -> Iterable[int]:\n",
    "        yield int(year / 100) + 1\n",
    "\n",
    "    in_out_types = [DataTypes.integer]\n",
    "\n",
    "    which_century_dict = dict(ie_function=which_century,\n",
    "                              ie_function_name='which_century',\n",
    "                              in_rel=in_out_types,\n",
    "                              out_rel=in_out_types)\n",
    "\n",
    "    def which_era(cet) -> Iterable[str]:\n",
    "        if 1 <= cet < 4:\n",
    "            yield \"Targerian Regime\"\n",
    "        elif 4 <= cet < 8:\n",
    "            yield \"Lanister Regime\"\n",
    "        elif 8 <= cet < 12:\n",
    "            yield \"Stark Regime\"\n",
    "        elif 12 <= cet < 16:\n",
    "            yield \"Barathion Regime\"\n",
    "        elif cet >= 16:\n",
    "            yield \"Long Winter\"\n",
    "\n",
    "    which_era_dict = dict(ie_function=which_era,\n",
    "                          ie_function_name='which_era',\n",
    "                          in_rel=[DataTypes.integer],\n",
    "                          out_rel=[DataTypes.string])\n",
    "\n",
    "    commands = \"\"\"new event(str, int)\n",
    "                        event(\"First Dragon\", 250)\n",
    "                        event(\"Mad king\", 390)\n",
    "                        event(\"Winter came\", 1750)\n",
    "                        event(\"Hodor\", 999)\n",
    "                        event(\"Joffery died\", 799)\n",
    "                        \n",
    "                        new important_year(int)\n",
    "                        important_year(999)\n",
    "                        important_year(1750)\n",
    "                        important_year(250)\n",
    "                        \n",
    "                        \n",
    "                        important_events(EVE, Y) <- event(EVE, Y), important_year(Y)\n",
    "                        \n",
    "                        important_events_per_cet(EVE, CET) <- important_events(EVE, Y), which_century(Y) -> (CET)\n",
    "                        ?important_events_per_cet(EVE, CET)\n",
    "            \"\"\"\n",
    "    commands2 = \"\"\"\n",
    "                        important_events_per_era(EVE, ERA) <- important_events_per_cet(EVE, CET), which_era(CET) -> (ERA)\n",
    "                        ?important_events_per_era(EVE, ERA)\n",
    "            \"\"\"\n",
    "    expected_result = f\"\"\"{QUERY_RESULT_PREFIX}'important_events_per_cet(EVE, CET)':\n",
    "                         EVE      |   CET\n",
    "                    --------------+-------\n",
    "                     First Dragon |     3\n",
    "                     Winter came  |    18\n",
    "                        Hodor     |    10\n",
    "         \"\"\"\n",
    "\n",
    "    expected_result2 = f\"\"\"{QUERY_RESULT_PREFIX}'important_events_per_era(EVE, ERA)':\n",
    "                         EVE      |       ERA\n",
    "                    --------------+------------------\n",
    "                        Hodor     |   Stark Regime\n",
    "                     Winter came  |   Long Winter\n",
    "                     First Dragon | Targerian Regime\n",
    "        \"\"\"\n",
    "\n",
    "    session = run_test(commands, expected_result, [which_century_dict])\n",
    "\n",
    "    run_test(commands2, expected_result2, [which_era_dict], session=session)"
   ]
  },
  {
   "cell_type": "code",
   "execution_count": null,
   "metadata": {},
   "outputs": [
    {
     "name": "stdout",
     "output_type": "stream",
     "text": [
      "printing results for query 'important_events_per_cet(EVE, CET)':\n",
      "     EVE      |   CET\n",
      "--------------+-------\n",
      "    Hodor     |    10\n",
      " Winter came  |    18\n",
      " First Dragon |     3\n",
      "\n",
      "printing results for query 'important_events_per_era(EVE, ERA)':\n",
      "     EVE      |       ERA\n",
      "--------------+------------------\n",
      "    Hodor     |   Stark Regime\n",
      " Winter came  |   Long Winter\n",
      " First Dragon | Targerian Regime\n",
      "\n"
     ]
    }
   ],
   "source": [
    "test_issue_80_1()"
   ]
  },
  {
   "cell_type": "code",
   "execution_count": null,
   "metadata": {},
   "outputs": [],
   "source": []
  }
 ],
 "metadata": {
  "kernelspec": {
   "display_name": "python3",
   "language": "python",
   "name": "python3"
  }
 },
 "nbformat": 4,
 "nbformat_minor": 2
}
