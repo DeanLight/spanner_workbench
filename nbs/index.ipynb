{
 "cells": [
  {
   "cell_type": "markdown",
   "metadata": {},
   "source": [
    "# Welcome to Spanner Workbench"
   ]
  },
  {
   "cell_type": "markdown",
   "metadata": {},
   "source": [
    "Welcome to the spanner_workbench project.\n",
    "\n",
    "The spanner_workbench is a framework for building programming languages that are a combination of imperative and declarative languages.\n",
    "This combination is based off of derivations of the document spanner model.\n",
    "\n",
    "Currently, we implement a language called rgxlog over python. rgxlog is an extension of statically types datalog which allows users to define their own ie functions which can be used to derive new structured information from relations.\n",
    "\n",
    "The rgxlog repl, shown bellow is served using the [jupyter magic commands](https://opensarlab-docs.asf.alaska.edu/user-guides/jupyter_magic/)\n",
    "\n",
    "Bellow, we will show you how to install and use rgxlog through the spanner workbench."
   ]
  },
  {
   "cell_type": "markdown",
   "metadata": {},
   "source": [
    "\n",
    "## Installation\n"
   ]
  },
  {
   "cell_type": "markdown",
   "metadata": {},
   "source": [
    "### Unix\n"
   ]
  },
  {
   "cell_type": "markdown",
   "metadata": {},
   "source": [
    "\n",
    "To download and install RGXLog run the following commands in your terminal:\n",
    "\n",
    "```bash\n",
    "git clone https://github.com/DeanLight/spanner_workbench\n",
    "cd spanner_workbench\n",
    "\n",
    "pip install -e .\n",
    "```\n",
    "\n",
    "download corenlp to\n",
    "`spanner_workbench/rgxlog/`\n",
    "\n",
    "from [this link](https://drive.google.com/u/0/uc?export=download&id=1QixGiHD2mHKuJtB69GHDQA0wTyXtHzjl)\n",
    "\n",
    "```bash\n",
    "# verify everything worked\n",
    "# first time might take a couple of minutes since run time assets are being configured\n",
    "python nbdev_test.py\n",
    "\n",
    "```\n"
   ]
  },
  {
   "cell_type": "markdown",
   "metadata": {},
   "source": [
    "\n",
    "### docker\n"
   ]
  },
  {
   "cell_type": "markdown",
   "metadata": {},
   "source": [
    "\n",
    "```bash\n",
    "git clone https://github.com/DeanLight/spanner_workbench\n",
    "cd spanner_workbench\n",
    "```\n",
    "\n",
    "download corenlp to\n",
    "`spanner_workbench/rgxlog/`\n",
    "\n",
    "from [this link](https://drive.google.com/u/0/uc?export=download&id=1QixGiHD2mHKuJtB69GHDQA0wTyXtHzjl)\n",
    "\n",
    "```bash\n",
    "docker build . -t spanner_workbench_image\n",
    "\n",
    "# on windows, change `pwd to current working directory`\n",
    "# to get a bash terminal to the container\n",
    "docker run --name swc --rm -it \\\n",
    "  -v `pwd`:/spanner_workbench:Z \\\n",
    "  spanner_workbench_image bash\n",
    "\n",
    "# to run an interactive notebook on host port 8891\n",
    "docker run --name swc --rm -it \\\n",
    "  -v `pwd`:/spanner_workbench:Z \\\n",
    "  -p8891:8888 \\\n",
    "  spanner_workbench_image jupyter notebook --no-browser --allow-root\n",
    "\n",
    "#Verify tests inside the container\n",
    "python /spanner_workbench/nbdev_test.py\n",
    "\n",
    "```\n"
   ]
  },
  {
   "cell_type": "markdown",
   "metadata": {},
   "source": [
    "\n",
    "## Getting started - TLDR\n",
    "\n",
    "Here is a TLDR intro, for a more comprehensive tutorial, please see the introduction section of the tutorials.\n"
   ]
  },
  {
   "cell_type": "code",
   "execution_count": null,
   "metadata": {},
   "outputs": [],
   "source": [
    "import spanner_workbench\n",
    "import pandas as pd\n",
    "# get dynamic access to the session running through the jupyter magic system\n",
    "from spanner_workbench import magic_session"
   ]
  },
  {
   "cell_type": "markdown",
   "metadata": {},
   "source": [
    "Get a dataframe"
   ]
  },
  {
   "cell_type": "code",
   "execution_count": null,
   "metadata": {},
   "outputs": [
    {
     "data": {
      "text/html": [
       "<div>\n",
       "<style scoped>\n",
       "    .dataframe tbody tr th:only-of-type {\n",
       "        vertical-align: middle;\n",
       "    }\n",
       "\n",
       "    .dataframe tbody tr th {\n",
       "        vertical-align: top;\n",
       "    }\n",
       "\n",
       "    .dataframe thead th {\n",
       "        text-align: right;\n",
       "    }\n",
       "</style>\n",
       "<table border=\"1\" class=\"dataframe\">\n",
       "  <thead>\n",
       "    <tr style=\"text-align: right;\">\n",
       "      <th></th>\n",
       "      <th>name</th>\n",
       "      <th>course</th>\n",
       "    </tr>\n",
       "  </thead>\n",
       "  <tbody>\n",
       "    <tr>\n",
       "      <th>0</th>\n",
       "      <td>walter</td>\n",
       "      <td>chemistry</td>\n",
       "    </tr>\n",
       "    <tr>\n",
       "      <th>1</th>\n",
       "      <td>linus</td>\n",
       "      <td>operating_systems</td>\n",
       "    </tr>\n",
       "    <tr>\n",
       "      <th>2</th>\n",
       "      <td>rick</td>\n",
       "      <td>physics</td>\n",
       "    </tr>\n",
       "  </tbody>\n",
       "</table>\n",
       "</div>"
      ],
      "text/plain": [
       "     name             course\n",
       "0  walter          chemistry\n",
       "1   linus  operating_systems\n",
       "2    rick            physics"
      ]
     },
     "metadata": {},
     "output_type": "display_data"
    }
   ],
   "source": [
    "lecturer_df = pd.DataFrame(\n",
    "    [[\"walter\",\"chemistry\"],\n",
    "     [\"linus\", \"operating_systems\"],\n",
    "     ['rick', 'physics']\n",
    "    ],columns=[\"name\",\"course\"])\n",
    "lecturer_df"
   ]
  },
  {
   "cell_type": "markdown",
   "metadata": {},
   "source": [
    "Or a CSV"
   ]
  },
  {
   "cell_type": "code",
   "execution_count": null,
   "metadata": {},
   "outputs": [
    {
     "data": {
      "text/html": [
       "<div>\n",
       "<style scoped>\n",
       "    .dataframe tbody tr th:only-of-type {\n",
       "        vertical-align: middle;\n",
       "    }\n",
       "\n",
       "    .dataframe tbody tr th {\n",
       "        vertical-align: top;\n",
       "    }\n",
       "\n",
       "    .dataframe thead th {\n",
       "        text-align: right;\n",
       "    }\n",
       "</style>\n",
       "<table border=\"1\" class=\"dataframe\">\n",
       "  <thead>\n",
       "    <tr style=\"text-align: right;\">\n",
       "      <th></th>\n",
       "      <th>name</th>\n",
       "      <th>course</th>\n",
       "    </tr>\n",
       "  </thead>\n",
       "  <tbody>\n",
       "    <tr>\n",
       "      <th>0</th>\n",
       "      <td>abigail</td>\n",
       "      <td>chemistry</td>\n",
       "    </tr>\n",
       "    <tr>\n",
       "      <th>1</th>\n",
       "      <td>abigail</td>\n",
       "      <td>operation systems</td>\n",
       "    </tr>\n",
       "    <tr>\n",
       "      <th>2</th>\n",
       "      <td>jordan</td>\n",
       "      <td>chemistry</td>\n",
       "    </tr>\n",
       "    <tr>\n",
       "      <th>3</th>\n",
       "      <td>gale</td>\n",
       "      <td>operation systems</td>\n",
       "    </tr>\n",
       "    <tr>\n",
       "      <th>4</th>\n",
       "      <td>howard</td>\n",
       "      <td>chemistry</td>\n",
       "    </tr>\n",
       "    <tr>\n",
       "      <th>5</th>\n",
       "      <td>howard</td>\n",
       "      <td>physics</td>\n",
       "    </tr>\n",
       "  </tbody>\n",
       "</table>\n",
       "</div>"
      ],
      "text/plain": [
       "      name             course\n",
       "0  abigail          chemistry\n",
       "1  abigail  operation systems\n",
       "2   jordan          chemistry\n",
       "3     gale  operation systems\n",
       "4   howard          chemistry\n",
       "5   howard            physics"
      ]
     },
     "metadata": {},
     "output_type": "display_data"
    }
   ],
   "source": [
    "pd.read_csv('sample_data/example_students.csv',names=[\"name\",\"course\"])"
   ]
  },
  {
   "cell_type": "markdown",
   "metadata": {},
   "source": [
    "Import them to the session"
   ]
  },
  {
   "cell_type": "code",
   "execution_count": null,
   "metadata": {},
   "outputs": [],
   "source": [
    "magic_session.import_relation_from_df(lecturer_df, relation_name=\"lecturer\")\n",
    "magic_session.import_relation_from_csv(\"sample_data/enrolled.csv\", relation_name=\"enrolled\", delimiter=\",\")"
   ]
  },
  {
   "cell_type": "markdown",
   "metadata": {},
   "source": [
    "They can even be documents"
   ]
  },
  {
   "cell_type": "code",
   "execution_count": null,
   "metadata": {},
   "outputs": [],
   "source": [
    "documents = pd.DataFrame([\n",
    "    [\"abigail is happy, but walter did not approve\"],\n",
    "    [\"howard is happy, gale is happy, but jordan is sad\"]\n",
    "])\n",
    "magic_session.import_relation_from_df(documents, relation_name=\"documents\")"
   ]
  },
  {
   "cell_type": "code",
   "execution_count": null,
   "metadata": {},
   "outputs": [
    {
     "name": "stdout",
     "output_type": "stream",
     "text": [
      "printing results for query 'documents(X)':\n",
      "                         X\n",
      "---------------------------------------------------\n",
      "   abigail is happy, but walter did not approve\n",
      " howard is happy, gale is happy, but jordan is sad\n",
      "\n"
     ]
    }
   ],
   "source": [
    "%%rgxlog\n",
    "?documents(X)"
   ]
  },
  {
   "cell_type": "markdown",
   "metadata": {},
   "source": [
    "Define your own IE functions to extract information from relations"
   ]
  },
  {
   "cell_type": "code",
   "execution_count": null,
   "metadata": {},
   "outputs": [],
   "source": [
    "# the function itself, writing it as a python generator makes your data processing lazy\n",
    "def get_happy(text):\n",
    "    \"\"\"\n",
    "    get the names of people who are happy in `text`\n",
    "    \"\"\"\n",
    "    import re\n",
    "\n",
    "    compiled_rgx = re.compile(\"(\\w+) is happy\")\n",
    "    num_groups = compiled_rgx.groups\n",
    "    for match in re.finditer(compiled_rgx, text):\n",
    "        if num_groups == 0:\n",
    "            matched_strings = [match.group()]\n",
    "        else:\n",
    "            matched_strings = [group for group in match.groups()]\n",
    "        yield matched_strings\n",
    "\n",
    "# register the ie function with the session\n",
    "from spanner_workbench.primitive_types import DataTypes\n",
    "magic_session.register(ie_function=get_happy,\n",
    "                       ie_function_name = \"get_happy\",\n",
    "                       in_rel=[DataTypes.string],\n",
    "                       out_rel=[DataTypes.string])"
   ]
  },
  {
   "cell_type": "markdown",
   "metadata": {},
   "source": [
    "rgxlog supports relations over the following primitive types\n",
    "* strings\n",
    "* spans\n",
    "* integers"
   ]
  },
  {
   "cell_type": "markdown",
   "metadata": {},
   "source": [
    "Write a rgxlog program (like datalog but you can use your own ie functions)"
   ]
  },
  {
   "cell_type": "code",
   "execution_count": null,
   "metadata": {},
   "outputs": [],
   "source": [
    "%%rgxlog\n",
    "\n",
    "# you can also define data inline via a statically typed variant of datalog syntax\n",
    "new sad_lecturers(str)\n",
    "sad_lecturers(\"walter\")\n",
    "sad_lecturers(\"linus\")\n",
    "\n",
    "# and include primitive variable\n",
    "gpa_doc = \"abigail 100 jordan 80 gale 79 howard 60\"\n",
    "\n",
    "# define datalog rules\n",
    "enrolled_in_chemistry(X) <- enrolled(X, \"chemistry\")\n",
    "enrolled_in_physics_and_chemistry(X) <- enrolled_in_chemistry(X), enrolled(X, \"physics\")\n",
    "\n",
    "# and query them inline (to print to screen)\n",
    "# ?enrolled_in_chemistry(\"jordan\") # returns empty tuple ()\n",
    "# ?enrolled_in_chemistry(\"gale\") # returns nothing\n",
    "# ?enrolled_in_chemistry(X) # returns \"abigail\", \"jordan\" and \"howard\"\n",
    "# ?enrolled_in_physics_and_chemistry(X) # returns \"howard\"\n",
    "\n",
    "lecturer_of(X,Z) <- lecturer(X,Y), enrolled(Z,Y)\n",
    "\n",
    "# use ie functions in body clauses to extract structured data from unstructured data\n",
    "\n",
    "# standard ie functions like regex are already registered\n",
    "student_gpas(Student, Grade) <- py_rgx_string(gpa_doc, \"(\\w+).*?(\\d+)\")->(Student, Grade)\n",
    "\n",
    "# and you can use your defined functions as well\n",
    "happy_students_with_sad_lecturers_and_their_gpas(Student, Grade, Lecturer) <- \\\n",
    "    documents(Doc), \\\n",
    "    get_happy(Doc)->(Student), \\\n",
    "    sad_lecturers(Lecturer), \\\n",
    "    lecturer_of(Lecturer,Student), \\\n",
    "    student_gpas(Student, Grade)"
   ]
  },
  {
   "cell_type": "markdown",
   "metadata": {},
   "source": [
    "And query it"
   ]
  },
  {
   "cell_type": "code",
   "execution_count": null,
   "metadata": {},
   "outputs": [
    {
     "name": "stdout",
     "output_type": "stream",
     "text": [
      "Object `happy_students_with_sad_lecturers_and_their_gpas(Stu,Gpa,Lec)` not found.\n"
     ]
    }
   ],
   "source": [
    "%rgxlog\n",
    "?happy_students_with_sad_lecturers_and_their_gpas(Stu,Gpa,Lec)"
   ]
  },
  {
   "cell_type": "markdown",
   "metadata": {},
   "source": [
    "You can also get query results as Dataframes for downstream processing"
   ]
  },
  {
   "cell_type": "code",
   "execution_count": null,
   "metadata": {},
   "outputs": [
    {
     "data": {
      "text/html": [
       "<div>\n",
       "<style scoped>\n",
       "    .dataframe tbody tr th:only-of-type {\n",
       "        vertical-align: middle;\n",
       "    }\n",
       "\n",
       "    .dataframe tbody tr th {\n",
       "        vertical-align: top;\n",
       "    }\n",
       "\n",
       "    .dataframe thead th {\n",
       "        text-align: right;\n",
       "    }\n",
       "</style>\n",
       "<table border=\"1\" class=\"dataframe\">\n",
       "  <thead>\n",
       "    <tr style=\"text-align: right;\">\n",
       "      <th></th>\n",
       "      <th>Stu</th>\n",
       "      <th>Gpa</th>\n",
       "      <th>Lec</th>\n",
       "    </tr>\n",
       "  </thead>\n",
       "  <tbody>\n",
       "    <tr>\n",
       "      <th>0</th>\n",
       "      <td>abigail</td>\n",
       "      <td>100</td>\n",
       "      <td>linus</td>\n",
       "    </tr>\n",
       "    <tr>\n",
       "      <th>1</th>\n",
       "      <td>gale</td>\n",
       "      <td>79</td>\n",
       "      <td>linus</td>\n",
       "    </tr>\n",
       "    <tr>\n",
       "      <th>2</th>\n",
       "      <td>howard</td>\n",
       "      <td>60</td>\n",
       "      <td>walter</td>\n",
       "    </tr>\n",
       "  </tbody>\n",
       "</table>\n",
       "</div>"
      ],
      "text/plain": [
       "       Stu  Gpa     Lec\n",
       "0  abigail  100   linus\n",
       "1     gale   79   linus\n",
       "2   howard   60  walter"
      ]
     },
     "metadata": {},
     "output_type": "display_data"
    }
   ],
   "source": [
    "df = magic_session.send_commands_result_into_df(\n",
    "    \"?happy_students_with_sad_lecturers_and_their_gpas(Stu,Gpa,Lec)\")\n",
    "df"
   ]
  },
  {
   "cell_type": "markdown",
   "metadata": {},
   "source": [
    "## Additional Resources\n",
    "\n",
    "### Sources of inspiration\n",
    "\n",
    "* [Logicblox repl](https://developer.logicblox.com/content/docs4/tutorial/repl/section/split.html)\n",
    "\n",
    "* [Logicblox manual](https://developer.logicblox.com/content/docs4/core-reference/html/index.html)\n",
    "\n",
    "* LogiQL is the language implemented in logicblox and is a Dialect of [Datalog](https://en.wikipedia.org/wiki/Datalog)\n",
    "\n",
    "\n",
    "### Relevant papers\n",
    "\n",
    "* [spannerlog](https://dl.acm.org/doi/10.1145/2932194.2932200)\n",
    "* [Recursive RGXLog](https://drops.dagstuhl.de/opus/volltexte/2019/10315/pdf/LIPIcs-ICDT-2019-13.pdf)\n"
   ]
  }
 ],
 "metadata": {
  "kernelspec": {
   "display_name": "python3",
   "language": "python",
   "name": "python3"
  }
 },
 "nbformat": 4,
 "nbformat_minor": 4
}
