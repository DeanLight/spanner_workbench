{
 "cells": [
  {
   "cell_type": "markdown",
   "metadata": {},
   "source": [
    "After familiarizing yourself with the syntax of rgxlog, <br>\n",
    "let's explore another example that highlights the power of this declarative language. <br>\n",
    "given a story.txt file which contains in between its lines parent-child information, the information is provided as follows:\n",
    "X is the parent/father of Y\n",
    "Y is the child/daughter of X\n",
    "\n",
    "The story also has some last names.\n",
    "The task is to identify the last name of all individuals.\n",
    "It's important to note that you don't have access to individual last names, but you can deduce them by constructing family trees based on the information provided in the story.\n",
    "\n",
    "Take a couple of minutes to think a solution for this problem.\n",
    "\n",
    "---\n",
    "\n",
    "Now that you understand the complexity of deducing last names based on family trees when using Python and extracting the parent-child relationships using Python, <br>\n",
    "let us show you how easily we can do that by incorporating rgxlog into the equation.\n"
   ]
  },
  {
   "cell_type": "code",
   "execution_count": null,
   "metadata": {},
   "outputs": [
    {
     "name": "stderr",
     "output_type": "stream",
     "text": [
      "Installation NLP failed\n",
      "cargo or rustup are not installed in $PATH. please install rust: https://rustup.rs/\n"
     ]
    }
   ],
   "source": [
    "import rgxlog"
   ]
  },
  {
   "cell_type": "code",
   "execution_count": null,
   "metadata": {},
   "outputs": [
    {
     "name": "stdout",
     "output_type": "stream",
     "text": [
      "printing results for query 'parent(X, Y)':\n",
      "    X     |    Y\n",
      "----------+----------\n",
      "   Aria   |   Mila\n",
      " Benjamin |  Daniel\n",
      " Benjamin |   Lila\n",
      "   Owen   |   Aria\n",
      "   Owen   |  Caleb\n",
      "   Owen   |  Eliana\n",
      "   Yaer   | Benjamin\n",
      "\n",
      "printing results for query 'lastname(X, Y)':\n",
      "    X     |   Y\n",
      "----------+--------\n",
      "   Aria   | Walker\n",
      " Benjamin | Smith\n",
      "\n"
     ]
    }
   ],
   "source": [
    "%%rgxlog\n",
    "story = read(\"sample_data/story.txt\")\n",
    "parent(X,Y) <- py_rgx_string(story, \"(\\w+)\\s+is\\s+the\\s+daughter\\s+of\\s+(\\w+)\") -> (Y,X)\n",
    "parent(X,Y) <- py_rgx_string(story, \"(\\w+)\\s+is\\s+the\\s+child\\s+of\\s+(\\w+)\") -> (Y,X)\n",
    "parent(X,Y) <- py_rgx_string(story, \"(\\w+)\\s+is\\s+the\\s+parent\\s+of\\s+(\\w+)\") -> (X,Y)\n",
    "parent(X,Y) <- py_rgx_string(story, \"(\\w+)\\s+is\\s+the\\s+father\\s+of\\s+(\\w+)\") -> (X,Y)\n",
    "lastname(X,Y) <- py_rgx_string(story, \"([A-Z][a-z]+)\\s([A-Z][a-z]+)\") -> (X,Y)\n",
    "?parent(X,Y)\n",
    "?lastname(X,Y)"
   ]
  },
  {
   "cell_type": "markdown",
   "metadata": {},
   "source": [
    "## Deducing Last Names Based on Family Trees with rgxlog\n",
    "\n",
    "The following rgxlog code provides a simple yet powerful way to deduce the last name of each person based on the family tree information extracted to the parent relation."
   ]
  },
  {
   "cell_type": "code",
   "execution_count": null,
   "metadata": {},
   "outputs": [
    {
     "name": "stdout",
     "output_type": "stream",
     "text": [
      "printing results for query 'Family(X, Y)':\n",
      "   X    |    Y\n",
      "--------+----------\n",
      " Smith  | Benjamin\n",
      " Smith  |  Daniel\n",
      " Smith  |   Lila\n",
      " Smith  |   Yaer\n",
      " Walker |   Aria\n",
      " Walker |  Caleb\n",
      " Walker |  Eliana\n",
      " Walker |   Mila\n",
      " Walker |   Owen\n",
      "\n"
     ]
    }
   ],
   "source": [
    "%%rgxlog\n",
    "Family(X,Y) <- lastname(Y,X)\n",
    "Family(X,Y) <- Family(X,Z), parent(Y,Z)\n",
    "Family(X,Y) <- Family(X,Z), parent(Z,Y)\n",
    "?Family(X,Y)"
   ]
  }
 ],
 "metadata": {
  "kernelspec": {
   "display_name": "python3",
   "language": "python",
   "name": "python3"
  }
 },
 "nbformat": 4,
 "nbformat_minor": 2
}
