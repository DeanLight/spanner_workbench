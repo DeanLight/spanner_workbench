{
 "cells": [
  {
   "cell_type": "markdown",
   "metadata": {},
   "source": [
    "After familiarizing yourself with the syntax of rgxlog, <br>\n",
    "let's explore another example that highlights the power of this declarative language when integrated with Python. <br>\n",
    "Consider three CSV files:\n",
    "\n",
    "1. **parents.csv:** This file consists of two columns, indicating the parent-child relationship, with the left person being the parent of the right person.\n",
    "2. **LastName.csv:** This file contains four rows, specifying the last names of individuals mentioned in the **parents.csv** file.\n",
    "3. **hobbies.csv:** This file contains the hobbies of each person mentioned in **parents.csv**.\n",
    "\n",
    "The task is to identify the family with the highest number of football players. <br>\n",
    "It's important to note that you don't have access to individual last names, but you can deduce them by constructing family trees based on the information provided in **parents.csv**.\n",
    "\n",
    "Take a couple of minutes to think a solution for this problem.\n",
    "\n",
    "---\n",
    "\n",
    "Now that you understand the complexity of deducing last names based on family trees when using Python, <br>\n",
    "let us show you how easily we can do that by incorporating rgxlog into the equation.\n"
   ]
  },
  {
   "cell_type": "code",
   "execution_count": null,
   "metadata": {},
   "outputs": [],
   "source": [
    "import rgxlog\n",
    "import csv\n",
    "from collections import defaultdict\n",
    "from pprint import pprint"
   ]
  },
  {
   "cell_type": "markdown",
   "metadata": {},
   "source": [
    "Let's start with importing the data of the CSV files into relations."
   ]
  },
  {
   "cell_type": "code",
   "execution_count": null,
   "metadata": {},
   "outputs": [],
   "source": [
    "from rgxlog import magic_session\n",
    "magic_session.import_relation_from_csv(\"./sample_data/parents.csv\", relation_name=\"parent\", delimiter=\",\")\n",
    "magic_session.import_relation_from_csv(\"./sample_data/LastName.csv\", relation_name=\"LastName\", delimiter=\",\")\n",
    "magic_session.import_relation_from_csv(\"./sample_data/hobbies.csv\", relation_name=\"Hobby\", delimiter=\",\")"
   ]
  },
  {
   "cell_type": "markdown",
   "metadata": {},
   "source": [
    "## Deducing Last Names Based on Family Trees with rgxlog\n",
    "\n",
    "The following rgxlog code provides a simple yet powerful way to deduce the last name of each person based on the family tree information provided in the CSV files."
   ]
  },
  {
   "cell_type": "code",
   "execution_count": null,
   "metadata": {},
   "outputs": [],
   "source": [
    "%%rgxlog\n",
    "Family(X,Y) <- LastName(X,Y)\n",
    "Family(X,Y) <- Family(X,Z), parent(Y,Z)\n",
    "Family(X,Y) <- Family(X,Z), parent(Z,Y)"
   ]
  },
  {
   "cell_type": "markdown",
   "metadata": {},
   "source": [
    "This logic leverages the family tree structure encoded in the parents.csv file.<br>\n",
    "Using only the 4 lines of data provided in LastName.csv we can deduce the last name to each individual appeared in the parents.csv file <br>\n",
    "By recursively traversing parent-child relationships, the Family relation is established, <br>\n",
    "allowing the deduced last names to be associated with each person. "
   ]
  },
  {
   "cell_type": "markdown",
   "metadata": {},
   "source": [
    "## Incorporating Python for Finding Families with Most Football Players\n",
    "\n",
    "The beauty of spanner languages lies in the flexibility to seamlessly integrate different programming languages based on the requirements of the task at hand. <br>\n",
    "In this scenario, after deducing the last names using rgxlog, we recognize the need to leverage Python's capabilities for further analysis. "
   ]
  },
  {
   "cell_type": "code",
   "execution_count": null,
   "metadata": {},
   "outputs": [],
   "source": [
    "# Lets start with sending the information extracted by rgxlog back to a csv file so python can take on from there\n",
    "magic_session.send_commands_result_into_csv(commands=\"\"\"\n",
    "                                            FootballPlayersByFamily(X,Y) <- Family(X,Y), Hobby(Y,\"Football\")\n",
    "                                            ?FootballPlayersByFamily(X,Y)\n",
    "                                            \"\"\", \n",
    "                                            csv_file_name='./sample_data/FootballPlayersByFamily.csv',\n",
    "                                            delimiter=','\n",
    "                                            )"
   ]
  },
  {
   "cell_type": "markdown",
   "metadata": {},
   "source": [
    "And now we can easily use minimal Python to use the extracted data and give us the answer for the question"
   ]
  },
  {
   "cell_type": "code",
   "execution_count": null,
   "metadata": {},
   "outputs": [
    {
     "name": "stdout",
     "output_type": "stream",
     "text": [
      "family with most Football players: Smith\n"
     ]
    }
   ],
   "source": [
    "players_by_family = defaultdict(list)\n",
    "with open('./sample_data/FootballPlayersByFamily.csv', 'r') as file:\n",
    "    csv_reader = csv.reader(file)\n",
    "    for row in csv_reader:\n",
    "        players_by_family[row[0]].append(row[-1])\n",
    "        \n",
    "sorted_families = sorted(players_by_family.keys(), key=lambda family : len(players_by_family[family]), reverse=True)\n",
    "print(f\"family with most Football players: {sorted_families[0]}\")"
   ]
  }
 ],
 "metadata": {
  "kernelspec": {
   "display_name": "python3",
   "language": "python",
   "name": "python3"
  }
 },
 "nbformat": 4,
 "nbformat_minor": 2
}
