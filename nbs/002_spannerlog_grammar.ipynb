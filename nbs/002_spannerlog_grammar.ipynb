{
 "cells": [
  {
   "cell_type": "markdown",
   "metadata": {},
   "source": [
    "# Grammar"
   ]
  },
  {
   "cell_type": "markdown",
   "metadata": {},
   "source": [
    "\n",
    "> This module contains the spannerlog grammar plus utilities that will help the developer assert that the ast he received matches the grammar\n",
    "that he expects to work with.\n",
    "\n",
    ">These asserts are useful as a general safety check, and also for finding places in the code that need to change\n",
    "should the spannerlog grammar be changed."
   ]
  },
  {
   "cell_type": "code",
   "execution_count": null,
   "metadata": {},
   "outputs": [],
   "source": [
    "#| default_exp grammar"
   ]
  },
  {
   "cell_type": "code",
   "execution_count": null,
   "metadata": {},
   "outputs": [],
   "source": [
    "#| hide\n",
    "from nbdev.showdoc import show_doc\n",
    "\n",
    "%load_ext autoreload\n",
    "%autoreload 2"
   ]
  },
  {
   "cell_type": "code",
   "execution_count": null,
   "metadata": {},
   "outputs": [],
   "source": [
    "#| export\n",
    "from typing import no_type_check, Set, Sequence, Any, Callable\n",
    "from typing import Sequence, Dict\n",
    "from lark import Lark,Token, Tree, Transformer\n",
    "import yaml\n",
    "import networkx as nx\n",
    "\n",
    "import logging\n",
    "logger = logging.getLogger(__name__)\n",
    "from graph_rewrite import rewrite,rewrite_iter,draw\n",
    "\n",
    "from spannerlib.utils import checkLogs, UniqueId\n"
   ]
  },
  {
   "cell_type": "markdown",
   "metadata": {},
   "source": [
    "## Formal grammar"
   ]
  },
  {
   "cell_type": "code",
   "execution_count": null,
   "metadata": {},
   "outputs": [],
   "source": [
    "#| export\n",
    "SpannerlogGrammar = r\"\"\"\n",
    "start: (_NEWLINE)* (statement (_NEWLINE)+)* (statement)?\n",
    "\n",
    "?statement: relation_declaration\n",
    "          | add_fact\n",
    "          | remove_fact\n",
    "          | rule\n",
    "          | query\n",
    "          | assignment\n",
    "\n",
    "assignment: var_name \"=\" string\n",
    "          | var_name \"=\" span\n",
    "          | var_name \"=\" int\n",
    "          | var_name \"=\" var_name\n",
    "          | var_name \"=\" \"read\" \"(\" string \")\" -> read_assignment\n",
    "          | var_name \"=\" \"read\" \"(\" var_name \")\" -> read_assignment\n",
    "\n",
    "relation_declaration: \"new\" _SEPARATOR relation_name \"(\" decl_term_list \")\"\n",
    "\n",
    "decl_term_list: decl_term (\",\" decl_term)*\n",
    "\n",
    "?decl_term: \"str\" -> decl_string\n",
    "          | \"span\" -> decl_span\n",
    "          | \"int\" -> decl_int\n",
    "\n",
    "rule: rule_head \"<-\" rule_body_relation_list\n",
    "\n",
    "rule_head: relation_name \"(\" free_var_name_list \")\"\n",
    "\n",
    "rule_body_relation_list: rule_body_relation (\",\" rule_body_relation)*\n",
    "\n",
    "?rule_body_relation: relation\n",
    "                   | ie_relation\n",
    "\n",
    "relation: relation_name \"(\" term_list \")\"\n",
    "\n",
    "ie_relation: relation_name \"(\" term_list \")\" \"->\" \"(\" term_list \")\"\n",
    "\n",
    "query: \"?\" relation_name \"(\" term_list \")\"\n",
    "\n",
    "term_list: term (\",\" term)*\n",
    "\n",
    "?term: const_term\n",
    "     | free_var_name\n",
    "\n",
    "add_fact: relation_name \"(\" const_term_list \")\"\n",
    "        | relation_name \"(\" const_term_list \")\" \"<-\" _TRUE\n",
    "\n",
    "remove_fact: relation_name \"(\" const_term_list \")\" \"<-\" _FALSE\n",
    "\n",
    "const_term_list: const_term (\",\" const_term)*\n",
    "\n",
    "?const_term: span\n",
    "          | string\n",
    "          | int\n",
    "          | var_name\n",
    "\n",
    "span: \"[\" int \",\" int \")\"\n",
    "\n",
    "int: INT -> integer\n",
    "\n",
    "string: STRING\n",
    "\n",
    "free_var_name_list: free_var_name (\",\" free_var_name)*\n",
    "\n",
    "relation_name: LOWER_CASE_NAME\n",
    "             | UPPER_CASE_NAME\n",
    "\n",
    "var_name: LOWER_CASE_NAME\n",
    "\n",
    "free_var_name : UPPER_CASE_NAME\n",
    "\n",
    "_TRUE: \"True\"\n",
    "_FALSE: \"False\"\n",
    "\n",
    "LOWER_CASE_NAME: (\"_\"|LCASE_LETTER) (\"_\"|LETTER|DIGIT)*\n",
    "UPPER_CASE_NAME: UCASE_LETTER (\"_\"|LETTER|DIGIT)*\n",
    "\n",
    "_COMMENT: \"#\" /[^\\n]*/\n",
    "\n",
    "_SEPARATOR: (_WS_INLINE | _LINE_OVERFLOW_ESCAPE)+\n",
    "\n",
    "STRING: \"\\\"\" (_STRING_INTERNAL (_LINE_OVERFLOW_ESCAPE)+)* _STRING_INTERNAL \"\\\"\"\n",
    "\n",
    "_LINE_OVERFLOW_ESCAPE: \"\\\\\" _NEWLINE\n",
    "\n",
    "_NEWLINE: CR? LF\n",
    "CR : /\\r/\n",
    "LF : /\\n/\n",
    "\n",
    "LCASE_LETTER: \"a\"..\"z\"\n",
    "UCASE_LETTER: \"A\"..\"Z\"\n",
    "LETTER: UCASE_LETTER | LCASE_LETTER\n",
    "DIGIT: \"0\"..\"9\"\n",
    "_WS_INLINE: (\" \"|/\\t/)+\n",
    "%ignore _WS_INLINE\n",
    "_STRING_INTERNAL: /.*?/ /(?<!\\\\)(\\\\\\\\)*?/\n",
    "INT: DIGIT+\n",
    "%ignore _LINE_OVERFLOW_ESCAPE\n",
    "%ignore _COMMENT\n",
    "\"\"\""
   ]
  },
  {
   "cell_type": "code",
   "execution_count": null,
   "metadata": {},
   "outputs": [],
   "source": [
    "SpannerlogParser = Lark(SpannerlogGrammar, parser='lalr')\n"
   ]
  },
  {
   "cell_type": "markdown",
   "metadata": {},
   "source": [
    "## Manipulating the AST"
   ]
  },
  {
   "cell_type": "code",
   "execution_count": null,
   "metadata": {},
   "outputs": [],
   "source": [
    "import itertools"
   ]
  },
  {
   "cell_type": "code",
   "execution_count": null,
   "metadata": {},
   "outputs": [
    {
     "data": {
      "text/plain": [
       "itertools.count"
      ]
     },
     "execution_count": null,
     "metadata": {},
     "output_type": "execute_result"
    }
   ],
   "source": [
    "itertools.count"
   ]
  },
  {
   "cell_type": "code",
   "execution_count": null,
   "metadata": {},
   "outputs": [],
   "source": [
    "#| export\n",
    "import itertools\n",
    "def lark_to_nx_aux(tree,node_id,g,counter):\n",
    "    if isinstance(tree, Token):\n",
    "        g.add_node(node_id,val=tree.value)\n",
    "    elif isinstance(tree, Tree):\n",
    "        if len(tree.children) == 0:\n",
    "            node_key = \"val\"\n",
    "        else:\n",
    "            node_key = \"type\"\n",
    "        if isinstance(tree.data,Token):\n",
    "            node_val = tree.data.value\n",
    "        else:\n",
    "            node_val = tree.data\n",
    "        g.add_node(node_id,**{node_key:node_val})\n",
    "        for i,child in enumerate(tree.children):\n",
    "            child_id = next(counter)\n",
    "            g.add_edge(node_id,child_id,idx=i)\n",
    "            lark_to_nx_aux(child,child_id,g,counter)\n",
    "            \n",
    "\n",
    "\n",
    "def lark_to_nx(t):\n",
    "    \"\"\"turn a lark tree into a networkx digraph\n",
    "    data of inner nodes is saved under a key 'type'\n",
    "    data of leaves is saved under a key 'val'\n",
    "\n",
    "    Args:\n",
    "        t (lark.Tree): lark tree\n",
    "\n",
    "    Returns:\n",
    "        nx.Digraph: the nx graph\n",
    "    \"\"\"\n",
    "    g = nx.DiGraph()\n",
    "    counter = itertools.count()\n",
    "    lark_to_nx_aux(t,next(counter),g,counter)\n",
    "    return g\n",
    "    \n",
    "\n",
    "\n"
   ]
  },
  {
   "cell_type": "code",
   "execution_count": null,
   "metadata": {},
   "outputs": [],
   "source": [
    "#| export\n",
    "def parse_spannerlog(spannerlog_code: str, # code to parse\n",
    "                     start='start', # non terminal symbol to start parsing from\n",
    "                     as_string=False, # whether to return the parse tree as a pretty string\n",
    "                     as_tree=False, # whether to return as a lark Tree object\n",
    "                     as_nx=True, # whether to return as an networkx graph\n",
    "                     split_statements=False, # whether to return a list of individual statements\n",
    "                     ):\n",
    "    parser = Lark(SpannerlogGrammar, parser='lalr',start=start)\n",
    "    tree = parser.parse(spannerlog_code)\n",
    "    if as_string:\n",
    "        if split_statements:\n",
    "            return [s.pretty() for s in tree.children]\n",
    "        return tree.pretty()\n",
    "    if as_tree:\n",
    "        if split_statements:\n",
    "            return tree.children\n",
    "        return tree\n",
    "    if as_nx:\n",
    "        if split_statements:\n",
    "            return [lark_to_nx(s) for s in tree.children]\n",
    "        return lark_to_nx(tree)\n"
   ]
  },
  {
   "cell_type": "code",
   "execution_count": null,
   "metadata": {},
   "outputs": [
    {
     "data": {
      "text/html": [
       "<img src=\"https://mermaid.ink/img/CmZsb3djaGFydCBUQgowWyIwCnR5cGU9J3JlbGF0aW9uX2RlY2xhcmF0aW9uJyJdCjFbIjEKdHlwZT0ncmVsYXRpb25fbmFtZSciXQoyWyIyCnZhbD0nYm9keTEnIl0KM1siMwp0eXBlPSdkZWNsX3Rlcm1fbGlzdCciXQo0WyI0CnZhbD0nZGVjbF9zdHJpbmcnIl0KNVsiNQp2YWw9J2RlY2xfc3RyaW5nJyJdCjAgLS0+fCJpZHg9MCJ8IDEKMCAtLT58ImlkeD0xInwgMwoxIC0tPnwiaWR4PTAifCAyCjMgLS0+fCJpZHg9MCJ8IDQKMyAtLT58ImlkeD0xInwgNQo=\"/>"
      ],
      "text/plain": [
       "<IPython.core.display.Image object>"
      ]
     },
     "metadata": {},
     "output_type": "display_data"
    },
    {
     "data": {
      "text/html": [
       "<img src=\"https://mermaid.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\"/>"
      ],
      "text/plain": [
       "<IPython.core.display.Image object>"
      ]
     },
     "metadata": {},
     "output_type": "display_data"
    }
   ],
   "source": [
    "gs = parse_spannerlog(\"\"\"\n",
    "new body1(str,str)\n",
    "head(X,Y,W)<-body1(X,Z),body2(Z,Y),ie_1(X,Y,Z)->(W)\n",
    "\"\"\",as_nx=True,split_statements=True)\n",
    "\n",
    "for g in gs:\n",
    "    draw(g)"
   ]
  },
  {
   "cell_type": "markdown",
   "metadata": {},
   "source": [
    "## Grammar Tests"
   ]
  },
  {
   "cell_type": "code",
   "execution_count": null,
   "metadata": {},
   "outputs": [
    {
     "data": {
      "text/html": [
       "<img src=\"https://mermaid.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\"/>"
      ],
      "text/plain": [
       "<IPython.core.display.Image object>"
      ]
     },
     "metadata": {},
     "output_type": "display_data"
    }
   ],
   "source": [
    "g=gs[-1]\n",
    "draw(g)"
   ]
  },
  {
   "cell_type": "code",
   "execution_count": null,
   "metadata": {},
   "outputs": [
    {
     "data": {
      "text/plain": [
       "(1, {'b': 2})"
      ]
     },
     "execution_count": null,
     "metadata": {},
     "output_type": "execute_result"
    }
   ],
   "source": [
    "d =  {'a':1,'b':2}\n",
    "d.pop('a'),d"
   ]
  },
  {
   "cell_type": "code",
   "execution_count": null,
   "metadata": {},
   "outputs": [],
   "source": [
    "# testing utils\n",
    "def tree_to_json(node):\n",
    "    logger.debug(f'casting the following lark node to json: {node}')\n",
    "    if isinstance(node, Token):\n",
    "        #return {'type': node.type, 'value': node.value}\n",
    "        return node.value\n",
    "    if isinstance(node, Tree):\n",
    "        type = node.data\n",
    "    elif hasattr(node, 'type'):\n",
    "        type = node.type.value\n",
    "    else:\n",
    "        type = node.type\n",
    "    if len(node.children) == 1:\n",
    "        return {type: tree_to_json(node.children[0])}\n",
    "    else:\n",
    "        return {type: [tree_to_json(child) for child in node.children]}"
   ]
  },
  {
   "cell_type": "code",
   "execution_count": null,
   "metadata": {},
   "outputs": [],
   "source": [
    "def tree_to_json(node):\n",
    "    logger.debug(f'casting the following lark node to json: {node}')\n",
    "    if isinstance(node, Token):\n",
    "        #return {'type': node.type, 'value': node.value}\n",
    "        return node.value\n",
    "    if isinstance(node, Tree):\n",
    "        type = node.data\n",
    "    elif hasattr(node, 'type'):\n",
    "        type = node.type.value\n",
    "    else:\n",
    "        type = node.type\n",
    "    if len(node.children) == 1:\n",
    "        return {type: tree_to_json(node.children[0])}\n",
    "    else:\n",
    "        return {type: [tree_to_json(child) for child in node.children]}\n",
    "\n",
    "def tree_to_yaml(node):\n",
    "    return yaml.dump(tree_to_json(node))\n"
   ]
  },
  {
   "cell_type": "code",
   "execution_count": null,
   "metadata": {},
   "outputs": [],
   "source": [
    "# testing utils\n",
    "\n",
    "\n",
    "def assert_grammar(start,text,expected_yaml):\n",
    "    tree = parse_spannerlog(text,start=start,as_tree=True)\n",
    "    expected = yaml.safe_load(expected_yaml)\n",
    "    gotten = tree_to_json(tree)\n",
    "    assert gotten == expected, f'got unexpected parse results\\n{tree_to_yaml(tree)}\\nexpected\\n{expected_yaml}'\n",
    "    return tree\n"
   ]
  },
  {
   "cell_type": "code",
   "execution_count": null,
   "metadata": {},
   "outputs": [],
   "source": [
    "tree = assert_grammar(\n",
    "      'rule',\n",
    "      'head(X,Y,W)<-body1(X,Z),body2(Z,Y),ie_1(X,Y,Z)->(W)',\n",
    "    '''\n",
    "  rule:\n",
    "  - rule_head:\n",
    "    - relation_name: head\n",
    "    - free_var_name_list:\n",
    "      - free_var_name: X\n",
    "      - free_var_name: Y\n",
    "      - free_var_name: W\n",
    "  - rule_body_relation_list:\n",
    "    - relation:\n",
    "      - relation_name: body1\n",
    "      - term_list:\n",
    "        - free_var_name: X\n",
    "        - free_var_name: Z\n",
    "    - relation:\n",
    "      - relation_name: body2\n",
    "      - term_list:\n",
    "        - free_var_name: Z\n",
    "        - free_var_name: Y\n",
    "    - ie_relation:\n",
    "      - relation_name: ie_1\n",
    "      - term_list:\n",
    "        - free_var_name: X\n",
    "        - free_var_name: Y\n",
    "        - free_var_name: Z\n",
    "      - term_list:\n",
    "          free_var_name: W\n",
    "  ''')"
   ]
  },
  {
   "cell_type": "code",
   "execution_count": null,
   "metadata": {},
   "outputs": [
    {
     "name": "stdout",
     "output_type": "stream",
     "text": [
      "<module 'yaml' from '/Users/dean/miniconda3/envs/span/lib/python3.11/site-packages/yaml/__init__.py'>\n"
     ]
    }
   ],
   "source": [
    "print(yaml)"
   ]
  },
  {
   "cell_type": "code",
   "execution_count": null,
   "metadata": {},
   "outputs": [
    {
     "data": {
      "text/plain": [
       "<function networkx.readwrite.json_graph.tree.tree_data(G, root, ident='id', children='children')>"
      ]
     },
     "execution_count": null,
     "metadata": {},
     "output_type": "execute_result"
    }
   ],
   "source": [
    "nx.tree_data"
   ]
  },
  {
   "cell_type": "code",
   "execution_count": null,
   "metadata": {},
   "outputs": [
    {
     "data": {
      "text/html": [
       "<img src=\"https://mermaid.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\"/>"
      ],
      "text/plain": [
       "<IPython.core.display.Image object>"
      ]
     },
     "metadata": {},
     "output_type": "display_data"
    }
   ],
   "source": [
    "g = parse_spannerlog('head(X,Y,W)<-body1(X,1),body2(1,Y),ie_1(X,Y,1)->(W)')\n",
    "for match in rewrite_iter(g,lhs='''rel[val:str=\"relation\"]->z[val:str=\"relation_name\"]->y'''):\n",
    "    print(match['y']['val'])\n",
    "draw(g,direction='LR')"
   ]
  },
  {
   "cell_type": "code",
   "execution_count": null,
   "metadata": {},
   "outputs": [
    {
     "data": {
      "text/html": [
       "<img src=\"https://mermaid.ink/img/CmZsb3djaGFydCBMUgowWyIwCnR5cGU9J3N0YXJ0JyJdCjFbIjEKdHlwZT0ncnVsZSciXQoyWyIyCnR5cGU9J3J1bGVfaGVhZCciXQozWyIzCnR5cGU9J3JlbGF0aW9uX25hbWUnIl0KNFsiNAp2YWw9J2hlYWQnIl0KNVsiNQp0eXBlPSdmcmVlX3Zhcl9uYW1lX2xpc3QnIl0KNlsiNgp0eXBlPSdmcmVlX3Zhcl9uYW1lJyJdCjdbIjcKdmFsPSdYJyJdCjhbIjgKdHlwZT0nZnJlZV92YXJfbmFtZSciXQo5WyI5CnZhbD0nWSciXQoxMFsiMTAKdHlwZT0nZnJlZV92YXJfbmFtZSciXQoxMVsiMTEKdmFsPSdXJyJdCjEyWyIxMgp0eXBlPSdydWxlX2JvZHlfcmVsYXRpb25fbGlzdCciXQoxM1siMTMKdHlwZT0ncmVsYXRpb24nIl0KMTRbIjE0CnR5cGU9J3JlbGF0aW9uX25hbWUnIl0KMTVbIjE1CnZhbD0nYm9keTEnIl0KMTZbIjE2CnR5cGU9J3Rlcm1fbGlzdCcsIGZyZWVfdmFycz1bJ1gnXSJdCjE5WyIxOQp0eXBlPSdpbnRlZ2VyJyJdCjIwWyIyMAp2YWw9JzEnIl0KMjFbIjIxCnR5cGU9J3JlbGF0aW9uJyJdCjIyWyIyMgp0eXBlPSdyZWxhdGlvbl9uYW1lJyJdCjIzWyIyMwp2YWw9J2JvZHkyJyJdCjI0WyIyNAp0eXBlPSd0ZXJtX2xpc3QnLCBmcmVlX3ZhcnM9WydZJ10iXQoyNVsiMjUKdHlwZT0naW50ZWdlciciXQoyNlsiMjYKdmFsPScxJyJdCjI5WyIyOQp0eXBlPSdpZV9yZWxhdGlvbiciXQozMFsiMzAKdHlwZT0ncmVsYXRpb25fbmFtZSciXQozMVsiMzEKdmFsPSdpZV8xJyJdCjMyWyIzMgp0eXBlPSd0ZXJtX2xpc3QnLCBmcmVlX3ZhcnM9WydYJywgJ1knXSJdCjM3WyIzNwp0eXBlPSdpbnRlZ2VyJyJdCjM4WyIzOAp2YWw9JzEnIl0KMzlbIjM5CnR5cGU9J3Rlcm1fbGlzdCcsIGZyZWVfdmFycz1bJ1cnXSJdCjAgLS0+fCJpZHg9MCJ8IDEKMSAtLT58ImlkeD0wInwgMgoxIC0tPnwiaWR4PTEifCAxMgoyIC0tPnwiaWR4PTAifCAzCjIgLS0+fCJpZHg9MSJ8IDUKMyAtLT58ImlkeD0wInwgNAo1IC0tPnwiaWR4PTAifCA2CjUgLS0+fCJpZHg9MSJ8IDgKNSAtLT58ImlkeD0yInwgMTAKNiAtLT58ImlkeD0wInwgNwo4IC0tPnwiaWR4PTAifCA5CjEwIC0tPnwiaWR4PTAifCAxMQoxMiAtLT58ImlkeD0wInwgMTMKMTIgLS0+fCJpZHg9MSJ8IDIxCjEyIC0tPnwiaWR4PTIifCAyOQoxMyAtLT58ImlkeD0wInwgMTQKMTMgLS0+fCJpZHg9MSJ8IDE2CjE0IC0tPnwiaWR4PTAifCAxNQoxNiAtLT58ImlkeD0xInwgMTkKMTkgLS0+fCJpZHg9MCJ8IDIwCjIxIC0tPnwiaWR4PTAifCAyMgoyMSAtLT58ImlkeD0xInwgMjQKMjIgLS0+fCJpZHg9MCJ8IDIzCjI0IC0tPnwiaWR4PTAifCAyNQoyNSAtLT58ImlkeD0wInwgMjYKMjkgLS0+fCJpZHg9MCJ8IDMwCjI5IC0tPnwiaWR4PTEifCAzMgoyOSAtLT58ImlkeD0yInwgMzkKMzAgLS0+fCJpZHg9MCJ8IDMxCjMyIC0tPnwiaWR4PTIifCAzNwozNyAtLT58ImlkeD0wInwgMzgK\"/>"
      ],
      "text/plain": [
       "<IPython.core.display.Image object>"
      ]
     },
     "metadata": {},
     "output_type": "display_data"
    }
   ],
   "source": [
    "#TODO currently we cant get all children of a node at once, so we can't make the list of free vars using rhs\n",
    "for match in rewrite_iter(g,lhs='''terms[type=\"term_list\"]->var[type=\"free_var_name\"]->val''',\n",
    "                          p='terms[type]',):\n",
    "        free_var_list = match['terms'].get('free_vars',[])\n",
    "        free_var_list.append(match['val']['val'])\n",
    "        match['terms']['free_vars'] = free_var_list\n",
    "\n",
    "draw(g,direction='LR')\n",
    "    \n",
    "    "
   ]
  },
  {
   "cell_type": "code",
   "execution_count": null,
   "metadata": {},
   "outputs": [],
   "source": [
    "#|hide\n",
    "import nbdev; nbdev.nbdev_export()\n",
    "     "
   ]
  }
 ],
 "metadata": {
  "kernelspec": {
   "display_name": "python3",
   "language": "python",
   "name": "python3"
  }
 },
 "nbformat": 4,
 "nbformat_minor": 4
}
