{
 "cells": [
  {
   "cell_type": "markdown",
   "metadata": {},
   "source": [
    "# Grammar"
   ]
  },
  {
   "cell_type": "markdown",
   "metadata": {},
   "source": [
    "\n",
    "> This module contains the spannerlog grammar plus utilities that will help the developer assert that the ast he received matches the grammar\n",
    "that he expects to work with.\n",
    "\n",
    ">These asserts are useful as a general safety check, and also for finding places in the code that need to change\n",
    "should the spannerlog grammar be changed."
   ]
  },
  {
   "cell_type": "code",
   "execution_count": null,
   "metadata": {},
   "outputs": [],
   "source": [
    "#| default_exp grammar"
   ]
  },
  {
   "cell_type": "code",
   "execution_count": null,
   "metadata": {},
   "outputs": [],
   "source": [
    "#| hide\n",
    "from nbdev.showdoc import show_doc\n",
    "\n",
    "%load_ext autoreload\n",
    "%autoreload 2"
   ]
  },
  {
   "cell_type": "code",
   "execution_count": null,
   "metadata": {},
   "outputs": [],
   "source": [
    "#| export\n",
    "from typing import no_type_check, Set, Sequence, Any, Callable\n",
    "from typing import Sequence, Dict\n",
    "from lark import Lark,Token, Tree, Transformer\n",
    "import yaml\n",
    "import networkx as nx\n",
    "\n",
    "import logging\n",
    "logger = logging.getLogger(__name__)\n",
    "from graph_rewrite import rewrite,rewrite_iter,draw\n",
    "\n",
    "from spannerlib.utils import checkLogs, UniqueId\n"
   ]
  },
  {
   "cell_type": "markdown",
   "metadata": {},
   "source": [
    "## Formal grammar"
   ]
  },
  {
   "cell_type": "code",
   "execution_count": null,
   "metadata": {},
   "outputs": [],
   "source": [
    "#| export\n",
    "SpannerlogGrammar = r\"\"\"\n",
    "start: (_NEWLINE)* (statement (_NEWLINE)+)* (statement)?\n",
    "\n",
    "?statement: relation_declaration\n",
    "          | add_fact\n",
    "          | remove_fact\n",
    "          | rule\n",
    "          | query\n",
    "          | assignment\n",
    "\n",
    "assignment: var_name \"=\" string\n",
    "          | var_name \"=\" span\n",
    "          | var_name \"=\" int\n",
    "          | var_name \"=\" var_name\n",
    "          | var_name \"=\" \"read\" \"(\" string \")\" -> read_assignment\n",
    "          | var_name \"=\" \"read\" \"(\" var_name \")\" -> read_assignment\n",
    "\n",
    "relation_declaration: \"new\" _SEPARATOR relation_name \"(\" decl_term_list \")\"\n",
    "\n",
    "decl_term_list: decl_term (\",\" decl_term)*\n",
    "\n",
    "?decl_term: \"str\" -> decl_string\n",
    "          | \"span\" -> decl_span\n",
    "          | \"int\" -> decl_int\n",
    "\n",
    "rule: rule_head \"<-\" rule_body_relation_list\n",
    "\n",
    "rule_head: relation_name \"(\" free_var_name_list \")\"\n",
    "\n",
    "rule_body_relation_list: rule_body_relation (\",\" rule_body_relation)*\n",
    "\n",
    "?rule_body_relation: relation\n",
    "                   | ie_relation\n",
    "\n",
    "relation: relation_name \"(\" term_list \")\"\n",
    "\n",
    "ie_relation: relation_name \"(\" term_list \")\" \"->\" \"(\" term_list \")\"\n",
    "\n",
    "query: \"?\" relation_name \"(\" term_list \")\"\n",
    "\n",
    "term_list: term (\",\" term)*\n",
    "\n",
    "?term: const_term\n",
    "     | free_var_name\n",
    "\n",
    "add_fact: relation_name \"(\" const_term_list \")\"\n",
    "        | relation_name \"(\" const_term_list \")\" \"<-\" _TRUE\n",
    "\n",
    "remove_fact: relation_name \"(\" const_term_list \")\" \"<-\" _FALSE\n",
    "\n",
    "const_term_list: const_term (\",\" const_term)*\n",
    "\n",
    "?const_term: span\n",
    "          | string\n",
    "          | int\n",
    "          | var_name\n",
    "\n",
    "span: \"[\" int \",\" int \")\"\n",
    "\n",
    "int: INT -> integer\n",
    "\n",
    "string: STRING\n",
    "\n",
    "free_var_name_list: free_var_name (\",\" free_var_name)*\n",
    "\n",
    "relation_name: LOWER_CASE_NAME\n",
    "             | UPPER_CASE_NAME\n",
    "\n",
    "var_name: LOWER_CASE_NAME\n",
    "\n",
    "free_var_name : UPPER_CASE_NAME\n",
    "\n",
    "_TRUE: \"True\"\n",
    "_FALSE: \"False\"\n",
    "\n",
    "LOWER_CASE_NAME: (\"_\"|LCASE_LETTER) (\"_\"|LETTER|DIGIT)*\n",
    "UPPER_CASE_NAME: UCASE_LETTER (\"_\"|LETTER|DIGIT)*\n",
    "\n",
    "_COMMENT: \"#\" /[^\\n]*/\n",
    "\n",
    "_SEPARATOR: (_WS_INLINE | _LINE_OVERFLOW_ESCAPE)+\n",
    "\n",
    "STRING: \"\\\"\" (_STRING_INTERNAL (_LINE_OVERFLOW_ESCAPE)+)* _STRING_INTERNAL \"\\\"\"\n",
    "\n",
    "_LINE_OVERFLOW_ESCAPE: \"\\\\\" _NEWLINE\n",
    "\n",
    "_NEWLINE: CR? LF\n",
    "CR : /\\r/\n",
    "LF : /\\n/\n",
    "\n",
    "LCASE_LETTER: \"a\"..\"z\"\n",
    "UCASE_LETTER: \"A\"..\"Z\"\n",
    "LETTER: UCASE_LETTER | LCASE_LETTER\n",
    "DIGIT: \"0\"..\"9\"\n",
    "_WS_INLINE: (\" \"|/\\t/)+\n",
    "%ignore _WS_INLINE\n",
    "_STRING_INTERNAL: /.*?/ /(?<!\\\\)(\\\\\\\\)*?/\n",
    "INT: DIGIT+\n",
    "%ignore _LINE_OVERFLOW_ESCAPE\n",
    "%ignore _COMMENT\n",
    "\"\"\""
   ]
  },
  {
   "cell_type": "code",
   "execution_count": null,
   "metadata": {},
   "outputs": [],
   "source": [
    "SpannerlogParser = Lark(SpannerlogGrammar, parser='lalr')\n"
   ]
  },
  {
   "cell_type": "markdown",
   "metadata": {},
   "source": [
    "## Manipulating the AST"
   ]
  },
  {
   "cell_type": "code",
   "execution_count": null,
   "metadata": {},
   "outputs": [],
   "source": [
    "import itertools"
   ]
  },
  {
   "cell_type": "code",
   "execution_count": null,
   "metadata": {},
   "outputs": [
    {
     "data": {
      "text/plain": [
       "itertools.count"
      ]
     },
     "execution_count": null,
     "metadata": {},
     "output_type": "execute_result"
    }
   ],
   "source": [
    "itertools.count"
   ]
  },
  {
   "cell_type": "code",
   "execution_count": null,
   "metadata": {},
   "outputs": [],
   "source": [
    "#| export\n",
    "import itertools\n",
    "def lark_to_nx_aux(tree,node_id,g,counter):\n",
    "    if isinstance(tree, Token):\n",
    "        g.add_node(node_id,val=tree.value)\n",
    "    elif isinstance(tree, Tree):\n",
    "        if isinstance(tree.data,Token):\n",
    "            node_type = tree.data.value\n",
    "        else:\n",
    "            node_type = tree.data\n",
    "        g.add_node(node_id,type=node_type)\n",
    "        for i,child in enumerate(tree.children):\n",
    "            child_id = next(counter)\n",
    "            g.add_edge(node_id,child_id,idx=i)\n",
    "            lark_to_nx_aux(child,child_id,g,counter)\n",
    "            \n",
    "\n",
    "\n",
    "def lark_to_nx(t):\n",
    "    g = nx.DiGraph()\n",
    "    counter = itertools.count()\n",
    "    lark_to_nx_aux(t,next(counter),g,counter)\n",
    "    return g\n",
    "    \n",
    "\n",
    "\n"
   ]
  },
  {
   "cell_type": "code",
   "execution_count": null,
   "metadata": {},
   "outputs": [],
   "source": [
    "#| export\n",
    "def parse_spannerlog(spannerlog_code: str, # code to parse\n",
    "                     start='start', # non terminal symbol to start parsing from\n",
    "                     as_string=False, # whether to return the parse tree as a pretty string\n",
    "                     as_tree=False, # whether to return as a lark Tree object\n",
    "                     as_nx=True, # whether to return as an networkx graph\n",
    "                     split_statements=False, # whether to return a list of individual statements\n",
    "                     ):\n",
    "    parser = Lark(SpannerlogGrammar, parser='lalr',start=start)\n",
    "    tree = parser.parse(spannerlog_code)\n",
    "    if as_string:\n",
    "        if split_statements:\n",
    "            return [s.pretty() for s in tree.children]\n",
    "        return tree.pretty()\n",
    "    if as_tree:\n",
    "        if split_statements:\n",
    "            return tree.children\n",
    "        return tree\n",
    "    if as_nx:\n",
    "        if split_statements:\n",
    "            return [lark_to_nx(s) for s in tree.children]\n",
    "        return lark_to_nx(tree)\n"
   ]
  },
  {
   "cell_type": "code",
   "execution_count": null,
   "metadata": {},
   "outputs": [
    {
     "data": {
      "text/html": [
       "<img src=\"https://mermaid.ink/img/CmZsb3djaGFydCBUQgowWyIwXG50eXBlPXJlbGF0aW9uX2RlY2xhcmF0aW9uIl0KMVsiMVxudHlwZT1yZWxhdGlvbl9uYW1lIl0KMlsiMlxudmFsPWJvZHkxIl0KM1siM1xudHlwZT1kZWNsX3Rlcm1fbGlzdCJdCjRbIjRcbnR5cGU9ZGVjbF9zdHJpbmciXQo1WyI1XG50eXBlPWRlY2xfc3RyaW5nIl0KMCAtLT58ImlkeD0wInwgMQowIC0tPnwiaWR4PTEifCAzCjEgLS0+fCJpZHg9MCJ8IDIKMyAtLT58ImlkeD0wInwgNAozIC0tPnwiaWR4PTEifCA1Cg==\"/>"
      ],
      "text/plain": [
       "<IPython.core.display.Image object>"
      ]
     },
     "metadata": {},
     "output_type": "display_data"
    },
    {
     "data": {
      "text/html": [
       "<img src=\"https://mermaid.ink/img/CmZsb3djaGFydCBUQgowWyIwXG50eXBlPXJlbGF0aW9uX2RlY2xhcmF0aW9uIl0KMVsiMVxudHlwZT1yZWxhdGlvbl9uYW1lIl0KMlsiMlxudmFsPWJvZHkyIl0KM1siM1xudHlwZT1kZWNsX3Rlcm1fbGlzdCJdCjRbIjRcbnR5cGU9ZGVjbF9zdHJpbmciXQo1WyI1XG50eXBlPWRlY2xfaW50Il0KMCAtLT58ImlkeD0wInwgMQowIC0tPnwiaWR4PTEifCAzCjEgLS0+fCJpZHg9MCJ8IDIKMyAtLT58ImlkeD0wInwgNAozIC0tPnwiaWR4PTEifCA1Cg==\"/>"
      ],
      "text/plain": [
       "<IPython.core.display.Image object>"
      ]
     },
     "metadata": {},
     "output_type": "display_data"
    },
    {
     "data": {
      "text/html": [
       "<img src=\"https://mermaid.ink/img/CmZsb3djaGFydCBUQgowWyIwXG50eXBlPXJ1bGUiXQoxWyIxXG50eXBlPXJ1bGVfaGVhZCJdCjJbIjJcbnR5cGU9cmVsYXRpb25fbmFtZSJdCjNbIjNcbnZhbD1oZWFkIl0KNFsiNFxudHlwZT1mcmVlX3Zhcl9uYW1lX2xpc3QiXQo1WyI1XG50eXBlPWZyZWVfdmFyX25hbWUiXQo2WyI2XG52YWw9WCJdCjdbIjdcbnR5cGU9ZnJlZV92YXJfbmFtZSJdCjhbIjhcbnZhbD1ZIl0KOVsiOVxudHlwZT1mcmVlX3Zhcl9uYW1lIl0KMTBbIjEwXG52YWw9VyJdCjExWyIxMVxudHlwZT1ydWxlX2JvZHlfcmVsYXRpb25fbGlzdCJdCjEyWyIxMlxudHlwZT1yZWxhdGlvbiJdCjEzWyIxM1xudHlwZT1yZWxhdGlvbl9uYW1lIl0KMTRbIjE0XG52YWw9Ym9keTEiXQoxNVsiMTVcbnR5cGU9dGVybV9saXN0Il0KMTZbIjE2XG50eXBlPWZyZWVfdmFyX25hbWUiXQoxN1siMTdcbnZhbD1YIl0KMThbIjE4XG50eXBlPWZyZWVfdmFyX25hbWUiXQoxOVsiMTlcbnZhbD1aIl0KMjBbIjIwXG50eXBlPXJlbGF0aW9uIl0KMjFbIjIxXG50eXBlPXJlbGF0aW9uX25hbWUiXQoyMlsiMjJcbnZhbD1ib2R5MiJdCjIzWyIyM1xudHlwZT10ZXJtX2xpc3QiXQoyNFsiMjRcbnR5cGU9ZnJlZV92YXJfbmFtZSJdCjI1WyIyNVxudmFsPVoiXQoyNlsiMjZcbnR5cGU9ZnJlZV92YXJfbmFtZSJdCjI3WyIyN1xudmFsPVkiXQoyOFsiMjhcbnR5cGU9aWVfcmVsYXRpb24iXQoyOVsiMjlcbnR5cGU9cmVsYXRpb25fbmFtZSJdCjMwWyIzMFxudmFsPWllXzEiXQozMVsiMzFcbnR5cGU9dGVybV9saXN0Il0KMzJbIjMyXG50eXBlPWZyZWVfdmFyX25hbWUiXQozM1siMzNcbnZhbD1YIl0KMzRbIjM0XG50eXBlPWZyZWVfdmFyX25hbWUiXQozNVsiMzVcbnZhbD1ZIl0KMzZbIjM2XG50eXBlPWZyZWVfdmFyX25hbWUiXQozN1siMzdcbnZhbD1aIl0KMzhbIjM4XG50eXBlPXRlcm1fbGlzdCJdCjM5WyIzOVxudHlwZT1mcmVlX3Zhcl9uYW1lIl0KNDBbIjQwXG52YWw9VyJdCjAgLS0+fCJpZHg9MCJ8IDEKMCAtLT58ImlkeD0xInwgMTEKMSAtLT58ImlkeD0wInwgMgoxIC0tPnwiaWR4PTEifCA0CjIgLS0+fCJpZHg9MCJ8IDMKNCAtLT58ImlkeD0wInwgNQo0IC0tPnwiaWR4PTEifCA3CjQgLS0+fCJpZHg9MiJ8IDkKNSAtLT58ImlkeD0wInwgNgo3IC0tPnwiaWR4PTAifCA4CjkgLS0+fCJpZHg9MCJ8IDEwCjExIC0tPnwiaWR4PTAifCAxMgoxMSAtLT58ImlkeD0xInwgMjAKMTEgLS0+fCJpZHg9MiJ8IDI4CjEyIC0tPnwiaWR4PTAifCAxMwoxMiAtLT58ImlkeD0xInwgMTUKMTMgLS0+fCJpZHg9MCJ8IDE0CjE1IC0tPnwiaWR4PTAifCAxNgoxNSAtLT58ImlkeD0xInwgMTgKMTYgLS0+fCJpZHg9MCJ8IDE3CjE4IC0tPnwiaWR4PTAifCAxOQoyMCAtLT58ImlkeD0wInwgMjEKMjAgLS0+fCJpZHg9MSJ8IDIzCjIxIC0tPnwiaWR4PTAifCAyMgoyMyAtLT58ImlkeD0wInwgMjQKMjMgLS0+fCJpZHg9MSJ8IDI2CjI0IC0tPnwiaWR4PTAifCAyNQoyNiAtLT58ImlkeD0wInwgMjcKMjggLS0+fCJpZHg9MCJ8IDI5CjI4IC0tPnwiaWR4PTEifCAzMQoyOCAtLT58ImlkeD0yInwgMzgKMjkgLS0+fCJpZHg9MCJ8IDMwCjMxIC0tPnwiaWR4PTAifCAzMgozMSAtLT58ImlkeD0xInwgMzQKMzEgLS0+fCJpZHg9MiJ8IDM2CjMyIC0tPnwiaWR4PTAifCAzMwozNCAtLT58ImlkeD0wInwgMzUKMzYgLS0+fCJpZHg9MCJ8IDM3CjM4IC0tPnwiaWR4PTAifCAzOQozOSAtLT58ImlkeD0wInwgNDAK\"/>"
      ],
      "text/plain": [
       "<IPython.core.display.Image object>"
      ]
     },
     "metadata": {},
     "output_type": "display_data"
    }
   ],
   "source": [
    "gs = parse_spannerlog(\"\"\"\n",
    "new body1(str,str)\n",
    "new body2(str,int)\n",
    "head(X,Y,W)<-body1(X,Z),body2(Z,Y),ie_1(X,Y,Z)->(W)\n",
    "\"\"\",as_nx=True,split_statements=True)\n",
    "\n",
    "for g in gs:\n",
    "    draw(g)"
   ]
  },
  {
   "cell_type": "markdown",
   "metadata": {},
   "source": [
    "## Grammar Tests"
   ]
  },
  {
   "cell_type": "code",
   "execution_count": null,
   "metadata": {},
   "outputs": [
    {
     "data": {
      "text/html": [
       "<img src=\"https://mermaid.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\"/>"
      ],
      "text/plain": [
       "<IPython.core.display.Image object>"
      ]
     },
     "metadata": {},
     "output_type": "display_data"
    }
   ],
   "source": [
    "g=gs[-1]\n",
    "draw(g)"
   ]
  },
  {
   "cell_type": "code",
   "execution_count": null,
   "metadata": {},
   "outputs": [
    {
     "data": {
      "text/plain": [
       "(1, {'b': 2})"
      ]
     },
     "execution_count": null,
     "metadata": {},
     "output_type": "execute_result"
    }
   ],
   "source": [
    "d =  {'a':1,'b':2}\n",
    "d.pop('a'),d"
   ]
  },
  {
   "cell_type": "code",
   "execution_count": null,
   "metadata": {},
   "outputs": [],
   "source": [
    "# testing utils\n",
    "def tree_to_json(node):\n",
    "    logger.debug(f'casting the following lark node to json: {node}')\n",
    "    if isinstance(node, Token):\n",
    "        #return {'type': node.type, 'value': node.value}\n",
    "        return node.value\n",
    "    if isinstance(node, Tree):\n",
    "        type = node.data\n",
    "    elif hasattr(node, 'type'):\n",
    "        type = node.type.value\n",
    "    else:\n",
    "        type = node.type\n",
    "    if len(node.children) == 1:\n",
    "        return {type: tree_to_json(node.children[0])}\n",
    "    else:\n",
    "        return {type: [tree_to_json(child) for child in node.children]}"
   ]
  },
  {
   "cell_type": "code",
   "execution_count": null,
   "metadata": {},
   "outputs": [],
   "source": [
    "def tree_to_json(node):\n",
    "    logger.debug(f'casting the following lark node to json: {node}')\n",
    "    if isinstance(node, Token):\n",
    "        #return {'type': node.type, 'value': node.value}\n",
    "        return node.value\n",
    "    if isinstance(node, Tree):\n",
    "        type = node.data\n",
    "    elif hasattr(node, 'type'):\n",
    "        type = node.type.value\n",
    "    else:\n",
    "        type = node.type\n",
    "    if len(node.children) == 1:\n",
    "        return {type: tree_to_json(node.children[0])}\n",
    "    else:\n",
    "        return {type: [tree_to_json(child) for child in node.children]}\n",
    "\n",
    "def tree_to_yaml(node):\n",
    "    return yaml.dump(tree_to_json(node))\n"
   ]
  },
  {
   "cell_type": "code",
   "execution_count": null,
   "metadata": {},
   "outputs": [],
   "source": [
    "# testing utils\n",
    "\n",
    "\n",
    "def assert_grammar(start,text,expected_yaml):\n",
    "    tree = parse_spannerlog(text,start=start,as_tree=True)\n",
    "    expected = yaml.safe_load(expected_yaml)\n",
    "    gotten = tree_to_json(tree)\n",
    "    assert gotten == expected, f'got unexpected parse results\\n{tree_to_yaml(tree)}\\nexpected\\n{expected_yaml}'\n",
    "    return tree\n"
   ]
  },
  {
   "cell_type": "code",
   "execution_count": null,
   "metadata": {},
   "outputs": [],
   "source": [
    "tree = assert_grammar(\n",
    "      'rule',\n",
    "      'head(X,Y,W)<-body1(X,Z),body2(Z,Y),ie_1(X,Y,Z)->(W)',\n",
    "    '''\n",
    "  rule:\n",
    "  - rule_head:\n",
    "    - relation_name: head\n",
    "    - free_var_name_list:\n",
    "      - free_var_name: X\n",
    "      - free_var_name: Y\n",
    "      - free_var_name: W\n",
    "  - rule_body_relation_list:\n",
    "    - relation:\n",
    "      - relation_name: body1\n",
    "      - term_list:\n",
    "        - free_var_name: X\n",
    "        - free_var_name: Z\n",
    "    - relation:\n",
    "      - relation_name: body2\n",
    "      - term_list:\n",
    "        - free_var_name: Z\n",
    "        - free_var_name: Y\n",
    "    - ie_relation:\n",
    "      - relation_name: ie_1\n",
    "      - term_list:\n",
    "        - free_var_name: X\n",
    "        - free_var_name: Y\n",
    "        - free_var_name: Z\n",
    "      - term_list:\n",
    "          free_var_name: W\n",
    "  ''')"
   ]
  },
  {
   "cell_type": "code",
   "execution_count": null,
   "metadata": {},
   "outputs": [
    {
     "name": "stdout",
     "output_type": "stream",
     "text": [
      "<module 'yaml' from '/Users/dean/miniconda3/envs/span/lib/python3.11/site-packages/yaml/__init__.py'>\n"
     ]
    }
   ],
   "source": [
    "print(yaml)"
   ]
  },
  {
   "cell_type": "code",
   "execution_count": null,
   "metadata": {},
   "outputs": [
    {
     "data": {
      "text/plain": [
       "<function networkx.readwrite.json_graph.tree.tree_data(G, root, ident='id', children='children')>"
      ]
     },
     "execution_count": null,
     "metadata": {},
     "output_type": "execute_result"
    }
   ],
   "source": [
    "nx.tree_data"
   ]
  },
  {
   "cell_type": "code",
   "execution_count": null,
   "metadata": {},
   "outputs": [
    {
     "data": {
      "text/html": [
       "<img src=\"https://mermaid.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\"/>"
      ],
      "text/plain": [
       "<IPython.core.display.Image object>"
      ]
     },
     "metadata": {},
     "output_type": "display_data"
    }
   ],
   "source": [
    "g = parse_spannerlog('head(X,Y,W)<-body1(X,1),body2(1,Y),ie_1(X,Y,1)->(W)')\n",
    "for match in rewrite_iter(g,lhs='''rel[val:str=\"relation\"]->z[val:str=\"relation_name\"]->y'''):\n",
    "    print(match['y']['val'])\n",
    "draw(g,direction='LR')"
   ]
  },
  {
   "cell_type": "code",
   "execution_count": null,
   "metadata": {},
   "outputs": [
    {
     "data": {
      "text/html": [
       "<img src=\"https://mermaid.ink/img/CmZsb3djaGFydCBMUgowWyIwXG50eXBlPXN0YXJ0Il0KMVsiMVxudHlwZT1ydWxlIl0KMlsiMlxudHlwZT1ydWxlX2hlYWQiXQozWyIzXG50eXBlPXJlbGF0aW9uX25hbWUiXQo0WyI0XG52YWw9aGVhZCJdCjVbIjVcbnR5cGU9ZnJlZV92YXJfbmFtZV9saXN0Il0KNlsiNlxudHlwZT1mcmVlX3Zhcl9uYW1lIl0KN1siN1xudmFsPVgiXQo4WyI4XG50eXBlPWZyZWVfdmFyX25hbWUiXQo5WyI5XG52YWw9WSJdCjEwWyIxMFxudHlwZT1mcmVlX3Zhcl9uYW1lIl0KMTFbIjExXG52YWw9VyJdCjEyWyIxMlxudHlwZT1ydWxlX2JvZHlfcmVsYXRpb25fbGlzdCJdCjEzWyIxM1xudHlwZT1yZWxhdGlvbiJdCjE0WyIxNFxudHlwZT1yZWxhdGlvbl9uYW1lIl0KMTVbIjE1XG52YWw9Ym9keTEiXQoxNlsiMTZcbnR5cGU9dGVybV9saXN0LCBmcmVlX3ZhcnM9WydYJ10iXQoxOVsiMTlcbnR5cGU9aW50ZWdlciJdCjIwWyIyMFxudmFsPTEiXQoyMVsiMjFcbnR5cGU9cmVsYXRpb24iXQoyMlsiMjJcbnR5cGU9cmVsYXRpb25fbmFtZSJdCjIzWyIyM1xudmFsPWJvZHkyIl0KMjRbIjI0XG50eXBlPXRlcm1fbGlzdCwgZnJlZV92YXJzPVsnWSddIl0KMjVbIjI1XG50eXBlPWludGVnZXIiXQoyNlsiMjZcbnZhbD0xIl0KMjlbIjI5XG50eXBlPWllX3JlbGF0aW9uIl0KMzBbIjMwXG50eXBlPXJlbGF0aW9uX25hbWUiXQozMVsiMzFcbnZhbD1pZV8xIl0KMzJbIjMyXG50eXBlPXRlcm1fbGlzdCwgZnJlZV92YXJzPVsnWCcsICdZJ10iXQozN1siMzdcbnR5cGU9aW50ZWdlciJdCjM4WyIzOFxudmFsPTEiXQozOVsiMzlcbnR5cGU9dGVybV9saXN0LCBmcmVlX3ZhcnM9WydXJ10iXQowIC0tPnwiaWR4PTAifCAxCjEgLS0+fCJpZHg9MCJ8IDIKMSAtLT58ImlkeD0xInwgMTIKMiAtLT58ImlkeD0wInwgMwoyIC0tPnwiaWR4PTEifCA1CjMgLS0+fCJpZHg9MCJ8IDQKNSAtLT58ImlkeD0wInwgNgo1IC0tPnwiaWR4PTEifCA4CjUgLS0+fCJpZHg9MiJ8IDEwCjYgLS0+fCJpZHg9MCJ8IDcKOCAtLT58ImlkeD0wInwgOQoxMCAtLT58ImlkeD0wInwgMTEKMTIgLS0+fCJpZHg9MCJ8IDEzCjEyIC0tPnwiaWR4PTEifCAyMQoxMiAtLT58ImlkeD0yInwgMjkKMTMgLS0+fCJpZHg9MCJ8IDE0CjEzIC0tPnwiaWR4PTEifCAxNgoxNCAtLT58ImlkeD0wInwgMTUKMTYgLS0+fCJpZHg9MSJ8IDE5CjE5IC0tPnwiaWR4PTAifCAyMAoyMSAtLT58ImlkeD0wInwgMjIKMjEgLS0+fCJpZHg9MSJ8IDI0CjIyIC0tPnwiaWR4PTAifCAyMwoyNCAtLT58ImlkeD0wInwgMjUKMjUgLS0+fCJpZHg9MCJ8IDI2CjI5IC0tPnwiaWR4PTAifCAzMAoyOSAtLT58ImlkeD0xInwgMzIKMjkgLS0+fCJpZHg9MiJ8IDM5CjMwIC0tPnwiaWR4PTAifCAzMQozMiAtLT58ImlkeD0yInwgMzcKMzcgLS0+fCJpZHg9MCJ8IDM4Cg==\"/>"
      ],
      "text/plain": [
       "<IPython.core.display.Image object>"
      ]
     },
     "metadata": {},
     "output_type": "display_data"
    }
   ],
   "source": [
    "#TODO currently we cant get all children of a node at once, so we can't make the list of free vars using rhs\n",
    "for match in rewrite_iter(g,lhs='''terms[type=\"term_list\"]->var[type=\"free_var_name\"]->val''',\n",
    "                          p='terms[type]',):\n",
    "        free_var_list = match['terms'].get('free_vars',[])\n",
    "        free_var_list.append(match['val']['val'])\n",
    "        match['terms']['free_vars'] = free_var_list\n",
    "\n",
    "draw(g,direction='LR')\n",
    "    \n",
    "    "
   ]
  },
  {
   "cell_type": "code",
   "execution_count": null,
   "metadata": {},
   "outputs": [],
   "source": [
    "#|hide\n",
    "import nbdev; nbdev.nbdev_export()\n",
    "     "
   ]
  }
 ],
 "metadata": {
  "kernelspec": {
   "display_name": "python3",
   "language": "python",
   "name": "python3"
  }
 },
 "nbformat": 4,
 "nbformat_minor": 4
}
