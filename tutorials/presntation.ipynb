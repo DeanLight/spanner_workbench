{
 "cells": [
  {
   "cell_type": "markdown",
   "id": "superb-harrison",
   "metadata": {
    "slideshow": {
     "slide_type": "slide"
    }
   },
   "source": [
    "# Spanner Workbench Presentation\n",
    "\n",
    "### Presenting:\n",
    "- Tom Feldman    325135960     tom.p@campus.technion.ac.il\n",
    "- Niv"
   ]
  },
  {
   "cell_type": "markdown",
   "id": "going-thirty",
   "metadata": {
    "slideshow": {
     "slide_type": "slide"
    }
   },
   "source": [
    "## Pesntation Overview:\n",
    "* <u>**Information Extraction Functions**\n",
    "* Import-Export Functions\n",
    "* Recursive Rules\n",
    "* Tests and Typing\n",
    "* Standart Library\n",
    "* Tutorials Examples\n",
    "* PyDatalog to SQL Engine\n",
    "* Optimization Examples"
   ]
  },
  {
   "cell_type": "markdown",
   "id": "adequate-dollar",
   "metadata": {
    "slideshow": {
     "slide_type": "slide"
    }
   },
   "source": [
    "# Information Extraction Functions <a class=\"anchor\" id=\"IEFunctions\"></a>\n",
    "\n",
    "* Client-Server refactoring\n",
    "* Design of IEfunctions Class\n",
    "* Easy registration of IEFunctions"
   ]
  },
  {
   "cell_type": "markdown",
   "id": "authorized-pendant",
   "metadata": {
    "slideshow": {
     "slide_type": "slide"
    }
   },
   "source": [
    "## Pesntation Overview:\n",
    "* Information Extraction Functions\n",
    "* <u>**Import-Export Functions**\n",
    "* Recursive Rules\n",
    "* Tests and Typing\n",
    "* Standart Library\n",
    "* Tutorials Examples\n",
    "* PyDatalog to SQL Engine\n",
    "* Optimization Examples"
   ]
  },
  {
   "cell_type": "markdown",
   "id": "strong-thousand",
   "metadata": {
    "slideshow": {
     "slide_type": "slide"
    }
   },
   "source": [
    "# Import-Export Functions <a class=\"anchor\" id=\"Import-Export-Functions\"></a>\n",
    "\n",
    "* examples of import-export functions"
   ]
  },
  {
   "cell_type": "markdown",
   "id": "whole-quest",
   "metadata": {
    "slideshow": {
     "slide_type": "slide"
    }
   },
   "source": [
    "## Pesntation Overview:\n",
    "* Information Extraction Functions\n",
    "* Import-Export Functions\n",
    "* **Recursive Rules**\n",
    "* Tests and Typing\n",
    "* Standart Library\n",
    "* Tutorials Examples\n",
    "* PyDatalog to SQL Engine\n",
    "* Optimization Examples"
   ]
  },
  {
   "cell_type": "markdown",
   "id": "associate-experiment",
   "metadata": {
    "slideshow": {
     "slide_type": "slide"
    }
   },
   "source": [
    "# Recursive Rules <a class=\"anchor\" id=\"Recursive-Rules\"></a>\n",
    "\n",
    "* Registration of multiple rule with same head\n",
    "* Recursion is delegated to pydatalog\n",
    "* show ancestor exmaple"
   ]
  },
  {
   "cell_type": "markdown",
   "id": "tested-approach",
   "metadata": {
    "slideshow": {
     "slide_type": "slide"
    }
   },
   "source": [
    "## Pesntation Overview:\n",
    "* Information Extraction Functions\n",
    "* Import-Export Functions\n",
    "* Recursive Rules\n",
    "* **Tests and Typing**\n",
    "* Standart Library\n",
    "* Tutorials Examples\n",
    "* PyDatalog to SQL Engine\n",
    "* Optimization Examples"
   ]
  },
  {
   "cell_type": "markdown",
   "id": "lasting-scientist",
   "metadata": {
    "slideshow": {
     "slide_type": "slide"
    }
   },
   "source": [
    "# Tests and Typing <a class=\"anchor\" id=\"CI\"></a>\n",
    "\n",
    "* 63 tests\n",
    "* typing\n",
    "* pep8 test\n",
    "* mypy test\n",
    "* ci with github actions"
   ]
  },
  {
   "cell_type": "markdown",
   "id": "black-amplifier",
   "metadata": {
    "slideshow": {
     "slide_type": "slide"
    }
   },
   "source": [
    "## Pesntation Overview:\n",
    "* Information Extraction Functions\n",
    "* Import-Export Functions\n",
    "* Recursive Rules\n",
    "* Tests and Typing\n",
    "* **Standart Library**\n",
    "* Tutorials Examples\n",
    "* PyDatalog to SQL Engine\n",
    "* Optimization Examples"
   ]
  },
  {
   "cell_type": "markdown",
   "id": "acoustic-grammar",
   "metadata": {
    "slideshow": {
     "slide_type": "slide"
    }
   },
   "source": [
    "# Standart Library <a class=\"anchor\" id=\"STDLIB\"></a>\n",
    "\n",
    "* python and rust regex\n",
    "* json path\n",
    "* many nlp functions wrapping StanfordCoreNLP"
   ]
  },
  {
   "cell_type": "markdown",
   "id": "scientific-oakland",
   "metadata": {
    "slideshow": {
     "slide_type": "slide"
    }
   },
   "source": [
    "## Pesntation Overview:\n",
    "* Information Extraction Functions\n",
    "* Import-Export Functions\n",
    "* Recursive Rules\n",
    "* Tests and Typing\n",
    "* Standart Library\n",
    "* **Tutorials Examples**\n",
    "* PyDatalog to SQL Engine\n",
    "* Optimization Examples"
   ]
  },
  {
   "cell_type": "markdown",
   "id": "certain-premiere",
   "metadata": {
    "slideshow": {
     "slide_type": "slide"
    }
   },
   "source": [
    "# Tutorials Examples <a class=\"anchor\" id=\"Tutorials\"></a>\n",
    "\n",
    "* link to tutorials"
   ]
  },
  {
   "cell_type": "markdown",
   "id": "alternate-modification",
   "metadata": {
    "slideshow": {
     "slide_type": "slide"
    }
   },
   "source": [
    "## Pesntation Overview:\n",
    "* Information Extraction Functions\n",
    "* Import-Export Functions\n",
    "* Recursive Rules\n",
    "* Tests and Typing\n",
    "* Standart Library\n",
    "* Tutorials Examples\n",
    "* **PyDatalog to SQL Engine**\n",
    "    * **Parse Grpah and Term Grpah**\n",
    "    * **Adding Rules to Trem Graph**\n",
    "    * **SQL Engine**\n",
    "    * **Bottom-Up Execution**\n",
    "* Optimization Examples"
   ]
  },
  {
   "cell_type": "markdown",
   "id": "retained-legend",
   "metadata": {
    "slideshow": {
     "slide_type": "slide"
    }
   },
   "source": [
    "# PyDatalog to SQL Engine <a class=\"anchor\" id=\"Engine\"></a>\n",
    "\n",
    "* main feature\n",
    "* parse graph and term graph\n",
    "* SQL engine\n",
    "* adding rules to term grpah\n",
    "* bottom-up algorithm and execution function"
   ]
  },
  {
   "cell_type": "markdown",
   "id": "challenging-display",
   "metadata": {
    "slideshow": {
     "slide_type": "slide"
    }
   },
   "source": [
    "## Pesntation Overview:\n",
    "* Information Extraction Functions\n",
    "* Import-Export Functions\n",
    "* Recursive Rules\n",
    "* Tests and Typing\n",
    "* Standart Library\n",
    "* Tutorials Examples\n",
    "* PyDatalog to SQL Engine\n",
    "* **Optimization Examples**"
   ]
  },
  {
   "cell_type": "markdown",
   "id": "painted-meditation",
   "metadata": {
    "slideshow": {
     "slide_type": "slide"
    }
   },
   "source": [
    "# Optimization Examples <a class=\"anchor\" id=\"Optimization\"></a>\n",
    "\n",
    "* link to optimization tutorials\n",
    "* show idea from md file and describe how to easily implement it with our interfaces"
   ]
  },
  {
   "cell_type": "markdown",
   "id": "integral-intensity",
   "metadata": {
    "slideshow": {
     "slide_type": "skip"
    }
   },
   "source": [
    "#### Loggers?\n",
    "#### features: printing ie functions, printing rules, removing rules\n",
    "## Pesntation Overview:\n",
    "* [Information Extraction Functions](#IEFunctions)\n",
    "* [Import-Export Functions](#Import-Export-Functions)\n",
    "* [Recursive Rules](#Recursive-Rules)\n",
    "* [Tests and Typing](#CI)\n",
    "* [Standart Library](#STDLIB)\n",
    "* [Tutorials Examples](#Tutorials)\n",
    "* [PyDatalog to SQL Engine](#Engine)\n",
    "* [Optimization Examples](#Optimization)"
   ]
  },
  {
   "cell_type": "code",
   "execution_count": null,
   "id": "renewable-momentum",
   "metadata": {},
   "outputs": [],
   "source": []
  }
 ],
 "metadata": {
  "celltoolbar": "Slideshow",
  "kernelspec": {
   "display_name": "Python 3",
   "language": "python",
   "name": "python3"
  },
  "language_info": {
   "codemirror_mode": {
    "name": "ipython",
    "version": 3
   },
   "file_extension": ".py",
   "mimetype": "text/x-python",
   "name": "python",
   "nbconvert_exporter": "python",
   "pygments_lexer": "ipython3",
   "version": "3.9.2"
  }
 },
 "nbformat": 4,
 "nbformat_minor": 5
}
