{
 "cells": [
  {
   "cell_type": "markdown",
   "metadata": {},
   "source": [
    "# Spanner Workbench Sneak Peak"
   ]
  },
  {
   "cell_type": "markdown",
   "metadata": {},
   "source": [
    "## installation"
   ]
  },
  {
   "cell_type": "code",
   "execution_count": null,
   "metadata": {},
   "outputs": [],
   "source": [
    "%%bash\n",
    "# git clone https://github.com/DeanLight/spanner_workbench\n",
    "# cd spanner_workbench\n",
    "# pip install -e src/rgxlog-interpreter "
   ]
  },
  {
   "cell_type": "markdown",
   "metadata": {},
   "source": [
    "## Datalog magic"
   ]
  },
  {
   "cell_type": "code",
   "execution_count": 1,
   "metadata": {},
   "outputs": [],
   "source": [
    "%load_ext autoreload\n",
    "%autoreload 2\n",
    "\n",
    "import rgxlog\n",
    "from rgxlog import magic_client,Session\n",
    "import rgxlog.magic.rgxlog_magic"
   ]
  },
  {
   "cell_type": "code",
   "execution_count": 2,
   "metadata": {},
   "outputs": [],
   "source": [
    "%%spanner\n",
    "# define relation and some facts about it\n",
    "new parent(str ,str)\n",
    "parent(\"bob\", \"greg\")\n",
    "parent(\"greg\", \"alice\")\n",
    "parent(\"greg\", \"janice\")\n",
    "# now add a rule that deduces that bob is a grandparent of alice\n",
    "grandparent(X,Z) <- parent(X,Y), parent(Y,Z) # ',' is a short hand to the 'and' operator"
   ]
  },
  {
   "cell_type": "code",
   "execution_count": 3,
   "metadata": {},
   "outputs": [
    {
     "name": "stdout",
     "output_type": "stream",
     "text": [
      "printing results for query 'parent(\"greg\", ChildsOfGreg)':\n",
      "  ChildsOfGreg\n",
      "----------------\n",
      "     janice\n",
      "     alice\n",
      "\n",
      "printing results for query 'grandparent(X, Y)':\n",
      "  X  |   Y\n",
      "-----+--------\n",
      " bob | janice\n",
      " bob | alice\n",
      "\n"
     ]
    }
   ],
   "source": [
    "%%spanner\n",
    "# now for the queries\n",
    "?parent(\"greg\", ChildsOfGreg) # returns all children of greg\n",
    "?grandparent(X, Y) # returns all tuples in the grandparent relation"
   ]
  },
  {
   "cell_type": "markdown",
   "metadata": {},
   "source": [
    "## python IO"
   ]
  },
  {
   "cell_type": "code",
   "execution_count": 4,
   "metadata": {},
   "outputs": [
    {
     "name": "stdout",
     "output_type": "stream",
     "text": [
      "bob,adam\r\n",
      "adam,oren\r\n",
      "jane,bob\r\n",
      "elmo,bernie\r\n",
      "bernie,casie"
     ]
    }
   ],
   "source": [
    "! cat sons.csv"
   ]
  },
  {
   "cell_type": "code",
   "execution_count": 5,
   "metadata": {},
   "outputs": [],
   "source": [
    "magic_client.import_relation_from_csv(\"sons.csv\",relation_name=\"parent\",delimiter=\",\")"
   ]
  },
  {
   "cell_type": "code",
   "execution_count": 6,
   "metadata": {},
   "outputs": [
    {
     "name": "stdout",
     "output_type": "stream",
     "text": [
      "printing results for query 'parent(X, Y)':\n",
      "   X    |   Y\n",
      "--------+--------\n",
      " bernie | casie\n",
      "  elmo  | bernie\n",
      "  jane  |  bob\n",
      "  adam  |  oren\n",
      "  bob   |  adam\n",
      "  greg  | janice\n",
      "  greg  | alice\n",
      "  bob   |  greg\n",
      "\n"
     ]
    }
   ],
   "source": [
    "%%spanner\n",
    "?parent(X,Y) # returns all tuples that"
   ]
  },
  {
   "cell_type": "code",
   "execution_count": 7,
   "metadata": {},
   "outputs": [
    {
     "name": "stdout",
     "output_type": "stream",
     "text": [
      "printing results for query 'grandparent(X, Y)':\n",
      "  X   |   Y\n",
      "------+--------\n",
      " elmo | casie\n",
      " jane |  adam\n",
      " jane |  greg\n",
      " bob  |  oren\n",
      " bob  | janice\n",
      " bob  | alice\n",
      "\n"
     ]
    }
   ],
   "source": [
    "%%spanner\n",
    "?grandparent(X, Y)"
   ]
  },
  {
   "cell_type": "code",
   "execution_count": 8,
   "metadata": {},
   "outputs": [
    {
     "data": {
      "text/html": [
       "<div>\n",
       "<style scoped>\n",
       "    .dataframe tbody tr th:only-of-type {\n",
       "        vertical-align: middle;\n",
       "    }\n",
       "\n",
       "    .dataframe tbody tr th {\n",
       "        vertical-align: top;\n",
       "    }\n",
       "\n",
       "    .dataframe thead th {\n",
       "        text-align: right;\n",
       "    }\n",
       "</style>\n",
       "<table border=\"1\" class=\"dataframe\">\n",
       "  <thead>\n",
       "    <tr style=\"text-align: right;\">\n",
       "      <th></th>\n",
       "      <th>Grandparent</th>\n",
       "      <th>Grandchild</th>\n",
       "    </tr>\n",
       "  </thead>\n",
       "  <tbody>\n",
       "    <tr>\n",
       "      <th>0</th>\n",
       "      <td>elmo</td>\n",
       "      <td>casie</td>\n",
       "    </tr>\n",
       "    <tr>\n",
       "      <th>1</th>\n",
       "      <td>jane</td>\n",
       "      <td>adam</td>\n",
       "    </tr>\n",
       "    <tr>\n",
       "      <th>2</th>\n",
       "      <td>jane</td>\n",
       "      <td>greg</td>\n",
       "    </tr>\n",
       "    <tr>\n",
       "      <th>3</th>\n",
       "      <td>bob</td>\n",
       "      <td>oren</td>\n",
       "    </tr>\n",
       "    <tr>\n",
       "      <th>4</th>\n",
       "      <td>bob</td>\n",
       "      <td>janice</td>\n",
       "    </tr>\n",
       "    <tr>\n",
       "      <th>5</th>\n",
       "      <td>bob</td>\n",
       "      <td>alice</td>\n",
       "    </tr>\n",
       "  </tbody>\n",
       "</table>\n",
       "</div>"
      ],
      "text/plain": [
       "  Grandparent Grandchild\n",
       "0        elmo      casie\n",
       "1        jane       adam\n",
       "2        jane       greg\n",
       "3         bob       oren\n",
       "4         bob     janice\n",
       "5         bob      alice"
      ]
     },
     "execution_count": 8,
     "metadata": {},
     "output_type": "execute_result"
    }
   ],
   "source": [
    "grand_parents=magic_client.query_into_df(\"?grandparent(Grandparent, Grandchild)\")\n",
    "grand_parents"
   ]
  },
  {
   "cell_type": "markdown",
   "metadata": {},
   "source": [
    "## Adding ie functions - regexes"
   ]
  },
  {
   "cell_type": "code",
   "execution_count": 9,
   "metadata": {},
   "outputs": [
    {
     "name": "stdout",
     "output_type": "stream",
     "text": [
      "The autoreload extension is already loaded. To reload it, use:\n",
      "  %reload_ext autoreload\n"
     ]
    }
   ],
   "source": [
    "%load_ext autoreload\n",
    "%autoreload 2\n",
    "\n",
    "from rgxlog.engine.datatypes.primitive_types import DataTypes\n",
    "from rgxlog.stdlib.regex import rgx_string,rgx_string_out_types\n",
    "\n"
   ]
  },
  {
   "cell_type": "code",
   "execution_count": 10,
   "metadata": {},
   "outputs": [],
   "source": [
    "magic_client.register(\n",
    "                ie_function=rgx_string,\n",
    "                ie_function_name='RGXString',\n",
    "                in_rel=[DataTypes.string, DataTypes.string],\n",
    "                out_rel=rgx_string_out_types,\n",
    "                )"
   ]
  },
  {
   "cell_type": "code",
   "execution_count": 11,
   "metadata": {},
   "outputs": [],
   "source": [
    "%%spanner\n",
    "bank_records= \"bob 100 elmo 80 jane 79 alice 60\"\n",
    "money(P, Money) <- \\\n",
    "RGXString(bank_records, \"(\\w+).*?(\\d+)\")->(P, Money)\n",
    "\n"
   ]
  },
  {
   "cell_type": "code",
   "execution_count": 12,
   "metadata": {},
   "outputs": [
    {
     "name": "stdout",
     "output_type": "stream",
     "text": [
      "printing results for query 'money(P, M)':\n",
      "   P   |   M\n",
      "-------+-----\n",
      " alice |  60\n",
      " jane  |  79\n",
      " elmo  |  80\n",
      "  bob  | 100\n",
      "\n"
     ]
    }
   ],
   "source": [
    "%%spanner\n",
    "?money(P,M)"
   ]
  },
  {
   "cell_type": "markdown",
   "metadata": {},
   "source": [
    "## NLP example"
   ]
  },
  {
   "cell_type": "code",
   "execution_count": 13,
   "metadata": {},
   "outputs": [
    {
     "name": "stdout",
     "output_type": "stream",
     "text": [
      "The autoreload extension is already loaded. To reload it, use:\n",
      "  %reload_ext autoreload\n"
     ]
    }
   ],
   "source": [
    "%load_ext autoreload\n",
    "%autoreload 2\n",
    "\n",
    "from rgxlog.stdlib.nlp import   lemma_wrapper, ner_wrapper, dependency_parse_wrapper                                \n"
   ]
  },
  {
   "cell_type": "code",
   "execution_count": 14,
   "metadata": {},
   "outputs": [
    {
     "name": "stdout",
     "output_type": "stream",
     "text": [
      "NER\n",
      "[('John', 'PERSON', (0, 4)), ('Greg', 'PERSON', (14, 18))]\n",
      "lemma\n",
      "[('John', 'John', (0, 4)), ('fathered', 'father', (5, 13)), ('Greg', 'Greg', (14, 18)), ('wonderfully', 'wonderfully', (19, 30))]\n",
      "dep_parse\n",
      "[('ROOT', 0, 'ROOT', 2, 'fathered'), ('nsubj', 2, 'fathered', 1, 'John'), ('obj', 2, 'fathered', 3, 'Greg'), ('advmod', 2, 'fathered', 4, 'wonderfully')]\n"
     ]
    }
   ],
   "source": [
    "sentence = \"John fathered Greg wonderfully\"\n",
    "print(\"NER\")\n",
    "print(list(ner_wrapper(sentence)))\n",
    "print(\"lemma\")\n",
    "print(list(lemma_wrapper(sentence)))\n",
    "print(\"dep_parse\")\n",
    "print(list(dependency_parse_wrapper(sentence)))\n"
   ]
  },
  {
   "cell_type": "code",
   "execution_count": 15,
   "metadata": {},
   "outputs": [],
   "source": [
    "magic_client.register(ie_function=lemma_wrapper,\n",
    "             ie_function_name='Lemma',\n",
    "             in_rel=[DataTypes.string],\n",
    "             out_rel=[DataTypes.string, DataTypes.string, DataTypes.span],\n",
    "             )\n",
    "\n",
    "magic_client.register(ie_function=ner_wrapper,\n",
    "           ie_function_name='NER',\n",
    "           in_rel=[DataTypes.string],\n",
    "           out_rel=[DataTypes.string, DataTypes.string, DataTypes.span],\n",
    "           )\n",
    "\n",
    "\n",
    "\n",
    "magic_client.register(ie_function=dependency_parse_wrapper,\n",
    "                ie_function_name='DepParse',\n",
    "                in_rel=[DataTypes.string],\n",
    "                out_rel=[DataTypes.string, DataTypes.integer, DataTypes.string, DataTypes.integer, DataTypes.string]\n",
    "                )\n",
    "\n",
    "\n"
   ]
  },
  {
   "cell_type": "code",
   "execution_count": 16,
   "metadata": {},
   "outputs": [],
   "source": [
    "%%spanner\n",
    "sentence=\"John fathered Greg wonderfully\"\n",
    "\n",
    "#TODO multiline rule doesnt parse\n",
    "\n",
    "father_of(F,S)<- NER(sentence)->(F,\"PERSON\",T1),NER(sentence)->(S,\"PERSON\",T2),Lemma(sentence)->(FATHERLIKE ,\"father\",T3),DepParse(sentence)->(\"nsubj\",T41,FATHERLIKE,T42,F),DepParse(sentence)->(\"obj\",T51,FATHERLIKE,T52,S)\n",
    "#NER(sentence)->(F,\"PERSON\",T1)\n",
    "#NER(sentence)->(S,\"PERSON\",T2)\n",
    "#Lemma(sentence)->(FATHERLIKE ,\"father\",T3)\n",
    "#DepParse(sentence)->(\"nsubj\",T41,FATHERLIKE,T42,F)\n",
    "#DepParse(sentence)->(\"obj\",T51,FATHERLIKE,T52,S)\n"
   ]
  },
  {
   "cell_type": "code",
   "execution_count": 18,
   "metadata": {},
   "outputs": [
    {
     "name": "stdout",
     "output_type": "stream",
     "text": [
      "printing results for query 'father_of(F, S)':\n",
      "  F   |  S\n",
      "------+------\n",
      " John | Greg\n",
      "\n"
     ]
    }
   ],
   "source": [
    "%%spanner\n",
    "\n",
    "?father_of(F,S)"
   ]
  }
 ],
 "metadata": {
  "kernelspec": {
   "display_name": "bench",
   "language": "python",
   "name": "bench"
  },
  "language_info": {
   "codemirror_mode": {
    "name": "ipython",
    "version": 3
   },
   "file_extension": ".py",
   "mimetype": "text/x-python",
   "name": "python",
   "nbconvert_exporter": "python",
   "pygments_lexer": "ipython3",
   "version": "3.8.8"
  },
  "pycharm": {
   "stem_cell": {
    "cell_type": "raw",
    "metadata": {
     "collapsed": false
    },
    "source": []
   }
  },
  "toc": {
   "base_numbering": 1,
   "nav_menu": {},
   "number_sections": true,
   "sideBar": true,
   "skip_h1_title": false,
   "title_cell": "Table of Contents",
   "title_sidebar": "Contents",
   "toc_cell": false,
   "toc_position": {},
   "toc_section_display": true,
   "toc_window_display": false
  }
 },
 "nbformat": 4,
 "nbformat_minor": 4
}
