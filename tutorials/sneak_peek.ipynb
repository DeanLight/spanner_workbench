{
 "cells": [
  {
   "cell_type": "markdown",
   "metadata": {},
   "source": [
    "# Spanner Workbench Sneak Peak"
   ]
  },
  {
   "cell_type": "markdown",
   "metadata": {},
   "source": [
    "## installation"
   ]
  },
  {
   "cell_type": "code",
   "execution_count": 1,
   "metadata": {},
   "outputs": [],
   "source": [
    "%%bash\n",
    "# git clone https://github.com/DeanLight/spanner_workbench\n",
    "# cd spanner_workbench\n",
    "# pip install -e src/rgxlog-interpreter "
   ]
  },
  {
   "cell_type": "markdown",
   "metadata": {},
   "source": [
    "## Datalog magic"
   ]
  },
  {
   "cell_type": "code",
   "execution_count": 2,
   "metadata": {},
   "outputs": [],
   "source": [
    "%load_ext autoreload\n",
    "%autoreload 2\n",
    "\n",
    "import pandas as pd\n",
    "import rgxlog\n",
    "from rgxlog import magic_client,Session\n",
    "import rgxlog.magic.rgxlog_magic"
   ]
  },
  {
   "cell_type": "code",
   "execution_count": 3,
   "metadata": {},
   "outputs": [],
   "source": [
    "%%spanner\n",
    "# define relation and some facts about it\n",
    "new parent(str ,str)\n",
    "parent(\"bob\", \"greg\")\n",
    "parent(\"greg\", \"alice\")\n",
    "parent(\"greg\", \"janice\")\n",
    "# now add a rule that deduces that bob is a grandparent of alice\n",
    "grandparent(X,Z) <- parent(X,Y), parent(Y,Z) # ',' is a short hand to the 'and' operator"
   ]
  },
  {
   "cell_type": "code",
   "execution_count": 4,
   "metadata": {},
   "outputs": [
    {
     "name": "stdout",
     "output_type": "stream",
     "text": [
      "printing results for query 'parent(\"greg\", ChildsOfGreg)':\n",
      "  ChildsOfGreg\n",
      "----------------\n",
      "     janice\n",
      "     alice\n",
      "\n",
      "printing results for query 'grandparent(X, Y)':\n",
      "  X  |   Y\n",
      "-----+--------\n",
      " bob | janice\n",
      " bob | alice\n",
      "\n"
     ]
    }
   ],
   "source": [
    "%%spanner\n",
    "# now for the queries\n",
    "?parent(\"greg\", ChildsOfGreg) # returns all children of greg\n",
    "?grandparent(X, Y) # returns all tuples in the grandparent relation"
   ]
  },
  {
   "cell_type": "markdown",
   "metadata": {},
   "source": [
    "## python IO"
   ]
  },
  {
   "cell_type": "code",
   "execution_count": 5,
   "metadata": {},
   "outputs": [
    {
     "name": "stdout",
     "output_type": "stream",
     "text": [
      "bob,adam\r\n",
      "adam,oren\r\n",
      "jane,bob\r\n",
      "elmo,bernie\r\n",
      "bernie,casie"
     ]
    }
   ],
   "source": [
    "! cat sons.csv"
   ]
  },
  {
   "cell_type": "code",
   "execution_count": 6,
   "metadata": {},
   "outputs": [],
   "source": [
    "magic_client.import_relation_from_csv(\"sons.csv\",relation_name=\"parent\",delimiter=\",\")"
   ]
  },
  {
   "cell_type": "code",
   "execution_count": 7,
   "metadata": {},
   "outputs": [
    {
     "name": "stdout",
     "output_type": "stream",
     "text": [
      "printing results for query 'parent(X, Y)':\n",
      "   X    |   Y\n",
      "--------+--------\n",
      " bernie | casie\n",
      "  elmo  | bernie\n",
      "  jane  |  bob\n",
      "  adam  |  oren\n",
      "  bob   |  adam\n",
      "  greg  | janice\n",
      "  greg  | alice\n",
      "  bob   |  greg\n",
      "\n"
     ]
    }
   ],
   "source": [
    "%%spanner\n",
    "?parent(X,Y) # returns all tuples that"
   ]
  },
  {
   "cell_type": "code",
   "execution_count": 8,
   "metadata": {},
   "outputs": [
    {
     "name": "stdout",
     "output_type": "stream",
     "text": [
      "printing results for query 'grandparent(X, Y)':\n",
      "  X   |   Y\n",
      "------+--------\n",
      " elmo | casie\n",
      " jane |  greg\n",
      " jane |  adam\n",
      " bob  |  oren\n",
      " bob  | janice\n",
      " bob  | alice\n",
      "\n"
     ]
    }
   ],
   "source": [
    "%%spanner\n",
    "?grandparent(X, Y)"
   ]
  },
  {
   "cell_type": "code",
   "execution_count": 9,
   "metadata": {},
   "outputs": [
    {
     "data": {
      "text/html": [
       "<div>\n",
       "<style scoped>\n",
       "    .dataframe tbody tr th:only-of-type {\n",
       "        vertical-align: middle;\n",
       "    }\n",
       "\n",
       "    .dataframe tbody tr th {\n",
       "        vertical-align: top;\n",
       "    }\n",
       "\n",
       "    .dataframe thead th {\n",
       "        text-align: right;\n",
       "    }\n",
       "</style>\n",
       "<table border=\"1\" class=\"dataframe\">\n",
       "  <thead>\n",
       "    <tr style=\"text-align: right;\">\n",
       "      <th></th>\n",
       "      <th>Grandparent</th>\n",
       "      <th>Grandchild</th>\n",
       "    </tr>\n",
       "  </thead>\n",
       "  <tbody>\n",
       "    <tr>\n",
       "      <th>0</th>\n",
       "      <td>elmo</td>\n",
       "      <td>casie</td>\n",
       "    </tr>\n",
       "    <tr>\n",
       "      <th>1</th>\n",
       "      <td>jane</td>\n",
       "      <td>greg</td>\n",
       "    </tr>\n",
       "    <tr>\n",
       "      <th>2</th>\n",
       "      <td>jane</td>\n",
       "      <td>adam</td>\n",
       "    </tr>\n",
       "    <tr>\n",
       "      <th>3</th>\n",
       "      <td>bob</td>\n",
       "      <td>oren</td>\n",
       "    </tr>\n",
       "    <tr>\n",
       "      <th>4</th>\n",
       "      <td>bob</td>\n",
       "      <td>janice</td>\n",
       "    </tr>\n",
       "    <tr>\n",
       "      <th>5</th>\n",
       "      <td>bob</td>\n",
       "      <td>alice</td>\n",
       "    </tr>\n",
       "  </tbody>\n",
       "</table>\n",
       "</div>"
      ],
      "text/plain": [
       "  Grandparent Grandchild\n",
       "0        elmo      casie\n",
       "1        jane       greg\n",
       "2        jane       adam\n",
       "3         bob       oren\n",
       "4         bob     janice\n",
       "5         bob      alice"
      ]
     },
     "execution_count": 9,
     "metadata": {},
     "output_type": "execute_result"
    }
   ],
   "source": [
    "grand_parents=magic_client.query_into_df(\"?grandparent(Grandparent, Grandchild)\")\n",
    "grand_parents"
   ]
  },
  {
   "cell_type": "markdown",
   "metadata": {},
   "source": [
    "## Adding ie functions - regexes"
   ]
  },
  {
   "cell_type": "code",
   "execution_count": 10,
   "metadata": {},
   "outputs": [
    {
     "name": "stdout",
     "output_type": "stream",
     "text": [
      "The autoreload extension is already loaded. To reload it, use:\n",
      "  %reload_ext autoreload\n"
     ]
    }
   ],
   "source": [
    "%load_ext autoreload\n",
    "%autoreload 2\n",
    "\n",
    "from rgxlog.engine.datatypes.primitive_types import DataTypes\n",
    "from rgxlog.stdlib.regex import rgx_string_out_types\n",
    "import re\n"
   ]
  },
  {
   "cell_type": "markdown",
   "metadata": {},
   "source": [
    "### defining ie function in an imperative language"
   ]
  },
  {
   "cell_type": "code",
   "execution_count": 11,
   "metadata": {},
   "outputs": [],
   "source": [
    "def rgx_string(text, regex_formula):\n",
    "    \"\"\"\n",
    "    Args:\n",
    "        text: The input text for the regex operation\n",
    "        regex_formula: the formula of the regex operation\n",
    "\n",
    "    Returns: tuples of strings that represents the results\n",
    "    \"\"\"\n",
    "    compiled_rgx = re.compile(regex_formula)\n",
    "    num_groups = compiled_rgx.groups\n",
    "    for match in re.finditer(compiled_rgx, text):\n",
    "        if num_groups == 0:\n",
    "            matched_strings = [match.group()]\n",
    "        else:\n",
    "            matched_strings = [group for group in match.groups()]\n",
    "        yield matched_strings"
   ]
  },
  {
   "cell_type": "markdown",
   "metadata": {},
   "source": [
    "### registering it with the engine"
   ]
  },
  {
   "cell_type": "code",
   "execution_count": 12,
   "metadata": {},
   "outputs": [],
   "source": [
    "magic_client.register(\n",
    "                ie_function=rgx_string,\n",
    "                ie_function_name='RGXString',\n",
    "                in_rel=[DataTypes.string, DataTypes.string],\n",
    "                out_rel=rgx_string_out_types,\n",
    "                )"
   ]
  },
  {
   "cell_type": "markdown",
   "metadata": {},
   "source": [
    "### Executing queries with the ie function"
   ]
  },
  {
   "cell_type": "code",
   "execution_count": 13,
   "metadata": {},
   "outputs": [],
   "source": [
    "%%spanner\n",
    "bank_records= \"bob 100 elmo 80 jane 79 alice 60\"\n",
    "money(P, Money) <- \\\n",
    "RGXString(bank_records, \"(\\w+).*?(\\d+)\")->(P, Money)\n",
    "\n"
   ]
  },
  {
   "cell_type": "code",
   "execution_count": 14,
   "metadata": {},
   "outputs": [
    {
     "name": "stdout",
     "output_type": "stream",
     "text": [
      "printing results for query 'money(P, Money)':\n",
      "   P   |   Money\n",
      "-------+---------\n",
      " alice |      60\n",
      " jane  |      79\n",
      " elmo  |      80\n",
      "  bob  |     100\n",
      "\n"
     ]
    }
   ],
   "source": [
    "%%spanner\n",
    "?money(P,Money)"
   ]
  },
  {
   "cell_type": "markdown",
   "metadata": {},
   "source": [
    "### A more complete example"
   ]
  },
  {
   "cell_type": "code",
   "execution_count": 15,
   "metadata": {},
   "outputs": [],
   "source": [
    "%%spanner\n",
    "new lecturer(str, str)\n",
    "new enrolled(str, str)\n"
   ]
  },
  {
   "cell_type": "code",
   "execution_count": 16,
   "metadata": {},
   "outputs": [],
   "source": [
    "lecturers=pd.DataFrame(\n",
    "    [\n",
    "        (\"walter\", \"chemistry\"),\n",
    "        (\"linus\", \"operation systems\"),\n",
    "        (\"rick\", \"physics\")\n",
    "    ])\n",
    "enrolled=pd.DataFrame(\n",
    "    [\n",
    "        (\"abigail\", \"chemistry\"),\n",
    "        (\"abigail\", \"operation systems\"),\n",
    "        (\"jordan\", \"chemistry\"),\n",
    "        (\"gale\", \"operation systems\"),\n",
    "        (\"howard\", \"chemistry\"),\n",
    "        (\"howard\", \"physics\")\n",
    "    ])"
   ]
  },
  {
   "cell_type": "code",
   "execution_count": 17,
   "metadata": {},
   "outputs": [],
   "source": [
    "magic_client.import_relation_from_df(lecturers,relation_name=\"lecturer\")\n",
    "magic_client.import_relation_from_df(enrolled,relation_name=\"enrolled\")"
   ]
  },
  {
   "cell_type": "code",
   "execution_count": 18,
   "metadata": {},
   "outputs": [
    {
     "name": "stdout",
     "output_type": "stream",
     "text": [
      "printing results for query 'lecturer(X, Y)':\n",
      "   X    |         Y\n",
      "--------+-------------------\n",
      "  rick  |      physics\n",
      " linus  | operation systems\n",
      " walter |     chemistry\n",
      "\n",
      "printing results for query 'enrolled(X, Y)':\n",
      "    X    |         Y\n",
      "---------+-------------------\n",
      " howard  |      physics\n",
      " howard  |     chemistry\n",
      "  gale   | operation systems\n",
      " jordan  |     chemistry\n",
      " abigail | operation systems\n",
      " abigail |     chemistry\n",
      "\n",
      "printing results for query 'enrolled_in_chemistry(\"jordan\")':\n",
      "[()]\n",
      "\n",
      "printing results for query 'enrolled_in_chemistry(\"gale\")':\n",
      "[]\n",
      "\n",
      "printing results for query 'enrolled_in_chemistry(X)':\n",
      "    X\n",
      "---------\n",
      " howard\n",
      " jordan\n",
      " abigail\n",
      "\n",
      "printing results for query 'enrolled_in_physics_and_chemistry(X)':\n",
      "   X\n",
      "--------\n",
      " howard\n",
      "\n",
      "printing results for query 'lecturer_of(X, \"abigail\")':\n",
      "   X\n",
      "--------\n",
      " linus\n",
      " walter\n",
      "\n",
      "printing results for query 'gpa_of_chemistry_students(X, \"100\")':\n",
      "    X\n",
      "---------\n",
      " abigail\n",
      "\n"
     ]
    }
   ],
   "source": [
    "%%spanner\n",
    "?lecturer(X,Y)\n",
    "?enrolled(X,Y)\n",
    "\n",
    "enrolled_in_chemistry(X) <- enrolled(X, \"chemistry\")\n",
    "?enrolled_in_chemistry(\"jordan\") # returns empty tuple ()\n",
    "?enrolled_in_chemistry(\"gale\") # returns nothing\n",
    "?enrolled_in_chemistry(X) # returns \"abigail\", \"jordan\" and \"howard\"\n",
    "\n",
    "enrolled_in_physics_and_chemistry(X) <- enrolled(X, \"chemistry\"), enrolled(X, \"physics\")\n",
    "?enrolled_in_physics_and_chemistry(X) # returns \"howard\"\n",
    "\n",
    "lecturer_of(X,Z) <- lecturer(X,Y), enrolled(Z,Y)\n",
    "?lecturer_of(X,\"abigail\") # returns \"walter\" and \"linus\"\n",
    "\n",
    "gpa_str = \"\\n abigail 100\\n jordan 80\\n gale 79\\n howard 60\\n\"\n",
    "gpa_of_chemistry_students(Student, Grade) <- RGXString(gpa_str,\"(\\w+).*?(\\d+)\")->(Student, Grade),enrolled_in_chemistry(Student)\n",
    "?gpa_of_chemistry_students(X, \"100\") # returns \"abigail\""
   ]
  },
  {
   "cell_type": "code",
   "execution_count": 19,
   "metadata": {},
   "outputs": [
    {
     "name": "stdout",
     "output_type": "stream",
     "text": [
      "printing results for query 'gpa_of_chemistry_students(X, Y)':\n",
      "    X    |   Y\n",
      "---------+-----\n",
      " howard  |  60\n",
      " jordan  |  80\n",
      " abigail | 100\n",
      "\n"
     ]
    }
   ],
   "source": [
    "%%spanner\n",
    "?gpa_of_chemistry_students(X, Y) "
   ]
  },
  {
   "cell_type": "markdown",
   "metadata": {},
   "source": [
    "## NLP example"
   ]
  },
  {
   "cell_type": "code",
   "execution_count": 20,
   "metadata": {},
   "outputs": [
    {
     "name": "stdout",
     "output_type": "stream",
     "text": [
      "The autoreload extension is already loaded. To reload it, use:\n",
      "  %reload_ext autoreload\n"
     ]
    }
   ],
   "source": [
    "%load_ext autoreload\n",
    "%autoreload 2\n",
    "\n",
    "from rgxlog.stdlib.nlp import   lemma_wrapper, ner_wrapper, dependency_parse_wrapper                                \n"
   ]
  },
  {
   "cell_type": "code",
   "execution_count": 21,
   "metadata": {},
   "outputs": [
    {
     "name": "stdout",
     "output_type": "stream",
     "text": [
      "NER\n",
      "[('John', 'PERSON', (0, 4)), ('Greg', 'PERSON', (14, 18))]\n",
      "lemma\n",
      "[('John', 'John', (0, 4)), ('fathered', 'father', (5, 13)), ('Greg', 'Greg', (14, 18)), ('wonderfully', 'wonderfully', (19, 30))]\n",
      "dep_parse\n",
      "[('ROOT', 0, 'ROOT', 2, 'fathered'), ('nsubj', 2, 'fathered', 1, 'John'), ('obj', 2, 'fathered', 3, 'Greg'), ('advmod', 2, 'fathered', 4, 'wonderfully')]\n"
     ]
    }
   ],
   "source": [
    "sentence = \"John fathered Greg wonderfully\"\n",
    "print(\"NER\")\n",
    "print(list(ner_wrapper(sentence)))\n",
    "print(\"lemma\")\n",
    "print(list(lemma_wrapper(sentence)))\n",
    "print(\"dep_parse\")\n",
    "print(list(dependency_parse_wrapper(sentence)))\n"
   ]
  },
  {
   "cell_type": "code",
   "execution_count": 22,
   "metadata": {},
   "outputs": [],
   "source": [
    "magic_client.register(ie_function=lemma_wrapper,\n",
    "             ie_function_name='Lemma',\n",
    "             in_rel=[DataTypes.string],\n",
    "             out_rel=[DataTypes.string, DataTypes.string, DataTypes.span],\n",
    "             )\n",
    "\n",
    "magic_client.register(ie_function=ner_wrapper,\n",
    "           ie_function_name='NER',\n",
    "           in_rel=[DataTypes.string],\n",
    "           out_rel=[DataTypes.string, DataTypes.string, DataTypes.span],\n",
    "           )\n",
    "\n",
    "\n",
    "\n",
    "magic_client.register(ie_function=dependency_parse_wrapper,\n",
    "                ie_function_name='DepParse',\n",
    "                in_rel=[DataTypes.string],\n",
    "                out_rel=[DataTypes.string, DataTypes.integer, DataTypes.string, DataTypes.integer, DataTypes.string]\n",
    "                )\n",
    "\n",
    "\n"
   ]
  },
  {
   "cell_type": "code",
   "execution_count": 23,
   "metadata": {},
   "outputs": [],
   "source": [
    "%%spanner\n",
    "sentence=\"This is John. John fathered Greg wonderfully. Greg turned out ok\"\n",
    "\n",
    "#TODO multiline rule doesnt parse\n",
    "\n",
    "father_of(F,S)<- NER(sentence)->(F,\"PERSON\",T1),NER(sentence)->(S,\"PERSON\",T2),Lemma(sentence)->(FATHERLIKE ,\"father\",T3),DepParse(sentence)->(\"nsubj\",T41,FATHERLIKE,T42,F),DepParse(sentence)->(\"obj\",T51,FATHERLIKE,T52,S)\n",
    "#NER(sentence)->(F,\"PERSON\",T1)\n",
    "#NER(sentence)->(S,\"PERSON\",T2)\n",
    "#Lemma(sentence)->(FATHERLIKE ,\"father\",T3)\n",
    "#DepParse(sentence)->(\"nsubj\",T41,FATHERLIKE,T42,F)\n",
    "#DepParse(sentence)->(\"obj\",T51,FATHERLIKE,T52,S)\n"
   ]
  },
  {
   "cell_type": "code",
   "execution_count": 24,
   "metadata": {},
   "outputs": [
    {
     "name": "stdout",
     "output_type": "stream",
     "text": [
      "printing results for query 'father_of(F, S)':\n",
      "  F   |  S\n",
      "------+------\n",
      " John | Greg\n",
      "\n"
     ]
    }
   ],
   "source": [
    "%%spanner\n",
    "\n",
    "?father_of(F,S)"
   ]
  },
  {
   "cell_type": "markdown",
   "metadata": {},
   "source": [
    "# Open questions"
   ]
  },
  {
   "attachments": {},
   "cell_type": "markdown",
   "metadata": {},
   "source": [
    "## Could be other declerative frameworks"
   ]
  },
  {
   "cell_type": "code",
   "execution_count": 25,
   "metadata": {},
   "outputs": [
    {
     "name": "stderr",
     "output_type": "stream",
     "text": [
      "UsageError: Cell magic `%%spanner-path` not found.\n"
     ]
    }
   ],
   "source": [
    "%%spanner-path\n",
    "MATCH (F,*)-[\"nsubj\"]->(FATHERLIKE)-[\"obj\"]->(S)\n",
    "WHERE Lemma(FATHERLIKE)=\"father\"\n",
    "AND ...\n",
    "FROM DepParse(sentence)\n",
    "RETURN(F,S)"
   ]
  },
  {
   "cell_type": "code",
   "execution_count": null,
   "metadata": {},
   "outputs": [],
   "source": [
    "%%spanner-sql\n",
    "SELECT (F,S)\n",
    "FROM Sentence\n",
    "WHERE NER(\"sentence\")==(F,\"PERSON\",*)\n",
    "AND ...\n",
    "GROUPBY F"
   ]
  },
  {
   "cell_type": "markdown",
   "metadata": {},
   "source": [
    "## User given constraints on ie function\n"
   ]
  },
  {
   "cell_type": "code",
   "execution_count": null,
   "metadata": {},
   "outputs": [],
   "source": [
    "%%spanner\n",
    "gpa_str = \"\\n abigail 100\\n jordan 80\\n gale 79\\n howard 60\\n\"\n",
    "\n",
    "RGX(gpa_str,\".*[\\n](?<Student>[a-z]+).*(?<Grade>\\d+).*[\\n]\")->(Student, Grade) \n",
    "# split by \\n and run in parallel\n"
   ]
  },
  {
   "cell_type": "code",
   "execution_count": null,
   "metadata": {},
   "outputs": [],
   "source": [
    "magic_client.register(\n",
    "                ie_function=f,\n",
    "                in_rel=...\n",
    "                out_rel=...\n",
    "                splitable = \"\\n\" \n",
    "                splitable_distance=50\n",
    "                ...\n",
    "                )"
   ]
  },
  {
   "cell_type": "code",
   "execution_count": null,
   "metadata": {},
   "outputs": [],
   "source": []
  },
  {
   "cell_type": "code",
   "execution_count": null,
   "metadata": {},
   "outputs": [],
   "source": []
  },
  {
   "cell_type": "code",
   "execution_count": null,
   "metadata": {},
   "outputs": [],
   "source": []
  },
  {
   "cell_type": "markdown",
   "metadata": {},
   "source": [
    "## optimization options"
   ]
  },
  {
   "cell_type": "markdown",
   "metadata": {},
   "source": [
    "Extractors pass over the same data"
   ]
  },
  {
   "cell_type": "code",
   "execution_count": null,
   "metadata": {},
   "outputs": [],
   "source": [
    "%%spanner\n",
    "father_of(F,S)<- \n",
    "NER(sentence)->(F,\"PERSON\",T1)\n",
    "NER(sentence)->(S,\"PERSON\",T2)\n",
    "Lemma(sentence)->(FATHERLIKE ,\"father\",T3)\n",
    "DepParse(sentence)->(\"nsubj\",T41,FATHERLIKE,T42,F)\n",
    "DepParse(sentence)->(\"obj\",T51,FATHERLIKE,T52,S)\n"
   ]
  },
  {
   "cell_type": "markdown",
   "metadata": {},
   "source": [
    "How do we derive execution order from joins structure and extraction cost metadata?"
   ]
  },
  {
   "cell_type": "code",
   "execution_count": null,
   "metadata": {},
   "outputs": [],
   "source": [
    "%%spanner\n",
    "text=\"....\"\n",
    "\n",
    "mentioned_together(P1,P2)<-\n",
    "  InSameSentence(text)->(P1,P2),\n",
    "  NER(P1,\"PERSON\"),\n",
    "  NER(P2,\"PERSON\")\n"
   ]
  },
  {
   "cell_type": "markdown",
   "metadata": {},
   "source": [
    "## Interface for adding optimizations"
   ]
  },
  {
   "cell_type": "code",
   "execution_count": null,
   "metadata": {},
   "outputs": [],
   "source": [
    "class Session:\n",
    "    def __init__(self, debug=False):\n",
    "        self._symbol_table = SymbolTable()\n",
    "        self._term_graph = NetxTermGraph()\n",
    "        self._execution = execution.PydatalogEngine(debug)\n",
    "\n",
    "        self._pass_stack = [\n",
    "            RemoveTokens,\n",
    "            FixStrings,\n",
    "            CheckReservedRelationNames,\n",
    "            ConvertSpanNodesToSpanInstances,\n",
    "            ConvertStatementsToStructuredNodes,\n",
    "            CheckDefinedReferencedVariables,\n",
    "            CheckReferencedRelationsExistenceAndArity,\n",
    "            CheckReferencedIERelationsExistenceAndArity,\n",
    "            CheckRuleSafety,\n",
    "            TypeCheckAssignments,\n",
    "            TypeCheckRelations,\n",
    "            SaveDeclaredRelationsSchemas,\n",
    "            ReorderRuleBody,\n",
    "            ResolveVariablesReferences,\n",
    "            ExecuteAssignments,\n",
    "            AddStatementsToNetxTermGraph,\n",
    "            GenericExecution\n",
    "        ]\n",
    "\n",
    "        grammar_file_path = os.path.dirname(rgxlog.grammar.__file__)\n",
    "        grammar_file_name = 'grammar.lark'\n",
    "        with open(f'{grammar_file_path}/{grammar_file_name}', 'r') as grammar_file:\n",
    "            self._grammar = grammar_file.read()\n",
    "\n",
    "        self._parser = Lark(self._grammar, parser='lalr', debug=True)\n",
    "        self._register_default_functions()"
   ]
  },
  {
   "cell_type": "markdown",
   "metadata": {},
   "source": [
    "* Add own passes for constraint checking\n",
    "* Add optimizations as execution graph transform passes?\n",
    "* Add callbacks to execution for recording metadata\n",
    "* Add passes for optimizing execution graph based on metadata"
   ]
  }
 ],
 "metadata": {
  "kernelspec": {
   "display_name": "bench",
   "language": "python",
   "name": "bench"
  },
  "language_info": {
   "codemirror_mode": {
    "name": "ipython",
    "version": 3
   },
   "file_extension": ".py",
   "mimetype": "text/x-python",
   "name": "python",
   "nbconvert_exporter": "python",
   "pygments_lexer": "ipython3",
   "version": "3.8.8"
  },
  "pycharm": {
   "stem_cell": {
    "cell_type": "raw",
    "metadata": {
     "collapsed": false
    },
    "source": []
   }
  },
  "toc": {
   "base_numbering": 1,
   "nav_menu": {},
   "number_sections": true,
   "sideBar": true,
   "skip_h1_title": false,
   "title_cell": "Table of Contents",
   "title_sidebar": "Contents",
   "toc_cell": false,
   "toc_position": {},
   "toc_section_display": true,
   "toc_window_display": false
  }
 },
 "nbformat": 4,
 "nbformat_minor": 4
}
