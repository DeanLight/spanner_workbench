{
 "cells": [
  {
   "cell_type": "markdown",
   "metadata": {},
   "source": [
    "# Using native Python"
   ]
  },
  {
   "cell_type": "markdown",
   "metadata": {},
   "source": [
    "## Default local client"
   ]
  },
  {
   "cell_type": "markdown",
   "metadata": {},
   "source": [
    "When rgxlog is imported, a default client is created behind the scenes. This is the client that %%spanner uses.\n",
    "However, one can also use his own client in the following manner:"
   ]
  },
  {
   "cell_type": "code",
   "execution_count": null,
   "metadata": {},
   "outputs": [],
   "source": [
    "from rgxlog import Client\n",
    "\n",
    "\n",
    "client = Client()\n",
    "result = client.execute('''\n",
    "    new uncle(str, str)\n",
    "    uncle(\"bob\", \"greg\")\n",
    "    ?uncle(X,Y)\n",
    "    ''')\n",
    "print(result)\n",
    "# Notice the default port is taken by the default client, hence the next port is used for the user's client"
   ]
  },
  {
   "cell_type": "code",
   "execution_count": null,
   "metadata": {},
   "outputs": [],
   "source": [
    "client = None  # Notice the connection closes, due to GC\n",
    "# client.disconnect()  # if you wish to disconnect explicitly you can do so as well"
   ]
  },
  {
   "cell_type": "markdown",
   "metadata": {},
   "source": [
    "## Manually configured remote client"
   ]
  },
  {
   "cell_type": "markdown",
   "metadata": {},
   "source": [
    "The following cell demonstrates connecting to a remote server.\n",
    "* Start the remote server (run server.py)\n",
    "* Note down the server's port and ip\n",
    "* Use the following code snippet with your port and ip to connect"
   ]
  },
  {
   "cell_type": "code",
   "execution_count": null,
   "metadata": {},
   "outputs": [],
   "source": [
    "from rgxlog import Client\n",
    "# the server can also be remote\n",
    "\n",
    "custom_client = Client(\n",
    "    remote_ip='192.168.0.100',\n",
    "    remote_port=32678\n",
    ")\n",
    "\n",
    "result = custom_client.execute('''\n",
    "    new uncle(str, str)\n",
    "    uncle(\"bob\", \"greg\")\n",
    "    ?uncle(X,Y)\n",
    "    ''')\n",
    "print(result)\n",
    "\n",
    "custom_client.disconnect()"
   ]
  },
  {
   "cell_type": "markdown",
   "metadata": {},
   "source": [
    "# Mixing magics and native python"
   ]
  },
  {
   "cell_type": "code",
   "execution_count": null,
   "metadata": {},
   "outputs": [],
   "source": [
    "import rgxlog  # default client starts here, and captures 32768\n",
    "from rgxlog import Client\n",
    "\n",
    "another_client=Client()  # therefore this client will try the next in line, 32769"
   ]
  },
  {
   "cell_type": "code",
   "execution_count": null,
   "metadata": {},
   "outputs": [],
   "source": [
    "%%spanner\n",
    "# still using the default client\n",
    "\n",
    "new uncle(str, str)\n",
    "uncle(\"bob\", \"greg\")\n",
    "?uncle(X,Y)"
   ]
  },
  {
   "cell_type": "code",
   "execution_count": null,
   "metadata": {},
   "outputs": [],
   "source": [
    "default_client = rgxlog.magic_client  # save the default for later (prevents GC)\n",
    "rgxlog.magic_client = another_client"
   ]
  },
  {
   "cell_type": "code",
   "execution_count": null,
   "metadata": {},
   "outputs": [],
   "source": [
    "%%spanner\n",
    "# using 'another_client', not the default\n",
    "\n",
    "new uncle(str, str)\n",
    "uncle(\"bob\", \"greg\")\n",
    "?uncle(X,Y)"
   ]
  },
  {
   "cell_type": "code",
   "execution_count": null,
   "metadata": {},
   "outputs": [],
   "source": [
    "another_client.disconnect()\n",
    "rgxlog.magic_client = default_client"
   ]
  },
  {
   "cell_type": "code",
   "execution_count": null,
   "metadata": {
    "scrolled": true
   },
   "outputs": [],
   "source": [
    "%%spanner\n",
    "# back to using the default client\n",
    "new uncle(str, str)\n",
    "uncle(\"bob\", \"greg\")\n",
    "?uncle(X,Y)"
   ]
  },
  {
   "cell_type": "markdown",
   "metadata": {},
   "source": [
    "# Registering custom IE functions"
   ]
  },
  {
   "cell_type": "markdown",
   "metadata": {},
   "source": [
    "If you wish to implement your own IE extraction you can check out python_regexes.py for a concise demo on how to do so. Once you make such a function you can register it as follows:"
   ]
  },
  {
   "cell_type": "code",
   "execution_count": null,
   "metadata": {},
   "outputs": [],
   "source": [
    "rgxlog.magic_client.register('RGXString')"
   ]
  },
  {
   "cell_type": "markdown",
   "metadata": {},
   "source": [
    "Using an IE function after registration is simple:"
   ]
  },
  {
   "cell_type": "code",
   "execution_count": null,
   "metadata": {},
   "outputs": [],
   "source": [
    "%%spanner\n",
    "report = \"In 2019 we earned 2000 EUR\"\n",
    "annual_earning(Year,Amount) <- RGXString(report,\"(\\d\\d\\d\\d).*?(\\d+)\")->(Year,Amount)\n",
    "?annual_earning(X,Y)"
   ]
  },
  {
   "cell_type": "markdown",
   "metadata": {},
   "source": [
    "## Default ie functions"
   ]
  },
  {
   "cell_type": "markdown",
   "metadata": {},
   "source": [
    "If you wish to have certain IE functions registered by default, all you have to do is add them to \"default_ie\" list in server.py's main."
   ]
  },
  {
   "cell_type": "code",
   "execution_count": null,
   "metadata": {},
   "outputs": [],
   "source": []
  }
 ],
 "metadata": {
  "kernelspec": {
   "display_name": "Python 3",
   "language": "python",
   "name": "python3"
  },
  "language_info": {
   "codemirror_mode": {
    "name": "ipython",
    "version": 3
   },
   "file_extension": ".py",
   "mimetype": "text/x-python",
   "name": "python",
   "nbconvert_exporter": "python",
   "pygments_lexer": "ipython3",
   "version": "3.9.1"
  }
 },
 "nbformat": 4,
 "nbformat_minor": 4
}
