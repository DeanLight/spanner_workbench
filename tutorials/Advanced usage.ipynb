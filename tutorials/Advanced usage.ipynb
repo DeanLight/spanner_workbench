{
 "cells": [
  {
   "cell_type": "markdown",
   "metadata": {},
   "source": [
    "# Using native Python"
   ]
  },
  {
   "cell_type": "markdown",
   "metadata": {},
   "source": [
    "## Default session"
   ]
  },
  {
   "cell_type": "markdown",
   "metadata": {},
   "source": [
    "When rgxlog is loaded, a default session is created behind the scenes. This is the session that %%spanner uses.\n",
    "However, one can also use his own session."
   ]
  },
  {
   "cell_type": "markdown",
   "metadata": {},
   "source": [
    "Using a session manually enables one to dynamically generate queries, facts, and rules"
   ]
  },
  {
   "cell_type": "code",
   "execution_count": 1,
   "metadata": {},
   "outputs": [],
   "source": [
    "%load_ext rgxlog"
   ]
  },
  {
   "cell_type": "code",
   "execution_count": 2,
   "metadata": {},
   "outputs": [],
   "source": [
    "from rgxlog import Session\n",
    "\n",
    "some_session = Session()"
   ]
  },
  {
   "cell_type": "code",
   "execution_count": 3,
   "metadata": {},
   "outputs": [],
   "source": [
    "result = some_session.run_query('''\n",
    "    new uncle(str, str)\n",
    "    uncle(\"benjen\", \"jon\")''')"
   ]
  },
  {
   "cell_type": "code",
   "execution_count": 4,
   "metadata": {},
   "outputs": [
    {
     "name": "stdout",
     "output_type": "stream",
     "text": [
      "printing results for query 'uncle(\"ned\", Y)':\n",
      "[]\n",
      "\n",
      "printing results for query 'uncle(\"robb\", Y)':\n",
      "[]\n",
      "\n",
      "printing results for query 'uncle(\"benjen\", Y)':\n",
      "  Y\n",
      "-----\n",
      " jon\n",
      "\n"
     ]
    }
   ],
   "source": [
    "for maybe_uncle in ['ned','robb','benjen']:\n",
    "    result = some_session.run_query(f'?uncle(\"{maybe_uncle}\",Y)')"
   ]
  },
  {
   "cell_type": "markdown",
   "metadata": {},
   "source": [
    "# Changing the session of the magic cells"
   ]
  },
  {
   "cell_type": "markdown",
   "metadata": {},
   "source": [
    "In cases where you want to work with a custom session, but still make use of the magic system, you can overide the session used by the magic system"
   ]
  },
  {
   "cell_type": "code",
   "execution_count": 5,
   "metadata": {},
   "outputs": [],
   "source": [
    "import rgxlog  # default session starts here\n",
    "from rgxlog import Session\n",
    "\n",
    "another_session=Session()"
   ]
  },
  {
   "cell_type": "code",
   "execution_count": 6,
   "metadata": {},
   "outputs": [
    {
     "name": "stdout",
     "output_type": "stream",
     "text": [
      "printing results for query 'uncle(X, Y)':\n",
      "   X    |  Y\n",
      "--------+------\n",
      "  bob   | greg\n",
      " benjen | jon\n",
      "\n"
     ]
    }
   ],
   "source": [
    "%%spanner\n",
    "# still using the default session\n",
    "# TODO@niv: dean, why do the sessions share their execution? is this intentional?\n",
    "new uncle(str, str)\n",
    "uncle(\"bob\", \"greg\")\n",
    "?uncle(X,Y)"
   ]
  },
  {
   "cell_type": "code",
   "execution_count": 7,
   "metadata": {},
   "outputs": [
    {
     "name": "stdout",
     "output_type": "stream",
     "text": [
      "(0) (computed) root\n",
      "  (1) (computed) relation_declaration: uncle(str, str)\n",
      "  (2) (computed) add_fact: uncle(\"bob\", \"greg\")\n",
      "  (3) (computed) query: uncle(X, Y)\n",
      "\n",
      "(0) (not_computed) root\n",
      "\n"
     ]
    }
   ],
   "source": [
    "default_session = rgxlog.magic_session  # save the default for later\n",
    "rgxlog.magic_session = another_session\n",
    "print(default_session._term_graph)\n",
    "print(another_session._term_graph)"
   ]
  },
  {
   "cell_type": "code",
   "execution_count": 8,
   "metadata": {},
   "outputs": [
    {
     "name": "stdout",
     "output_type": "stream",
     "text": [
      "printing results for query 'uncle(X, Y)':\n",
      "   X    |   Y\n",
      "--------+--------\n",
      "  ross  | rachel\n",
      "  bob   |  greg\n",
      " benjen |  jon\n",
      "\n"
     ]
    }
   ],
   "source": [
    "%%spanner\n",
    "# using 'another_session', not the default\n",
    "\n",
    "new uncle(str, str)\n",
    "uncle(\"ross\", \"rachel\")\n",
    "?uncle(X,Y)"
   ]
  },
  {
   "cell_type": "code",
   "execution_count": 9,
   "metadata": {},
   "outputs": [],
   "source": [
    "rgxlog.magic_session = default_session"
   ]
  },
  {
   "cell_type": "code",
   "execution_count": 10,
   "metadata": {
    "scrolled": true
   },
   "outputs": [
    {
     "name": "stdout",
     "output_type": "stream",
     "text": [
      "printing results for query 'uncle(X, Y)':\n",
      "   X    |   Y\n",
      "--------+--------\n",
      "  ross  | rachel\n",
      "  bob   |  greg\n",
      " benjen |  jon\n",
      "\n"
     ]
    }
   ],
   "source": [
    "%%spanner\n",
    "# back to using the default session\n",
    "?uncle(X,Y)"
   ]
  },
  {
   "cell_type": "markdown",
   "metadata": {},
   "source": [
    "# Mixing magics with dynamic session calls"
   ]
  },
  {
   "cell_type": "markdown",
   "metadata": {},
   "source": [
    "Lets take the GPA example from the introductory tutorial.\n",
    "What if we want to have multiple rules each looking for GPAs of students in different classes.\n",
    "We wouldnt want to manually write a rule for every single subject."
   ]
  },
  {
   "cell_type": "code",
   "execution_count": 11,
   "metadata": {},
   "outputs": [],
   "source": [
    "from rgxlog.stdlib.python_regex import PYRGX_STRING\n",
    "\n",
    "session=rgxlog.magic_session = Session()\n",
    "session.register(**PYRGX_STRING)"
   ]
  },
  {
   "cell_type": "markdown",
   "metadata": {},
   "source": [
    "We write our data manually. In the future we would be able to import it from csvs/dataframes"
   ]
  },
  {
   "cell_type": "code",
   "execution_count": 12,
   "metadata": {},
   "outputs": [],
   "source": [
    "%%spanner\n",
    "new lecturer(str, str)\n",
    "lecturer(\"walter\", \"chemistry\")\n",
    "lecturer(\"linus\", \"operation_systems\")\n",
    "lecturer(\"rick\", \"physics\")\n",
    "\n",
    "new enrolled(str, str)\n",
    "enrolled(\"abigail\", \"chemistry\")\n",
    "enrolled(\"abigail\", \"operation_systems\")\n",
    "enrolled(\"jordan\", \"chemistry\")\n",
    "enrolled(\"gale\", \"operation_systems\")\n",
    "enrolled(\"howard\", \"chemistry\")\n",
    "enrolled(\"howard\", \"physics\")\n",
    "\n",
    "\n",
    "\n",
    "gpa_str = \"abigail 100 jordan 80 gale 79 howard 60\"\n"
   ]
  },
  {
   "cell_type": "code",
   "execution_count": 13,
   "metadata": {},
   "outputs": [
    {
     "name": "stdout",
     "output_type": "stream",
     "text": [
      "printing results for query 'gpa(X, Y)':\n",
      "    X    |   Y\n",
      "---------+-----\n",
      " howard  |  60\n",
      "  gale   |  79\n",
      " jordan  |  80\n",
      " abigail | 100\n",
      "\n"
     ]
    }
   ],
   "source": [
    "%%spanner\n",
    "\n",
    "gpa(Student,Grade) <- py_rgx_string(gpa_str, \"(\\w+).*?(\\d+)\")->(Student, Grade),enrolled(Student,X)\n",
    "\n",
    "?gpa(X,Y)"
   ]
  },
  {
   "cell_type": "markdown",
   "metadata": {},
   "source": [
    "Now we are going to define the rules using a for loop"
   ]
  },
  {
   "cell_type": "code",
   "execution_count": 14,
   "metadata": {},
   "outputs": [
    {
     "name": "stdout",
     "output_type": "stream",
     "text": [
      "\n",
      "    gpa_of_chemistry_students(Student, Grade) <- gpa(Student, Grade), enrolled(Student, \"chemistry\")\n",
      "    \n",
      "\n",
      "    gpa_of_physics_students(Student, Grade) <- gpa(Student, Grade), enrolled(Student, \"physics\")\n",
      "    \n",
      "\n",
      "    gpa_of_operation_systems_students(Student, Grade) <- gpa(Student, Grade), enrolled(Student, \"operation_systems\")\n",
      "    \n",
      "\n",
      "    gpa_of_magic_students(Student, Grade) <- gpa(Student, Grade), enrolled(Student, \"magic\")\n",
      "    \n"
     ]
    }
   ],
   "source": [
    "subjects=[\n",
    "    \"chemistry\",\n",
    "    \"physics\",\n",
    "    \"operation_systems\",\n",
    "    \"magic\",\n",
    "]\n",
    "\n",
    "for subject in subjects:\n",
    "    rule=f\"\"\"\n",
    "    gpa_of_{subject}_students(Student, Grade) <- gpa(Student, Grade), enrolled(Student, \"{subject}\")\n",
    "    \"\"\"\n",
    "    session.run_query(rule)\n",
    "    print(rule) # we print the rule here to show you what strings are sent to the session"
   ]
  },
  {
   "cell_type": "markdown",
   "metadata": {},
   "source": [
    "As you can see, we can use the dynamically defined rules in a magic cell"
   ]
  },
  {
   "cell_type": "code",
   "execution_count": 15,
   "metadata": {},
   "outputs": [
    {
     "name": "stdout",
     "output_type": "stream",
     "text": [
      "printing results for query 'gpa_of_operation_systems_students(X, Y)':\n",
      "    X    |   Y\n",
      "---------+-----\n",
      "  gale   |  79\n",
      " abigail | 100\n",
      "\n"
     ]
    }
   ],
   "source": [
    "%%spanner\n",
    "?gpa_of_operation_systems_students(X,Y)"
   ]
  },
  {
   "cell_type": "markdown",
   "metadata": {},
   "source": [
    "And we can also query dynamically"
   ]
  },
  {
   "cell_type": "code",
   "execution_count": 16,
   "metadata": {},
   "outputs": [
    {
     "name": "stdout",
     "output_type": "stream",
     "text": [
      "printing results for query 'gpa_of_chemistry_students(Student, Grade)':\n",
      "  Student  |   Grade\n",
      "-----------+---------\n",
      "  howard   |      60\n",
      "  jordan   |      80\n",
      "  abigail  |     100\n",
      "\n",
      "printing results for query 'gpa_of_physics_students(Student, Grade)':\n",
      "  Student  |   Grade\n",
      "-----------+---------\n",
      "  howard   |      60\n",
      "\n",
      "printing results for query 'gpa_of_operation_systems_students(Student, Grade)':\n",
      "  Student  |   Grade\n",
      "-----------+---------\n",
      "   gale    |      79\n",
      "  abigail  |     100\n",
      "\n",
      "printing results for query 'gpa_of_magic_students(Student, Grade)':\n",
      "[]\n",
      "\n"
     ]
    }
   ],
   "source": [
    "subjects=[\n",
    "    \"chemistry\",\n",
    "    \"physics\",\n",
    "    \"operation_systems\",\n",
    "    \"magic\",\n",
    "]\n",
    "\n",
    "for subject in subjects:\n",
    "    query=f\"\"\"\n",
    "    ?gpa_of_{subject}_students(Student, Grade)\n",
    "    \"\"\"\n",
    "    session.run_query(query)"
   ]
  },
  {
   "cell_type": "markdown",
   "metadata": {},
   "source": [
    "# Processing the result of a query in python and using the result in a new query"
   ]
  },
  {
   "cell_type": "code",
   "execution_count": 17,
   "metadata": {},
   "outputs": [],
   "source": [
    "from rgxlog import Session\n",
    "from rgxlog.engine.session import format_query_results"
   ]
  },
  {
   "cell_type": "code",
   "execution_count": 18,
   "metadata": {},
   "outputs": [
    {
     "name": "stdout",
     "output_type": "stream",
     "text": [
      "printing results for query 'friends(X, Y, Z)':\n",
      "   X    |   Y   |   Z\n",
      "--------+-------+--------\n",
      " lenny  | homer |  toby\n",
      " steven | benny | horace\n",
      "  bob   | greg  | clyde\n",
      "\n",
      "printing results for query 'buddies(First, Second)':\n",
      "  First  |  Second\n",
      "---------+----------\n",
      "   bob   |   greg\n",
      "  lenny  |  homer\n",
      "\n"
     ]
    }
   ],
   "source": [
    "session = Session()\n",
    "result = session.run_query(f'''\n",
    "    new friends(str, str, str)\n",
    "    friends(\"bob\", \"greg\", \"clyde\")\n",
    "    friends(\"steven\", \"benny\", \"horace\")\n",
    "    friends(\"lenny\", \"homer\", \"toby\")\n",
    "    ?friends(X,Y,Z)''')\n",
    "# Notice the default port is taken by the default session, hence the next port is used for the user's session\n",
    "\n",
    "\n",
    "# now we'll showcase processing the result with native python...\n",
    "# TODO: this will look less ugly after format_query_results is refactored\n",
    "_, res, _ = format_query_results(*result[-1])\n",
    "\n",
    "# lets filter our tuples with some predicate:\n",
    "filtered = tuple(filter(lambda friends: 'bob' in friends or 'lenny' in friends, res))\n",
    "\n",
    "# and feed the matching tuples into a new query:\n",
    "session.run_query('new buddies(str, str)')\n",
    "\n",
    "for first, second, _ in filtered:\n",
    "    session.run_query(f'buddies(\"{first}\", \"{second}\")')\n",
    "\n",
    "result = session.run_query(\"?buddies(First, Second)\")"
   ]
  },
  {
   "cell_type": "markdown",
   "metadata": {},
   "source": [
    "# Developing and using your own IE functions"
   ]
  },
  {
   "cell_type": "markdown",
   "metadata": {},
   "source": [
    "To make your own ie function, you need to implement the input format, output format, and the function itself:"
   ]
  },
  {
   "cell_type": "markdown",
   "metadata": {},
   "source": [
    "* `ie_function`: a function which yields an iterable of primitive types\n",
    "* `ie_function_name`: the name by which the function is called inside rgxlog\n",
    "* `in_rel`: the input types, e.g. [DataTypes.string]\n",
    "* `out_rel`: the output types, can be either a method which expects an arity, or an iterable, e.g. [DataTypes.span]\n",
    "\n",
    "now, just register it:\n",
    "```python\n",
    "session.register(ie_function, ie_function_name, in_rel, out_rel)\n",
    "```"
   ]
  },
  {
   "cell_type": "code",
   "execution_count": 19,
   "metadata": {},
   "outputs": [],
   "source": [
    "# TODO: we already showed how to do this with `get_happy`. can this be deleted?\n",
    "# example:\n",
    "\n",
    "# import spacy\n",
    "# sp = spacy.load('en_core_web_sm')\n",
    "\n",
    "# from rgxlog.engine.datatypes.primitive_types import DataTypes\n",
    "# from rgxlog.engine.ie_functions.ie_function_base import IEFunctionData\n",
    "\n",
    "# class Entities(IEFunctionData):\n",
    "#     def __init__(self):\n",
    "#         super().__init__()\n",
    "\n",
    "#     @staticmethod\n",
    "#     def ie_function(text):  # this is where you implement the actual processing\n",
    "#         entities = sp(text).ents\n",
    "#         return ((entity.text, spacy.explain(entity.label_)) for entity in entities)\n",
    "\n",
    "#     @staticmethod\n",
    "#     def get_input_types():  # this is where you define the inputs\n",
    "#         return [DataTypes.string]\n",
    "\n",
    "#     @staticmethod\n",
    "#     def get_output_types(output_arity):  # and this is where you define your outputs\n",
    "#         return tuple([DataTypes.string] * 2)\n"
   ]
  }
 ],
 "metadata": {
  "kernelspec": {
   "display_name": "Python 3",
   "language": "python",
   "name": "python3"
  },
  "language_info": {
   "codemirror_mode": {
    "name": "ipython",
    "version": 3
   },
   "file_extension": ".py",
   "mimetype": "text/x-python",
   "name": "python",
   "nbconvert_exporter": "python",
   "pygments_lexer": "ipython3",
   "version": "3.8.6"
  }
 },
 "nbformat": 4,
 "nbformat_minor": 4
}
