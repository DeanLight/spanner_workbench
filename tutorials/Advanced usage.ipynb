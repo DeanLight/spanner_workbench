{
 "cells": [
  {
   "cell_type": "markdown",
   "metadata": {},
   "source": [
    "# Using native Python"
   ]
  },
  {
   "cell_type": "markdown",
   "metadata": {},
   "source": [
    "## Default local client"
   ]
  },
  {
   "cell_type": "markdown",
   "metadata": {},
   "source": [
    "When rgxlog is imported, a default client is created behind the scenes. This is the client that %%spanner uses.\n",
    "However, one can also use his own client in the following manner:"
   ]
  },
  {
   "cell_type": "code",
   "execution_count": null,
   "metadata": {},
   "outputs": [],
   "source": [
    "from rgxlog import Client\n",
    "\n",
    "client = Client()\n",
    "result = client.execute('''\n",
    "    new uncle(str, str)\n",
    "    uncle(\"bob\", \"greg\")\n",
    "    ?uncle(X,Y)\n",
    "    ''')\n",
    "print(result)\n",
    "# Notice the default port is taken by the default client, hence the next port is used for the user's client"
   ]
  },
  {
   "cell_type": "code",
   "execution_count": null,
   "metadata": {},
   "outputs": [],
   "source": [
    "client = None  # Notice the connection closes, due to GC\n",
    "# client.disconnect()  # if you wish to disconnect explicitly you can do so as well"
   ]
  },
  {
   "cell_type": "markdown",
   "metadata": {},
   "source": [
    "## Manually configured remote client"
   ]
  },
  {
   "cell_type": "markdown",
   "metadata": {},
   "source": [
    "The following cell demonstrates connecting to a remote server.\n",
    "* Start the remote server (run server.py)\n",
    "* Note down the server's port and ip\n",
    "* Use the following code snippet with your port and ip to connect"
   ]
  },
  {
   "cell_type": "code",
   "execution_count": null,
   "metadata": {},
   "outputs": [],
   "source": [
    "from rgxlog import Client\n",
    "# the server can also be remote\n",
    "\n",
    "custom_client = Client(\n",
    "    remote_ip='192.168.0.100',\n",
    "    remote_port=32678\n",
    ")\n",
    "\n",
    "result = custom_client.execute('''\n",
    "    new uncle(str, str)\n",
    "    uncle(\"bob\", \"greg\")\n",
    "    ?uncle(X,Y)\n",
    "    ''')\n",
    "print(result)\n",
    "\n",
    "custom_client.disconnect()"
   ]
  },
  {
   "cell_type": "markdown",
   "metadata": {},
   "source": [
    "# Mixing magics and native python"
   ]
  },
  {
   "cell_type": "code",
   "execution_count": null,
   "metadata": {},
   "outputs": [],
   "source": [
    "import rgxlog  # default client starts here, and captures 32768\n",
    "from rgxlog import Client\n",
    "\n",
    "another_client=Client()  # therefore this client will try the next in line, 32769"
   ]
  },
  {
   "cell_type": "code",
   "execution_count": null,
   "metadata": {},
   "outputs": [],
   "source": [
    "%%spanner\n",
    "# still using the default client\n",
    "\n",
    "new uncle(str, str)\n",
    "uncle(\"bob\", \"greg\")\n",
    "?uncle(X,Y)"
   ]
  },
  {
   "cell_type": "code",
   "execution_count": null,
   "metadata": {},
   "outputs": [],
   "source": [
    "default_client = rgxlog.magic_client  # save the default for later (prevents GC)\n",
    "rgxlog.magic_client = another_client"
   ]
  },
  {
   "cell_type": "code",
   "execution_count": null,
   "metadata": {},
   "outputs": [],
   "source": [
    "%%spanner\n",
    "# using 'another_client', not the default\n",
    "\n",
    "new uncle(str, str)\n",
    "uncle(\"bob\", \"greg\")\n",
    "?uncle(X,Y)"
   ]
  },
  {
   "cell_type": "code",
   "execution_count": null,
   "metadata": {},
   "outputs": [],
   "source": [
    "another_client.disconnect()\n",
    "rgxlog.magic_client = default_client"
   ]
  },
  {
   "cell_type": "code",
   "execution_count": null,
   "metadata": {
    "scrolled": true
   },
   "outputs": [],
   "source": [
    "%%spanner\n",
    "# back to using the default client\n",
    "new uncle(str, str)\n",
    "uncle(\"bob\", \"greg\")\n",
    "?uncle(X,Y)"
   ]
  },
  {
   "cell_type": "markdown",
   "metadata": {},
   "source": [
    "# Processing the result of a query in python and using the result in a new query"
   ]
  },
  {
   "cell_type": "code",
   "execution_count": null,
   "metadata": {},
   "outputs": [],
   "source": [
    "client = Client()\n",
    "result = client.execute(f'''\n",
    "    new friends(str, str, str)\n",
    "    friends(\"bob\", \"greg\", \"clyde\")\n",
    "    friends(\"steven\", \"benny\", \"horace\")\n",
    "    friends(\"lenny\", \"homer\", \"toby\")\n",
    "    ?friends(X,Y,Z)\n",
    "    ''')\n",
    "print(result)\n",
    "# Notice the default port is taken by the default client, hence the next port is used for the user's client\n",
    "\n",
    "\n",
    "# now we'll showcase processing the result with native python...\n",
    "result = result.split('\\n')[3:-1]\n",
    "result_tuples = []\n",
    "for row in result:\n",
    "    result_tuples.append(tuple(map(str.strip, row.split('|'))))\n",
    "# future versions will do this internally\n",
    "\n",
    "# lets filter our tuples with some predicate:\n",
    "filtered = tuple(filter(lambda friends: 'bob' in friends or 'lenny' in friends, result_tuples))\n",
    "\n",
    "# and feed the matching tuples into a new query:\n",
    "client.execute('new buddies(str, str)')\n",
    "\n",
    "for first, second, _ in filtered:\n",
    "    client.execute(f'buddies(\"{first}\", \"{second}\")')\n",
    "\n",
    "result = client.execute(\"?buddies(First, Second)\")\n",
    "print(result)"
   ]
  },
  {
   "cell_type": "markdown",
   "metadata": {},
   "source": [
    "# Developing and using your own IE functions"
   ]
  },
  {
   "cell_type": "markdown",
   "metadata": {},
   "source": [
    "To make your own ie function you need to make a new python file and place it in rgxlog/user_ie_functions.\n",
    "In the python file you need to create a new class that inherits from IEFunctionData.\n",
    "By implementing its methods you are suppling the input format, output format, and the function itself."
   ]
  },
  {
   "cell_type": "code",
   "execution_count": null,
   "metadata": {},
   "outputs": [],
   "source": [
    "# example:\n",
    "\n",
    "import spacy\n",
    "sp = spacy.load('en_core_web_sm')\n",
    "\n",
    "from rgxlog.engine.datatypes.primitive_types import DataTypes\n",
    "from rgxlog.engine.ie_functions.ie_function_base import IEFunctionData\n",
    "\n",
    "class Entities(IEFunctionData):\n",
    "    def __init__(self):\n",
    "        super().__init__()\n",
    "\n",
    "    @staticmethod\n",
    "    def ie_function(text):  # this is where you implement the actual processing\n",
    "        entities = sp(text).ents\n",
    "        return ((entity.text, spacy.explain(entity.label_)) for entity in entities)\n",
    "\n",
    "    @staticmethod\n",
    "    def get_input_types():  # this is where you define the inputs\n",
    "        return [DataTypes.string]\n",
    "\n",
    "    @staticmethod\n",
    "    def get_output_types(output_arity):  # and this is where you define your outputs\n",
    "        return tuple([DataTypes.string] * output_arity)\n",
    "\n",
    "# place this file in rgxlog/user_ie_functions"
   ]
  },
  {
   "cell_type": "markdown",
   "metadata": {},
   "source": [
    "next, we need to register the function by using the class name:"
   ]
  },
  {
   "cell_type": "code",
   "execution_count": null,
   "metadata": {},
   "outputs": [],
   "source": [
    "import rgxlog\n",
    "rgxlog.magic_client.register('Entities')"
   ]
  },
  {
   "cell_type": "markdown",
   "metadata": {},
   "source": [
    "now we're free to use it:"
   ]
  },
  {
   "cell_type": "code",
   "execution_count": null,
   "metadata": {},
   "outputs": [],
   "source": [
    "%%spanner\n",
    "text =  \"You've been living in a dream world, Neo.\\\n",
    "        As in Baudrillard's vision, your whole life has been spent inside the map, not the territory.\\\n",
    "        This is the world as it exists today.\\\n",
    "        Welcome to the desert of the real.\"\n",
    "entities(Entity, Classification) <- Entities(text)->(Entity, Classification)\n",
    "?entities(Entity, Classification)"
   ]
  }
 ],
 "metadata": {
  "kernelspec": {
   "display_name": "Python 3",
   "language": "python",
   "name": "python3"
  },
  "language_info": {
   "codemirror_mode": {
    "name": "ipython",
    "version": 3
   },
   "file_extension": ".py",
   "mimetype": "text/x-python",
   "name": "python",
   "nbconvert_exporter": "python",
   "pygments_lexer": "ipython3",
   "version": "3.9.1"
  }
 },
 "nbformat": 4,
 "nbformat_minor": 4
}
