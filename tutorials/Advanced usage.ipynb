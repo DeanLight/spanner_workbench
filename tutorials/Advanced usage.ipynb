{
 "cells": [
  {
   "cell_type": "markdown",
   "metadata": {},
   "source": [
    "# Using native Python"
   ]
  },
  {
   "cell_type": "markdown",
   "metadata": {},
   "source": [
    "## Default local client"
   ]
  },
  {
   "cell_type": "markdown",
   "metadata": {},
   "source": [
    "When rgxlog is imported, a default client is created behind the scenes. This is the client that %%spanner uses.\n",
    "However, one can also use his own client in the following manner:"
   ]
  },
  {
   "cell_type": "markdown",
   "metadata": {},
   "source": [
    "Using a client manually enables one to dynamically generate querries facts and rules"
   ]
  },
  {
   "cell_type": "code",
   "execution_count": 1,
   "metadata": {},
   "outputs": [
    {
     "name": "stderr",
     "output_type": "stream",
     "text": [
      "/home/dean/miniconda3/envs/bench/lib/python3.8/site-packages/spacy/util.py:275: UserWarning: [W031] Model 'en_core_web_sm' (2.2.0) requires spaCy v2.2 and is incompatible with the current spaCy version (2.3.5). This may lead to unexpected results or runtime errors. To resolve this, download a newer compatible model or retrain your custom model with the current spaCy version. For more details and available updates, run: python -m spacy validate\n",
      "  warnings.warn(warn_msg)\n",
      "2021-01-27 18:02:07,825 - port 32768 is already taken\n",
      "2021-01-27 18:02:07,828 - client connected to localhost:32769\n"
     ]
    }
   ],
   "source": [
    "import rgxlog"
   ]
  },
  {
   "cell_type": "code",
   "execution_count": 2,
   "metadata": {},
   "outputs": [
    {
     "name": "stderr",
     "output_type": "stream",
     "text": [
      "2021-01-27 18:02:07,838 - port 32768 is already taken\n",
      "2021-01-27 18:02:07,841 - port 32769 is already taken\n",
      "2021-01-27 18:02:07,842 - listening on port 32770\n",
      "2021-01-27 18:02:07,845 - client connected to localhost:32770\n",
      "2021-01-27 18:02:07,845 - listener accepted connection from ('127.0.0.1', 45986)\n",
      "2021-01-27 18:02:16,613 - listener connection closed\n"
     ]
    }
   ],
   "source": [
    "from rgxlog import Client\n",
    "\n",
    "client = Client()\n",
    "# Notice the default port is taken by the default client, hence the next port is used for the user's client"
   ]
  },
  {
   "cell_type": "code",
   "execution_count": 3,
   "metadata": {},
   "outputs": [
    {
     "name": "stdout",
     "output_type": "stream",
     "text": [
      "\n"
     ]
    }
   ],
   "source": [
    "result = client.execute('''\n",
    "    new uncle(str, str)\n",
    "    uncle(\"bob\", \"greg\")\n",
    "    ''')\n",
    "print(result)"
   ]
  },
  {
   "cell_type": "code",
   "execution_count": 4,
   "metadata": {},
   "outputs": [
    {
     "name": "stdout",
     "output_type": "stream",
     "text": [
      "printing results for query 'uncle(\"bob\", Y)':\n",
      "  Y\n",
      "------\n",
      " greg\n",
      "\n",
      "printing results for query 'uncle(\"greg\", Y)':\n",
      "[]\n",
      "\n",
      "printing results for query 'uncle(\"jhon\", Y)':\n",
      "[]\n",
      "\n"
     ]
    }
   ],
   "source": [
    "for maybe_uncle in ['bob','greg','jhon']:\n",
    "    result = client.execute(f'''\n",
    "    ?uncle(\"{maybe_uncle}\",Y)\n",
    "    ''')\n",
    "    print(result)"
   ]
  },
  {
   "cell_type": "code",
   "execution_count": 5,
   "metadata": {},
   "outputs": [],
   "source": [
    "# client = None  # Notice the connection closes, due to GC\n",
    "# client.disconnect()  # if you wish to disconnect explicitly you can do so as well"
   ]
  },
  {
   "cell_type": "markdown",
   "metadata": {},
   "source": [
    "## Manually configured remote client"
   ]
  },
  {
   "cell_type": "markdown",
   "metadata": {},
   "source": [
    "The following cell demonstrates connecting to a remote server.\n",
    "* Start the remote server (run server.py)\n",
    "* Note down the server's port and ip\n",
    "* Use the following code snippet with your port and ip to connect"
   ]
  },
  {
   "cell_type": "code",
   "execution_count": null,
   "metadata": {},
   "outputs": [],
   "source": [
    "from rgxlog import Client\n",
    "# the server can also be remote\n",
    "\n",
    "# this will fail unless you have a RGXlog server running on this ip and port\n",
    "custom_client = Client(\n",
    "    remote_ip='192.168.0.100',\n",
    "    remote_port=32678\n",
    ")\n",
    "\n",
    "result = custom_client.execute('''\n",
    "    new uncle(str, str)\n",
    "    uncle(\"bob\", \"greg\")\n",
    "    ?uncle(X,Y)\n",
    "    ''')\n",
    "print(result)\n",
    "\n",
    "custom_client.disconnect()"
   ]
  },
  {
   "cell_type": "markdown",
   "metadata": {},
   "source": [
    "# Changing the client of the magic cells"
   ]
  },
  {
   "cell_type": "markdown",
   "metadata": {},
   "source": [
    "In cases where you want to work with a custom client, but still make use of the magic system, you can overide the client used by the magic system"
   ]
  },
  {
   "cell_type": "code",
   "execution_count": 6,
   "metadata": {},
   "outputs": [
    {
     "name": "stderr",
     "output_type": "stream",
     "text": [
      "2021-01-27 18:02:11,073 - port 32768 is already taken\n",
      "2021-01-27 18:02:11,109 - port 32769 is already taken\n",
      "2021-01-27 18:02:11,113 - port 32770 is already taken\n",
      "2021-01-27 18:02:11,116 - listening on port 32771\n",
      "2021-01-27 18:02:11,121 - client connected to localhost:32771\n",
      "2021-01-27 18:02:11,125 - listener accepted connection from ('127.0.0.1', 42598)\n",
      "2021-01-27 18:02:12,647 - listener connection closed\n"
     ]
    }
   ],
   "source": [
    "import rgxlog  # default client starts here, and captures 32768\n",
    "from rgxlog import Client\n",
    "\n",
    "another_client=Client()  # therefore this client will try the next in line, 32769"
   ]
  },
  {
   "cell_type": "code",
   "execution_count": 7,
   "metadata": {},
   "outputs": [
    {
     "name": "stdout",
     "output_type": "stream",
     "text": [
      "printing results for query 'uncle(X, Y)':\n",
      "  X  |  Y\n",
      "-----+------\n",
      " bob | greg\n",
      "\n"
     ]
    }
   ],
   "source": [
    "%%spanner\n",
    "# still using the default client\n",
    "\n",
    "new uncle(str, str)\n",
    "uncle(\"bob\", \"greg\")\n",
    "?uncle(X,Y)"
   ]
  },
  {
   "cell_type": "code",
   "execution_count": 8,
   "metadata": {},
   "outputs": [],
   "source": [
    "default_client = rgxlog.magic_client  # save the default for later (prevents GC)\n",
    "rgxlog.magic_client = another_client"
   ]
  },
  {
   "cell_type": "code",
   "execution_count": 9,
   "metadata": {},
   "outputs": [
    {
     "name": "stdout",
     "output_type": "stream",
     "text": [
      "exception during semantic checks or execution:\n",
      " relation \"uncle\" is not defined\n"
     ]
    }
   ],
   "source": [
    "%%spanner\n",
    "# using 'another_client', not the default\n",
    "\n",
    "new uncle2(str, str)\n",
    "uncle2(\"bob\", \"greg\")\n",
    "?uncle(X,Y)"
   ]
  },
  {
   "cell_type": "code",
   "execution_count": 10,
   "metadata": {},
   "outputs": [
    {
     "name": "stderr",
     "output_type": "stream",
     "text": [
      "2021-01-27 18:02:12,648 - client connection closed\n"
     ]
    }
   ],
   "source": [
    "another_client.disconnect()\n",
    "rgxlog.magic_client = default_client"
   ]
  },
  {
   "cell_type": "code",
   "execution_count": 11,
   "metadata": {
    "scrolled": true
   },
   "outputs": [
    {
     "name": "stdout",
     "output_type": "stream",
     "text": [
      "exception during semantic checks or execution:\n",
      " relation \"uncle\" is already defined. relation redefinitions are not allowed\n"
     ]
    }
   ],
   "source": [
    "%%spanner\n",
    "# back to using the default client\n",
    "new uncle(str, str)\n",
    "uncle(\"bob\", \"greg\")\n",
    "?uncle(X,Y)"
   ]
  },
  {
   "cell_type": "markdown",
   "metadata": {},
   "source": [
    "# Mixing magics with dynamic client calls"
   ]
  },
  {
   "cell_type": "markdown",
   "metadata": {},
   "source": [
    "Lets take the GPA example from the introductory tutorial.\n",
    "What if we want to have multiple rules each looking for GPAs of students in different classes.\n",
    "We wouldnt want to manually write a rule for every single subject."
   ]
  },
  {
   "cell_type": "code",
   "execution_count": 12,
   "metadata": {},
   "outputs": [],
   "source": [
    "import rgxlog"
   ]
  },
  {
   "cell_type": "code",
   "execution_count": 13,
   "metadata": {},
   "outputs": [
    {
     "name": "stderr",
     "output_type": "stream",
     "text": [
      "2021-01-27 18:02:16,614 - client connection closed\n"
     ]
    }
   ],
   "source": [
    "client=rgxlog.magic_client"
   ]
  },
  {
   "cell_type": "markdown",
   "metadata": {},
   "source": [
    "We write our data manually. In the future we would be able to import it from csvs/dataframes"
   ]
  },
  {
   "cell_type": "code",
   "execution_count": 14,
   "metadata": {},
   "outputs": [
    {
     "name": "stdout",
     "output_type": "stream",
     "text": [
      "\n"
     ]
    }
   ],
   "source": [
    "%%spanner\n",
    "new lecturer(str, str)\n",
    "lecturer(\"walter\", \"chemistry\")\n",
    "lecturer(\"linus\", \"operation_systems\")\n",
    "lecturer(\"rick\", \"physics\")\n",
    "\n",
    "new enrolled(str, str)\n",
    "enrolled(\"abigail\", \"chemistry\")\n",
    "enrolled(\"abigail\", \"operation_systems\")\n",
    "enrolled(\"jordan\", \"chemistry\")\n",
    "enrolled(\"gale\", \"operation_systems\")\n",
    "enrolled(\"howard\", \"chemistry\")\n",
    "enrolled(\"howard\", \"physics\")\n",
    "\n",
    "\n",
    "\n",
    "gpa_str = \"abigail 100 jordan 80 gale 79 howard 60\"\n"
   ]
  },
  {
   "cell_type": "code",
   "execution_count": 15,
   "metadata": {},
   "outputs": [
    {
     "name": "stdout",
     "output_type": "stream",
     "text": [
      "printing results for query 'gpa(X, Y)':\n",
      "    X    |   Y\n",
      "---------+-----\n",
      " howard  |  60\n",
      "  gale   |  79\n",
      " jordan  |  80\n",
      " abigail | 100\n",
      "\n"
     ]
    }
   ],
   "source": [
    "%%spanner\n",
    "\n",
    "gpa(Student,Grade) <- RGXString(gpa_str, \"(\\w+).*?(\\d+)\")->(Student, Grade),enrolled(Student,X)\n",
    "\n",
    "?gpa(X,Y)"
   ]
  },
  {
   "cell_type": "markdown",
   "metadata": {},
   "source": [
    "Now we are going to define the rules using a for loop"
   ]
  },
  {
   "cell_type": "code",
   "execution_count": 16,
   "metadata": {},
   "outputs": [
    {
     "name": "stdout",
     "output_type": "stream",
     "text": [
      "\n",
      "    gpa_of_chemistry_students(Student, Grade) <- gpa(Student, Grade), enrolled(Student, \"chemistry\")\n",
      "    \n",
      "\n",
      "    gpa_of_physics_students(Student, Grade) <- gpa(Student, Grade), enrolled(Student, \"physics\")\n",
      "    \n",
      "\n",
      "    gpa_of_operation_systems_students(Student, Grade) <- gpa(Student, Grade), enrolled(Student, \"operation_systems\")\n",
      "    \n",
      "\n",
      "    gpa_of_magic_students(Student, Grade) <- gpa(Student, Grade), enrolled(Student, \"magic\")\n",
      "    \n"
     ]
    }
   ],
   "source": [
    "subjects=[\n",
    "    \"chemistry\",\n",
    "    \"physics\",\n",
    "    \"operation_systems\",\n",
    "    \"magic\",\n",
    "]\n",
    "\n",
    "for subject in subjects:\n",
    "    rule=f\"\"\"\n",
    "    gpa_of_{subject}_students(Student, Grade) <- gpa(Student, Grade), enrolled(Student, \"{subject}\")\n",
    "    \"\"\"\n",
    "    client.execute(rule)\n",
    "    print(rule) # we print the rule here to show you what strings are sent to the client"
   ]
  },
  {
   "cell_type": "markdown",
   "metadata": {},
   "source": [
    "As you can see, we can use the dynamically defined rules in a magic cell"
   ]
  },
  {
   "cell_type": "code",
   "execution_count": 17,
   "metadata": {},
   "outputs": [
    {
     "name": "stdout",
     "output_type": "stream",
     "text": [
      "printing results for query 'gpa_of_operation_systems_students(X, Y)':\n",
      "    X    |   Y\n",
      "---------+-----\n",
      "  gale   |  79\n",
      " abigail | 100\n",
      "\n"
     ]
    }
   ],
   "source": [
    "%%spanner\n",
    "?gpa_of_operation_systems_students(X,Y)"
   ]
  },
  {
   "cell_type": "markdown",
   "metadata": {},
   "source": [
    "And we can also query dynamically"
   ]
  },
  {
   "cell_type": "code",
   "execution_count": 18,
   "metadata": {},
   "outputs": [
    {
     "name": "stdout",
     "output_type": "stream",
     "text": [
      "printing results for query 'gpa_of_chemistry_students(Student, Grade)':\n",
      "  Student  |   Grade\n",
      "-----------+---------\n",
      "  howard   |      60\n",
      "  jordan   |      80\n",
      "  abigail  |     100\n",
      "\n",
      "printing results for query 'gpa_of_physics_students(Student, Grade)':\n",
      "  Student  |   Grade\n",
      "-----------+---------\n",
      "  howard   |      60\n",
      "\n",
      "printing results for query 'gpa_of_operation_systems_students(Student, Grade)':\n",
      "  Student  |   Grade\n",
      "-----------+---------\n",
      "   gale    |      79\n",
      "  abigail  |     100\n",
      "\n",
      "printing results for query 'gpa_of_magic_students(Student, Grade)':\n",
      "[]\n",
      "\n"
     ]
    }
   ],
   "source": [
    "subjects=[\n",
    "    \"chemistry\",\n",
    "    \"physics\",\n",
    "    \"operation_systems\",\n",
    "    \"magic\",\n",
    "]\n",
    "\n",
    "for subject in subjects:\n",
    "    query=f\"\"\"\n",
    "    ?gpa_of_{subject}_students(Student, Grade)\n",
    "    \"\"\"\n",
    "    result=client.execute(query)\n",
    "    print(result)"
   ]
  },
  {
   "cell_type": "markdown",
   "metadata": {},
   "source": [
    "# Processing the result of a query in python and using the result in a new query"
   ]
  },
  {
   "cell_type": "code",
   "execution_count": 19,
   "metadata": {},
   "outputs": [],
   "source": [
    "from rgxlog import Client"
   ]
  },
  {
   "cell_type": "code",
   "execution_count": 20,
   "metadata": {},
   "outputs": [
    {
     "name": "stderr",
     "output_type": "stream",
     "text": [
      "2021-01-27 18:02:42,204 - port 32768 is already taken\n",
      "2021-01-27 18:02:42,227 - port 32769 is already taken\n",
      "2021-01-27 18:02:42,228 - listening on port 32770\n",
      "2021-01-27 18:02:42,230 - client connected to localhost:32770\n",
      "2021-01-27 18:02:42,230 - listener accepted connection from ('127.0.0.1', 46016)\n"
     ]
    },
    {
     "name": "stdout",
     "output_type": "stream",
     "text": [
      "printing results for query 'friends(X, Y, Z)':\n",
      "   X    |   Y   |   Z\n",
      "--------+-------+--------\n",
      " lenny  | homer |  toby\n",
      " steven | benny | horace\n",
      "  bob   | greg  | clyde\n",
      "\n",
      "printing results for query 'buddies(First, Second)':\n",
      "  First  |  Second\n",
      "---------+----------\n",
      "   bob   |   greg\n",
      "  lenny  |  homer\n",
      "\n"
     ]
    }
   ],
   "source": [
    "client = Client()\n",
    "result = client.execute(f'''\n",
    "    new friends(str, str, str)\n",
    "    friends(\"bob\", \"greg\", \"clyde\")\n",
    "    friends(\"steven\", \"benny\", \"horace\")\n",
    "    friends(\"lenny\", \"homer\", \"toby\")\n",
    "    ?friends(X,Y,Z)\n",
    "    ''')\n",
    "print(result)\n",
    "# Notice the default port is taken by the default client, hence the next port is used for the user's client\n",
    "\n",
    "\n",
    "# now we'll showcase processing the result with native python...\n",
    "result = result.split('\\n')[3:-1]\n",
    "result_tuples = []\n",
    "for row in result:\n",
    "    result_tuples.append(tuple(map(str.strip, row.split('|'))))\n",
    "# future versions will do this internally\n",
    "\n",
    "# lets filter our tuples with some predicate:\n",
    "filtered = tuple(filter(lambda friends: 'bob' in friends or 'lenny' in friends, result_tuples))\n",
    "\n",
    "# and feed the matching tuples into a new query:\n",
    "client.execute('new buddies(str, str)')\n",
    "\n",
    "for first, second, _ in filtered:\n",
    "    client.execute(f'buddies(\"{first}\", \"{second}\")')\n",
    "\n",
    "result = client.execute(\"?buddies(First, Second)\")\n",
    "print(result)"
   ]
  },
  {
   "cell_type": "markdown",
   "metadata": {},
   "source": [
    "# Developing and using your own IE functions"
   ]
  },
  {
   "cell_type": "markdown",
   "metadata": {},
   "source": [
    "To make your own ie function you need to make a new python file and place it in rgxlog/user_ie_functions.\n",
    "In the python file you need to create a new class that inherits from IEFunctionData.\n",
    "By implementing its methods you are suppling the input format, output format, and the function itself."
   ]
  },
  {
   "cell_type": "markdown",
   "metadata": {},
   "source": [
    "Note that IE functions are supplied by an IEFunctionData subclass with 3 main elements:\n",
    "Methods for type checking:\n",
    "* a `get_input_types` method returns the DataTypes of the relation that the ie function expects\n",
    "* a `get_output_types` method returns the DataTypes of the relation that the ie function will return.\n",
    "    * This function takes as a parameter the output arity defined in the RGXlog statement.\n",
    "    * This is done to partially enable template ie functions that can return multiple arities, like RGX log\n",
    "And the ie function itself\n",
    "* the `ie_function\n",
    "    * Which takes a typle of `get_input_type` \n",
    "    * and returns an iterator of tuples of `get_output_types`"
   ]
  },
  {
   "cell_type": "code",
   "execution_count": 21,
   "metadata": {},
   "outputs": [],
   "source": [
    "# example:\n",
    "\n",
    "import spacy\n",
    "sp = spacy.load('en_core_web_sm')\n",
    "\n",
    "from rgxlog.engine.datatypes.primitive_types import DataTypes\n",
    "from rgxlog.engine.ie_functions.ie_function_base import IEFunctionData\n",
    "\n",
    "class Entities(IEFunctionData):\n",
    "    def __init__(self):\n",
    "        super().__init__()\n",
    "\n",
    "    @staticmethod\n",
    "    def ie_function(text):  # this is where you implement the actual processing\n",
    "        entities = sp(text).ents\n",
    "        return ((entity.text, spacy.explain(entity.label_)) for entity in entities)\n",
    "\n",
    "    @staticmethod\n",
    "    def get_input_types():  # this is where you define the inputs\n",
    "        return [DataTypes.string]\n",
    "\n",
    "    @staticmethod\n",
    "    def get_output_types(output_arity):  # and this is where you define your outputs\n",
    "        return tuple([DataTypes.string] * 2)\n",
    "\n",
    "# place this file in rgxlog/user_ie_functions"
   ]
  },
  {
   "cell_type": "markdown",
   "metadata": {},
   "source": [
    "next, we need to register the function by using the class name:"
   ]
  },
  {
   "cell_type": "code",
   "execution_count": 22,
   "metadata": {},
   "outputs": [
    {
     "data": {
      "text/plain": [
       "'registered Entities'"
      ]
     },
     "execution_count": 22,
     "metadata": {},
     "output_type": "execute_result"
    }
   ],
   "source": [
    "import rgxlog\n",
    "rgxlog.magic_client.register('Entities')"
   ]
  },
  {
   "cell_type": "markdown",
   "metadata": {},
   "source": [
    "now we're free to use it:"
   ]
  },
  {
   "cell_type": "code",
   "execution_count": 23,
   "metadata": {},
   "outputs": [
    {
     "name": "stdout",
     "output_type": "stream",
     "text": [
      "printing results for query 'entities(Entity, Classification)':\n",
      "   Entity    |             Classification\n",
      "-------------+-----------------------------------------\n",
      "    today    |  Absolute or relative dates or periods\n",
      " Baudrillard | Companies, agencies, institutions, etc.\n",
      "     Neo     | Companies, agencies, institutions, etc.\n",
      "\n"
     ]
    }
   ],
   "source": [
    "%%spanner\n",
    "text =  \"You've been living in a dream world, Neo.\\\n",
    "        As in Baudrillard's vision, your whole life has been spent inside the map, not the territory.\\\n",
    "        This is the world as it exists today.\\\n",
    "        Welcome to the desert of the real.\"\n",
    "entities(Entity, Classification) <- Entities(text)->(Entity, Classification)\n",
    "?entities(Entity, Classification)"
   ]
  },
  {
   "cell_type": "code",
   "execution_count": null,
   "metadata": {},
   "outputs": [],
   "source": []
  }
 ],
 "metadata": {
  "kernelspec": {
   "display_name": "Python 3",
   "language": "python",
   "name": "python3"
  },
  "language_info": {
   "codemirror_mode": {
    "name": "ipython",
    "version": 3
   },
   "file_extension": ".py",
   "mimetype": "text/x-python",
   "name": "python",
   "nbconvert_exporter": "python",
   "pygments_lexer": "ipython3",
   "version": "3.8.5"
  }
 },
 "nbformat": 4,
 "nbformat_minor": 4
}
