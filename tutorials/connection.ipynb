{
 "cells": [
  {
   "cell_type": "code",
   "execution_count": null,
   "metadata": {},
   "outputs": [],
   "source": [
    "import rgxlog"
   ]
  },
  {
   "cell_type": "code",
   "execution_count": null,
   "metadata": {
    "scrolled": true
   },
   "outputs": [],
   "source": [
    "%%spanner\n",
    "+parent(\"bob\")\n",
    "parent(\"bob\")"
   ]
  },
  {
   "cell_type": "code",
   "execution_count": null,
   "metadata": {},
   "outputs": [],
   "source": [
    "%spanner --shutdown"
   ]
  },
  {
   "cell_type": "code",
   "execution_count": null,
   "metadata": {},
   "outputs": [],
   "source": [
    "%%spanner --configure\n",
    "{\n",
    "    \"remote_ip\": \"192.168.0.100\",  # won't work for you, unless you have a server running on this address\n",
    "    \"remote_port\": 32768,  # default port range is 2^15 to 2^16\n",
    "    \"debug\": false  # when i debug the server i launch it manually (locally or remotely) and set this to true\n",
    "}  # should fail since comments are not allowed in json, works without comments"
   ]
  },
  {
   "cell_type": "code",
   "execution_count": null,
   "metadata": {
    "scrolled": true
   },
   "outputs": [],
   "source": [
    "%%spanner\n",
    "+parent(\"bob\")\n",
    "parent(\"bob\")"
   ]
  },
  {
   "cell_type": "code",
   "execution_count": null,
   "metadata": {},
   "outputs": [],
   "source": [
    "%spanner --shutdown"
   ]
  },
  {
   "cell_type": "code",
   "execution_count": null,
   "metadata": {},
   "outputs": [],
   "source": [
    "rgx1 = rgxlog.Rgxlog(port=51293)  # by default, connects to localhost on a standard port (2^15)"
   ]
  },
  {
   "cell_type": "code",
   "execution_count": null,
   "metadata": {},
   "outputs": [],
   "source": [
    "rgx2 = rgxlog.Rgxlog(port=51293)  # should fail due to port being taken by rgx1"
   ]
  },
  {
   "cell_type": "code",
   "execution_count": null,
   "metadata": {},
   "outputs": [],
   "source": [
    "result = rgx1.execute('parent(\"bob\")')  # will eventually return a dataframe. should fail on semantic check\n",
    "print(result)"
   ]
  },
  {
   "cell_type": "code",
   "execution_count": null,
   "metadata": {},
   "outputs": [],
   "source": [
    "result = rgx2.execute('parent(\"bob\")')  # should fail since rgx2 did not connect\n",
    "print(result)"
   ]
  },
  {
   "cell_type": "code",
   "execution_count": null,
   "metadata": {},
   "outputs": [],
   "source": [
    "rgx1.disconnect()  # the 'client connection closed' appears in the same cell as Rgxlog(), only after this cell runs"
   ]
  },
  {
   "cell_type": "code",
   "execution_count": null,
   "metadata": {},
   "outputs": [],
   "source": [
    "rgx = rgxlog.Rgxlog()\n",
    "result = rgx.execute('parent(\"bob\")')  # will eventually return a dataframe, should fail on semantic check\n",
    "print(result)\n",
    "rgx.disconnect()"
   ]
  },
  {
   "cell_type": "code",
   "execution_count": null,
   "metadata": {},
   "outputs": [],
   "source": []
  }
 ],
 "metadata": {
  "kernelspec": {
   "display_name": "Python 3",
   "language": "python",
   "name": "python3"
  },
  "language_info": {
   "codemirror_mode": {
    "name": "ipython",
    "version": 3
   },
   "file_extension": ".py",
   "mimetype": "text/x-python",
   "name": "python",
   "nbconvert_exporter": "python",
   "pygments_lexer": "ipython3",
   "version": "3.7.0"
  }
 },
 "nbformat": 4,
 "nbformat_minor": 4
}
