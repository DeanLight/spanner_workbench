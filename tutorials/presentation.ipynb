{
 "cells": [
  {
   "cell_type": "markdown",
   "id": "imposed-gabriel",
   "metadata": {
    "slideshow": {
     "slide_type": "slide"
    }
   },
   "source": [
    "# Spanner Workbench Presentation\n",
    "\n",
    "### Presenting:\n",
    "| #       |              Name |             Id |             email |\n",
    "|---------|-------------------|----------------|------------------ |\n",
    "|Student 1|  Tom Feldman | 325135960 | tom.p@campus.technion.ac.il |\n",
    "|Student 2|  Niv Shetrit | 316354976 | shniv@campus.technion.ac.il |"
   ]
  },
  {
   "cell_type": "markdown",
   "id": "proved-patent",
   "metadata": {
    "cell_style": "center",
    "slideshow": {
     "slide_type": "slide"
    }
   },
   "source": [
    "# Information Extraction Functions <a class=\"anchor\" id=\"IEFunctions\"></a>\n",
    "\n",
    "* Client-Server refactoring\n",
    "* Design of `IEFunction` Class"
   ]
  },
  {
   "cell_type": "markdown",
   "id": "smooth-orchestra",
   "metadata": {
    "cell_style": "center",
    "slideshow": {
     "slide_type": "subslide"
    }
   },
   "source": [
    "## Example: Logical Operators:\n",
    "\n",
    "#### Implemention of the **not equals (NEQ)** relation.\n",
    "\n",
    "We would like to have a rule such as:\n",
    "<br>\n",
    "```unique_pair(X, Y) <- pair(X, Y), X != Y```\n",
    "<br><br>\n",
    "Unfortunately RGXLog doesn't support True/False values. Therefore, we can't use ```X != Y```.\n",
    "<br>\n",
    "Our solution to this problem is to create an ie function that implements NEQ relation:"
   ]
  },
  {
   "cell_type": "code",
   "execution_count": 1,
   "id": "piano-mumbai",
   "metadata": {
    "cell_style": "split",
    "slideshow": {
     "slide_type": "subslide"
    }
   },
   "outputs": [],
   "source": [
    "import rgxlog\n",
    "from rgxlog.engine.datatypes.primitive_types import DataTypes\n",
    "\n",
    "def NEQ(x, y):\n",
    "    if x == y:\n",
    "        # return false (empty tuple represents false)\n",
    "        yield tuple() \n",
    "    else:\n",
    "        #return true\n",
    "        yield x, y\n",
    "\n",
    "in_out_types = [DataTypes.string, DataTypes.string]\n",
    "rgxlog.magic_session.register(ie_function=NEQ, \n",
    "                       ie_function_name=\"NEQ\", \n",
    "                       in_rel=in_out_types, \n",
    "                       out_rel=in_out_types)"
   ]
  },
  {
   "cell_type": "code",
   "execution_count": 2,
   "id": "sacred-russell",
   "metadata": {
    "cell_style": "split",
    "slideshow": {
     "slide_type": "fragment"
    }
   },
   "outputs": [
    {
     "name": "stdout",
     "output_type": "stream",
     "text": [
      "printing results for query 'unique_pair(X, Y)':\n",
      "  X  |  Y\n",
      "-----+-----\n",
      " Dan | Tom\n",
      " Cat | Dog\n",
      " 123 | 321\n",
      "\n"
     ]
    }
   ],
   "source": [
    "%%rgxlog\n",
    "new pair(str, str)\n",
    "pair(\"Dan\", \"Tom\")\n",
    "pair(\"Cat\", \"Dog\")\n",
    "pair(\"Apple\", \"Apple\")\n",
    "pair(\"Cow\", \"Cow\")\n",
    "pair(\"123\", \"321\")\n",
    "\n",
    "unique_pair(X, Y) <- pair(First, Second), \\\n",
    "                     NEQ(First, Second) -> (X, Y)\n",
    "?unique_pair(X, Y)"
   ]
  },
  {
   "cell_type": "markdown",
   "id": "cathedral-invite",
   "metadata": {
    "slideshow": {
     "slide_type": "slide"
    }
   },
   "source": [
    "# Import-Export Functions <a class=\"anchor\" id=\"Import-Export-Functions\"></a>\n",
    "\n",
    "* import/export a relation from a csv file\n",
    "* import/export a relation from a dataframe"
   ]
  },
  {
   "cell_type": "code",
   "execution_count": 3,
   "id": "dominant-finder",
   "metadata": {
    "slideshow": {
     "slide_type": "subslide"
    }
   },
   "outputs": [
    {
     "name": "stdout",
     "output_type": "stream",
     "text": [
      "abigail,operating_systems\r\n",
      "jordan,chemistry\r\n",
      "gale,operating_systems\r\n",
      "howard,chemistry\r\n",
      "howard,physics\r\n"
     ]
    }
   ],
   "source": [
    "%%bash\n",
    "cat enrolled.csv"
   ]
  },
  {
   "cell_type": "code",
   "execution_count": 4,
   "id": "decimal-forge",
   "metadata": {
    "slideshow": {
     "slide_type": "fragment"
    }
   },
   "outputs": [],
   "source": [
    "rgxlog.magic_session.import_relation_from_csv(\"enrolled.csv\", relation_name=\"enrolled\", delimiter=\",\")"
   ]
  },
  {
   "cell_type": "code",
   "execution_count": 8,
   "id": "mexican-baghdad",
   "metadata": {
    "slideshow": {
     "slide_type": "fragment"
    }
   },
   "outputs": [
    {
     "name": "stdout",
     "output_type": "stream",
     "text": [
      "printing results for query 'gpa(X, Y)':\n",
      "    X    |   Y\n",
      "---------+-----\n",
      " abigail | 100\n",
      "  gale   |  79\n",
      " howard  |  60\n",
      " jordan  |  80\n",
      "\n"
     ]
    }
   ],
   "source": [
    "%%rgxlog\n",
    "enrolled(\"abigail\", \"chemistry\")\n",
    "gpa_str = \"abigail 100 jordan 80 gale 79 howard 60\"\n",
    "\n",
    "gpa(Student,Grade) <- py_rgx_string(gpa_str, \"(\\w+).*?(\\d+)\")->(Student, Grade),enrolled(Student,X)\n",
    "\n",
    "?gpa(X,Y)"
   ]
  },
  {
   "cell_type": "markdown",
   "id": "animated-necklace",
   "metadata": {
    "cell_style": "center",
    "slideshow": {
     "slide_type": "slide"
    }
   },
   "source": [
    "# Standard Library <a class=\"anchor\" id=\"STDLIB\"></a>\n",
    "\n",
    "* python and rust regex\n",
    "* json path\n",
    "* many nlp functions wrapping StanfordCoreNLP"
   ]
  },
  {
   "cell_type": "markdown",
   "id": "certified-carry",
   "metadata": {
    "cell_style": "center",
    "slideshow": {
     "slide_type": "subslide"
    }
   },
   "source": [
    "## NLP Example - Named Entity Recognition:\n",
    "\n",
    "NER IEFunction Recognizes named entities (person and company names, etc.)\n",
    "\n",
    "First, we register the ie function:\n",
    "\n",
    "```python\n",
    "magic_session.register(ie_function=ner_wrapper,\n",
    "                       ie_function_name='NER',\n",
    "                       in_rel=[DataTypes.string],\n",
    "                       out_rel=[DataTypes.string, DataTypes.string, DataTypes.span])\n",
    "```"
   ]
  },
  {
   "cell_type": "code",
   "execution_count": 9,
   "id": "unnecessary-christian",
   "metadata": {
    "cell_style": "center",
    "slideshow": {
     "slide_type": "subslide"
    }
   },
   "outputs": [],
   "source": [
    "%%rgxlog\n",
    "\n",
    "sentence = \"While in France, Christine Lagarde discussed short-term stimulus  \\\n",
    "            efforts in a recent interview with the Wall Street Journal.\"\n",
    "               \n",
    "ner(X, Y, Z) <- NER(sentence) -> (X, Y, Z)\n",
    "# TODO@tom ?ner(Token, NER, Span)"
   ]
  },
  {
   "cell_type": "markdown",
   "id": "affected-exhibition",
   "metadata": {
    "slideshow": {
     "slide_type": "slide"
    }
   },
   "source": [
    "# Tests and Typing <a class=\"anchor\" id=\"CI\"></a>\n",
    "\n",
    "* running github actions CI after every push, which includes:\n",
    "    * 63 unique pytest tests\n",
    "    * pep8 test\n",
    "    * mypy test - all functions are type annotated\n",
    "<br><br>\n",
    "* a successful run looks like this:\n",
    "\n",
    "<img src=\"git_workflow.png\" alt=\"workflow\" width=\"400\" height=\"400\">"
   ]
  },
  {
   "cell_type": "markdown",
   "id": "coordinated-despite",
   "metadata": {
    "slideshow": {
     "slide_type": "slide"
    }
   },
   "source": [
    "# PyDatalog to SQL Engine <a class=\"anchor\" id=\"Engine\"></a>\n",
    "\n",
    "* main feature\n",
    "* parse graph and term graph\n",
    "* SQL engine\n",
    "* adding rules to term graph\n",
    "* bottom-up algorithm and execution function"
   ]
  },
  {
   "cell_type": "markdown",
   "id": "accessory-kingston",
   "metadata": {
    "slideshow": {
     "slide_type": "subslide"
    }
   },
   "source": [
    "## parse and term graph\n",
    "\n",
    "* parse graph - stores facts, relation declerations, rule declarations and queries.\n",
    "* term graph - stores connection between all the relations."
   ]
  },
  {
   "cell_type": "code",
   "execution_count": 7,
   "id": "checked-lobby",
   "metadata": {
    "cell_style": "center",
    "slideshow": {
     "slide_type": "subslide"
    }
   },
   "outputs": [],
   "source": [
    "from rgxlog import Session\n",
    "\n",
    "rgxlog.magic_session = Session()  # reset session"
   ]
  },
  {
   "cell_type": "code",
   "execution_count": 8,
   "id": "current-sword",
   "metadata": {
    "cell_style": "center",
    "slideshow": {
     "slide_type": "fragment"
    }
   },
   "outputs": [
    {
     "name": "stdout",
     "output_type": "stream",
     "text": [
      "printing results for query 'ancestor(Parent, Son)':\n",
      "  Parent  |  Son\n",
      "----------+--------\n",
      "   Liam   | Mason\n",
      "   Liam   |  Noah\n",
      "   Liam   | Oliver\n",
      "   Noah   | Mason\n",
      "   Noah   | Oliver\n",
      "  Oliver  | Mason\n",
      "\n"
     ]
    }
   ],
   "source": [
    "%%rgxlog \n",
    "\n",
    "new parent(str, str)\n",
    "parent(\"Liam\", \"Noah\")\n",
    "parent(\"Noah\", \"Oliver\")\n",
    "parent(\"Oliver\", \"Mason\")\n",
    "\n",
    "ancestor(X,Y) <- parent(X,Y)\n",
    "ancestor(X,Y) <- parent(X,Z), ancestor(Z,Y)\n",
    "?ancestor(Parent, Son)"
   ]
  },
  {
   "cell_type": "code",
   "execution_count": 9,
   "id": "owned-spirit",
   "metadata": {
    "cell_style": "center",
    "slideshow": {
     "slide_type": "subslide"
    }
   },
   "outputs": [
    {
     "name": "stdout",
     "output_type": "stream",
     "text": [
      "parse graph:\n",
      "(__rgxlog_root) (computed) root\n",
      "    (0) (computed) relation_declaration: parent(str, str)\n",
      "    (1) (computed) add_fact: parent(\"Liam\", \"Noah\")\n",
      "    (2) (computed) add_fact: parent(\"Noah\", \"Oliver\")\n",
      "    (3) (computed) add_fact: parent(\"Oliver\", \"Mason\")\n",
      "    (4) (computed) rule: ancestor(X, Y) <- parent(X, Y)\n",
      "    (5) (computed) rule: ancestor(X, Y) <- parent(X, Z), ancestor(Z, Y)\n",
      "    (6) (computed) query: ancestor(Parent, Son)\n",
      "\n",
      "\n",
      "term graph:\n",
      "(__rgxlog_root) (not_computed) root\n",
      "    (ancestor) (not_computed) rule_rel: ancestor(X, Y)\n",
      "        (0) (not_computed) union\n",
      "            (1) (not_computed) project: ['X', 'Y']\n",
      "                (2) (not_computed) get_rel: parent(X, Y)\n",
      "            (3) (not_computed) project: ['X', 'Y']\n",
      "                (4) (not_computed) join: {'X': [(parent(X, Z), 0)], 'Z': [(ancestor(Z, Y), 0), (parent(X, Z), 1)], 'Y': [(ancestor(Z, Y), 1)]}\n",
      "                    (5) (not_computed) get_rel: ancestor(Z, Y)\n",
      "                        (ancestor) (not_computed) rule_rel: ancestor(X, Y)\n",
      "                    (6) (not_computed) get_rel: parent(X, Z)\n",
      "\n",
      "DependencyGraph is:\n",
      "__rgxlog_root\n",
      "    ancestor\n",
      "\n"
     ]
    }
   ],
   "source": [
    "print(f\"parse graph:\\n{rgxlog.magic_session._parse_graph}\")\n",
    "print(f\"\\nterm graph:\\n{rgxlog.magic_session._term_graph}\")"
   ]
  },
  {
   "cell_type": "markdown",
   "id": "ambient-satellite",
   "metadata": {
    "slideshow": {
     "slide_type": "subslide"
    }
   },
   "source": [
    "## Adding rules to Term Graph\n",
    "\n",
    "* traverse the parse graph and find new rules (which will be added to the term graph)\n",
    "* compute a legal execution order of a rule (ie relations input vriables must be bounded)\n",
    "* join all the relations (in the computed order)\n",
    "* project to the relevant variables\n",
    "* connect to the rule_head node (in case of some rules with same head, we need a union node for them)\n",
    "* select from relations (if the relations contain constant terms)\n",
    "* calculate ie relations (bounding relations are children)\n",
    "\n",
    "TODO@tom: parentheses are notes and will not appear in the slide."
   ]
  },
  {
   "cell_type": "markdown",
   "id": "portuguese-indication",
   "metadata": {
    "slideshow": {
     "slide_type": "subslide"
    }
   },
   "source": [
    "## sql engine"
   ]
  },
  {
   "cell_type": "markdown",
   "id": "caroline-secret",
   "metadata": {
    "slideshow": {
     "slide_type": "subslide"
    }
   },
   "source": [
    "## Execution Function\n",
    "\n",
    "* Implements a naive bottom-up alogrithm:\n",
    "    * reset all the mutually recursive relations\n",
    "    * traverse the term graph and update all the mutually recursive relations based on the previous step\n",
    "    * stop when all the mutually recursive relations converged at the same step."
   ]
  },
  {
   "cell_type": "markdown",
   "id": "spectacular-barcelona",
   "metadata": {
    "slideshow": {
     "slide_type": "subslide"
    }
   },
   "source": [
    "## Example - Ancestor Program\n",
    "\n",
    "$ancestor_{i}(X,Y)$ <- $parent(X,Y)$ <br>\n",
    "$ancestor_{i}(X,Y)$ <- $parent(X,Z), ancestor_{i - 1}(Z,Y)$"
   ]
  },
  {
   "cell_type": "markdown",
   "id": "detected-satellite",
   "metadata": {
    "cell_style": "split",
    "slideshow": {
     "slide_type": "fragment"
    }
   },
   "source": [
    "### ancestor_0 (empty table):\n",
    "\n",
    "| Parent | Son |\n",
    "| --- | --- |\n",
    "|     |     |"
   ]
  },
  {
   "cell_type": "markdown",
   "id": "coordinate-scheduling",
   "metadata": {
    "cell_style": "split",
    "slideshow": {
     "slide_type": "fragment"
    }
   },
   "source": [
    "### ancestor_1 (finds parents):\n",
    "\n",
    "\n",
    "| Parent | Son |\n",
    "| --- | --- |\n",
    "| Liam | Noah |\n",
    "| Noah | Oliver |\n",
    "| Oliver | Mason |"
   ]
  },
  {
   "cell_type": "markdown",
   "id": "stretch-arbitration",
   "metadata": {
    "cell_style": "split",
    "slideshow": {
     "slide_type": "subslide"
    }
   },
   "source": [
    "### ancestor_2 (finds grandparents):\n",
    "\n",
    "| Parent | Son |\n",
    "| --- | --- |\n",
    "| Liam | Noah |\n",
    "| Noah | Oliver |\n",
    "| Oliver | Mason |\n",
    "| Liam | Oliver |\n",
    "| Noah | Mason |"
   ]
  },
  {
   "cell_type": "markdown",
   "id": "vanilla-change",
   "metadata": {
    "cell_style": "split",
    "slideshow": {
     "slide_type": "fragment"
    }
   },
   "source": [
    "### ancestor_3 (finds great-grandparents):\n",
    "\n",
    "| Parent | Son |\n",
    "| --- | --- |\n",
    "| Liam | Noah |\n",
    "| Noah | Oliver |\n",
    "| Oliver | Mason |\n",
    "| Liam | Oliver |\n",
    "| Noah | Mason |\n",
    "| Liam | Mason |"
   ]
  },
  {
   "cell_type": "markdown",
   "id": "golden-charm",
   "metadata": {
    "cell_style": "center",
    "slideshow": {
     "slide_type": "subslide"
    }
   },
   "source": [
    "### ancestor_4 (finds great-great-grandparents):\n",
    "\n",
    "| Parent | Son |\n",
    "| --- | --- |\n",
    "| Liam | Noah |\n",
    "| Noah | Oliver |\n",
    "| Oliver | Mason |\n",
    "| Liam | Oliver |\n",
    "| Noah | Mason |\n",
    "| Liam | Mason |\n",
    "\n",
    "## Stop the computation since no tuples were added (fixed point)"
   ]
  },
  {
   "cell_type": "markdown",
   "id": "frozen-johnston",
   "metadata": {
    "slideshow": {
     "slide_type": "slide"
    }
   },
   "source": [
    "## new engine features\n",
    "* remove rules\n",
    "* loggers/debug info\n",
    "* enable union of rules (same head)\n",
    "* print ie functions"
   ]
  },
  {
   "cell_type": "markdown",
   "id": "wanted-female",
   "metadata": {
    "slideshow": {
     "slide_type": "slide"
    }
   },
   "source": [
    "## Tutorials Overview\n",
    "\n",
    "<a href=\"./introduction.ipynb\">introduction</a><br>\n",
    "<a href=\"./Advanced usage.ipynb\">advanced</a>"
   ]
  },
  {
   "cell_type": "markdown",
   "id": "collaborative-concern",
   "metadata": {
    "slideshow": {
     "slide_type": "skip"
    }
   },
   "source": [
    "TODO: add overview between every 2 major slides\n",
    "## Presentation Overview:\n",
    "* Information Extraction Functions\n",
    "* Import-Export Functions\n",
    "* Tests and Typing\n",
    "* Standard Library\n",
    "* Tutorials Examples\n",
    "* **PyDatalog to SQL Engine**:\n",
    "    * **Parse Grpah and Term Grpah**\n",
    "    * **Adding Rules to Trem Graph**\n",
    "    * **SQL Engine**\n",
    "    * **Bottom-Up Execution**\n",
    "\n",
    "link to optimization tutorials\n",
    "show idea from md file and describe how to easily implement it with our interfaces"
   ]
  }
 ],
 "metadata": {
  "celltoolbar": "Slideshow",
  "kernelspec": {
   "display_name": "Python 3",
   "language": "python",
   "name": "python3"
  },
  "language_info": {
   "codemirror_mode": {
    "name": "ipython",
    "version": 3
   },
   "file_extension": ".py",
   "mimetype": "text/x-python",
   "name": "python",
   "nbconvert_exporter": "python",
   "pygments_lexer": "ipython3",
   "version": "3.9.2"
  }
 },
 "nbformat": 4,
 "nbformat_minor": 5
}
