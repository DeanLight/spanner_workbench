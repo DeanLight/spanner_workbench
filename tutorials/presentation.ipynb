{
 "cells": [
  {
   "cell_type": "markdown",
   "metadata": {
    "slideshow": {
     "slide_type": "slide"
    }
   },
   "source": [
    "# Spanner Workbench Presentation\n",
    "\n",
    "### Presenting:\n",
    "| #       |              Name |             Id |             email |\n",
    "|---------|-------------------|----------------|------------------ |\n",
    "|Student 1|  Tom Feldman | 325135960 | tom.p@campus.technion.ac.il |\n",
    "|Student 2|  Niv Shetrit | 316354976 | shniv@campus.technion.ac.il |"
   ]
  },
  {
   "cell_type": "markdown",
   "metadata": {
    "slideshow": {
     "slide_type": "slide"
    }
   },
   "source": [
    "# Information Extraction Functions <a class=\"anchor\" id=\"IEFunctions\"></a>\n",
    "\n",
    "* Client-Server refactoring\n",
    "* Design of `IEFunction` Class"
   ]
  },
  {
   "cell_type": "markdown",
   "metadata": {},
   "source": [
    "## Logical Operators:\n",
    "Suppose we have a table in which each row contains two strings - pair(str, str).\n",
    "Our goal is to filter all the rows that contain the same value twice.\n",
    "<br>\n",
    "In other words, we want to implement the relation **not equals (NEQ)**.\n",
    "\n",
    "We would like to have a rule such as:\n",
    "<br>\n",
    "```unique_pair(X, Y) <- pair(X, Y), X != Y```\n",
    "<br><br>\n",
    "Unfortunately RGXLog doesn't support True/False values. Therefore, we can't use ```X != Y```.\n",
    "<br>\n",
    "Our solution to this problem is to create an ie function that implements NEQ relation:\n",
    "\n",
    "```python\n",
    "def NEQ(x, y):\n",
    "    if x == y:\n",
    "        # return false (empty tuple represents false)\n",
    "        yield tuple() \n",
    "    else:\n",
    "        #return true\n",
    "        yield x, y\n",
    "\n",
    "in_out_types = [DataTypes.string, DataTypes.string]\n",
    "magic_session.register(NEQ, \"NEQ\", in_out_types, in_out_types)\n",
    "```"
   ]
  },
  {
   "cell_type": "markdown",
   "metadata": {
    "slideshow": {
     "slide_type": "slide"
    }
   },
   "source": [
    "# Import-Export Functions <a class=\"anchor\" id=\"Import-Export-Functions\"></a>\n",
    "\n",
    "* import/export a relation from a csv file\n",
    "* import/export a relation from a dataframe\n",
    "* TODO@niv: add example from advanced here"
   ]
  },
  {
   "cell_type": "markdown",
   "metadata": {
    "slideshow": {
     "slide_type": "slide"
    }
   },
   "source": [
    "# Standard Library <a class=\"anchor\" id=\"STDLIB\"></a>\n",
    "\n",
    "* python and rust regex\n",
    "* json path\n",
    "* many nlp functions wrapping StanfordCoreNLP\n",
    "* TODO@tom: add dean's demo example"
   ]
  },
  {
   "cell_type": "markdown",
   "metadata": {
    "slideshow": {
     "slide_type": "slide"
    }
   },
   "source": [
    "# Tests and Typing <a class=\"anchor\" id=\"CI\"></a>\n",
    "\n",
    "* running github actions CI after every push, which includes:\n",
    "    * 63 unique pytest tests\n",
    "    * pep8 test\n",
    "    * mypy test - all functions are type annotated\n",
    "* TODO@niv: add image of successful push"
   ]
  },
  {
   "cell_type": "markdown",
   "metadata": {
    "slideshow": {
     "slide_type": "slide"
    }
   },
   "source": [
    "# PyDatalog to SQL Engine <a class=\"anchor\" id=\"Engine\"></a>\n",
    "\n",
    "* main feature\n",
    "* parse graph and term graph\n",
    "* SQL engine\n",
    "* adding rules to term graph\n",
    "* bottom-up algorithm and execution function"
   ]
  },
  {
   "cell_type": "markdown",
   "metadata": {},
   "source": [
    "## parse and term graph"
   ]
  },
  {
   "cell_type": "markdown",
   "metadata": {},
   "source": [
    "## sql engine"
   ]
  },
  {
   "cell_type": "markdown",
   "metadata": {
    "slideshow": {
     "slide_type": "slide"
    }
   },
   "source": [
    "## rules tree/ dfs/ recursive <a class=\"anchor\" id=\"Recursive-Rules\"></a>\n",
    "\n",
    "* TODO: SQL STUFF"
   ]
  },
  {
   "cell_type": "markdown",
   "metadata": {},
   "source": [
    "## new engine features\n",
    "* remove rules\n",
    "* loggers/debug info\n",
    "* enable union of rules (same head)\n",
    "* print ie functions"
   ]
  },
  {
   "cell_type": "markdown",
   "metadata": {
    "slideshow": {
     "slide_type": "slide"
    }
   },
   "source": [
    "# Tutorials Overview <a class=\"anchor\" id=\"Tutorials\"></a>\n",
    "\n",
    "<a href=\"./introduction.ipynb\">introduction</a><br>\n",
    "<a href=\"./Advanced usage.ipynb\">advanced</a>"
   ]
  },
  {
   "cell_type": "markdown",
   "metadata": {
    "slideshow": {
     "slide_type": "slide"
    }
   },
   "source": [
    "TODO: add overview between every 2 major slides\n",
    "## Presentation Overview:\n",
    "* Information Extraction Functions\n",
    "* Import-Export Functions\n",
    "* Tests and Typing\n",
    "* Standard Library\n",
    "* Tutorials Examples\n",
    "* **PyDatalog to SQL Engine**:\n",
    "    * **Parse Grpah and Term Grpah**\n",
    "    * **Adding Rules to Trem Graph**\n",
    "    * **SQL Engine**\n",
    "    * **Bottom-Up Execution**\n",
    "\n",
    "link to optimization tutorials\n",
    "show idea from md file and describe how to easily implement it with our interfaces"
   ]
  }
 ],
 "metadata": {
  "celltoolbar": "Slideshow",
  "kernelspec": {
   "display_name": "Python 3",
   "language": "python",
   "name": "python3"
  },
  "language_info": {
   "codemirror_mode": {
    "name": "ipython",
    "version": 3
   },
   "file_extension": ".py",
   "mimetype": "text/x-python",
   "name": "python",
   "nbconvert_exporter": "python",
   "pygments_lexer": "ipython3",
   "version": "3.8.6"
  }
 },
 "nbformat": 4,
 "nbformat_minor": 5
}
