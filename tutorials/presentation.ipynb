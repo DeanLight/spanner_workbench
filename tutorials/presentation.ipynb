{
 "cells": [
  {
   "cell_type": "markdown",
   "metadata": {
    "slideshow": {
     "slide_type": "slide"
    }
   },
   "source": [
    "# Spanner Workbench Presentation\n",
    "\n",
    "### Presenting:\n",
    "| #       |              Name |             Id |             email |\n",
    "|---------|-------------------|----------------|------------------ |\n",
    "|Student 1|  Tom Feldman | 325135960 | tom.p@campus.technion.ac.il |\n",
    "|Student 2|  Niv Shetrit | 316354976 | shniv@campus.technion.ac.il |"
   ]
  },
  {
   "cell_type": "markdown",
   "metadata": {
    "slideshow": {
     "slide_type": "notes"
    }
   },
   "source": [
    "# google doc notes: \n",
    "https://docs.google.com/document/d/1zH5byp0EQYoAq2ihWS9AXWQEtcroiZ7oy1z41whT4Sw/edit?usp=sharing"
   ]
  },
  {
   "cell_type": "markdown",
   "metadata": {
    "slideshow": {
     "slide_type": "slide"
    }
   },
   "source": [
    "# RGXlog's Purpose\n",
    "\n",
    "* Incorporating information extraction in the relational database model\n",
    "* Our language will be a framework used by other programmers to implement their own version of Spannerlog\n",
    "* Our implementation is very modular in order to allow others to modify it however they like"
   ]
  },
  {
   "cell_type": "markdown",
   "metadata": {
    "slideshow": {
     "slide_type": "slide"
    }
   },
   "source": [
    "# How RGXlog Looked Like Before Our Changes\n",
    "* the bare-minimum working version of the project\n",
    "* relied heavily on pydatalog, which isn't scalable\n",
    "* adding IE functions was not supported - required modifying the code itself\n",
    "* recursive rules were not supported\n",
    "* no tests at all\n",
    "\n"
   ]
  },
  {
   "cell_type": "markdown",
   "metadata": {
    "slideshow": {
     "slide_type": "notes"
    }
   },
   "source": [
    "# TODO: for every feature, explain why it was needed"
   ]
  },
  {
   "cell_type": "markdown",
   "metadata": {
    "cell_style": "center",
    "slideshow": {
     "slide_type": "slide"
    }
   },
   "source": [
    "# Information Extraction Functions <a class=\"anchor\" id=\"IEFunctions\"></a>\n",
    "\n",
    "* IE-functions are the very essence of RGXLog. It is necessary to let users add them easily and programmatically \n",
    "* Client-Server refactoring\n",
    "* Design of `IEFunction` Class\n",
    "\n",
    "TODO@tom: (in contrast to manually editing the code)"
   ]
  },
  {
   "cell_type": "markdown",
   "metadata": {
    "cell_style": "center",
    "slideshow": {
     "slide_type": "subslide"
    }
   },
   "source": [
    "## Example: Logical Operators:\n",
    "\n",
    "#### Implemention of the **not equals (NEQ)** relation.\n",
    "\n",
    "We would like to have a rule such as:\n",
    "<br>\n",
    "```unique_pair(X, Y) <- pair(X, Y), X != Y```\n",
    "<br><br>\n",
    "Unfortunately RGXLog doesn't support True/False values. Therefore, we can't use ```X != Y```.\n",
    "<br>\n",
    "Our solution to this problem is to create an ie function that implements NEQ relation:"
   ]
  },
  {
   "cell_type": "code",
   "execution_count": 1,
   "metadata": {
    "cell_style": "split",
    "slideshow": {
     "slide_type": "subslide"
    }
   },
   "outputs": [],
   "source": [
    "import rgxlog\n",
    "from rgxlog.engine.datatypes.primitive_types import DataTypes\n",
    "\n",
    "def NEQ(x, y):\n",
    "    if x == y:\n",
    "        # return false (empty tuple represents false)\n",
    "        yield tuple() \n",
    "    else:\n",
    "        #return true\n",
    "        yield x, y\n",
    "\n",
    "in_out_types = [DataTypes.string, DataTypes.string]\n",
    "rgxlog.magic_session.register(ie_function=NEQ, \n",
    "                       ie_function_name=\"NEQ\", \n",
    "                       in_rel=in_out_types, \n",
    "                       out_rel=in_out_types)"
   ]
  },
  {
   "cell_type": "code",
   "execution_count": 2,
   "metadata": {
    "cell_style": "split",
    "slideshow": {
     "slide_type": "fragment"
    }
   },
   "outputs": [
    {
     "name": "stdout",
     "output_type": "stream",
     "text": [
      "printing results for query 'unique_pair(X, Y)':\n",
      "  X  |  Y\n",
      "-----+-----\n",
      " Dan | Tom\n",
      " Cat | Dog\n",
      " 123 | 321\n",
      "\n"
     ]
    }
   ],
   "source": [
    "%%rgxlog\n",
    "new pair(str, str)\n",
    "pair(\"Dan\", \"Tom\")\n",
    "pair(\"Cat\", \"Dog\")\n",
    "pair(\"Apple\", \"Apple\")\n",
    "pair(\"Cow\", \"Cow\")\n",
    "pair(\"123\", \"321\")\n",
    "\n",
    "unique_pair(X, Y) <- pair(First, Second), \\\n",
    "                     NEQ(First, Second) -> (X, Y)\n",
    "?unique_pair(X, Y)"
   ]
  },
  {
   "cell_type": "markdown",
   "metadata": {
    "slideshow": {
     "slide_type": "slide"
    }
   },
   "source": [
    "# Import-Export Functions <a class=\"anchor\" id=\"Import-Export-Functions\"></a>\n",
    "\n",
    "* RGXlog is used as a data extraction/manipulation language, in which people use spreadsheets and dataframes very often\n",
    "* import/export a relation from a csv file\n",
    "* import/export a relation from a dataframe"
   ]
  },
  {
   "cell_type": "code",
   "execution_count": 3,
   "metadata": {
    "slideshow": {
     "slide_type": "subslide"
    }
   },
   "outputs": [
    {
     "name": "stdout",
     "output_type": "stream",
     "text": [
      "abigail,operating_systems\r\n",
      "jordan,chemistry\r\n",
      "gale,operating_systems\r\n",
      "howard,chemistry\r\n",
      "howard,physics\r\n"
     ]
    }
   ],
   "source": [
    "%%bash\n",
    "cat enrolled.csv"
   ]
  },
  {
   "cell_type": "code",
   "execution_count": 4,
   "metadata": {
    "slideshow": {
     "slide_type": "fragment"
    }
   },
   "outputs": [],
   "source": [
    "rgxlog.magic_session.import_relation_from_csv(\"enrolled.csv\", relation_name=\"enrolled\", delimiter=\",\")"
   ]
  },
  {
   "cell_type": "code",
   "execution_count": 5,
   "metadata": {
    "slideshow": {
     "slide_type": "fragment"
    }
   },
   "outputs": [
    {
     "name": "stdout",
     "output_type": "stream",
     "text": [
      "printing results for query 'gpa(X, Y)':\n",
      "    X    |   Y\n",
      "---------+-----\n",
      " abigail | 100\n",
      " jordan  |  80\n",
      "  gale   |  79\n",
      " howard  |  60\n",
      "\n"
     ]
    }
   ],
   "source": [
    "%%rgxlog\n",
    "enrolled(\"abigail\", \"chemistry\")\n",
    "gpa_str = \"abigail 100 jordan 80 gale 79 howard 60\"\n",
    "\n",
    "gpa(Student,Grade) <- py_rgx_string(gpa_str, \"(\\w+).*?(\\d+)\")->(Student, Grade),enrolled(Student,X)\n",
    "\n",
    "?gpa(X,Y)"
   ]
  },
  {
   "cell_type": "markdown",
   "metadata": {
    "cell_style": "center",
    "slideshow": {
     "slide_type": "slide"
    }
   },
   "source": [
    "# Standard Library <a class=\"anchor\" id=\"STDLIB\"></a>\n",
    "\n",
    "* contains implementation of many default IE functions, which users can use as a template to create their own functions\n",
    "* python and rust regex\n",
    "* json path\n",
    "* many nlp functions wrapping StanfordCoreNLP\n",
    "\n",
    "\n",
    "TODO@tom: rust regex shows users how to create IE functions which use unix functions. json/stanford show how to wrap pythonic functions"
   ]
  },
  {
   "cell_type": "markdown",
   "metadata": {
    "cell_style": "center",
    "slideshow": {
     "slide_type": "subslide"
    }
   },
   "source": [
    "## NLP Example - Named Entity Recognition:\n",
    "\n",
    "NER IEFunction Recognizes named entities (person and company names, etc.)\n",
    "\n",
    "First, we register the ie function:\n",
    "\n",
    "```python\n",
    "magic_session.register(ie_function=ner_wrapper,\n",
    "                       ie_function_name='NER',\n",
    "                       in_rel=[DataTypes.string],\n",
    "                       out_rel=[DataTypes.string, DataTypes.string, DataTypes.span])\n",
    "```"
   ]
  },
  {
   "cell_type": "code",
   "execution_count": 6,
   "metadata": {
    "cell_style": "center",
    "slideshow": {
     "slide_type": "subslide"
    }
   },
   "outputs": [],
   "source": [
    "%%rgxlog\n",
    "\n",
    "sentence = \"While in France, Christine Lagarde discussed short-term stimulus  \\\n",
    "            efforts in a recent interview with the Wall Street Journal.\"\n",
    "               \n",
    "ner(Token, NER, Span) <- NER(sentence) -> (Token, NER, Span)\n",
    "# TODO@tom ?ner(Token, NER, Span)"
   ]
  },
  {
   "cell_type": "markdown",
   "metadata": {
    "slideshow": {
     "slide_type": "slide"
    }
   },
   "source": [
    "# Tests, Typing, and documentation <a class=\"anchor\" id=\"CI\"></a>\n",
    "\n",
    "* our codebase has grown significantly over the last iteration, and we want to make sure that it is consistently stable and easy to understand\n",
    "* this is why we are running github actions CI after every push, which include:\n",
    "    * 63 unique pytest tests\n",
    "    * pep8 test\n",
    "    * mypy test - all functions are type annotated\n",
    "    \n",
    "* also, all of our functions are documented according to \n",
    " <a href=\"http://epydoc.sourceforge.net/manual-epytext.html\">the epytext standard</a>, which makes it easy for us to <a href=\"https://pypi.org/project/epydoc/\">export it to html</a>\n",
    "<br><br>\n",
    "* a successful run looks like this:\n",
    "\n",
    "<img src=\"git_workflow.png\" alt=\"workflow\" width=\"600\" height=\"600\" style=\"display: block; margin-left: auto; margin-right: auto; width: 50%;\">"
   ]
  },
  {
   "cell_type": "markdown",
   "metadata": {
    "slideshow": {
     "slide_type": "slide"
    }
   },
   "source": [
    "# PyDatalog to SQL Engine <a class=\"anchor\" id=\"Engine\"></a>\n",
    "\n",
    "* previously, we were heavily dependent on pydatalog, which doesn't enable access to its internal calculations\n",
    "* TODO@tom: add example with the previous engine, explain importance\n",
    "\n",
    "which is why we've implemented our main feature, which contains:\n",
    "* parse graph and term graph\n",
    "* SQL engine\n",
    "* adding rules to term graph\n",
    "* bottom-up algorithm and execution function"
   ]
  },
  {
   "cell_type": "markdown",
   "metadata": {
    "slideshow": {
     "slide_type": "subslide"
    }
   },
   "source": [
    "## parse and term graph\n",
    "\n",
    "we created the data structures which store information for our calculations:\n",
    "* parse graph - stores facts, relation declerations, rule declarations and queries.\n",
    "* term graph - stores connection between all the relations."
   ]
  },
  {
   "cell_type": "code",
   "execution_count": 7,
   "metadata": {
    "cell_style": "center",
    "slideshow": {
     "slide_type": "subslide"
    }
   },
   "outputs": [],
   "source": [
    "from rgxlog import Session\n",
    "\n",
    "rgxlog.magic_session = Session()  # reset session"
   ]
  },
  {
   "cell_type": "code",
   "execution_count": 8,
   "metadata": {
    "cell_style": "center",
    "slideshow": {
     "slide_type": "fragment"
    }
   },
   "outputs": [
    {
     "name": "stdout",
     "output_type": "stream",
     "text": [
      "printing results for query 'ancestor(Parent, Son)':\n",
      "  Parent  |  Son\n",
      "----------+--------\n",
      "   Liam   | Mason\n",
      "   Liam   |  Noah\n",
      "   Liam   | Oliver\n",
      "   Noah   | Mason\n",
      "   Noah   | Oliver\n",
      "  Oliver  | Mason\n",
      "\n"
     ]
    }
   ],
   "source": [
    "%%rgxlog \n",
    "\n",
    "new parent(str, str)\n",
    "parent(\"Liam\", \"Noah\")\n",
    "parent(\"Noah\", \"Oliver\")\n",
    "parent(\"Oliver\", \"Mason\")\n",
    "\n",
    "ancestor(X,Y) <- parent(X,Y)\n",
    "ancestor(X,Y) <- parent(X,Z), ancestor(Z,Y)\n",
    "?ancestor(Parent, Son)"
   ]
  },
  {
   "cell_type": "code",
   "execution_count": 9,
   "metadata": {
    "cell_style": "center",
    "slideshow": {
     "slide_type": "subslide"
    }
   },
   "outputs": [
    {
     "name": "stdout",
     "output_type": "stream",
     "text": [
      "parse graph:\n",
      "(__rgxlog_root) (computed) root\n",
      "    (0) (computed) relation_declaration: parent(str, str)\n",
      "    (1) (computed) add_fact: parent(\"Liam\", \"Noah\")\n",
      "    (2) (computed) add_fact: parent(\"Noah\", \"Oliver\")\n",
      "    (3) (computed) add_fact: parent(\"Oliver\", \"Mason\")\n",
      "    (4) (computed) rule: ancestor(X, Y) <- parent(X, Y)\n",
      "    (5) (computed) rule: ancestor(X, Y) <- parent(X, Z), ancestor(Z, Y)\n",
      "    (6) (computed) query: ancestor(Parent, Son)\n",
      "\n"
     ]
    }
   ],
   "source": [
    "print(f\"parse graph:\\n{rgxlog.magic_session._parse_graph}\")"
   ]
  },
  {
   "cell_type": "code",
   "execution_count": 10,
   "metadata": {
    "slideshow": {
     "slide_type": "subslide"
    }
   },
   "outputs": [
    {
     "name": "stdout",
     "output_type": "stream",
     "text": [
      "term graph:\n",
      "(__rgxlog_root) (not_computed) root\n",
      "    (ancestor) (not_computed) rule_rel: ancestor(X, Y)\n",
      "        (0) (not_computed) union\n",
      "            (1) (not_computed) project: ['X', 'Y']\n",
      "                (2) (not_computed) get_rel: parent(X, Y)\n",
      "            (3) (not_computed) project: ['X', 'Y']\n",
      "                (4) (not_computed) join: {'Y': [(ancestor(Z, Y), 1)], 'Z': [(ancestor(Z, Y), 0), (parent(X, Z), 1)], 'X': [(parent(X, Z), 0)]}\n",
      "                    (5) (not_computed) get_rel: ancestor(Z, Y)\n",
      "                        (ancestor) (not_computed) rule_rel: ancestor(X, Y)\n",
      "                    (6) (not_computed) get_rel: parent(X, Z)\n",
      "\n",
      "DependencyGraph is:\n",
      "__rgxlog_root\n",
      "    ancestor\n",
      "\n"
     ]
    }
   ],
   "source": [
    "print(f\"term graph:\\n{rgxlog.magic_session._term_graph}\")"
   ]
  },
  {
   "cell_type": "markdown",
   "metadata": {
    "slideshow": {
     "slide_type": "subslide"
    }
   },
   "source": [
    "## Adding rules to Term Graph\n",
    "\n",
    "* traverse the parse graph and find new rules\n",
    "* compute a legal execution order of a rule\n",
    "* join all the relations (in the computed order)\n",
    "* project to the relevant variables (```A(X) <- B(X, Y), C(Y, Z)```)\n",
    "* connect to the rule_head node\n",
    "* select from relations if it contains constant term (```A(x) <- B(X,1)```)\n",
    "* calculate ie relations (bounding relations are children)"
   ]
  },
  {
   "cell_type": "markdown",
   "metadata": {
    "slideshow": {
     "slide_type": "subslide"
    }
   },
   "source": [
    "### Execution Order of Rule Example:\n",
    " \n",
    "* ```A(X, Y) <- B(Z) -> (X), C(Y), D(Y, Z)``` isn't safe since the term **Z** in ie relation **B** isn't bounded.\n",
    "* ```A(X, Y) <- C(Y), D(Y, Z), B(Z) -> (X)``` is safe since the term **Z** is bounded by relations **C and D**.\n",
    "\n",
    "* A legal execution oreder is computed using iterative algorithm that finds boinding relations to all of the ie relations."
   ]
  },
  {
   "cell_type": "markdown",
   "metadata": {
    "slideshow": {
     "slide_type": "subslide"
    }
   },
   "source": [
    "## SQL engine\n",
    "* as mentioned before, the old pydatalog implementation was lacking due to a limited interface\n",
    "* in our new implementation, we have direct access to the data, which is stored in SQL tables\n",
    "* each relation is stored in a separate SQL table\n",
    "* rules' outputs are calculated using a chain of SQL operators\n",
    "* thanks to the `Jinja` library, we can use neat SQL templates in our code"
   ]
  },
  {
   "cell_type": "markdown",
   "metadata": {
    "slideshow": {
     "slide_type": "subslide"
    }
   },
   "source": [
    "### SQL engine method implementation example: add_fact"
   ]
  },
  {
   "cell_type": "markdown",
   "metadata": {
    "slideshow": {
     "slide_type": "fragment"
    }
   },
   "source": [
    "```python\n",
    "def add_fact(self, fact: AddFact) -> None:\n",
    "        num_types = len(fact.type_list)\n",
    "        col_names = [f\"{self._get_col_name(i)}\" for i in range(num_types)]\n",
    "        col_values = [self._convert_relation_term_to_string(datatype, term) \n",
    "                      for datatype, term in zip(fact.type_list, fact.term_list)]\n",
    "\n",
    "        template_dict = {\"col_values\": col_values,\n",
    "                         \"fact\": fact, \"col_names\": col_names}\n",
    "```"
   ]
  },
  {
   "cell_type": "markdown",
   "metadata": {
    "slideshow": {
     "slide_type": "fragment"
    }
   },
   "source": [
    "```python\n",
    "sql_template = (\"\"\"\n",
    "        INSERT INTO {{fact.relation_name}} ({{col_names | join(\", \")}})\n",
    "        VALUES ({{col_values | join(\", \")}})\n",
    "        \"\"\")\n",
    "\n",
    "        self._run_sql_from_jinja_template(sql_template, template_dict)\n",
    "```"
   ]
  },
  {
   "cell_type": "markdown",
   "metadata": {
    "slideshow": {
     "slide_type": "subslide"
    }
   },
   "source": [
    "## Execution Function\n",
    "\n",
    "* Implements a naive bottom-up alogrithm:\n",
    "    * reset all the mutually recursive relations\n",
    "    * traverse the term graph and update all the mutually recursive relations based on the previous step\n",
    "    * stop when all the mutually recursive relations converged at the same step.\n",
    "* uses the SQL engine"
   ]
  },
  {
   "cell_type": "markdown",
   "metadata": {
    "slideshow": {
     "slide_type": "subslide"
    }
   },
   "source": [
    "## Example - Ancestor Program\n",
    "\n",
    "$ancestor_{i}(X,Y)$ <- $parent(X,Y)$ <br>\n",
    "$ancestor_{i}(X,Y)$ <- $parent(X,Z), ancestor_{i - 1}(Z,Y)$"
   ]
  },
  {
   "cell_type": "markdown",
   "metadata": {
    "cell_style": "split",
    "slideshow": {
     "slide_type": "fragment"
    }
   },
   "source": [
    "### ancestor_0 (empty table):\n",
    "\n",
    "| Parent | Son |\n",
    "| --- | --- |\n",
    "|     |     |"
   ]
  },
  {
   "cell_type": "markdown",
   "metadata": {
    "cell_style": "split",
    "slideshow": {
     "slide_type": "fragment"
    }
   },
   "source": [
    "### ancestor_1 (finds parents):\n",
    "\n",
    "\n",
    "| Parent | Son |\n",
    "| --- | --- |\n",
    "| Liam | Noah |\n",
    "| Noah | Oliver |\n",
    "| Oliver | Mason |"
   ]
  },
  {
   "cell_type": "markdown",
   "metadata": {
    "cell_style": "split",
    "slideshow": {
     "slide_type": "subslide"
    }
   },
   "source": [
    "### ancestor_2 (finds grandparents):\n",
    "\n",
    "| Parent | Son |\n",
    "| --- | --- |\n",
    "| Liam | Noah |\n",
    "| Noah | Oliver |\n",
    "| Oliver | Mason |\n",
    "| Liam | Oliver |\n",
    "| Noah | Mason |"
   ]
  },
  {
   "cell_type": "markdown",
   "metadata": {
    "cell_style": "split",
    "slideshow": {
     "slide_type": "fragment"
    }
   },
   "source": [
    "### ancestor_3 (finds great-grandparents):\n",
    "\n",
    "| Parent | Son |\n",
    "| --- | --- |\n",
    "| Liam | Noah |\n",
    "| Noah | Oliver |\n",
    "| Oliver | Mason |\n",
    "| Liam | Oliver |\n",
    "| Noah | Mason |\n",
    "| Liam | Mason |"
   ]
  },
  {
   "cell_type": "markdown",
   "metadata": {
    "cell_style": "center",
    "slideshow": {
     "slide_type": "subslide"
    }
   },
   "source": [
    "### ancestor_4 (finds great-great-grandparents):\n",
    "\n",
    "| Parent | Son |\n",
    "| --- | --- |\n",
    "| Liam | Noah |\n",
    "| Noah | Oliver |\n",
    "| Oliver | Mason |\n",
    "| Liam | Oliver |\n",
    "| Noah | Mason |\n",
    "| Liam | Mason |\n",
    "\n",
    "## The computation is stopped since no tuples were added (fixed point reached)"
   ]
  },
  {
   "cell_type": "markdown",
   "metadata": {
    "slideshow": {
     "slide_type": "slide"
    }
   },
   "source": [
    "## new engine features\n",
    "we've also added tools which are useful for both users and developers:\n",
    "* remove rules - `session.remove_rule`\n",
    "* loggers/debug info\n",
    "* enable union of rules (same head)\n",
    "```\n",
    "ancestor(X,Y) <- parent(X,Y)\n",
    "ancestor(X,Y) <- parent(X,Z), ancestor(Z,Y)\n",
    "```\n",
    "* print rules and ie functions - `session.print_all_rules`, `session.print_registered_ie_functions`"
   ]
  },
  {
   "cell_type": "markdown",
   "metadata": {
    "slideshow": {
     "slide_type": "slide"
    }
   },
   "source": [
    "## Tutorials Overview\n",
    "\n",
    "<a href=\"./introduction.ipynb\">introduction</a><br>\n",
    "<a href=\"./Advanced usage.ipynb\">advanced</a>"
   ]
  },
  {
   "cell_type": "markdown",
   "metadata": {
    "slideshow": {
     "slide_type": "skip"
    }
   },
   "source": [
    "TODO: add overview between every 2 major slides\n",
    "## Presentation Overview:\n",
    "* Information Extraction Functions\n",
    "* Import-Export Functions\n",
    "* Tests and Typing\n",
    "* Standard Library\n",
    "* Tutorials Examples\n",
    "* **PyDatalog to SQL Engine**:\n",
    "    * **Parse Grpah and Term Graph**\n",
    "    * **Adding Rules to Trem Graph**\n",
    "    * **SQL Engine**\n",
    "    * **Bottom-Up Execution**\n",
    "\n",
    "link to optimization tutorials\n",
    "show idea from md file and describe how to easily implement it with our interfaces"
   ]
  }
 ],
 "metadata": {
  "celltoolbar": "Slideshow",
  "kernelspec": {
   "display_name": "Python 3",
   "language": "python",
   "name": "python3"
  },
  "language_info": {
   "codemirror_mode": {
    "name": "ipython",
    "version": 3
   },
   "file_extension": ".py",
   "mimetype": "text/x-python",
   "name": "python",
   "nbconvert_exporter": "python",
   "pygments_lexer": "ipython3",
   "version": "3.8.6"
  }
 },
 "nbformat": 4,
 "nbformat_minor": 5
}
