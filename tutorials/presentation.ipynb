{
 "cells": [
  {
   "cell_type": "markdown",
   "metadata": {
    "slideshow": {
     "slide_type": "slide"
    }
   },
   "source": [
    "# Spanner Workbench Presentation\n",
    "\n",
    "### Presenting:\n",
    "| #       |              Name |             Id |             email |\n",
    "|---------|-------------------|----------------|------------------ |\n",
    "|Student 1|  Tom Feldman | 325135960 | tom.p@campus.technion.ac.il |\n",
    "|Student 2|  Niv Shetrit | 316354976 | shniv@campus.technion.ac.il |"
   ]
  },
  {
   "cell_type": "markdown",
   "metadata": {
    "slideshow": {
     "slide_type": "slide"
    }
   },
   "source": [
    "## Presentation Overview:\n",
    "* <u>**Information Extraction Functions**\n",
    "* Import-Export Functions\n",
    "* Recursive Rules\n",
    "* Tests and Typing\n",
    "* Standard Library\n",
    "* Tutorials Examples\n",
    "* PyDatalog to SQL Engine\n",
    "* Optimization Examples"
   ]
  },
  {
   "cell_type": "markdown",
   "metadata": {
    "slideshow": {
     "slide_type": "slide"
    }
   },
   "source": [
    "# Information Extraction Functions <a class=\"anchor\" id=\"IEFunctions\"></a>\n",
    "\n",
    "* Client-Server refactoring\n",
    "* Design of IEfunctions Class\n",
    "* Easy registration of IEFunctions"
   ]
  },
  {
   "cell_type": "markdown",
   "metadata": {
    "slideshow": {
     "slide_type": "slide"
    }
   },
   "source": [
    "## Presentation Overview:\n",
    "* Information Extraction Functions\n",
    "* <u>**Import-Export Functions**\n",
    "* Recursive Rules\n",
    "* Tests and Typing\n",
    "* Standard Library\n",
    "* Tutorials Examples\n",
    "* PyDatalog to SQL Engine\n",
    "* Optimization Examples"
   ]
  },
  {
   "cell_type": "markdown",
   "metadata": {
    "slideshow": {
     "slide_type": "slide"
    }
   },
   "source": [
    "# Import-Export Functions <a class=\"anchor\" id=\"Import-Export-Functions\"></a>\n",
    "\n",
    "* import/export a relation from a csv file\n",
    "* import/export a relation from a dataframe"
   ]
  },
  {
   "cell_type": "markdown",
   "metadata": {
    "slideshow": {
     "slide_type": "slide"
    }
   },
   "source": [
    "## Presentation Overview:\n",
    "* Information Extraction Functions\n",
    "* Import-Export Functions\n",
    "* **Recursive Rules**\n",
    "* Tests and Typing\n",
    "* Standard Library\n",
    "* Tutorials Examples\n",
    "* PyDatalog to SQL Engine\n",
    "* Optimization Examples"
   ]
  },
  {
   "cell_type": "markdown",
   "metadata": {
    "slideshow": {
     "slide_type": "slide"
    }
   },
   "source": [
    "# Recursive Rules <a class=\"anchor\" id=\"Recursive-Rules\"></a>\n",
    "\n",
    "* Registration of multiple rule with same head\n",
    "* Recursion is delegated to pydatalog\n",
    "* show ancestor exmaple"
   ]
  },
  {
   "cell_type": "markdown",
   "metadata": {
    "slideshow": {
     "slide_type": "slide"
    }
   },
   "source": [
    "## Presentation Overview:\n",
    "* Information Extraction Functions\n",
    "* Import-Export Functions\n",
    "* Recursive Rules\n",
    "* **Tests and Typing**\n",
    "* Standard Library\n",
    "* Tutorials Examples\n",
    "* PyDatalog to SQL Engine\n",
    "* Optimization Examples"
   ]
  },
  {
   "cell_type": "markdown",
   "metadata": {
    "slideshow": {
     "slide_type": "slide"
    }
   },
   "source": [
    "# Tests and Typing <a class=\"anchor\" id=\"CI\"></a>\n",
    "\n",
    "* running github actions CI after every push, which includes:\n",
    "    * 63 unique pytest tests\n",
    "    * pep8 test\n",
    "    * mypy test - all functions are type annotated"
   ]
  },
  {
   "cell_type": "markdown",
   "metadata": {
    "slideshow": {
     "slide_type": "slide"
    }
   },
   "source": [
    "## Presentation Overview:\n",
    "* Information Extraction Functions\n",
    "* Import-Export Functions\n",
    "* Recursive Rules\n",
    "* Tests and Typing\n",
    "* **Standard Library**\n",
    "* Tutorials Examples\n",
    "* PyDatalog to SQL Engine\n",
    "* Optimization Examples"
   ]
  },
  {
   "cell_type": "markdown",
   "metadata": {
    "slideshow": {
     "slide_type": "slide"
    }
   },
   "source": [
    "# Standard Library <a class=\"anchor\" id=\"STDLIB\"></a>\n",
    "\n",
    "* python and rust regex\n",
    "* json path\n",
    "* many nlp functions wrapping StanfordCoreNLP"
   ]
  },
  {
   "cell_type": "markdown",
   "metadata": {
    "slideshow": {
     "slide_type": "slide"
    }
   },
   "source": [
    "## Presentation Overview:\n",
    "* Information Extraction Functions\n",
    "* Import-Export Functions\n",
    "* Recursive Rules\n",
    "* Tests and Typing\n",
    "* Standard Library\n",
    "* **Tutorials Examples**\n",
    "* PyDatalog to SQL Engine\n",
    "* Optimization Examples"
   ]
  },
  {
   "cell_type": "markdown",
   "metadata": {
    "slideshow": {
     "slide_type": "slide"
    }
   },
   "source": [
    "# Tutorials Overview <a class=\"anchor\" id=\"Tutorials\"></a>\n",
    "\n",
    "<a href=\"./introduction.ipynb\">introduction</a><br>\n",
    "<a href=\"./Advanced usage.ipynb\">advanced</a>"
   ]
  },
  {
   "cell_type": "markdown",
   "metadata": {
    "slideshow": {
     "slide_type": "slide"
    }
   },
   "source": [
    "## Presentation Overview:\n",
    "* Information Extraction Functions\n",
    "* Import-Export Functions\n",
    "* Recursive Rules\n",
    "* Tests and Typing\n",
    "* Standard Library\n",
    "* Tutorials Examples\n",
    "* **PyDatalog to SQL Engine**\n",
    "    * **Parse Grpah and Term Grpah**\n",
    "    * **Adding Rules to Trem Graph**\n",
    "    * **SQL Engine**\n",
    "    * **Bottom-Up Execution**\n",
    "* Optimization Examples"
   ]
  },
  {
   "cell_type": "markdown",
   "metadata": {
    "slideshow": {
     "slide_type": "slide"
    }
   },
   "source": [
    "# PyDatalog to SQL Engine <a class=\"anchor\" id=\"Engine\"></a>\n",
    "\n",
    "* main feature\n",
    "* parse graph and term graph\n",
    "* SQL engine\n",
    "* adding rules to term grpah\n",
    "* bottom-up algorithm and execution function"
   ]
  },
  {
   "cell_type": "markdown",
   "metadata": {
    "slideshow": {
     "slide_type": "slide"
    }
   },
   "source": [
    "## Presentation Overview:\n",
    "* Information Extraction Functions\n",
    "* Import-Export Functions\n",
    "* Recursive Rules\n",
    "* Tests and Typing\n",
    "* Standard Library\n",
    "* Tutorials Examples\n",
    "* PyDatalog to SQL Engine\n",
    "* **Optimization Examples**"
   ]
  },
  {
   "cell_type": "markdown",
   "metadata": {
    "slideshow": {
     "slide_type": "slide"
    }
   },
   "source": [
    "# Optimization Examples <a class=\"anchor\" id=\"Optimization\"></a>\n",
    "\n",
    "* link to optimization tutorials\n",
    "* show idea from md file and describe how to easily implement it with our interfaces"
   ]
  },
  {
   "cell_type": "markdown",
   "metadata": {
    "slideshow": {
     "slide_type": "skip"
    }
   },
   "source": [
    "#### Loggers?\n",
    "#### features: printing ie functions, printing rules, removing rules\n",
    "## Presentation Overview:\n",
    "* [Information Extraction Functions](#IEFunctions)\n",
    "* [Import-Export Functions](#Import-Export-Functions)\n",
    "* [Recursive Rules](#Recursive-Rules)\n",
    "* [Tests and Typing](#CI)\n",
    "* [Standard Library](#STDLIB)\n",
    "* [Tutorials Examples](#Tutorials)\n",
    "* [PyDatalog to SQL Engine](#Engine)\n",
    "* [Optimization Examples](#Optimization)"
   ]
  },
  {
   "cell_type": "code",
   "execution_count": null,
   "metadata": {},
   "outputs": [],
   "source": []
  }
 ],
 "metadata": {
  "celltoolbar": "Slideshow",
  "kernelspec": {
   "display_name": "Python 3",
   "language": "python",
   "name": "python3"
  },
  "language_info": {
   "codemirror_mode": {
    "name": "ipython",
    "version": 3
   },
   "file_extension": ".py",
   "mimetype": "text/x-python",
   "name": "python",
   "nbconvert_exporter": "python",
   "pygments_lexer": "ipython3",
   "version": "3.8.6"
  }
 },
 "nbformat": 4,
 "nbformat_minor": 5
}
