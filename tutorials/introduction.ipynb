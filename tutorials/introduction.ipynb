{
 "cells": [
  {
   "cell_type": "markdown",
   "metadata": {},
   "source": [
    "# Spanner Workbench Introduction\n",
    "In this tutorial you will learn the basics of spanner workbench:\n",
    "* how to import and use RGXlog\n",
    "* variable assignment\n",
    "* reading from a file\n",
    "* declaring a relation\n",
    "* adding facts\n",
    "* adding rules\n",
    "* queries\n",
    "* using RGXlog's primitive information extractor: functional regex formulas\n",
    "* using custom information extractors\n",
    "\n",
    "At the end of this tutorial there is also an example for a small RGXlog program."
   ]
  },
  {
   "cell_type": "markdown",
   "metadata": {},
   "source": [
    "# Using RGXlog\n",
    "In order to use RGXlog, you must first import it:"
   ]
  },
  {
   "cell_type": "code",
   "execution_count": null,
   "metadata": {},
   "outputs": [],
   "source": [
    "import rgxlog"
   ]
  },
  {
   "cell_type": "markdown",
   "metadata": {
    "pycharm": {
     "name": "#%% md\n"
    }
   },
   "source": [
    "Now whenever you want to a cell to use RGXlog, simply type '%%spanner' at the beginning\n",
    "of that cell. For example:"
   ]
  },
  {
   "cell_type": "code",
   "execution_count": null,
   "metadata": {},
   "outputs": [],
   "source": [
    "%%spanner\n",
    "parent(\"bob\", \"greg\")"
   ]
  },
  {
   "cell_type": "markdown",
   "metadata": {
    "pycharm": {
     "name": "#%% md\n"
    }
   },
   "source": [
    "# Variable assignment\n",
    "RGXlog allows you to use two types of variables: strings and spans.\n",
    "The assignment of a string is intuitive:"
   ]
  },
  {
   "cell_type": "code",
   "execution_count": null,
   "metadata": {
    "pycharm": {
     "name": "#%%\n"
    }
   },
   "outputs": [],
   "source": [
    "%%spanner\n",
    "b = \"bob\"\n",
    "b2 = b # b2's value is \"bob\"\n",
    "# you can write multiline strings using brackets\n",
    "b3 = (\"this is a multiline \"\n",
    "\"string\")\n",
    "b4 = \"this is a multiline string\" # b4 holds the same value as b3"
   ]
  },
  {
   "cell_type": "markdown",
   "metadata": {},
   "source": [
    " A span identifies a substring of a string by specifying its bounding indices. It is constructed from two integers.\n",
    " You can assign a span value like this:"
   ]
  },
  {
   "cell_type": "code",
   "execution_count": null,
   "metadata": {},
   "outputs": [],
   "source": [
    "%%spanner\n",
    "span1 = [3,7)\n",
    "span2 = span1 # span2 value is [1,2)"
   ]
  },
  {
   "cell_type": "markdown",
   "metadata": {},
   "source": [
    "# Reading from a file\n",
    "You can also perform a string assignment by reading from a file. You will need to provide a path to a file by either using a string literal or a string variable:"
   ]
  },
  {
   "cell_type": "code",
   "execution_count": null,
   "metadata": {},
   "outputs": [],
   "source": [
    "%%spanner\n",
    "a = read(\"path/to/file\")\n",
    "b = \"path/to/file\" \n",
    "c = read(b) # c holds the same string value as a"
   ]
  },
  {
   "cell_type": "markdown",
   "metadata": {},
   "source": [
    "# Derclaring a relation\n",
    "RGXlog allows you to define and query relations.\n",
    "You have to declare a relation before you can use it (TBD if rule heads should be declared). Each term in a relation could be a string or a span. Here are some examples for declaring relations:"
   ]
  },
  {
   "cell_type": "code",
   "execution_count": null,
   "metadata": {},
   "outputs": [],
   "source": [
    "%%spanner\n",
    "# 'brothers' is a relation with two string terms.\n",
    "new brothers(str, str)\n",
    "# 'confused' is a relation with one string term.\n",
    "new confused(str)\n",
    "# 'verb' is a relation with one string term, and one span term \n",
    "new verb(str, spn)"
   ]
  },
  {
   "cell_type": "markdown",
   "metadata": {},
   "source": [
    "# Facts\n",
    "RGXlog is an extension of Datalog, a declarative logic programming language. In Datalog you can declare \"facts\", essentially adding tuples to a relation. Here's how to do it in RGXlog:"
   ]
  },
  {
   "cell_type": "code",
   "execution_count": null,
   "metadata": {},
   "outputs": [],
   "source": [
    "%%spanner\n",
    "# first declare the relation that you want to use\n",
    "new noun(str, spn)\n",
    "# now you can add facts (tuples) to that relation\n",
    "# this span indicates that a noun \"Life\" can be found at indexes 0 to 3\n",
    "noun(\"Life finds a way\", [0,4)) \n",
    "# another example\n",
    "new sisters(str, str)\n",
    "sisters(\"alice\", \"rin\")                          "
   ]
  },
  {
   "cell_type": "markdown",
   "metadata": {},
   "source": [
    "# Rules\n",
    "Datalog allows you to deduce new tuples for a relation.\n",
    "RGXlog includes this feature as well:"
   ]
  },
  {
   "cell_type": "code",
   "execution_count": null,
   "metadata": {},
   "outputs": [],
   "source": [
    "%%spanner\n",
    "new parent(str ,str)\n",
    "parent(\"bob\", \"greg\")\n",
    "parent(\"greg\", \"alice\")\n",
    "# now add a rule that deduce that bob is a grandparent of alice\n",
    "grandparent(x,z) <- paren(x,y), parent(y,z) # ',' is similar to the 'and' operator"
   ]
  },
  {
   "cell_type": "markdown",
   "metadata": {},
   "source": [
    "# Queries\n",
    "Querying is very simple in RGXlog. You can query by using string literals, span literals and capture variables:"
   ]
  },
  {
   "cell_type": "code",
   "execution_count": null,
   "metadata": {},
   "outputs": [],
   "source": [
    "%%spanner\n",
    "# first create a relation with some facts for the example\n",
    "new grandfather(str, str)\n",
    "# bob and george are the grandfathers of alice and rin\n",
    "grandfather(\"bob\", \"alice\")\n",
    "grandfather(\"bob\", \"rin\")\n",
    "grandfather(\"george\", \"alice\")\n",
    "grandfather(\"george\", \"rin\")\n",
    "# edward is the grandfather of john\n",
    "grandfather(\"edward\", \"john\")\n",
    "# now for the queries\n",
    "?grandfather(\"bob\", \"alice\") # returns (\"bob\", \"alice\") as alice is bob's grandchild\n",
    "?grandfather(\"edward\", \"alice\") # returns nothing as alice is not edward's grandchild\n",
    "?grandfather(\"george\", x) # returns [(\"george\", \"alice\"), (\"george\", \"rin\")] as both rin\n",
    "# and alice are george's grandchildren\n",
    "?grandfather(x, \"rin\") # returns [(\"bob\", \"rin\"), (\"george\", \"rin\")] (rin's grandfathers)"
   ]
  },
  {
   "cell_type": "markdown",
   "metadata": {
    "pycharm": {
     "name": "#%% md\n"
    }
   },
   "source": [
    "# Functional regex formulas\n",
    "RGXlog supports information extraction using a regular expressions and named capture groups (for now in rule bodies only).\n",
    "You will first need to define a string variable either by using a literal or a load from a file, and then you can use the following syntax in a rule body:\n",
    "\n",
    "extract RGX<f>(x_1, x_2, ...,x_n) from s\n",
    "\n",
    "where:\n",
    "* f is a string (TBD if we add regex to the grammar) that repressents regular expression in .NET syntax\n",
    "* x_1, x_2, ... x_n are capture groups that will appear in the regular expression.\n",
    "* s is the string variable where the information will be extracted from.\n",
    "    \n",
    "For example:"
   ]
  },
  {
   "cell_type": "code",
   "execution_count": null,
   "metadata": {
    "pycharm": {
     "name": "#%%\n"
    }
   },
   "outputs": [],
   "source": [
    "%%spanner\n",
    "report = \"In 2019 we earned 2000 EUR\"\n",
    "annual_earning(year,amount) <- extract RGX<\".*(?<year>\\d\\d\\d\\d).*(?<amount>\\d+)\\sEUR\">\n",
    "(year, amount) from report\n",
    "?annual_earning(x,y) # returns (\"2019\", 2000)"
   ]
  },
  {
   "cell_type": "markdown",
   "metadata": {
    "pycharm": {
     "name": "#%% md\n"
    }
   },
   "source": [
    "# Custom information extractors\n",
    "RGXlog allows you to define and use your own information extractors. You can use them only in rule bodies (TBD). The following is the syntax for custom information extractors:\n",
    "\n",
    "func\\<s>(x_1, x_2, ..., x_n)\n",
    "\n",
    "where:\n",
    "* func is a IE function that was previously defined (TBD where it was defined)     \n",
    "* s is a string, a parameter to the function\n",
    "* x_1, ... x_n are the return values from the function\n",
    "\n",
    "For example:"
   ]
  },
  {
   "cell_type": "code",
   "execution_count": null,
   "metadata": {},
   "outputs": [],
   "source": [
    "%%spanner\n",
    "new grandmother(str, str)\n",
    "grandmother(\"rin\", \"alice\")\n",
    "grandmother(\"denna\", \"joel\")\n",
    "sentence = \"rin is happy, denna is sad.\"\n",
    "happy_grandmother(x) <- grandmother(x,z),get_happy<sentence>(x)\n",
    "?happy_grandmother(x) # assuming get_happy returned \"rin\", also returns \"rin\"\n",
    "# TBD: should it return spans instead?"
   ]
  },
  {
   "cell_type": "markdown",
   "metadata": {
    "pycharm": {
     "name": "#%% md\n"
    }
   },
   "source": [
    "# RGXlog program example"
   ]
  },
  {
   "cell_type": "code",
   "execution_count": null,
   "metadata": {},
   "outputs": [],
   "source": [
    "%%spanner\n",
    "new lecturer(str, str)\n",
    "lecturer(\"walter\", \"chemistry\")\n",
    "lecturer(\"linus\", \"operation systems\")\n",
    "lecturer(\"rick\", \"physics\")\n",
    "\n",
    "new enrolled(str, str)\n",
    "enrolled(\"abigail\", \"chemistry\")\n",
    "enrolled(\"abigail\", \"operation systems\")\n",
    "enrolled(\"jordan\", \"chemistry\")\n",
    "enrolled(\"gale\", \"operation systems\")\n",
    "enrolled(\"howard\", \"chemistry\")\n",
    "enrolled(\"howard\", \"physics\")\n",
    "\n",
    "enrolled_in_chemistry(x) <- enrolled(x, \"chemistry\")\n",
    "?enrolled_in_chemistry(\"jordan\") # returns \"jordan\"\n",
    "?enrolled_in_chemistry(\"gale\") # returns nothing\n",
    "?enrolled_in_chemistry(x) # returns \"abigail\", \"jordan\" and \"howard\"\n",
    "\n",
    "enrolled_in_physics_and_chemistry(x) <- enrolled(x, \"chemistry\"), enrolled(x, \"physics\")\n",
    "?enrolled_in_physics_and_chemistry(x) # returns \"howard\"\n",
    "\n",
    "lecturer_of(x,z) <- lecturer(x, y), enrolled(z, y)\n",
    "?lecturer_of(x,\"abigail\") # returns (\"walter\", \"abigail\"), (\"linus\", \"abigail\")\n",
    "\n",
    "gpa_str = \"\\n abigail 100\\n jordan 80\\n gale 79\\n howard 60\\n\"\n",
    "gpa_of_chemistry_students(student, grade) <- extract \n",
    "RGX<\".*[\\n](?<student>[a-z]+).*(?<grade>\\d+).*[\\n]\">(student, grade) from gpa_str,\n",
    "enrolled_in_chemistry(student)\n",
    "?gpa_of_chemistry_students(x, \"100\") # returns (\"abigail\", \"100\")"
   ]
  }
 ],
 "metadata": {
  "kernelspec": {
   "display_name": "Python 3",
   "language": "python",
   "name": "python3"
  },
  "language_info": {
   "codemirror_mode": {
    "name": "ipython",
    "version": 3
   },
   "file_extension": ".py",
   "mimetype": "text/x-python",
   "name": "python",
   "nbconvert_exporter": "python",
   "pygments_lexer": "ipython3",
   "version": "3.7.0"
  }
 },
 "nbformat": 4,
 "nbformat_minor": 4
}
