{
 "cells": [
  {
   "cell_type": "markdown",
   "metadata": {},
   "source": [
    "# Spanner Workbench Introduction\n",
    "In this tutorial you will learn the basics of spanner workbench:\n",
    "* [how to install, import and use RGXLog](#use_rgxlog)\n",
    "* [local and free variables](#local_and_free_vars)\n",
    "* [local variable assignment](#local_var_assignment)\n",
    "* [reading from a file](#read_a_file)\n",
    "* [declaring a relation](#declare_relations)\n",
    "* [adding facts](#facts)\n",
    "* [adding rules](#rules)\n",
    "* [queries](#queries)\n",
    "* [using RGXLog's primitive information extractor: functional regex formulas](#RGX_ie)\n",
    "* [using custom information extractors](#custom_ie)\n",
    "* [additional small features](#small_features)\n",
    "\n",
    "At the end of this tutorial there is also an [example for a small RGXLog program.](#example_program)"
   ]
  },
  {
   "cell_type": "markdown",
   "metadata": {},
   "source": [
    "# Using RGXLog<a class=\"anchor\" id=\"use_rgxlog\"></a>"
   ]
  },
  {
   "cell_type": "markdown",
   "metadata": {},
   "source": [
    "### Installation"
   ]
  },
  {
   "cell_type": "markdown",
   "metadata": {
    "pycharm": {
     "name": "#%% md\n"
    }
   },
   "source": [
    "prerequisites:\n",
    "\n",
    "* Have [Python](https://www.python.org/downloads/) version 3.8 or above installed\n",
    "\n",
    "To download and install RGXLog run the following command in your terminal:\n",
    "\n",
    "```bash\n",
    "git clone https://github.com/DeanLight/spanner_workbench\n",
    "cd spanner_workbench\n",
    "\n",
    "pip install src/rgxlog-interpreter \n",
    "\n",
    "```\n",
    "Make sure you are calling the pip version of your current python environment.\n",
    "To install with another python interpreter, run\n",
    "\n",
    "```bash\n",
    "\n",
    "<path_to_python_interpreter> -m pip install  src/rgxlog-interpreter\n",
    "\n",
    "```\n",
    "You can also install RGXLog in the current Jupyter kernel:"
   ]
  },
  {
   "cell_type": "code",
   "execution_count": null,
   "metadata": {
    "pycharm": {
     "name": "#%%\n"
    }
   },
   "outputs": [],
   "source": [
    "import sys\n",
    "from pathlib import Path\n",
    "current_python=f\"{sys.executable}\"\n",
    "package_path=Path(\"../src/rgxlog-interpreter\")\n"
   ]
  },
  {
   "cell_type": "code",
   "execution_count": null,
   "metadata": {},
   "outputs": [],
   "source": [
    "! {current_python} -m pip install {package_path}"
   ]
  },
  {
   "cell_type": "markdown",
   "metadata": {
    "pycharm": {
     "name": "#%% md\n"
    }
   },
   "source": [
    "In order to use RGXLog in jupyter notebooks, you must first import it:\n"
   ]
  },
  {
   "cell_type": "code",
   "execution_count": null,
   "metadata": {},
   "outputs": [],
   "source": [
    "import rgxlog"
   ]
  },
  {
   "cell_type": "markdown",
   "metadata": {},
   "source": [
    "Importing the RGXLog library automatically loads the `%%spanner` cell magic which accepts RGXLog queries as shown below.\n"
   ]
  },
  {
   "cell_type": "code",
   "execution_count": null,
   "metadata": {
    "pycharm": {
     "name": "#%%\n"
    }
   },
   "outputs": [],
   "source": [
    "%%spanner\n",
    "new uncle(str, str)\n",
    "uncle(\"bob\", \"greg\")\n",
    "?uncle(X,Y)"
   ]
  },
  {
   "cell_type": "markdown",
   "metadata": {
    "pycharm": {
     "name": "#%% md\n"
    }
   },
   "source": [
    "# Local and free variables<a class=\"anchor\" id=\"local_and_free_vars\"></a>\n",
    "\n",
    "RGXLog distinguishes two kinds of variables.\n",
    "\n",
    "The first kind are local variables. These are variables that store a single value (e.g. string). They work similarly to variables in python. A local variable must be defined via assignment before being used.\n",
    "\n",
    "A local variable name must begin with a lowercase letter or with an underscore (_), and can be continued with letters, digits and underscores\n",
    "\n",
    "Here are some examples for legal local variable names:\n",
    "* `a`\n",
    "* `a_name123`\n",
    "* `_Some_STRING`\n",
    "\n",
    "And here are some illegal local variable names:\n",
    "* `A`\n",
    "* `A_name`\n",
    "* `1_a`\n",
    "\n",
    "\n",
    "The second kind of variables are free variables. Free variables do not hold any value and are used to define relations inside [queries](#queries) and [rules](#rules). Free variables do not need to be declared or defined before being used.\n",
    "\n",
    "A free variable name must begin with an uppercase letter and can be continued with letters, digits and underscores\n",
    "\n",
    "Here are some examples for legal free variable names:\n",
    "* `A`\n",
    "* `A_name`\n",
    "\n",
    "And here are some illegal free variable names:\n",
    "* `a`\n",
    "* `a_name`\n",
    "* `_Some_STRING`\n",
    "* `1A`\n"
   ]
  },
  {
   "cell_type": "markdown",
   "metadata": {},
   "source": [
    "# Local variable assignment<a class=\"anchor\" id=\"local_var_assignment\"></a>\n",
    "RGXLog allows you to use three types of variables: strings, integers and spans.\n",
    "The assignment of a string is intuitive:"
   ]
  },
  {
   "cell_type": "code",
   "execution_count": null,
   "metadata": {},
   "outputs": [],
   "source": [
    "%%spanner\n",
    "b = \"bob\"\n",
    "b2 = b # b2's value is \"bob\"\n",
    "# you can write multiline strings using a line overflow escape like in python\n",
    "b3 = \"this is a multiline  \\\n",
    "string\"\n",
    "b4 = \"this is a multiline string\" # b4 holds the same value as b3"
   ]
  },
  {
   "cell_type": "markdown",
   "metadata": {},
   "source": [
    "The assignment of integers is also very simple:"
   ]
  },
  {
   "cell_type": "code",
   "execution_count": null,
   "metadata": {},
   "outputs": [],
   "source": [
    "%%spanner\n",
    "n = 4\n",
    "n2 = n # n2 = 4"
   ]
  },
  {
   "cell_type": "markdown",
   "metadata": {},
   "source": [
    " A span identifies a substring of a string by specifying its bounding indices. It is constructed from two integers.\n",
    " You can assign a span value like this:"
   ]
  },
  {
   "cell_type": "code",
   "execution_count": null,
   "metadata": {},
   "outputs": [],
   "source": [
    "%%spanner\n",
    "span1 = [3,7)\n",
    "span2 = span1 # span2 value is [3,7)"
   ]
  },
  {
   "cell_type": "markdown",
   "metadata": {},
   "source": [
    "# Reading from a file<a class=\"anchor\" id=\"read_a_file\"></a>\n",
    "You can also perform a string assignment by reading from a file. You will need to provide a path to a file by either using a string literal or a string variable:"
   ]
  },
  {
   "cell_type": "code",
   "execution_count": null,
   "metadata": {},
   "outputs": [],
   "source": [
    "%%spanner\n",
    "a = read(\"path/to/file\")\n",
    "b = \"path/to/file\" \n",
    "c = read(b) # c holds the same string value as a"
   ]
  },
  {
   "cell_type": "markdown",
   "metadata": {},
   "source": [
    "# Declaring a relation<a class=\"anchor\" id=\"declare_relations\"></a>\n",
    "RGXLog allows you to define and query relations.\n",
    "You have to declare a relation before you can use it (unless you define it with a rule as we'll see in the \"rules\" chapter). Each term in a relation could be a string, an integer or a span. Here are some examples for declaring relations:"
   ]
  },
  {
   "cell_type": "code",
   "execution_count": null,
   "metadata": {},
   "outputs": [],
   "source": [
    "%%spanner\n",
    "# 'brothers' is a relation with two string terms.\n",
    "new brothers(str, str)\n",
    "# 'confused' is a relation with one string term.\n",
    "new confused(str)\n",
    "# 'animal' is a relation with one string term and one span term \n",
    "new animal(str, spn)\n",
    "# 'scores' is a relation with one string term and one int term\n",
    "new scores(str, int)"
   ]
  },
  {
   "cell_type": "markdown",
   "metadata": {},
   "source": [
    "# Facts<a class=\"anchor\" id=\"facts\"></a>\n",
    "RGXLog is an extension of Datalog, a declarative logic programming language. In Datalog you can declare \"facts\", essentially adding tuples to a relation. To do it you use the following syntax:\n",
    "\n",
    "```\n",
    "relation_name(term_1,term_2,...term_3)\n",
    "```\n",
    "\n",
    "or\n",
    "\n",
    "```\n",
    "relation_name(term_1,term_2,...term_3) <- True\n",
    "```\n",
    "\n",
    "where each `term` is either a constant or a local variable that is from the same variable type that was declared for `relation_name` at the same location.\n",
    "\n",
    "For example:"
   ]
  },
  {
   "cell_type": "code",
   "execution_count": null,
   "metadata": {},
   "outputs": [],
   "source": [
    "%%spanner\n",
    "# first declare the relation that you want to use\n",
    "new noun(str, spn)\n",
    "# now you can add facts (tuples) to that relation\n",
    "# this span indicates that a noun \"Life\" can be found at indexes 0 to 3\n",
    "noun(\"Life finds a way\", [0,4)) \n",
    "# another example\n",
    "new sisters(str, str)\n",
    "sisters(\"alice\", \"rin\") <- True\n",
    "# sisters([0,4), \"rin\") # illegal as [0,4) is not a string"
   ]
  },
  {
   "cell_type": "markdown",
   "metadata": {},
   "source": [
    "You could also remove a fact using a similar syntax:\n",
    "\n",
    "```\n",
    "relation_name(term_1,term_2,...term_3) <- False\n",
    "```\n",
    "\n",
    "if a fact that you try to remove does not exist, the remove fact statement will be silently ignored\n"
   ]
  },
  {
   "cell_type": "code",
   "execution_count": null,
   "metadata": {},
   "outputs": [],
   "source": [
    "%%spanner\n",
    "new goals(str, int)\n",
    "goals(\"kronovi\", 10)\n",
    "goals(\"kronovi\", 10) <- False  # 'goals' relation is now empty\n",
    "goals(\"kronovi\", 10) <- False  # this statement does nothing"
   ]
  },
  {
   "cell_type": "markdown",
   "metadata": {},
   "source": [
    "# Rules<a class=\"anchor\" id=\"rules\"></a>\n",
    "Datalog allows you to deduce new tuples for a relation.\n",
    "RGXLog includes this feature as well:"
   ]
  },
  {
   "cell_type": "code",
   "execution_count": null,
   "metadata": {},
   "outputs": [],
   "source": [
    "%%spanner\n",
    "new parent(str ,str)\n",
    "parent(\"bob\", \"greg\")\n",
    "parent(\"greg\", \"alice\")\n",
    "# now add a rule that deduces that bob is a grandparent of alice\n",
    "grandparent(X,Z) <- parent(X,Y), parent(Y,Z) # ',' is a short hand to the 'and' operator"
   ]
  },
  {
   "cell_type": "markdown",
   "metadata": {},
   "source": [
    "# Queries<a class=\"anchor\" id=\"queries\"></a>\n",
    "Querying is very simple in RGXLog. You can query by using constant values, local variables and free variables:"
   ]
  },
  {
   "cell_type": "code",
   "execution_count": null,
   "metadata": {
    "pycharm": {
     "name": "#%%\n"
    }
   },
   "outputs": [],
   "source": [
    "%%spanner\n",
    "# first create a relation with some facts for the example\n",
    "new grandfather(str, str)\n",
    "# bob and george are the grandfathers of alice and rin\n",
    "grandfather(\"bob\", \"alice\")\n",
    "grandfather(\"bob\", \"rin\")\n",
    "grandfather(\"george\", \"alice\")\n",
    "grandfather(\"george\", \"rin\")\n",
    "# edward is the grandfather of john\n",
    "grandfather(\"edward\", \"john\")\n",
    "\n",
    "# now for the queries\n",
    "?grandfather(\"bob\", \"alice\") # returns an empty tuple () as alice is bob's grandchild\n",
    "?grandfather(\"edward\", \"alice\") # returns nothing as alice is not edward's grandchild\n",
    "?grandfather(\"george\", X) # returns \"rin\" and \"alice\" as both rin\n",
    "# and alice are george's grandchildren\n",
    "?grandfather(X, \"rin\") # returns \"bob\" and \"george\" (rin's grandfathers)\n",
    "?grandfather(X, Y) # returns all the tuples in the 'grandfather' relation\n",
    "\n",
    "new verb(str, spn)\n",
    "verb(\"Ron eats quickly.\", [4,8))\n",
    "verb(\"You write neatly.\", [4,9))\n",
    "?verb(\"Ron eats quickly.\", X) # returns [4,8)\n",
    "?verb(X,[4,9)) # returns \"You write neatly.\"\n",
    "         \n",
    "new orders(str, int)\n",
    "orders(\"pie\", 4)\n",
    "orders(\"pizza\", 4)\n",
    "orders(\"cake\", 0)\n",
    "?orders(X, 4) # retutns \"pie\" and \"pizza\"         "
   ]
  },
  {
   "cell_type": "markdown",
   "metadata": {
    "pycharm": {
     "name": "#%% md\n"
    }
   },
   "source": [
    "You may have noticed that the query\n",
    "\n",
    "```\n",
    "?grandfather(\"bob\", \"alice\")\n",
    "```\n",
    "\n",
    "returns an empty tuple. This is because of the fact that bob is alice's grandfather is true,\n",
    "but we did not use any free variables to construct the tuple of the query's relation, that is why we get a single empty tuple as a result\n",
    "\n",
    "A good example for using free variables to construct a relation is the query:\n",
    "\n",
    "```\n",
    "?grandfather(\"george\", X)\n",
    "```\n",
    "\n",
    "which finds all of george's grandchildren (`X`) and constructs a tuple for each one."
   ]
  },
  {
   "cell_type": "markdown",
   "metadata": {
    "pycharm": {
     "name": "#%% md\n"
    }
   },
   "source": [
    "# Functional regex formulas<a class=\"anchor\" id=\"RGX_ie\"></a>\n",
    "RGXLog supports information extraction using a regular expressions and named capture groups (for now in rule bodies only).\n",
    "You will first need to define a string variable either by using a literal or a load from a file, and then you can use the following syntax in a rule body:\n",
    "\n",
    "```\n",
    "RGX(regex_input ,regex_formula)->(x_1, x_2, ...,x_n)\n",
    "```\n",
    "\n",
    "or\n",
    "\n",
    "```\n",
    "RGXString(regex_input ,regex_formula)->(x_1, x_2, ...,x_n)\n",
    "```\n",
    "\n",
    "where:\n",
    "* `regex_input` is the string that the regex operation will be performed on\n",
    "* `regex_formula` is either a string literal or a string variable that represents your regular expression.\n",
    "* `x_1`, `x_2`, ... `x_n` can be either constant terms or free variable terms. They're used to construct the tuples of the resulting relation. the number of terms has to be the same as the number of capture groups used in `regex_formula`. If not capture groups are used, then each returned tuple includes a single, whole regex match, so only one term should be used.\n",
    "\n",
    "The only difference between the 'RGX' and 'RGXString' ie functions, is that RGX returns spans while RGXString returns strings. This also means that if you want to use constant terms as return values, they have to be spans if you use 'RGX', or strings if you use 'RGXString'\n",
    "\n",
    "For example:"
   ]
  },
  {
   "cell_type": "code",
   "execution_count": null,
   "metadata": {},
   "outputs": [],
   "source": [
    "%%spanner\n",
    "report = \"In 2019 we earned 2000 EUR\"\n",
    "annual_earning(Year,Amount) <- RGXString(report,\"(\\d\\d\\d\\d).*?(\\d+)\")->(Year,Amount)\n",
    "?annual_earning(X,Y) # returns (\"2019\", \"2000\")"
   ]
  },
  {
   "cell_type": "markdown",
   "metadata": {},
   "source": [
    "# Custom information extractors<a class=\"anchor\" id=\"custom_ie\"></a>\n",
    "RGXLog allows you to define and use your own information extractors. You can use them only in rule bodies in the current version. The following is the syntax for custom information extractors:\n",
    "\n",
    "```\n",
    "func(term_1,term_2,...term_n)->(x_1, x_2, ..., x_n)\n",
    "```\n",
    "\n",
    "where:\n",
    "* `func` is a IE function that was previously defined and registered (see the 'advanced_usage' tutorial)\n",
    "* `term_1`,`term_2`,...,`term_n` are the parameters for func\n",
    "* `x_1`, ... `x_n` could be any type of terms, and are used to construct tuples of the resulting relation\n",
    "\n",
    "For example:"
   ]
  },
  {
   "cell_type": "code",
   "execution_count": null,
   "metadata": {},
   "outputs": [],
   "source": [
    "%%spanner\n",
    "new grandmother(str, str)\n",
    "grandmother(\"rin\", \"alice\")\n",
    "grandmother(\"denna\", \"joel\")\n",
    "sentence = \"rin is happy, denna is sad.\"\n",
    "# note that this statement will fail as 'get_happy' is not registered as an ie_function\n",
    "happy_grandmother(X) <- grandmother(X,Z),get_happy(sentence)->(X)\n",
    "?happy_grandmother(X) # assuming get_happy returned \"rin\", also returns \"rin\""
   ]
  },
  {
   "cell_type": "markdown",
   "metadata": {
    "pycharm": {
     "name": "#%% md\n"
    }
   },
   "source": [
    "# Additional small features<a class=\"anchor\" id=\"small_features\"></a>\n",
    "You can use line overflow escapes if you want to split your statements into multiple lines"
   ]
  },
  {
   "cell_type": "code",
   "execution_count": null,
   "metadata": {
    "pycharm": {
     "name": "#%%\n"
    }
   },
   "outputs": [],
   "source": [
    "%%spanner\n",
    "k \\\n",
    "= \"some \\\n",
    "string\""
   ]
  },
  {
   "cell_type": "markdown",
   "metadata": {},
   "source": [
    "# RGXLog program example<a class=\"anchor\" id=\"example_program\"></a>"
   ]
  },
  {
   "cell_type": "code",
   "execution_count": null,
   "metadata": {},
   "outputs": [],
   "source": [
    "%%spanner\n",
    "new lecturer(str, str)\n",
    "lecturer(\"walter\", \"chemistry\")\n",
    "lecturer(\"linus\", \"operation systems\")\n",
    "lecturer(\"rick\", \"physics\")\n",
    "\n",
    "new enrolled(str, str)\n",
    "enrolled(\"abigail\", \"chemistry\")\n",
    "enrolled(\"abigail\", \"operation systems\")\n",
    "enrolled(\"jordan\", \"chemistry\")\n",
    "enrolled(\"gale\", \"operation systems\")\n",
    "enrolled(\"howard\", \"chemistry\")\n",
    "enrolled(\"howard\", \"physics\")\n",
    "\n",
    "enrolled_in_chemistry(X) <- enrolled(X, \"chemistry\")\n",
    "?enrolled_in_chemistry(\"jordan\") # returns empty tuple ()\n",
    "?enrolled_in_chemistry(\"gale\") # returns nothing\n",
    "?enrolled_in_chemistry(X) # returns \"abigail\", \"jordan\" and \"howard\"\n",
    "\n",
    "enrolled_in_physics_and_chemistry(X) <- enrolled(X, \"chemistry\"), enrolled(X, \"physics\")\n",
    "?enrolled_in_physics_and_chemistry(X) # returns \"howard\"\n",
    "\n",
    "lecturer_of(X,Z) <- lecturer(X,Y), enrolled(Z,Y)\n",
    "?lecturer_of(X,\"abigail\") # returns \"walter\" and \"linus\"\n",
    "\n",
    "gpa_str = \"abigail 100 jordan 80 gale 79 howard 60\"\n",
    "gpa_of_chemistry_students(Student, Grade) <- \\\n",
    "RGXString(gpa_str, \"(\\w+).*?(\\d+)\")->(Student, Grade), enrolled_in_chemistry(Student)\n",
    "?gpa_of_chemistry_students(X, \"100\") # returns \"abigail\""
   ]
  },
  {
   "cell_type": "markdown",
   "metadata": {},
   "source": [
    "## custom example"
   ]
  },
  {
   "cell_type": "code",
   "execution_count": null,
   "metadata": {},
   "outputs": [],
   "source": [
    "%%bash\n",
    "# git clone https://github.com/DeanLight/spanner_workbench\n",
    "# cd spanner_workbench\n",
    "# pip install -e src/rgxlog-interpreter "
   ]
  },
  {
   "cell_type": "code",
   "execution_count": 1,
   "metadata": {},
   "outputs": [],
   "source": [
    "%load_ext autoreload\n",
    "%autoreload 2\n",
    "\n",
    "import rgxlog\n",
    "from rgxlog import magic_client,Session\n",
    "import rgxlog.magic.rgxlog_magic"
   ]
  },
  {
   "cell_type": "code",
   "execution_count": 2,
   "metadata": {},
   "outputs": [],
   "source": [
    "%%spanner\n",
    "# define relation and some facts about it\n",
    "new parent(str ,str)\n",
    "parent(\"bob\", \"greg\")\n",
    "parent(\"greg\", \"alice\")\n",
    "parent(\"greg\", \"janice\")"
   ]
  },
  {
   "cell_type": "code",
   "execution_count": 3,
   "metadata": {},
   "outputs": [],
   "source": [
    "%%spanner\n",
    "# now add a rule that deduces that bob is a grandparent of alice\n",
    "grandparent(X,Z) <- parent(X,Y), parent(Y,Z) # ',' is a short hand to the 'and' operator"
   ]
  },
  {
   "cell_type": "code",
   "execution_count": 4,
   "metadata": {},
   "outputs": [
    {
     "name": "stdout",
     "output_type": "stream",
     "text": [
      "printing results for query 'parent(\"greg\", ChildsOfGreg)':\n",
      "  ChildsOfGreg\n",
      "----------------\n",
      "     alice\n",
      "     janice\n",
      "\n",
      "printing results for query 'grandparent(X, Y)':\n",
      "  X  |   Y\n",
      "-----+--------\n",
      " bob | alice\n",
      " bob | janice\n",
      "\n"
     ]
    }
   ],
   "source": [
    "%%spanner\n",
    "# now for the queries\n",
    "?parent(\"greg\", ChildsOfGreg) # returns all children of greg\n",
    "?grandparent(X, Y) # returns all tuples in the grandparent relation"
   ]
  },
  {
   "cell_type": "code",
   "execution_count": 5,
   "metadata": {},
   "outputs": [
    {
     "name": "stdout",
     "output_type": "stream",
     "text": [
      "bob,adam\r\n",
      "adam,oren\r\n",
      "jane,bob\r\n",
      "elmo,bernie\r\n",
      "bernie,casie"
     ]
    }
   ],
   "source": [
    "! cat sons.csv"
   ]
  },
  {
   "cell_type": "code",
   "execution_count": 6,
   "metadata": {},
   "outputs": [],
   "source": [
    "magic_client.import_relation_from_csv(\"sons.csv\",relation_name=\"parent\",delimiter=\",\")"
   ]
  },
  {
   "cell_type": "code",
   "execution_count": 7,
   "metadata": {},
   "outputs": [
    {
     "name": "stdout",
     "output_type": "stream",
     "text": [
      "printing results for query 'parent(X, Y)':\n",
      "   X    |   Y\n",
      "--------+--------\n",
      " bernie | casie\n",
      "  elmo  | bernie\n",
      "  jane  |  bob\n",
      "  adam  |  oren\n",
      "  bob   |  adam\n",
      "  greg  | janice\n",
      "  greg  | alice\n",
      "  bob   |  greg\n",
      "\n"
     ]
    }
   ],
   "source": [
    "%%spanner\n",
    "?parent(X,Y) # returns all tuples that"
   ]
  },
  {
   "cell_type": "code",
   "execution_count": 8,
   "metadata": {},
   "outputs": [
    {
     "name": "stdout",
     "output_type": "stream",
     "text": [
      "printing results for query 'grandparent(X, Y)':\n",
      "  X   |   Y\n",
      "------+--------\n",
      " elmo | casie\n",
      " jane |  adam\n",
      " jane |  greg\n",
      " bob  |  oren\n",
      " bob  | alice\n",
      " bob  | janice\n",
      "\n"
     ]
    }
   ],
   "source": [
    "%%spanner\n",
    "?grandparent(X, Y)"
   ]
  },
  {
   "cell_type": "code",
   "execution_count": 9,
   "metadata": {},
   "outputs": [
    {
     "data": {
      "text/html": [
       "<div>\n",
       "<style scoped>\n",
       "    .dataframe tbody tr th:only-of-type {\n",
       "        vertical-align: middle;\n",
       "    }\n",
       "\n",
       "    .dataframe tbody tr th {\n",
       "        vertical-align: top;\n",
       "    }\n",
       "\n",
       "    .dataframe thead th {\n",
       "        text-align: right;\n",
       "    }\n",
       "</style>\n",
       "<table border=\"1\" class=\"dataframe\">\n",
       "  <thead>\n",
       "    <tr style=\"text-align: right;\">\n",
       "      <th></th>\n",
       "      <th>Grandparent</th>\n",
       "      <th>Grandchild</th>\n",
       "    </tr>\n",
       "  </thead>\n",
       "  <tbody>\n",
       "    <tr>\n",
       "      <th>0</th>\n",
       "      <td>elmo</td>\n",
       "      <td>casie</td>\n",
       "    </tr>\n",
       "    <tr>\n",
       "      <th>1</th>\n",
       "      <td>jane</td>\n",
       "      <td>adam</td>\n",
       "    </tr>\n",
       "    <tr>\n",
       "      <th>2</th>\n",
       "      <td>jane</td>\n",
       "      <td>greg</td>\n",
       "    </tr>\n",
       "    <tr>\n",
       "      <th>3</th>\n",
       "      <td>bob</td>\n",
       "      <td>oren</td>\n",
       "    </tr>\n",
       "    <tr>\n",
       "      <th>4</th>\n",
       "      <td>bob</td>\n",
       "      <td>alice</td>\n",
       "    </tr>\n",
       "    <tr>\n",
       "      <th>5</th>\n",
       "      <td>bob</td>\n",
       "      <td>janice</td>\n",
       "    </tr>\n",
       "  </tbody>\n",
       "</table>\n",
       "</div>"
      ],
      "text/plain": [
       "  Grandparent Grandchild\n",
       "0        elmo      casie\n",
       "1        jane       adam\n",
       "2        jane       greg\n",
       "3         bob       oren\n",
       "4         bob      alice\n",
       "5         bob     janice"
      ]
     },
     "execution_count": 9,
     "metadata": {},
     "output_type": "execute_result"
    }
   ],
   "source": [
    "grand_parents=magic_client.query_into_df(\"?grandparent(Grandparent, Grandchild)\")\n",
    "grand_parents"
   ]
  },
  {
   "cell_type": "code",
   "execution_count": 10,
   "metadata": {},
   "outputs": [
    {
     "name": "stdout",
     "output_type": "stream",
     "text": [
      "The autoreload extension is already loaded. To reload it, use:\n",
      "  %reload_ext autoreload\n"
     ]
    }
   ],
   "source": [
    "%load_ext autoreload\n",
    "%autoreload 2\n",
    "\n",
    "from rgxlog.engine.datatypes.primitive_types import DataTypes\n",
    "#from rgxlog.stdlib.nlp import   lemma_wrapper, ner_wrapper, dependency_parse_wrapper                                \n",
    "from rgxlog.stdlib.regex import rgx_string,rgx_string_out_types\n",
    "\n"
   ]
  },
  {
   "cell_type": "code",
   "execution_count": 11,
   "metadata": {},
   "outputs": [],
   "source": [
    "magic_client.register(\n",
    "                ie_function=rgx_string,\n",
    "                ie_function_name='RGXString',\n",
    "                in_rel=[DataTypes.string, DataTypes.string],\n",
    "                out_rel=rgx_string_out_types,\n",
    "                )"
   ]
  },
  {
   "cell_type": "code",
   "execution_count": 12,
   "metadata": {},
   "outputs": [],
   "source": [
    "%%spanner\n",
    "bank_records= \"bob 100 elmo 80 jane 79 alice 60\"\n",
    "money(P, Money) <- \\\n",
    "RGXString(bank_records, \"(\\w+).*?(\\d+)\")->(P, Money)\n",
    "\n"
   ]
  },
  {
   "cell_type": "code",
   "execution_count": 13,
   "metadata": {},
   "outputs": [
    {
     "name": "stdout",
     "output_type": "stream",
     "text": [
      "printing results for query 'money(P, M)':\n",
      "   P   |   M\n",
      "-------+-----\n",
      " alice |  60\n",
      " jane  |  79\n",
      " elmo  |  80\n",
      "  bob  | 100\n",
      "\n"
     ]
    }
   ],
   "source": [
    "%%spanner\n",
    "?money(P,M)"
   ]
  },
  {
   "cell_type": "code",
   "execution_count": 15,
   "metadata": {},
   "outputs": [
    {
     "name": "stdout",
     "output_type": "stream",
     "text": [
      "The autoreload extension is already loaded. To reload it, use:\n",
      "  %reload_ext autoreload\n"
     ]
    }
   ],
   "source": [
    "%load_ext autoreload\n",
    "%autoreload 2\n",
    "\n",
    "from rgxlog.stdlib.nlp import   lemma_wrapper, ner_wrapper, dependency_parse_wrapper                                \n"
   ]
  },
  {
   "cell_type": "code",
   "execution_count": 19,
   "metadata": {},
   "outputs": [
    {
     "name": "stdout",
     "output_type": "stream",
     "text": [
      "NER\n",
      "[('John', 'PERSON', (0, 4)), ('Greg', 'PERSON', (14, 18))]\n",
      "lemma\n",
      "[('John', 'John', (0, 4)), ('fathered', 'father', (5, 13)), ('Greg', 'Greg', (14, 18)), ('wonderfully', 'wonderfully', (19, 30))]\n",
      "dep_parse\n",
      "[('ROOT', 0, 'ROOT', 2, 'fathered'), ('nsubj', 2, 'fathered', 1, 'John'), ('obj', 2, 'fathered', 3, 'Greg'), ('advmod', 2, 'fathered', 4, 'wonderfully')]\n"
     ]
    }
   ],
   "source": [
    "sentence = \"John fathered Greg wonderfully\"\n",
    "print(\"NER\")\n",
    "print(list(ner_wrapper(sentence)))\n",
    "print(\"lemma\")\n",
    "print(list(lemma_wrapper(sentence)))\n",
    "print(\"dep_parse\")\n",
    "print(list(dependency_parse_wrapper(sentence)))\n"
   ]
  },
  {
   "cell_type": "code",
   "execution_count": 16,
   "metadata": {},
   "outputs": [],
   "source": [
    "magic_client.register(ie_function=lemma_wrapper,\n",
    "             ie_function_name='Lemma',\n",
    "             in_rel=[DataTypes.string],\n",
    "             out_rel=[DataTypes.string, DataTypes.string, DataTypes.span],\n",
    "             )\n",
    "\n",
    "magic_client.register(ie_function=ner_wrapper,\n",
    "           ie_function_name='NER',\n",
    "           in_rel=[DataTypes.string],\n",
    "           out_rel=[DataTypes.string, DataTypes.string, DataTypes.span],\n",
    "           )\n",
    "\n",
    "\n",
    "\n",
    "magic_client.register(ie_function=dependency_parse_wrapper,\n",
    "                ie_function_name='DepParse',\n",
    "                in_rel=[DataTypes.string],\n",
    "                out_rel=[DataTypes.string, DataTypes.integer, DataTypes.string, DataTypes.integer, DataTypes.string]\n",
    "                )\n",
    "\n",
    "\n"
   ]
  },
  {
   "cell_type": "code",
   "execution_count": 25,
   "metadata": {},
   "outputs": [],
   "source": [
    "%%spanner\n",
    "sentence=\"John fathered Greg wonderfully\"\n",
    "\n",
    "father_of123(F,S)<- NER(sentence)->(F,\"PERSON\",T1),NER(sentence)->(S,\"PERSON\",T2),Lemma(sentence)->(FATHERLIKE ,\"father\",T3),DepParse(sentence)->(\"nsubj\",T41,FATHERLIKE,T42,F),DepParse(sentence)->(\"obj\",T51,FATHERLIKE,T52,S)\n",
    "\n",
    "#?father_of123(F,S)"
   ]
  },
  {
   "cell_type": "code",
   "execution_count": 26,
   "metadata": {},
   "outputs": [
    {
     "name": "stdout",
     "output_type": "stream",
     "text": [
      "printing results for query 'father_of123(F, S)':\n",
      "  F   |  S\n",
      "------+------\n",
      " John | Greg\n",
      "\n"
     ]
    }
   ],
   "source": [
    "%%spanner\n",
    "#sentence=\"John fathered Greg wonderfully\"\n",
    "\n",
    "#father_of123(F,S)<- NER(sentence)->(F,\"PERSON\",T1),NER(sentence)->(S,\"PERSON\",T2),Lemma(sentence)->(FATHERLIKE ,\"father\",T3),DepParse(sentence)->(\"nsubj\",T41,FATHERLIKE,T42,F),DepParse(sentence)->(\"obj\",T51,FATHERLIKE,T52,S)\n",
    "\n",
    "?father_of123(F,S)"
   ]
  },
  {
   "cell_type": "code",
   "execution_count": null,
   "metadata": {},
   "outputs": [],
   "source": []
  },
  {
   "cell_type": "code",
   "execution_count": null,
   "metadata": {},
   "outputs": [],
   "source": [
    "%spanner\n",
    "Family_tree_report = \"alice \""
   ]
  }
 ],
 "metadata": {
  "kernelspec": {
   "display_name": "bench",
   "language": "python",
   "name": "bench"
  },
  "language_info": {
   "codemirror_mode": {
    "name": "ipython",
    "version": 3
   },
   "file_extension": ".py",
   "mimetype": "text/x-python",
   "name": "python",
   "nbconvert_exporter": "python",
   "pygments_lexer": "ipython3",
   "version": "3.8.8"
  },
  "pycharm": {
   "stem_cell": {
    "cell_type": "raw",
    "metadata": {
     "collapsed": false
    },
    "source": []
   }
  },
  "toc": {
   "base_numbering": 1,
   "nav_menu": {},
   "number_sections": true,
   "sideBar": true,
   "skip_h1_title": false,
   "title_cell": "Table of Contents",
   "title_sidebar": "Contents",
   "toc_cell": false,
   "toc_position": {},
   "toc_section_display": true,
   "toc_window_display": false
  }
 },
 "nbformat": 4,
 "nbformat_minor": 4
}
