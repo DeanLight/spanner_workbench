{
 "cells": [
  {
   "cell_type": "markdown",
   "metadata": {},
   "source": [
    "# Spanner Workbench Introduction\n",
    "In this tutorial you will learn the basics of spanner workbench:\n",
    "* how to import and use RGXlog\n",
    "* variable assignment\n",
    "* reading from a file\n",
    "* declaring a relation\n",
    "* adding facts\n",
    "* adding rules\n",
    "* queries\n",
    "* using RGXlog's primitive information extractor: functional regex formulas\n",
    "* using custom information extractors"
   ]
  },
  {
   "cell_type": "markdown",
   "metadata": {},
   "source": [
    "# Using RGXlog\n",
    "In order to use RGXlog, you must first import it:"
   ]
  },
  {
   "cell_type": "code",
   "execution_count": 26,
   "metadata": {},
   "outputs": [],
   "source": [
    "import rgxlog"
   ]
  },
  {
   "cell_type": "markdown",
   "metadata": {
    "pycharm": {
     "name": "#%% md\n"
    }
   },
   "source": [
    "Now whenever you want to a cell to use RGXlog, simply type '%%spanner' at the beginning\n",
    "of that cell. For example:"
   ]
  },
  {
   "cell_type": "code",
   "execution_count": 27,
   "metadata": {},
   "outputs": [
    {
     "name": "stdout",
     "output_type": "stream",
     "text": [
      "fact\n",
      "  relation\n",
      "    parent\n",
      "    \"bob\"\n",
      "    \"greg\"\n",
      "\n",
      "Tree(fact, [Tree(relation, [Token(NAME, 'parent'), Token(STRING, '\"bob\"'), Token(STRING, '\"greg\"')])])\n"
     ]
    }
   ],
   "source": [
    "%%spanner\n",
    "parent(\"bob\", \"greg\")"
   ]
  },
  {
   "cell_type": "markdown",
   "metadata": {
    "pycharm": {
     "name": "#%% md\n"
    }
   },
   "source": [
    "# Variable assignment\n",
    "RGXlog allows you to use two types of variables: strings and spans.\n",
    "The assignment of a string is intuitive:"
   ]
  },
  {
   "cell_type": "code",
   "execution_count": 28,
   "metadata": {
    "pycharm": {
     "name": "#%%\n"
    }
   },
   "outputs": [
    {
     "name": "stdout",
     "output_type": "stream",
     "text": [
      "start\n",
      "  assign_normal_string\n",
      "    b\n",
      "    \"bob\"\n",
      "  assign_var\n",
      "    b2\n",
      "    b\n",
      "\n",
      "Tree(start, [Tree(assign_normal_string, [Token(NAME, 'b'), Token(STRING, '\"bob\"')]), Tree(assign_var, [Token(NAME, 'b2'), Token(NAME, 'b')])])\n"
     ]
    }
   ],
   "source": [
    "%%spanner\n",
    "b = \"bob\"\n",
    "b2 = b # b2's value is \"bob\""
   ]
  },
  {
   "cell_type": "markdown",
   "metadata": {},
   "source": [
    " A span identifies a substring of a string by specifying its bounding indices. It is constructed from two integers.\n",
    " You can assign a span value like this:"
   ]
  },
  {
   "cell_type": "code",
   "execution_count": 29,
   "metadata": {},
   "outputs": [
    {
     "name": "stdout",
     "output_type": "stream",
     "text": [
      "start\n",
      "  assign_span\n",
      "    span1\n",
      "    span\n",
      "      3\n",
      "      7\n",
      "  assign_var\n",
      "    span2\n",
      "    span1\n",
      "\n",
      "Tree(start, [Tree(assign_span, [Token(NAME, 'span1'), Tree(span, [3, 7])]), Tree(assign_var, [Token(NAME, 'span2'), Token(NAME, 'span1')])])\n"
     ]
    }
   ],
   "source": [
    "%%spanner\n",
    "span1 = [3,7)\n",
    "span2 = span1 # span2 value is [1,2)"
   ]
  },
  {
   "cell_type": "markdown",
   "metadata": {},
   "source": [
    "# Reading from a file\n",
    "You can also perform a string assignment by reading from a file. You will need to provide a path to a file by either using a string literal or a string variable:"
   ]
  },
  {
   "cell_type": "code",
   "execution_count": 30,
   "metadata": {},
   "outputs": [
    {
     "name": "stdout",
     "output_type": "stream",
     "text": [
      "start\n",
      "  assign_string_from_file_string_param\n",
      "    a\n",
      "    \"path/to/file\"\n",
      "  assign_normal_string\n",
      "    b\n",
      "    \"path/to/file\"\n",
      "  assign_string_from_file_var_param\n",
      "    c\n",
      "    b\n",
      "\n",
      "Tree(start, [Tree(assign_string_from_file_string_param, [Token(NAME, 'a'), Token(STRING, '\"path/to/file\"')]), Tree(assign_normal_string, [Token(NAME, 'b'), Token(STRING, '\"path/to/file\"')]), Tree(assign_string_from_file_var_param, [Token(NAME, 'c'), Token(NAME, 'b')])])\n"
     ]
    }
   ],
   "source": [
    "%%spanner\n",
    "a = read(\"path/to/file\")\n",
    "b = \"path/to/file\" \n",
    "c = read(b) # c holds the same string value as a"
   ]
  },
  {
   "cell_type": "markdown",
   "metadata": {},
   "source": [
    "# Derclaring a relation\n",
    "RGXlog allows you to define and query relations.\n",
    "You have to declare a relation before you can use it (TBD if rule heads should be declared). Each term in a relation could be a string or a span. Here are some examples for declaring relations:"
   ]
  },
  {
   "cell_type": "code",
   "execution_count": 34,
   "metadata": {},
   "outputs": [
    {
     "name": "stdout",
     "output_type": "stream",
     "text": [
      "start\n",
      "  relation_declaration\n",
      "    brothers\n",
      "    decl_string\n",
      "    decl_string\n",
      "  relation_declaration\n",
      "    angry\n",
      "    decl_string\n",
      "  relation_declaration\n",
      "    noun\n",
      "    decl_string\n",
      "    decl_span\n",
      "\n",
      "Tree(start, [Tree(relation_declaration, [Token(NAME, 'brothers'), Tree(decl_string, []), Tree(decl_string, [])]), Tree(relation_declaration, [Token(NAME, 'angry'), Tree(decl_string, [])]), Tree(relation_declaration, [Token(NAME, 'noun'), Tree(decl_string, []), Tree(decl_span, [])])])\n"
     ]
    }
   ],
   "source": [
    "%%spanner\n",
    "# 'brothers' is a relation with two string terms.\n",
    "new brothers(str, str)\n",
    "# 'angry' is a relation with one string term.\n",
    "new angry(str)\n",
    "# 'noun' is a relation with one string term, and one span term \n",
    "new noun(str, spn)"
   ]
  },
  {
   "cell_type": "markdown",
   "metadata": {},
   "source": [
    "# adding facts\n",
    "RGXlog is an extension of Datalog, a declarative logic programming language. In Datalog you can declare \"facts\", essentially adding tuples to a relation. Here's how to do it in RGXlog:"
   ]
  },
  {
   "cell_type": "code",
   "execution_count": 59,
   "metadata": {},
   "outputs": [
    {
     "name": "stdout",
     "output_type": "stream",
     "text": [
      "start\n",
      "  relation_declaration\n",
      "    noun\n",
      "    decl_string\n",
      "    decl_span\n",
      "  fact\n",
      "    relation\n",
      "      noun\n",
      "      \"Life finds a way\"\n",
      "      span\n",
      "        0\n",
      "        4\n",
      "  relation_declaration\n",
      "    sisters\n",
      "    decl_string\n",
      "    decl_string\n",
      "  fact\n",
      "    relation\n",
      "      sisters\n",
      "      \"alice\"\n",
      "      \"rin\"\n",
      "\n",
      "Tree(start, [Tree(relation_declaration, [Token(NAME, 'noun'), Tree(decl_string, []), Tree(decl_span, [])]), Tree(fact, [Tree(relation, [Token(NAME, 'noun'), Token(STRING, '\"Life finds a way\"'), Tree(span, [0, 4])])]), Tree(relation_declaration, [Token(NAME, 'sisters'), Tree(decl_string, []), Tree(decl_string, [])]), Tree(fact, [Tree(relation, [Token(NAME, 'sisters'), Token(STRING, '\"alice\"'), Token(STRING, '\"rin\"')])])])\n"
     ]
    }
   ],
   "source": [
    "%%spanner\n",
    "# first declare the relation that you want to use\n",
    "new noun(str, spn)\n",
    "# now you can add facts (tuples) to that relation\n",
    "noun(\"Life finds a way\", [0,4))\n",
    "# another example\n",
    "new sisters(str, str)\n",
    "sisters(\"alice\", \"rin\")                          "
   ]
  },
  {
   "cell_type": "markdown",
   "metadata": {},
   "source": [
    "# adding rules\n",
    "Datalog allows you to deduce new tuples for a relation.\n",
    "RGXlog includes this feature as well:"
   ]
  },
  {
   "cell_type": "code",
   "execution_count": 61,
   "metadata": {},
   "outputs": [
    {
     "name": "stdout",
     "output_type": "stream",
     "text": [
      "start\n",
      "  relation_declaration\n",
      "    parent\n",
      "    decl_string\n",
      "    decl_string\n",
      "  fact\n",
      "    relation\n",
      "      parent\n",
      "      \"bob\"\n",
      "      \"greg\"\n",
      "  fact\n",
      "    relation\n",
      "      parent\n",
      "      \"greg\"\n",
      "      \"alice\"\n",
      "  rule\n",
      "    rule_head\n",
      "      grandparent\n",
      "      name_list\n",
      "        x\n",
      "        z\n",
      "    rule_body_normal_relation\n",
      "      relation\n",
      "        paren\n",
      "        x\n",
      "        y\n",
      "    rule_body_normal_relation\n",
      "      relation\n",
      "        parent\n",
      "        y\n",
      "        z\n",
      "\n",
      "Tree(start, [Tree(relation_declaration, [Token(NAME, 'parent'), Tree(decl_string, []), Tree(decl_string, [])]), Tree(fact, [Tree(relation, [Token(NAME, 'parent'), Token(STRING, '\"bob\"'), Token(STRING, '\"greg\"')])]), Tree(fact, [Tree(relation, [Token(NAME, 'parent'), Token(STRING, '\"greg\"'), Token(STRING, '\"alice\"')])]), Tree(rule, [Tree(rule_head, [Token(NAME, 'grandparent'), Tree(name_list, [Token(NAME, 'x'), Token(NAME, 'z')])]), Tree(rule_body_normal_relation, [Tree(relation, [Token(NAME, 'paren'), Token(NAME, 'x'), Token(NAME, 'y')])]), Tree(rule_body_normal_relation, [Tree(relation, [Token(NAME, 'parent'), Token(NAME, 'y'), Token(NAME, 'z')])])])])\n"
     ]
    }
   ],
   "source": [
    "%%spanner\n",
    "new parent(str ,str)\n",
    "parent(\"bob\", \"greg\")\n",
    "parent(\"greg\", \"alice\")\n",
    "# now add a rule that deduce that bob is a grandparent of alice\n",
    "grandparent(x,z) <- paren(x,y), parent(y,z) # ',' is similar to the 'and' operator"
   ]
  },
  {
   "cell_type": "markdown",
   "metadata": {},
   "source": [
    "# queries\n",
    "Querying is very simple in RGXlog. You can query by using string literals, span literals and capture variables:"
   ]
  },
  {
   "cell_type": "code",
   "execution_count": 71,
   "metadata": {},
   "outputs": [
    {
     "name": "stdout",
     "output_type": "stream",
     "text": [
      "start\n",
      "  relation_declaration\n",
      "    grandfather\n",
      "    decl_string\n",
      "    decl_string\n",
      "  fact\n",
      "    relation\n",
      "      grandfather\n",
      "      \"bob\"\n",
      "      \"alice\"\n",
      "  fact\n",
      "    relation\n",
      "      grandfather\n",
      "      \"bob\"\n",
      "      \"rin\"\n",
      "  fact\n",
      "    relation\n",
      "      grandfather\n",
      "      \"george\"\n",
      "      \"alice\"\n",
      "  fact\n",
      "    relation\n",
      "      grandfather\n",
      "      \"george\"\n",
      "      \"rin\"\n",
      "  fact\n",
      "    relation\n",
      "      grandfather\n",
      "      \"edward\"\n",
      "      \"john\"\n",
      "  query\n",
      "    relation\n",
      "      grandfather\n",
      "      \"bob\"\n",
      "      \"alice\"\n",
      "  query\n",
      "    relation\n",
      "      grandfather\n",
      "      \"edward\"\n",
      "      \"alice\"\n",
      "  query\n",
      "    relation\n",
      "      grandfather\n",
      "      \"george\"\n",
      "      x\n",
      "  query\n",
      "    relation\n",
      "      grandfather\n",
      "      x\n",
      "      \"rin\"\n",
      "\n",
      "Tree(start, [Tree(relation_declaration, [Token(NAME, 'grandfather'), Tree(decl_string, []), Tree(decl_string, [])]), Tree(fact, [Tree(relation, [Token(NAME, 'grandfather'), Token(STRING, '\"bob\"'), Token(STRING, '\"alice\"')])]), Tree(fact, [Tree(relation, [Token(NAME, 'grandfather'), Token(STRING, '\"bob\"'), Token(STRING, '\"rin\"')])]), Tree(fact, [Tree(relation, [Token(NAME, 'grandfather'), Token(STRING, '\"george\"'), Token(STRING, '\"alice\"')])]), Tree(fact, [Tree(relation, [Token(NAME, 'grandfather'), Token(STRING, '\"george\"'), Token(STRING, '\"rin\"')])]), Tree(fact, [Tree(relation, [Token(NAME, 'grandfather'), Token(STRING, '\"edward\"'), Token(STRING, '\"john\"')])]), Tree(query, [Tree(relation, [Token(NAME, 'grandfather'), Token(STRING, '\"bob\"'), Token(STRING, '\"alice\"')])]), Tree(query, [Tree(relation, [Token(NAME, 'grandfather'), Token(STRING, '\"edward\"'), Token(STRING, '\"alice\"')])]), Tree(query, [Tree(relation, [Token(NAME, 'grandfather'), Token(STRING, '\"george\"'), Token(NAME, 'x')])]), Tree(query, [Tree(relation, [Token(NAME, 'grandfather'), Token(NAME, 'x'), Token(STRING, '\"rin\"')])])])\n"
     ]
    }
   ],
   "source": [
    "%%spanner\n",
    "# first create a relation with some facts for the example\n",
    "new grandfather(str, str)\n",
    "# bob and george are the grandfathers of alice and rin\n",
    "grandfather(\"bob\", \"alice\")\n",
    "grandfather(\"bob\", \"rin\")\n",
    "grandfather(\"george\", \"alice\")\n",
    "grandfather(\"george\", \"rin\")\n",
    "# edward is the grandfather of john\n",
    "grandfather(\"edward\", \"john\")\n",
    "# now for the queries\n",
    "?grandfather(\"bob\", \"alice\") # returns (\"bob\", \"alice\") as alice is bob's grandchild\n",
    "?grandfather(\"edward\", \"alice\") # returns nothing as alice is not edward's grandchild\n",
    "?grandfather(\"george\", x) # returns [(\"george\", \"alice\"), (\"george\", \"rin\")] as both rin\n",
    "# and alice are george's grandchildren\n",
    "?grandfather(x, \"rin\") # returns [(\"bob\", \"rin\"), (\"george\", \"rin\")] (rin's grandfathers)"
   ]
  },
  {
   "cell_type": "markdown",
   "metadata": {},
   "source": [
    "# Functional regex formulas\n",
    "RGXlog supports information extraction using regular expressions.  "
   ]
  },
  {
   "cell_type": "code",
   "execution_count": null,
   "metadata": {},
   "outputs": [],
   "source": []
  }
 ],
 "metadata": {
  "kernelspec": {
   "display_name": "Python 3",
   "language": "python",
   "name": "python3"
  },
  "language_info": {
   "codemirror_mode": {
    "name": "ipython",
    "version": 3
   },
   "file_extension": ".py",
   "mimetype": "text/x-python",
   "name": "python",
   "nbconvert_exporter": "python",
   "pygments_lexer": "ipython3",
   "version": "3.8.5"
  }
 },
 "nbformat": 4,
 "nbformat_minor": 4
}