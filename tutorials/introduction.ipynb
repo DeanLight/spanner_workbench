{
 "cells": [
  {
   "cell_type": "markdown",
   "metadata": {},
   "source": [
    "# Spanner Workbench Introduction\n",
    "In this tutorial you will learn the basics of spanner workbench:\n",
    "* [how to install, import and use RGXLog](#use_rgxlog)\n",
    "* [local and free variables](#local_and_free_vars)\n",
    "* [local variable assignment](#local_var_assignment)\n",
    "* [reading from a file](#read_a_file)\n",
    "* [declaring a relation](#declare_relations)\n",
    "* [adding facts](#facts)\n",
    "* [adding rules](#rules)\n",
    "* [queries](#queries)\n",
    "* [using RGXLog's primitive information extractor: functional regex formulas](#RGX_ie)\n",
    "* [using custom information extractors](#custom_ie)\n",
    "* [additional small features](#small_features)\n",
    "\n",
    "At the end of this tutorial there is also an [example for a small RGXLog program.](#example_program)"
   ]
  },
  {
   "cell_type": "markdown",
   "metadata": {},
   "source": [
    "# Using RGXLog<a class=\"anchor\" id=\"use_rgxlog\"></a>"
   ]
  },
  {
   "cell_type": "markdown",
   "metadata": {},
   "source": [
    "### Installation"
   ]
  },
  {
   "cell_type": "markdown",
   "metadata": {
    "pycharm": {
     "name": "#%% md\n"
    }
   },
   "source": [
    "prerequisites:\n",
    "\n",
    "* Have [Python](https://www.python.org/downloads/) version 3.8 or above installed\n",
    "\n",
    "To download and install RGXLog run the following command in your terminal:\n",
    "\n",
    "```bash\n",
    "git clone https://github.com/DeanLight/spanner_workbench\n",
    "cd spanner_workbench\n",
    "\n",
    "pip install src/rgxlog-interpreter \n",
    "\n",
    "```\n",
    "Make sure you are calling the pip version of your current python environment.\n",
    "To install with another python interpreter, run\n",
    "\n",
    "```bash\n",
    "\n",
    "<path_to_python_interpreter> -m pip install  src/rgxlog-interpreter\n",
    "\n",
    "```\n",
    "You can also install RGXLog in the current Jupyter kernel:"
   ]
  },
  {
   "cell_type": "code",
   "execution_count": 3,
   "metadata": {
    "pycharm": {
     "name": "#%%\n"
    }
   },
   "outputs": [],
   "source": [
    "import sys\n",
    "from pathlib import Path\n",
    "current_python=f\"{sys.executable}\"\n",
    "package_path=Path(\"../src/rgxlog-interpreter\")\n"
   ]
  },
  {
   "cell_type": "code",
   "execution_count": 5,
   "metadata": {
    "collapsed": true
   },
   "outputs": [
    {
     "name": "stdout",
     "output_type": "stream",
     "text": [
      "Processing /home/dean/spanner_workbench/src/rgxlog-interpreter\n",
      "Requirement already satisfied: lark-parser in /home/dean/miniconda3/envs/bench/lib/python3.8/site-packages (from test-rgxlog-interpreter==0.0.22) (0.11.1)\n",
      "Requirement already satisfied: networkx in /home/dean/miniconda3/envs/bench/lib/python3.8/site-packages (from test-rgxlog-interpreter==0.0.22) (2.5)\n",
      "Requirement already satisfied: docopt in /home/dean/miniconda3/envs/bench/lib/python3.8/site-packages (from test-rgxlog-interpreter==0.0.22) (0.6.2)\n",
      "Requirement already satisfied: tabulate in /home/dean/miniconda3/envs/bench/lib/python3.8/site-packages (from test-rgxlog-interpreter==0.0.22) (0.8.7)\n",
      "Requirement already satisfied: pyDatalog in /home/dean/miniconda3/envs/bench/lib/python3.8/site-packages (from test-rgxlog-interpreter==0.0.22) (0.17.1)\n",
      "Requirement already satisfied: spacy in /home/dean/miniconda3/envs/bench/lib/python3.8/site-packages (from test-rgxlog-interpreter==0.0.22) (2.3.5)\n",
      "Requirement already satisfied: decorator>=4.3.0 in /home/dean/miniconda3/envs/bench/lib/python3.8/site-packages (from networkx->test-rgxlog-interpreter==0.0.22) (4.4.2)\n",
      "Requirement already satisfied: numpy>=1.15.0 in /home/dean/miniconda3/envs/bench/lib/python3.8/site-packages (from spacy->test-rgxlog-interpreter==0.0.22) (1.19.5)\n",
      "Requirement already satisfied: blis<0.8.0,>=0.4.0 in /home/dean/miniconda3/envs/bench/lib/python3.8/site-packages (from spacy->test-rgxlog-interpreter==0.0.22) (0.7.4)\n",
      "Requirement already satisfied: preshed<3.1.0,>=3.0.2 in /home/dean/miniconda3/envs/bench/lib/python3.8/site-packages (from spacy->test-rgxlog-interpreter==0.0.22) (3.0.5)\n",
      "Requirement already satisfied: tqdm<5.0.0,>=4.38.0 in /home/dean/miniconda3/envs/bench/lib/python3.8/site-packages (from spacy->test-rgxlog-interpreter==0.0.22) (4.56.0)\n",
      "Requirement already satisfied: plac<1.2.0,>=0.9.6 in /home/dean/miniconda3/envs/bench/lib/python3.8/site-packages (from spacy->test-rgxlog-interpreter==0.0.22) (1.1.3)\n",
      "Requirement already satisfied: thinc<7.5.0,>=7.4.1 in /home/dean/miniconda3/envs/bench/lib/python3.8/site-packages (from spacy->test-rgxlog-interpreter==0.0.22) (7.4.5)\n",
      "Requirement already satisfied: requests<3.0.0,>=2.13.0 in /home/dean/miniconda3/envs/bench/lib/python3.8/site-packages (from spacy->test-rgxlog-interpreter==0.0.22) (2.25.1)\n",
      "Requirement already satisfied: srsly<1.1.0,>=1.0.2 in /home/dean/miniconda3/envs/bench/lib/python3.8/site-packages (from spacy->test-rgxlog-interpreter==0.0.22) (1.0.5)\n",
      "Requirement already satisfied: cymem<2.1.0,>=2.0.2 in /home/dean/miniconda3/envs/bench/lib/python3.8/site-packages (from spacy->test-rgxlog-interpreter==0.0.22) (2.0.5)\n",
      "Requirement already satisfied: murmurhash<1.1.0,>=0.28.0 in /home/dean/miniconda3/envs/bench/lib/python3.8/site-packages (from spacy->test-rgxlog-interpreter==0.0.22) (1.0.5)\n",
      "Requirement already satisfied: catalogue<1.1.0,>=0.0.7 in /home/dean/miniconda3/envs/bench/lib/python3.8/site-packages (from spacy->test-rgxlog-interpreter==0.0.22) (1.0.0)\n",
      "Requirement already satisfied: wasabi<1.1.0,>=0.4.0 in /home/dean/miniconda3/envs/bench/lib/python3.8/site-packages (from spacy->test-rgxlog-interpreter==0.0.22) (0.8.1)\n",
      "Requirement already satisfied: setuptools in /home/dean/miniconda3/envs/bench/lib/python3.8/site-packages (from spacy->test-rgxlog-interpreter==0.0.22) (52.0.0.post20210125)\n",
      "Requirement already satisfied: urllib3<1.27,>=1.21.1 in /home/dean/miniconda3/envs/bench/lib/python3.8/site-packages (from requests<3.0.0,>=2.13.0->spacy->test-rgxlog-interpreter==0.0.22) (1.26.3)\n",
      "Requirement already satisfied: chardet<5,>=3.0.2 in /home/dean/miniconda3/envs/bench/lib/python3.8/site-packages (from requests<3.0.0,>=2.13.0->spacy->test-rgxlog-interpreter==0.0.22) (4.0.0)\n",
      "Requirement already satisfied: idna<3,>=2.5 in /home/dean/miniconda3/envs/bench/lib/python3.8/site-packages (from requests<3.0.0,>=2.13.0->spacy->test-rgxlog-interpreter==0.0.22) (2.10)\n",
      "Requirement already satisfied: certifi>=2017.4.17 in /home/dean/miniconda3/envs/bench/lib/python3.8/site-packages (from requests<3.0.0,>=2.13.0->spacy->test-rgxlog-interpreter==0.0.22) (2020.12.5)\n",
      "Building wheels for collected packages: test-rgxlog-interpreter\n",
      "  Building wheel for test-rgxlog-interpreter (setup.py) ... \u001b[?25ldone\n",
      "\u001b[?25h  Created wheel for test-rgxlog-interpreter: filename=test_rgxlog_interpreter-0.0.22-py3-none-any.whl size=44675 sha256=42d53b9be942d87a27d24209bfd840870bddc1413b05e697acf4c4d366deb7ed\n",
      "  Stored in directory: /home/dean/.cache/pip/wheels/5a/ee/f0/e7326e18d00f4f6ea7b04b57be4cfa968a559c694c7c5e582a\n",
      "Successfully built test-rgxlog-interpreter\n",
      "Installing collected packages: test-rgxlog-interpreter\n",
      "  Attempting uninstall: test-rgxlog-interpreter\n",
      "    Found existing installation: test-rgxlog-interpreter 0.0.22\n",
      "    Uninstalling test-rgxlog-interpreter-0.0.22:\n",
      "      Successfully uninstalled test-rgxlog-interpreter-0.0.22\n",
      "Successfully installed test-rgxlog-interpreter-0.0.22\n"
     ]
    }
   ],
   "source": [
    "! {current_python} -m pip install {package_path}"
   ]
  },
  {
   "cell_type": "markdown",
   "metadata": {
    "pycharm": {
     "name": "#%% md\n"
    }
   },
   "source": [
    "In order to use RGXLog in jupyter notebooks, you must first import it:\n"
   ]
  },
  {
   "cell_type": "code",
   "execution_count": 2,
   "metadata": {},
   "outputs": [
    {
     "name": "stderr",
     "output_type": "stream",
     "text": [
      "/home/dean/miniconda3/envs/bench/lib/python3.8/site-packages/spacy/util.py:275: UserWarning: [W031] Model 'en_core_web_sm' (2.2.0) requires spaCy v2.2 and is incompatible with the current spaCy version (2.3.5). This may lead to unexpected results or runtime errors. To resolve this, download a newer compatible model or retrain your custom model with the current spaCy version. For more details and available updates, run: python -m spacy validate\n",
      "  warnings.warn(warn_msg)\n",
      "2021-01-31 17:56:37,987 - port 32768 is already taken\n",
      "2021-01-31 17:56:37,990 - client connected to localhost:32769\n"
     ]
    }
   ],
   "source": [
    "import rgxlog"
   ]
  },
  {
   "cell_type": "markdown",
   "metadata": {},
   "source": [
    "Importing the RGXLog library automatically loads the `%%spanner` cell magic which accepts RGXLog queries as shown below.\n"
   ]
  },
  {
   "cell_type": "code",
   "execution_count": 7,
   "metadata": {
    "pycharm": {
     "name": "#%%\n"
    }
   },
   "outputs": [
    {
     "name": "stdout",
     "output_type": "stream",
     "text": [
      "printing results for query 'uncle(X, Y)':\n",
      "  X  |  Y\n",
      "-----+------\n",
      " bob | greg\n",
      "\n"
     ]
    }
   ],
   "source": [
    "%%spanner\n",
    "new uncle(str, str)\n",
    "uncle(\"bob\", \"greg\")\n",
    "?uncle(X,Y)"
   ]
  },
  {
   "cell_type": "markdown",
   "metadata": {
    "pycharm": {
     "name": "#%% md\n"
    }
   },
   "source": [
    "# Local and free variables<a class=\"anchor\" id=\"local_and_free_vars\"></a>\n",
    "\n",
    "RGXLog distinguishes two kinds of variables.\n",
    "\n",
    "The first kind are local variables. These are variables that store a single value (e.g. string). They work similarly to variables in python. A local variable must be defined via assignment before being used.\n",
    "\n",
    "A local variable name must begin with a lowercase letter or with an underscore (_), and can be continued with letters, digits and underscores\n",
    "\n",
    "Here are some examples for legal local variable names:\n",
    "* `a`\n",
    "* `a_name123`\n",
    "* `_Some_STRING`\n",
    "\n",
    "And here are some illegal local variable names:\n",
    "* `A`\n",
    "* `A_name`\n",
    "* `1_a`\n",
    "\n",
    "\n",
    "The second kind of variables are free variables. Free variables do not hold any value and are used to define relations inside [queries](#queries) and [rules](#rules). Free variables do not need to be declared or defined before being used.\n",
    "\n",
    "A free variable name must begin with an uppercase letter and can be continued with letters, digits and underscores\n",
    "\n",
    "Here are some examples for legal free variable names:\n",
    "* `A`\n",
    "* `A_name`\n",
    "\n",
    "And here are some illegal free variable names:\n",
    "* `a`\n",
    "* `a_name`\n",
    "* `_Some_STRING`\n",
    "* `1A`\n"
   ]
  },
  {
   "cell_type": "markdown",
   "metadata": {},
   "source": [
    "# Local variable assignment<a class=\"anchor\" id=\"local_var_assignment\"></a>\n",
    "RGXLog allows you to use three types of variables: strings, integers and spans.\n",
    "The assignment of a string is intuitive:"
   ]
  },
  {
   "cell_type": "code",
   "execution_count": null,
   "metadata": {},
   "outputs": [],
   "source": [
    "%%spanner\n",
    "b = \"bob\"\n",
    "b2 = b # b2's value is \"bob\"\n",
    "# you can write multiline strings using a line overflow escape like in python\n",
    "b3 = \"this is a multiline  \\\n",
    "string\"\n",
    "b4 = \"this is a multiline string\" # b4 holds the same value as b3"
   ]
  },
  {
   "cell_type": "markdown",
   "metadata": {},
   "source": [
    "The assignment of integers is also very simple:"
   ]
  },
  {
   "cell_type": "code",
   "execution_count": null,
   "metadata": {},
   "outputs": [],
   "source": [
    "%%spanner\n",
    "n = 4\n",
    "n2 = n # n2 = 4"
   ]
  },
  {
   "cell_type": "markdown",
   "metadata": {},
   "source": [
    " A span identifies a substring of a string by specifying its bounding indices. It is constructed from two integers.\n",
    " You can assign a span value like this:"
   ]
  },
  {
   "cell_type": "code",
   "execution_count": null,
   "metadata": {},
   "outputs": [],
   "source": [
    "%%spanner\n",
    "span1 = [3,7)\n",
    "span2 = span1 # span2 value is [3,7)"
   ]
  },
  {
   "cell_type": "markdown",
   "metadata": {},
   "source": [
    "# Reading from a file<a class=\"anchor\" id=\"read_a_file\"></a>\n",
    "You can also perform a string assignment by reading from a file. You will need to provide a path to a file by either using a string literal or a string variable:"
   ]
  },
  {
   "cell_type": "code",
   "execution_count": null,
   "metadata": {},
   "outputs": [],
   "source": [
    "%%spanner\n",
    "a = read(\"path/to/file\")\n",
    "b = \"path/to/file\" \n",
    "c = read(b) # c holds the same string value as a"
   ]
  },
  {
   "cell_type": "markdown",
   "metadata": {},
   "source": [
    "# Declaring a relation<a class=\"anchor\" id=\"declare_relations\"></a>\n",
    "RGXLog allows you to define and query relations.\n",
    "You have to declare a relation before you can use it (unless you define it with a rule as we'll see in the \"rules\" chapter). Each term in a relation could be a string, an integer or a span. Here are some examples for declaring relations:"
   ]
  },
  {
   "cell_type": "code",
   "execution_count": null,
   "metadata": {},
   "outputs": [],
   "source": [
    "%%spanner\n",
    "# 'brothers' is a relation with two string terms.\n",
    "new brothers(str, str)\n",
    "# 'confused' is a relation with one string term.\n",
    "new confused(str)\n",
    "# 'animal' is a relation with one string term and one span term \n",
    "new animal(str, spn)\n",
    "# 'scores' is a relation with one string term and one int term\n",
    "new scores(str, int)"
   ]
  },
  {
   "cell_type": "markdown",
   "metadata": {},
   "source": [
    "# Facts<a class=\"anchor\" id=\"facts\"></a>\n",
    "RGXLog is an extension of Datalog, a declarative logic programming language. In Datalog you can declare \"facts\", essentially adding tuples to a relation. To do it you use the following syntax:\n",
    "\n",
    "```\n",
    "relation_name(term_1,term_2,...term_3)\n",
    "```\n",
    "\n",
    "or\n",
    "\n",
    "```\n",
    "relation_name(term_1,term_2,...term_3) <- True\n",
    "```\n",
    "\n",
    "where each `term` is either a constant or a local variable that is from the same variable type that was declared for `relation_name` at the same location.\n",
    "\n",
    "For example:"
   ]
  },
  {
   "cell_type": "code",
   "execution_count": null,
   "metadata": {},
   "outputs": [],
   "source": [
    "%%spanner\n",
    "# first declare the relation that you want to use\n",
    "new noun(str, spn)\n",
    "# now you can add facts (tuples) to that relation\n",
    "# this span indicates that a noun \"Life\" can be found at indexes 0 to 3\n",
    "noun(\"Life finds a way\", [0,4)) \n",
    "# another example\n",
    "new sisters(str, str)\n",
    "sisters(\"alice\", \"rin\") <- True\n",
    "# sisters([0,4), \"rin\") # illegal as [0,4) is not a string"
   ]
  },
  {
   "cell_type": "markdown",
   "metadata": {},
   "source": [
    "You could also remove a fact using a similar syntax:\n",
    "\n",
    "```\n",
    "relation_name(term_1,term_2,...term_3) <- False\n",
    "```\n",
    "\n",
    "if a fact that you try to remove does not exist, the remove fact statement will be silently ignored\n"
   ]
  },
  {
   "cell_type": "code",
   "execution_count": null,
   "metadata": {},
   "outputs": [],
   "source": [
    "%%spanner\n",
    "new goals(str, int)\n",
    "goals(\"kronovi\", 10)\n",
    "goals(\"kronovi\", 10) <- False  # 'goals' relation is now empty\n",
    "goals(\"kronovi\", 10) <- False  # this statement does nothing"
   ]
  },
  {
   "cell_type": "markdown",
   "metadata": {},
   "source": [
    "# Rules<a class=\"anchor\" id=\"rules\"></a>\n",
    "Datalog allows you to deduce new tuples for a relation.\n",
    "RGXLog includes this feature as well:"
   ]
  },
  {
   "cell_type": "code",
   "execution_count": null,
   "metadata": {},
   "outputs": [],
   "source": [
    "%%spanner\n",
    "new parent(str ,str)\n",
    "parent(\"bob\", \"greg\")\n",
    "parent(\"greg\", \"alice\")\n",
    "# now add a rule that deduces that bob is a grandparent of alice\n",
    "grandparent(X,Z) <- parent(X,Y), parent(Y,Z) # ',' is a short hand to the 'and' operator"
   ]
  },
  {
   "cell_type": "markdown",
   "metadata": {},
   "source": [
    "# Queries<a class=\"anchor\" id=\"queries\"></a>\n",
    "Querying is very simple in RGXLog. You can query by using constant values, local variables and free variables:"
   ]
  },
  {
   "cell_type": "code",
   "execution_count": 5,
   "metadata": {
    "pycharm": {
     "name": "#%%\n"
    }
   },
   "outputs": [
    {
     "name": "stdout",
     "output_type": "stream",
     "text": [
      "printing results for query 'grandfather(\"bob\", \"alice\")':\n",
      "[()]\n",
      "\n",
      "printing results for query 'grandfather(\"edward\", \"alice\")':\n",
      "[]\n",
      "\n",
      "printing results for query 'grandfather(\"george\", X)':\n",
      "   X\n",
      "-------\n",
      "  rin\n",
      " alice\n",
      "\n",
      "printing results for query 'grandfather(X, \"rin\")':\n",
      "   X\n",
      "--------\n",
      " george\n",
      "  bob\n",
      "\n",
      "printing results for query 'grandfather(X, Y)':\n",
      "   X    |   Y\n",
      "--------+-------\n",
      " edward | john\n",
      " george |  rin\n",
      " george | alice\n",
      "  bob   |  rin\n",
      "  bob   | alice\n",
      "\n",
      "printing results for query 'verb(\"Ron eats quickly.\", X)':\n",
      "   X\n",
      "--------\n",
      " [4, 8)\n",
      "\n",
      "printing results for query 'verb(X, [4, 9))':\n",
      "         X\n",
      "-------------------\n",
      " You write neatly.\n",
      "\n",
      "printing results for query 'orders(X, 4)':\n",
      "   X\n",
      "-------\n",
      " pizza\n",
      "  pie\n",
      "\n"
     ]
    }
   ],
   "source": [
    "%%spanner\n",
    "# first create a relation with some facts for the example\n",
    "new grandfather(str, str)\n",
    "# bob and george are the grandfathers of alice and rin\n",
    "grandfather(\"bob\", \"alice\")\n",
    "grandfather(\"bob\", \"rin\")\n",
    "grandfather(\"george\", \"alice\")\n",
    "grandfather(\"george\", \"rin\")\n",
    "# edward is the grandfather of john\n",
    "grandfather(\"edward\", \"john\")\n",
    "\n",
    "# now for the queries\n",
    "?grandfather(\"bob\", \"alice\") # returns an empty tuple () as alice is bob's grandchild\n",
    "?grandfather(\"edward\", \"alice\") # returns nothing as alice is not edward's grandchild\n",
    "?grandfather(\"george\", X) # returns \"rin\" and \"alice\" as both rin\n",
    "# and alice are george's grandchildren\n",
    "?grandfather(X, \"rin\") # returns \"bob\" and \"george\" (rin's grandfathers)\n",
    "?grandfather(X, Y) # returns all the tuples in the 'grandfather' relation\n",
    "\n",
    "new verb(str, spn)\n",
    "verb(\"Ron eats quickly.\", [4,8))\n",
    "verb(\"You write neatly.\", [4,9))\n",
    "?verb(\"Ron eats quickly.\", X) # returns [4,8)\n",
    "?verb(X,[4,9)) # returns \"You write neatly.\"\n",
    "         \n",
    "new orders(str, int)\n",
    "orders(\"pie\", 4)\n",
    "orders(\"pizza\", 4)\n",
    "orders(\"cake\", 0)\n",
    "?orders(X, 4) # retutns \"pie\" and \"pizza\"         "
   ]
  },
  {
   "cell_type": "markdown",
   "metadata": {
    "pycharm": {
     "name": "#%% md\n"
    }
   },
   "source": [
    "You may have noticed that the query\n",
    "\n",
    "```\n",
    "?grandfather(\"bob\", \"alice\")\n",
    "```\n",
    "\n",
    "returns an empty tuple. This is because of the fact that bob is alice's grandfather is true,\n",
    "but we did not use any free variables to construct the tuple of the query's relation, that is why we get a single empty tuple as a result\n",
    "\n",
    "A good example for using free variables to construct a relation is the query:\n",
    "\n",
    "```\n",
    "?grandfather(\"george\", X)\n",
    "```\n",
    "\n",
    "which finds all of george's grandchildren (`X`) and constructs a tuple for each one."
   ]
  },
  {
   "cell_type": "markdown",
   "metadata": {
    "pycharm": {
     "name": "#%% md\n"
    }
   },
   "source": [
    "# Functional regex formulas<a class=\"anchor\" id=\"RGX_ie\"></a>\n",
    "RGXLog supports information extraction using a regular expressions and named capture groups (for now in rule bodies only).\n",
    "You will first need to define a string variable either by using a literal or a load from a file, and then you can use the following syntax in a rule body:\n",
    "\n",
    "```\n",
    "RGX(regex_input ,regex_formula)->(x_1, x_2, ...,x_n)\n",
    "```\n",
    "\n",
    "or\n",
    "\n",
    "```\n",
    "RGXString(regex_input ,regex_formula)->(x_1, x_2, ...,x_n)\n",
    "```\n",
    "\n",
    "where:\n",
    "* `regex_input` is the string that the regex operation will be performed on\n",
    "* `regex_formula` is either a string literal or a string variable that represents your regular expression.\n",
    "* `x_1`, `x_2`, ... `x_n` can be either constant terms or free variable terms. They're used to construct the tuples of the resulting relation. the number of terms has to be the same as the number of capture groups used in `regex_formula`. If not capture groups are used, then each returned tuple includes a single, whole regex match, so only one term should be used.\n",
    "\n",
    "The only difference between the 'RGX' and 'RGXString' ie functions, is that RGX returns spans while RGXString returns strings. This also means that if you want to use constant terms as return values, they have to be spans if you use 'RGX', or strings if you use 'RGXString'\n",
    "\n",
    "For example:"
   ]
  },
  {
   "cell_type": "code",
   "execution_count": null,
   "metadata": {},
   "outputs": [],
   "source": [
    "%%spanner\n",
    "report = \"In 2019 we earned 2000 EUR\"\n",
    "annual_earning(Year,Amount) <- RGXString(report,\"(\\d\\d\\d\\d).*?(\\d+)\")->(Year,Amount)\n",
    "?annual_earning(X,Y) # returns (\"2019\", \"2000\")"
   ]
  },
  {
   "cell_type": "markdown",
   "metadata": {},
   "source": [
    "# Custom information extractors<a class=\"anchor\" id=\"custom_ie\"></a>\n",
    "RGXLog allows you to define and use your own information extractors. You can use them only in rule bodies in the current version. The following is the syntax for custom information extractors:\n",
    "\n",
    "```\n",
    "func(term_1,term_2,...term_n)->(x_1, x_2, ..., x_n)\n",
    "```\n",
    "\n",
    "where:\n",
    "* `func` is a IE function that was previously defined and registered (see the 'advanced_usage' tutorial)\n",
    "* `term_1`,`term_2`,...,`term_n` are the parameters for func\n",
    "* `x_1`, ... `x_n` could be any type of terms, and are used to construct tuples of the resulting relation\n",
    "\n",
    "For example:"
   ]
  },
  {
   "cell_type": "code",
   "execution_count": null,
   "metadata": {},
   "outputs": [],
   "source": [
    "%%spanner\n",
    "new grandmother(str, str)\n",
    "grandmother(\"rin\", \"alice\")\n",
    "grandmother(\"denna\", \"joel\")\n",
    "sentence = \"rin is happy, denna is sad.\"\n",
    "# note that this statement will fail as 'get_happy' is not registered as an ie_function\n",
    "happy_grandmother(X) <- grandmother(X,Z),get_happy(sentence)->(X)\n",
    "?happy_grandmother(X) # assuming get_happy returned \"rin\", also returns \"rin\""
   ]
  },
  {
   "cell_type": "markdown",
   "metadata": {
    "pycharm": {
     "name": "#%% md\n"
    }
   },
   "source": [
    "# Additional small features<a class=\"anchor\" id=\"small_features\"></a>\n",
    "You can use line overflow escapes if you want to split your statements into multiple lines"
   ]
  },
  {
   "cell_type": "code",
   "execution_count": null,
   "metadata": {
    "pycharm": {
     "name": "#%%\n"
    }
   },
   "outputs": [],
   "source": [
    "%%spanner\n",
    "k \\\n",
    "= \"some \\\n",
    "string\""
   ]
  },
  {
   "cell_type": "markdown",
   "metadata": {},
   "source": [
    "# RGXLog program example<a class=\"anchor\" id=\"example_program\"></a>"
   ]
  },
  {
   "cell_type": "code",
   "execution_count": 3,
   "metadata": {},
   "outputs": [
    {
     "name": "stdout",
     "output_type": "stream",
     "text": [
      "printing results for query 'enrolled_in_chemistry(\"jordan\")':\n",
      "[()]\n",
      "\n",
      "printing results for query 'enrolled_in_chemistry(\"gale\")':\n",
      "[]\n",
      "\n",
      "printing results for query 'enrolled_in_chemistry(X)':\n",
      "    X\n",
      "---------\n",
      " jordan\n",
      " howard\n",
      " abigail\n",
      "\n",
      "printing results for query 'enrolled_in_physics_and_chemistry(X)':\n",
      "   X\n",
      "--------\n",
      " howard\n",
      "\n",
      "printing results for query 'lecturer_of(X, \"abigail\")':\n",
      "   X\n",
      "--------\n",
      " linus\n",
      " walter\n",
      "\n",
      "printing results for query 'gpa_of_chemistry_students(X, \"100\")':\n",
      "    X\n",
      "---------\n",
      " abigail\n",
      "\n"
     ]
    }
   ],
   "source": [
    "%%spanner\n",
    "new lecturer(str, str)\n",
    "lecturer(\"walter\", \"chemistry\")\n",
    "lecturer(\"linus\", \"operation systems\")\n",
    "lecturer(\"rick\", \"physics\")\n",
    "\n",
    "new enrolled(str, str)\n",
    "enrolled(\"abigail\", \"chemistry\")\n",
    "enrolled(\"abigail\", \"operation systems\")\n",
    "enrolled(\"jordan\", \"chemistry\")\n",
    "enrolled(\"gale\", \"operation systems\")\n",
    "enrolled(\"howard\", \"chemistry\")\n",
    "enrolled(\"howard\", \"physics\")\n",
    "\n",
    "enrolled_in_chemistry(X) <- enrolled(X, \"chemistry\")\n",
    "?enrolled_in_chemistry(\"jordan\") # returns empty tuple ()\n",
    "?enrolled_in_chemistry(\"gale\") # returns nothing\n",
    "?enrolled_in_chemistry(X) # returns \"abigail\", \"jordan\" and \"howard\"\n",
    "\n",
    "enrolled_in_physics_and_chemistry(X) <- enrolled(X, \"chemistry\"), enrolled(X, \"physics\")\n",
    "?enrolled_in_physics_and_chemistry(X) # returns \"howard\"\n",
    "\n",
    "lecturer_of(X,Z) <- lecturer(X,Y), enrolled(Z,Y)\n",
    "?lecturer_of(X,\"abigail\") # returns \"walter\" and \"linus\"\n",
    "\n",
    "gpa_str = \"abigail 100 jordan 80 gale 79 howard 60\"\n",
    "gpa_of_chemistry_students(Student, Grade) <- \\\n",
    "RGXString(gpa_str, \"(\\w+).*?(\\d+)\")->(Student, Grade), enrolled_in_chemistry(Student)\n",
    "?gpa_of_chemistry_students(X, \"100\") # returns \"abigail\""
   ]
  },
  {
   "cell_type": "code",
   "execution_count": null,
   "metadata": {},
   "outputs": [],
   "source": []
  }
 ],
 "metadata": {
  "kernelspec": {
   "display_name": "bench",
   "language": "python",
   "name": "bench"
  },
  "language_info": {
   "codemirror_mode": {
    "name": "ipython",
    "version": 3
   },
   "file_extension": ".py",
   "mimetype": "text/x-python",
   "name": "python",
   "nbconvert_exporter": "python",
   "pygments_lexer": "ipython3",
   "version": "3.8.5"
  },
  "pycharm": {
   "stem_cell": {
    "cell_type": "raw",
    "metadata": {
     "collapsed": false
    },
    "source": []
   }
  }
 },
 "nbformat": 4,
 "nbformat_minor": 4
}
